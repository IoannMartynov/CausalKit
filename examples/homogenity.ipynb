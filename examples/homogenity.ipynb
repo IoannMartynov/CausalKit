{
 "cells": [
  {
   "cell_type": "code",
   "id": "initial_id",
   "metadata": {
    "collapsed": true,
    "ExecuteTime": {
     "end_time": "2025-07-08T08:36:18.030769Z",
     "start_time": "2025-07-08T08:36:18.014886Z"
    }
   },
   "source": [
    "import numpy as np\n",
    "import pandas as pd\n",
    "import scipy.stats as stats\n",
    "\n",
    "# --- Synthetic data to illustrate a homogeneity (balance) check ---\n",
    "np.random.seed(1)\n",
    "n = 10_000\n",
    "\n",
    "# 50/50 random assignment (ideal). Feel free to tweak the p vector to force an SRM.\n",
    "variant = np.random.choice([\"A\", \"B\"], size=n, p=[0.5, 0.5])\n",
    "\n",
    "# Pretend these are important pre‑experiment covariates\n",
    "age = np.random.normal(loc=35, scale=10, size=n)          # Numeric\n",
    "age[variant == \"B\"] += 1                                   # small imbalance\n",
    "\n",
    "premium = np.random.binomial(1, p=np.where(variant == \"A\", 0.30, 0.32), size=n)  # Binary\n",
    "baseline_metric = np.random.poisson(lam=np.where(variant == \"A\", 5, 5.1), size=n)  # Count\n",
    "\n",
    "df = pd.DataFrame({\n",
    "    \"variant\": variant,\n",
    "    \"age\": age,\n",
    "    \"premium_user\": premium,\n",
    "    \"baseline_metric\": baseline_metric\n",
    "})\n",
    "\n",
    "# 1) Sample‑Ratio‑Mismatch (SRM) — chi‑squared test on counts\n",
    "counts = df[\"variant\"].value_counts().reindex([\"A\", \"B\"])\n",
    "chi2_srm, p_srm = stats.chisquare(f_obs=counts, f_exp=[n/2, n/2])\n",
    "\n",
    "# 2) Covariate balance — Standardized Mean Difference (SMD) + p‑values\n",
    "rows = []\n",
    "for col in [\"age\", \"premium_user\", \"baseline_metric\"]:\n",
    "    A = df.loc[df.variant == \"A\", col]\n",
    "    B = df.loc[df.variant == \"B\", col]\n",
    "\n",
    "    # SMD (always on the pooled SD to keep scale‑free)\n",
    "    smd = (A.mean() - B.mean()) / np.sqrt((A.var(ddof=1) + B.var(ddof=1)) / 2)\n",
    "\n",
    "    # Quick frequentist test — Welch's t for numeric, chi‑square for binary\n",
    "    if col == \"premium_user\":\n",
    "        contingency = np.array([[A.sum(), len(A) - A.sum()],\n",
    "                                [B.sum(), len(B) - B.sum()]])\n",
    "        chi2, p = stats.chi2_contingency(contingency, correction=False)[:2]\n",
    "    else:\n",
    "        t, p = stats.ttest_ind(A, B, equal_var=False)\n",
    "\n",
    "    rows.append({\n",
    "        \"covariate\": col,\n",
    "        \"mean_A\": round(A.mean(), 3),\n",
    "        \"mean_B\": round(B.mean(), 3),\n",
    "        \"SMD\": round(smd, 3),\n",
    "        \"p_value\": round(p, 4)\n",
    "    })\n",
    "\n",
    "report = pd.DataFrame(rows)\n",
    "\n",
    "print(f\"SRM check — p‑value = {p_srm:.4f}\")\n"
   ],
   "outputs": [
    {
     "name": "stdout",
     "output_type": "stream",
     "text": [
      "SRM check — p‑value = 0.8415\n"
     ]
    }
   ],
   "execution_count": 3
  },
  {
   "metadata": {
    "ExecuteTime": {
     "end_time": "2025-07-08T08:36:53.957540Z",
     "start_time": "2025-07-08T08:36:53.952161Z"
    }
   },
   "cell_type": "code",
   "source": "report",
   "id": "897f79b4c138ed25",
   "outputs": [
    {
     "data": {
      "text/plain": [
       "         covariate  mean_A  mean_B    SMD  p_value\n",
       "0              age  35.171  36.150 -0.098   0.0000\n",
       "1     premium_user   0.298   0.321 -0.050   0.0123\n",
       "2  baseline_metric   4.976   5.035 -0.026   0.1880"
      ],
      "text/html": [
       "<div>\n",
       "<style scoped>\n",
       "    .dataframe tbody tr th:only-of-type {\n",
       "        vertical-align: middle;\n",
       "    }\n",
       "\n",
       "    .dataframe tbody tr th {\n",
       "        vertical-align: top;\n",
       "    }\n",
       "\n",
       "    .dataframe thead th {\n",
       "        text-align: right;\n",
       "    }\n",
       "</style>\n",
       "<table border=\"1\" class=\"dataframe\">\n",
       "  <thead>\n",
       "    <tr style=\"text-align: right;\">\n",
       "      <th></th>\n",
       "      <th>covariate</th>\n",
       "      <th>mean_A</th>\n",
       "      <th>mean_B</th>\n",
       "      <th>SMD</th>\n",
       "      <th>p_value</th>\n",
       "    </tr>\n",
       "  </thead>\n",
       "  <tbody>\n",
       "    <tr>\n",
       "      <th>0</th>\n",
       "      <td>age</td>\n",
       "      <td>35.171</td>\n",
       "      <td>36.150</td>\n",
       "      <td>-0.098</td>\n",
       "      <td>0.0000</td>\n",
       "    </tr>\n",
       "    <tr>\n",
       "      <th>1</th>\n",
       "      <td>premium_user</td>\n",
       "      <td>0.298</td>\n",
       "      <td>0.321</td>\n",
       "      <td>-0.050</td>\n",
       "      <td>0.0123</td>\n",
       "    </tr>\n",
       "    <tr>\n",
       "      <th>2</th>\n",
       "      <td>baseline_metric</td>\n",
       "      <td>4.976</td>\n",
       "      <td>5.035</td>\n",
       "      <td>-0.026</td>\n",
       "      <td>0.1880</td>\n",
       "    </tr>\n",
       "  </tbody>\n",
       "</table>\n",
       "</div>"
      ]
     },
     "execution_count": 4,
     "metadata": {},
     "output_type": "execute_result"
    }
   ],
   "execution_count": 4
  },
  {
   "metadata": {},
   "cell_type": "code",
   "outputs": [],
   "execution_count": null,
   "source": "",
   "id": "64882d229868c541"
  }
 ],
 "metadata": {
  "kernelspec": {
   "display_name": "Python 3",
   "language": "python",
   "name": "python3"
  },
  "language_info": {
   "codemirror_mode": {
    "name": "ipython",
    "version": 2
   },
   "file_extension": ".py",
   "mimetype": "text/x-python",
   "name": "python",
   "nbconvert_exporter": "python",
   "pygments_lexer": "ipython2",
   "version": "2.7.6"
  }
 },
 "nbformat": 4,
 "nbformat_minor": 5
}
