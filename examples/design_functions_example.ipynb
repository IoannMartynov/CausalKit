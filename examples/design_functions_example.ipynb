{
 "cells": [
  {
   "metadata": {},
   "cell_type": "markdown",
   "source": [
    "# CausalKit Design Module Examples\n",
    "\n",
    "This notebook demonstrates how to use the functions in the `causalkit.design` module. The design module provides tools for:\n",
    "\n",
    "1. **Traffic splitting** for A/B testing and experimentation\n",
    "2. **Minimum Detectable Effect (MDE) calculation** for experimental design\n",
    "\n",
    "We'll explore both of these capabilities with practical examples.\n"
   ],
   "id": "a00e55e5e4ae5e2e"
  },
  {
   "metadata": {},
   "cell_type": "markdown",
   "source": [
    "## 1. Traffic Splitting\n",
    "\n",
    "The `split_traffic` function provides a flexible way to split traffic (users, sessions, etc.) for A/B testing and experimentation. It supports:\n",
    "\n",
    "- Simple random splits with customizable ratios\n",
    "- Multiple variants (A/B/C/...)\n",
    "- Stratified splitting to maintain balanced distributions of important variables\n",
    "- Reproducible results with random state control\n",
    "\n",
    "Let's explore how to use this function.\n"
   ],
   "id": "bf20a32eb7066969"
  },
  {
   "metadata": {},
   "cell_type": "code",
   "outputs": [],
   "execution_count": null,
   "source": [
    "# Import necessary libraries\n",
    "import pandas as pd\n",
    "import numpy as np\n",
    "import matplotlib.pyplot as plt\n",
    "import seaborn as sns\n",
    "\n",
    "# Set plotting style\n",
    "sns.set_style('whitegrid')\n",
    "\n",
    "# Import the split_traffic function\n",
    "from causalkit.design import split_traffic\n"
   ],
   "id": "a05ce9897bc07a8a"
  },
  {
   "metadata": {},
   "cell_type": "markdown",
   "source": [
    "### 1.1 Creating Sample Data\n",
    "\n",
    "First, let's create a sample dataset representing user traffic:\n"
   ],
   "id": "42cdced18bb968fa"
  },
  {
   "metadata": {},
   "cell_type": "code",
   "outputs": [],
   "execution_count": null,
   "source": [
    "# Set random seed for reproducibility\n",
    "np.random.seed(42)\n",
    "n_users = 1000\n",
    "\n",
    "# Generate synthetic user data\n",
    "user_data = {\n",
    "    'user_id': range(1, n_users + 1),\n",
    "    'age_group': np.random.choice(['18-24', '25-34', '35-44', '45+'], size=n_users),\n",
    "    'country': np.random.choice(['US', 'UK', 'CA', 'AU', 'DE'], size=n_users, \n",
    "                               p=[0.4, 0.2, 0.2, 0.1, 0.1]),\n",
    "    'device': np.random.choice(['mobile', 'desktop', 'tablet'], size=n_users,\n",
    "                              p=[0.6, 0.3, 0.1]),\n",
    "    'past_purchases': np.random.poisson(2, size=n_users)\n",
    "}\n",
    "\n",
    "df = pd.DataFrame(user_data)\n",
    "\n",
    "# Display the first few rows of the dataset\n",
    "print(f\"Total users: {len(df)}\")\n",
    "df.head()\n"
   ],
   "id": "96e4ec50aadd328a"
  },
  {
   "metadata": {},
   "cell_type": "markdown",
   "source": [
    "### 1.2 Simple Random Split (50/50)\n",
    "\n",
    "The most basic use case is to split traffic into two groups: control and treatment, with an equal 50/50 split.\n"
   ],
   "id": "3bd5985b64756648"
  },
  {
   "metadata": {},
   "cell_type": "code",
   "outputs": [],
   "execution_count": null,
   "source": [
    "# Split the data into control and treatment groups\n",
    "control_df, treatment_df = split_traffic(df, random_state=123)\n",
    "\n",
    "print(f\"Control group size: {len(control_df)}\")\n",
    "print(f\"Treatment group size: {len(treatment_df)}\")\n",
    "\n",
    "# Verify that all users are accounted for\n",
    "print(f\"Total users after split: {len(control_df) + len(treatment_df)}\")\n",
    "print(f\"Original total users: {len(df)}\")\n"
   ],
   "id": "8526281c6b339409"
  },
  {
   "metadata": {},
   "cell_type": "code",
   "outputs": [],
   "execution_count": null,
   "source": [
    "# Visualize the split\n",
    "plt.figure(figsize=(8, 6))\n",
    "plt.pie([len(control_df), len(treatment_df)], \n",
    "        labels=['Control', 'Treatment'],\n",
    "        autopct='%1.1f%%',\n",
    "        colors=['#66b3ff', '#ff9999'],\n",
    "        startangle=90)\n",
    "plt.axis('equal')\n",
    "plt.title('50/50 Traffic Split')\n",
    "plt.show()\n"
   ],
   "id": "fa05c2629d64e319"
  },
  {
   "metadata": {},
   "cell_type": "markdown",
   "source": [
    "### 1.3 Uneven Split (80/20)\n",
    "\n",
    "Sometimes you might want to allocate more traffic to one group than the other. For example, you might want to expose only 20% of your users to a new feature.\n"
   ],
   "id": "2e6febda597112af"
  },
  {
   "metadata": {},
   "cell_type": "code",
   "outputs": [],
   "execution_count": null,
   "source": [
    "# Split with 80% in control group and 20% in treatment group\n",
    "control_df, treatment_df = split_traffic(df, split_ratio=0.8, random_state=123)\n",
    "\n",
    "print(f\"Control group size: {len(control_df)}\")\n",
    "print(f\"Treatment group size: {len(treatment_df)}\")\n"
   ],
   "id": "334b65dd540d2d46"
  },
  {
   "metadata": {},
   "cell_type": "code",
   "outputs": [],
   "execution_count": null,
   "source": [
    "# Visualize the split\n",
    "plt.figure(figsize=(8, 6))\n",
    "plt.pie([len(control_df), len(treatment_df)], \n",
    "        labels=['Control (80%)', 'Treatment (20%)'],\n",
    "        autopct='%1.1f%%',\n",
    "        colors=['#66b3ff', '#ff9999'],\n",
    "        startangle=90)\n",
    "plt.axis('equal')\n",
    "plt.title('80/20 Traffic Split')\n",
    "plt.show()\n"
   ],
   "id": "885b4b91412db027"
  },
  {
   "metadata": {},
   "cell_type": "markdown",
   "source": [
    "### 1.4 Multiple Variants (A/B/C Test)\n",
    "\n",
    "You can also split traffic into more than two groups, which is useful for testing multiple variants.\n"
   ],
   "id": "ebbfbf4487decf95"
  },
  {
   "metadata": {},
   "cell_type": "code",
   "outputs": [],
   "execution_count": null,
   "source": [
    "# Split into three groups: control (40%), variant B (30%), variant C (30%)\n",
    "control_df, variant_b_df, variant_c_df = split_traffic(\n",
    "    df, split_ratio=[0.4, 0.3], random_state=123\n",
    ")\n",
    "\n",
    "print(f\"Control group size: {len(control_df)}\")\n",
    "print(f\"Variant B group size: {len(variant_b_df)}\")\n",
    "print(f\"Variant C group size: {len(variant_c_df)}\")\n"
   ],
   "id": "af5092d45a514e35"
  },
  {
   "metadata": {},
   "cell_type": "code",
   "outputs": [],
   "execution_count": null,
   "source": [
    "# Visualize the split\n",
    "plt.figure(figsize=(8, 6))\n",
    "plt.pie([len(control_df), len(variant_b_df), len(variant_c_df)], \n",
    "        labels=['Control (40%)', 'Variant B (30%)', 'Variant C (30%)'],\n",
    "        autopct='%1.1f%%',\n",
    "        colors=['#66b3ff', '#ff9999', '#99ff99'],\n",
    "        startangle=90)\n",
    "plt.axis('equal')\n",
    "plt.title('Multiple Variants Split')\n",
    "plt.show()\n"
   ],
   "id": "494bb26ad4a9e176"
  },
  {
   "metadata": {},
   "cell_type": "markdown",
   "source": [
    "### 1.5 Stratified Split\n",
    "\n",
    "When certain variables are important for your analysis, you might want to ensure that they have the same distribution in all groups. This is where stratified splitting comes in.\n"
   ],
   "id": "e91057121ca16e8"
  },
  {
   "metadata": {},
   "cell_type": "code",
   "outputs": [],
   "execution_count": null,
   "source": [
    "# Stratified split by country\n",
    "control_df, treatment_df = split_traffic(\n",
    "    df, split_ratio=0.5, stratify_column='country', random_state=123\n",
    ")\n",
    "\n",
    "# Compare country distributions\n",
    "country_control = control_df['country'].value_counts(normalize=True)\n",
    "country_treatment = treatment_df['country'].value_counts(normalize=True)\n",
    "\n",
    "# Create a DataFrame for comparison\n",
    "country_comparison = pd.DataFrame({\n",
    "    'Control': country_control,\n",
    "    'Treatment': country_treatment\n",
    "}).reset_index().rename(columns={'index': 'Country'})\n",
    "\n",
    "print(\"Country distribution comparison:\")\n",
    "print(country_comparison)\n"
   ],
   "id": "3a56452540b64d64"
  },
  {
   "metadata": {},
   "cell_type": "code",
   "outputs": [],
   "execution_count": null,
   "source": [
    "# Visualize the country distribution in both groups\n",
    "plt.figure(figsize=(10, 6))\n",
    "country_comparison_melted = pd.melt(\n",
    "    country_comparison, \n",
    "    id_vars=['Country'], \n",
    "    value_vars=['Control', 'Treatment'],\n",
    "    var_name='Group', \n",
    "    value_name='Proportion'\n",
    ")\n",
    "sns.barplot(x='Country', y='Proportion', hue='Group', data=country_comparison_melted)\n",
    "plt.title('Country Distribution: Control vs Treatment')\n",
    "plt.xlabel('Country')\n",
    "plt.ylabel('Proportion')\n",
    "plt.legend(title='Group')\n",
    "plt.show()\n"
   ],
   "id": "e38b6f3574c80672"
  },
  {
   "metadata": {},
   "cell_type": "markdown",
   "source": [
    "## 2. Minimum Detectable Effect (MDE) Calculation\n",
    "\n",
    "The `calculate_mde` function helps determine the smallest effect size that can be reliably detected in an experiment given the sample size and other parameters. This is crucial for experimental design to ensure that experiments have sufficient statistical power.\n"
   ],
   "id": "9bf864037016060f"
  },
  {
   "metadata": {},
   "cell_type": "code",
   "outputs": [],
   "execution_count": null,
   "source": [
    "# Import the calculate_mde function\n",
    "from causalkit.design import calculate_mde\n"
   ],
   "id": "c48045843211fa58"
  },
  {
   "metadata": {},
   "cell_type": "markdown",
   "source": [
    "### 2.1 MDE for Conversion Data\n",
    "\n",
    "Conversion data refers to binary outcomes (e.g., whether a user converted or not). Let's calculate the MDE for a conversion experiment:\n"
   ],
   "id": "ba85d03eb6e19520"
  },
  {
   "metadata": {},
   "cell_type": "code",
   "outputs": [],
   "execution_count": null,
   "source": [
    "# Calculate MDE for conversion data\n",
    "result_conv = calculate_mde(\n",
    "    sample_size=1000,          # Total sample size\n",
    "    baseline_rate=0.1,         # Baseline conversion rate (10%)\n",
    "    data_type='conversion'     # Data type\n",
    ")\n",
    "\n",
    "print(f\"MDE (absolute): {result_conv['mde']:.4f}\")\n",
    "print(f\"MDE (relative): {result_conv['mde_relative']:.4f} or {result_conv['mde_relative']*100:.2f}%\")\n",
    "print(\"Parameters used:\")\n",
    "for key, value in result_conv['parameters'].items():\n",
    "    print(f\"  {key}: {value}\")\n"
   ],
   "id": "f88e9e7af8be41a3"
  },
  {
   "metadata": {},
   "cell_type": "markdown",
   "source": [
    "The absolute MDE represents the minimum detectable difference in conversion rates between the control and treatment groups. The relative MDE expresses this difference as a percentage of the baseline rate.\n",
    "\n",
    "For example, with a baseline conversion rate of 10% and an absolute MDE of around 0.053, we can reliably detect a change that increases the conversion rate to at least 15.3% (10% + 5.3%) or decreases it to at most 4.7% (10% - 5.3%).\n"
   ],
   "id": "ff7aad32c773ff58"
  },
  {
   "metadata": {},
   "cell_type": "markdown",
   "source": [
    "### 2.2 MDE for Continuous Data\n",
    "\n",
    "Continuous data refers to numeric outcomes with a range of possible values (e.g., revenue, time spent). Let's calculate the MDE for a continuous experiment:\n"
   ],
   "id": "4889fe3ea4387e2d"
  },
  {
   "metadata": {},
   "cell_type": "code",
   "outputs": [],
   "execution_count": null,
   "source": [
    "# Calculate MDE for continuous data\n",
    "result_cont = calculate_mde(\n",
    "    sample_size=(500, 500),    # 500 users in each group\n",
    "    variance=4,                # Variance of the data\n",
    "    baseline_rate=10,          # Baseline mean (optional for continuous data)\n",
    "    data_type='continuous'     # Data type\n",
    ")\n",
    "\n",
    "print(f\"MDE (absolute): {result_cont['mde']:.4f}\")\n",
    "print(f\"MDE (relative): {result_cont['mde_relative']:.4f} or {result_cont['mde_relative']*100:.2f}%\")\n",
    "print(\"Parameters used:\")\n",
    "for key, value in result_cont['parameters'].items():\n",
    "    if key == 'variance':\n",
    "        print(f\"  {key}: control={value['control']}, treatment={value['treatment']}\")\n",
    "    else:\n",
    "        print(f\"  {key}: {value}\")\n"
   ],
   "id": "ba8dcc84abc5b703"
  },
  {
   "metadata": {},
   "cell_type": "markdown",
   "source": "For continuous data, the absolute MDE represents the minimum detectable difference in means between the control and treatment groups. The relative MDE expresses this difference as a percentage of the baseline mean.\n",
   "id": "62c9b0429edc0beb"
  },
  {
   "metadata": {},
   "cell_type": "markdown",
   "source": [
    "### 2.3 Impact of Sample Size on MDE\n",
    "\n",
    "Let's explore how the MDE changes with different sample sizes:\n"
   ],
   "id": "c491ac84c745d677"
  },
  {
   "metadata": {},
   "cell_type": "code",
   "outputs": [],
   "execution_count": null,
   "source": [
    "# Calculate MDE for different sample sizes\n",
    "sample_sizes = [100, 500, 1000, 5000, 10000]\n",
    "mde_values = []\n",
    "\n",
    "for size in sample_sizes:\n",
    "    result = calculate_mde(\n",
    "        sample_size=size,\n",
    "        baseline_rate=0.1,\n",
    "        data_type='conversion'\n",
    "    )\n",
    "    mde_values.append(result['mde'])\n",
    "\n",
    "# Create a DataFrame for visualization\n",
    "mde_df = pd.DataFrame({\n",
    "    'Sample Size': sample_sizes,\n",
    "    'MDE': mde_values\n",
    "})\n",
    "\n",
    "print(mde_df)\n"
   ],
   "id": "10d324602e04048e"
  },
  {
   "metadata": {},
   "cell_type": "code",
   "outputs": [],
   "execution_count": null,
   "source": [
    "# Visualize the relationship between sample size and MDE\n",
    "plt.figure(figsize=(10, 6))\n",
    "plt.plot(mde_df['Sample Size'], mde_df['MDE'], marker='o', linestyle='-', linewidth=2)\n",
    "plt.title('Relationship Between Sample Size and MDE')\n",
    "plt.xlabel('Sample Size')\n",
    "plt.ylabel('Minimum Detectable Effect (MDE)')\n",
    "plt.xscale('log')  # Log scale for better visualization\n",
    "plt.grid(True)\n",
    "plt.show()\n"
   ],
   "id": "c0ed152af9db7827"
  },
  {
   "metadata": {},
   "cell_type": "markdown",
   "source": "As expected, the MDE decreases as the sample size increases. This means that with larger sample sizes, we can detect smaller effects.\n",
   "id": "fcef0839919a0d9"
  },
  {
   "metadata": {},
   "cell_type": "markdown",
   "source": [
    "### 2.4 Impact of Baseline Rate on MDE\n",
    "\n",
    "For conversion data, the baseline rate also affects the MDE. Let's explore this relationship:\n"
   ],
   "id": "ab3b66b207c64e82"
  },
  {
   "metadata": {},
   "cell_type": "code",
   "outputs": [],
   "execution_count": null,
   "source": [
    "# Calculate MDE for different baseline rates\n",
    "baseline_rates = [0.01, 0.05, 0.1, 0.2, 0.3, 0.4, 0.5]\n",
    "mde_abs_values = []\n",
    "mde_rel_values = []\n",
    "\n",
    "for rate in baseline_rates:\n",
    "    result = calculate_mde(\n",
    "        sample_size=1000,\n",
    "        baseline_rate=rate,\n",
    "        data_type='conversion'\n",
    "    )\n",
    "    mde_abs_values.append(result['mde'])\n",
    "    mde_rel_values.append(result['mde_relative'])\n",
    "\n",
    "# Create a DataFrame for visualization\n",
    "baseline_df = pd.DataFrame({\n",
    "    'Baseline Rate': baseline_rates,\n",
    "    'Absolute MDE': mde_abs_values,\n",
    "    'Relative MDE': mde_rel_values\n",
    "})\n",
    "\n",
    "print(baseline_df)\n"
   ],
   "id": "6f168f37f74a04f5"
  },
  {
   "metadata": {},
   "cell_type": "code",
   "outputs": [],
   "execution_count": null,
   "source": [
    "# Visualize the relationship between baseline rate and MDE\n",
    "fig, (ax1, ax2) = plt.subplots(1, 2, figsize=(15, 6))\n",
    "\n",
    "# Absolute MDE\n",
    "ax1.plot(baseline_df['Baseline Rate'], baseline_df['Absolute MDE'], marker='o', linestyle='-', linewidth=2)\n",
    "ax1.set_title('Baseline Rate vs. Absolute MDE')\n",
    "ax1.set_xlabel('Baseline Rate')\n",
    "ax1.set_ylabel('Absolute MDE')\n",
    "ax1.grid(True)\n",
    "\n",
    "# Relative MDE\n",
    "ax2.plot(baseline_df['Baseline Rate'], baseline_df['Relative MDE'], marker='o', linestyle='-', linewidth=2)\n",
    "ax2.set_title('Baseline Rate vs. Relative MDE')\n",
    "ax2.set_xlabel('Baseline Rate')\n",
    "ax2.set_ylabel('Relative MDE')\n",
    "ax2.grid(True)\n",
    "\n",
    "plt.tight_layout()\n",
    "plt.show()\n"
   ],
   "id": "ffee6e4518e2037a"
  },
  {
   "metadata": {},
   "cell_type": "markdown",
   "source": [
    "### 2.5 Impact of Sample Allocation on MDE\n",
    "\n",
    "The allocation of samples between control and treatment groups can also affect the MDE. Let's explore this:\n"
   ],
   "id": "74792fe93401ea3a"
  },
  {
   "metadata": {},
   "cell_type": "code",
   "outputs": [],
   "execution_count": null,
   "source": [
    "# Calculate MDE for different sample allocations\n",
    "ratios = [0.1, 0.2, 0.3, 0.4, 0.5, 0.6, 0.7, 0.8, 0.9]\n",
    "mde_values = []\n",
    "\n",
    "for ratio in ratios:\n",
    "    result = calculate_mde(\n",
    "        sample_size=1000,\n",
    "        baseline_rate=0.1,\n",
    "        data_type='conversion',\n",
    "        ratio=ratio  # Ratio of sample allocated to control group\n",
    "    )\n",
    "    mde_values.append(result['mde'])\n",
    "\n",
    "# Create a DataFrame for visualization\n",
    "ratio_df = pd.DataFrame({\n",
    "    'Control Group Ratio': ratios,\n",
    "    'MDE': mde_values\n",
    "})\n",
    "\n",
    "print(ratio_df)\n"
   ],
   "id": "5012909a10f5bc20"
  },
  {
   "metadata": {},
   "cell_type": "code",
   "outputs": [],
   "execution_count": null,
   "source": [
    "# Visualize the relationship between sample allocation and MDE\n",
    "plt.figure(figsize=(10, 6))\n",
    "plt.plot(ratio_df['Control Group Ratio'], ratio_df['MDE'], marker='o', linestyle='-', linewidth=2)\n",
    "plt.title('Relationship Between Sample Allocation and MDE')\n",
    "plt.xlabel('Proportion of Sample in Control Group')\n",
    "plt.ylabel('Minimum Detectable Effect (MDE)')\n",
    "plt.grid(True)\n",
    "plt.show()\n"
   ],
   "id": "21a9c20a0ed7bd9b"
  },
  {
   "metadata": {},
   "cell_type": "markdown",
   "source": "The MDE is minimized when the sample is evenly split between control and treatment groups (ratio = 0.5). As the allocation becomes more uneven, the MDE increases, meaning we need a larger effect to detect it reliably.\n",
   "id": "65c636c638bfe3e7"
  },
  {
   "metadata": {},
   "cell_type": "markdown",
   "source": [
    "### 2.6 Impact of Statistical Parameters on MDE\n",
    "\n",
    "The significance level (alpha) and statistical power also affect the MDE:\n"
   ],
   "id": "77efe39bed2c12db"
  },
  {
   "metadata": {},
   "cell_type": "code",
   "outputs": [],
   "execution_count": null,
   "source": [
    "# Calculate MDE for different alpha values\n",
    "alpha_values = [0.01, 0.05, 0.1]\n",
    "power_values = [0.8, 0.9, 0.95]\n",
    "\n",
    "results = []\n",
    "for alpha in alpha_values:\n",
    "    for power in power_values:\n",
    "        result = calculate_mde(\n",
    "            sample_size=1000,\n",
    "            baseline_rate=0.1,\n",
    "            data_type='conversion',\n",
    "            alpha=alpha,\n",
    "            power=power\n",
    "        )\n",
    "        results.append({\n",
    "            'Alpha': alpha,\n",
    "            'Power': power,\n",
    "            'MDE': result['mde']\n",
    "        })\n",
    "\n",
    "# Create a DataFrame for visualization\n",
    "params_df = pd.DataFrame(results)\n",
    "print(params_df)\n"
   ],
   "id": "5b0198979ce0e52e"
  },
  {
   "metadata": {},
   "cell_type": "code",
   "outputs": [],
   "execution_count": null,
   "source": [
    "# Visualize the relationship between statistical parameters and MDE\n",
    "plt.figure(figsize=(12, 6))\n",
    "\n",
    "# Group by power and plot lines for different alpha values\n",
    "for power in power_values:\n",
    "    power_data = params_df[params_df['Power'] == power]\n",
    "    plt.plot(power_data['Alpha'], power_data['MDE'], marker='o', linestyle='-', linewidth=2, label=f'Power = {power}')\n",
    "\n",
    "plt.title('Impact of Statistical Parameters on MDE')\n",
    "plt.xlabel('Significance Level (Alpha)')\n",
    "plt.ylabel('Minimum Detectable Effect (MDE)')\n",
    "plt.legend()\n",
    "plt.grid(True)\n",
    "plt.show()\n"
   ],
   "id": "f95ec0d998b5bda5"
  },
  {
   "metadata": {},
   "cell_type": "markdown",
   "source": [
    "## 3. Practical Example: Designing an A/B Test\n",
    "\n",
    "Let's put everything together in a practical example where we design an A/B test:\n"
   ],
   "id": "3632c9cc66337b83"
  },
  {
   "metadata": {},
   "cell_type": "code",
   "outputs": [],
   "execution_count": null,
   "source": [
    "# Step 1: Define the experiment parameters\n",
    "baseline_conversion_rate = 0.15  # 15% baseline conversion rate\n",
    "desired_relative_lift = 0.10     # We want to detect a 10% relative lift\n",
    "total_daily_users = 50000        # Total daily users\n",
    "experiment_duration_days = 14    # Duration of the experiment in days\n",
    "\n",
    "# Step 2: Calculate the total sample size\n",
    "total_sample_size = total_daily_users * experiment_duration_days\n",
    "print(f\"Total sample size: {total_sample_size}\")\n",
    "\n",
    "# Step 3: Calculate the MDE for different sample allocations\n",
    "allocation_ratios = [0.5, 0.7, 0.9]  # Control group ratios\n",
    "mde_results = []\n",
    "\n",
    "for ratio in allocation_ratios:\n",
    "    result = calculate_mde(\n",
    "        sample_size=total_sample_size,\n",
    "        baseline_rate=baseline_conversion_rate,\n",
    "        data_type='conversion',\n",
    "        ratio=ratio\n",
    "    )\n",
    "    mde_results.append({\n",
    "        'Control Ratio': ratio,\n",
    "        'Treatment Ratio': 1 - ratio,\n",
    "        'Absolute MDE': result['mde'],\n",
    "        'Relative MDE': result['mde_relative'],\n",
    "        'Can Detect 10% Lift': result['mde_relative'] <= desired_relative_lift\n",
    "    })\n",
    "\n",
    "# Create a DataFrame for the results\n",
    "allocation_df = pd.DataFrame(mde_results)\n",
    "print(allocation_df)\n"
   ],
   "id": "23dc2eb25bfc24e7"
  },
  {
   "metadata": {},
   "cell_type": "code",
   "outputs": [],
   "execution_count": null,
   "source": [
    "# Visualize the results\n",
    "plt.figure(figsize=(10, 6))\n",
    "bars = plt.bar(\n",
    "    allocation_df['Control Ratio'].astype(str), \n",
    "    allocation_df['Relative MDE'] * 100,\n",
    "    color=['green' if can_detect else 'red' for can_detect in allocation_df['Can Detect 10% Lift']]\n",
    ")\n",
    "\n",
    "# Add a horizontal line for the desired lift\n",
    "plt.axhline(y=desired_relative_lift * 100, color='black', linestyle='--', label='Desired Lift (10%)')\n",
    "\n",
    "# Add labels\n",
    "plt.title('Minimum Detectable Effect by Sample Allocation')\n",
    "plt.xlabel('Control Group Ratio')\n",
    "plt.ylabel('Relative MDE (%)')\n",
    "plt.legend()\n",
    "\n",
    "# Add value labels on top of bars\n",
    "for bar in bars:\n",
    "    height = bar.get_height()\n",
    "    plt.text(bar.get_x() + bar.get_width()/2., height + 0.5,\n",
    "             f'{height:.1f}%', ha='center', va='bottom')\n",
    "\n",
    "plt.show()\n"
   ],
   "id": "cb79803e931e529f"
  },
  {
   "metadata": {},
   "cell_type": "markdown",
   "source": [
    "## 4. Conclusion\n",
    "\n",
    "In this notebook, we've explored the `causalkit.design` module, which provides tools for experimental design:\n",
    "\n",
    "1. The `split_traffic` function allows for flexible splitting of traffic for A/B testing, including:\n",
    "   - Simple random splits\n",
    "   - Multiple variants\n",
    "   - Stratified splitting\n",
    "\n",
    "2. The `calculate_mde` function helps determine the minimum detectable effect for an experiment, considering:\n",
    "   - Sample size\n",
    "   - Baseline rates\n",
    "   - Data type (conversion or continuous)\n",
    "   - Statistical parameters (alpha and power)\n",
    "   - Sample allocation\n",
    "\n",
    "These tools are essential for designing robust experiments that can reliably detect the effects you're interested in."
   ],
   "id": "e74a0c56168fdc8b"
  }
 ],
 "metadata": {},
 "nbformat": 4,
 "nbformat_minor": 5
}
