{
 "cells": [
  {
   "metadata": {},
   "cell_type": "markdown",
   "source": [
    "# Traffic Splitting Example\n",
    "\n",
    "This notebook demonstrates how to use the `split_traffic` function from CausalKit for A/B testing and experimentation scenarios.\n",
    "\n",
    "The `split_traffic` function provides a flexible way to split traffic (users, sessions, etc.) for A/B testing and experimentation:\n",
    "\n",
    "- Simple random splits with customizable ratios\n",
    "- Support for multiple variants (A/B/C/...)\n",
    "- Stratified splitting to maintain balanced distributions of important variables\n",
    "- Reproducible results with random state control\n"
   ],
   "id": "bc5d7b9aab510fc0"
  },
  {
   "metadata": {},
   "cell_type": "code",
   "source": [
    "# Import necessary libraries\n",
    "import pandas as pd\n",
    "import numpy as np\n",
    "import plotly.express as px\n",
    "import plotly.graph_objects as go\n",
    "from plotly.subplots import make_subplots\n",
    "\n",
    "# Import the split_traffic function\n",
    "from causalkit.design.traffic_splitter import split_traffic\n"
   ],
   "id": "30af8c50e46079b3",
   "outputs": [],
   "execution_count": null
  },
  {
   "metadata": {},
   "cell_type": "markdown",
   "source": [
    "## Creating Sample Data\n",
    "\n",
    "First, let's create a sample dataset representing user traffic. This could be users visiting a website, customers in a store, or any other scenario where you want to split traffic for experimentation.\n"
   ],
   "id": "b62be90220350115"
  },
  {
   "metadata": {},
   "cell_type": "code",
   "source": [
    "# Set random seed for reproducibility\n",
    "np.random.seed(42)\n",
    "n_users = 1000\n",
    "\n",
    "# Generate synthetic user data\n",
    "user_data = {\n",
    "    'user_id': range(1, n_users + 1),\n",
    "    'age_group': np.random.choice(['18-24', '25-34', '35-44', '45+'], size=n_users),\n",
    "    'country': np.random.choice(['US', 'UK', 'CA', 'AU', 'DE'], size=n_users, \n",
    "                               p=[0.4, 0.2, 0.2, 0.1, 0.1]),\n",
    "    'device': np.random.choice(['mobile', 'desktop', 'tablet'], size=n_users,\n",
    "                              p=[0.6, 0.3, 0.1]),\n",
    "    'past_purchases': np.random.poisson(2, size=n_users)\n",
    "}\n",
    "\n",
    "df = pd.DataFrame(user_data)\n",
    "\n",
    "# Display the first few rows of the dataset\n",
    "print(f\"Total users: {len(df)}\")\n",
    "df.head()\n"
   ],
   "id": "e74271abeeb71879",
   "outputs": [],
   "execution_count": null
  },
  {
   "metadata": {},
   "cell_type": "markdown",
   "source": "Let's examine the distribution of key variables in our dataset:\n",
   "id": "743a236cfbfd2265"
  },
  {
   "metadata": {},
   "cell_type": "code",
   "source": [
    "# Create a subplot with 3 columns\n",
    "fig = make_subplots(rows=1, cols=3, subplot_titles=['Country Distribution', 'Device Distribution', 'Age Group Distribution'])\n",
    "\n",
    "# Plot country distribution\n",
    "country_counts = df['country'].value_counts(normalize=True).reset_index()\n",
    "country_counts.columns = ['country', 'proportion']\n",
    "fig.add_trace(\n",
    "    go.Bar(x=country_counts['country'], y=country_counts['proportion'], name='Country'),\n",
    "    row=1, col=1\n",
    ")\n",
    "\n",
    "# Plot device distribution\n",
    "device_counts = df['device'].value_counts(normalize=True).reset_index()\n",
    "device_counts.columns = ['device', 'proportion']\n",
    "fig.add_trace(\n",
    "    go.Bar(x=device_counts['device'], y=device_counts['proportion'], name='Device'),\n",
    "    row=1, col=2\n",
    ")\n",
    "\n",
    "# Plot age group distribution\n",
    "age_counts = df['age_group'].value_counts(normalize=True).reset_index()\n",
    "age_counts.columns = ['age_group', 'proportion']\n",
    "fig.add_trace(\n",
    "    go.Bar(x=age_counts['age_group'], y=age_counts['proportion'], name='Age Group'),\n",
    "    row=1, col=3\n",
    ")\n",
    "\n",
    "# Update layout\n",
    "fig.update_layout(\n",
    "    height=500, \n",
    "    width=1000,\n",
    "    showlegend=False,\n",
    "    yaxis_title='Proportion',\n",
    "    yaxis2_title='Proportion',\n",
    "    yaxis3_title='Proportion'\n",
    ")\n",
    "\n",
    "fig.show()\n"
   ],
   "id": "2322d518570fe922",
   "outputs": [],
   "execution_count": null
  },
  {
   "metadata": {},
   "cell_type": "markdown",
   "source": [
    "## Example 1: Simple Random Split (50/50)\n",
    "\n",
    "The most basic use case is to split traffic into two groups: control and treatment, with an equal 50/50 split.\n"
   ],
   "id": "7dc5dfa4ec9ff995"
  },
  {
   "metadata": {},
   "cell_type": "code",
   "source": [
    "# Split the data into control and treatment groups\n",
    "control_df, treatment_df = split_traffic(df, random_state=123)\n",
    "\n",
    "print(f\"Control group size: {len(control_df)}\")\n",
    "print(f\"Treatment group size: {len(treatment_df)}\")\n",
    "\n",
    "# Verify that all users are accounted for\n",
    "print(f\"Total users after split: {len(control_df) + len(treatment_df)}\")\n",
    "print(f\"Original total users: {len(df)}\")\n"
   ],
   "id": "a8886dda2bda3897",
   "outputs": [],
   "execution_count": null
  },
  {
   "metadata": {},
   "cell_type": "markdown",
   "source": "Let's visualize the distribution of key variables in both groups to ensure they're balanced:\n",
   "id": "7ffcce1b3182820f"
  },
  {
   "metadata": {},
   "cell_type": "code",
   "source": [
    "def compare_distributions(control_df, treatment_df, column):\n",
    "    \"\"\"Helper function to compare distributions between control and treatment groups.\"\"\"\n",
    "    control_counts = control_df[column].value_counts(normalize=True)\n",
    "    treatment_counts = treatment_df[column].value_counts(normalize=True)\n",
    "\n",
    "    # Combine into a DataFrame for easier plotting\n",
    "    comparison_df = pd.DataFrame({\n",
    "        'Control': control_counts,\n",
    "        'Treatment': treatment_counts\n",
    "    }).reset_index().rename(columns={'index': column})\n",
    "\n",
    "    # Reshape for plotly\n",
    "    comparison_df_melted = pd.melt(\n",
    "        comparison_df, \n",
    "        id_vars=[column], \n",
    "        value_vars=['Control', 'Treatment'],\n",
    "        var_name='Group', \n",
    "        value_name='Proportion'\n",
    "    )\n",
    "\n",
    "    # Create a grouped bar chart with plotly\n",
    "    fig = px.bar(\n",
    "        comparison_df_melted, \n",
    "        x=column, \n",
    "        y='Proportion', \n",
    "        color='Group',\n",
    "        barmode='group',\n",
    "        title=f'{column} Distribution: Control vs Treatment',\n",
    "        labels={'Proportion': 'Proportion', column: column},\n",
    "        height=500\n",
    "    )\n",
    "\n",
    "    # Rotate x-axis labels if needed\n",
    "    if column == 'country':\n",
    "        fig.update_layout(xaxis_tickangle=-45)\n",
    "\n",
    "    fig.show()\n",
    "\n",
    "# Compare distributions for key variables\n",
    "for column in ['country', 'device', 'age_group']:\n",
    "    compare_distributions(control_df, treatment_df, column)\n"
   ],
   "id": "8526ff54ab947236",
   "outputs": [],
   "execution_count": null
  },
  {
   "metadata": {},
   "cell_type": "markdown",
   "source": [
    "## Example 2: Uneven Split (80/20)\n",
    "\n",
    "Sometimes you might want to allocate more traffic to one group than the other. For example, you might want to expose only 20% of your users to a new feature.\n"
   ],
   "id": "ab911b1c90deb303"
  },
  {
   "metadata": {},
   "cell_type": "code",
   "source": [
    "# Split with 80% in control group and 20% in treatment group\n",
    "control_df, treatment_df = split_traffic(df, split_ratio=0.8, random_state=123)\n",
    "\n",
    "print(f\"Control group size: {len(control_df)}\")\n",
    "print(f\"Treatment group size: {len(treatment_df)}\")\n",
    "#\n",
    "# Visualize the split with Plotly\n",
    "fig = px.pie(\n",
    "    values=[len(control_df), len(treatment_df)],\n",
    "    names=['Control (80%)', 'Treatment (20%)'],\n",
    "    title='80/20 Traffic Split',\n",
    "    color_discrete_sequence=['#66b3ff', '#ff9999']\n",
    ")\n",
    "\n",
    "# Update layout for better appearance\n",
    "fig.update_traces(textinfo='percent+label', hole=0.3)\n",
    "fig.update_layout(height=500, width=700)\n",
    "\n",
    "fig.show()\n"
   ],
   "id": "880bc957e6c4ba43",
   "outputs": [],
   "execution_count": null
  },
  {
   "metadata": {},
   "cell_type": "markdown",
   "source": [
    "## Example 3: Multiple Variants (A/B/C Test)\n",
    "\n",
    "You can also split traffic into more than two groups, which is useful for testing multiple variants.\n"
   ],
   "id": "7eb52cbb18419382"
  },
  {
   "metadata": {},
   "cell_type": "code",
   "source": [
    "# Split into three groups: control (40%), variant B (30%), variant C (30%)\n",
    "control_df, variant_b_df, variant_c_df = split_traffic(\n",
    "    df, split_ratio=[0.4, 0.3], random_state=123\n",
    ")\n",
    "\n",
    "print(f\"Control group size: {len(control_df)}\")\n",
    "print(f\"Variant B group size: {len(variant_b_df)}\")\n",
    "print(f\"Variant C group size: {len(variant_c_df)}\")\n",
    "\n",
    "# Visualize the split with Plotly\n",
    "fig = px.pie(\n",
    "    values=[len(control_df), len(variant_b_df), len(variant_c_df)],\n",
    "    names=['Control (40%)', 'Variant B (30%)', 'Variant C (30%)'],\n",
    "    title='Multiple Variants Split',\n",
    "    color_discrete_sequence=['#66b3ff', '#ff9999', '#99ff99']\n",
    ")\n",
    "\n",
    "# Update layout for better appearance\n",
    "fig.update_traces(textinfo='percent+label', hole=0.3)\n",
    "fig.update_layout(height=500, width=700)\n",
    "\n",
    "fig.show()\n"
   ],
   "id": "4dcbdea5d1438af5",
   "outputs": [],
   "execution_count": null
  },
  {
   "metadata": {},
   "cell_type": "markdown",
   "source": [
    "## Example 4: Stratified Split by Country\n",
    "\n",
    "When certain variables are important for your analysis, you might want to ensure that they have the same distribution in all groups. This is where stratified splitting comes in.\n"
   ],
   "id": "c4f9e578e78fb11f"
  },
  {
   "metadata": {},
   "cell_type": "code",
   "source": [
    "# Stratified split by country\n",
    "control_df, treatment_df = split_traffic(\n",
    "    df, split_ratio=0.5, stratify_column='country', random_state=123\n",
    ")\n",
    "\n",
    "# Compare country distributions\n",
    "compare_distributions(control_df, treatment_df, 'country')\n",
    "\n",
    "# Let's also check if other variables remain roughly balanced\n",
    "compare_distributions(control_df, treatment_df, 'device')\n",
    "compare_distributions(control_df, treatment_df, 'age_group')\n"
   ],
   "id": "594c1f32076d3a0a",
   "outputs": [],
   "execution_count": null
  },
  {
   "metadata": {},
   "cell_type": "markdown",
   "source": [
    "## Example 5: Stratified Split with Multiple Variables\n",
    "\n",
    "Sometimes you might want to stratify by multiple variables. One approach is to create a combined column that represents the combination of those variables.\n"
   ],
   "id": "c28db47ea7b9040a"
  },
  {
   "metadata": {},
   "cell_type": "code",
   "source": [
    "# Create a combined column for country and device\n",
    "df['strat_combined'] = df['country'] + '_' + df['device']\n",
    "\n",
    "# Stratified split by the combined column\n",
    "control_df, treatment_df = split_traffic(\n",
    "    df, split_ratio=0.5, stratify_column='strat_combined', random_state=123\n",
    ")\n",
    "\n",
    "# Compare distributions\n",
    "compare_distributions(control_df, treatment_df, 'country')\n",
    "compare_distributions(control_df, treatment_df, 'device')\n",
    "\n",
    "# Let's look at some specific combinations\n",
    "print(\"\\nControl group - Country-Device combinations:\")\n",
    "print(control_df['strat_combined'].value_counts(normalize=True).head(5))\n",
    "\n",
    "print(\"\\nTreatment group - Country-Device combinations:\")\n",
    "print(treatment_df['strat_combined'].value_counts(normalize=True).head(5))\n"
   ],
   "id": "3bf92eb83e00ce92",
   "outputs": [],
   "execution_count": null
  }
 ],
 "metadata": {},
 "nbformat": 4,
 "nbformat_minor": 5
}
