{
 "cells": [
  {
   "metadata": {},
   "cell_type": "markdown",
   "source": "# Generate Data",
   "id": "f5e31eb67e1fa25d"
  },
  {
   "metadata": {
    "ExecuteTime": {
     "end_time": "2025-08-05T16:22:16.224772Z",
     "start_time": "2025-08-05T16:22:16.222685Z"
    }
   },
   "cell_type": "code",
   "source": [
    "from causalkit.data import CausalDatasetGenerator, CausalData\n",
    "import numpy as np"
   ],
   "id": "88dd0f122cd107ea",
   "outputs": [],
   "execution_count": 6
  },
  {
   "metadata": {
    "ExecuteTime": {
     "end_time": "2025-08-05T16:22:16.621353Z",
     "start_time": "2025-08-05T16:22:16.607495Z"
    }
   },
   "cell_type": "code",
   "source": [
    "gen = CausalDatasetGenerator(\n",
    "    theta=2.0,\n",
    "    beta_y=np.array([1.0, -0.5, 0.2]),\n",
    "    beta_t=np.array([0.8, 1.2, -0.3]),\n",
    "    target_t_rate=0.35,\n",
    "    outcome_type=\"continuous\",\n",
    "    sigma_y=1.0,\n",
    "    seed=42,\n",
    "    confounder_specs=[\n",
    "        {\"name\": \"age\", \"dist\": \"normal\", \"mu\": 50, \"sd\": 10},\n",
    "        {\"name\": \"smoker\", \"dist\": \"bernoulli\", \"p\": 0.3},\n",
    "        {\"name\": \"bmi\", \"dist\": \"normal\", \"mu\": 27, \"sd\": 4},\n",
    "    ])\n",
    "df = gen.generate(10_000)\n",
    "df.columns"
   ],
   "id": "d9635a721828d87e",
   "outputs": [
    {
     "data": {
      "text/plain": [
       "Index(['y', 't', 'age', 'smoker', 'bmi', 'propensity', 'mu0', 'mu1', 'cate'], dtype='object')"
      ]
     },
     "execution_count": 7,
     "metadata": {},
     "output_type": "execute_result"
    }
   ],
   "execution_count": 7
  },
  {
   "metadata": {},
   "cell_type": "markdown",
   "source": "# CausalData",
   "id": "f083f592eeef79d0"
  },
  {
   "metadata": {},
   "cell_type": "markdown",
   "source": "# EDA",
   "id": "7c2fdaae9b86d2ad"
  },
  {
   "metadata": {
    "ExecuteTime": {
     "end_time": "2025-08-05T16:22:24.040152Z",
     "start_time": "2025-08-05T16:22:24.033621Z"
    }
   },
   "cell_type": "code",
   "source": "df.head()",
   "id": "c317e28951626ae2",
   "outputs": [
    {
     "data": {
      "text/plain": [
       "           y    t        age  smoker        bmi    propensity        mu0  \\\n",
       "0  60.057239  1.0  53.047171     1.0  20.651225  8.992087e-01  56.677416   \n",
       "1  47.379975  0.0  39.600159     0.0  32.502713  1.633812e-06  46.100702   \n",
       "2  65.457219  1.0  57.504512     1.0  32.180623  9.085050e-01  63.440637   \n",
       "3  69.484632  1.0  59.405647     0.0  35.945336  8.156292e-01  66.594714   \n",
       "4  35.681310  0.0  30.489648     0.0  31.046206  1.728435e-09  36.698889   \n",
       "\n",
       "         mu1  cate  \n",
       "0  58.677416   2.0  \n",
       "1  48.100702   2.0  \n",
       "2  65.440637   2.0  \n",
       "3  68.594714   2.0  \n",
       "4  38.698889   2.0  "
      ],
      "text/html": [
       "<div>\n",
       "<style scoped>\n",
       "    .dataframe tbody tr th:only-of-type {\n",
       "        vertical-align: middle;\n",
       "    }\n",
       "\n",
       "    .dataframe tbody tr th {\n",
       "        vertical-align: top;\n",
       "    }\n",
       "\n",
       "    .dataframe thead th {\n",
       "        text-align: right;\n",
       "    }\n",
       "</style>\n",
       "<table border=\"1\" class=\"dataframe\">\n",
       "  <thead>\n",
       "    <tr style=\"text-align: right;\">\n",
       "      <th></th>\n",
       "      <th>y</th>\n",
       "      <th>t</th>\n",
       "      <th>age</th>\n",
       "      <th>smoker</th>\n",
       "      <th>bmi</th>\n",
       "      <th>propensity</th>\n",
       "      <th>mu0</th>\n",
       "      <th>mu1</th>\n",
       "      <th>cate</th>\n",
       "    </tr>\n",
       "  </thead>\n",
       "  <tbody>\n",
       "    <tr>\n",
       "      <th>0</th>\n",
       "      <td>60.057239</td>\n",
       "      <td>1.0</td>\n",
       "      <td>53.047171</td>\n",
       "      <td>1.0</td>\n",
       "      <td>20.651225</td>\n",
       "      <td>8.992087e-01</td>\n",
       "      <td>56.677416</td>\n",
       "      <td>58.677416</td>\n",
       "      <td>2.0</td>\n",
       "    </tr>\n",
       "    <tr>\n",
       "      <th>1</th>\n",
       "      <td>47.379975</td>\n",
       "      <td>0.0</td>\n",
       "      <td>39.600159</td>\n",
       "      <td>0.0</td>\n",
       "      <td>32.502713</td>\n",
       "      <td>1.633812e-06</td>\n",
       "      <td>46.100702</td>\n",
       "      <td>48.100702</td>\n",
       "      <td>2.0</td>\n",
       "    </tr>\n",
       "    <tr>\n",
       "      <th>2</th>\n",
       "      <td>65.457219</td>\n",
       "      <td>1.0</td>\n",
       "      <td>57.504512</td>\n",
       "      <td>1.0</td>\n",
       "      <td>32.180623</td>\n",
       "      <td>9.085050e-01</td>\n",
       "      <td>63.440637</td>\n",
       "      <td>65.440637</td>\n",
       "      <td>2.0</td>\n",
       "    </tr>\n",
       "    <tr>\n",
       "      <th>3</th>\n",
       "      <td>69.484632</td>\n",
       "      <td>1.0</td>\n",
       "      <td>59.405647</td>\n",
       "      <td>0.0</td>\n",
       "      <td>35.945336</td>\n",
       "      <td>8.156292e-01</td>\n",
       "      <td>66.594714</td>\n",
       "      <td>68.594714</td>\n",
       "      <td>2.0</td>\n",
       "    </tr>\n",
       "    <tr>\n",
       "      <th>4</th>\n",
       "      <td>35.681310</td>\n",
       "      <td>0.0</td>\n",
       "      <td>30.489648</td>\n",
       "      <td>0.0</td>\n",
       "      <td>31.046206</td>\n",
       "      <td>1.728435e-09</td>\n",
       "      <td>36.698889</td>\n",
       "      <td>38.698889</td>\n",
       "      <td>2.0</td>\n",
       "    </tr>\n",
       "  </tbody>\n",
       "</table>\n",
       "</div>"
      ]
     },
     "execution_count": 8,
     "metadata": {},
     "output_type": "execute_result"
    }
   ],
   "execution_count": 8
  },
  {
   "metadata": {},
   "cell_type": "code",
   "outputs": [],
   "execution_count": null,
   "source": [
    "gen = CausalDatasetGenerator(\n",
    "    theta=2.0,\n",
    "    beta_y=np.array([1.0, -0.5, 0.2]),\n",
    "    beta_t=np.array([0.8, 1.2, -0.3]),\n",
    "    target_t_rate=0.35,\n",
    "    outcome_type=\"continuous\",\n",
    "    sigma_y=1.0,\n",
    "    seed=42,\n",
    "    confounder_specs=[\n",
    "        {\"name\": \"age\", \"dist\": \"normal\", \"mu\": 50, \"sd\": 10},\n",
    "        {\"name\": \"smoker\", \"dist\": \"bernoulli\", \"p\": 0.3},\n",
    "        {\"name\": \"bmi\", \"dist\": \"normal\", \"mu\": 27, \"sd\": 4},\n",
    "    ])\n",
    "df = gen.generate(10_000)\n",
    "df.columns\n"
   ],
   "id": "cede56434ad2929"
  },
  {
   "metadata": {},
   "cell_type": "markdown",
   "source": "# Inference",
   "id": "e3062634b358ffe8"
  },
  {
   "metadata": {},
   "cell_type": "code",
   "outputs": [],
   "execution_count": null,
   "source": "",
   "id": "3ffe5e7d6efa59e3"
  }
 ],
 "metadata": {
  "kernelspec": {
   "display_name": "Python 3",
   "language": "python",
   "name": "python3"
  },
  "language_info": {
   "codemirror_mode": {
    "name": "ipython",
    "version": 2
   },
   "file_extension": ".py",
   "mimetype": "text/x-python",
   "name": "python",
   "nbconvert_exporter": "python",
   "pygments_lexer": "ipython2",
   "version": "2.7.6"
  }
 },
 "nbformat": 4,
 "nbformat_minor": 5
}
