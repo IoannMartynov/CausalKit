{
 "cells": [
  {
   "metadata": {},
   "cell_type": "markdown",
   "source": "# Generate Data",
   "id": "f5e31eb67e1fa25d"
  },
  {
   "metadata": {
    "ExecuteTime": {
     "end_time": "2025-08-08T15:32:29.678994Z",
     "start_time": "2025-08-08T15:32:29.041544Z"
    }
   },
   "cell_type": "code",
   "source": [
    "from causalkit.data import CausalDatasetGenerator, CausalData\n",
    "from causalkit.eda import CausalEDA\n",
    "import numpy as np"
   ],
   "id": "88dd0f122cd107ea",
   "outputs": [
    {
     "name": "stderr",
     "output_type": "stream",
     "text": [
      "/Users/ioannmartynov/miniconda3/envs/causalkit/lib/python3.13/site-packages/tqdm/auto.py:21: TqdmWarning: IProgress not found. Please update jupyter and ipywidgets. See https://ipywidgets.readthedocs.io/en/stable/user_install.html\n",
      "  from .autonotebook import tqdm as notebook_tqdm\n"
     ]
    }
   ],
   "execution_count": 1
  },
  {
   "metadata": {
    "ExecuteTime": {
     "end_time": "2025-08-08T15:32:29.690388Z",
     "start_time": "2025-08-08T15:32:29.682518Z"
    }
   },
   "cell_type": "code",
   "source": [
    "gen = CausalDatasetGenerator(\n",
    "    theta=2.0,\n",
    "    beta_y=np.array([1.0, -0.5, 0.2]),\n",
    "    beta_t=np.array([0.8, 1.2, -0.3]),\n",
    "    target_t_rate=0.35,\n",
    "    outcome_type=\"continuous\",\n",
    "    sigma_y=1.0,\n",
    "    seed=42,\n",
    "    confounder_specs=[\n",
    "        {\"name\": \"age\", \"dist\": \"normal\", \"mu\": 50, \"sd\": 10},\n",
    "        {\"name\": \"smoker\", \"dist\": \"bernoulli\", \"p\": 0.3},\n",
    "        {\"name\": \"bmi\", \"dist\": \"normal\", \"mu\": 27, \"sd\": 4},\n",
    "    ])\n",
    "df = gen.generate(10_000)\n",
    "df.columns"
   ],
   "id": "d9635a721828d87e",
   "outputs": [
    {
     "data": {
      "text/plain": [
       "Index(['y', 't', 'age', 'smoker', 'bmi', 'propensity', 'mu0', 'mu1', 'cate'], dtype='object')"
      ]
     },
     "execution_count": 2,
     "metadata": {},
     "output_type": "execute_result"
    }
   ],
   "execution_count": 2
  },
  {
   "metadata": {},
   "cell_type": "markdown",
   "source": "# CausalData",
   "id": "f083f592eeef79d0"
  },
  {
   "metadata": {},
   "cell_type": "markdown",
   "source": "# EDA",
   "id": "7c2fdaae9b86d2ad"
  },
  {
   "metadata": {
    "ExecuteTime": {
     "end_time": "2025-08-08T15:32:29.766277Z",
     "start_time": "2025-08-08T15:32:29.731146Z"
    }
   },
   "cell_type": "code",
   "source": [
    "causal_data = CausalData(\n",
    "    df=df,\n",
    "    treatment=\"t\",\n",
    "    target=\"y\",\n",
    "    confounders=[\"age\", \"smoker\", \"bmi\"]\n",
    ")\n",
    "\n",
    "eda = CausalEDA(causal_data)\n",
    "report = eda.design_report()"
   ],
   "id": "21927dded7938cbe",
   "outputs": [],
   "execution_count": 3
  },
  {
   "metadata": {
    "ExecuteTime": {
     "end_time": "2025-08-08T15:32:30.275870Z",
     "start_time": "2025-08-08T15:32:30.269118Z"
    }
   },
   "cell_type": "code",
   "source": "report[\"summaries\"] # treatment rate, naive gap",
   "id": "34c2ca4842342154",
   "outputs": [
    {
     "data": {
      "text/plain": [
       "{'treatment_rate': np.float64(0.3534),\n",
       " 'outcome_by_treatment':      count       mean       std\n",
       " t                              \n",
       " 0.0   6466  49.681386  7.285649\n",
       " 1.0   3534  67.177361  6.238665,\n",
       " 'naive_diff': np.float64(17.495974458593068)}"
      ]
     },
     "execution_count": 4,
     "metadata": {},
     "output_type": "execute_result"
    }
   ],
   "execution_count": 4
  },
  {
   "metadata": {
    "ExecuteTime": {
     "end_time": "2025-08-08T15:32:32.586491Z",
     "start_time": "2025-08-08T15:32:32.582738Z"
    }
   },
   "cell_type": "code",
   "source": "report[\"treat_auc\"] # how predictable treatment is from X",
   "id": "cd86c915cb98b4b1",
   "outputs": [
    {
     "data": {
      "text/plain": [
       "0.9863326273637858"
      ]
     },
     "execution_count": 5,
     "metadata": {},
     "output_type": "execute_result"
    }
   ],
   "execution_count": 5
  },
  {
   "metadata": {
    "ExecuteTime": {
     "end_time": "2025-08-08T15:32:32.930351Z",
     "start_time": "2025-08-08T15:32:32.926035Z"
    }
   },
   "cell_type": "code",
   "source": "report[\"positivity\"] # share outside [0.05, 0.95]",
   "id": "9c52a297c47acbdb",
   "outputs": [
    {
     "data": {
      "text/plain": [
       "{'bounds': (0.05, 0.95),\n",
       " 'share_below': 0.5072,\n",
       " 'share_above': 0.2209,\n",
       " 'flag': True}"
      ]
     },
     "execution_count": 6,
     "metadata": {},
     "output_type": "execute_result"
    }
   ],
   "execution_count": 6
  },
  {
   "metadata": {
    "ExecuteTime": {
     "end_time": "2025-08-08T15:32:33.237633Z",
     "start_time": "2025-08-08T15:32:33.229190Z"
    }
   },
   "cell_type": "code",
   "source": "report[\"balance\"].head(10) # largest pre/post SMDs",
   "id": "4b175664e45c4d8b",
   "outputs": [
    {
     "data": {
      "text/plain": [
       "  covariate  SMD_unweighted  SMD_weighted  flag_unw  flag_w\n",
       "0       age        2.401495      0.644005      True    True\n",
       "2       bmi       -0.242312     -0.062234      True   False\n",
       "1    smoker        0.121438     -0.100752      True    True"
      ],
      "text/html": [
       "<div>\n",
       "<style scoped>\n",
       "    .dataframe tbody tr th:only-of-type {\n",
       "        vertical-align: middle;\n",
       "    }\n",
       "\n",
       "    .dataframe tbody tr th {\n",
       "        vertical-align: top;\n",
       "    }\n",
       "\n",
       "    .dataframe thead th {\n",
       "        text-align: right;\n",
       "    }\n",
       "</style>\n",
       "<table border=\"1\" class=\"dataframe\">\n",
       "  <thead>\n",
       "    <tr style=\"text-align: right;\">\n",
       "      <th></th>\n",
       "      <th>covariate</th>\n",
       "      <th>SMD_unweighted</th>\n",
       "      <th>SMD_weighted</th>\n",
       "      <th>flag_unw</th>\n",
       "      <th>flag_w</th>\n",
       "    </tr>\n",
       "  </thead>\n",
       "  <tbody>\n",
       "    <tr>\n",
       "      <th>0</th>\n",
       "      <td>age</td>\n",
       "      <td>2.401495</td>\n",
       "      <td>0.644005</td>\n",
       "      <td>True</td>\n",
       "      <td>True</td>\n",
       "    </tr>\n",
       "    <tr>\n",
       "      <th>2</th>\n",
       "      <td>bmi</td>\n",
       "      <td>-0.242312</td>\n",
       "      <td>-0.062234</td>\n",
       "      <td>True</td>\n",
       "      <td>False</td>\n",
       "    </tr>\n",
       "    <tr>\n",
       "      <th>1</th>\n",
       "      <td>smoker</td>\n",
       "      <td>0.121438</td>\n",
       "      <td>-0.100752</td>\n",
       "      <td>True</td>\n",
       "      <td>True</td>\n",
       "    </tr>\n",
       "  </tbody>\n",
       "</table>\n",
       "</div>"
      ]
     },
     "execution_count": 7,
     "metadata": {},
     "output_type": "execute_result"
    }
   ],
   "execution_count": 7
  },
  {
   "metadata": {
    "ExecuteTime": {
     "end_time": "2025-08-08T15:32:33.555558Z",
     "start_time": "2025-08-08T15:32:33.551910Z"
    }
   },
   "cell_type": "code",
   "source": "report[\"weights\"] # ESS and weight tails",
   "id": "b1fbb95e660584b3",
   "outputs": [
    {
     "data": {
      "text/plain": [
       "{'ESS_all': 32.8237886194812,\n",
       " 'ESS_treated': 9.382655605587717,\n",
       " 'ESS_control': 1062.4517761100587,\n",
       " 'w_all_quantiles': [1.0032267507960353,\n",
       "  1.502365146421958,\n",
       "  2.319913924378805,\n",
       "  7.851582188890863,\n",
       "  3040.72663861294]}"
      ]
     },
     "execution_count": 8,
     "metadata": {},
     "output_type": "execute_result"
    }
   ],
   "execution_count": 8
  },
  {
   "metadata": {
    "ExecuteTime": {
     "end_time": "2025-08-08T15:32:34.447494Z",
     "start_time": "2025-08-08T15:32:34.293212Z"
    }
   },
   "cell_type": "code",
   "source": [
    "# Plots\n",
    "ps = eda.fit_propensity()\n",
    "eda.plot_ps_overlap(ps)\n",
    "bal = eda.balance_table(ps)\n",
    "eda.love_plot(bal)\n"
   ],
   "id": "243cbf9e9a346902",
   "outputs": [
    {
     "data": {
      "text/plain": [
       "<Figure size 640x480 with 1 Axes>"
      ],
      "image/png": "[encoded data removed]"
     },
     "metadata": {},
     "output_type": "display_data"
    },
    {
     "data": {
      "text/plain": [
       "<Figure size 640x480 with 1 Axes>"
      ],
      "image/png": "[encoded data removed]"
     },
     "metadata": {},
     "output_type": "display_data"
    }
   ],
   "execution_count": 9
  },
  {
   "metadata": {
    "ExecuteTime": {
     "end_time": "2025-08-08T15:10:11.993548Z",
     "start_time": "2025-08-08T15:10:11.984599Z"
    }
   },
   "cell_type": "code",
   "source": "df.head()",
   "id": "c317e28951626ae2",
   "outputs": [
    {
     "data": {
      "text/plain": [
       "           y    t        age  smoker        bmi    propensity        mu0  \\\n",
       "0  60.057239  1.0  53.047171     1.0  20.651225  8.992087e-01  56.677416   \n",
       "1  47.379975  0.0  39.600159     0.0  32.502713  1.633812e-06  46.100702   \n",
       "2  65.457219  1.0  57.504512     1.0  32.180623  9.085050e-01  63.440637   \n",
       "3  69.484632  1.0  59.405647     0.0  35.945336  8.156292e-01  66.594714   \n",
       "4  35.681310  0.0  30.489648     0.0  31.046206  1.728435e-09  36.698889   \n",
       "\n",
       "         mu1  cate  \n",
       "0  58.677416   2.0  \n",
       "1  48.100702   2.0  \n",
       "2  65.440637   2.0  \n",
       "3  68.594714   2.0  \n",
       "4  38.698889   2.0  "
      ],
      "text/html": [
       "<div>\n",
       "<style scoped>\n",
       "    .dataframe tbody tr th:only-of-type {\n",
       "        vertical-align: middle;\n",
       "    }\n",
       "\n",
       "    .dataframe tbody tr th {\n",
       "        vertical-align: top;\n",
       "    }\n",
       "\n",
       "    .dataframe thead th {\n",
       "        text-align: right;\n",
       "    }\n",
       "</style>\n",
       "<table border=\"1\" class=\"dataframe\">\n",
       "  <thead>\n",
       "    <tr style=\"text-align: right;\">\n",
       "      <th></th>\n",
       "      <th>y</th>\n",
       "      <th>t</th>\n",
       "      <th>age</th>\n",
       "      <th>smoker</th>\n",
       "      <th>bmi</th>\n",
       "      <th>propensity</th>\n",
       "      <th>mu0</th>\n",
       "      <th>mu1</th>\n",
       "      <th>cate</th>\n",
       "    </tr>\n",
       "  </thead>\n",
       "  <tbody>\n",
       "    <tr>\n",
       "      <th>0</th>\n",
       "      <td>60.057239</td>\n",
       "      <td>1.0</td>\n",
       "      <td>53.047171</td>\n",
       "      <td>1.0</td>\n",
       "      <td>20.651225</td>\n",
       "      <td>8.992087e-01</td>\n",
       "      <td>56.677416</td>\n",
       "      <td>58.677416</td>\n",
       "      <td>2.0</td>\n",
       "    </tr>\n",
       "    <tr>\n",
       "      <th>1</th>\n",
       "      <td>47.379975</td>\n",
       "      <td>0.0</td>\n",
       "      <td>39.600159</td>\n",
       "      <td>0.0</td>\n",
       "      <td>32.502713</td>\n",
       "      <td>1.633812e-06</td>\n",
       "      <td>46.100702</td>\n",
       "      <td>48.100702</td>\n",
       "      <td>2.0</td>\n",
       "    </tr>\n",
       "    <tr>\n",
       "      <th>2</th>\n",
       "      <td>65.457219</td>\n",
       "      <td>1.0</td>\n",
       "      <td>57.504512</td>\n",
       "      <td>1.0</td>\n",
       "      <td>32.180623</td>\n",
       "      <td>9.085050e-01</td>\n",
       "      <td>63.440637</td>\n",
       "      <td>65.440637</td>\n",
       "      <td>2.0</td>\n",
       "    </tr>\n",
       "    <tr>\n",
       "      <th>3</th>\n",
       "      <td>69.484632</td>\n",
       "      <td>1.0</td>\n",
       "      <td>59.405647</td>\n",
       "      <td>0.0</td>\n",
       "      <td>35.945336</td>\n",
       "      <td>8.156292e-01</td>\n",
       "      <td>66.594714</td>\n",
       "      <td>68.594714</td>\n",
       "      <td>2.0</td>\n",
       "    </tr>\n",
       "    <tr>\n",
       "      <th>4</th>\n",
       "      <td>35.681310</td>\n",
       "      <td>0.0</td>\n",
       "      <td>30.489648</td>\n",
       "      <td>0.0</td>\n",
       "      <td>31.046206</td>\n",
       "      <td>1.728435e-09</td>\n",
       "      <td>36.698889</td>\n",
       "      <td>38.698889</td>\n",
       "      <td>2.0</td>\n",
       "    </tr>\n",
       "  </tbody>\n",
       "</table>\n",
       "</div>"
      ]
     },
     "execution_count": 3,
     "metadata": {},
     "output_type": "execute_result"
    }
   ],
   "execution_count": 3
  },
  {
   "metadata": {},
   "cell_type": "code",
   "outputs": [],
   "execution_count": null,
   "source": [
    "gen = CausalDatasetGenerator(\n",
    "    theta=2.0,\n",
    "    beta_y=np.array([1.0, -0.5, 0.2]),\n",
    "    beta_t=np.array([0.8, 1.2, -0.3]),\n",
    "    target_t_rate=0.35,\n",
    "    outcome_type=\"continuous\",\n",
    "    sigma_y=1.0,\n",
    "    seed=42,\n",
    "    confounder_specs=[\n",
    "        {\"name\": \"age\", \"dist\": \"normal\", \"mu\": 50, \"sd\": 10},\n",
    "        {\"name\": \"smoker\", \"dist\": \"bernoulli\", \"p\": 0.3},\n",
    "        {\"name\": \"bmi\", \"dist\": \"normal\", \"mu\": 27, \"sd\": 4},\n",
    "    ])\n",
    "df = gen.generate(10_000)\n",
    "df.columns\n"
   ],
   "id": "cede56434ad2929"
  },
  {
   "metadata": {},
   "cell_type": "markdown",
   "source": "# Inference",
   "id": "e3062634b358ffe8"
  },
  {
   "metadata": {},
   "cell_type": "code",
   "outputs": [],
   "execution_count": null,
   "source": "",
   "id": "3ffe5e7d6efa59e3"
  }
 ],
 "metadata": {
  "kernelspec": {
   "display_name": "Python 3",
   "language": "python",
   "name": "python3"
  },
  "language_info": {
   "codemirror_mode": {
    "name": "ipython",
    "version": 2
   },
   "file_extension": ".py",
   "mimetype": "text/x-python",
   "name": "python",
   "nbconvert_exporter": "python",
   "pygments_lexer": "ipython2",
   "version": "2.7.6"
  }
 },
 "nbformat": 4,
 "nbformat_minor": 5
}
