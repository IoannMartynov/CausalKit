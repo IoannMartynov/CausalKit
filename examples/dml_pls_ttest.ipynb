{
 "cells": [
  {
   "metadata": {
    "ExecuteTime": {
     "end_time": "2025-07-01T14:26:46.832169Z",
     "start_time": "2025-07-01T14:26:46.816334Z"
    }
   },
   "cell_type": "code",
   "source": [
    "import numpy as np\n",
    "import pandas as pd\n",
    "\n",
    "np.random.seed(42)\n",
    "\n",
    "n_A = 10000\n",
    "n_B = 10000\n",
    "\n",
    "# Группа A (контроль)\n",
    "group_A = pd.DataFrame({\n",
    "    \"user_id\": np.arange(1, n_A + 1),\n",
    "    \"group\": \"A\",\n",
    "    \"age\": np.random.randint(18, 60, n_A),                        # Возраст\n",
    "    \"gender\": np.random.choice([\"male\", \"female\"], n_A),          # Пол\n",
    "    \"device\": np.random.choice([\"desktop\", \"mobile\"], n_A),       # Устройство\n",
    "    \"income\": np.random.normal(50000, 12000, n_A).astype(int),    # Доход\n",
    "    \"conversion\": np.random.binomial(1, 0.10, n_A)                # 10% конверсия\n",
    "})\n",
    "\n",
    "# Группа B (тест)\n",
    "group_B = pd.DataFrame({\n",
    "    \"user_id\": np.arange(n_A + 1, n_A + n_B + 1),\n",
    "    \"group\": \"B\",\n",
    "    \"age\": np.random.randint(18, 60, n_B),\n",
    "    \"gender\": np.random.choice([\"male\", \"female\"], n_B),\n",
    "    \"device\": np.random.choice([\"desktop\", \"mobile\"], n_B),\n",
    "    \"income\": np.random.normal(50000, 12000, n_B).astype(int),    # Чуть выше доход в тестовой\n",
    "    \"conversion\": np.random.binomial(1, 0.12, n_B)                # 13% конверсия (улучшение)\n",
    "})\n",
    "\n",
    "ab_data = pd.concat([group_A, group_B], ignore_index=True)\n",
    "\n",
    "ab_data.head()"
   ],
   "id": "e33c7060b7524938",
   "outputs": [
    {
     "data": {
      "text/plain": [
       "   user_id group  age  gender   device  income  conversion\n",
       "0        1     A   56    male  desktop   48211           0\n",
       "1        2     A   46  female   mobile   34820           0\n",
       "2        3     A   32    male   mobile   30573           0\n",
       "3        4     A   25    male  desktop   62269           0\n",
       "4        5     A   38  female   mobile   36831           0"
      ],
      "text/html": [
       "<div>\n",
       "<style scoped>\n",
       "    .dataframe tbody tr th:only-of-type {\n",
       "        vertical-align: middle;\n",
       "    }\n",
       "\n",
       "    .dataframe tbody tr th {\n",
       "        vertical-align: top;\n",
       "    }\n",
       "\n",
       "    .dataframe thead th {\n",
       "        text-align: right;\n",
       "    }\n",
       "</style>\n",
       "<table border=\"1\" class=\"dataframe\">\n",
       "  <thead>\n",
       "    <tr style=\"text-align: right;\">\n",
       "      <th></th>\n",
       "      <th>user_id</th>\n",
       "      <th>group</th>\n",
       "      <th>age</th>\n",
       "      <th>gender</th>\n",
       "      <th>device</th>\n",
       "      <th>income</th>\n",
       "      <th>conversion</th>\n",
       "    </tr>\n",
       "  </thead>\n",
       "  <tbody>\n",
       "    <tr>\n",
       "      <th>0</th>\n",
       "      <td>1</td>\n",
       "      <td>A</td>\n",
       "      <td>56</td>\n",
       "      <td>male</td>\n",
       "      <td>desktop</td>\n",
       "      <td>48211</td>\n",
       "      <td>0</td>\n",
       "    </tr>\n",
       "    <tr>\n",
       "      <th>1</th>\n",
       "      <td>2</td>\n",
       "      <td>A</td>\n",
       "      <td>46</td>\n",
       "      <td>female</td>\n",
       "      <td>mobile</td>\n",
       "      <td>34820</td>\n",
       "      <td>0</td>\n",
       "    </tr>\n",
       "    <tr>\n",
       "      <th>2</th>\n",
       "      <td>3</td>\n",
       "      <td>A</td>\n",
       "      <td>32</td>\n",
       "      <td>male</td>\n",
       "      <td>mobile</td>\n",
       "      <td>30573</td>\n",
       "      <td>0</td>\n",
       "    </tr>\n",
       "    <tr>\n",
       "      <th>3</th>\n",
       "      <td>4</td>\n",
       "      <td>A</td>\n",
       "      <td>25</td>\n",
       "      <td>male</td>\n",
       "      <td>desktop</td>\n",
       "      <td>62269</td>\n",
       "      <td>0</td>\n",
       "    </tr>\n",
       "    <tr>\n",
       "      <th>4</th>\n",
       "      <td>5</td>\n",
       "      <td>A</td>\n",
       "      <td>38</td>\n",
       "      <td>female</td>\n",
       "      <td>mobile</td>\n",
       "      <td>36831</td>\n",
       "      <td>0</td>\n",
       "    </tr>\n",
       "  </tbody>\n",
       "</table>\n",
       "</div>"
      ]
     },
     "execution_count": 12,
     "metadata": {},
     "output_type": "execute_result"
    }
   ],
   "execution_count": 12
  },
  {
   "metadata": {
    "ExecuteTime": {
     "end_time": "2025-07-01T14:26:47.046590Z",
     "start_time": "2025-07-01T14:26:47.040482Z"
    }
   },
   "cell_type": "code",
   "source": [
    "from scipy.stats import ttest_ind\n",
    "\n",
    "# Получим выборки по группам\n",
    "A = ab_data[ab_data['group'] == 'A']['conversion']\n",
    "B = ab_data[ab_data['group'] == 'B']['conversion']\n",
    "\n",
    "# Применим t-тест для независимых выборок\n",
    "t_stat, p_value = ttest_ind(A, B)\n",
    "\n",
    "print(f\"t-статистика: {t_stat:.4f}\")\n",
    "print(f\"p-value: {p_value:.4f}\")"
   ],
   "id": "f526b6c82a18382e",
   "outputs": [
    {
     "name": "stdout",
     "output_type": "stream",
     "text": [
      "t-статистика: -2.7832\n",
      "p-value: 0.0054\n"
     ]
    }
   ],
   "execution_count": 13
  },
  {
   "metadata": {
    "ExecuteTime": {
     "end_time": "2025-07-01T14:26:47.556625Z",
     "start_time": "2025-07-01T14:26:47.534465Z"
    }
   },
   "cell_type": "code",
   "source": [
    "from scipy.stats import ttest_ind, chi2_contingency\n",
    "\n",
    "# 1. Числовые ковариты: 'age', 'income'\n",
    "print(\"Проверка однородности по числовым коваритам\")\n",
    "for col in ['age', 'income']:\n",
    "    A = ab_data[ab_data['group'] == 'A'][col]\n",
    "    B = ab_data[ab_data['group'] == 'B'][col]\n",
    "    t_stat, p_val = ttest_ind(A, B)\n",
    "    print(f\"{col}: t={t_stat:.3f}, p-value={p_val:.4f}\")\n",
    "\n",
    "# 2. Категориальные ковариты: 'gender', 'device'\n",
    "print(\"\\nПроверка однородности по категориальным коваритам\")\n",
    "for col in ['gender', 'device']:\n",
    "    contingency_table = pd.crosstab(ab_data['group'], ab_data[col])\n",
    "    chi2, p_val, _, _ = chi2_contingency(contingency_table)\n",
    "    print(f\"{col}: chi2={chi2:.3f}, p-value={p_val:.4f}\")"
   ],
   "id": "b5f8309ef2e6ddfb",
   "outputs": [
    {
     "name": "stdout",
     "output_type": "stream",
     "text": [
      "Проверка однородности по числовым коваритам\n",
      "age: t=0.197, p-value=0.8441\n",
      "income: t=0.186, p-value=0.8527\n",
      "\n",
      "Проверка однородности по категориальным коваритам\n",
      "gender: chi2=0.051, p-value=0.8210\n",
      "device: chi2=0.001, p-value=0.9774\n"
     ]
    }
   ],
   "execution_count": 14
  },
  {
   "metadata": {
    "ExecuteTime": {
     "end_time": "2025-07-01T14:26:47.826232Z",
     "start_time": "2025-07-01T14:26:47.823781Z"
    }
   },
   "cell_type": "code",
   "source": "",
   "id": "6b316a501d881749",
   "outputs": [],
   "execution_count": null
  },
  {
   "metadata": {},
   "cell_type": "code",
   "outputs": [],
   "execution_count": null,
   "source": "",
   "id": "565b53eaab68a085"
  }
 ],
 "metadata": {
  "kernelspec": {
   "display_name": "Python 3",
   "language": "python",
   "name": "python3"
  },
  "language_info": {
   "codemirror_mode": {
    "name": "ipython",
    "version": 2
   },
   "file_extension": ".py",
   "mimetype": "text/x-python",
   "name": "python",
   "nbconvert_exporter": "python",
   "pygments_lexer": "ipython2",
   "version": "2.7.6"
  }
 },
 "nbformat": 4,
 "nbformat_minor": 5
}
