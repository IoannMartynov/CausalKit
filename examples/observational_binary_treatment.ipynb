{
 "cells": [
  {
   "metadata": {},
   "cell_type": "markdown",
   "source": [
    "# Observational data with binary treatment\n",
    "\n",
    "This notebook demonstrates a complete workflow for observational data with a binary treatment using only the `causalkit` library.\n",
    "\n",
    "Steps:\n",
    "1. Gather data (synthetic observational)\n",
    "2. Make CausalData object\n",
    "3. Run EDA\n",
    "4. Run inference (ATE via DoubleML; ATT optional)\n",
    "5. Do GATE analysis\n"
   ],
   "id": "fe7f86e1386328e3"
  },
  {
   "metadata": {
    "ExecuteTime": {
     "end_time": "2025-08-09T12:02:45.520850Z",
     "start_time": "2025-08-09T12:02:45.504929Z"
    }
   },
   "cell_type": "code",
   "source": [
    "# 1. Gather data - generators.py\n",
    "from causalkit.data import  CausalData, CausalDatasetGenerator\n",
    "import numpy as np\n",
    "\n",
    "\n",
    "gen = CausalDatasetGenerator(\n",
    "        theta=1.5,\n",
    "        beta_y=np.array([0.5, -0.4, 0.15, 0.5]),  # effect of confounders on outcome\n",
    "        beta_t=np.array([0.2, 0.5, -0.3, 0.6]),   # effect of confounders on treatment (observational)\n",
    "        target_t_rate=0.34,\n",
    "        outcome_type='continuous',                 # \"continuous\" or \"binary\"\n",
    "        sigma_y=1.0,                               # noise for continuous outcomes\n",
    "        seed=42,\n",
    "        confounder_specs=[\n",
    "            {\"name\": \"age\", \"dist\": \"normal\", \"mu\": 45, \"sd\": 12},         # numeric\n",
    "            {\"name\": \"smoker\", \"dist\": \"bernoulli\", \"p\": 0.25},            # binary\n",
    "            {\"name\": \"bmi\", \"dist\": \"normal\", \"mu\": 27, \"sd\": 4},          # numeric\n",
    "            {\"name\": \"urban\", \"dist\": \"bernoulli\", \"p\": 0.6},              # binary\n",
    "        ],)\n",
    "df = gen.generate(10_000)\n",
    "\n",
    "\n",
    "print(df.head())\n"
   ],
   "id": "f3142e987c9160cb",
   "outputs": [
    {
     "name": "stdout",
     "output_type": "stream",
     "text": [
      "           y    t        age  smoker        bmi  urban  propensity        mu0  \\\n",
      "0  26.895838  0.0  48.656605     1.0  20.651225    0.0    0.797173  27.025986   \n",
      "1  21.437461  0.0  32.520191     0.0  32.502713    1.0    0.004898  21.635502   \n",
      "2  32.789667  1.0  54.005414     1.0  32.180623    1.0    0.396435  31.929801   \n",
      "3  34.692380  0.0  56.286777     0.0  35.945336    1.0    0.168895  34.035189   \n",
      "4  14.699042  0.0  21.587578     0.0  31.046206    0.0    0.000469  15.450720   \n",
      "\n",
      "         mu1  cate  \n",
      "0  28.525986   1.5  \n",
      "1  23.135502   1.5  \n",
      "2  33.429801   1.5  \n",
      "3  35.535189   1.5  \n",
      "4  16.950720   1.5  \n"
     ]
    }
   ],
   "execution_count": 7
  },
  {
   "metadata": {
    "ExecuteTime": {
     "end_time": "2025-08-09T12:02:46.004361Z",
     "start_time": "2025-08-09T12:02:46.000350Z"
    }
   },
   "cell_type": "code",
   "source": [
    "# 2. Make CausalData object\n",
    "causal_data = CausalData(\n",
    "    df=df,\n",
    "    outcome='y',\n",
    "    treatment='t',\n",
    "    cofounders=['age', 'smoker', 'bmi', 'urban']\n",
    ")"
   ],
   "id": "98e84edf0e935995",
   "outputs": [],
   "execution_count": 8
  },
  {
   "metadata": {
    "ExecuteTime": {
     "end_time": "2025-08-09T12:02:46.395948Z",
     "start_time": "2025-08-09T12:02:46.358471Z"
    }
   },
   "cell_type": "code",
   "source": [
    "# 3. Run EDA - eda.py\n",
    "from causalkit.eda.eda import CausalEDA\n",
    "eda = CausalEDA(causal_data, n_splits=3, random_state=42)\n",
    "health = eda.data_health_check()\n",
    "missing = eda.missingness_report()\n",
    "summary = eda.summaries()\n",
    "ps = eda.fit_propensity()\n",
    "auc = eda.treatment_predictability_auc(ps)\n",
    "positivity = eda.positivity_check(ps)\n",
    "balance = eda.balance_table(ps, estimand='ATE')\n",
    "weights = eda.weight_diagnostics(ps, estimand='ATE')\n",
    "\n",
    "print('Health:', health)\n",
    "print('Treatment rate:', summary['treatment_rate'])\n",
    "print('AUC:', auc)\n",
    "print('Positivity flag:', positivity['flag'])\n",
    "print('Balance (head):')\n",
    "print(balance.head())\n"
   ],
   "id": "da15b5287761f5b",
   "outputs": [
    {
     "name": "stdout",
     "output_type": "stream",
     "text": [
      "Health: {'constant_columns': [], 'n_duplicates': 0, 'n_rows': 10000}\n",
      "Treatment rate: 0.3435\n",
      "AUC: 0.907425576282855\n",
      "Positivity flag: True\n",
      "Balance (head):\n",
      "  covariate  SMD_unweighted  SMD_weighted  flag_unw  flag_w\n",
      "0       age        1.506023      0.337686      True    True\n",
      "2       bmi       -0.631012     -0.156250      True    True\n",
      "3     urban        0.169672      0.020909      True   False\n",
      "1    smoker        0.103040      0.008485      True   False\n"
     ]
    }
   ],
   "execution_count": 9
  },
  {
   "metadata": {
    "ExecuteTime": {
     "end_time": "2025-08-09T12:02:48.168330Z",
     "start_time": "2025-08-09T12:02:47.752501Z"
    }
   },
   "cell_type": "code",
   "source": [
    "# 4. Run inference - inference (DoubleML)\n",
    "from causalkit.inference.att import dml\n",
    "\n",
    "\n",
    "# ATT (optional)\n",
    "res_att = dml(causal_data, n_folds=3, n_rep=1, confidence_level=0.95)\n",
    "print('ATT:', res_att['coefficient'], 'CI:', res_att['confidence_interval'])\n"
   ],
   "id": "9bd53f9697bddbe6",
   "outputs": [
    {
     "name": "stdout",
     "output_type": "stream",
     "text": [
      "ATT: 1.744684303724605 CI: (np.float64(1.6224682938461508), np.float64(1.866900313603059))\n"
     ]
    }
   ],
   "execution_count": 10
  },
  {
   "metadata": {
    "ExecuteTime": {
     "end_time": "2025-08-09T11:53:08.691559Z",
     "start_time": "2025-08-09T11:53:08.282963Z"
    }
   },
   "cell_type": "code",
   "source": [
    "# 5. Do GATE analysis - inference\n",
    "from causalkit.inference import gate_esimand\n",
    "gate_df = gate_esimand(causal_data, n_groups=5, n_folds=3, n_rep=1, confidence_level=0.95)\n",
    "print(gate_df.head())\n"
   ],
   "id": "54eef07c908eb0",
   "outputs": [
    {
     "name": "stdout",
     "output_type": "stream",
     "text": [
      "   group     n      theta  std_error   p_value   ci_lower   ci_upper\n",
      "0      0  2000  -0.511201   0.366053  0.162557  -1.228651   0.206249\n",
      "1      1  2000   3.112290   0.014539  0.000000   3.083794   3.140786\n",
      "2      2  2000   5.777086   0.020489  0.000000   5.736929   5.817243\n",
      "3      3  2000   9.510364   0.029710  0.000000   9.452133   9.568594\n",
      "4      4  2000  16.941401   0.113386  0.000000  16.719168  17.163634\n"
     ]
    }
   ],
   "execution_count": 5
  },
  {
   "metadata": {},
   "cell_type": "markdown",
   "source": [
    "Notes:\n",
    "- The dataset here is synthetic and small for demonstration.\n",
    "- All steps use only the `causalkit` library interfaces.\n",
    "- For real data, ensure appropriate feature engineering and diagnostics.\n"
   ],
   "id": "50945487b6e617a1"
  },
  {
   "metadata": {
    "ExecuteTime": {
     "end_time": "2025-08-09T11:50:23.655766Z",
     "start_time": "2025-08-09T11:50:23.653815Z"
    }
   },
   "cell_type": "code",
   "source": "",
   "id": "2e013b0ee118ce18",
   "outputs": [],
   "execution_count": null
  },
  {
   "metadata": {},
   "cell_type": "code",
   "outputs": [],
   "execution_count": null,
   "source": "",
   "id": "483da7867739a6ed"
  }
 ],
 "metadata": {
  "kernelspec": {
   "name": "python3",
   "language": "python",
   "display_name": "Python 3 (ipykernel)"
  }
 },
 "nbformat": 4,
 "nbformat_minor": 5
}
