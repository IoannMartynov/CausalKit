{
 "cells": [
  {
   "metadata": {},
   "cell_type": "markdown",
   "source": "# Using CausalKit to infer binary treatment with continuous and binary outcome",
   "id": "359bf04fffa05dec"
  },
  {
   "metadata": {},
   "cell_type": "markdown",
   "source": "## Continuos outcome",
   "id": "224b5852371f471c"
  },
  {
   "metadata": {},
   "cell_type": "markdown",
   "source": "### Dataset 1",
   "id": "5a590bce57d56a09"
  },
  {
   "metadata": {
    "ExecuteTime": {
     "end_time": "2025-08-15T09:00:15.993710Z",
     "start_time": "2025-08-15T09:00:15.240476Z"
    }
   },
   "cell_type": "code",
   "source": [
    "import numpy as np\n",
    "from causalkit.data import CausalDatasetGenerator, CausalData"
   ],
   "id": "2c1bdc5579aaa10",
   "outputs": [],
   "execution_count": 1
  },
  {
   "cell_type": "code",
   "id": "initial_id",
   "metadata": {
    "collapsed": true,
    "ExecuteTime": {
     "end_time": "2025-08-15T09:00:16.025279Z",
     "start_time": "2025-08-15T09:00:15.998839Z"
    }
   },
   "source": [
    "# Domain setup:\n",
    "# - outcome_type='continuous' for LTV\n",
    "# - theta: average causal lift in LTV from receiving the feature\n",
    "# - target_t_rate: expected adoption/exposure rate of the feature\n",
    "# - beta_y/beta_t: how confounders influence outcome and treatment (introduces confounding)\n",
    "\n",
    "gen = CausalDatasetGenerator(\n",
    "    theta=2.5,                      # average uplift in LTV from receiving the feature\n",
    "    outcome_type=\"continuous\",\n",
    "    sigma_y=5.0,                    # noise level for LTV\n",
    "    target_t_rate=0.1,             # ~30% users receive the feature\n",
    "    seed=123,\n",
    "\n",
    "    # Confounders (5 total)\n",
    "    confounder_specs=[\n",
    "        {\"name\": \"tenure_days\",       \"dist\": \"normal\",   \"mu\": 120, \"sd\": 60},   # days since install\n",
    "        {\"name\": \"prior_30d_spend\",   \"dist\": \"uniform\",  \"a\": 0.0,  \"b\": 100.0}, # prior spend in last 30 days\n",
    "        {\"name\": \"engagement_rate\",   \"dist\": \"uniform\",  \"a\": 0.0,  \"b\": 1.0},   # daily active ratio\n",
    "        {\"name\": \"premium_user\",      \"dist\": \"bernoulli\",\"p\": 0.15},             # subscription flag\n",
    "        {\"name\": \"android\",           \"dist\": \"bernoulli\",\"p\": 0.55},             # OS flag\n",
    "    ],\n",
    "\n",
    "    # Linear effects of confounders\n",
    "    # Order matches the confounder_specs above\n",
    "    beta_y=np.array([ 0.02,  0.10,  8.0,  5.0,  0.5]),   # effect on LTV baseline\n",
    "    beta_t=np.array([ 0.01,  0.02,  1.0,  0.8, -0.3]),   # effect on probability of receiving feature (log-odds)\n",
    ")\n",
    "\n",
    "# Create CausalData directly (treatment='t', outcome='y' are set internally)\n",
    "# Optionally pass the confounder names to keep only a subset; here we include all.\n",
    "causal_data = gen.to_causal_data(\n",
    "    n=50_000,\n",
    "    cofounders=[\"tenure_days\", \"prior_30d_spend\", \"engagement_rate\", \"premium_user\", \"android\"]\n",
    ")\n",
    "\n",
    "# Example access\n",
    "causal_data.df.head()"
   ],
   "outputs": [
    {
     "data": {
      "text/plain": [
       "           y    t  tenure_days  prior_30d_spend  engagement_rate  \\\n",
       "0   8.698079  0.0    60.652719        26.563015         0.757982   \n",
       "1  16.124146  1.0    97.932801        65.694021         0.487610   \n",
       "2  10.631496  0.0   197.275516        19.183593         0.752212   \n",
       "3   7.171113  0.0   131.638465        25.349005         0.144235   \n",
       "4  17.188792  0.0   175.213854        34.416637         0.833235   \n",
       "\n",
       "   premium_user  android  \n",
       "0           0.0      1.0  \n",
       "1           0.0      0.0  \n",
       "2           0.0      0.0  \n",
       "3           0.0      1.0  \n",
       "4           0.0      0.0  "
      ],
      "text/html": [
       "<div>\n",
       "<style scoped>\n",
       "    .dataframe tbody tr th:only-of-type {\n",
       "        vertical-align: middle;\n",
       "    }\n",
       "\n",
       "    .dataframe tbody tr th {\n",
       "        vertical-align: top;\n",
       "    }\n",
       "\n",
       "    .dataframe thead th {\n",
       "        text-align: right;\n",
       "    }\n",
       "</style>\n",
       "<table border=\"1\" class=\"dataframe\">\n",
       "  <thead>\n",
       "    <tr style=\"text-align: right;\">\n",
       "      <th></th>\n",
       "      <th>y</th>\n",
       "      <th>t</th>\n",
       "      <th>tenure_days</th>\n",
       "      <th>prior_30d_spend</th>\n",
       "      <th>engagement_rate</th>\n",
       "      <th>premium_user</th>\n",
       "      <th>android</th>\n",
       "    </tr>\n",
       "  </thead>\n",
       "  <tbody>\n",
       "    <tr>\n",
       "      <th>0</th>\n",
       "      <td>8.698079</td>\n",
       "      <td>0.0</td>\n",
       "      <td>60.652719</td>\n",
       "      <td>26.563015</td>\n",
       "      <td>0.757982</td>\n",
       "      <td>0.0</td>\n",
       "      <td>1.0</td>\n",
       "    </tr>\n",
       "    <tr>\n",
       "      <th>1</th>\n",
       "      <td>16.124146</td>\n",
       "      <td>1.0</td>\n",
       "      <td>97.932801</td>\n",
       "      <td>65.694021</td>\n",
       "      <td>0.487610</td>\n",
       "      <td>0.0</td>\n",
       "      <td>0.0</td>\n",
       "    </tr>\n",
       "    <tr>\n",
       "      <th>2</th>\n",
       "      <td>10.631496</td>\n",
       "      <td>0.0</td>\n",
       "      <td>197.275516</td>\n",
       "      <td>19.183593</td>\n",
       "      <td>0.752212</td>\n",
       "      <td>0.0</td>\n",
       "      <td>0.0</td>\n",
       "    </tr>\n",
       "    <tr>\n",
       "      <th>3</th>\n",
       "      <td>7.171113</td>\n",
       "      <td>0.0</td>\n",
       "      <td>131.638465</td>\n",
       "      <td>25.349005</td>\n",
       "      <td>0.144235</td>\n",
       "      <td>0.0</td>\n",
       "      <td>1.0</td>\n",
       "    </tr>\n",
       "    <tr>\n",
       "      <th>4</th>\n",
       "      <td>17.188792</td>\n",
       "      <td>0.0</td>\n",
       "      <td>175.213854</td>\n",
       "      <td>34.416637</td>\n",
       "      <td>0.833235</td>\n",
       "      <td>0.0</td>\n",
       "      <td>0.0</td>\n",
       "    </tr>\n",
       "  </tbody>\n",
       "</table>\n",
       "</div>"
      ]
     },
     "execution_count": 2,
     "metadata": {},
     "output_type": "execute_result"
    }
   ],
   "execution_count": 2
  },
  {
   "metadata": {
    "ExecuteTime": {
     "end_time": "2025-08-15T09:00:16.115852Z",
     "start_time": "2025-08-15T09:00:16.045687Z"
    }
   },
   "cell_type": "code",
   "source": [
    "# 3. Run EDA - eda.py\n",
    "from causalkit.eda.eda import CausalEDA\n",
    "eda = CausalEDA(causal_data, n_splits=3, random_state=42)\n",
    "health = eda.data_health_check()\n",
    "missing = eda.missingness_report()\n",
    "summary = eda.summaries()\n",
    "ps = eda.fit_propensity()\n",
    "auc = eda.treatment_predictability_auc(ps)\n",
    "positivity = eda.positivity_check(ps)\n",
    "balance = eda.balance_table(ps, estimand='ATE')\n",
    "weights = eda.weight_diagnostics(ps, estimand='ATE')\n",
    "\n",
    "print('Health:', health)\n",
    "print('Treatment rate:', summary['treatment_rate'])\n",
    "print('AUC:', auc)\n",
    "print('Positivity flag:', positivity['flag'])\n",
    "print('Balance (head):')\n",
    "print(balance.head())\n",
    "\n"
   ],
   "id": "8d20ac9aea53eea4",
   "outputs": [
    {
     "name": "stdout",
     "output_type": "stream",
     "text": [
      "Health: {'constant_columns': [], 'n_duplicates': 0, 'n_rows': 50000}\n",
      "Treatment rate: 0.09978\n",
      "AUC: 0.7475463816045251\n",
      "Positivity flag: True\n",
      "Balance (head):\n",
      "         covariate  SMD_unweighted  SMD_weighted  flag_unw  flag_w\n",
      "0      tenure_days        0.586909     -0.005641      True   False\n",
      "1  prior_30d_spend        0.542104     -0.016668      True   False\n",
      "2  engagement_rate        0.296096      0.015714      True   False\n",
      "3     premium_user        0.291716     -0.004577      True   False\n",
      "4          android       -0.168447      0.014151      True   False\n"
     ]
    }
   ],
   "execution_count": 3
  },
  {
   "metadata": {
    "ExecuteTime": {
     "end_time": "2025-08-15T09:00:16.177360Z",
     "start_time": "2025-08-15T09:00:16.174692Z"
    }
   },
   "cell_type": "code",
   "source": "summary",
   "id": "a414b87413c53b54",
   "outputs": [
    {
     "data": {
      "text/plain": [
       "{'treatment_rate': np.float64(0.09978),\n",
       " 'outcome_by_treatment':      count       mean       std\n",
       " t                              \n",
       " 0.0  45011  12.103740  6.525400\n",
       " 1.0   4989  18.116251  6.457517,\n",
       " 'naive_diff': np.float64(6.01251122740617)}"
      ]
     },
     "execution_count": 4,
     "metadata": {},
     "output_type": "execute_result"
    }
   ],
   "execution_count": 4
  },
  {
   "metadata": {
    "ExecuteTime": {
     "end_time": "2025-08-15T09:00:16.193985Z",
     "start_time": "2025-08-15T09:00:16.191688Z"
    }
   },
   "cell_type": "code",
   "source": "positivity",
   "id": "852e5d5586d8962e",
   "outputs": [
    {
     "data": {
      "text/plain": [
       "{'bounds': (0.05, 0.95),\n",
       " 'share_below': 0.34994,\n",
       " 'share_above': 0.0,\n",
       " 'flag': True}"
      ]
     },
     "execution_count": 5,
     "metadata": {},
     "output_type": "execute_result"
    }
   ],
   "execution_count": 5
  },
  {
   "metadata": {
    "ExecuteTime": {
     "end_time": "2025-08-15T09:00:17.194137Z",
     "start_time": "2025-08-15T09:00:16.201943Z"
    }
   },
   "cell_type": "code",
   "source": [
    "# 4. Run inference - inference (DoubleML)\n",
    "from causalkit.inference.att import dml_att\n",
    "\n",
    "# ATT (optional)\n",
    "res_att = dml_att(causal_data, n_folds=3, n_rep=1, confidence_level=0.95)\n",
    "print('ATT:', res_att['coefficient'], 'CI:', res_att['confidence_interval'])\n"
   ],
   "id": "923f55d381244da",
   "outputs": [
    {
     "name": "stdout",
     "output_type": "stream",
     "text": [
      "ATT: 2.656014559833901 CI: (np.float64(2.4954436274298453), np.float64(2.8165854922379565))\n"
     ]
    }
   ],
   "execution_count": 6
  },
  {
   "metadata": {
    "ExecuteTime": {
     "end_time": "2025-08-15T09:00:18.876072Z",
     "start_time": "2025-08-15T09:00:17.233751Z"
    }
   },
   "cell_type": "code",
   "source": [
    "from causalkit.inference.ate import dml_ate\n",
    "res_ate = dml_ate(causal_data)\n",
    "print('ATE', res_ate['coefficient'], 'CI:', res_att['confidence_interval'])"
   ],
   "id": "ee6387e7031abe1e",
   "outputs": [
    {
     "name": "stdout",
     "output_type": "stream",
     "text": [
      "ATE 2.5741252410065254 CI: (np.float64(2.4954436274298453), np.float64(2.8165854922379565))\n"
     ]
    }
   ],
   "execution_count": 7
  },
  {
   "metadata": {
    "ExecuteTime": {
     "end_time": "2025-08-15T09:00:18.894651Z",
     "start_time": "2025-08-15T09:00:18.892234Z"
    }
   },
   "cell_type": "code",
   "source": "res_att",
   "id": "7c0b3d20efaf87ba",
   "outputs": [
    {
     "data": {
      "text/plain": [
       "{'coefficient': np.float64(2.656014559833901),\n",
       " 'std_error': np.float64(0.08192545050348818),\n",
       " 'p_value': np.float64(1.439419954878669e-230),\n",
       " 'confidence_interval': (np.float64(2.4954436274298453),\n",
       "  np.float64(2.8165854922379565)),\n",
       " 'model': <doubleml.irm.irm.DoubleMLIRM at 0x15f753620>}"
      ]
     },
     "execution_count": 8,
     "metadata": {},
     "output_type": "execute_result"
    }
   ],
   "execution_count": 8
  },
  {
   "metadata": {
    "ExecuteTime": {
     "end_time": "2025-08-15T09:00:18.903452Z",
     "start_time": "2025-08-15T09:00:18.900614Z"
    }
   },
   "cell_type": "code",
   "source": "from causalkit.refutation import refute_placebo_outcome, refute_placebo_treatment, refute_subset",
   "id": "f957cc219844a6c7",
   "outputs": [],
   "execution_count": 9
  },
  {
   "metadata": {
    "ExecuteTime": {
     "end_time": "2025-08-15T09:00:20.550706Z",
     "start_time": "2025-08-15T09:00:18.909487Z"
    }
   },
   "cell_type": "code",
   "source": [
    "att_placebo_treatment = refute_placebo_treatment(\n",
    "    dml_att,\n",
    "    causal_data,\n",
    "    random_state=42\n",
    ")\n",
    "\n",
    "print(f\"\\nATT with shuffled treatment:\")\n",
    "print(f\"  θ = {att_placebo_treatment['theta']:.4f}\")\n",
    "print(f\"  p-value = {att_placebo_treatment['p_value']:.4f}\")"
   ],
   "id": "fc1a36fef94ab843",
   "outputs": [
    {
     "name": "stdout",
     "output_type": "stream",
     "text": [
      "\n",
      "ATT with shuffled treatment:\n",
      "  θ = -0.0218\n",
      "  p-value = 0.7758\n"
     ]
    }
   ],
   "execution_count": 10
  },
  {
   "metadata": {
    "ExecuteTime": {
     "end_time": "2025-08-15T09:00:22.226996Z",
     "start_time": "2025-08-15T09:00:20.569571Z"
    }
   },
   "cell_type": "code",
   "source": [
    "# Test with ATT estimator\n",
    "att_placebo_outcome = refute_placebo_outcome(\n",
    "    dml_att,\n",
    "    causal_data,\n",
    "    random_state=42\n",
    ")\n",
    "\n",
    "print(f\"\\nATT with shuffled outcome:\")\n",
    "print(f\"  θ = {att_placebo_outcome['theta']:.4f}\")\n",
    "print(f\"  p-value = {att_placebo_outcome['p_value']:.4f}\")\n"
   ],
   "id": "2b52c09346025d22",
   "outputs": [
    {
     "name": "stdout",
     "output_type": "stream",
     "text": [
      "\n",
      "ATT with shuffled outcome:\n",
      "  θ = 0.1349\n",
      "  p-value = 0.2364\n"
     ]
    }
   ],
   "execution_count": 11
  },
  {
   "metadata": {
    "ExecuteTime": {
     "end_time": "2025-08-15T09:00:47.092308Z",
     "start_time": "2025-08-15T09:00:42.868307Z"
    }
   },
   "cell_type": "code",
   "source": [
    "subset_fractions = [0.6, 0.8, 0.9]\n",
    "\n",
    "att_subset_results = []\n",
    "for fraction in subset_fractions:\n",
    "    subset_result = refute_subset(\n",
    "        dml_att,\n",
    "        causal_data,\n",
    "        fraction=fraction,\n",
    "        random_state=42\n",
    "    )\n",
    "    att_subset_results.append(subset_result)\n",
    "\n",
    "    print(f\"  {fraction*100:.0f}% subset: θ = {subset_result['theta']:.4f}, p = {subset_result['p_value']:.4f}\")"
   ],
   "id": "e136a9b31b863209",
   "outputs": [
    {
     "name": "stdout",
     "output_type": "stream",
     "text": [
      "  60% subset: θ = 2.6818, p = 0.0000\n",
      "  80% subset: θ = 2.6662, p = 0.0000\n",
      "  90% subset: θ = 2.6790, p = 0.0000\n"
     ]
    }
   ],
   "execution_count": 13
  },
  {
   "metadata": {},
   "cell_type": "code",
   "outputs": [],
   "execution_count": null,
   "source": "",
   "id": "40eab9536b063983"
  }
 ],
 "metadata": {
  "kernelspec": {
   "display_name": "Python 3",
   "language": "python",
   "name": "python3"
  },
  "language_info": {
   "codemirror_mode": {
    "name": "ipython",
    "version": 2
   },
   "file_extension": ".py",
   "mimetype": "text/x-python",
   "name": "python",
   "nbconvert_exporter": "python",
   "pygments_lexer": "ipython2",
   "version": "2.7.6"
  }
 },
 "nbformat": 4,
 "nbformat_minor": 5
}
