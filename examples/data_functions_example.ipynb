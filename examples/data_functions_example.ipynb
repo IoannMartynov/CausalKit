{
 "cells": [
  {
   "metadata": {},
   "cell_type": "markdown",
   "source": [
    "# CausalKit Data Module Examples\n",
    "\n",
    "This notebook demonstrates how to use the functions and classes in the `causalkit.data` module. The data module provides tools for:\n",
    "\n",
    "1. **Generating synthetic data** for causal inference tasks\n",
    "2. **Managing causal data** with the `causaldata` class\n",
    "\n",
    "We'll explore both of these capabilities with practical examples.\n"
   ],
   "id": "c3a434127b2216c"
  },
  {
   "metadata": {},
   "cell_type": "markdown",
   "source": [
    "## 1. Data Generation Functions\n",
    "\n",
    "The `causalkit.data` module provides functions to generate synthetic data for causal inference tasks. These functions are useful for:\n",
    "\n",
    "- Testing causal inference methods\n",
    "- Demonstrating causal inference concepts\n",
    "- Benchmarking different approaches\n",
    "\n",
    "Let's explore the available data generation functions.\n"
   ],
   "id": "36ddd03342654532"
  },
  {
   "metadata": {},
   "cell_type": "code",
   "outputs": [],
   "execution_count": null,
   "source": [
    "# Import necessary libraries\n",
    "import pandas as pd\n",
    "import numpy as np\n",
    "import matplotlib.pyplot as plt\n",
    "import seaborn as sns\n",
    "\n",
    "# Set plotting style\n",
    "sns.set_style('whitegrid')\n",
    "\n",
    "# Import data generation functions\n",
    "from causalkit.data import generate_rct_data, generate_obs_data\n"
   ],
   "id": "48604af4c804f097"
  },
  {
   "metadata": {},
   "cell_type": "markdown",
   "source": [
    "### 1.1 Generating Randomized Controlled Trial (RCT) Data\n",
    "\n",
    "The `generate_rct_data` function creates synthetic data that mimics a randomized controlled trial. In an RCT, treatment assignment is random and independent of any covariates.\n"
   ],
   "id": "165fa7b07af7a9ca"
  },
  {
   "metadata": {},
   "cell_type": "code",
   "outputs": [],
   "execution_count": null,
   "source": [
    "# Generate RCT data with default parameters\n",
    "rct_df = generate_rct_data(random_state=42)\n",
    "\n",
    "# Display the first few rows\n",
    "print(f\"Generated RCT data with {len(rct_df)} rows and {len(rct_df.columns)} columns\")\n",
    "rct_df.head()\n"
   ],
   "id": "19865b6503994202"
  },
  {
   "metadata": {},
   "cell_type": "markdown",
   "source": "Let's examine the structure of the generated data:\n",
   "id": "8904bd005cf14cb6"
  },
  {
   "metadata": {},
   "cell_type": "code",
   "outputs": [],
   "execution_count": null,
   "source": [
    "# Display summary statistics\n",
    "rct_df.describe()\n"
   ],
   "id": "23fd3207ad30f118"
  },
  {
   "metadata": {},
   "cell_type": "code",
   "outputs": [],
   "execution_count": null,
   "source": [
    "# Check the distribution of treatment assignment\n",
    "treatment_counts = rct_df['treatment'].value_counts(normalize=True)\n",
    "print(\"Treatment distribution:\")\n",
    "print(treatment_counts)\n",
    "\n",
    "# Visualize the treatment distribution\n",
    "plt.figure(figsize=(8, 5))\n",
    "sns.countplot(x='treatment', data=rct_df)\n",
    "plt.title('Distribution of Treatment Assignment')\n",
    "plt.xlabel('Treatment')\n",
    "plt.ylabel('Count')\n",
    "plt.show()\n"
   ],
   "id": "1d5fac25d211e7ff"
  },
  {
   "metadata": {},
   "cell_type": "markdown",
   "source": "Let's also look at the relationship between treatment and outcome:\n",
   "id": "bf3e4376dd9f12c1"
  },
  {
   "metadata": {},
   "cell_type": "code",
   "outputs": [],
   "execution_count": null,
   "source": [
    "# Calculate average outcome by treatment group\n",
    "avg_outcome = rct_df.groupby('treatment')['target'].mean()\n",
    "print(\"Average outcome by treatment group:\")\n",
    "print(avg_outcome)\n",
    "\n",
    "# Visualize the relationship\n",
    "plt.figure(figsize=(8, 5))\n",
    "sns.barplot(x='treatment', y='target', data=rct_df)\n",
    "plt.title('Average Outcome by Treatment Group')\n",
    "plt.xlabel('Treatment')\n",
    "plt.ylabel('Average Outcome')\n",
    "plt.show()\n"
   ],
   "id": "ccc8e936b4445a3e"
  },
  {
   "metadata": {},
   "cell_type": "markdown",
   "source": [
    "### 1.2 Customizing RCT Data Generation\n",
    "\n",
    "The `generate_rct_data` function allows customization of various parameters:\n"
   ],
   "id": "6d45b92e7bbb3a2"
  },
  {
   "metadata": {},
   "cell_type": "code",
   "outputs": [],
   "execution_count": null,
   "source": [
    "# Generate RCT data with custom parameters\n",
    "custom_rct_df = generate_rct_data(\n",
    "    n_users=10000,           # Number of users\n",
    "    split=0.7,               # 70% in control, 30% in treatment\n",
    "    target_type=\"continuous\", # Continuous outcome variable\n",
    "    random_state=42          # For reproducibility\n",
    ")\n",
    "\n",
    "# Display the first few rows\n",
    "print(f\"Generated custom RCT data with {len(custom_rct_df)} rows\")\n",
    "custom_rct_df.head()\n"
   ],
   "id": "b2e2afae50173537"
  },
  {
   "metadata": {},
   "cell_type": "code",
   "outputs": [],
   "execution_count": null,
   "source": [
    "# Check the distribution of treatment assignment\n",
    "custom_treatment_counts = custom_rct_df['treatment'].value_counts(normalize=True)\n",
    "print(\"Treatment distribution:\")\n",
    "print(custom_treatment_counts)\n",
    "\n",
    "# Visualize the treatment distribution\n",
    "plt.figure(figsize=(8, 5))\n",
    "sns.countplot(x='treatment', data=custom_rct_df)\n",
    "plt.title('Distribution of Treatment Assignment (Custom Parameters)')\n",
    "plt.xlabel('Treatment')\n",
    "plt.ylabel('Count')\n",
    "plt.show()\n"
   ],
   "id": "e71bccea076c0b7e"
  },
  {
   "metadata": {},
   "cell_type": "markdown",
   "source": [
    "### 1.3 Generating Observational Data\n",
    "\n",
    "The `generate_obs_data` function creates synthetic data that mimics observational studies. In observational data, treatment assignment is not random and may depend on covariates.\n"
   ],
   "id": "50fad7187ae51e7"
  },
  {
   "metadata": {},
   "cell_type": "code",
   "outputs": [],
   "execution_count": null,
   "source": [
    "# Generate observational data\n",
    "obs_df = generate_obs_data(random_state=42)\n",
    "\n",
    "# Display the first few rows\n",
    "print(f\"Generated observational data with {len(obs_df)} rows and {len(obs_df.columns)} columns\")\n",
    "obs_df.head()\n"
   ],
   "id": "6b3c1e964830b5c8"
  },
  {
   "metadata": {},
   "cell_type": "code",
   "outputs": [],
   "execution_count": null,
   "source": [
    "# Check the distribution of treatment assignment\n",
    "obs_treatment_counts = obs_df['treatment'].value_counts(normalize=True)\n",
    "print(\"Treatment distribution:\")\n",
    "print(obs_treatment_counts)\n",
    "\n",
    "# Visualize the treatment distribution\n",
    "plt.figure(figsize=(8, 5))\n",
    "sns.countplot(x='treatment', data=obs_df)\n",
    "plt.title('Distribution of Treatment Assignment (Observational Data)')\n",
    "plt.xlabel('Treatment')\n",
    "plt.ylabel('Count')\n",
    "plt.show()\n"
   ],
   "id": "8ebf653f7b8dfb7e"
  },
  {
   "metadata": {},
   "cell_type": "markdown",
   "source": "In observational data, treatment assignment often depends on covariates. Let's examine this relationship:\n",
   "id": "556c1cde793946eb"
  },
  {
   "metadata": {},
   "cell_type": "code",
   "outputs": [],
   "execution_count": null,
   "source": [
    "# Examine relationship between age and treatment\n",
    "plt.figure(figsize=(10, 6))\n",
    "sns.boxplot(x='treatment', y='age', data=obs_df)\n",
    "plt.title('Relationship Between Age and Treatment Assignment')\n",
    "plt.xlabel('Treatment')\n",
    "plt.ylabel('Age')\n",
    "plt.show()\n"
   ],
   "id": "f73f4f79ad0538a5"
  },
  {
   "metadata": {},
   "cell_type": "markdown",
   "source": [
    "## 2. The causaldata Class\n",
    "\n",
    "The `causaldata` class provides a convenient way to manage data for causal inference tasks. It wraps a pandas DataFrame and stores metadata about columns for causal inference analysis.\n"
   ],
   "id": "e8c41dff94554349"
  },
  {
   "metadata": {},
   "cell_type": "code",
   "outputs": [],
   "execution_count": null,
   "source": [
    "# Import the causaldata class\n",
    "from causalkit.data import causaldata\n"
   ],
   "id": "be035534d09d1320"
  },
  {
   "metadata": {},
   "cell_type": "markdown",
   "source": [
    "### 2.1 Creating a causaldata Object\n",
    "\n",
    "Let's create a causaldata object using the RCT data we generated earlier:\n"
   ],
   "id": "b14ca1b1d2e2a8d2"
  },
  {
   "metadata": {},
   "cell_type": "code",
   "outputs": [],
   "execution_count": null,
   "source": [
    "# Create a causaldata object\n",
    "ck_data = causaldata(\n",
    "    df=rct_df,\n",
    "    target='target',\n",
    "    cofounders=['age', 'invited_friend'],\n",
    "    treatment='treatment'\n",
    ")\n",
    "\n",
    "# Display the object\n",
    "print(ck_data)\n"
   ],
   "id": "44402f1dab0ce973"
  },
  {
   "metadata": {},
   "cell_type": "markdown",
   "source": [
    "### 2.2 Accessing Data by Role\n",
    "\n",
    "The causaldata class provides properties to access columns by their role in causal inference:\n"
   ],
   "id": "11b82d24c36cd81b"
  },
  {
   "metadata": {},
   "cell_type": "code",
   "outputs": [],
   "execution_count": null,
   "source": [
    "# Access the target variable\n",
    "print(\"Target variable:\")\n",
    "print(ck_data.target.head())\n",
    "\n",
    "# Access the treatment variable\n",
    "print(\"\\nTreatment variable:\")\n",
    "print(ck_data.treatment.head())\n",
    "\n",
    "# Access the cofounders\n",
    "print(\"\\nCofounders:\")\n",
    "print(ck_data.cofounders.head())\n"
   ],
   "id": "77784d578495eab2"
  },
  {
   "metadata": {},
   "cell_type": "markdown",
   "source": [
    "### 2.3 Using the get_df Method\n",
    "\n",
    "The `get_df` method allows flexible retrieval of data from the causaldata object:\n"
   ],
   "id": "a3f5d0a0958a87ef"
  },
  {
   "metadata": {},
   "cell_type": "code",
   "outputs": [],
   "execution_count": null,
   "source": [
    "# Get the entire DataFrame\n",
    "full_df = ck_data.get_df()\n",
    "print(\"Full DataFrame shape:\", full_df.shape)\n",
    "print(\"Full DataFrame columns:\", list(full_df.columns))\n",
    "print(\"\\nFirst few rows:\")\n",
    "full_df.head()\n"
   ],
   "id": "1686bf91c39d14a3"
  },
  {
   "metadata": {},
   "cell_type": "code",
   "outputs": [],
   "execution_count": null,
   "source": [
    "# Get specific columns\n",
    "specific_cols_df = ck_data.get_df(columns=['user_id', 'gender'])\n",
    "print(\"Specific columns DataFrame shape:\", specific_cols_df.shape)\n",
    "print(\"Specific columns DataFrame columns:\", list(specific_cols_df.columns))\n",
    "print(\"\\nFirst few rows:\")\n",
    "specific_cols_df.head()\n"
   ],
   "id": "980cfb295eac2519"
  },
  {
   "metadata": {},
   "cell_type": "code",
   "outputs": [],
   "execution_count": null,
   "source": [
    "# Get target and treatment columns\n",
    "target_treatment_df = ck_data.get_df(include_target=True, include_treatment=True)\n",
    "print(\"Target and treatment DataFrame shape:\", target_treatment_df.shape)\n",
    "print(\"Target and treatment DataFrame columns:\", list(target_treatment_df.columns))\n",
    "print(\"\\nFirst few rows:\")\n",
    "target_treatment_df.head()\n"
   ],
   "id": "dc90307e744da01a"
  },
  {
   "metadata": {},
   "cell_type": "code",
   "outputs": [],
   "execution_count": null,
   "source": [
    "# Get cofounders and specific columns\n",
    "mixed_df = ck_data.get_df(columns=['user_id'], include_cofounders=True)\n",
    "print(\"Mixed DataFrame shape:\", mixed_df.shape)\n",
    "print(\"Mixed DataFrame columns:\", list(mixed_df.columns))\n",
    "print(\"\\nFirst few rows:\")\n",
    "mixed_df.head()\n"
   ],
   "id": "7ca9ebbad36747aa"
  },
  {
   "metadata": {},
   "cell_type": "markdown",
   "source": [
    "### 2.4 Error Handling\n",
    "\n",
    "The `get_df` method includes error handling for non-existent columns:\n"
   ],
   "id": "dc8e395066e63774"
  },
  {
   "metadata": {},
   "cell_type": "code",
   "outputs": [],
   "execution_count": null,
   "source": [
    "# Try to get a non-existent column\n",
    "try:\n",
    "    error_df = ck_data.get_df(columns=['non_existent_column'])\n",
    "except ValueError as e:\n",
    "    print(f\"Error: {e}\")\n"
   ],
   "id": "e70998cb326a3d71"
  },
  {
   "metadata": {},
   "cell_type": "markdown",
   "source": [
    "## 3. Practical Example: Analyzing Treatment Effects\n",
    "\n",
    "Let's put everything together in a practical example where we analyze treatment effects using the causaldata class:\n"
   ],
   "id": "592bf64b6b2f0554"
  },
  {
   "metadata": {},
   "cell_type": "code",
   "outputs": [],
   "execution_count": null,
   "source": [
    "# Generate new RCT data\n",
    "analysis_df = generate_rct_data(n_users=5000, random_state=123)\n",
    "\n",
    "# Create a causaldata object\n",
    "analysis_data = causaldata(\n",
    "    df=analysis_df,\n",
    "    target='target',\n",
    "    cofounders=['age', 'invited_friend', 'gender'],\n",
    "    treatment='treatment'\n",
    ")\n",
    "\n",
    "# Get the data we need for analysis\n",
    "analysis_subset = analysis_data.get_df(include_target=True, include_treatment=True, include_cofounders=True)\n",
    "print(\"Analysis subset shape:\", analysis_subset.shape)\n",
    "print(\"Analysis subset columns:\", list(analysis_subset.columns))\n",
    "analysis_subset.head()\n"
   ],
   "id": "29d70f530a15cdd2"
  },
  {
   "metadata": {},
   "cell_type": "code",
   "outputs": [],
   "execution_count": null,
   "source": [
    "# Calculate average treatment effect\n",
    "treatment_effect = analysis_subset.groupby('treatment')['target'].mean()\n",
    "ate = treatment_effect[1] - treatment_effect[0]\n",
    "\n",
    "print(\"Average outcome by treatment group:\")\n",
    "print(treatment_effect)\n",
    "print(f\"\\nAverage Treatment Effect (ATE): {ate:.4f}\")\n",
    "\n",
    "# Visualize the treatment effect\n",
    "plt.figure(figsize=(10, 6))\n",
    "sns.barplot(x='treatment', y='target', data=analysis_subset)\n",
    "plt.title('Average Outcome by Treatment Group')\n",
    "plt.xlabel('Treatment')\n",
    "plt.ylabel('Average Outcome')\n",
    "plt.annotate(f\"ATE = {ate:.4f}\", xy=(0.5, max(treatment_effect) - 0.05), \n",
    "             xytext=(0.5, max(treatment_effect) + 0.05),\n",
    "             ha='center', va='center',\n",
    "             arrowprops=dict(arrowstyle='->', lw=1.5))\n",
    "plt.show()\n"
   ],
   "id": "1d692dd3e40099be"
  },
  {
   "metadata": {},
   "cell_type": "markdown",
   "source": [
    "### 3.1 Heterogeneous Treatment Effects\n",
    "\n",
    "Let's examine if the treatment effect varies across different subgroups:\n"
   ],
   "id": "67874da36bff0ff8"
  },
  {
   "metadata": {},
   "cell_type": "code",
   "outputs": [],
   "execution_count": null,
   "source": [
    "# Calculate treatment effect by gender\n",
    "gender_effects = analysis_subset.groupby(['gender', 'treatment'])['target'].mean().unstack()\n",
    "gender_ate = gender_effects[1] - gender_effects[0]\n",
    "\n",
    "print(\"Average outcome by gender and treatment group:\")\n",
    "print(gender_effects)\n",
    "print(\"\\nAverage Treatment Effect by gender:\")\n",
    "print(gender_ate)\n",
    "\n",
    "# Visualize heterogeneous treatment effects\n",
    "plt.figure(figsize=(12, 6))\n",
    "sns.barplot(x='gender', y='target', hue='treatment', data=analysis_subset)\n",
    "plt.title('Heterogeneous Treatment Effects by Gender')\n",
    "plt.xlabel('Gender')\n",
    "plt.ylabel('Average Outcome')\n",
    "plt.legend(title='Treatment')\n",
    "plt.show()\n"
   ],
   "id": "4e7b4ce692e96a0a"
  },
  {
   "metadata": {},
   "cell_type": "markdown",
   "source": [
    "## 4. Conclusion\n",
    "\n",
    "In this notebook, we've explored the `causalkit.data` module, which provides tools for generating synthetic data and managing causal data. We've seen how to:\n",
    "\n",
    "1. Generate synthetic data for randomized controlled trials and observational studies\n",
    "2. Create and use causaldata objects to manage data for causal inference\n",
    "3. Access data by role (target, treatment, cofounders)\n",
    "4. Use the get_df method to flexibly retrieve data\n",
    "5. Analyze treatment effects using the tools provided\n",
    "\n",
    "These tools make it easier to work with causal inference data and focus on the analysis rather than data management."
   ],
   "id": "59a3598c8f0e4cd3"
  }
 ],
 "metadata": {},
 "nbformat": 4,
 "nbformat_minor": 5
}
