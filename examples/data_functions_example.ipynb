{
 "cells": [
  {
   "metadata": {},
   "cell_type": "markdown",
   "source": [
    "# CausalKit Data Module Examples\n",
    "\n",
    "This notebook demonstrates how to use the functions and classes in the `causalkit.data` module. The data module provides tools for:\n",
    "\n",
    "1. **Generating synthetic data** for causal inference tasks\n",
    "2. **Managing causal data** with the `causaldata` class\n",
    "\n",
    "We'll explore both of these capabilities with practical examples.\n"
   ],
   "id": "c3a434127b2216c"
  },
  {
   "metadata": {},
   "cell_type": "markdown",
   "source": [
    "## 1. Data Generation Functions\n",
    "\n",
    "The `causalkit.data` module provides functions to generate synthetic data for causal inference tasks. These functions are useful for:\n",
    "\n",
    "- Testing causal inference methods\n",
    "- Demonstrating causal inference concepts\n",
    "- Benchmarking different approaches\n",
    "\n",
    "Let's explore the available data generation functions.\n"
   ],
   "id": "36ddd03342654532"
  },
  {
   "metadata": {
    "ExecuteTime": {
     "end_time": "2025-07-20T16:16:52.958159Z",
     "start_time": "2025-07-20T16:16:52.955807Z"
    }
   },
   "cell_type": "code",
   "source": [
    "# Import necessary libraries\n",
    "import pandas as pd\n",
    "import numpy as np\n",
    "import matplotlib.pyplot as plt\n",
    "import seaborn as sns\n",
    "\n",
    "# Set plotting style\n",
    "sns.set_style('whitegrid')\n",
    "\n",
    "# Import data generation functions\n",
    "from causalkit.data import generate_rct_data, generate_obs_data\n"
   ],
   "id": "48604af4c804f097",
   "outputs": [],
   "execution_count": 8
  },
  {
   "metadata": {},
   "cell_type": "markdown",
   "source": [
    "### 1.1 Generating Randomized Controlled Trial (RCT) Data\n",
    "\n",
    "The `generate_rct_data` function creates synthetic data that mimics a randomized controlled trial. In an RCT, treatment assignment is random and independent of any covariates.\n"
   ],
   "id": "165fa7b07af7a9ca"
  },
  {
   "metadata": {
    "ExecuteTime": {
     "end_time": "2025-07-20T16:16:53.015799Z",
     "start_time": "2025-07-20T16:16:52.972835Z"
    }
   },
   "cell_type": "code",
   "source": [
    "# Generate RCT data with default parameters\n",
    "rct_df = generate_rct_data(random_state=42)\n",
    "\n",
    "# Display the first few rows\n",
    "print(f\"Generated RCT data with {len(rct_df)} rows and {len(rct_df.columns)} columns\")\n",
    "rct_df.head()\n"
   ],
   "id": "19865b6503994202",
   "outputs": [
    {
     "name": "stdout",
     "output_type": "stream",
     "text": [
      "Generated RCT data with 20000 rows and 8 columns\n"
     ]
    },
    {
     "data": {
      "text/plain": [
       "                                user_id  treatment  target  age  cnt_trans  \\\n",
       "0  abf91333-2964-4371-9a02-cb38dd65ef07          1       0   20          1   \n",
       "1  978315f4-1264-4f42-91a1-527f1c4f2abc          1       0   44          0   \n",
       "2  cf077772-98be-4561-8496-52c34f164202          1       0   44          0   \n",
       "3  5e97e3bc-4eaf-4d74-8cfb-f702507a4140          1       0   31          2   \n",
       "4  9ef556bb-55ec-43e1-8443-19eb1d2cfcc3          1       0   39          2   \n",
       "\n",
       "   platform_Android  platform_iOS  invited_friend  \n",
       "0                 0             1               0  \n",
       "1                 0             1               0  \n",
       "2                 0             1               0  \n",
       "3                 0             1               0  \n",
       "4                 0             1               0  "
      ],
      "text/html": [
       "<div>\n",
       "<style scoped>\n",
       "    .dataframe tbody tr th:only-of-type {\n",
       "        vertical-align: middle;\n",
       "    }\n",
       "\n",
       "    .dataframe tbody tr th {\n",
       "        vertical-align: top;\n",
       "    }\n",
       "\n",
       "    .dataframe thead th {\n",
       "        text-align: right;\n",
       "    }\n",
       "</style>\n",
       "<table border=\"1\" class=\"dataframe\">\n",
       "  <thead>\n",
       "    <tr style=\"text-align: right;\">\n",
       "      <th></th>\n",
       "      <th>user_id</th>\n",
       "      <th>treatment</th>\n",
       "      <th>target</th>\n",
       "      <th>age</th>\n",
       "      <th>cnt_trans</th>\n",
       "      <th>platform_Android</th>\n",
       "      <th>platform_iOS</th>\n",
       "      <th>invited_friend</th>\n",
       "    </tr>\n",
       "  </thead>\n",
       "  <tbody>\n",
       "    <tr>\n",
       "      <th>0</th>\n",
       "      <td>abf91333-2964-4371-9a02-cb38dd65ef07</td>\n",
       "      <td>1</td>\n",
       "      <td>0</td>\n",
       "      <td>20</td>\n",
       "      <td>1</td>\n",
       "      <td>0</td>\n",
       "      <td>1</td>\n",
       "      <td>0</td>\n",
       "    </tr>\n",
       "    <tr>\n",
       "      <th>1</th>\n",
       "      <td>978315f4-1264-4f42-91a1-527f1c4f2abc</td>\n",
       "      <td>1</td>\n",
       "      <td>0</td>\n",
       "      <td>44</td>\n",
       "      <td>0</td>\n",
       "      <td>0</td>\n",
       "      <td>1</td>\n",
       "      <td>0</td>\n",
       "    </tr>\n",
       "    <tr>\n",
       "      <th>2</th>\n",
       "      <td>cf077772-98be-4561-8496-52c34f164202</td>\n",
       "      <td>1</td>\n",
       "      <td>0</td>\n",
       "      <td>44</td>\n",
       "      <td>0</td>\n",
       "      <td>0</td>\n",
       "      <td>1</td>\n",
       "      <td>0</td>\n",
       "    </tr>\n",
       "    <tr>\n",
       "      <th>3</th>\n",
       "      <td>5e97e3bc-4eaf-4d74-8cfb-f702507a4140</td>\n",
       "      <td>1</td>\n",
       "      <td>0</td>\n",
       "      <td>31</td>\n",
       "      <td>2</td>\n",
       "      <td>0</td>\n",
       "      <td>1</td>\n",
       "      <td>0</td>\n",
       "    </tr>\n",
       "    <tr>\n",
       "      <th>4</th>\n",
       "      <td>9ef556bb-55ec-43e1-8443-19eb1d2cfcc3</td>\n",
       "      <td>1</td>\n",
       "      <td>0</td>\n",
       "      <td>39</td>\n",
       "      <td>2</td>\n",
       "      <td>0</td>\n",
       "      <td>1</td>\n",
       "      <td>0</td>\n",
       "    </tr>\n",
       "  </tbody>\n",
       "</table>\n",
       "</div>"
      ]
     },
     "execution_count": 9,
     "metadata": {},
     "output_type": "execute_result"
    }
   ],
   "execution_count": 9
  },
  {
   "metadata": {},
   "cell_type": "markdown",
   "source": "Let's examine the structure of the generated data:\n",
   "id": "8904bd005cf14cb6"
  },
  {
   "metadata": {
    "ExecuteTime": {
     "end_time": "2025-07-20T16:16:53.043614Z",
     "start_time": "2025-07-20T16:16:53.034787Z"
    }
   },
   "cell_type": "code",
   "source": [
    "# Display summary statistics\n",
    "rct_df.describe()\n"
   ],
   "id": "23fd3207ad30f118",
   "outputs": [
    {
     "data": {
      "text/plain": [
       "          treatment        target           age     cnt_trans  \\\n",
       "count  20000.000000  20000.000000  20000.000000  20000.000000   \n",
       "mean       0.500000      0.108450     35.486350      1.714950   \n",
       "std        0.500013      0.310956      8.034379      1.455336   \n",
       "min        0.000000      0.000000     18.000000      0.000000   \n",
       "25%        0.000000      0.000000     30.000000      1.000000   \n",
       "50%        0.500000      0.000000     35.000000      1.000000   \n",
       "75%        1.000000      0.000000     41.000000      2.000000   \n",
       "max        1.000000      1.000000     72.000000     12.000000   \n",
       "\n",
       "       platform_Android  platform_iOS  invited_friend  \n",
       "count      20000.000000  20000.000000    20000.000000  \n",
       "mean           0.418750      0.581250        0.076300  \n",
       "std            0.493367      0.493367        0.265484  \n",
       "min            0.000000      0.000000        0.000000  \n",
       "25%            0.000000      0.000000        0.000000  \n",
       "50%            0.000000      1.000000        0.000000  \n",
       "75%            1.000000      1.000000        0.000000  \n",
       "max            1.000000      1.000000        1.000000  "
      ],
      "text/html": [
       "<div>\n",
       "<style scoped>\n",
       "    .dataframe tbody tr th:only-of-type {\n",
       "        vertical-align: middle;\n",
       "    }\n",
       "\n",
       "    .dataframe tbody tr th {\n",
       "        vertical-align: top;\n",
       "    }\n",
       "\n",
       "    .dataframe thead th {\n",
       "        text-align: right;\n",
       "    }\n",
       "</style>\n",
       "<table border=\"1\" class=\"dataframe\">\n",
       "  <thead>\n",
       "    <tr style=\"text-align: right;\">\n",
       "      <th></th>\n",
       "      <th>treatment</th>\n",
       "      <th>target</th>\n",
       "      <th>age</th>\n",
       "      <th>cnt_trans</th>\n",
       "      <th>platform_Android</th>\n",
       "      <th>platform_iOS</th>\n",
       "      <th>invited_friend</th>\n",
       "    </tr>\n",
       "  </thead>\n",
       "  <tbody>\n",
       "    <tr>\n",
       "      <th>count</th>\n",
       "      <td>20000.000000</td>\n",
       "      <td>20000.000000</td>\n",
       "      <td>20000.000000</td>\n",
       "      <td>20000.000000</td>\n",
       "      <td>20000.000000</td>\n",
       "      <td>20000.000000</td>\n",
       "      <td>20000.000000</td>\n",
       "    </tr>\n",
       "    <tr>\n",
       "      <th>mean</th>\n",
       "      <td>0.500000</td>\n",
       "      <td>0.108450</td>\n",
       "      <td>35.486350</td>\n",
       "      <td>1.714950</td>\n",
       "      <td>0.418750</td>\n",
       "      <td>0.581250</td>\n",
       "      <td>0.076300</td>\n",
       "    </tr>\n",
       "    <tr>\n",
       "      <th>std</th>\n",
       "      <td>0.500013</td>\n",
       "      <td>0.310956</td>\n",
       "      <td>8.034379</td>\n",
       "      <td>1.455336</td>\n",
       "      <td>0.493367</td>\n",
       "      <td>0.493367</td>\n",
       "      <td>0.265484</td>\n",
       "    </tr>\n",
       "    <tr>\n",
       "      <th>min</th>\n",
       "      <td>0.000000</td>\n",
       "      <td>0.000000</td>\n",
       "      <td>18.000000</td>\n",
       "      <td>0.000000</td>\n",
       "      <td>0.000000</td>\n",
       "      <td>0.000000</td>\n",
       "      <td>0.000000</td>\n",
       "    </tr>\n",
       "    <tr>\n",
       "      <th>25%</th>\n",
       "      <td>0.000000</td>\n",
       "      <td>0.000000</td>\n",
       "      <td>30.000000</td>\n",
       "      <td>1.000000</td>\n",
       "      <td>0.000000</td>\n",
       "      <td>0.000000</td>\n",
       "      <td>0.000000</td>\n",
       "    </tr>\n",
       "    <tr>\n",
       "      <th>50%</th>\n",
       "      <td>0.500000</td>\n",
       "      <td>0.000000</td>\n",
       "      <td>35.000000</td>\n",
       "      <td>1.000000</td>\n",
       "      <td>0.000000</td>\n",
       "      <td>1.000000</td>\n",
       "      <td>0.000000</td>\n",
       "    </tr>\n",
       "    <tr>\n",
       "      <th>75%</th>\n",
       "      <td>1.000000</td>\n",
       "      <td>0.000000</td>\n",
       "      <td>41.000000</td>\n",
       "      <td>2.000000</td>\n",
       "      <td>1.000000</td>\n",
       "      <td>1.000000</td>\n",
       "      <td>0.000000</td>\n",
       "    </tr>\n",
       "    <tr>\n",
       "      <th>max</th>\n",
       "      <td>1.000000</td>\n",
       "      <td>1.000000</td>\n",
       "      <td>72.000000</td>\n",
       "      <td>12.000000</td>\n",
       "      <td>1.000000</td>\n",
       "      <td>1.000000</td>\n",
       "      <td>1.000000</td>\n",
       "    </tr>\n",
       "  </tbody>\n",
       "</table>\n",
       "</div>"
      ]
     },
     "execution_count": 10,
     "metadata": {},
     "output_type": "execute_result"
    }
   ],
   "execution_count": 10
  },
  {
   "metadata": {
    "ExecuteTime": {
     "end_time": "2025-07-20T16:16:53.119968Z",
     "start_time": "2025-07-20T16:16:53.078857Z"
    }
   },
   "cell_type": "code",
   "source": [
    "# Check the distribution of treatment assignment\n",
    "treatment_counts = rct_df['treatment'].value_counts(normalize=True)\n",
    "print(\"Treatment distribution:\")\n",
    "print(treatment_counts)\n",
    "\n",
    "# Visualize the treatment distribution\n",
    "plt.figure(figsize=(8, 5))\n",
    "sns.countplot(x='treatment', data=rct_df)\n",
    "plt.title('Distribution of Treatment Assignment')\n",
    "plt.xlabel('Treatment')\n",
    "plt.ylabel('Count')\n",
    "plt.show()\n"
   ],
   "id": "1d5fac25d211e7ff",
   "outputs": [
    {
     "name": "stdout",
     "output_type": "stream",
     "text": [
      "Treatment distribution:\n",
      "treatment\n",
      "1    0.5\n",
      "0    0.5\n",
      "Name: proportion, dtype: float64\n"
     ]
    },
    {
     "data": {
      "text/plain": [
       "<Figure size 800x500 with 1 Axes>"
      ],
      "image/png": "[encoded data removed]"
     },
     "metadata": {},
     "output_type": "display_data"
    }
   ],
   "execution_count": 11
  },
  {
   "metadata": {},
   "cell_type": "markdown",
   "source": "Let's also look at the relationship between treatment and outcome:\n",
   "id": "bf3e4376dd9f12c1"
  },
  {
   "metadata": {
    "ExecuteTime": {
     "end_time": "2025-07-20T16:16:53.257204Z",
     "start_time": "2025-07-20T16:16:53.140991Z"
    }
   },
   "cell_type": "code",
   "source": [
    "# Calculate average outcome by treatment group\n",
    "avg_outcome = rct_df.groupby('treatment')['target'].mean()\n",
    "print(\"Average outcome by treatment group:\")\n",
    "print(avg_outcome)\n",
    "\n",
    "# Visualize the relationship\n",
    "plt.figure(figsize=(8, 5))\n",
    "sns.barplot(x='treatment', y='target', data=rct_df)\n",
    "plt.title('Average Outcome by Treatment Group')\n",
    "plt.xlabel('Treatment')\n",
    "plt.ylabel('Average Outcome')\n",
    "plt.show()\n"
   ],
   "id": "ccc8e936b4445a3e",
   "outputs": [
    {
     "name": "stdout",
     "output_type": "stream",
     "text": [
      "Average outcome by treatment group:\n",
      "treatment\n",
      "0    0.1002\n",
      "1    0.1167\n",
      "Name: target, dtype: float64\n"
     ]
    },
    {
     "data": {
      "text/plain": [
       "<Figure size 800x500 with 1 Axes>"
      ],
      "image/png": "[encoded data removed]"
     },
     "metadata": {},
     "output_type": "display_data"
    }
   ],
   "execution_count": 12
  },
  {
   "metadata": {},
   "cell_type": "markdown",
   "source": [
    "### 1.2 Customizing RCT Data Generation\n",
    "\n",
    "The `generate_rct_data` function allows customization of various parameters:\n"
   ],
   "id": "6d45b92e7bbb3a2"
  },
  {
   "metadata": {
    "ExecuteTime": {
     "end_time": "2025-07-20T16:16:53.287803Z",
     "start_time": "2025-07-20T16:16:53.266100Z"
    }
   },
   "cell_type": "code",
   "source": [
    "# Generate RCT data with custom parameters\n",
    "custom_rct_df = generate_rct_data(\n",
    "    n_users=10000,           # Number of users\n",
    "    split=0.7,               # 70% in control, 30% in treatment\n",
    "    target_type=\"binary\", # Continuous outcome variable\n",
    "    random_state=42          # For reproducibility\n",
    ")\n",
    "\n",
    "# Display the first few rows\n",
    "print(f\"Generated custom RCT data with {len(custom_rct_df)} rows\")\n",
    "custom_rct_df.head()\n"
   ],
   "id": "9171a36d75ca570c",
   "outputs": [
    {
     "name": "stdout",
     "output_type": "stream",
     "text": [
      "Generated custom RCT data with 10000 rows\n"
     ]
    },
    {
     "data": {
      "text/plain": [
       "                                user_id  treatment  target  age  cnt_trans  \\\n",
       "0  06016028-5d4e-41f1-a97f-1f020283b2f3          1       0   18          1   \n",
       "1  c088ba4a-b213-431e-bce7-29371724fd0c          1       0   32          4   \n",
       "2  cfa15095-a072-4354-b66f-20dbf723e927          1       0   24          2   \n",
       "3  a6048d3d-a0b3-4bf7-9415-615a0d3b8f2f          1       0   33          2   \n",
       "4  a2993a28-46bb-4154-a336-4091c318e06a          1       0   37          1   \n",
       "\n",
       "   platform_Android  platform_iOS  invited_friend  \n",
       "0                 0             1               0  \n",
       "1                 1             0               0  \n",
       "2                 1             0               0  \n",
       "3                 0             1               0  \n",
       "4                 1             0               0  "
      ],
      "text/html": [
       "<div>\n",
       "<style scoped>\n",
       "    .dataframe tbody tr th:only-of-type {\n",
       "        vertical-align: middle;\n",
       "    }\n",
       "\n",
       "    .dataframe tbody tr th {\n",
       "        vertical-align: top;\n",
       "    }\n",
       "\n",
       "    .dataframe thead th {\n",
       "        text-align: right;\n",
       "    }\n",
       "</style>\n",
       "<table border=\"1\" class=\"dataframe\">\n",
       "  <thead>\n",
       "    <tr style=\"text-align: right;\">\n",
       "      <th></th>\n",
       "      <th>user_id</th>\n",
       "      <th>treatment</th>\n",
       "      <th>target</th>\n",
       "      <th>age</th>\n",
       "      <th>cnt_trans</th>\n",
       "      <th>platform_Android</th>\n",
       "      <th>platform_iOS</th>\n",
       "      <th>invited_friend</th>\n",
       "    </tr>\n",
       "  </thead>\n",
       "  <tbody>\n",
       "    <tr>\n",
       "      <th>0</th>\n",
       "      <td>06016028-5d4e-41f1-a97f-1f020283b2f3</td>\n",
       "      <td>1</td>\n",
       "      <td>0</td>\n",
       "      <td>18</td>\n",
       "      <td>1</td>\n",
       "      <td>0</td>\n",
       "      <td>1</td>\n",
       "      <td>0</td>\n",
       "    </tr>\n",
       "    <tr>\n",
       "      <th>1</th>\n",
       "      <td>c088ba4a-b213-431e-bce7-29371724fd0c</td>\n",
       "      <td>1</td>\n",
       "      <td>0</td>\n",
       "      <td>32</td>\n",
       "      <td>4</td>\n",
       "      <td>1</td>\n",
       "      <td>0</td>\n",
       "      <td>0</td>\n",
       "    </tr>\n",
       "    <tr>\n",
       "      <th>2</th>\n",
       "      <td>cfa15095-a072-4354-b66f-20dbf723e927</td>\n",
       "      <td>1</td>\n",
       "      <td>0</td>\n",
       "      <td>24</td>\n",
       "      <td>2</td>\n",
       "      <td>1</td>\n",
       "      <td>0</td>\n",
       "      <td>0</td>\n",
       "    </tr>\n",
       "    <tr>\n",
       "      <th>3</th>\n",
       "      <td>a6048d3d-a0b3-4bf7-9415-615a0d3b8f2f</td>\n",
       "      <td>1</td>\n",
       "      <td>0</td>\n",
       "      <td>33</td>\n",
       "      <td>2</td>\n",
       "      <td>0</td>\n",
       "      <td>1</td>\n",
       "      <td>0</td>\n",
       "    </tr>\n",
       "    <tr>\n",
       "      <th>4</th>\n",
       "      <td>a2993a28-46bb-4154-a336-4091c318e06a</td>\n",
       "      <td>1</td>\n",
       "      <td>0</td>\n",
       "      <td>37</td>\n",
       "      <td>1</td>\n",
       "      <td>1</td>\n",
       "      <td>0</td>\n",
       "      <td>0</td>\n",
       "    </tr>\n",
       "  </tbody>\n",
       "</table>\n",
       "</div>"
      ]
     },
     "execution_count": 13,
     "metadata": {},
     "output_type": "execute_result"
    }
   ],
   "execution_count": 13
  },
  {
   "metadata": {
    "ExecuteTime": {
     "end_time": "2025-07-20T16:16:53.350044Z",
     "start_time": "2025-07-20T16:16:53.307757Z"
    }
   },
   "cell_type": "code",
   "source": [
    "# Check the distribution of treatment assignment\n",
    "custom_treatment_counts = custom_rct_df['treatment'].value_counts(normalize=True)\n",
    "print(\"Treatment distribution:\")\n",
    "print(custom_treatment_counts)\n",
    "\n",
    "# Visualize the treatment distribution\n",
    "plt.figure(figsize=(8, 5))\n",
    "sns.countplot(x='treatment', data=custom_rct_df)\n",
    "plt.title('Distribution of Treatment Assignment (Custom Parameters)')\n",
    "plt.xlabel('Treatment')\n",
    "plt.ylabel('Count')\n",
    "plt.show()\n"
   ],
   "id": "9246e57168b6c466",
   "outputs": [
    {
     "name": "stdout",
     "output_type": "stream",
     "text": [
      "Treatment distribution:\n",
      "treatment\n",
      "1    0.7\n",
      "0    0.3\n",
      "Name: proportion, dtype: float64\n"
     ]
    },
    {
     "data": {
      "text/plain": [
       "<Figure size 800x500 with 1 Axes>"
      ],
      "image/png": "[encoded data removed]"
     },
     "metadata": {},
     "output_type": "display_data"
    }
   ],
   "execution_count": 14
  },
  {
   "metadata": {},
   "cell_type": "markdown",
   "source": [
    "### 1.3 Generating Observational Data\n",
    "\n",
    "The `generate_obs_data` function creates synthetic data that mimics observational studies. In observational data, treatment assignment is not random and may depend on covariates.\n"
   ],
   "id": "50fad7187ae51e7"
  },
  {
   "metadata": {
    "ExecuteTime": {
     "end_time": "2025-07-20T16:16:53.419313Z",
     "start_time": "2025-07-20T16:16:53.374317Z"
    }
   },
   "cell_type": "code",
   "source": [
    "# Generate observational data\n",
    "obs_df = generate_obs_data(random_state=42)\n",
    "\n",
    "# Display the first few rows\n",
    "print(f\"Generated observational data with {len(obs_df)} rows and {len(obs_df.columns)} columns\")\n",
    "obs_df.head()\n"
   ],
   "id": "6b3c1e964830b5c8",
   "outputs": [
    {
     "name": "stdout",
     "output_type": "stream",
     "text": [
      "Generated observational data with 20000 rows and 7 columns\n"
     ]
    },
    {
     "data": {
      "text/plain": [
       "                                user_id  treatment  age  income    education  \\\n",
       "0  4223f4cf-3773-4878-be9d-20090ead9116          0   38   25127          phd   \n",
       "1  b91f1f7e-a3dc-4b9d-ac72-247a430d4096          0   25   63368     bachelor   \n",
       "2  e6d91fba-4689-4c36-9c3c-248eb6426e73          0   43   49130  high_school   \n",
       "3  c35a00c5-cf27-4022-833f-39ae89a867cf          0   44   41001     bachelor   \n",
       "4  a90c7370-9876-47dd-88a9-0a9fd281ca14          0   18   46238  high_school   \n",
       "\n",
       "   gender   region  \n",
       "0  female  central  \n",
       "1    male  central  \n",
       "2  female  central  \n",
       "3    male    north  \n",
       "4    male  central  "
      ],
      "text/html": [
       "<div>\n",
       "<style scoped>\n",
       "    .dataframe tbody tr th:only-of-type {\n",
       "        vertical-align: middle;\n",
       "    }\n",
       "\n",
       "    .dataframe tbody tr th {\n",
       "        vertical-align: top;\n",
       "    }\n",
       "\n",
       "    .dataframe thead th {\n",
       "        text-align: right;\n",
       "    }\n",
       "</style>\n",
       "<table border=\"1\" class=\"dataframe\">\n",
       "  <thead>\n",
       "    <tr style=\"text-align: right;\">\n",
       "      <th></th>\n",
       "      <th>user_id</th>\n",
       "      <th>treatment</th>\n",
       "      <th>age</th>\n",
       "      <th>income</th>\n",
       "      <th>education</th>\n",
       "      <th>gender</th>\n",
       "      <th>region</th>\n",
       "    </tr>\n",
       "  </thead>\n",
       "  <tbody>\n",
       "    <tr>\n",
       "      <th>0</th>\n",
       "      <td>4223f4cf-3773-4878-be9d-20090ead9116</td>\n",
       "      <td>0</td>\n",
       "      <td>38</td>\n",
       "      <td>25127</td>\n",
       "      <td>phd</td>\n",
       "      <td>female</td>\n",
       "      <td>central</td>\n",
       "    </tr>\n",
       "    <tr>\n",
       "      <th>1</th>\n",
       "      <td>b91f1f7e-a3dc-4b9d-ac72-247a430d4096</td>\n",
       "      <td>0</td>\n",
       "      <td>25</td>\n",
       "      <td>63368</td>\n",
       "      <td>bachelor</td>\n",
       "      <td>male</td>\n",
       "      <td>central</td>\n",
       "    </tr>\n",
       "    <tr>\n",
       "      <th>2</th>\n",
       "      <td>e6d91fba-4689-4c36-9c3c-248eb6426e73</td>\n",
       "      <td>0</td>\n",
       "      <td>43</td>\n",
       "      <td>49130</td>\n",
       "      <td>high_school</td>\n",
       "      <td>female</td>\n",
       "      <td>central</td>\n",
       "    </tr>\n",
       "    <tr>\n",
       "      <th>3</th>\n",
       "      <td>c35a00c5-cf27-4022-833f-39ae89a867cf</td>\n",
       "      <td>0</td>\n",
       "      <td>44</td>\n",
       "      <td>41001</td>\n",
       "      <td>bachelor</td>\n",
       "      <td>male</td>\n",
       "      <td>north</td>\n",
       "    </tr>\n",
       "    <tr>\n",
       "      <th>4</th>\n",
       "      <td>a90c7370-9876-47dd-88a9-0a9fd281ca14</td>\n",
       "      <td>0</td>\n",
       "      <td>18</td>\n",
       "      <td>46238</td>\n",
       "      <td>high_school</td>\n",
       "      <td>male</td>\n",
       "      <td>central</td>\n",
       "    </tr>\n",
       "  </tbody>\n",
       "</table>\n",
       "</div>"
      ]
     },
     "execution_count": 15,
     "metadata": {},
     "output_type": "execute_result"
    }
   ],
   "execution_count": 15
  },
  {
   "metadata": {
    "ExecuteTime": {
     "end_time": "2025-07-20T16:16:53.486497Z",
     "start_time": "2025-07-20T16:16:53.442617Z"
    }
   },
   "cell_type": "code",
   "source": [
    "# Check the distribution of treatment assignment\n",
    "obs_treatment_counts = obs_df['treatment'].value_counts(normalize=True)\n",
    "print(\"Treatment distribution:\")\n",
    "print(obs_treatment_counts)\n",
    "\n",
    "# Visualize the treatment distribution\n",
    "plt.figure(figsize=(8, 5))\n",
    "sns.countplot(x='treatment', data=obs_df)\n",
    "plt.title('Distribution of Treatment Assignment (Observational Data)')\n",
    "plt.xlabel('Treatment')\n",
    "plt.ylabel('Count')\n",
    "plt.show()\n"
   ],
   "id": "8ebf653f7b8dfb7e",
   "outputs": [
    {
     "name": "stdout",
     "output_type": "stream",
     "text": [
      "Treatment distribution:\n",
      "treatment\n",
      "0    0.89995\n",
      "1    0.10005\n",
      "Name: proportion, dtype: float64\n"
     ]
    },
    {
     "data": {
      "text/plain": [
       "<Figure size 800x500 with 1 Axes>"
      ],
      "image/png": "[encoded data removed]"
     },
     "metadata": {},
     "output_type": "display_data"
    }
   ],
   "execution_count": 16
  },
  {
   "metadata": {},
   "cell_type": "markdown",
   "source": "In observational data, treatment assignment often depends on covariates. Let's examine this relationship:\n",
   "id": "556c1cde793946eb"
  },
  {
   "metadata": {
    "ExecuteTime": {
     "end_time": "2025-07-20T16:16:53.547974Z",
     "start_time": "2025-07-20T16:16:53.505357Z"
    }
   },
   "cell_type": "code",
   "source": [
    "# Examine relationship between age and treatment\n",
    "plt.figure(figsize=(10, 6))\n",
    "sns.boxplot(x='treatment', y='age', data=obs_df)\n",
    "plt.title('Relationship Between Age and Treatment Assignment')\n",
    "plt.xlabel('Treatment')\n",
    "plt.ylabel('Age')\n",
    "plt.show()\n"
   ],
   "id": "f73f4f79ad0538a5",
   "outputs": [
    {
     "data": {
      "text/plain": [
       "<Figure size 1000x600 with 1 Axes>"
      ],
      "image/png": "[encoded data removed]"
     },
     "metadata": {},
     "output_type": "display_data"
    }
   ],
   "execution_count": 17
  },
  {
   "metadata": {},
   "cell_type": "markdown",
   "source": [
    "## 2. The causaldata Class\n",
    "\n",
    "The `causaldata` class provides a convenient way to manage data for causal inference tasks. It wraps a pandas DataFrame and stores metadata about columns for causal inference analysis.\n"
   ],
   "id": "e8c41dff94554349"
  },
  {
   "metadata": {
    "ExecuteTime": {
     "end_time": "2025-07-20T16:16:53.560636Z",
     "start_time": "2025-07-20T16:16:53.558872Z"
    }
   },
   "cell_type": "code",
   "source": [
    "# Import the causaldata class\n",
    "from causalkit.data import CausalData\n"
   ],
   "id": "be035534d09d1320",
   "outputs": [],
   "execution_count": 18
  },
  {
   "metadata": {},
   "cell_type": "markdown",
   "source": [
    "### 2.1 Creating a causaldata Object\n",
    "\n",
    "Let's create a causaldata object using the RCT data we generated earlier:\n"
   ],
   "id": "b14ca1b1d2e2a8d2"
  },
  {
   "metadata": {
    "ExecuteTime": {
     "end_time": "2025-07-20T16:16:53.568602Z",
     "start_time": "2025-07-20T16:16:53.566912Z"
    }
   },
   "cell_type": "code",
   "source": [
    "# Create a causaldata object\n",
    "ck_data = CausalData(\n",
    "    df=rct_df,\n",
    "    target='target',\n",
    "    cofounders=['age', 'invited_friend'],\n",
    "    treatment='treatment'\n",
    ")\n",
    "\n",
    "# Display the object\n",
    "print(ck_data)\n"
   ],
   "id": "44402f1dab0ce973",
   "outputs": [
    {
     "name": "stdout",
     "output_type": "stream",
     "text": [
      "ckit(df=(20000, 8), target=['target'], cofounders=['age', 'invited_friend'], treatment=['treatment'])\n"
     ]
    }
   ],
   "execution_count": 19
  },
  {
   "metadata": {},
   "cell_type": "markdown",
   "source": [
    "### 2.2 Accessing Data by Role\n",
    "\n",
    "The causaldata class provides properties to access columns by their role in causal inference:\n"
   ],
   "id": "11b82d24c36cd81b"
  },
  {
   "metadata": {
    "ExecuteTime": {
     "end_time": "2025-07-20T16:16:53.578299Z",
     "start_time": "2025-07-20T16:16:53.575848Z"
    }
   },
   "cell_type": "code",
   "source": [
    "# Access the target variable\n",
    "print(\"Target variable:\")\n",
    "print(ck_data.target.head())\n",
    "\n",
    "# Access the treatment variable\n",
    "print(\"\\nTreatment variable:\")\n",
    "print(ck_data.treatment.head())\n",
    "\n",
    "# Access the cofounders\n",
    "print(\"\\nCofounders:\")\n",
    "print(ck_data.cofounders.head())\n"
   ],
   "id": "77784d578495eab2",
   "outputs": [
    {
     "name": "stdout",
     "output_type": "stream",
     "text": [
      "Target variable:\n",
      "0    0\n",
      "1    0\n",
      "2    0\n",
      "3    0\n",
      "4    0\n",
      "Name: target, dtype: int64\n",
      "\n",
      "Treatment variable:\n",
      "0    1\n",
      "1    1\n",
      "2    1\n",
      "3    1\n",
      "4    1\n",
      "Name: treatment, dtype: int64\n",
      "\n",
      "Cofounders:\n",
      "   age  invited_friend\n",
      "0   20               0\n",
      "1   44               0\n",
      "2   44               0\n",
      "3   31               0\n",
      "4   39               0\n"
     ]
    }
   ],
   "execution_count": 20
  },
  {
   "metadata": {},
   "cell_type": "markdown",
   "source": [
    "### 2.3 Using the get_df Method\n",
    "\n",
    "The `get_df` method allows flexible retrieval of data from the causaldata object:\n"
   ],
   "id": "a3f5d0a0958a87ef"
  },
  {
   "metadata": {
    "ExecuteTime": {
     "end_time": "2025-07-20T16:16:53.589024Z",
     "start_time": "2025-07-20T16:16:53.585484Z"
    }
   },
   "cell_type": "code",
   "source": [
    "# Get the entire DataFrame\n",
    "full_df = ck_data.get_df()\n",
    "print(\"Full DataFrame shape:\", full_df.shape)\n",
    "print(\"Full DataFrame columns:\", list(full_df.columns))\n",
    "print(\"\\nFirst few rows:\")\n",
    "full_df.head()\n"
   ],
   "id": "1686bf91c39d14a3",
   "outputs": [
    {
     "name": "stdout",
     "output_type": "stream",
     "text": [
      "Full DataFrame shape: (20000, 8)\n",
      "Full DataFrame columns: ['user_id', 'treatment', 'target', 'age', 'cnt_trans', 'platform_Android', 'platform_iOS', 'invited_friend']\n",
      "\n",
      "First few rows:\n"
     ]
    },
    {
     "data": {
      "text/plain": [
       "                                user_id  treatment  target  age  cnt_trans  \\\n",
       "0  abf91333-2964-4371-9a02-cb38dd65ef07          1       0   20          1   \n",
       "1  978315f4-1264-4f42-91a1-527f1c4f2abc          1       0   44          0   \n",
       "2  cf077772-98be-4561-8496-52c34f164202          1       0   44          0   \n",
       "3  5e97e3bc-4eaf-4d74-8cfb-f702507a4140          1       0   31          2   \n",
       "4  9ef556bb-55ec-43e1-8443-19eb1d2cfcc3          1       0   39          2   \n",
       "\n",
       "   platform_Android  platform_iOS  invited_friend  \n",
       "0                 0             1               0  \n",
       "1                 0             1               0  \n",
       "2                 0             1               0  \n",
       "3                 0             1               0  \n",
       "4                 0             1               0  "
      ],
      "text/html": [
       "<div>\n",
       "<style scoped>\n",
       "    .dataframe tbody tr th:only-of-type {\n",
       "        vertical-align: middle;\n",
       "    }\n",
       "\n",
       "    .dataframe tbody tr th {\n",
       "        vertical-align: top;\n",
       "    }\n",
       "\n",
       "    .dataframe thead th {\n",
       "        text-align: right;\n",
       "    }\n",
       "</style>\n",
       "<table border=\"1\" class=\"dataframe\">\n",
       "  <thead>\n",
       "    <tr style=\"text-align: right;\">\n",
       "      <th></th>\n",
       "      <th>user_id</th>\n",
       "      <th>treatment</th>\n",
       "      <th>target</th>\n",
       "      <th>age</th>\n",
       "      <th>cnt_trans</th>\n",
       "      <th>platform_Android</th>\n",
       "      <th>platform_iOS</th>\n",
       "      <th>invited_friend</th>\n",
       "    </tr>\n",
       "  </thead>\n",
       "  <tbody>\n",
       "    <tr>\n",
       "      <th>0</th>\n",
       "      <td>abf91333-2964-4371-9a02-cb38dd65ef07</td>\n",
       "      <td>1</td>\n",
       "      <td>0</td>\n",
       "      <td>20</td>\n",
       "      <td>1</td>\n",
       "      <td>0</td>\n",
       "      <td>1</td>\n",
       "      <td>0</td>\n",
       "    </tr>\n",
       "    <tr>\n",
       "      <th>1</th>\n",
       "      <td>978315f4-1264-4f42-91a1-527f1c4f2abc</td>\n",
       "      <td>1</td>\n",
       "      <td>0</td>\n",
       "      <td>44</td>\n",
       "      <td>0</td>\n",
       "      <td>0</td>\n",
       "      <td>1</td>\n",
       "      <td>0</td>\n",
       "    </tr>\n",
       "    <tr>\n",
       "      <th>2</th>\n",
       "      <td>cf077772-98be-4561-8496-52c34f164202</td>\n",
       "      <td>1</td>\n",
       "      <td>0</td>\n",
       "      <td>44</td>\n",
       "      <td>0</td>\n",
       "      <td>0</td>\n",
       "      <td>1</td>\n",
       "      <td>0</td>\n",
       "    </tr>\n",
       "    <tr>\n",
       "      <th>3</th>\n",
       "      <td>5e97e3bc-4eaf-4d74-8cfb-f702507a4140</td>\n",
       "      <td>1</td>\n",
       "      <td>0</td>\n",
       "      <td>31</td>\n",
       "      <td>2</td>\n",
       "      <td>0</td>\n",
       "      <td>1</td>\n",
       "      <td>0</td>\n",
       "    </tr>\n",
       "    <tr>\n",
       "      <th>4</th>\n",
       "      <td>9ef556bb-55ec-43e1-8443-19eb1d2cfcc3</td>\n",
       "      <td>1</td>\n",
       "      <td>0</td>\n",
       "      <td>39</td>\n",
       "      <td>2</td>\n",
       "      <td>0</td>\n",
       "      <td>1</td>\n",
       "      <td>0</td>\n",
       "    </tr>\n",
       "  </tbody>\n",
       "</table>\n",
       "</div>"
      ]
     },
     "execution_count": 21,
     "metadata": {},
     "output_type": "execute_result"
    }
   ],
   "execution_count": 21
  },
  {
   "metadata": {
    "ExecuteTime": {
     "end_time": "2025-07-20T16:18:05.880456Z",
     "start_time": "2025-07-20T16:18:05.875750Z"
    }
   },
   "cell_type": "code",
   "source": [
    "# Get specific columns\n",
    "specific_cols_df = ck_data.get_df(columns=['user_id', 'age'])\n",
    "print(\"Specific columns DataFrame shape:\", specific_cols_df.shape)\n",
    "print(\"Specific columns DataFrame columns:\", list(specific_cols_df.columns))\n",
    "print(\"\\nFirst few rows:\")\n",
    "specific_cols_df.head()\n"
   ],
   "id": "6e3fcbf34504b18e",
   "outputs": [
    {
     "name": "stdout",
     "output_type": "stream",
     "text": [
      "Specific columns DataFrame shape: (20000, 2)\n",
      "Specific columns DataFrame columns: ['user_id', 'age']\n",
      "\n",
      "First few rows:\n"
     ]
    },
    {
     "data": {
      "text/plain": [
       "                                user_id  age\n",
       "0  abf91333-2964-4371-9a02-cb38dd65ef07   20\n",
       "1  978315f4-1264-4f42-91a1-527f1c4f2abc   44\n",
       "2  cf077772-98be-4561-8496-52c34f164202   44\n",
       "3  5e97e3bc-4eaf-4d74-8cfb-f702507a4140   31\n",
       "4  9ef556bb-55ec-43e1-8443-19eb1d2cfcc3   39"
      ],
      "text/html": [
       "<div>\n",
       "<style scoped>\n",
       "    .dataframe tbody tr th:only-of-type {\n",
       "        vertical-align: middle;\n",
       "    }\n",
       "\n",
       "    .dataframe tbody tr th {\n",
       "        vertical-align: top;\n",
       "    }\n",
       "\n",
       "    .dataframe thead th {\n",
       "        text-align: right;\n",
       "    }\n",
       "</style>\n",
       "<table border=\"1\" class=\"dataframe\">\n",
       "  <thead>\n",
       "    <tr style=\"text-align: right;\">\n",
       "      <th></th>\n",
       "      <th>user_id</th>\n",
       "      <th>age</th>\n",
       "    </tr>\n",
       "  </thead>\n",
       "  <tbody>\n",
       "    <tr>\n",
       "      <th>0</th>\n",
       "      <td>abf91333-2964-4371-9a02-cb38dd65ef07</td>\n",
       "      <td>20</td>\n",
       "    </tr>\n",
       "    <tr>\n",
       "      <th>1</th>\n",
       "      <td>978315f4-1264-4f42-91a1-527f1c4f2abc</td>\n",
       "      <td>44</td>\n",
       "    </tr>\n",
       "    <tr>\n",
       "      <th>2</th>\n",
       "      <td>cf077772-98be-4561-8496-52c34f164202</td>\n",
       "      <td>44</td>\n",
       "    </tr>\n",
       "    <tr>\n",
       "      <th>3</th>\n",
       "      <td>5e97e3bc-4eaf-4d74-8cfb-f702507a4140</td>\n",
       "      <td>31</td>\n",
       "    </tr>\n",
       "    <tr>\n",
       "      <th>4</th>\n",
       "      <td>9ef556bb-55ec-43e1-8443-19eb1d2cfcc3</td>\n",
       "      <td>39</td>\n",
       "    </tr>\n",
       "  </tbody>\n",
       "</table>\n",
       "</div>"
      ]
     },
     "execution_count": 23,
     "metadata": {},
     "output_type": "execute_result"
    }
   ],
   "execution_count": 23
  },
  {
   "metadata": {
    "ExecuteTime": {
     "end_time": "2025-07-20T16:18:08.335254Z",
     "start_time": "2025-07-20T16:18:08.326306Z"
    }
   },
   "cell_type": "code",
   "source": [
    "# Get target and treatment columns\n",
    "target_treatment_df = ck_data.get_df(include_target=True, include_treatment=True)\n",
    "print(\"Target and treatment DataFrame shape:\", target_treatment_df.shape)\n",
    "print(\"Target and treatment DataFrame columns:\", list(target_treatment_df.columns))\n",
    "print(\"\\nFirst few rows:\")\n",
    "target_treatment_df.head()\n"
   ],
   "id": "6dc5795486fef2cf",
   "outputs": [
    {
     "name": "stdout",
     "output_type": "stream",
     "text": [
      "Target and treatment DataFrame shape: (20000, 2)\n",
      "Target and treatment DataFrame columns: ['target', 'treatment']\n",
      "\n",
      "First few rows:\n"
     ]
    },
    {
     "data": {
      "text/plain": [
       "   target  treatment\n",
       "0       0          1\n",
       "1       0          1\n",
       "2       0          1\n",
       "3       0          1\n",
       "4       0          1"
      ],
      "text/html": [
       "<div>\n",
       "<style scoped>\n",
       "    .dataframe tbody tr th:only-of-type {\n",
       "        vertical-align: middle;\n",
       "    }\n",
       "\n",
       "    .dataframe tbody tr th {\n",
       "        vertical-align: top;\n",
       "    }\n",
       "\n",
       "    .dataframe thead th {\n",
       "        text-align: right;\n",
       "    }\n",
       "</style>\n",
       "<table border=\"1\" class=\"dataframe\">\n",
       "  <thead>\n",
       "    <tr style=\"text-align: right;\">\n",
       "      <th></th>\n",
       "      <th>target</th>\n",
       "      <th>treatment</th>\n",
       "    </tr>\n",
       "  </thead>\n",
       "  <tbody>\n",
       "    <tr>\n",
       "      <th>0</th>\n",
       "      <td>0</td>\n",
       "      <td>1</td>\n",
       "    </tr>\n",
       "    <tr>\n",
       "      <th>1</th>\n",
       "      <td>0</td>\n",
       "      <td>1</td>\n",
       "    </tr>\n",
       "    <tr>\n",
       "      <th>2</th>\n",
       "      <td>0</td>\n",
       "      <td>1</td>\n",
       "    </tr>\n",
       "    <tr>\n",
       "      <th>3</th>\n",
       "      <td>0</td>\n",
       "      <td>1</td>\n",
       "    </tr>\n",
       "    <tr>\n",
       "      <th>4</th>\n",
       "      <td>0</td>\n",
       "      <td>1</td>\n",
       "    </tr>\n",
       "  </tbody>\n",
       "</table>\n",
       "</div>"
      ]
     },
     "execution_count": 24,
     "metadata": {},
     "output_type": "execute_result"
    }
   ],
   "execution_count": 24
  },
  {
   "metadata": {
    "ExecuteTime": {
     "end_time": "2025-07-20T16:18:09.324196Z",
     "start_time": "2025-07-20T16:18:09.317579Z"
    }
   },
   "cell_type": "code",
   "source": [
    "# Get cofounders and specific columns\n",
    "mixed_df = ck_data.get_df(columns=['user_id'], include_cofounders=True)\n",
    "print(\"Mixed DataFrame shape:\", mixed_df.shape)\n",
    "print(\"Mixed DataFrame columns:\", list(mixed_df.columns))\n",
    "print(\"\\nFirst few rows:\")\n",
    "mixed_df.head()\n"
   ],
   "id": "7ca9ebbad36747aa",
   "outputs": [
    {
     "name": "stdout",
     "output_type": "stream",
     "text": [
      "Mixed DataFrame shape: (20000, 3)\n",
      "Mixed DataFrame columns: ['user_id', 'age', 'invited_friend']\n",
      "\n",
      "First few rows:\n"
     ]
    },
    {
     "data": {
      "text/plain": [
       "                                user_id  age  invited_friend\n",
       "0  abf91333-2964-4371-9a02-cb38dd65ef07   20               0\n",
       "1  978315f4-1264-4f42-91a1-527f1c4f2abc   44               0\n",
       "2  cf077772-98be-4561-8496-52c34f164202   44               0\n",
       "3  5e97e3bc-4eaf-4d74-8cfb-f702507a4140   31               0\n",
       "4  9ef556bb-55ec-43e1-8443-19eb1d2cfcc3   39               0"
      ],
      "text/html": [
       "<div>\n",
       "<style scoped>\n",
       "    .dataframe tbody tr th:only-of-type {\n",
       "        vertical-align: middle;\n",
       "    }\n",
       "\n",
       "    .dataframe tbody tr th {\n",
       "        vertical-align: top;\n",
       "    }\n",
       "\n",
       "    .dataframe thead th {\n",
       "        text-align: right;\n",
       "    }\n",
       "</style>\n",
       "<table border=\"1\" class=\"dataframe\">\n",
       "  <thead>\n",
       "    <tr style=\"text-align: right;\">\n",
       "      <th></th>\n",
       "      <th>user_id</th>\n",
       "      <th>age</th>\n",
       "      <th>invited_friend</th>\n",
       "    </tr>\n",
       "  </thead>\n",
       "  <tbody>\n",
       "    <tr>\n",
       "      <th>0</th>\n",
       "      <td>abf91333-2964-4371-9a02-cb38dd65ef07</td>\n",
       "      <td>20</td>\n",
       "      <td>0</td>\n",
       "    </tr>\n",
       "    <tr>\n",
       "      <th>1</th>\n",
       "      <td>978315f4-1264-4f42-91a1-527f1c4f2abc</td>\n",
       "      <td>44</td>\n",
       "      <td>0</td>\n",
       "    </tr>\n",
       "    <tr>\n",
       "      <th>2</th>\n",
       "      <td>cf077772-98be-4561-8496-52c34f164202</td>\n",
       "      <td>44</td>\n",
       "      <td>0</td>\n",
       "    </tr>\n",
       "    <tr>\n",
       "      <th>3</th>\n",
       "      <td>5e97e3bc-4eaf-4d74-8cfb-f702507a4140</td>\n",
       "      <td>31</td>\n",
       "      <td>0</td>\n",
       "    </tr>\n",
       "    <tr>\n",
       "      <th>4</th>\n",
       "      <td>9ef556bb-55ec-43e1-8443-19eb1d2cfcc3</td>\n",
       "      <td>39</td>\n",
       "      <td>0</td>\n",
       "    </tr>\n",
       "  </tbody>\n",
       "</table>\n",
       "</div>"
      ]
     },
     "execution_count": 25,
     "metadata": {},
     "output_type": "execute_result"
    }
   ],
   "execution_count": 25
  },
  {
   "metadata": {},
   "cell_type": "markdown",
   "source": [
    "### 2.4 Error Handling\n",
    "\n",
    "The `get_df` method includes error handling for non-existent columns:\n"
   ],
   "id": "dc8e395066e63774"
  },
  {
   "metadata": {
    "ExecuteTime": {
     "end_time": "2025-07-20T16:18:10.092027Z",
     "start_time": "2025-07-20T16:18:10.087992Z"
    }
   },
   "cell_type": "code",
   "source": [
    "# Try to get a non-existent column\n",
    "try:\n",
    "    error_df = ck_data.get_df(columns=['non_existent_column'])\n",
    "except ValueError as e:\n",
    "    print(f\"Error: {e}\")\n"
   ],
   "id": "e70998cb326a3d71",
   "outputs": [
    {
     "name": "stdout",
     "output_type": "stream",
     "text": [
      "Error: Column 'non_existent_column' does not exist in the DataFrame.\n"
     ]
    }
   ],
   "execution_count": 26
  },
  {
   "metadata": {},
   "cell_type": "markdown",
   "source": [
    "## 3. Practical Example: Analyzing Treatment Effects\n",
    "\n",
    "Let's put everything together in a practical example where we analyze treatment effects using the causaldata class:\n"
   ],
   "id": "592bf64b6b2f0554"
  },
  {
   "metadata": {
    "ExecuteTime": {
     "end_time": "2025-07-20T16:18:11.027564Z",
     "start_time": "2025-07-20T16:18:10.985548Z"
    }
   },
   "cell_type": "code",
   "source": [
    "# Generate new RCT data\n",
    "analysis_df = generate_rct_data(n_users=5000, random_state=123)\n",
    "\n",
    "# Create a causaldata object\n",
    "analysis_data = CausalData(\n",
    "    df=analysis_df,\n",
    "    target='target',\n",
    "    cofounders=['age', 'invited_friend', 'gender'],\n",
    "    treatment='treatment'\n",
    ")\n",
    "\n",
    "# Get the data we need for inference\n",
    "analysis_subset = analysis_data.get_df(include_target=True, include_treatment=True, include_cofounders=True)\n",
    "print(\"Analysis subset shape:\", analysis_subset.shape)\n",
    "print(\"Analysis subset columns:\", list(analysis_subset.columns))\n",
    "analysis_subset.head()\n"
   ],
   "id": "29d70f530a15cdd2",
   "outputs": [
    {
     "ename": "ValueError",
     "evalue": "Column 'gender' specified as cofounders does not exist in the DataFrame.",
     "output_type": "error",
     "traceback": [
      "\u001B[31m---------------------------------------------------------------------------\u001B[39m",
      "\u001B[31mValueError\u001B[39m                                Traceback (most recent call last)",
      "\u001B[36mCell\u001B[39m\u001B[36m \u001B[39m\u001B[32mIn[27]\u001B[39m\u001B[32m, line 5\u001B[39m\n\u001B[32m      2\u001B[39m analysis_df = generate_rct_data(n_users=\u001B[32m5000\u001B[39m, random_state=\u001B[32m123\u001B[39m)\n\u001B[32m      4\u001B[39m \u001B[38;5;66;03m# Create a causaldata object\u001B[39;00m\n\u001B[32m----> \u001B[39m\u001B[32m5\u001B[39m analysis_data = causaldata(\n\u001B[32m      6\u001B[39m     df=analysis_df,\n\u001B[32m      7\u001B[39m     target=\u001B[33m'\u001B[39m\u001B[33mtarget\u001B[39m\u001B[33m'\u001B[39m,\n\u001B[32m      8\u001B[39m     cofounders=[\u001B[33m'\u001B[39m\u001B[33mage\u001B[39m\u001B[33m'\u001B[39m, \u001B[33m'\u001B[39m\u001B[33minvited_friend\u001B[39m\u001B[33m'\u001B[39m, \u001B[33m'\u001B[39m\u001B[33mgender\u001B[39m\u001B[33m'\u001B[39m],\n\u001B[32m      9\u001B[39m     treatment=\u001B[33m'\u001B[39m\u001B[33mtreatment\u001B[39m\u001B[33m'\u001B[39m\n\u001B[32m     10\u001B[39m )\n\u001B[32m     12\u001B[39m \u001B[38;5;66;03m# Get the data we need for analysis\u001B[39;00m\n\u001B[32m     13\u001B[39m analysis_subset = analysis_data.get_df(include_target=\u001B[38;5;28;01mTrue\u001B[39;00m, include_treatment=\u001B[38;5;28;01mTrue\u001B[39;00m, include_cofounders=\u001B[38;5;28;01mTrue\u001B[39;00m)\n",
      "\u001B[36mFile \u001B[39m\u001B[32m~/PycharmProjects/Ckit/causalkit/data/causaldata.py:70\u001B[39m, in \u001B[36mcausaldata.__init__\u001B[39m\u001B[34m(self, df, target, cofounders, treatment, metadata)\u001B[39m\n\u001B[32m     67\u001B[39m \u001B[38;5;28mself\u001B[39m.metadata = metadata \u001B[38;5;129;01mor\u001B[39;00m {}\n\u001B[32m     69\u001B[39m \u001B[38;5;66;03m# Validate column names\u001B[39;00m\n\u001B[32m---> \u001B[39m\u001B[32m70\u001B[39m \u001B[38;5;28mself\u001B[39m._validate_columns()\n",
      "\u001B[36mFile \u001B[39m\u001B[32m~/PycharmProjects/Ckit/causalkit/data/causaldata.py:93\u001B[39m, in \u001B[36mcausaldata._validate_columns\u001B[39m\u001B[34m(self)\u001B[39m\n\u001B[32m     91\u001B[39m \u001B[38;5;28;01mfor\u001B[39;00m col \u001B[38;5;129;01min\u001B[39;00m col_list:\n\u001B[32m     92\u001B[39m     \u001B[38;5;28;01mif\u001B[39;00m col \u001B[38;5;129;01mnot\u001B[39;00m \u001B[38;5;129;01min\u001B[39;00m all_columns:\n\u001B[32m---> \u001B[39m\u001B[32m93\u001B[39m         \u001B[38;5;28;01mraise\u001B[39;00m \u001B[38;5;167;01mValueError\u001B[39;00m(\u001B[33mf\u001B[39m\u001B[33m\"\u001B[39m\u001B[33mColumn \u001B[39m\u001B[33m'\u001B[39m\u001B[38;5;132;01m{\u001B[39;00mcol\u001B[38;5;132;01m}\u001B[39;00m\u001B[33m'\u001B[39m\u001B[33m specified as \u001B[39m\u001B[38;5;132;01m{\u001B[39;00mname\u001B[38;5;132;01m}\u001B[39;00m\u001B[33m does not exist in the DataFrame.\u001B[39m\u001B[33m\"\u001B[39m)\n",
      "\u001B[31mValueError\u001B[39m: Column 'gender' specified as cofounders does not exist in the DataFrame."
     ]
    }
   ],
   "execution_count": 27
  },
  {
   "metadata": {
    "ExecuteTime": {
     "end_time": "2025-07-20T16:18:11.246721Z",
     "start_time": "2025-07-20T16:18:11.230146Z"
    }
   },
   "cell_type": "code",
   "source": [
    "# Calculate average treatment effect\n",
    "treatment_effect = analysis_subset.groupby('treatment')['target'].mean()\n",
    "ate = treatment_effect[1] - treatment_effect[0]\n",
    "\n",
    "print(\"Average outcome by treatment group:\")\n",
    "print(treatment_effect)\n",
    "print(f\"\\nAverage Treatment Effect (ATE): {ate:.4f}\")\n",
    "\n",
    "# Visualize the treatment effect\n",
    "plt.figure(figsize=(10, 6))\n",
    "sns.barplot(x='treatment', y='target', data=analysis_subset)\n",
    "plt.title('Average Outcome by Treatment Group')\n",
    "plt.xlabel('Treatment')\n",
    "plt.ylabel('Average Outcome')\n",
    "plt.annotate(f\"ATE = {ate:.4f}\", xy=(0.5, max(treatment_effect) - 0.05), \n",
    "             xytext=(0.5, max(treatment_effect) + 0.05),\n",
    "             ha='center', va='center',\n",
    "             arrowprops=dict(arrowstyle='->', lw=1.5))\n",
    "plt.show()\n"
   ],
   "id": "1d692dd3e40099be",
   "outputs": [
    {
     "ename": "NameError",
     "evalue": "name 'analysis_subset' is not defined",
     "output_type": "error",
     "traceback": [
      "\u001B[31m---------------------------------------------------------------------------\u001B[39m",
      "\u001B[31mNameError\u001B[39m                                 Traceback (most recent call last)",
      "\u001B[36mCell\u001B[39m\u001B[36m \u001B[39m\u001B[32mIn[28]\u001B[39m\u001B[32m, line 2\u001B[39m\n\u001B[32m      1\u001B[39m \u001B[38;5;66;03m# Calculate average treatment effect\u001B[39;00m\n\u001B[32m----> \u001B[39m\u001B[32m2\u001B[39m treatment_effect = analysis_subset.groupby(\u001B[33m'\u001B[39m\u001B[33mtreatment\u001B[39m\u001B[33m'\u001B[39m)[\u001B[33m'\u001B[39m\u001B[33mtarget\u001B[39m\u001B[33m'\u001B[39m].mean()\n\u001B[32m      3\u001B[39m ate = treatment_effect[\u001B[32m1\u001B[39m] - treatment_effect[\u001B[32m0\u001B[39m]\n\u001B[32m      5\u001B[39m \u001B[38;5;28mprint\u001B[39m(\u001B[33m\"\u001B[39m\u001B[33mAverage outcome by treatment group:\u001B[39m\u001B[33m\"\u001B[39m)\n",
      "\u001B[31mNameError\u001B[39m: name 'analysis_subset' is not defined"
     ]
    }
   ],
   "execution_count": 28
  },
  {
   "metadata": {},
   "cell_type": "markdown",
   "source": [
    "### 3.1 Heterogeneous Treatment Effects\n",
    "\n",
    "Let's examine if the treatment effect varies across different subgroups:\n"
   ],
   "id": "67874da36bff0ff8"
  },
  {
   "metadata": {},
   "cell_type": "code",
   "outputs": [],
   "execution_count": null,
   "source": [
    "# Calculate treatment effect by gender\n",
    "gender_effects = analysis_subset.groupby(['gender', 'treatment'])['target'].mean().unstack()\n",
    "gender_ate = gender_effects[1] - gender_effects[0]\n",
    "\n",
    "print(\"Average outcome by gender and treatment group:\")\n",
    "print(gender_effects)\n",
    "print(\"\\nAverage Treatment Effect by gender:\")\n",
    "print(gender_ate)\n",
    "\n",
    "# Visualize heterogeneous treatment effects\n",
    "plt.figure(figsize=(12, 6))\n",
    "sns.barplot(x='gender', y='target', hue='treatment', data=analysis_subset)\n",
    "plt.title('Heterogeneous Treatment Effects by Gender')\n",
    "plt.xlabel('Gender')\n",
    "plt.ylabel('Average Outcome')\n",
    "plt.legend(title='Treatment')\n",
    "plt.show()\n"
   ],
   "id": "4e7b4ce692e96a0a"
  },
  {
   "metadata": {},
   "cell_type": "markdown",
   "source": [
    "## 4. Conclusion\n",
    "\n",
    "In this notebook, we've explored the `causalkit.data` module, which provides tools for generating synthetic data and managing causal data. We've seen how to:\n",
    "\n",
    "1. Generate synthetic data for randomized controlled trials and observational studies\n",
    "2. Create and use causaldata objects to manage data for causal inference\n",
    "3. Access data by role (target, treatment, cofounders)\n",
    "4. Use the get_df method to flexibly retrieve data\n",
    "5. Analyze treatment effects using the tools provided\n",
    "\n",
    "These tools make it easier to work with causal inference data and focus on the analysis rather than data management."
   ],
   "id": "59a3598c8f0e4cd3"
  }
 ],
 "metadata": {},
 "nbformat": 4,
 "nbformat_minor": 5
}
