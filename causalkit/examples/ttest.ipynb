{
 "cells": [
  {
   "cell_type": "code",
   "id": "initial_id",
   "metadata": {
    "collapsed": true,
    "ExecuteTime": {
     "end_time": "2025-06-20T18:26:16.824360Z",
     "start_time": "2025-06-20T18:26:16.810845Z"
    }
   },
   "source": [
    "import numpy as np\n",
    "import pandas as pd\n",
    "import statsmodels.api as sm\n",
    "from scipy import stats\n",
    "\n",
    "def compare_ab(control: np.ndarray, treatment: np.ndarray):\n",
    "    \"\"\"\n",
    "    Compares A/B test results using:\n",
    "      1) two‐sample t‐test\n",
    "      2) OLS regression with a treatment dummy\n",
    "\n",
    "    Prints effect estimates, test statistics, and p‐values.\n",
    "    \"\"\"\n",
    "    # --- Two‐sample t‐test ---\n",
    "    t_stat, p_val = stats.ttest_ind(treatment, control, equal_var=True)\n",
    "    diff = treatment.mean() - control.mean()\n",
    "\n",
    "    # --- OLS regression ---\n",
    "    df = pd.DataFrame({\n",
    "        'y': np.concatenate([control, treatment]),\n",
    "        'treatment': np.concatenate([np.zeros_like(control), np.ones_like(treatment)])\n",
    "    })\n",
    "    X = sm.add_constant(df['treatment'])\n",
    "    model = sm.OLS(df['y'], X).fit()\n",
    "    reg_coef = model.params['treatment']\n",
    "    reg_pval = model.pvalues['treatment']\n",
    "\n",
    "    # --- Print results ---\n",
    "    print(\"=== Two‐sample t‐test ===\")\n",
    "    print(f\"Estimate (μ₁–μ₀): {diff:.4f}\")\n",
    "    print(f\"t‐statistic:         {t_stat:.4f}\")\n",
    "    print(f\"p‐value:             {p_val:.4e}\\n\")\n",
    "\n",
    "    print(\"=== OLS Regression ===\")\n",
    "    print(model.summary())\n",
    "\n",
    "if __name__ == \"__main__\":\n",
    "    # Simulate data\n",
    "    np.random.seed(0)\n",
    "    n = 1000\n",
    "    control   = np.random.normal(loc=0.0, scale=1.0, size=n)\n",
    "    treatment = np.random.normal(loc=0.01, scale=1.0, size=n)\n",
    "\n",
    "    # Compare methods\n",
    "    compare_ab(control, treatment)\n"
   ],
   "outputs": [
    {
     "name": "stdout",
     "output_type": "stream",
     "text": [
      "=== Two‐sample t‐test ===\n",
      "Estimate (μ₁–μ₀): 0.0689\n",
      "t‐statistic:         1.5745\n",
      "p‐value:             1.1553e-01\n",
      "\n",
      "=== OLS Regression ===\n",
      "                            OLS Regression Results                            \n",
      "==============================================================================\n",
      "Dep. Variable:                      y   R-squared:                       0.001\n",
      "Model:                            OLS   Adj. R-squared:                  0.001\n",
      "Method:                 Least Squares   F-statistic:                     2.479\n",
      "Date:                Fri, 20 Jun 2025   Prob (F-statistic):              0.116\n",
      "Time:                        21:26:16   Log-Likelihood:                -2792.7\n",
      "No. Observations:                2000   AIC:                             5589.\n",
      "Df Residuals:                    1998   BIC:                             5601.\n",
      "Df Model:                           1                                         \n",
      "Covariance Type:            nonrobust                                         \n",
      "==============================================================================\n",
      "                 coef    std err          t      P>|t|      [0.025      0.975]\n",
      "------------------------------------------------------------------------------\n",
      "const         -0.0453      0.031     -1.463      0.144      -0.106       0.015\n",
      "treatment      0.0689      0.044      1.574      0.116      -0.017       0.155\n",
      "==============================================================================\n",
      "Omnibus:                        1.062   Durbin-Watson:                   2.061\n",
      "Prob(Omnibus):                  0.588   Jarque-Bera (JB):                1.125\n",
      "Skew:                           0.044   Prob(JB):                        0.570\n",
      "Kurtosis:                       2.925   Cond. No.                         2.62\n",
      "==============================================================================\n",
      "\n",
      "Notes:\n",
      "[1] Standard Errors assume that the covariance matrix of the errors is correctly specified.\n"
     ]
    }
   ],
   "execution_count": 12
  },
  {
   "metadata": {
    "ExecuteTime": {
     "end_time": "2025-06-20T18:12:58.017350Z",
     "start_time": "2025-06-20T18:12:58.014657Z"
    }
   },
   "cell_type": "code",
   "source": [
    "    # Simulate data\n",
    "    np.random.seed(0)\n",
    "    n = 1000\n",
    "    control   = np.random.normal(loc=0.0, scale=1.0, size=n)\n",
    "    treatment = np.random.normal(loc=0.2, scale=1.0, size=n)"
   ],
   "id": "b31e105bc74c31f",
   "outputs": [],
   "execution_count": 2
  },
  {
   "metadata": {
    "ExecuteTime": {
     "end_time": "2025-06-20T18:13:46.733650Z",
     "start_time": "2025-06-20T18:13:46.723034Z"
    }
   },
   "cell_type": "code",
   "source": [
    "    # --- OLS regression ---\n",
    "    df = pd.DataFrame({\n",
    "        'y': np.concatenate([control, treatment]),\n",
    "        'treatment': np.concatenate([np.zeros_like(control), np.ones_like(treatment)])\n",
    "    })\n",
    "    X = sm.add_constant(df['treatment'])\n",
    "    model = sm.OLS(df['y'], X).fit()\n",
    "    reg_coef = model.params['treatment']\n",
    "    reg_pval = model.pvalues['treatment']"
   ],
   "id": "b0166865ebef52a7",
   "outputs": [],
   "execution_count": 6
  },
  {
   "metadata": {
    "ExecuteTime": {
     "end_time": "2025-06-20T18:15:59.557235Z",
     "start_time": "2025-06-20T18:15:59.550740Z"
    }
   },
   "cell_type": "code",
   "source": "X",
   "id": "d91ddd89e679f5db",
   "outputs": [
    {
     "data": {
      "text/plain": [
       "      const  treatment\n",
       "0       1.0        0.0\n",
       "1       1.0        0.0\n",
       "2       1.0        0.0\n",
       "3       1.0        0.0\n",
       "4       1.0        0.0\n",
       "...     ...        ...\n",
       "1995    1.0        1.0\n",
       "1996    1.0        1.0\n",
       "1997    1.0        1.0\n",
       "1998    1.0        1.0\n",
       "1999    1.0        1.0\n",
       "\n",
       "[2000 rows x 2 columns]"
      ],
      "text/html": [
       "<div>\n",
       "<style scoped>\n",
       "    .dataframe tbody tr th:only-of-type {\n",
       "        vertical-align: middle;\n",
       "    }\n",
       "\n",
       "    .dataframe tbody tr th {\n",
       "        vertical-align: top;\n",
       "    }\n",
       "\n",
       "    .dataframe thead th {\n",
       "        text-align: right;\n",
       "    }\n",
       "</style>\n",
       "<table border=\"1\" class=\"dataframe\">\n",
       "  <thead>\n",
       "    <tr style=\"text-align: right;\">\n",
       "      <th></th>\n",
       "      <th>const</th>\n",
       "      <th>treatment</th>\n",
       "    </tr>\n",
       "  </thead>\n",
       "  <tbody>\n",
       "    <tr>\n",
       "      <th>0</th>\n",
       "      <td>1.0</td>\n",
       "      <td>0.0</td>\n",
       "    </tr>\n",
       "    <tr>\n",
       "      <th>1</th>\n",
       "      <td>1.0</td>\n",
       "      <td>0.0</td>\n",
       "    </tr>\n",
       "    <tr>\n",
       "      <th>2</th>\n",
       "      <td>1.0</td>\n",
       "      <td>0.0</td>\n",
       "    </tr>\n",
       "    <tr>\n",
       "      <th>3</th>\n",
       "      <td>1.0</td>\n",
       "      <td>0.0</td>\n",
       "    </tr>\n",
       "    <tr>\n",
       "      <th>4</th>\n",
       "      <td>1.0</td>\n",
       "      <td>0.0</td>\n",
       "    </tr>\n",
       "    <tr>\n",
       "      <th>...</th>\n",
       "      <td>...</td>\n",
       "      <td>...</td>\n",
       "    </tr>\n",
       "    <tr>\n",
       "      <th>1995</th>\n",
       "      <td>1.0</td>\n",
       "      <td>1.0</td>\n",
       "    </tr>\n",
       "    <tr>\n",
       "      <th>1996</th>\n",
       "      <td>1.0</td>\n",
       "      <td>1.0</td>\n",
       "    </tr>\n",
       "    <tr>\n",
       "      <th>1997</th>\n",
       "      <td>1.0</td>\n",
       "      <td>1.0</td>\n",
       "    </tr>\n",
       "    <tr>\n",
       "      <th>1998</th>\n",
       "      <td>1.0</td>\n",
       "      <td>1.0</td>\n",
       "    </tr>\n",
       "    <tr>\n",
       "      <th>1999</th>\n",
       "      <td>1.0</td>\n",
       "      <td>1.0</td>\n",
       "    </tr>\n",
       "  </tbody>\n",
       "</table>\n",
       "<p>2000 rows × 2 columns</p>\n",
       "</div>"
      ]
     },
     "execution_count": 11,
     "metadata": {},
     "output_type": "execute_result"
    }
   ],
   "execution_count": 11
  },
  {
   "metadata": {
    "ExecuteTime": {
     "end_time": "2025-06-20T18:15:01.862464Z",
     "start_time": "2025-06-20T18:15:01.859346Z"
    }
   },
   "cell_type": "code",
   "source": "X.columns",
   "id": "56a305e63bcf849a",
   "outputs": [
    {
     "data": {
      "text/plain": [
       "Index(['const', 'treatment'], dtype='object')"
      ]
     },
     "execution_count": 9,
     "metadata": {},
     "output_type": "execute_result"
    }
   ],
   "execution_count": 9
  },
  {
   "metadata": {
    "ExecuteTime": {
     "end_time": "2025-06-20T18:15:40.146110Z",
     "start_time": "2025-06-20T18:15:40.141085Z"
    }
   },
   "cell_type": "code",
   "source": "X.head()",
   "id": "e30aa3821e0bdec",
   "outputs": [
    {
     "data": {
      "text/plain": [
       "   const  treatment\n",
       "0    1.0        0.0\n",
       "1    1.0        0.0\n",
       "2    1.0        0.0\n",
       "3    1.0        0.0\n",
       "4    1.0        0.0"
      ],
      "text/html": [
       "<div>\n",
       "<style scoped>\n",
       "    .dataframe tbody tr th:only-of-type {\n",
       "        vertical-align: middle;\n",
       "    }\n",
       "\n",
       "    .dataframe tbody tr th {\n",
       "        vertical-align: top;\n",
       "    }\n",
       "\n",
       "    .dataframe thead th {\n",
       "        text-align: right;\n",
       "    }\n",
       "</style>\n",
       "<table border=\"1\" class=\"dataframe\">\n",
       "  <thead>\n",
       "    <tr style=\"text-align: right;\">\n",
       "      <th></th>\n",
       "      <th>const</th>\n",
       "      <th>treatment</th>\n",
       "    </tr>\n",
       "  </thead>\n",
       "  <tbody>\n",
       "    <tr>\n",
       "      <th>0</th>\n",
       "      <td>1.0</td>\n",
       "      <td>0.0</td>\n",
       "    </tr>\n",
       "    <tr>\n",
       "      <th>1</th>\n",
       "      <td>1.0</td>\n",
       "      <td>0.0</td>\n",
       "    </tr>\n",
       "    <tr>\n",
       "      <th>2</th>\n",
       "      <td>1.0</td>\n",
       "      <td>0.0</td>\n",
       "    </tr>\n",
       "    <tr>\n",
       "      <th>3</th>\n",
       "      <td>1.0</td>\n",
       "      <td>0.0</td>\n",
       "    </tr>\n",
       "    <tr>\n",
       "      <th>4</th>\n",
       "      <td>1.0</td>\n",
       "      <td>0.0</td>\n",
       "    </tr>\n",
       "  </tbody>\n",
       "</table>\n",
       "</div>"
      ]
     },
     "execution_count": 10,
     "metadata": {},
     "output_type": "execute_result"
    }
   ],
   "execution_count": 10
  },
  {
   "metadata": {},
   "cell_type": "code",
   "outputs": [],
   "execution_count": null,
   "source": "",
   "id": "a57ae9dfd6be72af"
  }
 ],
 "metadata": {
  "kernelspec": {
   "display_name": "Python 3",
   "language": "python",
   "name": "python3"
  },
  "language_info": {
   "codemirror_mode": {
    "name": "ipython",
    "version": 2
   },
   "file_extension": ".py",
   "mimetype": "text/x-python",
   "name": "python",
   "nbconvert_exporter": "python",
   "pygments_lexer": "ipython2",
   "version": "2.7.6"
  }
 },
 "nbformat": 4,
 "nbformat_minor": 5
}
