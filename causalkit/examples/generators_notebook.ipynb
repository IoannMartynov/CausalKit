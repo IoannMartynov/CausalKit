{
 "cells": [
  {
   "cell_type": "code",
   "id": "initial_id",
   "metadata": {
    "collapsed": true,
    "ExecuteTime": {
     "end_time": "2025-07-06T13:22:46.733488Z",
     "start_time": "2025-07-06T13:22:46.729375Z"
    }
   },
   "source": [
    "import causalkit\n",
    "from causalkit.data import generate_ab_test_data"
   ],
   "outputs": [],
   "execution_count": 4
  },
  {
   "metadata": {
    "ExecuteTime": {
     "end_time": "2025-07-06T13:22:47.040615Z",
     "start_time": "2025-07-06T13:22:47.025728Z"
    }
   },
   "cell_type": "code",
   "source": "df = generate_ab_test_data()",
   "id": "d4b7d4ff3ef62129",
   "outputs": [],
   "execution_count": 5
  },
  {
   "metadata": {
    "ExecuteTime": {
     "end_time": "2025-07-06T13:22:55.003113Z",
     "start_time": "2025-07-06T13:22:54.997164Z"
    }
   },
   "cell_type": "code",
   "source": "df.head()",
   "id": "cfb9f0a716811725",
   "outputs": [
    {
     "data": {
      "text/plain": [
       "   user_id group  conversion  age  gender   device  income\n",
       "0        1     A           0   42  female   mobile   67125\n",
       "1        2     A           0   23    male  desktop   28065\n",
       "2        3     A           0   33    male  desktop   40325\n",
       "3        4     A           0   32  female   mobile   56352\n",
       "4        5     A           0   49  female   mobile   63267"
      ],
      "text/html": [
       "<div>\n",
       "<style scoped>\n",
       "    .dataframe tbody tr th:only-of-type {\n",
       "        vertical-align: middle;\n",
       "    }\n",
       "\n",
       "    .dataframe tbody tr th {\n",
       "        vertical-align: top;\n",
       "    }\n",
       "\n",
       "    .dataframe thead th {\n",
       "        text-align: right;\n",
       "    }\n",
       "</style>\n",
       "<table border=\"1\" class=\"dataframe\">\n",
       "  <thead>\n",
       "    <tr style=\"text-align: right;\">\n",
       "      <th></th>\n",
       "      <th>user_id</th>\n",
       "      <th>group</th>\n",
       "      <th>conversion</th>\n",
       "      <th>age</th>\n",
       "      <th>gender</th>\n",
       "      <th>device</th>\n",
       "      <th>income</th>\n",
       "    </tr>\n",
       "  </thead>\n",
       "  <tbody>\n",
       "    <tr>\n",
       "      <th>0</th>\n",
       "      <td>1</td>\n",
       "      <td>A</td>\n",
       "      <td>0</td>\n",
       "      <td>42</td>\n",
       "      <td>female</td>\n",
       "      <td>mobile</td>\n",
       "      <td>67125</td>\n",
       "    </tr>\n",
       "    <tr>\n",
       "      <th>1</th>\n",
       "      <td>2</td>\n",
       "      <td>A</td>\n",
       "      <td>0</td>\n",
       "      <td>23</td>\n",
       "      <td>male</td>\n",
       "      <td>desktop</td>\n",
       "      <td>28065</td>\n",
       "    </tr>\n",
       "    <tr>\n",
       "      <th>2</th>\n",
       "      <td>3</td>\n",
       "      <td>A</td>\n",
       "      <td>0</td>\n",
       "      <td>33</td>\n",
       "      <td>male</td>\n",
       "      <td>desktop</td>\n",
       "      <td>40325</td>\n",
       "    </tr>\n",
       "    <tr>\n",
       "      <th>3</th>\n",
       "      <td>4</td>\n",
       "      <td>A</td>\n",
       "      <td>0</td>\n",
       "      <td>32</td>\n",
       "      <td>female</td>\n",
       "      <td>mobile</td>\n",
       "      <td>56352</td>\n",
       "    </tr>\n",
       "    <tr>\n",
       "      <th>4</th>\n",
       "      <td>5</td>\n",
       "      <td>A</td>\n",
       "      <td>0</td>\n",
       "      <td>49</td>\n",
       "      <td>female</td>\n",
       "      <td>mobile</td>\n",
       "      <td>63267</td>\n",
       "    </tr>\n",
       "  </tbody>\n",
       "</table>\n",
       "</div>"
      ]
     },
     "execution_count": 6,
     "metadata": {},
     "output_type": "execute_result"
    }
   ],
   "execution_count": 6
  },
  {
   "metadata": {},
   "cell_type": "code",
   "outputs": [],
   "execution_count": null,
   "source": "",
   "id": "1ceac6703f2437a3"
  },
  {
   "metadata": {
    "ExecuteTime": {
     "end_time": "2025-07-08T19:30:18.924209Z",
     "start_time": "2025-07-08T19:30:17.723002Z"
    }
   },
   "cell_type": "code",
   "source": [
    "from causalkit.data.generators import generate_rct_data\n",
    "\n",
    "df = generate_rct_data(target_type=\"nonnormal\", random_state=42)\n"
   ],
   "id": "6f16b07b0d793891",
   "outputs": [
    {
     "name": "stdout",
     "output_type": "stream",
     "text": [
      "   user_id group    target  age  cnt_trans  platform_Android  platform_iOS  \\\n",
      "0        0     A  2.091817   33          9                 1             0   \n",
      "1        1     A  2.835346   33         14                 1             0   \n",
      "2        2     A  1.837216   58          3                 0             1   \n",
      "3        3     A  1.645070   45          6                 1             0   \n",
      "4        4     A  3.079255   47          7                 1             0   \n",
      "\n",
      "   invited_friend  \n",
      "0               0  \n",
      "1               0  \n",
      "2               0  \n",
      "3               0  \n",
      "4               0  \n"
     ]
    }
   ],
   "execution_count": 1
  },
  {
   "metadata": {
    "ExecuteTime": {
     "end_time": "2025-07-08T19:30:42.040130Z",
     "start_time": "2025-07-08T19:30:42.032847Z"
    }
   },
   "cell_type": "code",
   "source": "df.head()",
   "id": "70f3779946c92b72",
   "outputs": [
    {
     "data": {
      "text/plain": [
       "   user_id group    target  age  cnt_trans  platform_Android  platform_iOS  \\\n",
       "0        0     A  2.091817   33          9                 1             0   \n",
       "1        1     A  2.835346   33         14                 1             0   \n",
       "2        2     A  1.837216   58          3                 0             1   \n",
       "3        3     A  1.645070   45          6                 1             0   \n",
       "4        4     A  3.079255   47          7                 1             0   \n",
       "\n",
       "   invited_friend  \n",
       "0               0  \n",
       "1               0  \n",
       "2               0  \n",
       "3               0  \n",
       "4               0  "
      ],
      "text/html": [
       "<div>\n",
       "<style scoped>\n",
       "    .dataframe tbody tr th:only-of-type {\n",
       "        vertical-align: middle;\n",
       "    }\n",
       "\n",
       "    .dataframe tbody tr th {\n",
       "        vertical-align: top;\n",
       "    }\n",
       "\n",
       "    .dataframe thead th {\n",
       "        text-align: right;\n",
       "    }\n",
       "</style>\n",
       "<table border=\"1\" class=\"dataframe\">\n",
       "  <thead>\n",
       "    <tr style=\"text-align: right;\">\n",
       "      <th></th>\n",
       "      <th>user_id</th>\n",
       "      <th>group</th>\n",
       "      <th>target</th>\n",
       "      <th>age</th>\n",
       "      <th>cnt_trans</th>\n",
       "      <th>platform_Android</th>\n",
       "      <th>platform_iOS</th>\n",
       "      <th>invited_friend</th>\n",
       "    </tr>\n",
       "  </thead>\n",
       "  <tbody>\n",
       "    <tr>\n",
       "      <th>0</th>\n",
       "      <td>0</td>\n",
       "      <td>A</td>\n",
       "      <td>2.091817</td>\n",
       "      <td>33</td>\n",
       "      <td>9</td>\n",
       "      <td>1</td>\n",
       "      <td>0</td>\n",
       "      <td>0</td>\n",
       "    </tr>\n",
       "    <tr>\n",
       "      <th>1</th>\n",
       "      <td>1</td>\n",
       "      <td>A</td>\n",
       "      <td>2.835346</td>\n",
       "      <td>33</td>\n",
       "      <td>14</td>\n",
       "      <td>1</td>\n",
       "      <td>0</td>\n",
       "      <td>0</td>\n",
       "    </tr>\n",
       "    <tr>\n",
       "      <th>2</th>\n",
       "      <td>2</td>\n",
       "      <td>A</td>\n",
       "      <td>1.837216</td>\n",
       "      <td>58</td>\n",
       "      <td>3</td>\n",
       "      <td>0</td>\n",
       "      <td>1</td>\n",
       "      <td>0</td>\n",
       "    </tr>\n",
       "    <tr>\n",
       "      <th>3</th>\n",
       "      <td>3</td>\n",
       "      <td>A</td>\n",
       "      <td>1.645070</td>\n",
       "      <td>45</td>\n",
       "      <td>6</td>\n",
       "      <td>1</td>\n",
       "      <td>0</td>\n",
       "      <td>0</td>\n",
       "    </tr>\n",
       "    <tr>\n",
       "      <th>4</th>\n",
       "      <td>4</td>\n",
       "      <td>A</td>\n",
       "      <td>3.079255</td>\n",
       "      <td>47</td>\n",
       "      <td>7</td>\n",
       "      <td>1</td>\n",
       "      <td>0</td>\n",
       "      <td>0</td>\n",
       "    </tr>\n",
       "  </tbody>\n",
       "</table>\n",
       "</div>"
      ]
     },
     "execution_count": 2,
     "metadata": {},
     "output_type": "execute_result"
    }
   ],
   "execution_count": 2
  },
  {
   "metadata": {
    "ExecuteTime": {
     "end_time": "2025-07-15T17:58:08.758495Z",
     "start_time": "2025-07-15T17:58:07.647823Z"
    }
   },
   "cell_type": "code",
   "source": [
    "import causalkit\n",
    "from causalkit.data import generate_rct_data"
   ],
   "id": "b145bed1e7a332fd",
   "outputs": [],
   "execution_count": 1
  },
  {
   "metadata": {
    "ExecuteTime": {
     "end_time": "2025-07-15T17:58:41.697789Z",
     "start_time": "2025-07-15T17:58:41.650159Z"
    }
   },
   "cell_type": "code",
   "source": "df = generate_rct_data()",
   "id": "82a1543b91344938",
   "outputs": [],
   "execution_count": 3
  },
  {
   "metadata": {
    "ExecuteTime": {
     "end_time": "2025-07-15T17:58:51.958180Z",
     "start_time": "2025-07-15T17:58:51.952129Z"
    }
   },
   "cell_type": "code",
   "source": "df.head()",
   "id": "469610257412b623",
   "outputs": [
    {
     "data": {
      "text/plain": [
       "                                user_id  treatment  target  age  cnt_trans  \\\n",
       "0  bf5aaf58-db6a-4e0d-9ad3-73fbcad0e2ee          1       0   20          1   \n",
       "1  f4bb3e6c-4f6c-40af-8aa3-048358b179a3          1       0   44          0   \n",
       "2  dc28b35b-a914-4ea8-90d7-77802fe62fa9          1       0   44          0   \n",
       "3  1ef8752f-ed9f-4b86-8c62-93e4cc13ddbb          1       0   31          2   \n",
       "4  6d650a77-689c-422e-ba12-87d5b3965c81          1       0   39          2   \n",
       "\n",
       "   platform_Android  platform_iOS  invited_friend  \n",
       "0                 0             1               0  \n",
       "1                 0             1               0  \n",
       "2                 0             1               0  \n",
       "3                 0             1               0  \n",
       "4                 0             1               0  "
      ],
      "text/html": [
       "<div>\n",
       "<style scoped>\n",
       "    .dataframe tbody tr th:only-of-type {\n",
       "        vertical-align: middle;\n",
       "    }\n",
       "\n",
       "    .dataframe tbody tr th {\n",
       "        vertical-align: top;\n",
       "    }\n",
       "\n",
       "    .dataframe thead th {\n",
       "        text-align: right;\n",
       "    }\n",
       "</style>\n",
       "<table border=\"1\" class=\"dataframe\">\n",
       "  <thead>\n",
       "    <tr style=\"text-align: right;\">\n",
       "      <th></th>\n",
       "      <th>user_id</th>\n",
       "      <th>treatment</th>\n",
       "      <th>target</th>\n",
       "      <th>age</th>\n",
       "      <th>cnt_trans</th>\n",
       "      <th>platform_Android</th>\n",
       "      <th>platform_iOS</th>\n",
       "      <th>invited_friend</th>\n",
       "    </tr>\n",
       "  </thead>\n",
       "  <tbody>\n",
       "    <tr>\n",
       "      <th>0</th>\n",
       "      <td>bf5aaf58-db6a-4e0d-9ad3-73fbcad0e2ee</td>\n",
       "      <td>1</td>\n",
       "      <td>0</td>\n",
       "      <td>20</td>\n",
       "      <td>1</td>\n",
       "      <td>0</td>\n",
       "      <td>1</td>\n",
       "      <td>0</td>\n",
       "    </tr>\n",
       "    <tr>\n",
       "      <th>1</th>\n",
       "      <td>f4bb3e6c-4f6c-40af-8aa3-048358b179a3</td>\n",
       "      <td>1</td>\n",
       "      <td>0</td>\n",
       "      <td>44</td>\n",
       "      <td>0</td>\n",
       "      <td>0</td>\n",
       "      <td>1</td>\n",
       "      <td>0</td>\n",
       "    </tr>\n",
       "    <tr>\n",
       "      <th>2</th>\n",
       "      <td>dc28b35b-a914-4ea8-90d7-77802fe62fa9</td>\n",
       "      <td>1</td>\n",
       "      <td>0</td>\n",
       "      <td>44</td>\n",
       "      <td>0</td>\n",
       "      <td>0</td>\n",
       "      <td>1</td>\n",
       "      <td>0</td>\n",
       "    </tr>\n",
       "    <tr>\n",
       "      <th>3</th>\n",
       "      <td>1ef8752f-ed9f-4b86-8c62-93e4cc13ddbb</td>\n",
       "      <td>1</td>\n",
       "      <td>0</td>\n",
       "      <td>31</td>\n",
       "      <td>2</td>\n",
       "      <td>0</td>\n",
       "      <td>1</td>\n",
       "      <td>0</td>\n",
       "    </tr>\n",
       "    <tr>\n",
       "      <th>4</th>\n",
       "      <td>6d650a77-689c-422e-ba12-87d5b3965c81</td>\n",
       "      <td>1</td>\n",
       "      <td>0</td>\n",
       "      <td>39</td>\n",
       "      <td>2</td>\n",
       "      <td>0</td>\n",
       "      <td>1</td>\n",
       "      <td>0</td>\n",
       "    </tr>\n",
       "  </tbody>\n",
       "</table>\n",
       "</div>"
      ]
     },
     "execution_count": 4,
     "metadata": {},
     "output_type": "execute_result"
    }
   ],
   "execution_count": 4
  },
  {
   "metadata": {},
   "cell_type": "code",
   "outputs": [],
   "execution_count": null,
   "source": "",
   "id": "922c4d17c00efbba"
  }
 ],
 "metadata": {
  "kernelspec": {
   "display_name": "Python 3",
   "language": "python",
   "name": "python3"
  },
  "language_info": {
   "codemirror_mode": {
    "name": "ipython",
    "version": 2
   },
   "file_extension": ".py",
   "mimetype": "text/x-python",
   "name": "python",
   "nbconvert_exporter": "python",
   "pygments_lexer": "ipython2",
   "version": "2.7.6"
  }
 },
 "nbformat": 4,
 "nbformat_minor": 5
}
