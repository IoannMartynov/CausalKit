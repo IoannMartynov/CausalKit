{
 "cells": [
  {
   "cell_type": "code",
   "id": "initial_id",
   "metadata": {
    "collapsed": true,
    "ExecuteTime": {
     "end_time": "2025-07-06T13:22:46.733488Z",
     "start_time": "2025-07-06T13:22:46.729375Z"
    }
   },
   "source": [
    "import causalkit\n",
    "from causalkit.data import generate_ab_test_data"
   ],
   "outputs": [],
   "execution_count": 4
  },
  {
   "metadata": {
    "ExecuteTime": {
     "end_time": "2025-07-06T13:22:47.040615Z",
     "start_time": "2025-07-06T13:22:47.025728Z"
    }
   },
   "cell_type": "code",
   "source": "df = generate_ab_test_data()",
   "id": "d4b7d4ff3ef62129",
   "outputs": [],
   "execution_count": 5
  },
  {
   "metadata": {
    "ExecuteTime": {
     "end_time": "2025-07-06T13:22:55.003113Z",
     "start_time": "2025-07-06T13:22:54.997164Z"
    }
   },
   "cell_type": "code",
   "source": "df.head()",
   "id": "cfb9f0a716811725",
   "outputs": [
    {
     "data": {
      "text/plain": [
       "   user_id group  conversion  age  gender   device  income\n",
       "0        1     A           0   42  female   mobile   67125\n",
       "1        2     A           0   23    male  desktop   28065\n",
       "2        3     A           0   33    male  desktop   40325\n",
       "3        4     A           0   32  female   mobile   56352\n",
       "4        5     A           0   49  female   mobile   63267"
      ],
      "text/html": [
       "<div>\n",
       "<style scoped>\n",
       "    .dataframe tbody tr th:only-of-type {\n",
       "        vertical-align: middle;\n",
       "    }\n",
       "\n",
       "    .dataframe tbody tr th {\n",
       "        vertical-align: top;\n",
       "    }\n",
       "\n",
       "    .dataframe thead th {\n",
       "        text-align: right;\n",
       "    }\n",
       "</style>\n",
       "<table border=\"1\" class=\"dataframe\">\n",
       "  <thead>\n",
       "    <tr style=\"text-align: right;\">\n",
       "      <th></th>\n",
       "      <th>user_id</th>\n",
       "      <th>group</th>\n",
       "      <th>conversion</th>\n",
       "      <th>age</th>\n",
       "      <th>gender</th>\n",
       "      <th>device</th>\n",
       "      <th>income</th>\n",
       "    </tr>\n",
       "  </thead>\n",
       "  <tbody>\n",
       "    <tr>\n",
       "      <th>0</th>\n",
       "      <td>1</td>\n",
       "      <td>A</td>\n",
       "      <td>0</td>\n",
       "      <td>42</td>\n",
       "      <td>female</td>\n",
       "      <td>mobile</td>\n",
       "      <td>67125</td>\n",
       "    </tr>\n",
       "    <tr>\n",
       "      <th>1</th>\n",
       "      <td>2</td>\n",
       "      <td>A</td>\n",
       "      <td>0</td>\n",
       "      <td>23</td>\n",
       "      <td>male</td>\n",
       "      <td>desktop</td>\n",
       "      <td>28065</td>\n",
       "    </tr>\n",
       "    <tr>\n",
       "      <th>2</th>\n",
       "      <td>3</td>\n",
       "      <td>A</td>\n",
       "      <td>0</td>\n",
       "      <td>33</td>\n",
       "      <td>male</td>\n",
       "      <td>desktop</td>\n",
       "      <td>40325</td>\n",
       "    </tr>\n",
       "    <tr>\n",
       "      <th>3</th>\n",
       "      <td>4</td>\n",
       "      <td>A</td>\n",
       "      <td>0</td>\n",
       "      <td>32</td>\n",
       "      <td>female</td>\n",
       "      <td>mobile</td>\n",
       "      <td>56352</td>\n",
       "    </tr>\n",
       "    <tr>\n",
       "      <th>4</th>\n",
       "      <td>5</td>\n",
       "      <td>A</td>\n",
       "      <td>0</td>\n",
       "      <td>49</td>\n",
       "      <td>female</td>\n",
       "      <td>mobile</td>\n",
       "      <td>63267</td>\n",
       "    </tr>\n",
       "  </tbody>\n",
       "</table>\n",
       "</div>"
      ]
     },
     "execution_count": 6,
     "metadata": {},
     "output_type": "execute_result"
    }
   ],
   "execution_count": 6
  },
  {
   "metadata": {},
   "cell_type": "code",
   "outputs": [],
   "execution_count": null,
   "source": "",
   "id": "1ceac6703f2437a3"
  }
 ],
 "metadata": {
  "kernelspec": {
   "display_name": "Python 3",
   "language": "python",
   "name": "python3"
  },
  "language_info": {
   "codemirror_mode": {
    "name": "ipython",
    "version": 2
   },
   "file_extension": ".py",
   "mimetype": "text/x-python",
   "name": "python",
   "nbconvert_exporter": "python",
   "pygments_lexer": "ipython2",
   "version": "2.7.6"
  }
 },
 "nbformat": 4,
 "nbformat_minor": 5
}
