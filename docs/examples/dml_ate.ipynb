{
 "cells": [
  {
   "metadata": {
    "collapsed": true
   },
   "cell_type": "markdown",
   "source": "# DML ATE Example",
   "id": "8fcc272d63fa7879"
  },
  {
   "metadata": {},
   "cell_type": "markdown",
   "source": [
    "This notebook covers scenario:\n",
    "| Is RCT        | Treatment | Outcome    | EDA | Estimands | Refutation |\n",
    "|---------------|-----------|------------|-----|-----------|------------|\n",
    "| Observational | Binary    | Continuous | Yes | ATE       | Yes        |\n",
    "\n",
    "We will estimate Average Treatment Effect (ATE) of binary treatment on continuous outcome. It shows explonatary data analysis and refutation tests"
   ],
   "id": "9900e7cb514527d0"
  },
  {
   "metadata": {},
   "cell_type": "markdown",
   "source": "## Generate data",
   "id": "889d566926f81af1"
  },
  {
   "metadata": {},
   "cell_type": "markdown",
   "source": "Let's generate data of how feature (Treatment) impact on ARPU (Outcome) with linear effect (theta) = 1.8",
   "id": "c3f40b0f32cedefd"
  },
  {
   "metadata": {
    "ExecuteTime": {
     "end_time": "2025-09-16T19:36:02.851487Z",
     "start_time": "2025-09-16T19:36:02.416875Z"
    }
   },
   "cell_type": "code",
   "source": [
    "import numpy as np\n",
    "import pandas as pd\n",
    "import matplotlib.pyplot as plt\n",
    "from causalkit.data import CausalDatasetGenerator, CausalData\n",
    "\n",
    "# Reproducibility\n",
    "np.random.seed(42)\n",
    "\n",
    "confounder_specs = [\n",
    "    {\"name\": \"tenure_months\", \"dist\": \"normal\", \"mu\": 24, \"sd\": 12},\n",
    "    {\"name\": \"avg_sessions_week\", \"dist\": \"normal\", \"mu\": 5, \"sd\": 2},\n",
    "    {\"name\": \"spend_last_month\", \"dist\": \"uniform\", \"a\": 0, \"b\": 200},\n",
    "    {\"name\": \"premium_user\", \"dist\": \"bernoulli\", \"p\": 0.25},\n",
    "    {\"name\": \"urban_resident\", \"dist\": \"bernoulli\", \"p\": 0.60},\n",
    "]\n",
    "\n",
    "# Causal effect and noise\n",
    "theta = 1.8  # ATE: +1.8 ARPU units if new_feature = 1\n",
    "sigma_y = 3.5  # ARPU noise std\n",
    "target_t_rate = 0.35  # ~35% treated\n",
    "\n",
    "# Effects of confounders on ARPU (baseline, additive)\n",
    "# Order: tenure_months, avg_sessions_week, spend_last_month, premium_user, urban_resident\n",
    "beta_y = np.array([\n",
    "    0.05,  # tenure_months: small positive effect\n",
    "    0.40,  # avg_sessions_week: strong positive effect\n",
    "    0.02,  # spend_last_month: recent spend correlates with ARPU\n",
    "    2.00,  # premium_user: premium users have higher ARPU\n",
    "    1.00,  # urban_resident: urban users slightly higher ARPU\n",
    "], dtype=float)\n",
    "\n",
    "# Effects of confounders on treatment assignment (log-odds scale)\n",
    "beta_t = np.array([\n",
    "    0.015,  # tenure_months\n",
    "    0.10,  # avg_sessions_week\n",
    "    0.002,  # spend_last_month\n",
    "    0.75,  # premium_user\n",
    "    0.30,  # urban_resident: more likely to get the feature\n",
    "], dtype=float)\n",
    "\n",
    "gen = CausalDatasetGenerator(\n",
    "    theta=theta,\n",
    "    outcome_type=\"continuous\",\n",
    "    sigma_y=sigma_y,\n",
    "    target_t_rate=target_t_rate,\n",
    "    seed=42,\n",
    "    confounder_specs=confounder_specs,\n",
    "    beta_y=beta_y,\n",
    "    beta_t=beta_t,\n",
    ")\n",
    "\n",
    "\n",
    "# Create dataset\n",
    "causal_data = gen.to_causal_data(\n",
    "    n=10000,\n",
    "    confounders = [\n",
    "    \"tenure_months\",\n",
    "    \"avg_sessions_week\",\n",
    "    \"spend_last_month\",\n",
    "    \"premium_user\",\n",
    "    \"urban_resident\",\n",
    "]\n",
    ")\n",
    "\n",
    "# Show first few rows\n",
    "causal_data.df.head()\n"
   ],
   "id": "5df3d791f8395962",
   "outputs": [
    {
     "data": {
      "text/plain": [
       "           y    t  tenure_months  avg_sessions_week  spend_last_month  \\\n",
       "0   5.927714  1.0      27.656605           5.352554         72.552568   \n",
       "1  11.122008  1.0      11.520191           6.798247        188.481287   \n",
       "2  10.580393  1.0      33.005414           2.055459         51.040440   \n",
       "3   6.982844  1.0      35.286777           4.429404        166.992239   \n",
       "4  10.899381  0.0       0.587578           6.658307        179.371126   \n",
       "\n",
       "   premium_user  urban_resident  \n",
       "0           1.0             0.0  \n",
       "1           1.0             0.0  \n",
       "2           0.0             1.0  \n",
       "3           0.0             1.0  \n",
       "4           0.0             0.0  "
      ],
      "text/html": [
       "<div>\n",
       "<style scoped>\n",
       "    .dataframe tbody tr th:only-of-type {\n",
       "        vertical-align: middle;\n",
       "    }\n",
       "\n",
       "    .dataframe tbody tr th {\n",
       "        vertical-align: top;\n",
       "    }\n",
       "\n",
       "    .dataframe thead th {\n",
       "        text-align: right;\n",
       "    }\n",
       "</style>\n",
       "<table border=\"1\" class=\"dataframe\">\n",
       "  <thead>\n",
       "    <tr style=\"text-align: right;\">\n",
       "      <th></th>\n",
       "      <th>y</th>\n",
       "      <th>t</th>\n",
       "      <th>tenure_months</th>\n",
       "      <th>avg_sessions_week</th>\n",
       "      <th>spend_last_month</th>\n",
       "      <th>premium_user</th>\n",
       "      <th>urban_resident</th>\n",
       "    </tr>\n",
       "  </thead>\n",
       "  <tbody>\n",
       "    <tr>\n",
       "      <th>0</th>\n",
       "      <td>5.927714</td>\n",
       "      <td>1.0</td>\n",
       "      <td>27.656605</td>\n",
       "      <td>5.352554</td>\n",
       "      <td>72.552568</td>\n",
       "      <td>1.0</td>\n",
       "      <td>0.0</td>\n",
       "    </tr>\n",
       "    <tr>\n",
       "      <th>1</th>\n",
       "      <td>11.122008</td>\n",
       "      <td>1.0</td>\n",
       "      <td>11.520191</td>\n",
       "      <td>6.798247</td>\n",
       "      <td>188.481287</td>\n",
       "      <td>1.0</td>\n",
       "      <td>0.0</td>\n",
       "    </tr>\n",
       "    <tr>\n",
       "      <th>2</th>\n",
       "      <td>10.580393</td>\n",
       "      <td>1.0</td>\n",
       "      <td>33.005414</td>\n",
       "      <td>2.055459</td>\n",
       "      <td>51.040440</td>\n",
       "      <td>0.0</td>\n",
       "      <td>1.0</td>\n",
       "    </tr>\n",
       "    <tr>\n",
       "      <th>3</th>\n",
       "      <td>6.982844</td>\n",
       "      <td>1.0</td>\n",
       "      <td>35.286777</td>\n",
       "      <td>4.429404</td>\n",
       "      <td>166.992239</td>\n",
       "      <td>0.0</td>\n",
       "      <td>1.0</td>\n",
       "    </tr>\n",
       "    <tr>\n",
       "      <th>4</th>\n",
       "      <td>10.899381</td>\n",
       "      <td>0.0</td>\n",
       "      <td>0.587578</td>\n",
       "      <td>6.658307</td>\n",
       "      <td>179.371126</td>\n",
       "      <td>0.0</td>\n",
       "      <td>0.0</td>\n",
       "    </tr>\n",
       "  </tbody>\n",
       "</table>\n",
       "</div>"
      ]
     },
     "execution_count": 1,
     "metadata": {},
     "output_type": "execute_result"
    }
   ],
   "execution_count": 1
  },
  {
   "metadata": {},
   "cell_type": "markdown",
   "source": "## EDA\n",
   "id": "5e37434a3725215a"
  },
  {
   "metadata": {
    "ExecuteTime": {
     "end_time": "2025-09-16T19:36:03.473407Z",
     "start_time": "2025-09-16T19:36:02.873233Z"
    }
   },
   "cell_type": "code",
   "source": [
    "from causalkit.eda import CausalEDA\n",
    "eda = CausalEDA(causal_data)\n",
    "\n",
    "# shape of data\n",
    "eda.data_shape()"
   ],
   "id": "afd5e60494139b52",
   "outputs": [
    {
     "data": {
      "text/plain": [
       "{'n_rows': 10000, 'n_columns': 7}"
      ]
     },
     "execution_count": 2,
     "metadata": {},
     "output_type": "execute_result"
    }
   ],
   "execution_count": 2
  },
  {
   "metadata": {},
   "cell_type": "markdown",
   "source": "### General dataset information",
   "id": "e154a852f7f5da01"
  },
  {
   "metadata": {},
   "cell_type": "markdown",
   "source": "Let's see how outcome differ between clients who recieved the feature and didn't",
   "id": "d00453e2c61b056d"
  },
  {
   "metadata": {
    "ExecuteTime": {
     "end_time": "2025-09-16T19:36:03.499354Z",
     "start_time": "2025-09-16T19:36:03.490895Z"
    }
   },
   "cell_type": "code",
   "source": [
    "# 1) Outcome statistics by treatment\n",
    "eda.outcome_stats()"
   ],
   "id": "fddea7b8fd105fd6",
   "outputs": [
    {
     "data": {
      "text/plain": [
       "           count      mean       std       min       p10       p25    median  \\\n",
       "treatment                                                                      \n",
       "0.0         6519  6.011340  3.925893 -9.866447  1.012888  3.426894  6.030504   \n",
       "1.0         3481  8.553615  3.934260 -5.507710  3.525225  5.909860  8.566860   \n",
       "\n",
       "                 p75        p90        max  \n",
       "treatment                                   \n",
       "0.0         8.676781  10.952265  20.770359  \n",
       "1.0        11.216054  13.602967  21.377687  "
      ],
      "text/html": [
       "<div>\n",
       "<style scoped>\n",
       "    .dataframe tbody tr th:only-of-type {\n",
       "        vertical-align: middle;\n",
       "    }\n",
       "\n",
       "    .dataframe tbody tr th {\n",
       "        vertical-align: top;\n",
       "    }\n",
       "\n",
       "    .dataframe thead th {\n",
       "        text-align: right;\n",
       "    }\n",
       "</style>\n",
       "<table border=\"1\" class=\"dataframe\">\n",
       "  <thead>\n",
       "    <tr style=\"text-align: right;\">\n",
       "      <th></th>\n",
       "      <th>count</th>\n",
       "      <th>mean</th>\n",
       "      <th>std</th>\n",
       "      <th>min</th>\n",
       "      <th>p10</th>\n",
       "      <th>p25</th>\n",
       "      <th>median</th>\n",
       "      <th>p75</th>\n",
       "      <th>p90</th>\n",
       "      <th>max</th>\n",
       "    </tr>\n",
       "    <tr>\n",
       "      <th>treatment</th>\n",
       "      <th></th>\n",
       "      <th></th>\n",
       "      <th></th>\n",
       "      <th></th>\n",
       "      <th></th>\n",
       "      <th></th>\n",
       "      <th></th>\n",
       "      <th></th>\n",
       "      <th></th>\n",
       "      <th></th>\n",
       "    </tr>\n",
       "  </thead>\n",
       "  <tbody>\n",
       "    <tr>\n",
       "      <th>0.0</th>\n",
       "      <td>6519</td>\n",
       "      <td>6.011340</td>\n",
       "      <td>3.925893</td>\n",
       "      <td>-9.866447</td>\n",
       "      <td>1.012888</td>\n",
       "      <td>3.426894</td>\n",
       "      <td>6.030504</td>\n",
       "      <td>8.676781</td>\n",
       "      <td>10.952265</td>\n",
       "      <td>20.770359</td>\n",
       "    </tr>\n",
       "    <tr>\n",
       "      <th>1.0</th>\n",
       "      <td>3481</td>\n",
       "      <td>8.553615</td>\n",
       "      <td>3.934260</td>\n",
       "      <td>-5.507710</td>\n",
       "      <td>3.525225</td>\n",
       "      <td>5.909860</td>\n",
       "      <td>8.566860</td>\n",
       "      <td>11.216054</td>\n",
       "      <td>13.602967</td>\n",
       "      <td>21.377687</td>\n",
       "    </tr>\n",
       "  </tbody>\n",
       "</table>\n",
       "</div>"
      ]
     },
     "execution_count": 3,
     "metadata": {},
     "output_type": "execute_result"
    }
   ],
   "execution_count": 3
  },
  {
   "metadata": {
    "ExecuteTime": {
     "end_time": "2025-09-16T19:36:03.634412Z",
     "start_time": "2025-09-16T19:36:03.533607Z"
    }
   },
   "cell_type": "code",
   "source": [
    "# 2) Outcome distribution by treatment (hist + boxplot)\n",
    "fig1, fig2 = eda.outcome_plots()\n",
    "plt.show()"
   ],
   "id": "880b0a5072b4df9b",
   "outputs": [
    {
     "data": {
      "text/plain": [
       "<Figure size 700x400 with 1 Axes>"
      ],
      "image/png": "[encoded data removed]"
     },
     "metadata": {},
     "output_type": "display_data",
     "jetTransient": {
      "display_id": null
     }
    },
    {
     "data": {
      "text/plain": [
       "<Figure size 700x400 with 1 Axes>"
      ],
      "image/png": "[encoded data removed]"
     },
     "metadata": {},
     "output_type": "display_data",
     "jetTransient": {
      "display_id": null
     }
    }
   ],
   "execution_count": 4
  },
  {
   "metadata": {},
   "cell_type": "markdown",
   "source": "### Propensity",
   "id": "f2e00d21f202152e"
  },
  {
   "metadata": {},
   "cell_type": "markdown",
   "source": "Now let's examine how propensity score differ treatments",
   "id": "a78d91cc3631f5ec"
  },
  {
   "metadata": {
    "ExecuteTime": {
     "end_time": "2025-09-16T19:36:03.662951Z",
     "start_time": "2025-09-16T19:36:03.657102Z"
    }
   },
   "cell_type": "code",
   "source": [
    "# Shows means of confounders for control/treated groups, absolute differences, and SMD values\n",
    "confounders_balance_df = eda.confounders_means()\n",
    "display(confounders_balance_df)"
   ],
   "id": "370ce9b4dfabf136",
   "outputs": [
    {
     "data": {
      "text/plain": [
       "                    mean_t_0    mean_t_1  abs_diff       smd\n",
       "confounders                                                 \n",
       "premium_user        0.198343    0.347889  0.149545  0.340423\n",
       "avg_sessions_week   4.905841    5.293265  0.387423  0.193959\n",
       "tenure_months      23.170108   25.200827  2.030718  0.168676\n",
       "urban_resident      0.578003    0.643781  0.065778  0.135209\n",
       "spend_last_month   97.801230  105.271930  7.470700  0.129267"
      ],
      "text/html": [
       "<div>\n",
       "<style scoped>\n",
       "    .dataframe tbody tr th:only-of-type {\n",
       "        vertical-align: middle;\n",
       "    }\n",
       "\n",
       "    .dataframe tbody tr th {\n",
       "        vertical-align: top;\n",
       "    }\n",
       "\n",
       "    .dataframe thead th {\n",
       "        text-align: right;\n",
       "    }\n",
       "</style>\n",
       "<table border=\"1\" class=\"dataframe\">\n",
       "  <thead>\n",
       "    <tr style=\"text-align: right;\">\n",
       "      <th></th>\n",
       "      <th>mean_t_0</th>\n",
       "      <th>mean_t_1</th>\n",
       "      <th>abs_diff</th>\n",
       "      <th>smd</th>\n",
       "    </tr>\n",
       "    <tr>\n",
       "      <th>confounders</th>\n",
       "      <th></th>\n",
       "      <th></th>\n",
       "      <th></th>\n",
       "      <th></th>\n",
       "    </tr>\n",
       "  </thead>\n",
       "  <tbody>\n",
       "    <tr>\n",
       "      <th>premium_user</th>\n",
       "      <td>0.198343</td>\n",
       "      <td>0.347889</td>\n",
       "      <td>0.149545</td>\n",
       "      <td>0.340423</td>\n",
       "    </tr>\n",
       "    <tr>\n",
       "      <th>avg_sessions_week</th>\n",
       "      <td>4.905841</td>\n",
       "      <td>5.293265</td>\n",
       "      <td>0.387423</td>\n",
       "      <td>0.193959</td>\n",
       "    </tr>\n",
       "    <tr>\n",
       "      <th>tenure_months</th>\n",
       "      <td>23.170108</td>\n",
       "      <td>25.200827</td>\n",
       "      <td>2.030718</td>\n",
       "      <td>0.168676</td>\n",
       "    </tr>\n",
       "    <tr>\n",
       "      <th>urban_resident</th>\n",
       "      <td>0.578003</td>\n",
       "      <td>0.643781</td>\n",
       "      <td>0.065778</td>\n",
       "      <td>0.135209</td>\n",
       "    </tr>\n",
       "    <tr>\n",
       "      <th>spend_last_month</th>\n",
       "      <td>97.801230</td>\n",
       "      <td>105.271930</td>\n",
       "      <td>7.470700</td>\n",
       "      <td>0.129267</td>\n",
       "    </tr>\n",
       "  </tbody>\n",
       "</table>\n",
       "</div>"
      ]
     },
     "metadata": {},
     "output_type": "display_data",
     "jetTransient": {
      "display_id": null
     }
    }
   ],
   "execution_count": 5
  },
  {
   "metadata": {
    "ExecuteTime": {
     "end_time": "2025-09-16T19:36:11.151718Z",
     "start_time": "2025-09-16T19:36:03.666071Z"
    }
   },
   "cell_type": "code",
   "source": [
    "# Propensity model fit\n",
    "ps_model = eda.fit_propensity()\n",
    "\n",
    "# ROC AUC - shows how predictable treatment is from confounders\n",
    "roc_auc_score = ps_model.roc_auc\n",
    "print(\"ROC AUC from PropensityModel:\", round(roc_auc_score, 4))"
   ],
   "id": "9d12d18188019d24",
   "outputs": [
    {
     "name": "stdout",
     "output_type": "stream",
     "text": [
      "ROC AUC from PropensityModel: 0.6053\n"
     ]
    }
   ],
   "execution_count": 6
  },
  {
   "metadata": {
    "ExecuteTime": {
     "end_time": "2025-09-16T19:36:11.204218Z",
     "start_time": "2025-09-16T19:36:11.201910Z"
    }
   },
   "cell_type": "code",
   "source": [
    "# Positivity check - assess overlap between treatment groups\n",
    "positivity_result = ps_model.positivity_check()\n",
    "print(\"Positivity check from PropensityModel:\", positivity_result)"
   ],
   "id": "b948200cd0706386",
   "outputs": [
    {
     "name": "stdout",
     "output_type": "stream",
     "text": [
      "Positivity check from PropensityModel: {'bounds': (0.05, 0.95), 'share_below': 0.0008, 'share_above': 0.0, 'flag': False}\n"
     ]
    }
   ],
   "execution_count": 7
  },
  {
   "metadata": {
    "ExecuteTime": {
     "end_time": "2025-09-16T19:36:11.450338Z",
     "start_time": "2025-09-16T19:36:11.209024Z"
    }
   },
   "cell_type": "code",
   "source": [
    "# SHAP values - feature importance for treatment assignment from confounders\n",
    "shap_values_df = ps_model.shap\n",
    "display(shap_values_df)"
   ],
   "id": "202c3d1c408815f9",
   "outputs": [
    {
     "data": {
      "text/plain": [
       "                  feature  shap_mean  shap_mean_abs  odds_mult_abs  \\\n",
       "0   num__spend_last_month  -0.000322       0.164243       1.178501   \n",
       "1      num__tenure_months   0.000140       0.177237       1.193914   \n",
       "2  num__avg_sessions_week   0.000122       0.197933       1.218881   \n",
       "3       num__premium_user   0.000052       0.302916       1.353801   \n",
       "4     num__urban_resident   0.000008       0.146948       1.158294   \n",
       "\n",
       "   exact_pp_change_abs  exact_pp_change_signed  \n",
       "0             0.038124               -0.000073  \n",
       "1             0.041208                0.000032  \n",
       "2             0.046138                0.000028  \n",
       "3             0.071462                0.000012  \n",
       "4             0.034033                0.000002  "
      ],
      "text/html": [
       "<div>\n",
       "<style scoped>\n",
       "    .dataframe tbody tr th:only-of-type {\n",
       "        vertical-align: middle;\n",
       "    }\n",
       "\n",
       "    .dataframe tbody tr th {\n",
       "        vertical-align: top;\n",
       "    }\n",
       "\n",
       "    .dataframe thead th {\n",
       "        text-align: right;\n",
       "    }\n",
       "</style>\n",
       "<table border=\"1\" class=\"dataframe\">\n",
       "  <thead>\n",
       "    <tr style=\"text-align: right;\">\n",
       "      <th></th>\n",
       "      <th>feature</th>\n",
       "      <th>shap_mean</th>\n",
       "      <th>shap_mean_abs</th>\n",
       "      <th>odds_mult_abs</th>\n",
       "      <th>exact_pp_change_abs</th>\n",
       "      <th>exact_pp_change_signed</th>\n",
       "    </tr>\n",
       "  </thead>\n",
       "  <tbody>\n",
       "    <tr>\n",
       "      <th>0</th>\n",
       "      <td>num__spend_last_month</td>\n",
       "      <td>-0.000322</td>\n",
       "      <td>0.164243</td>\n",
       "      <td>1.178501</td>\n",
       "      <td>0.038124</td>\n",
       "      <td>-0.000073</td>\n",
       "    </tr>\n",
       "    <tr>\n",
       "      <th>1</th>\n",
       "      <td>num__tenure_months</td>\n",
       "      <td>0.000140</td>\n",
       "      <td>0.177237</td>\n",
       "      <td>1.193914</td>\n",
       "      <td>0.041208</td>\n",
       "      <td>0.000032</td>\n",
       "    </tr>\n",
       "    <tr>\n",
       "      <th>2</th>\n",
       "      <td>num__avg_sessions_week</td>\n",
       "      <td>0.000122</td>\n",
       "      <td>0.197933</td>\n",
       "      <td>1.218881</td>\n",
       "      <td>0.046138</td>\n",
       "      <td>0.000028</td>\n",
       "    </tr>\n",
       "    <tr>\n",
       "      <th>3</th>\n",
       "      <td>num__premium_user</td>\n",
       "      <td>0.000052</td>\n",
       "      <td>0.302916</td>\n",
       "      <td>1.353801</td>\n",
       "      <td>0.071462</td>\n",
       "      <td>0.000012</td>\n",
       "    </tr>\n",
       "    <tr>\n",
       "      <th>4</th>\n",
       "      <td>num__urban_resident</td>\n",
       "      <td>0.000008</td>\n",
       "      <td>0.146948</td>\n",
       "      <td>1.158294</td>\n",
       "      <td>0.034033</td>\n",
       "      <td>0.000002</td>\n",
       "    </tr>\n",
       "  </tbody>\n",
       "</table>\n",
       "</div>"
      ]
     },
     "metadata": {},
     "output_type": "display_data",
     "jetTransient": {
      "display_id": null
     }
    }
   ],
   "execution_count": 8
  },
  {
   "metadata": {
    "ExecuteTime": {
     "end_time": "2025-09-16T19:36:11.462359Z",
     "start_time": "2025-09-16T19:36:11.457905Z"
    }
   },
   "cell_type": "code",
   "source": [
    "# If your DataFrame has a 'shap_mean' column:\n",
    "shap_df = shap_values_df.copy()\n",
    "shap_df['mean_abs_shap'] = shap_df['shap_mean'].abs()\n",
    "shap_df.sort_values('mean_abs_shap', ascending=False, inplace=True)\n",
    "display(shap_df)"
   ],
   "id": "f2f493d24ccc85e1",
   "outputs": [
    {
     "data": {
      "text/plain": [
       "                  feature  shap_mean  shap_mean_abs  odds_mult_abs  \\\n",
       "0   num__spend_last_month  -0.000322       0.164243       1.178501   \n",
       "1      num__tenure_months   0.000140       0.177237       1.193914   \n",
       "2  num__avg_sessions_week   0.000122       0.197933       1.218881   \n",
       "3       num__premium_user   0.000052       0.302916       1.353801   \n",
       "4     num__urban_resident   0.000008       0.146948       1.158294   \n",
       "\n",
       "   exact_pp_change_abs  exact_pp_change_signed  mean_abs_shap  \n",
       "0             0.038124               -0.000073       0.000322  \n",
       "1             0.041208                0.000032       0.000140  \n",
       "2             0.046138                0.000028       0.000122  \n",
       "3             0.071462                0.000012       0.000052  \n",
       "4             0.034033                0.000002       0.000008  "
      ],
      "text/html": [
       "<div>\n",
       "<style scoped>\n",
       "    .dataframe tbody tr th:only-of-type {\n",
       "        vertical-align: middle;\n",
       "    }\n",
       "\n",
       "    .dataframe tbody tr th {\n",
       "        vertical-align: top;\n",
       "    }\n",
       "\n",
       "    .dataframe thead th {\n",
       "        text-align: right;\n",
       "    }\n",
       "</style>\n",
       "<table border=\"1\" class=\"dataframe\">\n",
       "  <thead>\n",
       "    <tr style=\"text-align: right;\">\n",
       "      <th></th>\n",
       "      <th>feature</th>\n",
       "      <th>shap_mean</th>\n",
       "      <th>shap_mean_abs</th>\n",
       "      <th>odds_mult_abs</th>\n",
       "      <th>exact_pp_change_abs</th>\n",
       "      <th>exact_pp_change_signed</th>\n",
       "      <th>mean_abs_shap</th>\n",
       "    </tr>\n",
       "  </thead>\n",
       "  <tbody>\n",
       "    <tr>\n",
       "      <th>0</th>\n",
       "      <td>num__spend_last_month</td>\n",
       "      <td>-0.000322</td>\n",
       "      <td>0.164243</td>\n",
       "      <td>1.178501</td>\n",
       "      <td>0.038124</td>\n",
       "      <td>-0.000073</td>\n",
       "      <td>0.000322</td>\n",
       "    </tr>\n",
       "    <tr>\n",
       "      <th>1</th>\n",
       "      <td>num__tenure_months</td>\n",
       "      <td>0.000140</td>\n",
       "      <td>0.177237</td>\n",
       "      <td>1.193914</td>\n",
       "      <td>0.041208</td>\n",
       "      <td>0.000032</td>\n",
       "      <td>0.000140</td>\n",
       "    </tr>\n",
       "    <tr>\n",
       "      <th>2</th>\n",
       "      <td>num__avg_sessions_week</td>\n",
       "      <td>0.000122</td>\n",
       "      <td>0.197933</td>\n",
       "      <td>1.218881</td>\n",
       "      <td>0.046138</td>\n",
       "      <td>0.000028</td>\n",
       "      <td>0.000122</td>\n",
       "    </tr>\n",
       "    <tr>\n",
       "      <th>3</th>\n",
       "      <td>num__premium_user</td>\n",
       "      <td>0.000052</td>\n",
       "      <td>0.302916</td>\n",
       "      <td>1.353801</td>\n",
       "      <td>0.071462</td>\n",
       "      <td>0.000012</td>\n",
       "      <td>0.000052</td>\n",
       "    </tr>\n",
       "    <tr>\n",
       "      <th>4</th>\n",
       "      <td>num__urban_resident</td>\n",
       "      <td>0.000008</td>\n",
       "      <td>0.146948</td>\n",
       "      <td>1.158294</td>\n",
       "      <td>0.034033</td>\n",
       "      <td>0.000002</td>\n",
       "      <td>0.000008</td>\n",
       "    </tr>\n",
       "  </tbody>\n",
       "</table>\n",
       "</div>"
      ]
     },
     "metadata": {},
     "output_type": "display_data",
     "jetTransient": {
      "display_id": null
     }
    }
   ],
   "execution_count": 9
  },
  {
   "metadata": {
    "ExecuteTime": {
     "end_time": "2025-09-16T19:36:11.557312Z",
     "start_time": "2025-09-16T19:36:11.501651Z"
    }
   },
   "cell_type": "code",
   "source": [
    "# Propensity score overlap graph\n",
    "ps_model.ps_graph()\n",
    "plt.show()"
   ],
   "id": "616d19bd7a413a6a",
   "outputs": [
    {
     "data": {
      "text/plain": [
       "<Figure size 640x480 with 1 Axes>"
      ],
      "image/png": "[encoded data removed]"
     },
     "metadata": {},
     "output_type": "display_data",
     "jetTransient": {
      "display_id": null
     }
    }
   ],
   "execution_count": 10
  },
  {
   "metadata": {},
   "cell_type": "markdown",
   "source": "### Outcome regression",
   "id": "735d2a5a60aa75be"
  },
  {
   "metadata": {},
   "cell_type": "markdown",
   "source": "Let's analyze how confounders predict outcome",
   "id": "1c571739abf58410"
  },
  {
   "metadata": {
    "ExecuteTime": {
     "end_time": "2025-09-16T19:36:15.513490Z",
     "start_time": "2025-09-16T19:36:11.564663Z"
    }
   },
   "cell_type": "code",
   "source": [
    "# Outcome model fit\n",
    "outcome_model = eda.outcome_fit()\n",
    "\n",
    "# RMSE and MAE of regression model\n",
    "print(outcome_model.scores)"
   ],
   "id": "552711b4aaa3715f",
   "outputs": [
    {
     "name": "stdout",
     "output_type": "stream",
     "text": [
      "{'rmse': 3.6896558290948964, 'mae': 2.94099663606919}\n"
     ]
    }
   ],
   "execution_count": 11
  },
  {
   "metadata": {
    "ExecuteTime": {
     "end_time": "2025-09-16T19:36:15.771753Z",
     "start_time": "2025-09-16T19:36:15.531908Z"
    }
   },
   "cell_type": "code",
   "source": [
    "# 2) SHAP values - feature importance for outcome prediction from confounders\n",
    "shap_outcome_df = outcome_model.shap\n",
    "display(shap_outcome_df)"
   ],
   "id": "bd8d22d9892b05bc",
   "outputs": [
    {
     "data": {
      "text/plain": [
       "             feature  shap_mean\n",
       "0   spend_last_month   0.002252\n",
       "1      tenure_months  -0.001747\n",
       "2  avg_sessions_week  -0.000951\n",
       "3       premium_user   0.000729\n",
       "4     urban_resident  -0.000282"
      ],
      "text/html": [
       "<div>\n",
       "<style scoped>\n",
       "    .dataframe tbody tr th:only-of-type {\n",
       "        vertical-align: middle;\n",
       "    }\n",
       "\n",
       "    .dataframe tbody tr th {\n",
       "        vertical-align: top;\n",
       "    }\n",
       "\n",
       "    .dataframe thead th {\n",
       "        text-align: right;\n",
       "    }\n",
       "</style>\n",
       "<table border=\"1\" class=\"dataframe\">\n",
       "  <thead>\n",
       "    <tr style=\"text-align: right;\">\n",
       "      <th></th>\n",
       "      <th>feature</th>\n",
       "      <th>shap_mean</th>\n",
       "    </tr>\n",
       "  </thead>\n",
       "  <tbody>\n",
       "    <tr>\n",
       "      <th>0</th>\n",
       "      <td>spend_last_month</td>\n",
       "      <td>0.002252</td>\n",
       "    </tr>\n",
       "    <tr>\n",
       "      <th>1</th>\n",
       "      <td>tenure_months</td>\n",
       "      <td>-0.001747</td>\n",
       "    </tr>\n",
       "    <tr>\n",
       "      <th>2</th>\n",
       "      <td>avg_sessions_week</td>\n",
       "      <td>-0.000951</td>\n",
       "    </tr>\n",
       "    <tr>\n",
       "      <th>3</th>\n",
       "      <td>premium_user</td>\n",
       "      <td>0.000729</td>\n",
       "    </tr>\n",
       "    <tr>\n",
       "      <th>4</th>\n",
       "      <td>urban_resident</td>\n",
       "      <td>-0.000282</td>\n",
       "    </tr>\n",
       "  </tbody>\n",
       "</table>\n",
       "</div>"
      ]
     },
     "metadata": {},
     "output_type": "display_data",
     "jetTransient": {
      "display_id": null
     }
    }
   ],
   "execution_count": 12
  },
  {
   "metadata": {},
   "cell_type": "markdown",
   "source": "## Inference",
   "id": "6bb04960515eddb9"
  },
  {
   "metadata": {},
   "cell_type": "markdown",
   "source": "Now time to estimate ATE with Double Machine Learning",
   "id": "367bb171ed234d43"
  },
  {
   "metadata": {
    "ExecuteTime": {
     "end_time": "2025-09-16T19:36:24.570445Z",
     "start_time": "2025-09-16T19:36:15.788165Z"
    }
   },
   "cell_type": "code",
   "source": [
    "from causalkit.inference.ate import dml_ate\n",
    "\n",
    "# Estimate Average Treatment Effect (ATE)\n",
    "ate_result = dml_ate(causal_data, n_folds=4, confidence_level=0.95)"
   ],
   "id": "1903be665fae92e5",
   "outputs": [],
   "execution_count": 13
  },
  {
   "metadata": {
    "ExecuteTime": {
     "end_time": "2025-09-16T19:36:24.583379Z",
     "start_time": "2025-09-16T19:36:24.581090Z"
    }
   },
   "cell_type": "code",
   "source": "ate_result",
   "id": "c6d73ec082c0aa5b",
   "outputs": [
    {
     "data": {
      "text/plain": [
       "{'coefficient': 1.811908928365361,\n",
       " 'std_error': 0.08816425428368271,\n",
       " 'p_value': 0.0,\n",
       " 'confidence_interval': (1.6391101652455118, 1.9847076914852104),\n",
       " 'model': <causalkit.inference.estimators.irm.IRM at 0x176e6ee40>}"
      ]
     },
     "execution_count": 14,
     "metadata": {},
     "output_type": "execute_result"
    }
   ],
   "execution_count": 14
  },
  {
   "metadata": {},
   "cell_type": "markdown",
   "source": "True theta in our data generating proccess was 1.8",
   "id": "85a4433c8568bda8"
  },
  {
   "metadata": {},
   "cell_type": "markdown",
   "source": "## Refutation",
   "id": "d480fb40315a1482"
  },
  {
   "metadata": {},
   "cell_type": "markdown",
   "source": "### Placebo",
   "id": "877fc216ed737d60"
  },
  {
   "metadata": {
    "ExecuteTime": {
     "end_time": "2025-09-16T19:36:24.598165Z",
     "start_time": "2025-09-16T19:36:24.594111Z"
    }
   },
   "cell_type": "code",
   "source": [
    "# Import refutation utilities\n",
    "from causalkit.refutation import (\n",
    "    refute_placebo_outcome,\n",
    "    refute_placebo_treatment,\n",
    "    refute_subset,\n",
    "    refute_irm_orthogonality,\n",
    "    sensitivity_analysis,\n",
    "    sensitivity_analysis_set\n",
    ")"
   ],
   "id": "b1ea9f3ac405ad32",
   "outputs": [],
   "execution_count": 15
  },
  {
   "metadata": {},
   "cell_type": "markdown",
   "source": "Replacing outcome with dummy random variable must broke our model and effect will be near zero",
   "id": "85c161d53ff775bd"
  },
  {
   "metadata": {
    "ExecuteTime": {
     "end_time": "2025-09-16T19:36:35.112122Z",
     "start_time": "2025-09-16T19:36:24.600865Z"
    }
   },
   "cell_type": "code",
   "source": [
    "# Replacing an outcome with placebo\n",
    "ate_placebo_outcome = refute_placebo_outcome(\n",
    "    dml_ate,\n",
    "    causal_data,\n",
    "    random_state=42\n",
    ")\n",
    "\n",
    "print(ate_placebo_outcome)"
   ],
   "id": "eb5f75c616754927",
   "outputs": [
    {
     "name": "stdout",
     "output_type": "stream",
     "text": [
      "{'theta': -0.010295142013992998, 'p_value': 0.38043498282685206}\n"
     ]
    }
   ],
   "execution_count": 16
  },
  {
   "metadata": {},
   "cell_type": "markdown",
   "source": "Replacing treatment with dummy random variable must broke our model and effect will be near zero",
   "id": "c06981ea9dc7f54e"
  },
  {
   "metadata": {
    "ExecuteTime": {
     "end_time": "2025-09-16T19:36:45.428196Z",
     "start_time": "2025-09-16T19:36:35.122578Z"
    }
   },
   "cell_type": "code",
   "source": [
    "# Replacing treatment with placebo\n",
    "ate_placebo_treatment = refute_placebo_treatment(\n",
    "    dml_ate,\n",
    "    causal_data,\n",
    "    random_state=42\n",
    ")\n",
    "\n",
    "print(ate_placebo_treatment)"
   ],
   "id": "fcde73df6227ef75",
   "outputs": [
    {
     "name": "stdout",
     "output_type": "stream",
     "text": [
      "{'theta': 0.04538029891915599, 'p_value': 0.5872867339456749}\n"
     ]
    }
   ],
   "execution_count": 17
  },
  {
   "metadata": {},
   "cell_type": "markdown",
   "source": "Let's chanllege our dataset and romove random parts. Theta shoul be near estimated",
   "id": "cc11ea49bf9a6a2e"
  },
  {
   "metadata": {
    "ExecuteTime": {
     "end_time": "2025-09-16T19:36:58.411020Z",
     "start_time": "2025-09-16T19:36:45.439229Z"
    }
   },
   "cell_type": "code",
   "source": [
    "# Inference on subsets\n",
    "subset_fractions = [0.3, 0.5]\n",
    "\n",
    "ate_subset_results = []\n",
    "for fraction in subset_fractions:\n",
    "    subset_result = refute_subset(\n",
    "        dml_ate,\n",
    "        causal_data,\n",
    "        fraction=fraction,\n",
    "        random_state=42\n",
    "    )\n",
    "    ate_subset_results.append(subset_result)\n",
    "\n",
    "    print(f\" With {fraction*100:.0f}% subset: theta = {subset_result['theta']:.4f}, p_value = {subset_result['p_value']:.4f}\")"
   ],
   "id": "a86c91985b29fa57",
   "outputs": [
    {
     "name": "stdout",
     "output_type": "stream",
     "text": [
      " With 30% subset: theta = 1.5689, p_value = 0.0000\n",
      " With 50% subset: theta = 1.8482, p_value = 0.0000\n"
     ]
    }
   ],
   "execution_count": 18
  },
  {
   "metadata": {},
   "cell_type": "markdown",
   "source": "### Orthogonality",
   "id": "ed99ad9cc9dd62c3"
  },
  {
   "metadata": {},
   "cell_type": "markdown",
   "source": "Orthogonality tests show us \"Does we correct specify the model\"",
   "id": "bca9e96235df6df0"
  },
  {
   "metadata": {
    "ExecuteTime": {
     "end_time": "2025-09-16T19:37:54.530952Z",
     "start_time": "2025-09-16T19:36:58.422133Z"
    }
   },
   "cell_type": "code",
   "source": "ate_ortho_check = refute_irm_orthogonality(dml_ate, causal_data)",
   "id": "5fa72cf706438ad1",
   "outputs": [
    {
     "name": "stderr",
     "output_type": "stream",
     "text": [
      "/var/folders/m0/gys_jqqj44n801p04bgv_ct00000gn/T/ipykernel_18837/1147422044.py:1: DeprecationWarning: 'clip_eps' is deprecated; use 'trimming_threshold'.\n",
      "  ate_ortho_check = refute_irm_orthogonality(dml_ate, causal_data)\n"
     ]
    }
   ],
   "execution_count": 19
  },
  {
   "metadata": {
    "ExecuteTime": {
     "end_time": "2025-09-16T19:37:54.546342Z",
     "start_time": "2025-09-16T19:37:54.543416Z"
    }
   },
   "cell_type": "code",
   "source": [
    "# 1. Out-of-sample moment check\n",
    "print(\"\\n--- 1. Out-of-Sample Moment Check ---\")\n",
    "oos_test = ate_ortho_check['oos_moment_test']\n",
    "print(f\"T-statistic: {oos_test['tstat']:.4f}\")\n",
    "print(f\"P-value: {oos_test['pvalue']:.4f}\")\n",
    "print(f\"Interpretation: {oos_test['interpretation']}\")\n",
    "print(\"\\nFold-wise results:\")\n",
    "display(oos_test['fold_results'])\n"
   ],
   "id": "cc41ece52c878c30",
   "outputs": [
    {
     "name": "stdout",
     "output_type": "stream",
     "text": [
      "\n",
      "--- 1. Out-of-Sample Moment Check ---\n",
      "T-statistic: 0.3187\n",
      "P-value: 0.7499\n",
      "Interpretation: Should be ≈ 0 if moment condition holds\n",
      "\n",
      "Fold-wise results:\n"
     ]
    },
    {
     "data": {
      "text/plain": [
       "   fold     n  psi_mean    psi_var\n",
       "0     0  2500  0.031870  80.461454\n",
       "1     1  2500  0.255311  79.111338\n",
       "2     2  2500 -0.080236  69.625798\n",
       "3     3  2500 -0.096489  71.050353"
      ],
      "text/html": [
       "<div>\n",
       "<style scoped>\n",
       "    .dataframe tbody tr th:only-of-type {\n",
       "        vertical-align: middle;\n",
       "    }\n",
       "\n",
       "    .dataframe tbody tr th {\n",
       "        vertical-align: top;\n",
       "    }\n",
       "\n",
       "    .dataframe thead th {\n",
       "        text-align: right;\n",
       "    }\n",
       "</style>\n",
       "<table border=\"1\" class=\"dataframe\">\n",
       "  <thead>\n",
       "    <tr style=\"text-align: right;\">\n",
       "      <th></th>\n",
       "      <th>fold</th>\n",
       "      <th>n</th>\n",
       "      <th>psi_mean</th>\n",
       "      <th>psi_var</th>\n",
       "    </tr>\n",
       "  </thead>\n",
       "  <tbody>\n",
       "    <tr>\n",
       "      <th>0</th>\n",
       "      <td>0</td>\n",
       "      <td>2500</td>\n",
       "      <td>0.031870</td>\n",
       "      <td>80.461454</td>\n",
       "    </tr>\n",
       "    <tr>\n",
       "      <th>1</th>\n",
       "      <td>1</td>\n",
       "      <td>2500</td>\n",
       "      <td>0.255311</td>\n",
       "      <td>79.111338</td>\n",
       "    </tr>\n",
       "    <tr>\n",
       "      <th>2</th>\n",
       "      <td>2</td>\n",
       "      <td>2500</td>\n",
       "      <td>-0.080236</td>\n",
       "      <td>69.625798</td>\n",
       "    </tr>\n",
       "    <tr>\n",
       "      <th>3</th>\n",
       "      <td>3</td>\n",
       "      <td>2500</td>\n",
       "      <td>-0.096489</td>\n",
       "      <td>71.050353</td>\n",
       "    </tr>\n",
       "  </tbody>\n",
       "</table>\n",
       "</div>"
      ]
     },
     "metadata": {},
     "output_type": "display_data",
     "jetTransient": {
      "display_id": null
     }
    }
   ],
   "execution_count": 20
  },
  {
   "metadata": {},
   "cell_type": "markdown",
   "source": "psi_mean is near zero on every fold, so the test is successful",
   "id": "4c0226b06868daf5"
  },
  {
   "metadata": {
    "ExecuteTime": {
     "end_time": "2025-09-16T19:37:54.570140Z",
     "start_time": "2025-09-16T19:37:54.559670Z"
    }
   },
   "cell_type": "code",
   "source": [
    "# 2. Orthogonality derivatives\n",
    "print(\"\\n--- 2. Orthogonality (Gateaux Derivative) Tests ---\")\n",
    "ortho_derivs = ate_ortho_check['orthogonality_derivatives']\n",
    "print(f\"Interpretation: {ortho_derivs['interpretation']}\")\n",
    "\n",
    "print(\"\\nFull sample derivatives:\")\n",
    "display(ortho_derivs['full_sample'])\n",
    "\n",
    "print(\"\\nTrimmed sample derivatives:\")\n",
    "display(ortho_derivs['trimmed_sample'])\n",
    "\n",
    "if len(ortho_derivs['problematic_full']) > 0:\n",
    "    print(\"\\n⚠ PROBLEMATIC derivatives (full sample):\")\n",
    "    display(ortho_derivs['problematic_full'])\n",
    "else:\n",
    "    print(\"\\n✓ No problematic derivatives in full sample\")\n",
    "\n",
    "if len(ortho_derivs['problematic_trimmed']) > 0:\n",
    "    print(\"\\n⚠ PROBLEMATIC derivatives (trimmed sample):\")\n",
    "    display(ortho_derivs['problematic_trimmed'])\n",
    "else:\n",
    "    print(\"\\n✓ No problematic derivatives in trimmed sample\")\n"
   ],
   "id": "475f3800d2c20a2c",
   "outputs": [
    {
     "name": "stdout",
     "output_type": "stream",
     "text": [
      "\n",
      "--- 2. Orthogonality (Gateaux Derivative) Tests ---\n",
      "Interpretation: Large |t| (>2) indicate calibration issues\n",
      "\n",
      "Full sample derivatives:\n"
     ]
    },
    {
     "data": {
      "text/plain": [
       "   basis      d_g1     se_g1      t_g1      d_g0     se_g0      t_g0  \\\n",
       "0      0 -0.064300  0.016722 -3.845212  0.022460  0.008411  2.670267   \n",
       "1      1  0.019633  0.019158  1.024780  0.015815  0.010365  1.525826   \n",
       "2      2  0.029572  0.018263  1.619260  0.009535  0.009405  1.013813   \n",
       "3      3  0.008285  0.017087  0.484875  0.004321  0.008909  0.485077   \n",
       "4      4  0.004134  0.013807  0.299410  0.014754  0.010572  1.395633   \n",
       "5      5  0.002942  0.017202  0.171012 -0.001595  0.008177 -0.195078   \n",
       "\n",
       "        d_m      se_m       t_m  \n",
       "0 -0.257443  0.429935 -0.598795  \n",
       "1 -0.124056  0.592278 -0.209455  \n",
       "2  0.340218  0.573312  0.593425  \n",
       "3  0.963407  0.550116  1.751279  \n",
       "4  0.019523  0.338303  0.057707  \n",
       "5 -0.187497  0.441069 -0.425098  "
      ],
      "text/html": [
       "<div>\n",
       "<style scoped>\n",
       "    .dataframe tbody tr th:only-of-type {\n",
       "        vertical-align: middle;\n",
       "    }\n",
       "\n",
       "    .dataframe tbody tr th {\n",
       "        vertical-align: top;\n",
       "    }\n",
       "\n",
       "    .dataframe thead th {\n",
       "        text-align: right;\n",
       "    }\n",
       "</style>\n",
       "<table border=\"1\" class=\"dataframe\">\n",
       "  <thead>\n",
       "    <tr style=\"text-align: right;\">\n",
       "      <th></th>\n",
       "      <th>basis</th>\n",
       "      <th>d_g1</th>\n",
       "      <th>se_g1</th>\n",
       "      <th>t_g1</th>\n",
       "      <th>d_g0</th>\n",
       "      <th>se_g0</th>\n",
       "      <th>t_g0</th>\n",
       "      <th>d_m</th>\n",
       "      <th>se_m</th>\n",
       "      <th>t_m</th>\n",
       "    </tr>\n",
       "  </thead>\n",
       "  <tbody>\n",
       "    <tr>\n",
       "      <th>0</th>\n",
       "      <td>0</td>\n",
       "      <td>-0.064300</td>\n",
       "      <td>0.016722</td>\n",
       "      <td>-3.845212</td>\n",
       "      <td>0.022460</td>\n",
       "      <td>0.008411</td>\n",
       "      <td>2.670267</td>\n",
       "      <td>-0.257443</td>\n",
       "      <td>0.429935</td>\n",
       "      <td>-0.598795</td>\n",
       "    </tr>\n",
       "    <tr>\n",
       "      <th>1</th>\n",
       "      <td>1</td>\n",
       "      <td>0.019633</td>\n",
       "      <td>0.019158</td>\n",
       "      <td>1.024780</td>\n",
       "      <td>0.015815</td>\n",
       "      <td>0.010365</td>\n",
       "      <td>1.525826</td>\n",
       "      <td>-0.124056</td>\n",
       "      <td>0.592278</td>\n",
       "      <td>-0.209455</td>\n",
       "    </tr>\n",
       "    <tr>\n",
       "      <th>2</th>\n",
       "      <td>2</td>\n",
       "      <td>0.029572</td>\n",
       "      <td>0.018263</td>\n",
       "      <td>1.619260</td>\n",
       "      <td>0.009535</td>\n",
       "      <td>0.009405</td>\n",
       "      <td>1.013813</td>\n",
       "      <td>0.340218</td>\n",
       "      <td>0.573312</td>\n",
       "      <td>0.593425</td>\n",
       "    </tr>\n",
       "    <tr>\n",
       "      <th>3</th>\n",
       "      <td>3</td>\n",
       "      <td>0.008285</td>\n",
       "      <td>0.017087</td>\n",
       "      <td>0.484875</td>\n",
       "      <td>0.004321</td>\n",
       "      <td>0.008909</td>\n",
       "      <td>0.485077</td>\n",
       "      <td>0.963407</td>\n",
       "      <td>0.550116</td>\n",
       "      <td>1.751279</td>\n",
       "    </tr>\n",
       "    <tr>\n",
       "      <th>4</th>\n",
       "      <td>4</td>\n",
       "      <td>0.004134</td>\n",
       "      <td>0.013807</td>\n",
       "      <td>0.299410</td>\n",
       "      <td>0.014754</td>\n",
       "      <td>0.010572</td>\n",
       "      <td>1.395633</td>\n",
       "      <td>0.019523</td>\n",
       "      <td>0.338303</td>\n",
       "      <td>0.057707</td>\n",
       "    </tr>\n",
       "    <tr>\n",
       "      <th>5</th>\n",
       "      <td>5</td>\n",
       "      <td>0.002942</td>\n",
       "      <td>0.017202</td>\n",
       "      <td>0.171012</td>\n",
       "      <td>-0.001595</td>\n",
       "      <td>0.008177</td>\n",
       "      <td>-0.195078</td>\n",
       "      <td>-0.187497</td>\n",
       "      <td>0.441069</td>\n",
       "      <td>-0.425098</td>\n",
       "    </tr>\n",
       "  </tbody>\n",
       "</table>\n",
       "</div>"
      ]
     },
     "metadata": {},
     "output_type": "display_data",
     "jetTransient": {
      "display_id": null
     }
    },
    {
     "name": "stdout",
     "output_type": "stream",
     "text": [
      "\n",
      "Trimmed sample derivatives:\n"
     ]
    },
    {
     "data": {
      "text/plain": [
       "   basis      d_g1     se_g1      t_g1      d_g0     se_g0      t_g0  \\\n",
       "0      0 -0.064300  0.016722 -3.845212  0.022460  0.008411  2.670267   \n",
       "1      1  0.019633  0.019158  1.024780  0.015815  0.010365  1.525826   \n",
       "2      2  0.029572  0.018263  1.619260  0.009535  0.009405  1.013813   \n",
       "3      3  0.008285  0.017087  0.484875  0.004321  0.008909  0.485077   \n",
       "4      4  0.004134  0.013807  0.299410  0.014754  0.010572  1.395633   \n",
       "5      5  0.002942  0.017202  0.171012 -0.001595  0.008177 -0.195078   \n",
       "\n",
       "        d_m      se_m       t_m  \n",
       "0 -0.257443  0.429935 -0.598795  \n",
       "1 -0.124056  0.592278 -0.209455  \n",
       "2  0.340218  0.573312  0.593425  \n",
       "3  0.963407  0.550116  1.751279  \n",
       "4  0.019523  0.338303  0.057707  \n",
       "5 -0.187497  0.441069 -0.425098  "
      ],
      "text/html": [
       "<div>\n",
       "<style scoped>\n",
       "    .dataframe tbody tr th:only-of-type {\n",
       "        vertical-align: middle;\n",
       "    }\n",
       "\n",
       "    .dataframe tbody tr th {\n",
       "        vertical-align: top;\n",
       "    }\n",
       "\n",
       "    .dataframe thead th {\n",
       "        text-align: right;\n",
       "    }\n",
       "</style>\n",
       "<table border=\"1\" class=\"dataframe\">\n",
       "  <thead>\n",
       "    <tr style=\"text-align: right;\">\n",
       "      <th></th>\n",
       "      <th>basis</th>\n",
       "      <th>d_g1</th>\n",
       "      <th>se_g1</th>\n",
       "      <th>t_g1</th>\n",
       "      <th>d_g0</th>\n",
       "      <th>se_g0</th>\n",
       "      <th>t_g0</th>\n",
       "      <th>d_m</th>\n",
       "      <th>se_m</th>\n",
       "      <th>t_m</th>\n",
       "    </tr>\n",
       "  </thead>\n",
       "  <tbody>\n",
       "    <tr>\n",
       "      <th>0</th>\n",
       "      <td>0</td>\n",
       "      <td>-0.064300</td>\n",
       "      <td>0.016722</td>\n",
       "      <td>-3.845212</td>\n",
       "      <td>0.022460</td>\n",
       "      <td>0.008411</td>\n",
       "      <td>2.670267</td>\n",
       "      <td>-0.257443</td>\n",
       "      <td>0.429935</td>\n",
       "      <td>-0.598795</td>\n",
       "    </tr>\n",
       "    <tr>\n",
       "      <th>1</th>\n",
       "      <td>1</td>\n",
       "      <td>0.019633</td>\n",
       "      <td>0.019158</td>\n",
       "      <td>1.024780</td>\n",
       "      <td>0.015815</td>\n",
       "      <td>0.010365</td>\n",
       "      <td>1.525826</td>\n",
       "      <td>-0.124056</td>\n",
       "      <td>0.592278</td>\n",
       "      <td>-0.209455</td>\n",
       "    </tr>\n",
       "    <tr>\n",
       "      <th>2</th>\n",
       "      <td>2</td>\n",
       "      <td>0.029572</td>\n",
       "      <td>0.018263</td>\n",
       "      <td>1.619260</td>\n",
       "      <td>0.009535</td>\n",
       "      <td>0.009405</td>\n",
       "      <td>1.013813</td>\n",
       "      <td>0.340218</td>\n",
       "      <td>0.573312</td>\n",
       "      <td>0.593425</td>\n",
       "    </tr>\n",
       "    <tr>\n",
       "      <th>3</th>\n",
       "      <td>3</td>\n",
       "      <td>0.008285</td>\n",
       "      <td>0.017087</td>\n",
       "      <td>0.484875</td>\n",
       "      <td>0.004321</td>\n",
       "      <td>0.008909</td>\n",
       "      <td>0.485077</td>\n",
       "      <td>0.963407</td>\n",
       "      <td>0.550116</td>\n",
       "      <td>1.751279</td>\n",
       "    </tr>\n",
       "    <tr>\n",
       "      <th>4</th>\n",
       "      <td>4</td>\n",
       "      <td>0.004134</td>\n",
       "      <td>0.013807</td>\n",
       "      <td>0.299410</td>\n",
       "      <td>0.014754</td>\n",
       "      <td>0.010572</td>\n",
       "      <td>1.395633</td>\n",
       "      <td>0.019523</td>\n",
       "      <td>0.338303</td>\n",
       "      <td>0.057707</td>\n",
       "    </tr>\n",
       "    <tr>\n",
       "      <th>5</th>\n",
       "      <td>5</td>\n",
       "      <td>0.002942</td>\n",
       "      <td>0.017202</td>\n",
       "      <td>0.171012</td>\n",
       "      <td>-0.001595</td>\n",
       "      <td>0.008177</td>\n",
       "      <td>-0.195078</td>\n",
       "      <td>-0.187497</td>\n",
       "      <td>0.441069</td>\n",
       "      <td>-0.425098</td>\n",
       "    </tr>\n",
       "  </tbody>\n",
       "</table>\n",
       "</div>"
      ]
     },
     "metadata": {},
     "output_type": "display_data",
     "jetTransient": {
      "display_id": null
     }
    },
    {
     "name": "stdout",
     "output_type": "stream",
     "text": [
      "\n",
      "⚠ PROBLEMATIC derivatives (full sample):\n"
     ]
    },
    {
     "data": {
      "text/plain": [
       "   basis    d_g1     se_g1      t_g1     d_g0     se_g0      t_g0       d_m  \\\n",
       "0      0 -0.0643  0.016722 -3.845212  0.02246  0.008411  2.670267 -0.257443   \n",
       "\n",
       "       se_m       t_m  \n",
       "0  0.429935 -0.598795  "
      ],
      "text/html": [
       "<div>\n",
       "<style scoped>\n",
       "    .dataframe tbody tr th:only-of-type {\n",
       "        vertical-align: middle;\n",
       "    }\n",
       "\n",
       "    .dataframe tbody tr th {\n",
       "        vertical-align: top;\n",
       "    }\n",
       "\n",
       "    .dataframe thead th {\n",
       "        text-align: right;\n",
       "    }\n",
       "</style>\n",
       "<table border=\"1\" class=\"dataframe\">\n",
       "  <thead>\n",
       "    <tr style=\"text-align: right;\">\n",
       "      <th></th>\n",
       "      <th>basis</th>\n",
       "      <th>d_g1</th>\n",
       "      <th>se_g1</th>\n",
       "      <th>t_g1</th>\n",
       "      <th>d_g0</th>\n",
       "      <th>se_g0</th>\n",
       "      <th>t_g0</th>\n",
       "      <th>d_m</th>\n",
       "      <th>se_m</th>\n",
       "      <th>t_m</th>\n",
       "    </tr>\n",
       "  </thead>\n",
       "  <tbody>\n",
       "    <tr>\n",
       "      <th>0</th>\n",
       "      <td>0</td>\n",
       "      <td>-0.0643</td>\n",
       "      <td>0.016722</td>\n",
       "      <td>-3.845212</td>\n",
       "      <td>0.02246</td>\n",
       "      <td>0.008411</td>\n",
       "      <td>2.670267</td>\n",
       "      <td>-0.257443</td>\n",
       "      <td>0.429935</td>\n",
       "      <td>-0.598795</td>\n",
       "    </tr>\n",
       "  </tbody>\n",
       "</table>\n",
       "</div>"
      ]
     },
     "metadata": {},
     "output_type": "display_data",
     "jetTransient": {
      "display_id": null
     }
    },
    {
     "name": "stdout",
     "output_type": "stream",
     "text": [
      "\n",
      "⚠ PROBLEMATIC derivatives (trimmed sample):\n"
     ]
    },
    {
     "data": {
      "text/plain": [
       "   basis    d_g1     se_g1      t_g1     d_g0     se_g0      t_g0       d_m  \\\n",
       "0      0 -0.0643  0.016722 -3.845212  0.02246  0.008411  2.670267 -0.257443   \n",
       "\n",
       "       se_m       t_m  \n",
       "0  0.429935 -0.598795  "
      ],
      "text/html": [
       "<div>\n",
       "<style scoped>\n",
       "    .dataframe tbody tr th:only-of-type {\n",
       "        vertical-align: middle;\n",
       "    }\n",
       "\n",
       "    .dataframe tbody tr th {\n",
       "        vertical-align: top;\n",
       "    }\n",
       "\n",
       "    .dataframe thead th {\n",
       "        text-align: right;\n",
       "    }\n",
       "</style>\n",
       "<table border=\"1\" class=\"dataframe\">\n",
       "  <thead>\n",
       "    <tr style=\"text-align: right;\">\n",
       "      <th></th>\n",
       "      <th>basis</th>\n",
       "      <th>d_g1</th>\n",
       "      <th>se_g1</th>\n",
       "      <th>t_g1</th>\n",
       "      <th>d_g0</th>\n",
       "      <th>se_g0</th>\n",
       "      <th>t_g0</th>\n",
       "      <th>d_m</th>\n",
       "      <th>se_m</th>\n",
       "      <th>t_m</th>\n",
       "    </tr>\n",
       "  </thead>\n",
       "  <tbody>\n",
       "    <tr>\n",
       "      <th>0</th>\n",
       "      <td>0</td>\n",
       "      <td>-0.0643</td>\n",
       "      <td>0.016722</td>\n",
       "      <td>-3.845212</td>\n",
       "      <td>0.02246</td>\n",
       "      <td>0.008411</td>\n",
       "      <td>2.670267</td>\n",
       "      <td>-0.257443</td>\n",
       "      <td>0.429935</td>\n",
       "      <td>-0.598795</td>\n",
       "    </tr>\n",
       "  </tbody>\n",
       "</table>\n",
       "</div>"
      ]
     },
     "metadata": {},
     "output_type": "display_data",
     "jetTransient": {
      "display_id": null
     }
    }
   ],
   "execution_count": 21
  },
  {
   "metadata": {},
   "cell_type": "markdown",
   "source": [
    "t_m1, t_m0, t_g should be above 2.\n",
    "Even after trimming our data t_m1, t_m0, t_g above 2 across all confounders"
   ],
   "id": "2916839a9728ba8"
  },
  {
   "metadata": {
    "ExecuteTime": {
     "end_time": "2025-09-16T19:37:54.594771Z",
     "start_time": "2025-09-16T19:37:54.590144Z"
    }
   },
   "cell_type": "code",
   "source": [
    "# 3. Influence diagnostics\n",
    "print(\"\\n--- 3. Influence Diagnostics ---\")\n",
    "influence = ate_ortho_check['influence_diagnostics']\n",
    "print(f\"Interpretation: {influence['interpretation']}\")\n",
    "\n",
    "print(\"\\nFull sample influence metrics:\")\n",
    "print(f\"  Plugin SE: {influence['full_sample']['se_plugin']:.4f}\")\n",
    "print(f\"  Kurtosis: {influence['full_sample']['kurtosis']:.2f}\")\n",
    "print(f\"  P99/Median ratio: {influence['full_sample']['p99_over_med']:.2f}\")\n",
    "\n",
    "print(\"\\nTrimmed sample influence metrics:\")\n",
    "print(f\"  Plugin SE: {influence['trimmed_sample']['se_plugin']:.4f}\")\n",
    "print(f\"  Kurtosis: {influence['trimmed_sample']['kurtosis']:.2f}\")\n",
    "print(f\"  P99/Median ratio: {influence['trimmed_sample']['p99_over_med']:.2f}\")\n",
    "\n",
    "print(\"\\nTop influential observations (full sample):\")\n",
    "display(influence['full_sample']['top_influential'])\n"
   ],
   "id": "85f88b3c24cc09cd",
   "outputs": [
    {
     "name": "stdout",
     "output_type": "stream",
     "text": [
      "\n",
      "--- 3. Influence Diagnostics ---\n",
      "Interpretation: Heavy tails or extreme kurtosis suggest instability\n",
      "\n",
      "Full sample influence metrics:\n",
      "  Plugin SE: 0.0866\n",
      "  Kurtosis: 11.36\n",
      "  P99/Median ratio: 7.08\n",
      "\n",
      "Trimmed sample influence metrics:\n",
      "  Plugin SE: 0.0866\n",
      "  Kurtosis: 11.36\n",
      "  P99/Median ratio: 7.08\n",
      "\n",
      "Top influential observations (full sample):\n"
     ]
    },
    {
     "data": {
      "text/plain": [
       "      i        psi         m     res_t      res_c\n",
       "0  7864  97.929458  0.057071  5.778787   0.000000\n",
       "1  5990 -81.604218  0.073962 -6.290400  -0.000000\n",
       "2  5563  80.960311  0.111830  9.345879   0.000000\n",
       "3  1446 -78.355375  0.875584  0.000000  10.020491\n",
       "4  9368 -62.661068  0.143445 -9.477471  -0.000000\n",
       "5  7299 -61.340387  0.134514 -8.460318  -0.000000\n",
       "6  9116 -57.145965  0.108625 -6.085362  -0.000000\n",
       "7  8234  56.608322  0.103975  6.071044   0.000000\n",
       "8  5657  56.224191  0.136669  7.954664   0.000000\n",
       "9   874  54.254426  0.109254  6.364580   0.000000"
      ],
      "text/html": [
       "<div>\n",
       "<style scoped>\n",
       "    .dataframe tbody tr th:only-of-type {\n",
       "        vertical-align: middle;\n",
       "    }\n",
       "\n",
       "    .dataframe tbody tr th {\n",
       "        vertical-align: top;\n",
       "    }\n",
       "\n",
       "    .dataframe thead th {\n",
       "        text-align: right;\n",
       "    }\n",
       "</style>\n",
       "<table border=\"1\" class=\"dataframe\">\n",
       "  <thead>\n",
       "    <tr style=\"text-align: right;\">\n",
       "      <th></th>\n",
       "      <th>i</th>\n",
       "      <th>psi</th>\n",
       "      <th>m</th>\n",
       "      <th>res_t</th>\n",
       "      <th>res_c</th>\n",
       "    </tr>\n",
       "  </thead>\n",
       "  <tbody>\n",
       "    <tr>\n",
       "      <th>0</th>\n",
       "      <td>7864</td>\n",
       "      <td>97.929458</td>\n",
       "      <td>0.057071</td>\n",
       "      <td>5.778787</td>\n",
       "      <td>0.000000</td>\n",
       "    </tr>\n",
       "    <tr>\n",
       "      <th>1</th>\n",
       "      <td>5990</td>\n",
       "      <td>-81.604218</td>\n",
       "      <td>0.073962</td>\n",
       "      <td>-6.290400</td>\n",
       "      <td>-0.000000</td>\n",
       "    </tr>\n",
       "    <tr>\n",
       "      <th>2</th>\n",
       "      <td>5563</td>\n",
       "      <td>80.960311</td>\n",
       "      <td>0.111830</td>\n",
       "      <td>9.345879</td>\n",
       "      <td>0.000000</td>\n",
       "    </tr>\n",
       "    <tr>\n",
       "      <th>3</th>\n",
       "      <td>1446</td>\n",
       "      <td>-78.355375</td>\n",
       "      <td>0.875584</td>\n",
       "      <td>0.000000</td>\n",
       "      <td>10.020491</td>\n",
       "    </tr>\n",
       "    <tr>\n",
       "      <th>4</th>\n",
       "      <td>9368</td>\n",
       "      <td>-62.661068</td>\n",
       "      <td>0.143445</td>\n",
       "      <td>-9.477471</td>\n",
       "      <td>-0.000000</td>\n",
       "    </tr>\n",
       "    <tr>\n",
       "      <th>5</th>\n",
       "      <td>7299</td>\n",
       "      <td>-61.340387</td>\n",
       "      <td>0.134514</td>\n",
       "      <td>-8.460318</td>\n",
       "      <td>-0.000000</td>\n",
       "    </tr>\n",
       "    <tr>\n",
       "      <th>6</th>\n",
       "      <td>9116</td>\n",
       "      <td>-57.145965</td>\n",
       "      <td>0.108625</td>\n",
       "      <td>-6.085362</td>\n",
       "      <td>-0.000000</td>\n",
       "    </tr>\n",
       "    <tr>\n",
       "      <th>7</th>\n",
       "      <td>8234</td>\n",
       "      <td>56.608322</td>\n",
       "      <td>0.103975</td>\n",
       "      <td>6.071044</td>\n",
       "      <td>0.000000</td>\n",
       "    </tr>\n",
       "    <tr>\n",
       "      <th>8</th>\n",
       "      <td>5657</td>\n",
       "      <td>56.224191</td>\n",
       "      <td>0.136669</td>\n",
       "      <td>7.954664</td>\n",
       "      <td>0.000000</td>\n",
       "    </tr>\n",
       "    <tr>\n",
       "      <th>9</th>\n",
       "      <td>874</td>\n",
       "      <td>54.254426</td>\n",
       "      <td>0.109254</td>\n",
       "      <td>6.364580</td>\n",
       "      <td>0.000000</td>\n",
       "    </tr>\n",
       "  </tbody>\n",
       "</table>\n",
       "</div>"
      ]
     },
     "metadata": {},
     "output_type": "display_data",
     "jetTransient": {
      "display_id": null
     }
    }
   ],
   "execution_count": 22
  },
  {
   "metadata": {
    "ExecuteTime": {
     "end_time": "2025-09-16T19:37:54.605192Z",
     "start_time": "2025-09-16T19:37:54.603097Z"
    }
   },
   "cell_type": "code",
   "source": [
    "# Trimming information\n",
    "print(\"\\n--- Propensity Score Trimming ---\")\n",
    "trim_info = ate_ortho_check['trimming_info']\n",
    "print(f\"Trimming bounds: {trim_info['bounds']}\")\n",
    "print(f\"Observations trimmed: {trim_info['n_trimmed']} ({trim_info['pct_trimmed']:.1f}%)\")\n"
   ],
   "id": "b52d415397857df4",
   "outputs": [
    {
     "name": "stdout",
     "output_type": "stream",
     "text": [
      "\n",
      "--- Propensity Score Trimming ---\n",
      "Trimming bounds: (0.02, 0.98)\n",
      "Observations trimmed: 0 (0.0%)\n"
     ]
    }
   ],
   "execution_count": 23
  },
  {
   "metadata": {},
   "cell_type": "markdown",
   "source": "In this test we analyze distribution of theta before trimming and after. There is no big difference. So test passed",
   "id": "e9ecebc8b3b63044"
  },
  {
   "metadata": {
    "ExecuteTime": {
     "end_time": "2025-09-16T19:37:54.616655Z",
     "start_time": "2025-09-16T19:37:54.614526Z"
    }
   },
   "cell_type": "code",
   "source": [
    "# Diagnostic conditions breakdown\n",
    "print(\"\\n--- Diagnostic Conditions Assessment ---\")\n",
    "conditions = ate_ortho_check['diagnostic_conditions']\n",
    "\n",
    "print(\"Individual condition checks:\")\n",
    "for condition, passed in conditions.items():\n",
    "    status = \"✓ PASS\" if passed else \"✗ FAIL\"\n",
    "    print(f\"  {condition}: {status}\")\n",
    "\n",
    "print(f\"\\nOverall: {ate_ortho_check['overall_assessment']}\")\n"
   ],
   "id": "a7148449888110e7",
   "outputs": [
    {
     "name": "stdout",
     "output_type": "stream",
     "text": [
      "\n",
      "--- Diagnostic Conditions Assessment ---\n",
      "Individual condition checks:\n",
      "  oos_moment_ok: ✓ PASS\n",
      "  derivs_full_ok: ✗ FAIL\n",
      "  derivs_trim_ok: ✗ FAIL\n",
      "  se_reasonable: ✓ PASS\n",
      "  no_extreme_influence: ✓ PASS\n",
      "  trimming_reasonable: ✓ PASS\n",
      "\n",
      "Overall: CAUTION: Most conditions satisfied\n"
     ]
    }
   ],
   "execution_count": 24
  },
  {
   "metadata": {},
   "cell_type": "markdown",
   "source": "### Sensitivity analysis",
   "id": "38ab43ed65b1cbb2"
  },
  {
   "metadata": {},
   "cell_type": "markdown",
   "source": "Let's analyze how unobserved confounder could look",
   "id": "901bd32478daa38f"
  },
  {
   "metadata": {
    "ExecuteTime": {
     "end_time": "2025-09-16T19:37:54.822782Z",
     "start_time": "2025-09-16T19:37:54.620960Z"
    }
   },
   "cell_type": "code",
   "source": [
    "bench_sets = causal_data.confounders\n",
    "res = sensitivity_analysis_set(\n",
    "    ate_result,\n",
    "    benchmarking_set=bench_sets,\n",
    "    level=0.95,\n",
    "    null_hypothesis=0.0,\n",
    ")"
   ],
   "id": "456241290639e32a",
   "outputs": [
    {
     "ename": "TypeError",
     "evalue": "The model must be a DoubleML object that supports sensitivity benchmarking via 'sensitivity_benchmark'",
     "output_type": "error",
     "traceback": [
      "\u001B[31m---------------------------------------------------------------------------\u001B[39m",
      "\u001B[31mTypeError\u001B[39m                                 Traceback (most recent call last)",
      "\u001B[36mCell\u001B[39m\u001B[36m \u001B[39m\u001B[32mIn[25]\u001B[39m\u001B[32m, line 2\u001B[39m\n\u001B[32m      1\u001B[39m bench_sets = causal_data.confounders\n\u001B[32m----> \u001B[39m\u001B[32m2\u001B[39m res = sensitivity_analysis_set(\n\u001B[32m      3\u001B[39m     ate_result,\n\u001B[32m      4\u001B[39m     benchmarking_set=bench_sets,\n\u001B[32m      5\u001B[39m     level=\u001B[32m0.95\u001B[39m,\n\u001B[32m      6\u001B[39m     null_hypothesis=\u001B[32m0.0\u001B[39m,\n\u001B[32m      7\u001B[39m )\n",
      "\u001B[36mFile \u001B[39m\u001B[32m~/PycharmProjects/Ckit/causalkit/refutation/sensitivity.py:356\u001B[39m, in \u001B[36msensitivity_analysis_set\u001B[39m\u001B[34m(effect_estimation, benchmarking_set, level, null_hypothesis, **kwargs)\u001B[39m\n\u001B[32m    354\u001B[39m \u001B[38;5;66;03m# Check capability\u001B[39;00m\n\u001B[32m    355\u001B[39m \u001B[38;5;28;01mif\u001B[39;00m \u001B[38;5;129;01mnot\u001B[39;00m \u001B[38;5;28mhasattr\u001B[39m(model, \u001B[33m'\u001B[39m\u001B[33msensitivity_benchmark\u001B[39m\u001B[33m'\u001B[39m):\n\u001B[32m--> \u001B[39m\u001B[32m356\u001B[39m     \u001B[38;5;28;01mraise\u001B[39;00m \u001B[38;5;167;01mTypeError\u001B[39;00m(\u001B[33m\"\u001B[39m\u001B[33mThe model must be a DoubleML object that supports sensitivity benchmarking via \u001B[39m\u001B[33m'\u001B[39m\u001B[33msensitivity_benchmark\u001B[39m\u001B[33m'\u001B[39m\u001B[33m\"\u001B[39m)\n\u001B[32m    358\u001B[39m \u001B[38;5;28;01mimport\u001B[39;00m\u001B[38;5;250m \u001B[39m\u001B[34;01minspect\u001B[39;00m\n\u001B[32m    360\u001B[39m \u001B[38;5;28;01mdef\u001B[39;00m\u001B[38;5;250m \u001B[39m\u001B[34m_call_single\u001B[39m(group: List[\u001B[38;5;28mstr\u001B[39m]) -> Any:\n",
      "\u001B[31mTypeError\u001B[39m: The model must be a DoubleML object that supports sensitivity benchmarking via 'sensitivity_benchmark'"
     ]
    }
   ],
   "execution_count": 25
  },
  {
   "metadata": {},
   "cell_type": "code",
   "source": [
    "# Build a DataFrame with confounders as rows and the metrics as columns\n",
    "summary_df = pd.DataFrame({\n",
    "    name: (df.loc['t'] if 't' in df.index else df.iloc[0])\n",
    "    for name, df in res.items()\n",
    "}).T\n"
   ],
   "id": "f462af369a4f852c",
   "outputs": [],
   "execution_count": null
  },
  {
   "metadata": {},
   "cell_type": "code",
   "source": "summary_df",
   "id": "4b98ad6e1e9b07ed",
   "outputs": [],
   "execution_count": null
  },
  {
   "metadata": {},
   "cell_type": "markdown",
   "source": "It is business domain and data knowledge relative question. In this situation we will stop on the most influential confounder 'premium_user' and test theta when we do not observe anothere confounder with strength of 'premium_user'",
   "id": "31ea0a07d0f697da"
  },
  {
   "metadata": {},
   "cell_type": "code",
   "source": [
    "# Run sensitivity analysis on our ATE result\n",
    "sensitivity_report_1 = sensitivity_analysis(\n",
    "    ate_result,\n",
    "    cf_y=0.06,  # Confounding strength affecting outcome\n",
    "    cf_d=0.03,  # Confounding strength affecting treatment\n",
    "    rho=1.0     # Perfect correlation between unobserved confounders\n",
    ")\n",
    "\n",
    "print(sensitivity_report_1)"
   ],
   "id": "24a0ebbc20be48f3",
   "outputs": [],
   "execution_count": null
  },
  {
   "metadata": {},
   "cell_type": "markdown",
   "source": "CI lower >> 0. It means test is passed",
   "id": "429678757060bd93"
  },
  {
   "metadata": {},
   "cell_type": "code",
   "source": "",
   "id": "a068dbfd9c3a2875",
   "outputs": [],
   "execution_count": null
  }
 ],
 "metadata": {
  "kernelspec": {
   "display_name": "Python 3",
   "language": "python",
   "name": "python3"
  },
  "language_info": {
   "codemirror_mode": {
    "name": "ipython",
    "version": 2
   },
   "file_extension": ".py",
   "mimetype": "text/x-python",
   "name": "python",
   "nbconvert_exporter": "python",
   "pygments_lexer": "ipython2",
   "version": "2.7.6"
  }
 },
 "nbformat": 4,
 "nbformat_minor": 5
}
