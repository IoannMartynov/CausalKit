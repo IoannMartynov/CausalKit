{
 "cells": [
  {
   "metadata": {
    "collapsed": true
   },
   "cell_type": "markdown",
   "source": "# DML ATE Example",
   "id": "8fcc272d63fa7879"
  },
  {
   "metadata": {},
   "cell_type": "markdown",
   "source": [
    "This notebook covers scenario:\n",
    "| Is RCT        | Treatment | Outcome    | EDA | Estimands | Refutation |\n",
    "|---------------|-----------|------------|-----|-----------|------------|\n",
    "| Observational | Binary    | Continuous | Yes | ATE       | Yes        |\n",
    "\n",
    "We will estimate Average Treatment Effect (ATE) of binary treatment on continuous outcome. It shows explonatary data analysis and refutation tests"
   ],
   "id": "9900e7cb514527d0"
  },
  {
   "metadata": {},
   "cell_type": "markdown",
   "source": "## Generate data",
   "id": "889d566926f81af1"
  },
  {
   "metadata": {},
   "cell_type": "markdown",
   "source": "Let's generate data of how feature (Treatment) impact on ARPU (Outcome) with linear effect (theta) = 1.8",
   "id": "c3f40b0f32cedefd"
  },
  {
   "metadata": {
    "ExecuteTime": {
     "end_time": "2025-10-14T17:31:04.106056Z",
     "start_time": "2025-10-14T17:31:03.554030Z"
    }
   },
   "cell_type": "code",
   "source": [
    "import numpy as np\n",
    "import pandas as pd\n",
    "import matplotlib.pyplot as plt\n",
    "from causalis.data import CausalDatasetGenerator, CausalData\n",
    "\n",
    "# Reproducibility\n",
    "np.random.seed(42)\n",
    "\n",
    "confounder_specs = [\n",
    "    {\"name\": \"tenure_months\", \"dist\": \"normal\", \"mu\": 24, \"sd\": 12},\n",
    "    {\"name\": \"avg_sessions_week\", \"dist\": \"normal\", \"mu\": 5, \"sd\": 2},\n",
    "    {\"name\": \"spend_last_month\", \"dist\": \"uniform\", \"a\": 0, \"b\": 200},\n",
    "    {\"name\": \"premium_user\", \"dist\": \"bernoulli\", \"p\": 0.25},\n",
    "    {\"name\": \"urban_resident\", \"dist\": \"bernoulli\", \"p\": 0.60},\n",
    "]\n",
    "\n",
    "# Causal effect and noise\n",
    "theta = 1.8  # ATE: +1.8 ARPU units if new_feature = 1\n",
    "sigma_y = 3.5  # ARPU noise std\n",
    "target_d_rate = 0.2  # ~20% treated\n",
    "\n",
    "# Effects of confounders on ARPU (baseline, additive)\n",
    "# Order: tenure_months, avg_sessions_week, spend_last_month, premium_user, urban_resident\n",
    "beta_y = np.array([\n",
    "    0.05,  # tenure_months: small positive effect\n",
    "    0.40,  # avg_sessions_week: strong positive effect\n",
    "    0.02,  # spend_last_month: recent spend correlates with ARPU\n",
    "    2.00,  # premium_user: premium users have higher ARPU\n",
    "    1.00,  # urban_resident: urban users slightly higher ARPU\n",
    "], dtype=float)\n",
    "\n",
    "# Effects of confounders on treatment assignment (log-odds scale)\n",
    "beta_d = np.array([\n",
    "    0.015,  # tenure_months\n",
    "    0.10,  # avg_sessions_week\n",
    "    0.002,  # spend_last_month\n",
    "    0.75,  # premium_user\n",
    "    0.30,  # urban_resident: more likely to get the feature\n",
    "], dtype=float)\n",
    "\n",
    "gen = CausalDatasetGenerator(\n",
    "    theta=theta,\n",
    "    outcome_type=\"continuous\",\n",
    "    sigma_y=sigma_y,\n",
    "    target_d_rate=target_d_rate,\n",
    "    seed=42,\n",
    "    confounder_specs=confounder_specs,\n",
    "    beta_y=beta_y,\n",
    "    beta_d=beta_d,\n",
    ")\n",
    "\n",
    "\n",
    "# Create dataset\n",
    "causal_data = gen.to_causal_data(\n",
    "    n=10_000,\n",
    "    confounders = [\n",
    "    \"tenure_months\",\n",
    "    \"avg_sessions_week\",\n",
    "    \"spend_last_month\",\n",
    "    \"premium_user\",\n",
    "    \"urban_resident\",\n",
    "]\n",
    ")\n",
    "\n",
    "# Show first few rows\n",
    "causal_data.df.head()\n"
   ],
   "id": "5df3d791f8395962",
   "outputs": [
    {
     "data": {
      "text/plain": [
       "           y    d  tenure_months  avg_sessions_week  spend_last_month  \\\n",
       "0   4.127714  0.0      27.656605           5.352554         72.552568   \n",
       "1  11.122008  1.0      11.520191           6.798247        188.481287   \n",
       "2  10.580393  1.0      33.005414           2.055459         51.040440   \n",
       "3   6.982844  1.0      35.286777           4.429404        166.992239   \n",
       "4  10.899381  0.0       0.587578           6.658307        179.371126   \n",
       "\n",
       "   premium_user  urban_resident  \n",
       "0           1.0             0.0  \n",
       "1           1.0             0.0  \n",
       "2           0.0             1.0  \n",
       "3           0.0             1.0  \n",
       "4           0.0             0.0  "
      ],
      "text/html": [
       "<div>\n",
       "<style scoped>\n",
       "    .dataframe tbody tr th:only-of-type {\n",
       "        vertical-align: middle;\n",
       "    }\n",
       "\n",
       "    .dataframe tbody tr th {\n",
       "        vertical-align: top;\n",
       "    }\n",
       "\n",
       "    .dataframe thead th {\n",
       "        text-align: right;\n",
       "    }\n",
       "</style>\n",
       "<table border=\"1\" class=\"dataframe\">\n",
       "  <thead>\n",
       "    <tr style=\"text-align: right;\">\n",
       "      <th></th>\n",
       "      <th>y</th>\n",
       "      <th>d</th>\n",
       "      <th>tenure_months</th>\n",
       "      <th>avg_sessions_week</th>\n",
       "      <th>spend_last_month</th>\n",
       "      <th>premium_user</th>\n",
       "      <th>urban_resident</th>\n",
       "    </tr>\n",
       "  </thead>\n",
       "  <tbody>\n",
       "    <tr>\n",
       "      <th>0</th>\n",
       "      <td>4.127714</td>\n",
       "      <td>0.0</td>\n",
       "      <td>27.656605</td>\n",
       "      <td>5.352554</td>\n",
       "      <td>72.552568</td>\n",
       "      <td>1.0</td>\n",
       "      <td>0.0</td>\n",
       "    </tr>\n",
       "    <tr>\n",
       "      <th>1</th>\n",
       "      <td>11.122008</td>\n",
       "      <td>1.0</td>\n",
       "      <td>11.520191</td>\n",
       "      <td>6.798247</td>\n",
       "      <td>188.481287</td>\n",
       "      <td>1.0</td>\n",
       "      <td>0.0</td>\n",
       "    </tr>\n",
       "    <tr>\n",
       "      <th>2</th>\n",
       "      <td>10.580393</td>\n",
       "      <td>1.0</td>\n",
       "      <td>33.005414</td>\n",
       "      <td>2.055459</td>\n",
       "      <td>51.040440</td>\n",
       "      <td>0.0</td>\n",
       "      <td>1.0</td>\n",
       "    </tr>\n",
       "    <tr>\n",
       "      <th>3</th>\n",
       "      <td>6.982844</td>\n",
       "      <td>1.0</td>\n",
       "      <td>35.286777</td>\n",
       "      <td>4.429404</td>\n",
       "      <td>166.992239</td>\n",
       "      <td>0.0</td>\n",
       "      <td>1.0</td>\n",
       "    </tr>\n",
       "    <tr>\n",
       "      <th>4</th>\n",
       "      <td>10.899381</td>\n",
       "      <td>0.0</td>\n",
       "      <td>0.587578</td>\n",
       "      <td>6.658307</td>\n",
       "      <td>179.371126</td>\n",
       "      <td>0.0</td>\n",
       "      <td>0.0</td>\n",
       "    </tr>\n",
       "  </tbody>\n",
       "</table>\n",
       "</div>"
      ]
     },
     "execution_count": 1,
     "metadata": {},
     "output_type": "execute_result"
    }
   ],
   "execution_count": 1
  },
  {
   "metadata": {},
   "cell_type": "markdown",
   "source": "## EDA\n",
   "id": "5e37434a3725215a"
  },
  {
   "metadata": {
    "ExecuteTime": {
     "end_time": "2025-10-14T17:31:04.640865Z",
     "start_time": "2025-10-14T17:31:04.125745Z"
    }
   },
   "cell_type": "code",
   "source": [
    "from causalis.eda import CausalEDA\n",
    "eda = CausalEDA(causal_data)\n",
    "\n",
    "# shape of data\n",
    "eda.data_shape()"
   ],
   "id": "afd5e60494139b52",
   "outputs": [
    {
     "data": {
      "text/plain": [
       "{'n_rows': 10000, 'n_columns': 7}"
      ]
     },
     "execution_count": 2,
     "metadata": {},
     "output_type": "execute_result"
    }
   ],
   "execution_count": 2
  },
  {
   "metadata": {},
   "cell_type": "markdown",
   "source": "### General dataset information",
   "id": "e154a852f7f5da01"
  },
  {
   "metadata": {},
   "cell_type": "markdown",
   "source": "Let's see how outcome differ between clients who recieved the feature and didn't",
   "id": "d00453e2c61b056d"
  },
  {
   "metadata": {
    "ExecuteTime": {
     "end_time": "2025-10-14T17:31:04.671041Z",
     "start_time": "2025-10-14T17:31:04.662727Z"
    }
   },
   "cell_type": "code",
   "source": [
    "# 1) Outcome statistics by treatment\n",
    "eda.outcome_stats()"
   ],
   "id": "fddea7b8fd105fd6",
   "outputs": [
    {
     "data": {
      "text/plain": [
       "           count      mean       std       min       p10       p25    median  \\\n",
       "treatment                                                                      \n",
       "0.0         8030  6.137433  3.933863 -9.866447  1.118291  3.517427  6.157583   \n",
       "1.0         1970  8.608973  3.942856 -3.821492  3.666892  5.986613  8.560912   \n",
       "\n",
       "                 p75        p90        max  \n",
       "treatment                                   \n",
       "0.0         8.847907  11.114776  20.770359  \n",
       "1.0        11.247429  13.552612  21.377687  "
      ],
      "text/html": [
       "<div>\n",
       "<style scoped>\n",
       "    .dataframe tbody tr th:only-of-type {\n",
       "        vertical-align: middle;\n",
       "    }\n",
       "\n",
       "    .dataframe tbody tr th {\n",
       "        vertical-align: top;\n",
       "    }\n",
       "\n",
       "    .dataframe thead th {\n",
       "        text-align: right;\n",
       "    }\n",
       "</style>\n",
       "<table border=\"1\" class=\"dataframe\">\n",
       "  <thead>\n",
       "    <tr style=\"text-align: right;\">\n",
       "      <th></th>\n",
       "      <th>count</th>\n",
       "      <th>mean</th>\n",
       "      <th>std</th>\n",
       "      <th>min</th>\n",
       "      <th>p10</th>\n",
       "      <th>p25</th>\n",
       "      <th>median</th>\n",
       "      <th>p75</th>\n",
       "      <th>p90</th>\n",
       "      <th>max</th>\n",
       "    </tr>\n",
       "    <tr>\n",
       "      <th>treatment</th>\n",
       "      <th></th>\n",
       "      <th></th>\n",
       "      <th></th>\n",
       "      <th></th>\n",
       "      <th></th>\n",
       "      <th></th>\n",
       "      <th></th>\n",
       "      <th></th>\n",
       "      <th></th>\n",
       "      <th></th>\n",
       "    </tr>\n",
       "  </thead>\n",
       "  <tbody>\n",
       "    <tr>\n",
       "      <th>0.0</th>\n",
       "      <td>8030</td>\n",
       "      <td>6.137433</td>\n",
       "      <td>3.933863</td>\n",
       "      <td>-9.866447</td>\n",
       "      <td>1.118291</td>\n",
       "      <td>3.517427</td>\n",
       "      <td>6.157583</td>\n",
       "      <td>8.847907</td>\n",
       "      <td>11.114776</td>\n",
       "      <td>20.770359</td>\n",
       "    </tr>\n",
       "    <tr>\n",
       "      <th>1.0</th>\n",
       "      <td>1970</td>\n",
       "      <td>8.608973</td>\n",
       "      <td>3.942856</td>\n",
       "      <td>-3.821492</td>\n",
       "      <td>3.666892</td>\n",
       "      <td>5.986613</td>\n",
       "      <td>8.560912</td>\n",
       "      <td>11.247429</td>\n",
       "      <td>13.552612</td>\n",
       "      <td>21.377687</td>\n",
       "    </tr>\n",
       "  </tbody>\n",
       "</table>\n",
       "</div>"
      ]
     },
     "execution_count": 3,
     "metadata": {},
     "output_type": "execute_result"
    }
   ],
   "execution_count": 3
  },
  {
   "metadata": {
    "ExecuteTime": {
     "end_time": "2025-10-14T17:31:04.806734Z",
     "start_time": "2025-10-14T17:31:04.701060Z"
    }
   },
   "cell_type": "code",
   "source": [
    "# 2) Outcome distribution by treatment (hist + boxplot)\n",
    "fig1, fig2 = eda.outcome_plots()\n",
    "plt.show()"
   ],
   "id": "880b0a5072b4df9b",
   "outputs": [
    {
     "data": {
      "text/plain": [
       "<Figure size 700x400 with 1 Axes>"
      ],
      "image/png": "[encoded data removed]"
     },
     "metadata": {},
     "output_type": "display_data",
     "jetTransient": {
      "display_id": null
     }
    },
    {
     "data": {
      "text/plain": [
       "<Figure size 700x400 with 1 Axes>"
      ],
      "image/png": "[encoded data removed]"
     },
     "metadata": {},
     "output_type": "display_data",
     "jetTransient": {
      "display_id": null
     }
    }
   ],
   "execution_count": 4
  },
  {
   "metadata": {},
   "cell_type": "markdown",
   "source": "### Propensity",
   "id": "f2e00d21f202152e"
  },
  {
   "metadata": {},
   "cell_type": "markdown",
   "source": "Now let's examine how propensity score differ treatments",
   "id": "a78d91cc3631f5ec"
  },
  {
   "metadata": {
    "ExecuteTime": {
     "end_time": "2025-10-14T17:31:04.834079Z",
     "start_time": "2025-10-14T17:31:04.828422Z"
    }
   },
   "cell_type": "code",
   "source": [
    "# Shows means of confounders for control/treated groups, absolute differences, and SMD values\n",
    "confounders_balance_df = eda.confounders_means()\n",
    "display(confounders_balance_df)"
   ],
   "id": "370ce9b4dfabf136",
   "outputs": [
    {
     "data": {
      "text/plain": [
       "                    mean_t_0    mean_t_1  abs_diff       smd\n",
       "confounders                                                 \n",
       "premium_user        0.218057    0.382234  0.164176  0.364037\n",
       "tenure_months      23.405355   25.799499  2.394143  0.199024\n",
       "avg_sessions_week   4.976354    5.302999  0.326645  0.163509\n",
       "urban_resident      0.587547    0.655330  0.067783  0.140072\n",
       "spend_last_month   99.288113  104.941250  5.653137  0.097172"
      ],
      "text/html": [
       "<div>\n",
       "<style scoped>\n",
       "    .dataframe tbody tr th:only-of-type {\n",
       "        vertical-align: middle;\n",
       "    }\n",
       "\n",
       "    .dataframe tbody tr th {\n",
       "        vertical-align: top;\n",
       "    }\n",
       "\n",
       "    .dataframe thead th {\n",
       "        text-align: right;\n",
       "    }\n",
       "</style>\n",
       "<table border=\"1\" class=\"dataframe\">\n",
       "  <thead>\n",
       "    <tr style=\"text-align: right;\">\n",
       "      <th></th>\n",
       "      <th>mean_t_0</th>\n",
       "      <th>mean_t_1</th>\n",
       "      <th>abs_diff</th>\n",
       "      <th>smd</th>\n",
       "    </tr>\n",
       "    <tr>\n",
       "      <th>confounders</th>\n",
       "      <th></th>\n",
       "      <th></th>\n",
       "      <th></th>\n",
       "      <th></th>\n",
       "    </tr>\n",
       "  </thead>\n",
       "  <tbody>\n",
       "    <tr>\n",
       "      <th>premium_user</th>\n",
       "      <td>0.218057</td>\n",
       "      <td>0.382234</td>\n",
       "      <td>0.164176</td>\n",
       "      <td>0.364037</td>\n",
       "    </tr>\n",
       "    <tr>\n",
       "      <th>tenure_months</th>\n",
       "      <td>23.405355</td>\n",
       "      <td>25.799499</td>\n",
       "      <td>2.394143</td>\n",
       "      <td>0.199024</td>\n",
       "    </tr>\n",
       "    <tr>\n",
       "      <th>avg_sessions_week</th>\n",
       "      <td>4.976354</td>\n",
       "      <td>5.302999</td>\n",
       "      <td>0.326645</td>\n",
       "      <td>0.163509</td>\n",
       "    </tr>\n",
       "    <tr>\n",
       "      <th>urban_resident</th>\n",
       "      <td>0.587547</td>\n",
       "      <td>0.655330</td>\n",
       "      <td>0.067783</td>\n",
       "      <td>0.140072</td>\n",
       "    </tr>\n",
       "    <tr>\n",
       "      <th>spend_last_month</th>\n",
       "      <td>99.288113</td>\n",
       "      <td>104.941250</td>\n",
       "      <td>5.653137</td>\n",
       "      <td>0.097172</td>\n",
       "    </tr>\n",
       "  </tbody>\n",
       "</table>\n",
       "</div>"
      ]
     },
     "metadata": {},
     "output_type": "display_data",
     "jetTransient": {
      "display_id": null
     }
    }
   ],
   "execution_count": 5
  },
  {
   "metadata": {
    "ExecuteTime": {
     "end_time": "2025-10-14T17:31:12.180908Z",
     "start_time": "2025-10-14T17:31:04.843189Z"
    }
   },
   "cell_type": "code",
   "source": [
    "# Propensity model fit\n",
    "ps_model = eda.fit_propensity()\n",
    "\n",
    "# ROC AUC - shows how predictable treatment is from confounders\n",
    "roc_auc_score = ps_model.roc_auc\n",
    "print(\"ROC AUC from PropensityModel:\", round(roc_auc_score, 4))"
   ],
   "id": "9d12d18188019d24",
   "outputs": [
    {
     "name": "stdout",
     "output_type": "stream",
     "text": [
      "ROC AUC from PropensityModel: 0.5926\n"
     ]
    }
   ],
   "execution_count": 6
  },
  {
   "metadata": {
    "ExecuteTime": {
     "end_time": "2025-10-14T17:31:12.208122Z",
     "start_time": "2025-10-14T17:31:12.205995Z"
    }
   },
   "cell_type": "code",
   "source": [
    "# Positivity check - assess overlap between treatment groups\n",
    "positivity_result = ps_model.positivity_check()\n",
    "print(\"Positivity check from PropensityModel:\", positivity_result)"
   ],
   "id": "b948200cd0706386",
   "outputs": [
    {
     "name": "stdout",
     "output_type": "stream",
     "text": [
      "Positivity check from PropensityModel: {'bounds': (0.05, 0.95), 'share_below': 0.0121, 'share_above': 0.0, 'flag': False}\n"
     ]
    }
   ],
   "execution_count": 7
  },
  {
   "metadata": {
    "ExecuteTime": {
     "end_time": "2025-10-14T17:31:12.457087Z",
     "start_time": "2025-10-14T17:31:12.214779Z"
    }
   },
   "cell_type": "code",
   "source": [
    "# SHAP values - feature importance for treatment assignment from confounders\n",
    "shap_values_df = ps_model.shap\n",
    "display(shap_values_df)"
   ],
   "id": "202c3d1c408815f9",
   "outputs": [
    {
     "data": {
      "text/plain": [
       "                  feature  shap_mean  shap_mean_abs  odds_mult_abs  \\\n",
       "0   num__spend_last_month   0.000299       0.166002       1.180575   \n",
       "1       num__premium_user  -0.000269       0.306301       1.358391   \n",
       "2     num__urban_resident   0.000245       0.158900       1.172220   \n",
       "3  num__avg_sessions_week  -0.000141       0.174082       1.190153   \n",
       "4      num__tenure_months  -0.000135       0.194878       1.215163   \n",
       "\n",
       "   exact_pp_change_abs  exact_pp_change_signed  \n",
       "0             0.027438                0.000047  \n",
       "1             0.052687               -0.000042  \n",
       "2             0.026210                0.000039  \n",
       "3             0.028841               -0.000022  \n",
       "4             0.032482               -0.000021  "
      ],
      "text/html": [
       "<div>\n",
       "<style scoped>\n",
       "    .dataframe tbody tr th:only-of-type {\n",
       "        vertical-align: middle;\n",
       "    }\n",
       "\n",
       "    .dataframe tbody tr th {\n",
       "        vertical-align: top;\n",
       "    }\n",
       "\n",
       "    .dataframe thead th {\n",
       "        text-align: right;\n",
       "    }\n",
       "</style>\n",
       "<table border=\"1\" class=\"dataframe\">\n",
       "  <thead>\n",
       "    <tr style=\"text-align: right;\">\n",
       "      <th></th>\n",
       "      <th>feature</th>\n",
       "      <th>shap_mean</th>\n",
       "      <th>shap_mean_abs</th>\n",
       "      <th>odds_mult_abs</th>\n",
       "      <th>exact_pp_change_abs</th>\n",
       "      <th>exact_pp_change_signed</th>\n",
       "    </tr>\n",
       "  </thead>\n",
       "  <tbody>\n",
       "    <tr>\n",
       "      <th>0</th>\n",
       "      <td>num__spend_last_month</td>\n",
       "      <td>0.000299</td>\n",
       "      <td>0.166002</td>\n",
       "      <td>1.180575</td>\n",
       "      <td>0.027438</td>\n",
       "      <td>0.000047</td>\n",
       "    </tr>\n",
       "    <tr>\n",
       "      <th>1</th>\n",
       "      <td>num__premium_user</td>\n",
       "      <td>-0.000269</td>\n",
       "      <td>0.306301</td>\n",
       "      <td>1.358391</td>\n",
       "      <td>0.052687</td>\n",
       "      <td>-0.000042</td>\n",
       "    </tr>\n",
       "    <tr>\n",
       "      <th>2</th>\n",
       "      <td>num__urban_resident</td>\n",
       "      <td>0.000245</td>\n",
       "      <td>0.158900</td>\n",
       "      <td>1.172220</td>\n",
       "      <td>0.026210</td>\n",
       "      <td>0.000039</td>\n",
       "    </tr>\n",
       "    <tr>\n",
       "      <th>3</th>\n",
       "      <td>num__avg_sessions_week</td>\n",
       "      <td>-0.000141</td>\n",
       "      <td>0.174082</td>\n",
       "      <td>1.190153</td>\n",
       "      <td>0.028841</td>\n",
       "      <td>-0.000022</td>\n",
       "    </tr>\n",
       "    <tr>\n",
       "      <th>4</th>\n",
       "      <td>num__tenure_months</td>\n",
       "      <td>-0.000135</td>\n",
       "      <td>0.194878</td>\n",
       "      <td>1.215163</td>\n",
       "      <td>0.032482</td>\n",
       "      <td>-0.000021</td>\n",
       "    </tr>\n",
       "  </tbody>\n",
       "</table>\n",
       "</div>"
      ]
     },
     "metadata": {},
     "output_type": "display_data",
     "jetTransient": {
      "display_id": null
     }
    }
   ],
   "execution_count": 8
  },
  {
   "metadata": {
    "ExecuteTime": {
     "end_time": "2025-10-14T17:31:12.472616Z",
     "start_time": "2025-10-14T17:31:12.467980Z"
    }
   },
   "cell_type": "code",
   "source": [
    "# If your DataFrame has a 'shap_mean' column:\n",
    "shap_df = shap_values_df.copy()\n",
    "shap_df['mean_abs_shap'] = shap_df['shap_mean'].abs()\n",
    "shap_df.sort_values('mean_abs_shap', ascending=False, inplace=True)\n",
    "display(shap_df)"
   ],
   "id": "f2f493d24ccc85e1",
   "outputs": [
    {
     "data": {
      "text/plain": [
       "                  feature  shap_mean  shap_mean_abs  odds_mult_abs  \\\n",
       "0   num__spend_last_month   0.000299       0.166002       1.180575   \n",
       "1       num__premium_user  -0.000269       0.306301       1.358391   \n",
       "2     num__urban_resident   0.000245       0.158900       1.172220   \n",
       "3  num__avg_sessions_week  -0.000141       0.174082       1.190153   \n",
       "4      num__tenure_months  -0.000135       0.194878       1.215163   \n",
       "\n",
       "   exact_pp_change_abs  exact_pp_change_signed  mean_abs_shap  \n",
       "0             0.027438                0.000047       0.000299  \n",
       "1             0.052687               -0.000042       0.000269  \n",
       "2             0.026210                0.000039       0.000245  \n",
       "3             0.028841               -0.000022       0.000141  \n",
       "4             0.032482               -0.000021       0.000135  "
      ],
      "text/html": [
       "<div>\n",
       "<style scoped>\n",
       "    .dataframe tbody tr th:only-of-type {\n",
       "        vertical-align: middle;\n",
       "    }\n",
       "\n",
       "    .dataframe tbody tr th {\n",
       "        vertical-align: top;\n",
       "    }\n",
       "\n",
       "    .dataframe thead th {\n",
       "        text-align: right;\n",
       "    }\n",
       "</style>\n",
       "<table border=\"1\" class=\"dataframe\">\n",
       "  <thead>\n",
       "    <tr style=\"text-align: right;\">\n",
       "      <th></th>\n",
       "      <th>feature</th>\n",
       "      <th>shap_mean</th>\n",
       "      <th>shap_mean_abs</th>\n",
       "      <th>odds_mult_abs</th>\n",
       "      <th>exact_pp_change_abs</th>\n",
       "      <th>exact_pp_change_signed</th>\n",
       "      <th>mean_abs_shap</th>\n",
       "    </tr>\n",
       "  </thead>\n",
       "  <tbody>\n",
       "    <tr>\n",
       "      <th>0</th>\n",
       "      <td>num__spend_last_month</td>\n",
       "      <td>0.000299</td>\n",
       "      <td>0.166002</td>\n",
       "      <td>1.180575</td>\n",
       "      <td>0.027438</td>\n",
       "      <td>0.000047</td>\n",
       "      <td>0.000299</td>\n",
       "    </tr>\n",
       "    <tr>\n",
       "      <th>1</th>\n",
       "      <td>num__premium_user</td>\n",
       "      <td>-0.000269</td>\n",
       "      <td>0.306301</td>\n",
       "      <td>1.358391</td>\n",
       "      <td>0.052687</td>\n",
       "      <td>-0.000042</td>\n",
       "      <td>0.000269</td>\n",
       "    </tr>\n",
       "    <tr>\n",
       "      <th>2</th>\n",
       "      <td>num__urban_resident</td>\n",
       "      <td>0.000245</td>\n",
       "      <td>0.158900</td>\n",
       "      <td>1.172220</td>\n",
       "      <td>0.026210</td>\n",
       "      <td>0.000039</td>\n",
       "      <td>0.000245</td>\n",
       "    </tr>\n",
       "    <tr>\n",
       "      <th>3</th>\n",
       "      <td>num__avg_sessions_week</td>\n",
       "      <td>-0.000141</td>\n",
       "      <td>0.174082</td>\n",
       "      <td>1.190153</td>\n",
       "      <td>0.028841</td>\n",
       "      <td>-0.000022</td>\n",
       "      <td>0.000141</td>\n",
       "    </tr>\n",
       "    <tr>\n",
       "      <th>4</th>\n",
       "      <td>num__tenure_months</td>\n",
       "      <td>-0.000135</td>\n",
       "      <td>0.194878</td>\n",
       "      <td>1.215163</td>\n",
       "      <td>0.032482</td>\n",
       "      <td>-0.000021</td>\n",
       "      <td>0.000135</td>\n",
       "    </tr>\n",
       "  </tbody>\n",
       "</table>\n",
       "</div>"
      ]
     },
     "metadata": {},
     "output_type": "display_data",
     "jetTransient": {
      "display_id": null
     }
    }
   ],
   "execution_count": 9
  },
  {
   "metadata": {
    "ExecuteTime": {
     "end_time": "2025-10-14T17:31:12.556559Z",
     "start_time": "2025-10-14T17:31:12.501553Z"
    }
   },
   "cell_type": "code",
   "source": [
    "# Propensity score overlap graph\n",
    "ps_model.ps_graph()\n",
    "plt.show()"
   ],
   "id": "616d19bd7a413a6a",
   "outputs": [
    {
     "data": {
      "text/plain": [
       "<Figure size 640x480 with 1 Axes>"
      ],
      "image/png": "[encoded data removed]"
     },
     "metadata": {},
     "output_type": "display_data",
     "jetTransient": {
      "display_id": null
     }
    }
   ],
   "execution_count": 10
  },
  {
   "metadata": {},
   "cell_type": "markdown",
   "source": "### Outcome regression",
   "id": "735d2a5a60aa75be"
  },
  {
   "metadata": {},
   "cell_type": "markdown",
   "source": "Let's analyze how confounders predict outcome",
   "id": "1c571739abf58410"
  },
  {
   "metadata": {
    "ExecuteTime": {
     "end_time": "2025-10-14T17:31:16.416775Z",
     "start_time": "2025-10-14T17:31:12.564575Z"
    }
   },
   "cell_type": "code",
   "source": [
    "# Outcome model fit\n",
    "outcome_model = eda.outcome_fit()\n",
    "\n",
    "# RMSE and MAE of regression model\n",
    "print(outcome_model.scores)"
   ],
   "id": "552711b4aaa3715f",
   "outputs": [
    {
     "name": "stdout",
     "output_type": "stream",
     "text": [
      "{'rmse': 3.656989617205263, 'mae': 2.90424413216463}\n"
     ]
    }
   ],
   "execution_count": 11
  },
  {
   "metadata": {
    "ExecuteTime": {
     "end_time": "2025-10-14T17:31:16.667534Z",
     "start_time": "2025-10-14T17:31:16.431754Z"
    }
   },
   "cell_type": "code",
   "source": [
    "# 2) SHAP values - feature importance for outcome prediction from confounders\n",
    "shap_outcome_df = outcome_model.shap\n",
    "display(shap_outcome_df)"
   ],
   "id": "bd8d22d9892b05bc",
   "outputs": [
    {
     "data": {
      "text/plain": [
       "             feature  shap_mean\n",
       "0  avg_sessions_week  -0.000502\n",
       "1   spend_last_month   0.000350\n",
       "2     urban_resident   0.000245\n",
       "3       premium_user  -0.000055\n",
       "4      tenure_months  -0.000038"
      ],
      "text/html": [
       "<div>\n",
       "<style scoped>\n",
       "    .dataframe tbody tr th:only-of-type {\n",
       "        vertical-align: middle;\n",
       "    }\n",
       "\n",
       "    .dataframe tbody tr th {\n",
       "        vertical-align: top;\n",
       "    }\n",
       "\n",
       "    .dataframe thead th {\n",
       "        text-align: right;\n",
       "    }\n",
       "</style>\n",
       "<table border=\"1\" class=\"dataframe\">\n",
       "  <thead>\n",
       "    <tr style=\"text-align: right;\">\n",
       "      <th></th>\n",
       "      <th>feature</th>\n",
       "      <th>shap_mean</th>\n",
       "    </tr>\n",
       "  </thead>\n",
       "  <tbody>\n",
       "    <tr>\n",
       "      <th>0</th>\n",
       "      <td>avg_sessions_week</td>\n",
       "      <td>-0.000502</td>\n",
       "    </tr>\n",
       "    <tr>\n",
       "      <th>1</th>\n",
       "      <td>spend_last_month</td>\n",
       "      <td>0.000350</td>\n",
       "    </tr>\n",
       "    <tr>\n",
       "      <th>2</th>\n",
       "      <td>urban_resident</td>\n",
       "      <td>0.000245</td>\n",
       "    </tr>\n",
       "    <tr>\n",
       "      <th>3</th>\n",
       "      <td>premium_user</td>\n",
       "      <td>-0.000055</td>\n",
       "    </tr>\n",
       "    <tr>\n",
       "      <th>4</th>\n",
       "      <td>tenure_months</td>\n",
       "      <td>-0.000038</td>\n",
       "    </tr>\n",
       "  </tbody>\n",
       "</table>\n",
       "</div>"
      ]
     },
     "metadata": {},
     "output_type": "display_data",
     "jetTransient": {
      "display_id": null
     }
    }
   ],
   "execution_count": 12
  },
  {
   "metadata": {},
   "cell_type": "markdown",
   "source": "## Inference",
   "id": "6bb04960515eddb9"
  },
  {
   "metadata": {},
   "cell_type": "markdown",
   "source": "Now time to estimate ATE with Double Machine Learning",
   "id": "367bb171ed234d43"
  },
  {
   "metadata": {
    "ExecuteTime": {
     "end_time": "2025-10-14T17:31:25.040693Z",
     "start_time": "2025-10-14T17:31:16.688267Z"
    }
   },
   "cell_type": "code",
   "source": [
    "from causalis.inference.ate import dml_ate\n",
    "\n",
    "# Estimate Average Treatment Effect (ATE)\n",
    "ate_result = dml_ate(causal_data, n_folds=4, confidence_level=0.95)"
   ],
   "id": "1903be665fae92e5",
   "outputs": [],
   "execution_count": 13
  },
  {
   "metadata": {
    "ExecuteTime": {
     "end_time": "2025-10-14T17:31:25.053306Z",
     "start_time": "2025-10-14T17:31:25.051710Z"
    }
   },
   "cell_type": "code",
   "source": [
    "print(ate_result.get('coefficient'))\n",
    "print(ate_result.get('p_value'))\n",
    "print(ate_result.get('confidence_interval'))"
   ],
   "id": "c6d73ec082c0aa5b",
   "outputs": [
    {
     "name": "stdout",
     "output_type": "stream",
     "text": [
      "1.766253520771568\n",
      "0.0\n",
      "(1.5329683790491713, 1.9995386624939646)\n"
     ]
    }
   ],
   "execution_count": 14
  },
  {
   "metadata": {},
   "cell_type": "markdown",
   "source": "True theta in our data generating proccess was 1.8",
   "id": "85a4433c8568bda8"
  },
  {
   "metadata": {},
   "cell_type": "markdown",
   "source": "## Refutation",
   "id": "d480fb40315a1482"
  },
  {
   "metadata": {},
   "cell_type": "markdown",
   "source": "### Overlap",
   "id": "877fc216ed737d60"
  },
  {
   "metadata": {
    "ExecuteTime": {
     "end_time": "2025-10-14T17:31:25.080106Z",
     "start_time": "2025-10-14T17:31:25.059650Z"
    }
   },
   "cell_type": "code",
   "source": [
    "from  causalis.refutation import *\n",
    "rep = run_overlap_diagnostics(res=ate_result)\n",
    "rep[\"summary\"]"
   ],
   "id": "6bd0643ed5071d0b",
   "outputs": [
    {
     "data": {
      "text/plain": [
       "                 metric     value   flag\n",
       "0       edge_0.01_below  0.000000  GREEN\n",
       "1       edge_0.01_above  0.000000  GREEN\n",
       "2       edge_0.02_below  0.001000  GREEN\n",
       "3       edge_0.02_above  0.000000  GREEN\n",
       "4                    KS  0.139672  GREEN\n",
       "5                   AUC  0.592382  GREEN\n",
       "6     ESS_treated_ratio  0.742224  GREEN\n",
       "7     ESS_control_ratio  0.970455  GREEN\n",
       "8      tails_w1_q99/med  6.278831  GREEN\n",
       "9      tails_w0_q99/med  2.844508  GREEN\n",
       "10  ATT_identity_relerr  0.037683  GREEN\n",
       "11         clip_m_total  0.000100  GREEN\n",
       "12            calib_ECE  0.036215  GREEN\n",
       "13          calib_slope  0.520588    RED\n",
       "14      calib_intercept -0.637457    RED"
      ],
      "text/html": [
       "<div>\n",
       "<style scoped>\n",
       "    .dataframe tbody tr th:only-of-type {\n",
       "        vertical-align: middle;\n",
       "    }\n",
       "\n",
       "    .dataframe tbody tr th {\n",
       "        vertical-align: top;\n",
       "    }\n",
       "\n",
       "    .dataframe thead th {\n",
       "        text-align: right;\n",
       "    }\n",
       "</style>\n",
       "<table border=\"1\" class=\"dataframe\">\n",
       "  <thead>\n",
       "    <tr style=\"text-align: right;\">\n",
       "      <th></th>\n",
       "      <th>metric</th>\n",
       "      <th>value</th>\n",
       "      <th>flag</th>\n",
       "    </tr>\n",
       "  </thead>\n",
       "  <tbody>\n",
       "    <tr>\n",
       "      <th>0</th>\n",
       "      <td>edge_0.01_below</td>\n",
       "      <td>0.000000</td>\n",
       "      <td>GREEN</td>\n",
       "    </tr>\n",
       "    <tr>\n",
       "      <th>1</th>\n",
       "      <td>edge_0.01_above</td>\n",
       "      <td>0.000000</td>\n",
       "      <td>GREEN</td>\n",
       "    </tr>\n",
       "    <tr>\n",
       "      <th>2</th>\n",
       "      <td>edge_0.02_below</td>\n",
       "      <td>0.001000</td>\n",
       "      <td>GREEN</td>\n",
       "    </tr>\n",
       "    <tr>\n",
       "      <th>3</th>\n",
       "      <td>edge_0.02_above</td>\n",
       "      <td>0.000000</td>\n",
       "      <td>GREEN</td>\n",
       "    </tr>\n",
       "    <tr>\n",
       "      <th>4</th>\n",
       "      <td>KS</td>\n",
       "      <td>0.139672</td>\n",
       "      <td>GREEN</td>\n",
       "    </tr>\n",
       "    <tr>\n",
       "      <th>5</th>\n",
       "      <td>AUC</td>\n",
       "      <td>0.592382</td>\n",
       "      <td>GREEN</td>\n",
       "    </tr>\n",
       "    <tr>\n",
       "      <th>6</th>\n",
       "      <td>ESS_treated_ratio</td>\n",
       "      <td>0.742224</td>\n",
       "      <td>GREEN</td>\n",
       "    </tr>\n",
       "    <tr>\n",
       "      <th>7</th>\n",
       "      <td>ESS_control_ratio</td>\n",
       "      <td>0.970455</td>\n",
       "      <td>GREEN</td>\n",
       "    </tr>\n",
       "    <tr>\n",
       "      <th>8</th>\n",
       "      <td>tails_w1_q99/med</td>\n",
       "      <td>6.278831</td>\n",
       "      <td>GREEN</td>\n",
       "    </tr>\n",
       "    <tr>\n",
       "      <th>9</th>\n",
       "      <td>tails_w0_q99/med</td>\n",
       "      <td>2.844508</td>\n",
       "      <td>GREEN</td>\n",
       "    </tr>\n",
       "    <tr>\n",
       "      <th>10</th>\n",
       "      <td>ATT_identity_relerr</td>\n",
       "      <td>0.037683</td>\n",
       "      <td>GREEN</td>\n",
       "    </tr>\n",
       "    <tr>\n",
       "      <th>11</th>\n",
       "      <td>clip_m_total</td>\n",
       "      <td>0.000100</td>\n",
       "      <td>GREEN</td>\n",
       "    </tr>\n",
       "    <tr>\n",
       "      <th>12</th>\n",
       "      <td>calib_ECE</td>\n",
       "      <td>0.036215</td>\n",
       "      <td>GREEN</td>\n",
       "    </tr>\n",
       "    <tr>\n",
       "      <th>13</th>\n",
       "      <td>calib_slope</td>\n",
       "      <td>0.520588</td>\n",
       "      <td>RED</td>\n",
       "    </tr>\n",
       "    <tr>\n",
       "      <th>14</th>\n",
       "      <td>calib_intercept</td>\n",
       "      <td>-0.637457</td>\n",
       "      <td>RED</td>\n",
       "    </tr>\n",
       "  </tbody>\n",
       "</table>\n",
       "</div>"
      ]
     },
     "execution_count": 15,
     "metadata": {},
     "output_type": "execute_result"
    }
   ],
   "execution_count": 15
  },
  {
   "metadata": {},
   "cell_type": "markdown",
   "source": "### Score",
   "id": "16e0097f5582b21a"
  },
  {
   "metadata": {
    "ExecuteTime": {
     "end_time": "2025-10-14T17:31:25.147427Z",
     "start_time": "2025-10-14T17:31:25.138112Z"
    }
   },
   "cell_type": "code",
   "source": [
    "from causalis.refutation.score.score_validation import run_score_diagnostics\n",
    "rep_score = run_score_diagnostics(res=ate_result)\n",
    "rep_score[\"summary\"]"
   ],
   "id": "7b8efe18ddb16f87",
   "outputs": [
    {
     "data": {
      "text/plain": [
       "             metric         value    flag\n",
       "0         se_plugin  1.190252e-01      NA\n",
       "1  psi_p99_over_med  1.355647e+01  YELLOW\n",
       "2      psi_kurtosis  6.047594e+01     RED\n",
       "3        max_|t|_g1  5.463687e+00     RED\n",
       "4        max_|t|_g0  1.384511e+00   GREEN\n",
       "5         max_|t|_m  1.388284e+00   GREEN\n",
       "6    oos_tstat_fold  1.241609e-15   GREEN\n",
       "7  oos_tstat_strict  1.241615e-15   GREEN"
      ],
      "text/html": [
       "<div>\n",
       "<style scoped>\n",
       "    .dataframe tbody tr th:only-of-type {\n",
       "        vertical-align: middle;\n",
       "    }\n",
       "\n",
       "    .dataframe tbody tr th {\n",
       "        vertical-align: top;\n",
       "    }\n",
       "\n",
       "    .dataframe thead th {\n",
       "        text-align: right;\n",
       "    }\n",
       "</style>\n",
       "<table border=\"1\" class=\"dataframe\">\n",
       "  <thead>\n",
       "    <tr style=\"text-align: right;\">\n",
       "      <th></th>\n",
       "      <th>metric</th>\n",
       "      <th>value</th>\n",
       "      <th>flag</th>\n",
       "    </tr>\n",
       "  </thead>\n",
       "  <tbody>\n",
       "    <tr>\n",
       "      <th>0</th>\n",
       "      <td>se_plugin</td>\n",
       "      <td>1.190252e-01</td>\n",
       "      <td>NA</td>\n",
       "    </tr>\n",
       "    <tr>\n",
       "      <th>1</th>\n",
       "      <td>psi_p99_over_med</td>\n",
       "      <td>1.355647e+01</td>\n",
       "      <td>YELLOW</td>\n",
       "    </tr>\n",
       "    <tr>\n",
       "      <th>2</th>\n",
       "      <td>psi_kurtosis</td>\n",
       "      <td>6.047594e+01</td>\n",
       "      <td>RED</td>\n",
       "    </tr>\n",
       "    <tr>\n",
       "      <th>3</th>\n",
       "      <td>max_|t|_g1</td>\n",
       "      <td>5.463687e+00</td>\n",
       "      <td>RED</td>\n",
       "    </tr>\n",
       "    <tr>\n",
       "      <th>4</th>\n",
       "      <td>max_|t|_g0</td>\n",
       "      <td>1.384511e+00</td>\n",
       "      <td>GREEN</td>\n",
       "    </tr>\n",
       "    <tr>\n",
       "      <th>5</th>\n",
       "      <td>max_|t|_m</td>\n",
       "      <td>1.388284e+00</td>\n",
       "      <td>GREEN</td>\n",
       "    </tr>\n",
       "    <tr>\n",
       "      <th>6</th>\n",
       "      <td>oos_tstat_fold</td>\n",
       "      <td>1.241609e-15</td>\n",
       "      <td>GREEN</td>\n",
       "    </tr>\n",
       "    <tr>\n",
       "      <th>7</th>\n",
       "      <td>oos_tstat_strict</td>\n",
       "      <td>1.241615e-15</td>\n",
       "      <td>GREEN</td>\n",
       "    </tr>\n",
       "  </tbody>\n",
       "</table>\n",
       "</div>"
      ]
     },
     "execution_count": 16,
     "metadata": {},
     "output_type": "execute_result"
    }
   ],
   "execution_count": 16
  },
  {
   "metadata": {},
   "cell_type": "markdown",
   "source": "### SUTVA",
   "id": "40f1c61b7b6461b9"
  },
  {
   "metadata": {
    "ExecuteTime": {
     "end_time": "2025-10-14T17:31:25.210603Z",
     "start_time": "2025-10-14T17:31:25.208271Z"
    }
   },
   "cell_type": "code",
   "source": "print_sutva_questions()",
   "id": "cc922354b8dcaa69",
   "outputs": [
    {
     "name": "stdout",
     "output_type": "stream",
     "text": [
      "1.) Are your clients independent (i)?\n",
      "2.) Do you measure confounders, treatment, and outcome in the same intervals?\n",
      "3.) Do you measure confounders before treatment and outcome after?\n",
      "4.) Do you have a consistent label of treatment, such as if a person does not receive a treatment, he has a label 0?\n"
     ]
    }
   ],
   "execution_count": 17
  },
  {
   "metadata": {},
   "cell_type": "markdown",
   "source": "## Uncofoundedness",
   "id": "182d6af5a96a7389"
  },
  {
   "metadata": {
    "ExecuteTime": {
     "end_time": "2025-10-14T17:31:25.231791Z",
     "start_time": "2025-10-14T17:31:25.224277Z"
    }
   },
   "cell_type": "code",
   "source": [
    "from causalis.refutation.unconfoundedness.uncofoundedness_validation import run_unconfoundedness_diagnostics\n",
    "\n",
    "rep_uc = run_unconfoundedness_diagnostics(res=ate_result)\n",
    "rep_uc['summary']"
   ],
   "id": "ea22de43ad18223f",
   "outputs": [
    {
     "data": {
      "text/plain": [
       "                    metric         value    flag\n",
       "0          balance_max_smd  2.195631e-02   GREEN\n",
       "1  balance_frac_violations  0.000000e+00   GREEN\n",
       "2        ess_treated_ratio  7.422239e-01  YELLOW\n",
       "3        ess_control_ratio  9.704552e-01   GREEN\n",
       "4     w_tail_ratio_treated  1.167923e+13     RED\n",
       "5     w_tail_ratio_control  1.729690e+00   GREEN\n",
       "6  top1_mass_share_treated  1.412602e-01   GREEN\n",
       "7  top1_mass_share_control  2.566909e-02   GREEN\n",
       "8  ks_m_treated_vs_control  1.396717e-01   GREEN\n",
       "9    pct_m_outside_overlap  1.000000e-02   GREEN"
      ],
      "text/html": [
       "<div>\n",
       "<style scoped>\n",
       "    .dataframe tbody tr th:only-of-type {\n",
       "        vertical-align: middle;\n",
       "    }\n",
       "\n",
       "    .dataframe tbody tr th {\n",
       "        vertical-align: top;\n",
       "    }\n",
       "\n",
       "    .dataframe thead th {\n",
       "        text-align: right;\n",
       "    }\n",
       "</style>\n",
       "<table border=\"1\" class=\"dataframe\">\n",
       "  <thead>\n",
       "    <tr style=\"text-align: right;\">\n",
       "      <th></th>\n",
       "      <th>metric</th>\n",
       "      <th>value</th>\n",
       "      <th>flag</th>\n",
       "    </tr>\n",
       "  </thead>\n",
       "  <tbody>\n",
       "    <tr>\n",
       "      <th>0</th>\n",
       "      <td>balance_max_smd</td>\n",
       "      <td>2.195631e-02</td>\n",
       "      <td>GREEN</td>\n",
       "    </tr>\n",
       "    <tr>\n",
       "      <th>1</th>\n",
       "      <td>balance_frac_violations</td>\n",
       "      <td>0.000000e+00</td>\n",
       "      <td>GREEN</td>\n",
       "    </tr>\n",
       "    <tr>\n",
       "      <th>2</th>\n",
       "      <td>ess_treated_ratio</td>\n",
       "      <td>7.422239e-01</td>\n",
       "      <td>YELLOW</td>\n",
       "    </tr>\n",
       "    <tr>\n",
       "      <th>3</th>\n",
       "      <td>ess_control_ratio</td>\n",
       "      <td>9.704552e-01</td>\n",
       "      <td>GREEN</td>\n",
       "    </tr>\n",
       "    <tr>\n",
       "      <th>4</th>\n",
       "      <td>w_tail_ratio_treated</td>\n",
       "      <td>1.167923e+13</td>\n",
       "      <td>RED</td>\n",
       "    </tr>\n",
       "    <tr>\n",
       "      <th>5</th>\n",
       "      <td>w_tail_ratio_control</td>\n",
       "      <td>1.729690e+00</td>\n",
       "      <td>GREEN</td>\n",
       "    </tr>\n",
       "    <tr>\n",
       "      <th>6</th>\n",
       "      <td>top1_mass_share_treated</td>\n",
       "      <td>1.412602e-01</td>\n",
       "      <td>GREEN</td>\n",
       "    </tr>\n",
       "    <tr>\n",
       "      <th>7</th>\n",
       "      <td>top1_mass_share_control</td>\n",
       "      <td>2.566909e-02</td>\n",
       "      <td>GREEN</td>\n",
       "    </tr>\n",
       "    <tr>\n",
       "      <th>8</th>\n",
       "      <td>ks_m_treated_vs_control</td>\n",
       "      <td>1.396717e-01</td>\n",
       "      <td>GREEN</td>\n",
       "    </tr>\n",
       "    <tr>\n",
       "      <th>9</th>\n",
       "      <td>pct_m_outside_overlap</td>\n",
       "      <td>1.000000e-02</td>\n",
       "      <td>GREEN</td>\n",
       "    </tr>\n",
       "  </tbody>\n",
       "</table>\n",
       "</div>"
      ]
     },
     "execution_count": 18,
     "metadata": {},
     "output_type": "execute_result"
    }
   ],
   "execution_count": 18
  },
  {
   "metadata": {
    "ExecuteTime": {
     "end_time": "2025-10-14T17:33:10.129902Z",
     "start_time": "2025-10-14T17:33:10.124281Z"
    }
   },
   "cell_type": "code",
   "source": [
    "from causalis.refutation.unconfoundedness.uncofoundedness_validation import (\n",
    "    sensitivity_analysis, sensitivity_benchmark\n",
    ")\n",
    "\n",
    "sensitivity_analysis(ate_result, cf_y=0.01, cf_d=0.1, rho=1.0, level=0.95)"
   ],
   "id": "b1ea9f3ac405ad32",
   "outputs": [
    {
     "data": {
      "text/plain": [
       "{'theta': 1.766253520771568,\n",
       " 'se': 0.11902521860734187,\n",
       " 'level': 0.95,\n",
       " 'z': 1.959963984540054,\n",
       " 'sampling_ci': (1.5329683790491713, 1.9995386624939646),\n",
       " 'theta_bounds_confounding': (-3.0227845865106566, 6.5552916280537925),\n",
       " 'bias_aware_ci': (-3.2560697282330535, 6.788576769776189),\n",
       " 'max_bias': 4.789038107282225,\n",
       " 'sigma2': 13.136641553423134,\n",
       " 'nu2': 1.7458713400781616,\n",
       " 'params': {'cf_y': 0.01, 'cf_d': 0.1, 'rho': 1.0, 'use_signed_rr': False}}"
      ]
     },
     "execution_count": 21,
     "metadata": {},
     "output_type": "execute_result"
    }
   ],
   "execution_count": 21
  },
  {
   "metadata": {
    "ExecuteTime": {
     "end_time": "2025-10-14T17:33:22.648652Z",
     "start_time": "2025-10-14T17:33:15.063796Z"
    }
   },
   "cell_type": "code",
   "source": "sensitivity_benchmark(ate_result, benchmarking_set =['tenure_months'])",
   "id": "150b5f84e9ce2bb4",
   "outputs": [
    {
     "data": {
      "text/plain": [
       "       cf_y          cf_d  rho  theta_long  theta_short     delta\n",
       "d  0.000034  3.037675e-07 -1.0    1.766254     1.845679 -0.079425"
      ],
      "text/html": [
       "<div>\n",
       "<style scoped>\n",
       "    .dataframe tbody tr th:only-of-type {\n",
       "        vertical-align: middle;\n",
       "    }\n",
       "\n",
       "    .dataframe tbody tr th {\n",
       "        vertical-align: top;\n",
       "    }\n",
       "\n",
       "    .dataframe thead th {\n",
       "        text-align: right;\n",
       "    }\n",
       "</style>\n",
       "<table border=\"1\" class=\"dataframe\">\n",
       "  <thead>\n",
       "    <tr style=\"text-align: right;\">\n",
       "      <th></th>\n",
       "      <th>cf_y</th>\n",
       "      <th>cf_d</th>\n",
       "      <th>rho</th>\n",
       "      <th>theta_long</th>\n",
       "      <th>theta_short</th>\n",
       "      <th>delta</th>\n",
       "    </tr>\n",
       "  </thead>\n",
       "  <tbody>\n",
       "    <tr>\n",
       "      <th>d</th>\n",
       "      <td>0.000034</td>\n",
       "      <td>3.037675e-07</td>\n",
       "      <td>-1.0</td>\n",
       "      <td>1.766254</td>\n",
       "      <td>1.845679</td>\n",
       "      <td>-0.079425</td>\n",
       "    </tr>\n",
       "  </tbody>\n",
       "</table>\n",
       "</div>"
      ]
     },
     "execution_count": 23,
     "metadata": {},
     "output_type": "execute_result"
    }
   ],
   "execution_count": 23
  },
  {
   "metadata": {},
   "cell_type": "code",
   "outputs": [],
   "execution_count": null,
   "source": "",
   "id": "a2c589dcfee19889"
  }
 ],
 "metadata": {
  "kernelspec": {
   "display_name": "Python 3",
   "language": "python",
   "name": "python3"
  },
  "language_info": {
   "codemirror_mode": {
    "name": "ipython",
    "version": 2
   },
   "file_extension": ".py",
   "mimetype": "text/x-python",
   "name": "python",
   "nbconvert_exporter": "python",
   "pygments_lexer": "ipython2",
   "version": "2.7.6"
  }
 },
 "nbformat": 4,
 "nbformat_minor": 5
}
