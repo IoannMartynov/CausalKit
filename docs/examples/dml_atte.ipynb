{
 "cells": [
  {
   "metadata": {},
   "cell_type": "markdown",
   "source": "# DML ATT Example",
   "id": "3bb65e072e9ab811"
  },
  {
   "metadata": {},
   "cell_type": "markdown",
   "source": [
    "This notebook covers scenario:\n",
    "| Is RCT        | Treatment | Outcome    | EDA | Estimands | Refutation |\n",
    "|---------------|-----------|------------|-----|-----------|------------|\n",
    "| Observational | Binary    | Continuous | Yes | ATT       | Yes        |\n",
    "\n",
    "We will estimate Average Treatment Effect on Treated (ATT) of binary treatment on continuous outcome. It shows explonatary data analysis and refutation tests"
   ],
   "id": "cbe2952f317dfd58"
  },
  {
   "metadata": {},
   "cell_type": "markdown",
   "source": "## Generate data",
   "id": "505f0f3204e38817"
  },
  {
   "metadata": {},
   "cell_type": "markdown",
   "source": "Example that generates observational data with a nonlinear outcome model, nonlinear treatment assignment, and a heterogeneous (nonlinear) treatment effect tau(X). This setup ensures that ATT ≠ ATE in general. It also shows how to compute the “ground-truth” ATT from the generated data.",
   "id": "791d585776e1380c"
  },
  {
   "metadata": {
    "ExecuteTime": {
     "end_time": "2025-10-06T18:00:35.482578Z",
     "start_time": "2025-10-06T18:00:32.871153Z"
    }
   },
   "cell_type": "code",
   "source": [
    "# Nonlinear ATT data generation with heterogeneous effects\n",
    "\n",
    "import numpy as np\n",
    "import pandas as pd\n",
    "import matplotlib.pyplot as plt\n",
    "\n",
    "from causalkit.data import CausalDatasetGenerator, CausalData\n",
    "\n",
    "# Reproducibility\n",
    "np.random.seed(42)\n",
    "\n",
    "# 1) Confounders and their distributions\n",
    "#    These names define the column order in X for the custom functions.\n",
    "confounder_specs = [\n",
    "    {\"name\": \"tenure_months\",     \"dist\": \"normal\",   \"mu\": 24, \"sd\": 12},\n",
    "    {\"name\": \"avg_sessions_week\", \"dist\": \"normal\",   \"mu\": 5,  \"sd\": 2},\n",
    "    {\"name\": \"spend_last_month\",  \"dist\": \"uniform\",  \"a\": 0,   \"b\": 200},\n",
    "    {\"name\": \"premium_user\",      \"dist\": \"bernoulli\",\"p\": 0.25},\n",
    "    {\"name\": \"urban_resident\",    \"dist\": \"bernoulli\",\"p\": 0.60},\n",
    "]\n",
    "\n",
    "# Indices (for convenience inside g_y, g_t, tau)\n",
    "TENURE, SESS, SPEND, PREMIUM, URBAN = range(5)\n",
    "\n",
    "# 2) Nonlinear baseline for outcome f_y(X) = X @ beta_y + g_y(X)\n",
    "#    Keep a modest linear part and add meaningful nonlinearities.\n",
    "beta_y = np.array([\n",
    "    0.03,   # tenure_months\n",
    "    0.20,   # avg_sessions_week\n",
    "    0.01,   # spend_last_month\n",
    "    1.20,   # premium_user\n",
    "    0.60,   # urban_resident\n",
    "], dtype=float)\n",
    "\n",
    "def g_y(X: np.ndarray) -> np.ndarray:\n",
    "    # Nonlinearities and interactions in outcome baseline\n",
    "    tenure_years = X[:, TENURE] / 12.0\n",
    "    sessions = X[:, SESS]\n",
    "    spend = X[:, SPEND]\n",
    "    premium = X[:, PREMIUM]\n",
    "    urban = X[:, URBAN]\n",
    "\n",
    "    return (\n",
    "        1.2 * np.sin(2.0 * np.pi * tenure_years)          # seasonal-ish tenure pattern\n",
    "        + 0.02 * (sessions - 5.0) ** 2                    # convex effect of sessions\n",
    "        + 0.0015 * (spend - 100.0) * (sessions - 5.0)     # spend × sessions interaction\n",
    "        + 0.4 * premium * (sessions - 5.0)                # premium × sessions interaction\n",
    "        + 0.3 * urban * np.tanh((spend - 100.0) / 50.0)   # nonlinear spend effect differs by urban\n",
    "    )\n",
    "\n",
    "# 3) Nonlinear treatment score f_t(X) = X @ beta_t + g_t(X)\n",
    "beta_d = np.array([\n",
    "    0.010,  # tenure_months\n",
    "    0.12,   # avg_sessions_week\n",
    "    0.001,  # spend_last_month\n",
    "    0.80,   # premium_user\n",
    "    0.25,   # urban_resident\n",
    "], dtype=float)\n",
    "\n",
    "def g_d(X: np.ndarray) -> np.ndarray:\n",
    "    tenure_years = X[:, TENURE] / 12.0\n",
    "    sessions = X[:, SESS]\n",
    "    spend = X[:, SPEND]\n",
    "    premium = X[:, PREMIUM]\n",
    "    urban = X[:, URBAN]\n",
    "\n",
    "    # Smoothly increasing selection with spend; interactions make selection non-separable\n",
    "    soft_spend = 1.2 * np.tanh((spend - 80.0) / 40.0)\n",
    "    return (\n",
    "        0.6 * soft_spend\n",
    "        + 0.15 * (sessions - 5.0) * (tenure_years - 2.0)\n",
    "        + 0.25 * premium * (urban - 0.5)\n",
    "    )\n",
    "\n",
    "# 4) Heterogeneous, nonlinear treatment effect tau(X) on the natural scale (continuous outcome)\n",
    "def tau_fn(X: np.ndarray) -> np.ndarray:\n",
    "    tenure_years = X[:, TENURE] / 12.0\n",
    "    sessions = X[:, SESS]\n",
    "    spend = X[:, SPEND]\n",
    "    premium = X[:, PREMIUM]\n",
    "    urban = X[:, URBAN]\n",
    "\n",
    "    # Base effect + stronger effect for higher sessions and premium users,\n",
    "    # diminishes with tenure, mild modulation by spend and urban\n",
    "    tau = (\n",
    "        1.0\n",
    "        + 0.8 * (1.0 / (1.0 + np.exp(-(sessions - 5.0))))    # sigmoid in sessions\n",
    "        + 0.5 * premium\n",
    "        - 0.6 * np.clip(tenure_years / 5.0, 0.0, 1.0)        # taper with long tenure\n",
    "        + 0.2 * urban * (spend - 100.0) / 100.0\n",
    "    )\n",
    "    # Optional: keep it in a reasonable range\n",
    "    return np.clip(tau, 0.2, 2.5)\n",
    "\n",
    "# 5) Noise and prevalence\n",
    "sigma_y = 3.5\n",
    "target_d_rate = 0.35  # enforce ~35% treated via intercept calibration\n",
    "\n",
    "# 6) Build generator\n",
    "gen = CausalDatasetGenerator(\n",
    "    outcome_type=\"continuous\",\n",
    "    sigma_y=sigma_y,\n",
    "    target_d_rate=target_d_rate,\n",
    "    seed=42,\n",
    "    # Confounders\n",
    "    confounder_specs=confounder_specs,\n",
    "    # Outcome/treatment structure\n",
    "    beta_y=beta_y,\n",
    "    beta_d=beta_d,\n",
    "    g_y=g_y,\n",
    "    g_d=g_d,\n",
    "    # Heterogeneous effect\n",
    "    tau=tau_fn,\n",
    ")\n",
    "\n",
    "# 7) Generate data (full dataframe includes ground-truth columns: propensity, mu0, mu1, cate)\n",
    "n = 1000000\n",
    "generated_df = gen.generate(n)\n",
    "\n",
    "# Ground-truth ATT (on the natural scale): E[tau(X) | T=1] = mean CATE among the treated\n",
    "true_att = float(generated_df.loc[generated_df[\"d\"] == 1, \"cate\"].mean())\n",
    "print(f\"Ground-truth ATT from the DGP: {true_att:.3f}\")\n",
    "\n",
    "# 8) Wrap as CausalData for downstream workflows (keeps only y, t, and specified confounders)\n",
    "causal_data = CausalData(\n",
    "    df=generated_df,\n",
    "    treatment=\"d\",\n",
    "    outcome=\"y\",\n",
    "    confounders=[\n",
    "        \"tenure_months\",\n",
    "        \"avg_sessions_week\",\n",
    "        \"spend_last_month\",\n",
    "        \"premium_user\",\n",
    "        \"urban_resident\",\n",
    "    ],\n",
    ")\n",
    "\n",
    "# Peek at the analysis-ready view\n",
    "causal_data.df.head()"
   ],
   "id": "7b4f8f604a5e7b94",
   "outputs": [
    {
     "name": "stdout",
     "output_type": "stream",
     "text": [
      "Ground-truth ATT from the DGP: 1.380\n"
     ]
    },
    {
     "data": {
      "text/plain": [
       "           y    d  tenure_months  avg_sessions_week  spend_last_month  \\\n",
       "0  -0.706136  0.0      27.656605           3.333432         46.382141   \n",
       "1  11.655105  0.0      11.520191           8.376763        127.422983   \n",
       "2   2.408184  0.0      33.005414           8.877611          9.845915   \n",
       "3  11.421869  1.0      35.286777           7.284653         10.250580   \n",
       "4   0.826404  0.0       0.587578           7.063883        141.029200   \n",
       "\n",
       "   premium_user  urban_resident  \n",
       "0           1.0             1.0  \n",
       "1           0.0             1.0  \n",
       "2           1.0             0.0  \n",
       "3           1.0             1.0  \n",
       "4           0.0             1.0  "
      ],
      "text/html": [
       "<div>\n",
       "<style scoped>\n",
       "    .dataframe tbody tr th:only-of-type {\n",
       "        vertical-align: middle;\n",
       "    }\n",
       "\n",
       "    .dataframe tbody tr th {\n",
       "        vertical-align: top;\n",
       "    }\n",
       "\n",
       "    .dataframe thead th {\n",
       "        text-align: right;\n",
       "    }\n",
       "</style>\n",
       "<table border=\"1\" class=\"dataframe\">\n",
       "  <thead>\n",
       "    <tr style=\"text-align: right;\">\n",
       "      <th></th>\n",
       "      <th>y</th>\n",
       "      <th>d</th>\n",
       "      <th>tenure_months</th>\n",
       "      <th>avg_sessions_week</th>\n",
       "      <th>spend_last_month</th>\n",
       "      <th>premium_user</th>\n",
       "      <th>urban_resident</th>\n",
       "    </tr>\n",
       "  </thead>\n",
       "  <tbody>\n",
       "    <tr>\n",
       "      <th>0</th>\n",
       "      <td>-0.706136</td>\n",
       "      <td>0.0</td>\n",
       "      <td>27.656605</td>\n",
       "      <td>3.333432</td>\n",
       "      <td>46.382141</td>\n",
       "      <td>1.0</td>\n",
       "      <td>1.0</td>\n",
       "    </tr>\n",
       "    <tr>\n",
       "      <th>1</th>\n",
       "      <td>11.655105</td>\n",
       "      <td>0.0</td>\n",
       "      <td>11.520191</td>\n",
       "      <td>8.376763</td>\n",
       "      <td>127.422983</td>\n",
       "      <td>0.0</td>\n",
       "      <td>1.0</td>\n",
       "    </tr>\n",
       "    <tr>\n",
       "      <th>2</th>\n",
       "      <td>2.408184</td>\n",
       "      <td>0.0</td>\n",
       "      <td>33.005414</td>\n",
       "      <td>8.877611</td>\n",
       "      <td>9.845915</td>\n",
       "      <td>1.0</td>\n",
       "      <td>0.0</td>\n",
       "    </tr>\n",
       "    <tr>\n",
       "      <th>3</th>\n",
       "      <td>11.421869</td>\n",
       "      <td>1.0</td>\n",
       "      <td>35.286777</td>\n",
       "      <td>7.284653</td>\n",
       "      <td>10.250580</td>\n",
       "      <td>1.0</td>\n",
       "      <td>1.0</td>\n",
       "    </tr>\n",
       "    <tr>\n",
       "      <th>4</th>\n",
       "      <td>0.826404</td>\n",
       "      <td>0.0</td>\n",
       "      <td>0.587578</td>\n",
       "      <td>7.063883</td>\n",
       "      <td>141.029200</td>\n",
       "      <td>0.0</td>\n",
       "      <td>1.0</td>\n",
       "    </tr>\n",
       "  </tbody>\n",
       "</table>\n",
       "</div>"
      ]
     },
     "execution_count": 1,
     "metadata": {},
     "output_type": "execute_result"
    }
   ],
   "execution_count": 1
  },
  {
   "metadata": {},
   "cell_type": "markdown",
   "source": "## EDA\n",
   "id": "6ea34c7a8604ab7c"
  },
  {
   "metadata": {
    "ExecuteTime": {
     "end_time": "2025-10-06T18:00:36.033035Z",
     "start_time": "2025-10-06T18:00:35.500460Z"
    }
   },
   "cell_type": "code",
   "source": [
    "from causalkit.eda import CausalEDA\n",
    "eda = CausalEDA(causal_data)"
   ],
   "id": "9ab105021806e4f7",
   "outputs": [],
   "execution_count": 2
  },
  {
   "metadata": {},
   "cell_type": "markdown",
   "source": "### General dataset information",
   "id": "c54043a64935ef40"
  },
  {
   "metadata": {},
   "cell_type": "markdown",
   "source": "Let's see how outcome differ between clients who recieved the feature and didn't",
   "id": "bb15a5a46c793d5c"
  },
  {
   "metadata": {
    "ExecuteTime": {
     "end_time": "2025-10-06T18:00:36.052861Z",
     "start_time": "2025-10-06T18:00:36.050885Z"
    }
   },
   "cell_type": "code",
   "source": [
    "# shape of data\n",
    "eda.data_shape()"
   ],
   "id": "5c27584411c6af1a",
   "outputs": [
    {
     "data": {
      "text/plain": [
       "{'n_rows': 1000000, 'n_columns': 7}"
      ]
     },
     "execution_count": 3,
     "metadata": {},
     "output_type": "execute_result"
    }
   ],
   "execution_count": 3
  },
  {
   "metadata": {
    "ExecuteTime": {
     "end_time": "2025-10-06T18:00:36.368509Z",
     "start_time": "2025-10-06T18:00:36.058344Z"
    }
   },
   "cell_type": "code",
   "source": [
    "# 1) Outcome statistics by treatment\n",
    "eda.outcome_stats()"
   ],
   "id": "968d7e7c86750af",
   "outputs": [
    {
     "data": {
      "text/plain": [
       "            count      mean       std        min       p10       p25  \\\n",
       "treatment                                                              \n",
       "0.0        649795  3.190565  3.760819 -14.542244 -1.616254  0.651085   \n",
       "1.0        350205  5.326606  3.944180 -13.242403  0.286981  2.656550   \n",
       "\n",
       "             median       p75        p90        max  \n",
       "treatment                                            \n",
       "0.0        3.173112  5.715907   8.013993  22.348315  \n",
       "1.0        5.296816  7.964068  10.389444  23.599618  "
      ],
      "text/html": [
       "<div>\n",
       "<style scoped>\n",
       "    .dataframe tbody tr th:only-of-type {\n",
       "        vertical-align: middle;\n",
       "    }\n",
       "\n",
       "    .dataframe tbody tr th {\n",
       "        vertical-align: top;\n",
       "    }\n",
       "\n",
       "    .dataframe thead th {\n",
       "        text-align: right;\n",
       "    }\n",
       "</style>\n",
       "<table border=\"1\" class=\"dataframe\">\n",
       "  <thead>\n",
       "    <tr style=\"text-align: right;\">\n",
       "      <th></th>\n",
       "      <th>count</th>\n",
       "      <th>mean</th>\n",
       "      <th>std</th>\n",
       "      <th>min</th>\n",
       "      <th>p10</th>\n",
       "      <th>p25</th>\n",
       "      <th>median</th>\n",
       "      <th>p75</th>\n",
       "      <th>p90</th>\n",
       "      <th>max</th>\n",
       "    </tr>\n",
       "    <tr>\n",
       "      <th>treatment</th>\n",
       "      <th></th>\n",
       "      <th></th>\n",
       "      <th></th>\n",
       "      <th></th>\n",
       "      <th></th>\n",
       "      <th></th>\n",
       "      <th></th>\n",
       "      <th></th>\n",
       "      <th></th>\n",
       "      <th></th>\n",
       "    </tr>\n",
       "  </thead>\n",
       "  <tbody>\n",
       "    <tr>\n",
       "      <th>0.0</th>\n",
       "      <td>649795</td>\n",
       "      <td>3.190565</td>\n",
       "      <td>3.760819</td>\n",
       "      <td>-14.542244</td>\n",
       "      <td>-1.616254</td>\n",
       "      <td>0.651085</td>\n",
       "      <td>3.173112</td>\n",
       "      <td>5.715907</td>\n",
       "      <td>8.013993</td>\n",
       "      <td>22.348315</td>\n",
       "    </tr>\n",
       "    <tr>\n",
       "      <th>1.0</th>\n",
       "      <td>350205</td>\n",
       "      <td>5.326606</td>\n",
       "      <td>3.944180</td>\n",
       "      <td>-13.242403</td>\n",
       "      <td>0.286981</td>\n",
       "      <td>2.656550</td>\n",
       "      <td>5.296816</td>\n",
       "      <td>7.964068</td>\n",
       "      <td>10.389444</td>\n",
       "      <td>23.599618</td>\n",
       "    </tr>\n",
       "  </tbody>\n",
       "</table>\n",
       "</div>"
      ]
     },
     "execution_count": 4,
     "metadata": {},
     "output_type": "execute_result"
    }
   ],
   "execution_count": 4
  },
  {
   "metadata": {
    "ExecuteTime": {
     "end_time": "2025-10-06T18:00:36.533712Z",
     "start_time": "2025-10-06T18:00:36.385855Z"
    }
   },
   "cell_type": "code",
   "source": [
    "# 2) Outcome distribution by treatment (hist + boxplot)\n",
    "fig1, fig2 = eda.outcome_plots()\n",
    "plt.show()"
   ],
   "id": "c2258bc285979bc5",
   "outputs": [
    {
     "data": {
      "text/plain": [
       "<Figure size 700x400 with 1 Axes>"
      ],
      "image/png": "[encoded data removed]"
     },
     "metadata": {},
     "output_type": "display_data",
     "jetTransient": {
      "display_id": null
     }
    },
    {
     "data": {
      "text/plain": [
       "<Figure size 700x400 with 1 Axes>"
      ],
      "image/png": "[encoded data removed]"
     },
     "metadata": {},
     "output_type": "display_data",
     "jetTransient": {
      "display_id": null
     }
    }
   ],
   "execution_count": 5
  },
  {
   "metadata": {},
   "cell_type": "markdown",
   "source": "### Propensity",
   "id": "5b0d6974b483485d"
  },
  {
   "metadata": {},
   "cell_type": "markdown",
   "source": "Now let's examine how propensity score differ treatments",
   "id": "663908e8b581476"
  },
  {
   "metadata": {
    "ExecuteTime": {
     "end_time": "2025-10-06T18:00:36.675667Z",
     "start_time": "2025-10-06T18:00:36.553219Z"
    }
   },
   "cell_type": "code",
   "source": [
    "# Shows means of confounders for control/treated groups, absolute differences, and SMD values\n",
    "confounders_balance_df = eda.confounders_means()\n",
    "display(confounders_balance_df)"
   ],
   "id": "b149a9c9c6c1996d",
   "outputs": [
    {
     "data": {
      "text/plain": [
       "                    mean_t_0    mean_t_1   abs_diff       smd\n",
       "confounders                                                  \n",
       "spend_last_month   89.624530  119.126909  29.502379  0.532363\n",
       "premium_user        0.199164    0.343816   0.144651  0.329646\n",
       "avg_sessions_week   4.851794    5.280836   0.429042  0.215655\n",
       "urban_resident      0.575649    0.644037   0.068388  0.140546\n",
       "tenure_months      23.499908   24.931247   1.431339  0.119316"
      ],
      "text/html": [
       "<div>\n",
       "<style scoped>\n",
       "    .dataframe tbody tr th:only-of-type {\n",
       "        vertical-align: middle;\n",
       "    }\n",
       "\n",
       "    .dataframe tbody tr th {\n",
       "        vertical-align: top;\n",
       "    }\n",
       "\n",
       "    .dataframe thead th {\n",
       "        text-align: right;\n",
       "    }\n",
       "</style>\n",
       "<table border=\"1\" class=\"dataframe\">\n",
       "  <thead>\n",
       "    <tr style=\"text-align: right;\">\n",
       "      <th></th>\n",
       "      <th>mean_t_0</th>\n",
       "      <th>mean_t_1</th>\n",
       "      <th>abs_diff</th>\n",
       "      <th>smd</th>\n",
       "    </tr>\n",
       "    <tr>\n",
       "      <th>confounders</th>\n",
       "      <th></th>\n",
       "      <th></th>\n",
       "      <th></th>\n",
       "      <th></th>\n",
       "    </tr>\n",
       "  </thead>\n",
       "  <tbody>\n",
       "    <tr>\n",
       "      <th>spend_last_month</th>\n",
       "      <td>89.624530</td>\n",
       "      <td>119.126909</td>\n",
       "      <td>29.502379</td>\n",
       "      <td>0.532363</td>\n",
       "    </tr>\n",
       "    <tr>\n",
       "      <th>premium_user</th>\n",
       "      <td>0.199164</td>\n",
       "      <td>0.343816</td>\n",
       "      <td>0.144651</td>\n",
       "      <td>0.329646</td>\n",
       "    </tr>\n",
       "    <tr>\n",
       "      <th>avg_sessions_week</th>\n",
       "      <td>4.851794</td>\n",
       "      <td>5.280836</td>\n",
       "      <td>0.429042</td>\n",
       "      <td>0.215655</td>\n",
       "    </tr>\n",
       "    <tr>\n",
       "      <th>urban_resident</th>\n",
       "      <td>0.575649</td>\n",
       "      <td>0.644037</td>\n",
       "      <td>0.068388</td>\n",
       "      <td>0.140546</td>\n",
       "    </tr>\n",
       "    <tr>\n",
       "      <th>tenure_months</th>\n",
       "      <td>23.499908</td>\n",
       "      <td>24.931247</td>\n",
       "      <td>1.431339</td>\n",
       "      <td>0.119316</td>\n",
       "    </tr>\n",
       "  </tbody>\n",
       "</table>\n",
       "</div>"
      ]
     },
     "metadata": {},
     "output_type": "display_data",
     "jetTransient": {
      "display_id": null
     }
    }
   ],
   "execution_count": 6
  },
  {
   "metadata": {
    "ExecuteTime": {
     "end_time": "2025-10-06T18:03:06.203063Z",
     "start_time": "2025-10-06T18:00:36.686025Z"
    }
   },
   "cell_type": "code",
   "source": [
    "# Propensity model fit\n",
    "ps_model = eda.fit_propensity()\n",
    "\n",
    "# ROC AUC - shows how predictable treatment is from confounders\n",
    "roc_auc_score = ps_model.roc_auc\n",
    "print(\"ROC AUC from PropensityModel:\", round(roc_auc_score, 4))"
   ],
   "id": "1c36c6cd337b48d9",
   "outputs": [
    {
     "name": "stdout",
     "output_type": "stream",
     "text": [
      "ROC AUC from PropensityModel: 0.7067\n"
     ]
    }
   ],
   "execution_count": 7
  },
  {
   "metadata": {
    "ExecuteTime": {
     "end_time": "2025-10-06T18:03:06.244980Z",
     "start_time": "2025-10-06T18:03:06.240785Z"
    }
   },
   "cell_type": "code",
   "source": [
    "# Positivity check - assess overlap between treatment groups\n",
    "positivity_result = ps_model.positivity_check()\n",
    "print(\"Positivity check from PropensityModel:\", positivity_result)"
   ],
   "id": "c8d829d997e0163d",
   "outputs": [
    {
     "name": "stdout",
     "output_type": "stream",
     "text": [
      "Positivity check from PropensityModel: {'bounds': (0.05, 0.95), 'share_below': 0.002277, 'share_above': 0.000132, 'flag': False}\n"
     ]
    }
   ],
   "execution_count": 8
  },
  {
   "metadata": {
    "ExecuteTime": {
     "end_time": "2025-10-06T18:03:15.396765Z",
     "start_time": "2025-10-06T18:03:06.249135Z"
    }
   },
   "cell_type": "code",
   "source": [
    "# SHAP values - feature importance for treatment assignment from confounders\n",
    "shap_values_df = ps_model.shap\n",
    "display(shap_values_df)"
   ],
   "id": "6129ed1631eed18d",
   "outputs": [
    {
     "data": {
      "text/plain": [
       "                  feature  shap_mean  shap_mean_abs  odds_mult_abs  \\\n",
       "0      num__tenure_months  -0.000069       0.132061       1.141178   \n",
       "1  num__avg_sessions_week   0.000034       0.201335       1.223034   \n",
       "2   num__spend_last_month   0.000030       0.552962       1.738395   \n",
       "3     num__urban_resident   0.000008       0.153708       1.166150   \n",
       "4       num__premium_user  -0.000004       0.310007       1.363435   \n",
       "\n",
       "   exact_pp_change_abs  exact_pp_change_signed  \n",
       "0             0.030613           -1.563992e-05  \n",
       "1             0.047077            7.753262e-06  \n",
       "2             0.133507            6.854993e-06  \n",
       "3             0.035731            1.901407e-06  \n",
       "4             0.073366           -8.695062e-07  "
      ],
      "text/html": [
       "<div>\n",
       "<style scoped>\n",
       "    .dataframe tbody tr th:only-of-type {\n",
       "        vertical-align: middle;\n",
       "    }\n",
       "\n",
       "    .dataframe tbody tr th {\n",
       "        vertical-align: top;\n",
       "    }\n",
       "\n",
       "    .dataframe thead th {\n",
       "        text-align: right;\n",
       "    }\n",
       "</style>\n",
       "<table border=\"1\" class=\"dataframe\">\n",
       "  <thead>\n",
       "    <tr style=\"text-align: right;\">\n",
       "      <th></th>\n",
       "      <th>feature</th>\n",
       "      <th>shap_mean</th>\n",
       "      <th>shap_mean_abs</th>\n",
       "      <th>odds_mult_abs</th>\n",
       "      <th>exact_pp_change_abs</th>\n",
       "      <th>exact_pp_change_signed</th>\n",
       "    </tr>\n",
       "  </thead>\n",
       "  <tbody>\n",
       "    <tr>\n",
       "      <th>0</th>\n",
       "      <td>num__tenure_months</td>\n",
       "      <td>-0.000069</td>\n",
       "      <td>0.132061</td>\n",
       "      <td>1.141178</td>\n",
       "      <td>0.030613</td>\n",
       "      <td>-1.563992e-05</td>\n",
       "    </tr>\n",
       "    <tr>\n",
       "      <th>1</th>\n",
       "      <td>num__avg_sessions_week</td>\n",
       "      <td>0.000034</td>\n",
       "      <td>0.201335</td>\n",
       "      <td>1.223034</td>\n",
       "      <td>0.047077</td>\n",
       "      <td>7.753262e-06</td>\n",
       "    </tr>\n",
       "    <tr>\n",
       "      <th>2</th>\n",
       "      <td>num__spend_last_month</td>\n",
       "      <td>0.000030</td>\n",
       "      <td>0.552962</td>\n",
       "      <td>1.738395</td>\n",
       "      <td>0.133507</td>\n",
       "      <td>6.854993e-06</td>\n",
       "    </tr>\n",
       "    <tr>\n",
       "      <th>3</th>\n",
       "      <td>num__urban_resident</td>\n",
       "      <td>0.000008</td>\n",
       "      <td>0.153708</td>\n",
       "      <td>1.166150</td>\n",
       "      <td>0.035731</td>\n",
       "      <td>1.901407e-06</td>\n",
       "    </tr>\n",
       "    <tr>\n",
       "      <th>4</th>\n",
       "      <td>num__premium_user</td>\n",
       "      <td>-0.000004</td>\n",
       "      <td>0.310007</td>\n",
       "      <td>1.363435</td>\n",
       "      <td>0.073366</td>\n",
       "      <td>-8.695062e-07</td>\n",
       "    </tr>\n",
       "  </tbody>\n",
       "</table>\n",
       "</div>"
      ]
     },
     "metadata": {},
     "output_type": "display_data",
     "jetTransient": {
      "display_id": null
     }
    }
   ],
   "execution_count": 9
  },
  {
   "metadata": {
    "ExecuteTime": {
     "end_time": "2025-10-06T18:03:15.541164Z",
     "start_time": "2025-10-06T18:03:15.457905Z"
    }
   },
   "cell_type": "code",
   "source": [
    "# Propensity score overlap graph\n",
    "ps_model.ps_graph()\n",
    "plt.show()"
   ],
   "id": "cc3741a172a0d303",
   "outputs": [
    {
     "data": {
      "text/plain": [
       "<Figure size 640x480 with 1 Axes>"
      ],
      "image/png": "[encoded data removed]"
     },
     "metadata": {},
     "output_type": "display_data",
     "jetTransient": {
      "display_id": null
     }
    }
   ],
   "execution_count": 10
  },
  {
   "metadata": {},
   "cell_type": "markdown",
   "source": "### Outcome regression",
   "id": "f8acad543480c315"
  },
  {
   "metadata": {},
   "cell_type": "markdown",
   "source": "Let's analyze how confounders predict outcome",
   "id": "34957e45b4f108a4"
  },
  {
   "metadata": {
    "ExecuteTime": {
     "end_time": "2025-10-06T18:04:41.034435Z",
     "start_time": "2025-10-06T18:03:15.546267Z"
    }
   },
   "cell_type": "code",
   "source": [
    "# Outcome model fit\n",
    "outcome_model = eda.outcome_fit()\n",
    "\n",
    "# RMSE and MAE of regression model\n",
    "print(outcome_model.scores)"
   ],
   "id": "4e6305ae7446c781",
   "outputs": [
    {
     "name": "stdout",
     "output_type": "stream",
     "text": [
      "{'rmse': 3.5566146469268665, 'mae': 2.836959528300751}\n"
     ]
    }
   ],
   "execution_count": 11
  },
  {
   "metadata": {
    "ExecuteTime": {
     "end_time": "2025-10-06T18:04:50.822376Z",
     "start_time": "2025-10-06T18:04:41.066210Z"
    }
   },
   "cell_type": "code",
   "source": [
    "# 2) SHAP values - feature importance for outcome prediction from confounders\n",
    "shap_outcome_df = outcome_model.shap\n",
    "display(shap_outcome_df)"
   ],
   "id": "47461aeee30f4024",
   "outputs": [
    {
     "data": {
      "text/plain": [
       "             feature  shap_mean\n",
       "0  avg_sessions_week   0.000065\n",
       "1       premium_user  -0.000034\n",
       "2   spend_last_month  -0.000028\n",
       "3      tenure_months  -0.000021\n",
       "4     urban_resident   0.000018"
      ],
      "text/html": [
       "<div>\n",
       "<style scoped>\n",
       "    .dataframe tbody tr th:only-of-type {\n",
       "        vertical-align: middle;\n",
       "    }\n",
       "\n",
       "    .dataframe tbody tr th {\n",
       "        vertical-align: top;\n",
       "    }\n",
       "\n",
       "    .dataframe thead th {\n",
       "        text-align: right;\n",
       "    }\n",
       "</style>\n",
       "<table border=\"1\" class=\"dataframe\">\n",
       "  <thead>\n",
       "    <tr style=\"text-align: right;\">\n",
       "      <th></th>\n",
       "      <th>feature</th>\n",
       "      <th>shap_mean</th>\n",
       "    </tr>\n",
       "  </thead>\n",
       "  <tbody>\n",
       "    <tr>\n",
       "      <th>0</th>\n",
       "      <td>avg_sessions_week</td>\n",
       "      <td>0.000065</td>\n",
       "    </tr>\n",
       "    <tr>\n",
       "      <th>1</th>\n",
       "      <td>premium_user</td>\n",
       "      <td>-0.000034</td>\n",
       "    </tr>\n",
       "    <tr>\n",
       "      <th>2</th>\n",
       "      <td>spend_last_month</td>\n",
       "      <td>-0.000028</td>\n",
       "    </tr>\n",
       "    <tr>\n",
       "      <th>3</th>\n",
       "      <td>tenure_months</td>\n",
       "      <td>-0.000021</td>\n",
       "    </tr>\n",
       "    <tr>\n",
       "      <th>4</th>\n",
       "      <td>urban_resident</td>\n",
       "      <td>0.000018</td>\n",
       "    </tr>\n",
       "  </tbody>\n",
       "</table>\n",
       "</div>"
      ]
     },
     "metadata": {},
     "output_type": "display_data",
     "jetTransient": {
      "display_id": null
     }
    }
   ],
   "execution_count": 12
  },
  {
   "metadata": {},
   "cell_type": "markdown",
   "source": "# Inference",
   "id": "d758c21a760c23ae"
  },
  {
   "metadata": {},
   "cell_type": "markdown",
   "source": "Now time to estimate ATE with Double Machine Learning",
   "id": "c95f6ac049968704"
  },
  {
   "metadata": {
    "ExecuteTime": {
     "end_time": "2025-10-06T18:07:27.110866Z",
     "start_time": "2025-10-06T18:04:50.866296Z"
    }
   },
   "cell_type": "code",
   "source": [
    "from causalkit.inference.atte import dml_atte\n",
    "\n",
    "# Estimate Average Treatment Effect (ATT)\n",
    "atte_result = dml_atte(causal_data, n_folds=4, confidence_level=0.95)"
   ],
   "id": "35e465e763fd52b0",
   "outputs": [],
   "execution_count": 13
  },
  {
   "metadata": {
    "ExecuteTime": {
     "end_time": "2025-10-06T18:07:27.144452Z",
     "start_time": "2025-10-06T18:07:27.142433Z"
    }
   },
   "cell_type": "code",
   "source": [
    "print(atte_result.get('coefficient'))\n",
    "print(atte_result.get('p_value'))\n",
    "print(atte_result.get('confidence_interval'))"
   ],
   "id": "217a2f52c34055cd",
   "outputs": [
    {
     "name": "stdout",
     "output_type": "stream",
     "text": [
      "1.3786408942734056\n",
      "0.0\n",
      "(1.3619207495185848, 1.3953610390282265)\n"
     ]
    }
   ],
   "execution_count": 14
  },
  {
   "metadata": {},
   "cell_type": "markdown",
   "source": "Real ATT is 1.385",
   "id": "ad9dc37e7cab0f8a"
  },
  {
   "metadata": {},
   "cell_type": "markdown",
   "source": "## Refutation",
   "id": "ff769bf09f75babf"
  },
  {
   "metadata": {},
   "cell_type": "markdown",
   "source": "### Overlap",
   "id": "518c1d8ec26bad22"
  },
  {
   "metadata": {
    "ExecuteTime": {
     "end_time": "2025-10-06T18:07:28.280298Z",
     "start_time": "2025-10-06T18:07:27.147987Z"
    }
   },
   "cell_type": "code",
   "source": [
    "from  causalkit.refutation import *\n",
    "rep = run_overlap_diagnostics(res=atte_result)\n",
    "rep[\"summary\"]"
   ],
   "id": "c4b11033e6377ff8",
   "outputs": [
    {
     "data": {
      "text/plain": [
       "                 metric     value    flag\n",
       "0       edge_0.01_below  0.000000   GREEN\n",
       "1       edge_0.01_above  0.000000   GREEN\n",
       "2       edge_0.02_below  0.000320   GREEN\n",
       "3       edge_0.02_above  0.000020   GREEN\n",
       "4                    KS  0.298345  YELLOW\n",
       "5                   AUC  0.706591   GREEN\n",
       "6     ESS_treated_ratio  0.720880   GREEN\n",
       "7     ESS_control_ratio  0.894052   GREEN\n",
       "8      tails_w1_q99/med  6.374348  YELLOW\n",
       "9      tails_w0_q99/med  4.080778  YELLOW\n",
       "10  ATT_identity_relerr  0.007859   GREEN\n",
       "11         clip_m_total  0.000085   GREEN\n",
       "12            calib_ECE  0.003160   GREEN\n",
       "13          calib_slope  0.972758   GREEN\n",
       "14      calib_intercept -0.014894   GREEN"
      ],
      "text/html": [
       "<div>\n",
       "<style scoped>\n",
       "    .dataframe tbody tr th:only-of-type {\n",
       "        vertical-align: middle;\n",
       "    }\n",
       "\n",
       "    .dataframe tbody tr th {\n",
       "        vertical-align: top;\n",
       "    }\n",
       "\n",
       "    .dataframe thead th {\n",
       "        text-align: right;\n",
       "    }\n",
       "</style>\n",
       "<table border=\"1\" class=\"dataframe\">\n",
       "  <thead>\n",
       "    <tr style=\"text-align: right;\">\n",
       "      <th></th>\n",
       "      <th>metric</th>\n",
       "      <th>value</th>\n",
       "      <th>flag</th>\n",
       "    </tr>\n",
       "  </thead>\n",
       "  <tbody>\n",
       "    <tr>\n",
       "      <th>0</th>\n",
       "      <td>edge_0.01_below</td>\n",
       "      <td>0.000000</td>\n",
       "      <td>GREEN</td>\n",
       "    </tr>\n",
       "    <tr>\n",
       "      <th>1</th>\n",
       "      <td>edge_0.01_above</td>\n",
       "      <td>0.000000</td>\n",
       "      <td>GREEN</td>\n",
       "    </tr>\n",
       "    <tr>\n",
       "      <th>2</th>\n",
       "      <td>edge_0.02_below</td>\n",
       "      <td>0.000320</td>\n",
       "      <td>GREEN</td>\n",
       "    </tr>\n",
       "    <tr>\n",
       "      <th>3</th>\n",
       "      <td>edge_0.02_above</td>\n",
       "      <td>0.000020</td>\n",
       "      <td>GREEN</td>\n",
       "    </tr>\n",
       "    <tr>\n",
       "      <th>4</th>\n",
       "      <td>KS</td>\n",
       "      <td>0.298345</td>\n",
       "      <td>YELLOW</td>\n",
       "    </tr>\n",
       "    <tr>\n",
       "      <th>5</th>\n",
       "      <td>AUC</td>\n",
       "      <td>0.706591</td>\n",
       "      <td>GREEN</td>\n",
       "    </tr>\n",
       "    <tr>\n",
       "      <th>6</th>\n",
       "      <td>ESS_treated_ratio</td>\n",
       "      <td>0.720880</td>\n",
       "      <td>GREEN</td>\n",
       "    </tr>\n",
       "    <tr>\n",
       "      <th>7</th>\n",
       "      <td>ESS_control_ratio</td>\n",
       "      <td>0.894052</td>\n",
       "      <td>GREEN</td>\n",
       "    </tr>\n",
       "    <tr>\n",
       "      <th>8</th>\n",
       "      <td>tails_w1_q99/med</td>\n",
       "      <td>6.374348</td>\n",
       "      <td>YELLOW</td>\n",
       "    </tr>\n",
       "    <tr>\n",
       "      <th>9</th>\n",
       "      <td>tails_w0_q99/med</td>\n",
       "      <td>4.080778</td>\n",
       "      <td>YELLOW</td>\n",
       "    </tr>\n",
       "    <tr>\n",
       "      <th>10</th>\n",
       "      <td>ATT_identity_relerr</td>\n",
       "      <td>0.007859</td>\n",
       "      <td>GREEN</td>\n",
       "    </tr>\n",
       "    <tr>\n",
       "      <th>11</th>\n",
       "      <td>clip_m_total</td>\n",
       "      <td>0.000085</td>\n",
       "      <td>GREEN</td>\n",
       "    </tr>\n",
       "    <tr>\n",
       "      <th>12</th>\n",
       "      <td>calib_ECE</td>\n",
       "      <td>0.003160</td>\n",
       "      <td>GREEN</td>\n",
       "    </tr>\n",
       "    <tr>\n",
       "      <th>13</th>\n",
       "      <td>calib_slope</td>\n",
       "      <td>0.972758</td>\n",
       "      <td>GREEN</td>\n",
       "    </tr>\n",
       "    <tr>\n",
       "      <th>14</th>\n",
       "      <td>calib_intercept</td>\n",
       "      <td>-0.014894</td>\n",
       "      <td>GREEN</td>\n",
       "    </tr>\n",
       "  </tbody>\n",
       "</table>\n",
       "</div>"
      ]
     },
     "execution_count": 15,
     "metadata": {},
     "output_type": "execute_result"
    }
   ],
   "execution_count": 15
  },
  {
   "metadata": {},
   "cell_type": "markdown",
   "source": "### Score",
   "id": "4170ff45350839f6"
  },
  {
   "metadata": {
    "ExecuteTime": {
     "end_time": "2025-10-06T18:07:28.634181Z",
     "start_time": "2025-10-06T18:07:28.314445Z"
    }
   },
   "cell_type": "code",
   "source": [
    "from causalkit.refutation.score.score_validation import run_score_diagnostics\n",
    "rep_score = run_score_diagnostics(res=atte_result)\n",
    "rep_score[\"summary\"]"
   ],
   "id": "c51c683a896bd96d",
   "outputs": [
    {
     "data": {
      "text/plain": [
       "             metric         value    flag\n",
       "0         se_plugin  8.530843e-03      NA\n",
       "1  psi_p99_over_med  7.667134e+00   GREEN\n",
       "2      psi_kurtosis  8.160709e+01     RED\n",
       "3        max_|t|_g1  0.000000e+00   GREEN\n",
       "4        max_|t|_g0  3.231864e+00  YELLOW\n",
       "5         max_|t|_m  5.435535e-01   GREEN\n",
       "6    oos_tstat_fold -2.096166e-07   GREEN\n",
       "7  oos_tstat_strict -2.096167e-07   GREEN"
      ],
      "text/html": [
       "<div>\n",
       "<style scoped>\n",
       "    .dataframe tbody tr th:only-of-type {\n",
       "        vertical-align: middle;\n",
       "    }\n",
       "\n",
       "    .dataframe tbody tr th {\n",
       "        vertical-align: top;\n",
       "    }\n",
       "\n",
       "    .dataframe thead th {\n",
       "        text-align: right;\n",
       "    }\n",
       "</style>\n",
       "<table border=\"1\" class=\"dataframe\">\n",
       "  <thead>\n",
       "    <tr style=\"text-align: right;\">\n",
       "      <th></th>\n",
       "      <th>metric</th>\n",
       "      <th>value</th>\n",
       "      <th>flag</th>\n",
       "    </tr>\n",
       "  </thead>\n",
       "  <tbody>\n",
       "    <tr>\n",
       "      <th>0</th>\n",
       "      <td>se_plugin</td>\n",
       "      <td>8.530843e-03</td>\n",
       "      <td>NA</td>\n",
       "    </tr>\n",
       "    <tr>\n",
       "      <th>1</th>\n",
       "      <td>psi_p99_over_med</td>\n",
       "      <td>7.667134e+00</td>\n",
       "      <td>GREEN</td>\n",
       "    </tr>\n",
       "    <tr>\n",
       "      <th>2</th>\n",
       "      <td>psi_kurtosis</td>\n",
       "      <td>8.160709e+01</td>\n",
       "      <td>RED</td>\n",
       "    </tr>\n",
       "    <tr>\n",
       "      <th>3</th>\n",
       "      <td>max_|t|_g1</td>\n",
       "      <td>0.000000e+00</td>\n",
       "      <td>GREEN</td>\n",
       "    </tr>\n",
       "    <tr>\n",
       "      <th>4</th>\n",
       "      <td>max_|t|_g0</td>\n",
       "      <td>3.231864e+00</td>\n",
       "      <td>YELLOW</td>\n",
       "    </tr>\n",
       "    <tr>\n",
       "      <th>5</th>\n",
       "      <td>max_|t|_m</td>\n",
       "      <td>5.435535e-01</td>\n",
       "      <td>GREEN</td>\n",
       "    </tr>\n",
       "    <tr>\n",
       "      <th>6</th>\n",
       "      <td>oos_tstat_fold</td>\n",
       "      <td>-2.096166e-07</td>\n",
       "      <td>GREEN</td>\n",
       "    </tr>\n",
       "    <tr>\n",
       "      <th>7</th>\n",
       "      <td>oos_tstat_strict</td>\n",
       "      <td>-2.096167e-07</td>\n",
       "      <td>GREEN</td>\n",
       "    </tr>\n",
       "  </tbody>\n",
       "</table>\n",
       "</div>"
      ]
     },
     "execution_count": 16,
     "metadata": {},
     "output_type": "execute_result"
    }
   ],
   "execution_count": 16
  },
  {
   "metadata": {},
   "cell_type": "markdown",
   "source": "### SUTVA",
   "id": "9869104a2ac408bf"
  },
  {
   "metadata": {
    "ExecuteTime": {
     "end_time": "2025-10-06T18:07:28.730536Z",
     "start_time": "2025-10-06T18:07:28.728223Z"
    }
   },
   "cell_type": "code",
   "source": "print_sutva_questions()",
   "id": "3e99037408d42579",
   "outputs": [
    {
     "name": "stdout",
     "output_type": "stream",
     "text": [
      "1.) Are your clients independent (i)?\n",
      "2.) Do you measure confounders, treatment, and outcome in the same intervals?\n",
      "3.) Do you measure confounders before treatment and outcome after?\n",
      "4.) Do you have a consistent label of treatment, such as if a person does not receive a treatment, he has a label 0?\n"
     ]
    }
   ],
   "execution_count": 17
  },
  {
   "metadata": {},
   "cell_type": "markdown",
   "source": "## Uncofoundedness",
   "id": "1b4858efa0b8fe6c"
  },
  {
   "metadata": {
    "ExecuteTime": {
     "end_time": "2025-10-06T18:07:29.029971Z",
     "start_time": "2025-10-06T18:07:28.760372Z"
    }
   },
   "cell_type": "code",
   "source": [
    "from causalkit.refutation.unconfoundedness.uncofoundedness_validation import run_unconfoundedness_diagnostics\n",
    "\n",
    "rep_uc = run_unconfoundedness_diagnostics(res=atte_result)\n",
    "rep_uc['summary']"
   ],
   "id": "6bc6cc08d26395da",
   "outputs": [
    {
     "data": {
      "text/plain": [
       "                    metric         value    flag\n",
       "0          balance_max_smd  3.130265e-03   GREEN\n",
       "1  balance_frac_violations  0.000000e+00   GREEN\n",
       "2        ess_treated_ratio  1.000000e+00   GREEN\n",
       "3        ess_control_ratio  5.111244e-01     RED\n",
       "4     w_tail_ratio_treated  1.000000e+12     RED\n",
       "5     w_tail_ratio_control  1.063209e+01   GREEN\n",
       "6  top1_mass_share_treated  2.855470e-02   GREEN\n",
       "7  top1_mass_share_control  8.679737e-02   GREEN\n",
       "8  ks_m_treated_vs_control  2.983451e-01  YELLOW\n",
       "9    pct_m_outside_overlap  8.200000e-03   GREEN"
      ],
      "text/html": [
       "<div>\n",
       "<style scoped>\n",
       "    .dataframe tbody tr th:only-of-type {\n",
       "        vertical-align: middle;\n",
       "    }\n",
       "\n",
       "    .dataframe tbody tr th {\n",
       "        vertical-align: top;\n",
       "    }\n",
       "\n",
       "    .dataframe thead th {\n",
       "        text-align: right;\n",
       "    }\n",
       "</style>\n",
       "<table border=\"1\" class=\"dataframe\">\n",
       "  <thead>\n",
       "    <tr style=\"text-align: right;\">\n",
       "      <th></th>\n",
       "      <th>metric</th>\n",
       "      <th>value</th>\n",
       "      <th>flag</th>\n",
       "    </tr>\n",
       "  </thead>\n",
       "  <tbody>\n",
       "    <tr>\n",
       "      <th>0</th>\n",
       "      <td>balance_max_smd</td>\n",
       "      <td>3.130265e-03</td>\n",
       "      <td>GREEN</td>\n",
       "    </tr>\n",
       "    <tr>\n",
       "      <th>1</th>\n",
       "      <td>balance_frac_violations</td>\n",
       "      <td>0.000000e+00</td>\n",
       "      <td>GREEN</td>\n",
       "    </tr>\n",
       "    <tr>\n",
       "      <th>2</th>\n",
       "      <td>ess_treated_ratio</td>\n",
       "      <td>1.000000e+00</td>\n",
       "      <td>GREEN</td>\n",
       "    </tr>\n",
       "    <tr>\n",
       "      <th>3</th>\n",
       "      <td>ess_control_ratio</td>\n",
       "      <td>5.111244e-01</td>\n",
       "      <td>RED</td>\n",
       "    </tr>\n",
       "    <tr>\n",
       "      <th>4</th>\n",
       "      <td>w_tail_ratio_treated</td>\n",
       "      <td>1.000000e+12</td>\n",
       "      <td>RED</td>\n",
       "    </tr>\n",
       "    <tr>\n",
       "      <th>5</th>\n",
       "      <td>w_tail_ratio_control</td>\n",
       "      <td>1.063209e+01</td>\n",
       "      <td>GREEN</td>\n",
       "    </tr>\n",
       "    <tr>\n",
       "      <th>6</th>\n",
       "      <td>top1_mass_share_treated</td>\n",
       "      <td>2.855470e-02</td>\n",
       "      <td>GREEN</td>\n",
       "    </tr>\n",
       "    <tr>\n",
       "      <th>7</th>\n",
       "      <td>top1_mass_share_control</td>\n",
       "      <td>8.679737e-02</td>\n",
       "      <td>GREEN</td>\n",
       "    </tr>\n",
       "    <tr>\n",
       "      <th>8</th>\n",
       "      <td>ks_m_treated_vs_control</td>\n",
       "      <td>2.983451e-01</td>\n",
       "      <td>YELLOW</td>\n",
       "    </tr>\n",
       "    <tr>\n",
       "      <th>9</th>\n",
       "      <td>pct_m_outside_overlap</td>\n",
       "      <td>8.200000e-03</td>\n",
       "      <td>GREEN</td>\n",
       "    </tr>\n",
       "  </tbody>\n",
       "</table>\n",
       "</div>"
      ]
     },
     "execution_count": 18,
     "metadata": {},
     "output_type": "execute_result"
    }
   ],
   "execution_count": 18
  },
  {
   "metadata": {
    "ExecuteTime": {
     "end_time": "2025-10-06T18:07:29.092064Z",
     "start_time": "2025-10-06T18:07:29.049280Z"
    }
   },
   "cell_type": "code",
   "source": [
    "\n",
    "from causalkit.refutation.unconfoundedness.uncofoundedness_validation import (\n",
    "    sensitivity_analysis, get_sensitivity_summary,\n",
    ")\n",
    "\n",
    "summary_str = sensitivity_analysis(atte_result, cf_y=0.01, cf_d=0.1, rho=1.0, level=0.95)\n",
    "print(get_sensitivity_summary(atte_result))  # or print(summary_str)"
   ],
   "id": "165c4a1d01c63dca",
   "outputs": [
    {
     "name": "stdout",
     "output_type": "stream",
     "text": [
      "================== Sensitivity Analysis ==================\n",
      "\n",
      "------------------ Scenario          ------------------\n",
      "Significance Level: level=0.95\n",
      "Sensitivity parameters: cf_y=0.01; cf_d=0.1, rho=1.0\n",
      "\n",
      "------------------ Bounds with CI    ------------------\n",
      "          CI lower  theta lower           theta  theta upper      CI upper\n",
      "     d    1.361921    -2.231618        1.378641     4.988900      1.395361\n",
      "\n",
      "------------------ Robustness (SNR proxy) -------------\n",
      "          H_0   SNR proxy (%)  adj (%)\n",
      "     d    0.0        0.614981 0.000000\n"
     ]
    }
   ],
   "execution_count": 19
  },
  {
   "metadata": {
    "ExecuteTime": {
     "end_time": "2025-10-06T18:07:29.122333Z",
     "start_time": "2025-10-06T18:07:29.120514Z"
    }
   },
   "cell_type": "code",
   "source": "",
   "id": "f4d426be9c45e3c7",
   "outputs": [],
   "execution_count": null
  }
 ],
 "metadata": {
  "kernelspec": {
   "display_name": "Python 3",
   "language": "python",
   "name": "python3"
  },
  "language_info": {
   "codemirror_mode": {
    "name": "ipython",
    "version": 2
   },
   "file_extension": ".py",
   "mimetype": "text/x-python",
   "name": "python",
   "nbconvert_exporter": "python",
   "pygments_lexer": "ipython2",
   "version": "2.7.6"
  }
 },
 "nbformat": 4,
 "nbformat_minor": 5
}
