{
 "cells": [
  {
   "metadata": {},
   "cell_type": "markdown",
   "source": "# DML ATT Example",
   "id": "3bb65e072e9ab811"
  },
  {
   "metadata": {},
   "cell_type": "markdown",
   "source": [
    "This notebook covers scenario:\n",
    "| Is RCT        | Treatment | Outcome    | EDA | Estimands | Refutation |\n",
    "|---------------|-----------|------------|-----|-----------|------------|\n",
    "| Observational | Binary    | Continuous | Yes | ATT       | Yes        |\n",
    "\n",
    "We will estimate Average Treatment Effect on Treated (ATT) of binary treatment on continuous outcome. It shows explonatary data analysis and refutation tests"
   ],
   "id": "cbe2952f317dfd58"
  },
  {
   "metadata": {},
   "cell_type": "markdown",
   "source": "## Generate data",
   "id": "505f0f3204e38817"
  },
  {
   "metadata": {},
   "cell_type": "markdown",
   "source": "Example that generates observational data with a nonlinear outcome model, nonlinear treatment assignment, and a heterogeneous (nonlinear) treatment effect tau(X). This setup ensures that ATT ≠ ATE in general. It also shows how to compute the “ground-truth” ATT from the generated data.",
   "id": "791d585776e1380c"
  },
  {
   "metadata": {
    "ExecuteTime": {
     "end_time": "2025-09-18T19:29:49.066597Z",
     "start_time": "2025-09-18T19:29:48.457818Z"
    }
   },
   "cell_type": "code",
   "source": [
    "# Nonlinear ATT data generation with heterogeneous effects\n",
    "\n",
    "import numpy as np\n",
    "import pandas as pd\n",
    "import matplotlib.pyplot as plt\n",
    "\n",
    "from causalkit.data import CausalDatasetGenerator, CausalData\n",
    "\n",
    "# Reproducibility\n",
    "np.random.seed(42)\n",
    "\n",
    "# 1) Confounders and their distributions\n",
    "#    These names define the column order in X for the custom functions.\n",
    "confounder_specs = [\n",
    "    {\"name\": \"tenure_months\",     \"dist\": \"normal\",   \"mu\": 24, \"sd\": 12},\n",
    "    {\"name\": \"avg_sessions_week\", \"dist\": \"normal\",   \"mu\": 5,  \"sd\": 2},\n",
    "    {\"name\": \"spend_last_month\",  \"dist\": \"uniform\",  \"a\": 0,   \"b\": 200},\n",
    "    {\"name\": \"premium_user\",      \"dist\": \"bernoulli\",\"p\": 0.25},\n",
    "    {\"name\": \"urban_resident\",    \"dist\": \"bernoulli\",\"p\": 0.60},\n",
    "]\n",
    "\n",
    "# Indices (for convenience inside g_y, g_t, tau)\n",
    "TENURE, SESS, SPEND, PREMIUM, URBAN = range(5)\n",
    "\n",
    "# 2) Nonlinear baseline for outcome f_y(X) = X @ beta_y + g_y(X)\n",
    "#    Keep a modest linear part and add meaningful nonlinearities.\n",
    "beta_y = np.array([\n",
    "    0.03,   # tenure_months\n",
    "    0.20,   # avg_sessions_week\n",
    "    0.01,   # spend_last_month\n",
    "    1.20,   # premium_user\n",
    "    0.60,   # urban_resident\n",
    "], dtype=float)\n",
    "\n",
    "def g_y(X: np.ndarray) -> np.ndarray:\n",
    "    # Nonlinearities and interactions in outcome baseline\n",
    "    tenure_years = X[:, TENURE] / 12.0\n",
    "    sessions = X[:, SESS]\n",
    "    spend = X[:, SPEND]\n",
    "    premium = X[:, PREMIUM]\n",
    "    urban = X[:, URBAN]\n",
    "\n",
    "    return (\n",
    "        1.2 * np.sin(2.0 * np.pi * tenure_years)          # seasonal-ish tenure pattern\n",
    "        + 0.02 * (sessions - 5.0) ** 2                    # convex effect of sessions\n",
    "        + 0.0015 * (spend - 100.0) * (sessions - 5.0)     # spend × sessions interaction\n",
    "        + 0.4 * premium * (sessions - 5.0)                # premium × sessions interaction\n",
    "        + 0.3 * urban * np.tanh((spend - 100.0) / 50.0)   # nonlinear spend effect differs by urban\n",
    "    )\n",
    "\n",
    "# 3) Nonlinear treatment score f_t(X) = X @ beta_t + g_t(X)\n",
    "beta_t = np.array([\n",
    "    0.010,  # tenure_months\n",
    "    0.12,   # avg_sessions_week\n",
    "    0.001,  # spend_last_month\n",
    "    0.80,   # premium_user\n",
    "    0.25,   # urban_resident\n",
    "], dtype=float)\n",
    "\n",
    "def g_t(X: np.ndarray) -> np.ndarray:\n",
    "    tenure_years = X[:, TENURE] / 12.0\n",
    "    sessions = X[:, SESS]\n",
    "    spend = X[:, SPEND]\n",
    "    premium = X[:, PREMIUM]\n",
    "    urban = X[:, URBAN]\n",
    "\n",
    "    # Smoothly increasing selection with spend; interactions make selection non-separable\n",
    "    soft_spend = 1.2 * np.tanh((spend - 80.0) / 40.0)\n",
    "    return (\n",
    "        0.6 * soft_spend\n",
    "        + 0.15 * (sessions - 5.0) * (tenure_years - 2.0)\n",
    "        + 0.25 * premium * (urban - 0.5)\n",
    "    )\n",
    "\n",
    "# 4) Heterogeneous, nonlinear treatment effect tau(X) on the natural scale (continuous outcome)\n",
    "def tau_fn(X: np.ndarray) -> np.ndarray:\n",
    "    tenure_years = X[:, TENURE] / 12.0\n",
    "    sessions = X[:, SESS]\n",
    "    spend = X[:, SPEND]\n",
    "    premium = X[:, PREMIUM]\n",
    "    urban = X[:, URBAN]\n",
    "\n",
    "    # Base effect + stronger effect for higher sessions and premium users,\n",
    "    # diminishes with tenure, mild modulation by spend and urban\n",
    "    tau = (\n",
    "        1.0\n",
    "        + 0.8 * (1.0 / (1.0 + np.exp(-(sessions - 5.0))))    # sigmoid in sessions\n",
    "        + 0.5 * premium\n",
    "        - 0.6 * np.clip(tenure_years / 5.0, 0.0, 1.0)        # taper with long tenure\n",
    "        + 0.2 * urban * (spend - 100.0) / 100.0\n",
    "    )\n",
    "    # Optional: keep it in a reasonable range\n",
    "    return np.clip(tau, 0.2, 2.5)\n",
    "\n",
    "# 5) Noise and prevalence\n",
    "sigma_y = 3.5\n",
    "target_t_rate = 0.35  # enforce ~35% treated via intercept calibration\n",
    "\n",
    "# 6) Build generator\n",
    "gen = CausalDatasetGenerator(\n",
    "    outcome_type=\"continuous\",\n",
    "    sigma_y=sigma_y,\n",
    "    target_t_rate=target_t_rate,\n",
    "    seed=42,\n",
    "    # Confounders\n",
    "    confounder_specs=confounder_specs,\n",
    "    # Outcome/treatment structure\n",
    "    beta_y=beta_y,\n",
    "    beta_t=beta_t,\n",
    "    g_y=g_y,\n",
    "    g_t=g_t,\n",
    "    # Heterogeneous effect\n",
    "    tau=tau_fn,\n",
    ")\n",
    "\n",
    "# 7) Generate data (full dataframe includes ground-truth columns: propensity, mu0, mu1, cate)\n",
    "n = 10000\n",
    "generated_df = gen.generate(n)\n",
    "\n",
    "# Ground-truth ATT (on the natural scale): E[tau(X) | T=1] = mean CATE among the treated\n",
    "true_att = float(generated_df.loc[generated_df[\"t\"] == 1, \"cate\"].mean())\n",
    "print(f\"Ground-truth ATT from the DGP: {true_att:.3f}\")\n",
    "\n",
    "# 8) Wrap as CausalData for downstream workflows (keeps only y, t, and specified confounders)\n",
    "causal_data = CausalData(\n",
    "    df=generated_df,\n",
    "    treatment=\"t\",\n",
    "    outcome=\"y\",\n",
    "    confounders=[\n",
    "        \"tenure_months\",\n",
    "        \"avg_sessions_week\",\n",
    "        \"spend_last_month\",\n",
    "        \"premium_user\",\n",
    "        \"urban_resident\",\n",
    "    ],\n",
    ")\n",
    "\n",
    "# Peek at the analysis-ready view\n",
    "causal_data.df.head()"
   ],
   "id": "7b4f8f604a5e7b94",
   "outputs": [
    {
     "name": "stdout",
     "output_type": "stream",
     "text": [
      "Ground-truth ATT from the DGP: 1.386\n"
     ]
    },
    {
     "data": {
      "text/plain": [
       "          y    t  tenure_months  avg_sessions_week  spend_last_month  \\\n",
       "0  2.237316  0.0      27.656605           5.352554         72.552568   \n",
       "1  5.771469  0.0      11.520191           6.798247        188.481287   \n",
       "2  6.374653  1.0      33.005414           2.055459         51.040440   \n",
       "3  2.364177  1.0      35.286777           4.429404        166.992239   \n",
       "4  8.378079  0.0       0.587578           6.658307        179.371126   \n",
       "\n",
       "   premium_user  urban_resident  \n",
       "0           1.0             0.0  \n",
       "1           1.0             0.0  \n",
       "2           0.0             1.0  \n",
       "3           0.0             1.0  \n",
       "4           0.0             0.0  "
      ],
      "text/html": [
       "<div>\n",
       "<style scoped>\n",
       "    .dataframe tbody tr th:only-of-type {\n",
       "        vertical-align: middle;\n",
       "    }\n",
       "\n",
       "    .dataframe tbody tr th {\n",
       "        vertical-align: top;\n",
       "    }\n",
       "\n",
       "    .dataframe thead th {\n",
       "        text-align: right;\n",
       "    }\n",
       "</style>\n",
       "<table border=\"1\" class=\"dataframe\">\n",
       "  <thead>\n",
       "    <tr style=\"text-align: right;\">\n",
       "      <th></th>\n",
       "      <th>y</th>\n",
       "      <th>t</th>\n",
       "      <th>tenure_months</th>\n",
       "      <th>avg_sessions_week</th>\n",
       "      <th>spend_last_month</th>\n",
       "      <th>premium_user</th>\n",
       "      <th>urban_resident</th>\n",
       "    </tr>\n",
       "  </thead>\n",
       "  <tbody>\n",
       "    <tr>\n",
       "      <th>0</th>\n",
       "      <td>2.237316</td>\n",
       "      <td>0.0</td>\n",
       "      <td>27.656605</td>\n",
       "      <td>5.352554</td>\n",
       "      <td>72.552568</td>\n",
       "      <td>1.0</td>\n",
       "      <td>0.0</td>\n",
       "    </tr>\n",
       "    <tr>\n",
       "      <th>1</th>\n",
       "      <td>5.771469</td>\n",
       "      <td>0.0</td>\n",
       "      <td>11.520191</td>\n",
       "      <td>6.798247</td>\n",
       "      <td>188.481287</td>\n",
       "      <td>1.0</td>\n",
       "      <td>0.0</td>\n",
       "    </tr>\n",
       "    <tr>\n",
       "      <th>2</th>\n",
       "      <td>6.374653</td>\n",
       "      <td>1.0</td>\n",
       "      <td>33.005414</td>\n",
       "      <td>2.055459</td>\n",
       "      <td>51.040440</td>\n",
       "      <td>0.0</td>\n",
       "      <td>1.0</td>\n",
       "    </tr>\n",
       "    <tr>\n",
       "      <th>3</th>\n",
       "      <td>2.364177</td>\n",
       "      <td>1.0</td>\n",
       "      <td>35.286777</td>\n",
       "      <td>4.429404</td>\n",
       "      <td>166.992239</td>\n",
       "      <td>0.0</td>\n",
       "      <td>1.0</td>\n",
       "    </tr>\n",
       "    <tr>\n",
       "      <th>4</th>\n",
       "      <td>8.378079</td>\n",
       "      <td>0.0</td>\n",
       "      <td>0.587578</td>\n",
       "      <td>6.658307</td>\n",
       "      <td>179.371126</td>\n",
       "      <td>0.0</td>\n",
       "      <td>0.0</td>\n",
       "    </tr>\n",
       "  </tbody>\n",
       "</table>\n",
       "</div>"
      ]
     },
     "execution_count": 1,
     "metadata": {},
     "output_type": "execute_result"
    }
   ],
   "execution_count": 1
  },
  {
   "metadata": {},
   "cell_type": "markdown",
   "source": "## EDA\n",
   "id": "6ea34c7a8604ab7c"
  },
  {
   "metadata": {
    "ExecuteTime": {
     "end_time": "2025-09-18T19:29:49.568087Z",
     "start_time": "2025-09-18T19:29:49.086184Z"
    }
   },
   "cell_type": "code",
   "source": [
    "from causalkit.eda import CausalEDA\n",
    "eda = CausalEDA(causal_data)"
   ],
   "id": "9ab105021806e4f7",
   "outputs": [],
   "execution_count": 2
  },
  {
   "metadata": {},
   "cell_type": "markdown",
   "source": "### General dataset information",
   "id": "c54043a64935ef40"
  },
  {
   "metadata": {},
   "cell_type": "markdown",
   "source": "Let's see how outcome differ between clients who recieved the feature and didn't",
   "id": "bb15a5a46c793d5c"
  },
  {
   "metadata": {
    "ExecuteTime": {
     "end_time": "2025-09-18T19:29:49.586403Z",
     "start_time": "2025-09-18T19:29:49.584527Z"
    }
   },
   "cell_type": "code",
   "source": [
    "# shape of data\n",
    "eda.data_shape()"
   ],
   "id": "5c27584411c6af1a",
   "outputs": [
    {
     "data": {
      "text/plain": [
       "{'n_rows': 10000, 'n_columns': 7}"
      ]
     },
     "execution_count": 3,
     "metadata": {},
     "output_type": "execute_result"
    }
   ],
   "execution_count": 3
  },
  {
   "metadata": {
    "ExecuteTime": {
     "end_time": "2025-09-18T19:29:49.608874Z",
     "start_time": "2025-09-18T19:29:49.602503Z"
    }
   },
   "cell_type": "code",
   "source": [
    "# 1) Outcome statistics by treatment\n",
    "eda.outcome_stats()"
   ],
   "id": "968d7e7c86750af",
   "outputs": [
    {
     "data": {
      "text/plain": [
       "           count      mean       std        min       p10       p25    median  \\\n",
       "treatment                                                                       \n",
       "0.0         6529  3.187405  3.755011 -12.770866 -1.579354  0.699513  3.149450   \n",
       "1.0         3471  5.221957  3.986130  -7.310514  0.152369  2.511003  5.205133   \n",
       "\n",
       "                p75        p90        max  \n",
       "treatment                                  \n",
       "0.0        5.720525   7.932562  17.323664  \n",
       "1.0        7.972448  10.350862  18.147842  "
      ],
      "text/html": [
       "<div>\n",
       "<style scoped>\n",
       "    .dataframe tbody tr th:only-of-type {\n",
       "        vertical-align: middle;\n",
       "    }\n",
       "\n",
       "    .dataframe tbody tr th {\n",
       "        vertical-align: top;\n",
       "    }\n",
       "\n",
       "    .dataframe thead th {\n",
       "        text-align: right;\n",
       "    }\n",
       "</style>\n",
       "<table border=\"1\" class=\"dataframe\">\n",
       "  <thead>\n",
       "    <tr style=\"text-align: right;\">\n",
       "      <th></th>\n",
       "      <th>count</th>\n",
       "      <th>mean</th>\n",
       "      <th>std</th>\n",
       "      <th>min</th>\n",
       "      <th>p10</th>\n",
       "      <th>p25</th>\n",
       "      <th>median</th>\n",
       "      <th>p75</th>\n",
       "      <th>p90</th>\n",
       "      <th>max</th>\n",
       "    </tr>\n",
       "    <tr>\n",
       "      <th>treatment</th>\n",
       "      <th></th>\n",
       "      <th></th>\n",
       "      <th></th>\n",
       "      <th></th>\n",
       "      <th></th>\n",
       "      <th></th>\n",
       "      <th></th>\n",
       "      <th></th>\n",
       "      <th></th>\n",
       "      <th></th>\n",
       "    </tr>\n",
       "  </thead>\n",
       "  <tbody>\n",
       "    <tr>\n",
       "      <th>0.0</th>\n",
       "      <td>6529</td>\n",
       "      <td>3.187405</td>\n",
       "      <td>3.755011</td>\n",
       "      <td>-12.770866</td>\n",
       "      <td>-1.579354</td>\n",
       "      <td>0.699513</td>\n",
       "      <td>3.149450</td>\n",
       "      <td>5.720525</td>\n",
       "      <td>7.932562</td>\n",
       "      <td>17.323664</td>\n",
       "    </tr>\n",
       "    <tr>\n",
       "      <th>1.0</th>\n",
       "      <td>3471</td>\n",
       "      <td>5.221957</td>\n",
       "      <td>3.986130</td>\n",
       "      <td>-7.310514</td>\n",
       "      <td>0.152369</td>\n",
       "      <td>2.511003</td>\n",
       "      <td>5.205133</td>\n",
       "      <td>7.972448</td>\n",
       "      <td>10.350862</td>\n",
       "      <td>18.147842</td>\n",
       "    </tr>\n",
       "  </tbody>\n",
       "</table>\n",
       "</div>"
      ]
     },
     "execution_count": 4,
     "metadata": {},
     "output_type": "execute_result"
    }
   ],
   "execution_count": 4
  },
  {
   "metadata": {
    "ExecuteTime": {
     "end_time": "2025-09-18T19:29:49.758206Z",
     "start_time": "2025-09-18T19:29:49.656801Z"
    }
   },
   "cell_type": "code",
   "source": [
    "# 2) Outcome distribution by treatment (hist + boxplot)\n",
    "fig1, fig2 = eda.outcome_plots()\n",
    "plt.show()"
   ],
   "id": "c2258bc285979bc5",
   "outputs": [
    {
     "data": {
      "text/plain": [
       "<Figure size 700x400 with 1 Axes>"
      ],
      "image/png": "[encoded data removed]"
     },
     "metadata": {},
     "output_type": "display_data",
     "jetTransient": {
      "display_id": null
     }
    },
    {
     "data": {
      "text/plain": [
       "<Figure size 700x400 with 1 Axes>"
      ],
      "image/png": "[encoded data removed]"
     },
     "metadata": {},
     "output_type": "display_data",
     "jetTransient": {
      "display_id": null
     }
    }
   ],
   "execution_count": 5
  },
  {
   "metadata": {},
   "cell_type": "markdown",
   "source": "### Propensity",
   "id": "5b0d6974b483485d"
  },
  {
   "metadata": {},
   "cell_type": "markdown",
   "source": "Now let's examine how propensity score differ treatments",
   "id": "663908e8b581476"
  },
  {
   "metadata": {
    "ExecuteTime": {
     "end_time": "2025-09-18T19:29:49.787779Z",
     "start_time": "2025-09-18T19:29:49.781054Z"
    }
   },
   "cell_type": "code",
   "source": [
    "# Shows means of confounders for control/treated groups, absolute differences, and SMD values\n",
    "confounders_balance_df = eda.confounders_means()\n",
    "display(confounders_balance_df)"
   ],
   "id": "b149a9c9c6c1996d",
   "outputs": [
    {
     "data": {
      "text/plain": [
       "                    mean_t_0    mean_t_1   abs_diff       smd\n",
       "confounders                                                  \n",
       "spend_last_month   90.246033  119.504887  29.258855  0.527431\n",
       "premium_user        0.194823    0.354941   0.160118  0.364510\n",
       "avg_sessions_week   4.903527    5.298734   0.395206  0.197970\n",
       "urban_resident      0.576811    0.646211   0.069400  0.142734\n",
       "tenure_months      23.337260   24.892263   1.555004  0.128836"
      ],
      "text/html": [
       "<div>\n",
       "<style scoped>\n",
       "    .dataframe tbody tr th:only-of-type {\n",
       "        vertical-align: middle;\n",
       "    }\n",
       "\n",
       "    .dataframe tbody tr th {\n",
       "        vertical-align: top;\n",
       "    }\n",
       "\n",
       "    .dataframe thead th {\n",
       "        text-align: right;\n",
       "    }\n",
       "</style>\n",
       "<table border=\"1\" class=\"dataframe\">\n",
       "  <thead>\n",
       "    <tr style=\"text-align: right;\">\n",
       "      <th></th>\n",
       "      <th>mean_t_0</th>\n",
       "      <th>mean_t_1</th>\n",
       "      <th>abs_diff</th>\n",
       "      <th>smd</th>\n",
       "    </tr>\n",
       "    <tr>\n",
       "      <th>confounders</th>\n",
       "      <th></th>\n",
       "      <th></th>\n",
       "      <th></th>\n",
       "      <th></th>\n",
       "    </tr>\n",
       "  </thead>\n",
       "  <tbody>\n",
       "    <tr>\n",
       "      <th>spend_last_month</th>\n",
       "      <td>90.246033</td>\n",
       "      <td>119.504887</td>\n",
       "      <td>29.258855</td>\n",
       "      <td>0.527431</td>\n",
       "    </tr>\n",
       "    <tr>\n",
       "      <th>premium_user</th>\n",
       "      <td>0.194823</td>\n",
       "      <td>0.354941</td>\n",
       "      <td>0.160118</td>\n",
       "      <td>0.364510</td>\n",
       "    </tr>\n",
       "    <tr>\n",
       "      <th>avg_sessions_week</th>\n",
       "      <td>4.903527</td>\n",
       "      <td>5.298734</td>\n",
       "      <td>0.395206</td>\n",
       "      <td>0.197970</td>\n",
       "    </tr>\n",
       "    <tr>\n",
       "      <th>urban_resident</th>\n",
       "      <td>0.576811</td>\n",
       "      <td>0.646211</td>\n",
       "      <td>0.069400</td>\n",
       "      <td>0.142734</td>\n",
       "    </tr>\n",
       "    <tr>\n",
       "      <th>tenure_months</th>\n",
       "      <td>23.337260</td>\n",
       "      <td>24.892263</td>\n",
       "      <td>1.555004</td>\n",
       "      <td>0.128836</td>\n",
       "    </tr>\n",
       "  </tbody>\n",
       "</table>\n",
       "</div>"
      ]
     },
     "metadata": {},
     "output_type": "display_data",
     "jetTransient": {
      "display_id": null
     }
    }
   ],
   "execution_count": 6
  },
  {
   "metadata": {
    "ExecuteTime": {
     "end_time": "2025-09-18T19:29:57.203417Z",
     "start_time": "2025-09-18T19:29:49.814828Z"
    }
   },
   "cell_type": "code",
   "source": [
    "# Propensity model fit\n",
    "ps_model = eda.fit_propensity()\n",
    "\n",
    "# ROC AUC - shows how predictable treatment is from confounders\n",
    "roc_auc_score = ps_model.roc_auc\n",
    "print(\"ROC AUC from PropensityModel:\", round(roc_auc_score, 4))"
   ],
   "id": "1c36c6cd337b48d9",
   "outputs": [
    {
     "name": "stdout",
     "output_type": "stream",
     "text": [
      "ROC AUC from PropensityModel: 0.6924\n"
     ]
    }
   ],
   "execution_count": 7
  },
  {
   "metadata": {
    "ExecuteTime": {
     "end_time": "2025-09-18T19:29:57.257473Z",
     "start_time": "2025-09-18T19:29:57.255323Z"
    }
   },
   "cell_type": "code",
   "source": [
    "# Positivity check - assess overlap between treatment groups\n",
    "positivity_result = ps_model.positivity_check()\n",
    "print(\"Positivity check from PropensityModel:\", positivity_result)"
   ],
   "id": "c8d829d997e0163d",
   "outputs": [
    {
     "name": "stdout",
     "output_type": "stream",
     "text": [
      "Positivity check from PropensityModel: {'bounds': (0.05, 0.95), 'share_below': 0.0123, 'share_above': 0.0003, 'flag': False}\n"
     ]
    }
   ],
   "execution_count": 8
  },
  {
   "metadata": {
    "ExecuteTime": {
     "end_time": "2025-09-18T19:29:57.533985Z",
     "start_time": "2025-09-18T19:29:57.291484Z"
    }
   },
   "cell_type": "code",
   "source": [
    "# SHAP values - feature importance for treatment assignment from confounders\n",
    "shap_values_df = ps_model.shap\n",
    "display(shap_values_df)"
   ],
   "id": "6129ed1631eed18d",
   "outputs": [
    {
     "data": {
      "text/plain": [
       "                  feature  shap_mean  shap_mean_abs  odds_mult_abs  \\\n",
       "0  num__avg_sessions_week  -0.000709       0.231318       1.260259   \n",
       "1      num__tenure_months   0.000493       0.176727       1.193305   \n",
       "2       num__premium_user   0.000182       0.350892       1.420334   \n",
       "3     num__urban_resident   0.000045       0.169130       1.184274   \n",
       "4   num__spend_last_month  -0.000011       0.571914       1.771655   \n",
       "\n",
       "   exact_pp_change_abs  exact_pp_change_signed  \n",
       "0             0.053972               -0.000160  \n",
       "1             0.040955                0.000111  \n",
       "2             0.082963                0.000041  \n",
       "3             0.039157                0.000010  \n",
       "4             0.137722               -0.000002  "
      ],
      "text/html": [
       "<div>\n",
       "<style scoped>\n",
       "    .dataframe tbody tr th:only-of-type {\n",
       "        vertical-align: middle;\n",
       "    }\n",
       "\n",
       "    .dataframe tbody tr th {\n",
       "        vertical-align: top;\n",
       "    }\n",
       "\n",
       "    .dataframe thead th {\n",
       "        text-align: right;\n",
       "    }\n",
       "</style>\n",
       "<table border=\"1\" class=\"dataframe\">\n",
       "  <thead>\n",
       "    <tr style=\"text-align: right;\">\n",
       "      <th></th>\n",
       "      <th>feature</th>\n",
       "      <th>shap_mean</th>\n",
       "      <th>shap_mean_abs</th>\n",
       "      <th>odds_mult_abs</th>\n",
       "      <th>exact_pp_change_abs</th>\n",
       "      <th>exact_pp_change_signed</th>\n",
       "    </tr>\n",
       "  </thead>\n",
       "  <tbody>\n",
       "    <tr>\n",
       "      <th>0</th>\n",
       "      <td>num__avg_sessions_week</td>\n",
       "      <td>-0.000709</td>\n",
       "      <td>0.231318</td>\n",
       "      <td>1.260259</td>\n",
       "      <td>0.053972</td>\n",
       "      <td>-0.000160</td>\n",
       "    </tr>\n",
       "    <tr>\n",
       "      <th>1</th>\n",
       "      <td>num__tenure_months</td>\n",
       "      <td>0.000493</td>\n",
       "      <td>0.176727</td>\n",
       "      <td>1.193305</td>\n",
       "      <td>0.040955</td>\n",
       "      <td>0.000111</td>\n",
       "    </tr>\n",
       "    <tr>\n",
       "      <th>2</th>\n",
       "      <td>num__premium_user</td>\n",
       "      <td>0.000182</td>\n",
       "      <td>0.350892</td>\n",
       "      <td>1.420334</td>\n",
       "      <td>0.082963</td>\n",
       "      <td>0.000041</td>\n",
       "    </tr>\n",
       "    <tr>\n",
       "      <th>3</th>\n",
       "      <td>num__urban_resident</td>\n",
       "      <td>0.000045</td>\n",
       "      <td>0.169130</td>\n",
       "      <td>1.184274</td>\n",
       "      <td>0.039157</td>\n",
       "      <td>0.000010</td>\n",
       "    </tr>\n",
       "    <tr>\n",
       "      <th>4</th>\n",
       "      <td>num__spend_last_month</td>\n",
       "      <td>-0.000011</td>\n",
       "      <td>0.571914</td>\n",
       "      <td>1.771655</td>\n",
       "      <td>0.137722</td>\n",
       "      <td>-0.000002</td>\n",
       "    </tr>\n",
       "  </tbody>\n",
       "</table>\n",
       "</div>"
      ]
     },
     "metadata": {},
     "output_type": "display_data",
     "jetTransient": {
      "display_id": null
     }
    }
   ],
   "execution_count": 9
  },
  {
   "metadata": {
    "ExecuteTime": {
     "end_time": "2025-09-18T19:29:57.605343Z",
     "start_time": "2025-09-18T19:29:57.548908Z"
    }
   },
   "cell_type": "code",
   "source": [
    "# Propensity score overlap graph\n",
    "ps_model.ps_graph()\n",
    "plt.show()"
   ],
   "id": "cc3741a172a0d303",
   "outputs": [
    {
     "data": {
      "text/plain": [
       "<Figure size 640x480 with 1 Axes>"
      ],
      "image/png": "[encoded data removed]"
     },
     "metadata": {},
     "output_type": "display_data",
     "jetTransient": {
      "display_id": null
     }
    }
   ],
   "execution_count": 10
  },
  {
   "metadata": {},
   "cell_type": "markdown",
   "source": "### Outcome regression",
   "id": "f8acad543480c315"
  },
  {
   "metadata": {},
   "cell_type": "markdown",
   "source": "Let's analyze how confounders predict outcome",
   "id": "34957e45b4f108a4"
  },
  {
   "metadata": {
    "ExecuteTime": {
     "end_time": "2025-09-18T19:30:01.590923Z",
     "start_time": "2025-09-18T19:29:57.609427Z"
    }
   },
   "cell_type": "code",
   "source": [
    "# Outcome model fit\n",
    "outcome_model = eda.outcome_fit()\n",
    "\n",
    "# RMSE and MAE of regression model\n",
    "print(outcome_model.scores)"
   ],
   "id": "4e6305ae7446c781",
   "outputs": [
    {
     "name": "stdout",
     "output_type": "stream",
     "text": [
      "{'rmse': 3.644001419637874, 'mae': 2.9062081925949586}\n"
     ]
    }
   ],
   "execution_count": 11
  },
  {
   "metadata": {
    "ExecuteTime": {
     "end_time": "2025-09-18T19:30:01.847314Z",
     "start_time": "2025-09-18T19:30:01.609809Z"
    }
   },
   "cell_type": "code",
   "source": [
    "# 2) SHAP values - feature importance for outcome prediction from confounders\n",
    "shap_outcome_df = outcome_model.shap\n",
    "display(shap_outcome_df)"
   ],
   "id": "47461aeee30f4024",
   "outputs": [
    {
     "data": {
      "text/plain": [
       "             feature  shap_mean\n",
       "0       premium_user   0.001251\n",
       "1   spend_last_month  -0.001191\n",
       "2  avg_sessions_week  -0.001137\n",
       "3      tenure_months   0.000659\n",
       "4     urban_resident   0.000418"
      ],
      "text/html": [
       "<div>\n",
       "<style scoped>\n",
       "    .dataframe tbody tr th:only-of-type {\n",
       "        vertical-align: middle;\n",
       "    }\n",
       "\n",
       "    .dataframe tbody tr th {\n",
       "        vertical-align: top;\n",
       "    }\n",
       "\n",
       "    .dataframe thead th {\n",
       "        text-align: right;\n",
       "    }\n",
       "</style>\n",
       "<table border=\"1\" class=\"dataframe\">\n",
       "  <thead>\n",
       "    <tr style=\"text-align: right;\">\n",
       "      <th></th>\n",
       "      <th>feature</th>\n",
       "      <th>shap_mean</th>\n",
       "    </tr>\n",
       "  </thead>\n",
       "  <tbody>\n",
       "    <tr>\n",
       "      <th>0</th>\n",
       "      <td>premium_user</td>\n",
       "      <td>0.001251</td>\n",
       "    </tr>\n",
       "    <tr>\n",
       "      <th>1</th>\n",
       "      <td>spend_last_month</td>\n",
       "      <td>-0.001191</td>\n",
       "    </tr>\n",
       "    <tr>\n",
       "      <th>2</th>\n",
       "      <td>avg_sessions_week</td>\n",
       "      <td>-0.001137</td>\n",
       "    </tr>\n",
       "    <tr>\n",
       "      <th>3</th>\n",
       "      <td>tenure_months</td>\n",
       "      <td>0.000659</td>\n",
       "    </tr>\n",
       "    <tr>\n",
       "      <th>4</th>\n",
       "      <td>urban_resident</td>\n",
       "      <td>0.000418</td>\n",
       "    </tr>\n",
       "  </tbody>\n",
       "</table>\n",
       "</div>"
      ]
     },
     "metadata": {},
     "output_type": "display_data",
     "jetTransient": {
      "display_id": null
     }
    }
   ],
   "execution_count": 12
  },
  {
   "metadata": {},
   "cell_type": "markdown",
   "source": "# Inference",
   "id": "d758c21a760c23ae"
  },
  {
   "metadata": {},
   "cell_type": "markdown",
   "source": "Now time to estimate ATE with Double Machine Learning",
   "id": "c95f6ac049968704"
  },
  {
   "metadata": {
    "ExecuteTime": {
     "end_time": "2025-09-18T19:30:08.241125Z",
     "start_time": "2025-09-18T19:30:01.864186Z"
    }
   },
   "cell_type": "code",
   "source": [
    "from causalkit.inference.atte import dml_atte\n",
    "\n",
    "# Estimate Average Treatment Effect (ATT)\n",
    "att_result = dml_atte(causal_data, n_folds=3, confidence_level=0.95)"
   ],
   "id": "35e465e763fd52b0",
   "outputs": [],
   "execution_count": 13
  },
  {
   "metadata": {
    "ExecuteTime": {
     "end_time": "2025-09-18T19:30:08.259310Z",
     "start_time": "2025-09-18T19:30:08.257103Z"
    }
   },
   "cell_type": "code",
   "source": "att_result",
   "id": "217a2f52c34055cd",
   "outputs": [
    {
     "data": {
      "text/plain": [
       "{'coefficient': 1.2811744560034295,\n",
       " 'std_error': 0.11952472711806723,\n",
       " 'p_value': 0.0,\n",
       " 'confidence_interval': (1.0469102955900398, 1.5154386164168192),\n",
       " 'model': <causalkit.inference.estimators.irm.IRM at 0x15e557770>}"
      ]
     },
     "execution_count": 14,
     "metadata": {},
     "output_type": "execute_result"
    }
   ],
   "execution_count": 14
  },
  {
   "metadata": {},
   "cell_type": "markdown",
   "source": "Real ATT is 1.385",
   "id": "ad9dc37e7cab0f8a"
  },
  {
   "metadata": {
    "ExecuteTime": {
     "end_time": "2025-09-18T19:30:08.692258Z",
     "start_time": "2025-09-18T19:30:08.270768Z"
    }
   },
   "cell_type": "code",
   "source": [
    "from causalkit.inference.atte import dml_atte_source\n",
    "\n",
    "# Estimate Average Treatment Effect (ATT)\n",
    "att_result = dml_atte_source(causal_data, n_folds=3, confidence_level=0.95)\n",
    "att_result\n"
   ],
   "id": "9c332481f081d8c2",
   "outputs": [
    {
     "data": {
      "text/plain": [
       "{'coefficient': 1.3388422571411907,\n",
       " 'std_error': 0.09290445060655343,\n",
       " 'p_value': 4.415346870522402e-47,\n",
       " 'confidence_interval': (1.1567528799488656, 1.5209316343335157),\n",
       " 'model': <doubleml.irm.irm.DoubleMLIRM at 0x15e557cb0>}"
      ]
     },
     "execution_count": 15,
     "metadata": {},
     "output_type": "execute_result"
    }
   ],
   "execution_count": 15
  },
  {
   "metadata": {},
   "cell_type": "markdown",
   "source": "## Refutation",
   "id": "ff769bf09f75babf"
  },
  {
   "metadata": {
    "ExecuteTime": {
     "end_time": "2025-09-18T19:30:08.699328Z",
     "start_time": "2025-09-18T19:30:08.695053Z"
    }
   },
   "cell_type": "code",
   "source": [
    "# Import refutation utilities\n",
    "from causalkit.refutation import (\n",
    "    refute_placebo_outcome,\n",
    "    refute_placebo_treatment,\n",
    "    refute_subset,\n",
    "    refute_irm_orthogonality,\n",
    "    sensitivity_analysis,\n",
    "    sensitivity_analysis_set\n",
    ")"
   ],
   "id": "87b21477b4ecada6",
   "outputs": [],
   "execution_count": 16
  },
  {
   "metadata": {},
   "cell_type": "markdown",
   "source": "### Placebo",
   "id": "996bc2d37c8b662"
  },
  {
   "metadata": {},
   "cell_type": "markdown",
   "source": "Replacing outcome with dummy random variable must broke our model and effect will be near zero",
   "id": "4df3b27c0bd3a0d1"
  },
  {
   "metadata": {
    "ExecuteTime": {
     "end_time": "2025-09-18T19:30:09.453907Z",
     "start_time": "2025-09-18T19:30:08.709973Z"
    }
   },
   "cell_type": "code",
   "source": [
    "# Replacing an outcome with placebo\n",
    "att_placebo_outcome = refute_placebo_outcome(\n",
    "    dml_atte_source,\n",
    "    causal_data,\n",
    "    random_state=42\n",
    ")\n",
    "\n",
    "print(att_placebo_outcome)"
   ],
   "id": "3c7d6eb96d796fb1",
   "outputs": [
    {
     "name": "stdout",
     "output_type": "stream",
     "text": [
      "{'theta': -0.0012806280371837212, 'p_value': 0.7044798699944812}\n"
     ]
    }
   ],
   "execution_count": 17
  },
  {
   "metadata": {},
   "cell_type": "markdown",
   "source": "Replacing treatment with dummy random variable must broke our model and effect will be near zero",
   "id": "5a7ac9af93a6b56c"
  },
  {
   "metadata": {
    "ExecuteTime": {
     "end_time": "2025-09-18T19:30:10.250016Z",
     "start_time": "2025-09-18T19:30:09.461086Z"
    }
   },
   "cell_type": "code",
   "source": [
    "# Replacing treatment with placebo\n",
    "att_placebo_treatment = refute_placebo_treatment(\n",
    "    dml_atte_source,\n",
    "    causal_data,\n",
    "    random_state=42\n",
    ")\n",
    "\n",
    "print(att_placebo_treatment)"
   ],
   "id": "6fef7d57a019f6f2",
   "outputs": [
    {
     "name": "stdout",
     "output_type": "stream",
     "text": [
      "{'theta': -0.029196210635696572, 'p_value': 0.7102486963099138}\n"
     ]
    }
   ],
   "execution_count": 18
  },
  {
   "metadata": {},
   "cell_type": "markdown",
   "source": "Let's chanllege our dataset and romove random parts. Theta shoul be near estimated",
   "id": "6cae31589bf710fc"
  },
  {
   "metadata": {
    "ExecuteTime": {
     "end_time": "2025-09-18T19:30:11.228446Z",
     "start_time": "2025-09-18T19:30:10.268880Z"
    }
   },
   "cell_type": "code",
   "source": [
    "# Inference on subsets\n",
    "subset_fractions = [0.3, 0.5]\n",
    "\n",
    "att_subset_results = []\n",
    "for fraction in subset_fractions:\n",
    "    subset_result = refute_subset(\n",
    "        dml_atte_source,\n",
    "        causal_data,\n",
    "        fraction=fraction,\n",
    "        random_state=42\n",
    "    )\n",
    "    att_subset_results.append(subset_result)\n",
    "\n",
    "    print(f\" With {fraction*100:.0f}% subset: theta = {subset_result['theta']:.4f}, p_value = {subset_result['p_value']:.4f}\")"
   ],
   "id": "29b242f7e376eb7f",
   "outputs": [
    {
     "name": "stdout",
     "output_type": "stream",
     "text": [
      " With 30% subset: theta = 1.1100, p_value = 0.0000\n",
      " With 50% subset: theta = 1.4470, p_value = 0.0000\n"
     ]
    }
   ],
   "execution_count": 19
  },
  {
   "metadata": {},
   "cell_type": "markdown",
   "source": "### Orthogonality",
   "id": "bb46770c75a2c98a"
  },
  {
   "metadata": {},
   "cell_type": "markdown",
   "source": [
    "Orthogonality tests validate whether our ATT estimator is properly specified. We will inspect:\n",
    "- Out-of-sample (OOS) moment check;\n",
    "- ATT-specific orthogonality derivatives (m0 and g only);\n",
    "- Influence diagnostics;\n",
    "- ATT overlap diagnostics and trim-sensitivity near m→1 (controls);\n",
    "- Trimming info and overall diagnostic conditions."
   ],
   "id": "24c78ec51000b0ac"
  },
  {
   "metadata": {
    "ExecuteTime": {
     "end_time": "2025-09-18T19:32:42.468289Z",
     "start_time": "2025-09-18T19:30:11.244644Z"
    }
   },
   "cell_type": "code",
   "source": "att_ortho_check = refute_irm_orthogonality(dml_atte, causal_data, target='ATTE')",
   "id": "e738fa118306d74",
   "outputs": [
    {
     "name": "stderr",
     "output_type": "stream",
     "text": [
      "/var/folders/m0/gys_jqqj44n801p04bgv_ct00000gn/T/ipykernel_28896/3020675057.py:1: DeprecationWarning: 'target' is deprecated; use 'score' ('ATE'|'ATTE').\n",
      "  att_ortho_check = refute_irm_orthogonality(dml_att, causal_data, target='ATTE')\n",
      "/var/folders/m0/gys_jqqj44n801p04bgv_ct00000gn/T/ipykernel_28896/3020675057.py:1: DeprecationWarning: 'clip_eps' is deprecated; use 'trimming_threshold'.\n",
      "  att_ortho_check = refute_irm_orthogonality(dml_att, causal_data, target='ATTE')\n"
     ]
    }
   ],
   "execution_count": 20
  },
  {
   "metadata": {},
   "cell_type": "markdown",
   "source": "### 1. Out-of-sample moment check",
   "id": "a358140b43082d08"
  },
  {
   "metadata": {
    "ExecuteTime": {
     "end_time": "2025-09-18T19:32:42.528007Z",
     "start_time": "2025-09-18T19:32:42.523819Z"
    }
   },
   "cell_type": "code",
   "source": [
    "print(\"\\n--- 1. Out-of-Sample Moment Check ---\")\n",
    "oos_test = att_ortho_check['oos_moment_test']\n",
    "print(f\"T-statistic: {oos_test['tstat']:.4f}\")\n",
    "print(f\"P-value: {oos_test['pvalue']:.4f}\")\n",
    "print(f\"Interpretation: {oos_test['interpretation']}\")\n",
    "print(\"\\nFold-wise results:\")\n",
    "display(oos_test['fold_results'])"
   ],
   "id": "ee0477a373ba7c63",
   "outputs": [
    {
     "name": "stdout",
     "output_type": "stream",
     "text": [
      "\n",
      "--- 1. Out-of-Sample Moment Check ---\n",
      "T-statistic: -0.3333\n",
      "P-value: 0.7389\n",
      "Interpretation: Should be ≈ 0 if moment condition holds\n",
      "\n",
      "Fold-wise results:\n"
     ]
    },
    {
     "data": {
      "text/plain": [
       "   fold     n  psi_mean     psi_var\n",
       "0     0  2500  0.161032   90.556348\n",
       "1     1  2500 -0.497376  393.743965\n",
       "2     2  2500  0.230331   89.496856\n",
       "3     3  2500 -0.065950   91.623263"
      ],
      "text/html": [
       "<div>\n",
       "<style scoped>\n",
       "    .dataframe tbody tr th:only-of-type {\n",
       "        vertical-align: middle;\n",
       "    }\n",
       "\n",
       "    .dataframe tbody tr th {\n",
       "        vertical-align: top;\n",
       "    }\n",
       "\n",
       "    .dataframe thead th {\n",
       "        text-align: right;\n",
       "    }\n",
       "</style>\n",
       "<table border=\"1\" class=\"dataframe\">\n",
       "  <thead>\n",
       "    <tr style=\"text-align: right;\">\n",
       "      <th></th>\n",
       "      <th>fold</th>\n",
       "      <th>n</th>\n",
       "      <th>psi_mean</th>\n",
       "      <th>psi_var</th>\n",
       "    </tr>\n",
       "  </thead>\n",
       "  <tbody>\n",
       "    <tr>\n",
       "      <th>0</th>\n",
       "      <td>0</td>\n",
       "      <td>2500</td>\n",
       "      <td>0.161032</td>\n",
       "      <td>90.556348</td>\n",
       "    </tr>\n",
       "    <tr>\n",
       "      <th>1</th>\n",
       "      <td>1</td>\n",
       "      <td>2500</td>\n",
       "      <td>-0.497376</td>\n",
       "      <td>393.743965</td>\n",
       "    </tr>\n",
       "    <tr>\n",
       "      <th>2</th>\n",
       "      <td>2</td>\n",
       "      <td>2500</td>\n",
       "      <td>0.230331</td>\n",
       "      <td>89.496856</td>\n",
       "    </tr>\n",
       "    <tr>\n",
       "      <th>3</th>\n",
       "      <td>3</td>\n",
       "      <td>2500</td>\n",
       "      <td>-0.065950</td>\n",
       "      <td>91.623263</td>\n",
       "    </tr>\n",
       "  </tbody>\n",
       "</table>\n",
       "</div>"
      ]
     },
     "metadata": {},
     "output_type": "display_data",
     "jetTransient": {
      "display_id": null
     }
    }
   ],
   "execution_count": 21
  },
  {
   "metadata": {},
   "cell_type": "markdown",
   "source": "psi_mean is expected to be near zero on every fold if the moment condition holds.",
   "id": "e30b060cc4e83cb"
  },
  {
   "metadata": {},
   "cell_type": "markdown",
   "source": "### 2. Orthogonality derivatives (ATT)",
   "id": "8ce70d6ef915d377"
  },
  {
   "metadata": {
    "ExecuteTime": {
     "end_time": "2025-09-18T19:32:42.573793Z",
     "start_time": "2025-09-18T19:32:42.558075Z"
    }
   },
   "cell_type": "code",
   "source": [
    "print(\"\\n--- 2. Orthogonality (Gateaux Derivative) Tests — ATT ---\")\n",
    "ortho_derivs = att_ortho_check['orthogonality_derivatives']\n",
    "print(f\"Interpretation: {ortho_derivs['interpretation']}\")\n",
    "\n",
    "print(\"\\nFull sample derivatives:\")\n",
    "display(ortho_derivs['full_sample'])\n",
    "\n",
    "print(\"\\nTrimmed sample derivatives:\")\n",
    "display(ortho_derivs['trimmed_sample'])\n",
    "\n",
    "if len(ortho_derivs['problematic_full']) > 0:\n",
    "    print(\"\\n\\u26A0 PROBLEMATIC derivatives (full sample):\")\n",
    "    display(ortho_derivs['problematic_full'])\n",
    "else:\n",
    "    print(\"\\n\\u2713 No problematic derivatives in full sample\")\n",
    "\n",
    "if len(ortho_derivs['problematic_trimmed']) > 0:\n",
    "    print(\"\\n\\u26A0 PROBLEMATIC derivatives (trimmed sample):\")\n",
    "    display(ortho_derivs['problematic_trimmed'])\n",
    "else:\n",
    "    print(\"\\n\\u2713 No problematic derivatives in trimmed sample\")"
   ],
   "id": "f4a2d8d034cf1df5",
   "outputs": [
    {
     "name": "stdout",
     "output_type": "stream",
     "text": [
      "\n",
      "--- 2. Orthogonality (Gateaux Derivative) Tests — ATT ---\n",
      "Interpretation: ATTE: check g0 & m only; large |t| (>2) => calibration issues\n",
      "\n",
      "Full sample derivatives:\n"
     ]
    },
    {
     "data": {
      "text/plain": [
       "   basis  d_g1  se_g1  t_g1      d_g0     se_g0      t_g0       d_m      se_m  \\\n",
       "0      0   0.0    0.0   0.0  0.071722  0.028637  2.504561 -3.544335  3.799963   \n",
       "1      1   0.0    0.0   0.0  0.038682  0.038963  0.992797 -7.964437  8.432958   \n",
       "2      2   0.0    0.0   0.0  0.042164  0.038231  1.102877 -6.935440  7.420589   \n",
       "3      3   0.0    0.0   0.0  0.052754  0.029836  1.768112 -3.198707  3.665548   \n",
       "4      4   0.0    0.0   0.0  0.025439  0.038231  0.665406 -6.487625  6.551067   \n",
       "5      5   0.0    0.0   0.0  0.006936  0.026899  0.257848 -2.740073  3.102471   \n",
       "\n",
       "        t_m      d_m0     se_m0      t_m0       d_g      se_g       t_g  d_m1  \\\n",
       "0 -0.932729  0.071722  0.028637  2.504561 -3.544335  3.799963 -0.932729   0.0   \n",
       "1 -0.944442  0.038682  0.038963  0.992797 -7.964437  8.432958 -0.944442   0.0   \n",
       "2 -0.934621  0.042164  0.038231  1.102877 -6.935440  7.420589 -0.934621   0.0   \n",
       "3 -0.872641  0.052754  0.029836  1.768112 -3.198707  3.665548 -0.872641   0.0   \n",
       "4 -0.990316  0.025439  0.038231  0.665406 -6.487625  6.551067 -0.990316   0.0   \n",
       "5 -0.883191  0.006936  0.026899  0.257848 -2.740073  3.102471 -0.883191   0.0   \n",
       "\n",
       "   se_m1  t_m1  \n",
       "0    0.0   0.0  \n",
       "1    0.0   0.0  \n",
       "2    0.0   0.0  \n",
       "3    0.0   0.0  \n",
       "4    0.0   0.0  \n",
       "5    0.0   0.0  "
      ],
      "text/html": [
       "<div>\n",
       "<style scoped>\n",
       "    .dataframe tbody tr th:only-of-type {\n",
       "        vertical-align: middle;\n",
       "    }\n",
       "\n",
       "    .dataframe tbody tr th {\n",
       "        vertical-align: top;\n",
       "    }\n",
       "\n",
       "    .dataframe thead th {\n",
       "        text-align: right;\n",
       "    }\n",
       "</style>\n",
       "<table border=\"1\" class=\"dataframe\">\n",
       "  <thead>\n",
       "    <tr style=\"text-align: right;\">\n",
       "      <th></th>\n",
       "      <th>basis</th>\n",
       "      <th>d_g1</th>\n",
       "      <th>se_g1</th>\n",
       "      <th>t_g1</th>\n",
       "      <th>d_g0</th>\n",
       "      <th>se_g0</th>\n",
       "      <th>t_g0</th>\n",
       "      <th>d_m</th>\n",
       "      <th>se_m</th>\n",
       "      <th>t_m</th>\n",
       "      <th>d_m0</th>\n",
       "      <th>se_m0</th>\n",
       "      <th>t_m0</th>\n",
       "      <th>d_g</th>\n",
       "      <th>se_g</th>\n",
       "      <th>t_g</th>\n",
       "      <th>d_m1</th>\n",
       "      <th>se_m1</th>\n",
       "      <th>t_m1</th>\n",
       "    </tr>\n",
       "  </thead>\n",
       "  <tbody>\n",
       "    <tr>\n",
       "      <th>0</th>\n",
       "      <td>0</td>\n",
       "      <td>0.0</td>\n",
       "      <td>0.0</td>\n",
       "      <td>0.0</td>\n",
       "      <td>0.071722</td>\n",
       "      <td>0.028637</td>\n",
       "      <td>2.504561</td>\n",
       "      <td>-3.544335</td>\n",
       "      <td>3.799963</td>\n",
       "      <td>-0.932729</td>\n",
       "      <td>0.071722</td>\n",
       "      <td>0.028637</td>\n",
       "      <td>2.504561</td>\n",
       "      <td>-3.544335</td>\n",
       "      <td>3.799963</td>\n",
       "      <td>-0.932729</td>\n",
       "      <td>0.0</td>\n",
       "      <td>0.0</td>\n",
       "      <td>0.0</td>\n",
       "    </tr>\n",
       "    <tr>\n",
       "      <th>1</th>\n",
       "      <td>1</td>\n",
       "      <td>0.0</td>\n",
       "      <td>0.0</td>\n",
       "      <td>0.0</td>\n",
       "      <td>0.038682</td>\n",
       "      <td>0.038963</td>\n",
       "      <td>0.992797</td>\n",
       "      <td>-7.964437</td>\n",
       "      <td>8.432958</td>\n",
       "      <td>-0.944442</td>\n",
       "      <td>0.038682</td>\n",
       "      <td>0.038963</td>\n",
       "      <td>0.992797</td>\n",
       "      <td>-7.964437</td>\n",
       "      <td>8.432958</td>\n",
       "      <td>-0.944442</td>\n",
       "      <td>0.0</td>\n",
       "      <td>0.0</td>\n",
       "      <td>0.0</td>\n",
       "    </tr>\n",
       "    <tr>\n",
       "      <th>2</th>\n",
       "      <td>2</td>\n",
       "      <td>0.0</td>\n",
       "      <td>0.0</td>\n",
       "      <td>0.0</td>\n",
       "      <td>0.042164</td>\n",
       "      <td>0.038231</td>\n",
       "      <td>1.102877</td>\n",
       "      <td>-6.935440</td>\n",
       "      <td>7.420589</td>\n",
       "      <td>-0.934621</td>\n",
       "      <td>0.042164</td>\n",
       "      <td>0.038231</td>\n",
       "      <td>1.102877</td>\n",
       "      <td>-6.935440</td>\n",
       "      <td>7.420589</td>\n",
       "      <td>-0.934621</td>\n",
       "      <td>0.0</td>\n",
       "      <td>0.0</td>\n",
       "      <td>0.0</td>\n",
       "    </tr>\n",
       "    <tr>\n",
       "      <th>3</th>\n",
       "      <td>3</td>\n",
       "      <td>0.0</td>\n",
       "      <td>0.0</td>\n",
       "      <td>0.0</td>\n",
       "      <td>0.052754</td>\n",
       "      <td>0.029836</td>\n",
       "      <td>1.768112</td>\n",
       "      <td>-3.198707</td>\n",
       "      <td>3.665548</td>\n",
       "      <td>-0.872641</td>\n",
       "      <td>0.052754</td>\n",
       "      <td>0.029836</td>\n",
       "      <td>1.768112</td>\n",
       "      <td>-3.198707</td>\n",
       "      <td>3.665548</td>\n",
       "      <td>-0.872641</td>\n",
       "      <td>0.0</td>\n",
       "      <td>0.0</td>\n",
       "      <td>0.0</td>\n",
       "    </tr>\n",
       "    <tr>\n",
       "      <th>4</th>\n",
       "      <td>4</td>\n",
       "      <td>0.0</td>\n",
       "      <td>0.0</td>\n",
       "      <td>0.0</td>\n",
       "      <td>0.025439</td>\n",
       "      <td>0.038231</td>\n",
       "      <td>0.665406</td>\n",
       "      <td>-6.487625</td>\n",
       "      <td>6.551067</td>\n",
       "      <td>-0.990316</td>\n",
       "      <td>0.025439</td>\n",
       "      <td>0.038231</td>\n",
       "      <td>0.665406</td>\n",
       "      <td>-6.487625</td>\n",
       "      <td>6.551067</td>\n",
       "      <td>-0.990316</td>\n",
       "      <td>0.0</td>\n",
       "      <td>0.0</td>\n",
       "      <td>0.0</td>\n",
       "    </tr>\n",
       "    <tr>\n",
       "      <th>5</th>\n",
       "      <td>5</td>\n",
       "      <td>0.0</td>\n",
       "      <td>0.0</td>\n",
       "      <td>0.0</td>\n",
       "      <td>0.006936</td>\n",
       "      <td>0.026899</td>\n",
       "      <td>0.257848</td>\n",
       "      <td>-2.740073</td>\n",
       "      <td>3.102471</td>\n",
       "      <td>-0.883191</td>\n",
       "      <td>0.006936</td>\n",
       "      <td>0.026899</td>\n",
       "      <td>0.257848</td>\n",
       "      <td>-2.740073</td>\n",
       "      <td>3.102471</td>\n",
       "      <td>-0.883191</td>\n",
       "      <td>0.0</td>\n",
       "      <td>0.0</td>\n",
       "      <td>0.0</td>\n",
       "    </tr>\n",
       "  </tbody>\n",
       "</table>\n",
       "</div>"
      ]
     },
     "metadata": {},
     "output_type": "display_data",
     "jetTransient": {
      "display_id": null
     }
    },
    {
     "name": "stdout",
     "output_type": "stream",
     "text": [
      "\n",
      "Trimmed sample derivatives:\n"
     ]
    },
    {
     "data": {
      "text/plain": [
       "   basis  d_g1  se_g1  t_g1      d_g0     se_g0      t_g0       d_m      se_m  \\\n",
       "0      0   0.0    0.0   0.0  0.071965  0.028643  2.512439 -3.539362  3.801055   \n",
       "1      1   0.0    0.0   0.0  0.038132  0.038969  0.978517 -7.966467  8.435382   \n",
       "2      2   0.0    0.0   0.0  0.042828  0.038237  1.120084 -6.949009  7.422719   \n",
       "3      3   0.0    0.0   0.0  0.052521  0.029843  1.759913 -3.207026  3.666596   \n",
       "4      4   0.0    0.0   0.0  0.025984  0.038239  0.679505 -6.492960  6.552954   \n",
       "5      5   0.0    0.0   0.0  0.007209  0.026906  0.267918 -2.748894  3.103358   \n",
       "\n",
       "        t_m      d_m0     se_m0      t_m0       d_g      se_g       t_g  d_m1  \\\n",
       "0 -0.931153  0.071965  0.028643  2.512439 -3.539362  3.801055 -0.931153   0.0   \n",
       "1 -0.944411  0.038132  0.038969  0.978517 -7.966467  8.435382 -0.944411   0.0   \n",
       "2 -0.936181  0.042828  0.038237  1.120084 -6.949009  7.422719 -0.936181   0.0   \n",
       "3 -0.874660  0.052521  0.029843  1.759913 -3.207026  3.666596 -0.874660   0.0   \n",
       "4 -0.990845  0.025984  0.038239  0.679505 -6.492960  6.552954 -0.990845   0.0   \n",
       "5 -0.885780  0.007209  0.026906  0.267918 -2.748894  3.103358 -0.885780   0.0   \n",
       "\n",
       "   se_m1  t_m1  \n",
       "0    0.0   0.0  \n",
       "1    0.0   0.0  \n",
       "2    0.0   0.0  \n",
       "3    0.0   0.0  \n",
       "4    0.0   0.0  \n",
       "5    0.0   0.0  "
      ],
      "text/html": [
       "<div>\n",
       "<style scoped>\n",
       "    .dataframe tbody tr th:only-of-type {\n",
       "        vertical-align: middle;\n",
       "    }\n",
       "\n",
       "    .dataframe tbody tr th {\n",
       "        vertical-align: top;\n",
       "    }\n",
       "\n",
       "    .dataframe thead th {\n",
       "        text-align: right;\n",
       "    }\n",
       "</style>\n",
       "<table border=\"1\" class=\"dataframe\">\n",
       "  <thead>\n",
       "    <tr style=\"text-align: right;\">\n",
       "      <th></th>\n",
       "      <th>basis</th>\n",
       "      <th>d_g1</th>\n",
       "      <th>se_g1</th>\n",
       "      <th>t_g1</th>\n",
       "      <th>d_g0</th>\n",
       "      <th>se_g0</th>\n",
       "      <th>t_g0</th>\n",
       "      <th>d_m</th>\n",
       "      <th>se_m</th>\n",
       "      <th>t_m</th>\n",
       "      <th>d_m0</th>\n",
       "      <th>se_m0</th>\n",
       "      <th>t_m0</th>\n",
       "      <th>d_g</th>\n",
       "      <th>se_g</th>\n",
       "      <th>t_g</th>\n",
       "      <th>d_m1</th>\n",
       "      <th>se_m1</th>\n",
       "      <th>t_m1</th>\n",
       "    </tr>\n",
       "  </thead>\n",
       "  <tbody>\n",
       "    <tr>\n",
       "      <th>0</th>\n",
       "      <td>0</td>\n",
       "      <td>0.0</td>\n",
       "      <td>0.0</td>\n",
       "      <td>0.0</td>\n",
       "      <td>0.071965</td>\n",
       "      <td>0.028643</td>\n",
       "      <td>2.512439</td>\n",
       "      <td>-3.539362</td>\n",
       "      <td>3.801055</td>\n",
       "      <td>-0.931153</td>\n",
       "      <td>0.071965</td>\n",
       "      <td>0.028643</td>\n",
       "      <td>2.512439</td>\n",
       "      <td>-3.539362</td>\n",
       "      <td>3.801055</td>\n",
       "      <td>-0.931153</td>\n",
       "      <td>0.0</td>\n",
       "      <td>0.0</td>\n",
       "      <td>0.0</td>\n",
       "    </tr>\n",
       "    <tr>\n",
       "      <th>1</th>\n",
       "      <td>1</td>\n",
       "      <td>0.0</td>\n",
       "      <td>0.0</td>\n",
       "      <td>0.0</td>\n",
       "      <td>0.038132</td>\n",
       "      <td>0.038969</td>\n",
       "      <td>0.978517</td>\n",
       "      <td>-7.966467</td>\n",
       "      <td>8.435382</td>\n",
       "      <td>-0.944411</td>\n",
       "      <td>0.038132</td>\n",
       "      <td>0.038969</td>\n",
       "      <td>0.978517</td>\n",
       "      <td>-7.966467</td>\n",
       "      <td>8.435382</td>\n",
       "      <td>-0.944411</td>\n",
       "      <td>0.0</td>\n",
       "      <td>0.0</td>\n",
       "      <td>0.0</td>\n",
       "    </tr>\n",
       "    <tr>\n",
       "      <th>2</th>\n",
       "      <td>2</td>\n",
       "      <td>0.0</td>\n",
       "      <td>0.0</td>\n",
       "      <td>0.0</td>\n",
       "      <td>0.042828</td>\n",
       "      <td>0.038237</td>\n",
       "      <td>1.120084</td>\n",
       "      <td>-6.949009</td>\n",
       "      <td>7.422719</td>\n",
       "      <td>-0.936181</td>\n",
       "      <td>0.042828</td>\n",
       "      <td>0.038237</td>\n",
       "      <td>1.120084</td>\n",
       "      <td>-6.949009</td>\n",
       "      <td>7.422719</td>\n",
       "      <td>-0.936181</td>\n",
       "      <td>0.0</td>\n",
       "      <td>0.0</td>\n",
       "      <td>0.0</td>\n",
       "    </tr>\n",
       "    <tr>\n",
       "      <th>3</th>\n",
       "      <td>3</td>\n",
       "      <td>0.0</td>\n",
       "      <td>0.0</td>\n",
       "      <td>0.0</td>\n",
       "      <td>0.052521</td>\n",
       "      <td>0.029843</td>\n",
       "      <td>1.759913</td>\n",
       "      <td>-3.207026</td>\n",
       "      <td>3.666596</td>\n",
       "      <td>-0.874660</td>\n",
       "      <td>0.052521</td>\n",
       "      <td>0.029843</td>\n",
       "      <td>1.759913</td>\n",
       "      <td>-3.207026</td>\n",
       "      <td>3.666596</td>\n",
       "      <td>-0.874660</td>\n",
       "      <td>0.0</td>\n",
       "      <td>0.0</td>\n",
       "      <td>0.0</td>\n",
       "    </tr>\n",
       "    <tr>\n",
       "      <th>4</th>\n",
       "      <td>4</td>\n",
       "      <td>0.0</td>\n",
       "      <td>0.0</td>\n",
       "      <td>0.0</td>\n",
       "      <td>0.025984</td>\n",
       "      <td>0.038239</td>\n",
       "      <td>0.679505</td>\n",
       "      <td>-6.492960</td>\n",
       "      <td>6.552954</td>\n",
       "      <td>-0.990845</td>\n",
       "      <td>0.025984</td>\n",
       "      <td>0.038239</td>\n",
       "      <td>0.679505</td>\n",
       "      <td>-6.492960</td>\n",
       "      <td>6.552954</td>\n",
       "      <td>-0.990845</td>\n",
       "      <td>0.0</td>\n",
       "      <td>0.0</td>\n",
       "      <td>0.0</td>\n",
       "    </tr>\n",
       "    <tr>\n",
       "      <th>5</th>\n",
       "      <td>5</td>\n",
       "      <td>0.0</td>\n",
       "      <td>0.0</td>\n",
       "      <td>0.0</td>\n",
       "      <td>0.007209</td>\n",
       "      <td>0.026906</td>\n",
       "      <td>0.267918</td>\n",
       "      <td>-2.748894</td>\n",
       "      <td>3.103358</td>\n",
       "      <td>-0.885780</td>\n",
       "      <td>0.007209</td>\n",
       "      <td>0.026906</td>\n",
       "      <td>0.267918</td>\n",
       "      <td>-2.748894</td>\n",
       "      <td>3.103358</td>\n",
       "      <td>-0.885780</td>\n",
       "      <td>0.0</td>\n",
       "      <td>0.0</td>\n",
       "      <td>0.0</td>\n",
       "    </tr>\n",
       "  </tbody>\n",
       "</table>\n",
       "</div>"
      ]
     },
     "metadata": {},
     "output_type": "display_data",
     "jetTransient": {
      "display_id": null
     }
    },
    {
     "name": "stdout",
     "output_type": "stream",
     "text": [
      "\n",
      "⚠ PROBLEMATIC derivatives (full sample):\n"
     ]
    },
    {
     "data": {
      "text/plain": [
       "   basis  d_g1  se_g1  t_g1      d_g0     se_g0      t_g0       d_m      se_m  \\\n",
       "0      0   0.0    0.0   0.0  0.071722  0.028637  2.504561 -3.544335  3.799963   \n",
       "\n",
       "        t_m  \n",
       "0 -0.932729  "
      ],
      "text/html": [
       "<div>\n",
       "<style scoped>\n",
       "    .dataframe tbody tr th:only-of-type {\n",
       "        vertical-align: middle;\n",
       "    }\n",
       "\n",
       "    .dataframe tbody tr th {\n",
       "        vertical-align: top;\n",
       "    }\n",
       "\n",
       "    .dataframe thead th {\n",
       "        text-align: right;\n",
       "    }\n",
       "</style>\n",
       "<table border=\"1\" class=\"dataframe\">\n",
       "  <thead>\n",
       "    <tr style=\"text-align: right;\">\n",
       "      <th></th>\n",
       "      <th>basis</th>\n",
       "      <th>d_g1</th>\n",
       "      <th>se_g1</th>\n",
       "      <th>t_g1</th>\n",
       "      <th>d_g0</th>\n",
       "      <th>se_g0</th>\n",
       "      <th>t_g0</th>\n",
       "      <th>d_m</th>\n",
       "      <th>se_m</th>\n",
       "      <th>t_m</th>\n",
       "    </tr>\n",
       "  </thead>\n",
       "  <tbody>\n",
       "    <tr>\n",
       "      <th>0</th>\n",
       "      <td>0</td>\n",
       "      <td>0.0</td>\n",
       "      <td>0.0</td>\n",
       "      <td>0.0</td>\n",
       "      <td>0.071722</td>\n",
       "      <td>0.028637</td>\n",
       "      <td>2.504561</td>\n",
       "      <td>-3.544335</td>\n",
       "      <td>3.799963</td>\n",
       "      <td>-0.932729</td>\n",
       "    </tr>\n",
       "  </tbody>\n",
       "</table>\n",
       "</div>"
      ]
     },
     "metadata": {},
     "output_type": "display_data",
     "jetTransient": {
      "display_id": null
     }
    },
    {
     "name": "stdout",
     "output_type": "stream",
     "text": [
      "\n",
      "⚠ PROBLEMATIC derivatives (trimmed sample):\n"
     ]
    },
    {
     "data": {
      "text/plain": [
       "   basis  d_g1  se_g1  t_g1      d_g0     se_g0      t_g0       d_m      se_m  \\\n",
       "0      0   0.0    0.0   0.0  0.071965  0.028643  2.512439 -3.539362  3.801055   \n",
       "\n",
       "        t_m  \n",
       "0 -0.931153  "
      ],
      "text/html": [
       "<div>\n",
       "<style scoped>\n",
       "    .dataframe tbody tr th:only-of-type {\n",
       "        vertical-align: middle;\n",
       "    }\n",
       "\n",
       "    .dataframe tbody tr th {\n",
       "        vertical-align: top;\n",
       "    }\n",
       "\n",
       "    .dataframe thead th {\n",
       "        text-align: right;\n",
       "    }\n",
       "</style>\n",
       "<table border=\"1\" class=\"dataframe\">\n",
       "  <thead>\n",
       "    <tr style=\"text-align: right;\">\n",
       "      <th></th>\n",
       "      <th>basis</th>\n",
       "      <th>d_g1</th>\n",
       "      <th>se_g1</th>\n",
       "      <th>t_g1</th>\n",
       "      <th>d_g0</th>\n",
       "      <th>se_g0</th>\n",
       "      <th>t_g0</th>\n",
       "      <th>d_m</th>\n",
       "      <th>se_m</th>\n",
       "      <th>t_m</th>\n",
       "    </tr>\n",
       "  </thead>\n",
       "  <tbody>\n",
       "    <tr>\n",
       "      <th>0</th>\n",
       "      <td>0</td>\n",
       "      <td>0.0</td>\n",
       "      <td>0.0</td>\n",
       "      <td>0.0</td>\n",
       "      <td>0.071965</td>\n",
       "      <td>0.028643</td>\n",
       "      <td>2.512439</td>\n",
       "      <td>-3.539362</td>\n",
       "      <td>3.801055</td>\n",
       "      <td>-0.931153</td>\n",
       "    </tr>\n",
       "  </tbody>\n",
       "</table>\n",
       "</div>"
      ]
     },
     "metadata": {},
     "output_type": "display_data",
     "jetTransient": {
      "display_id": null
     }
    }
   ],
   "execution_count": 22
  },
  {
   "metadata": {},
   "cell_type": "markdown",
   "source": "For ATT, focus on t-statistics for m0 and g. Large absolute t-values (|t| > 2) suggest calibration issues.",
   "id": "58fbb876eb9f60de"
  },
  {
   "metadata": {},
   "cell_type": "markdown",
   "source": "### 3. Influence diagnostics",
   "id": "d6c3e3cb4c68d272"
  },
  {
   "metadata": {
    "ExecuteTime": {
     "end_time": "2025-09-18T19:32:42.690087Z",
     "start_time": "2025-09-18T19:32:42.684664Z"
    }
   },
   "cell_type": "code",
   "source": [
    "print(\"\\n--- 3. Influence Diagnostics ---\")\n",
    "influence = att_ortho_check['influence_diagnostics']\n",
    "print(f\"Interpretation: {influence['interpretation']}\")\n",
    "\n",
    "print(\"\\nFull sample influence metrics:\")\n",
    "print(f\"  Plugin SE: {influence['full_sample']['se_plugin']:.4f}\")\n",
    "print(f\"  Kurtosis: {influence['full_sample']['kurtosis']:.2f}\")\n",
    "print(f\"  P99/Median ratio: {influence['full_sample']['p99_over_med']:.2f}\")\n",
    "\n",
    "print(\"\\nTrimmed sample influence metrics:\")\n",
    "print(f\"  Plugin SE: {influence['trimmed_sample']['se_plugin']:.4f}\")\n",
    "print(f\"  Kurtosis: {influence['trimmed_sample']['kurtosis']:.2f}\")\n",
    "print(f\"  P99/Median ratio: {influence['trimmed_sample']['p99_over_med']:.2f}\")\n",
    "\n",
    "print(\"\\nTop influential observations (full sample):\")\n",
    "display(influence['full_sample']['top_influential'])"
   ],
   "id": "c3278fe79e21cdaa",
   "outputs": [
    {
     "name": "stdout",
     "output_type": "stream",
     "text": [
      "\n",
      "--- 3. Influence Diagnostics ---\n",
      "Interpretation: Heavy tails or extreme kurtosis suggest instability\n",
      "\n",
      "Full sample influence metrics:\n",
      "  Plugin SE: 0.1290\n",
      "  Kurtosis: 2102.94\n",
      "  P99/Median ratio: 8.99\n",
      "\n",
      "Trimmed sample influence metrics:\n",
      "  Plugin SE: 0.1290\n",
      "  Kurtosis: 2099.23\n",
      "  P99/Median ratio: 8.95\n",
      "\n",
      "Top influential observations (full sample):\n"
     ]
    },
    {
     "data": {
      "text/plain": [
       "      i         psi         m  res_t      res_c\n",
       "0  5169 -872.753752  0.976292    0.0   7.356217\n",
       "1  8900  145.827351  0.934003   -0.0  -3.576620\n",
       "2  9615 -141.800862  0.863140    0.0   7.804205\n",
       "3  3112  113.911280  0.901686   -0.0  -4.311016\n",
       "4  4330  104.788962  0.875907   -0.0  -5.153000\n",
       "5  9369  -98.128647  0.733857    0.0  12.352487\n",
       "6  6849   90.866796  0.827884   -0.0  -6.557095\n",
       "7   323   87.549304  0.926911   -0.0  -2.396184\n",
       "8  3694  -87.406904  0.819597    0.0   6.677937\n",
       "9  5325  -80.857573  0.729825    0.0  10.389672"
      ],
      "text/html": [
       "<div>\n",
       "<style scoped>\n",
       "    .dataframe tbody tr th:only-of-type {\n",
       "        vertical-align: middle;\n",
       "    }\n",
       "\n",
       "    .dataframe tbody tr th {\n",
       "        vertical-align: top;\n",
       "    }\n",
       "\n",
       "    .dataframe thead th {\n",
       "        text-align: right;\n",
       "    }\n",
       "</style>\n",
       "<table border=\"1\" class=\"dataframe\">\n",
       "  <thead>\n",
       "    <tr style=\"text-align: right;\">\n",
       "      <th></th>\n",
       "      <th>i</th>\n",
       "      <th>psi</th>\n",
       "      <th>m</th>\n",
       "      <th>res_t</th>\n",
       "      <th>res_c</th>\n",
       "    </tr>\n",
       "  </thead>\n",
       "  <tbody>\n",
       "    <tr>\n",
       "      <th>0</th>\n",
       "      <td>5169</td>\n",
       "      <td>-872.753752</td>\n",
       "      <td>0.976292</td>\n",
       "      <td>0.0</td>\n",
       "      <td>7.356217</td>\n",
       "    </tr>\n",
       "    <tr>\n",
       "      <th>1</th>\n",
       "      <td>8900</td>\n",
       "      <td>145.827351</td>\n",
       "      <td>0.934003</td>\n",
       "      <td>-0.0</td>\n",
       "      <td>-3.576620</td>\n",
       "    </tr>\n",
       "    <tr>\n",
       "      <th>2</th>\n",
       "      <td>9615</td>\n",
       "      <td>-141.800862</td>\n",
       "      <td>0.863140</td>\n",
       "      <td>0.0</td>\n",
       "      <td>7.804205</td>\n",
       "    </tr>\n",
       "    <tr>\n",
       "      <th>3</th>\n",
       "      <td>3112</td>\n",
       "      <td>113.911280</td>\n",
       "      <td>0.901686</td>\n",
       "      <td>-0.0</td>\n",
       "      <td>-4.311016</td>\n",
       "    </tr>\n",
       "    <tr>\n",
       "      <th>4</th>\n",
       "      <td>4330</td>\n",
       "      <td>104.788962</td>\n",
       "      <td>0.875907</td>\n",
       "      <td>-0.0</td>\n",
       "      <td>-5.153000</td>\n",
       "    </tr>\n",
       "    <tr>\n",
       "      <th>5</th>\n",
       "      <td>9369</td>\n",
       "      <td>-98.128647</td>\n",
       "      <td>0.733857</td>\n",
       "      <td>0.0</td>\n",
       "      <td>12.352487</td>\n",
       "    </tr>\n",
       "    <tr>\n",
       "      <th>6</th>\n",
       "      <td>6849</td>\n",
       "      <td>90.866796</td>\n",
       "      <td>0.827884</td>\n",
       "      <td>-0.0</td>\n",
       "      <td>-6.557095</td>\n",
       "    </tr>\n",
       "    <tr>\n",
       "      <th>7</th>\n",
       "      <td>323</td>\n",
       "      <td>87.549304</td>\n",
       "      <td>0.926911</td>\n",
       "      <td>-0.0</td>\n",
       "      <td>-2.396184</td>\n",
       "    </tr>\n",
       "    <tr>\n",
       "      <th>8</th>\n",
       "      <td>3694</td>\n",
       "      <td>-87.406904</td>\n",
       "      <td>0.819597</td>\n",
       "      <td>0.0</td>\n",
       "      <td>6.677937</td>\n",
       "    </tr>\n",
       "    <tr>\n",
       "      <th>9</th>\n",
       "      <td>5325</td>\n",
       "      <td>-80.857573</td>\n",
       "      <td>0.729825</td>\n",
       "      <td>0.0</td>\n",
       "      <td>10.389672</td>\n",
       "    </tr>\n",
       "  </tbody>\n",
       "</table>\n",
       "</div>"
      ]
     },
     "metadata": {},
     "output_type": "display_data",
     "jetTransient": {
      "display_id": null
     }
    }
   ],
   "execution_count": 23
  },
  {
   "metadata": {},
   "cell_type": "markdown",
   "source": "### 4. ATT overlap diagnostics and trim-sensitivity",
   "id": "3654166645506127"
  },
  {
   "metadata": {
    "ExecuteTime": {
     "end_time": "2025-09-18T19:32:42.793108Z",
     "start_time": "2025-09-18T19:32:42.786542Z"
    }
   },
   "cell_type": "code",
   "source": [
    "print(\"\\n--- ATT Overlap Diagnostics ---\")\n",
    "overlap = att_ortho_check['overlap_diagnostics']\n",
    "if overlap is not None:\n",
    "    display(overlap)\n",
    "else:\n",
    "    print(\"Overlap diagnostics not available.\")\n",
    "\n",
    "print(\"\\n--- ATT Trim-Sensitivity Curve ---\")\n",
    "robust = att_ortho_check['robustness']\n",
    "trim_curve = robust.get('trim_curve', None) if robust is not None else None\n",
    "if trim_curve is not None:\n",
    "    display(trim_curve)\n",
    "else:\n",
    "    print(\"Trim-sensitivity curve not available.\")"
   ],
   "id": "3d49bcea3837b7ac",
   "outputs": [
    {
     "name": "stdout",
     "output_type": "stream",
     "text": [
      "\n",
      "--- ATT Overlap Diagnostics ---\n"
     ]
    },
    {
     "data": {
      "text/plain": [
       "   threshold  pct_controls_with_m_ge_thr  pct_treated_with_m_le_1_minus_thr  \\\n",
       "0       0.95                    0.015316                           0.230481   \n",
       "1       0.97                    0.015316                           0.028810   \n",
       "2       0.98                    0.000000                           0.028810   \n",
       "3       0.99                    0.000000                           0.000000   \n",
       "\n",
       "   pct_controls_with_g_ge_thr  pct_treated_with_g_le_1_minus_thr  \n",
       "0                    0.015316                           0.230481  \n",
       "1                    0.015316                           0.028810  \n",
       "2                    0.000000                           0.028810  \n",
       "3                    0.000000                           0.000000  "
      ],
      "text/html": [
       "<div>\n",
       "<style scoped>\n",
       "    .dataframe tbody tr th:only-of-type {\n",
       "        vertical-align: middle;\n",
       "    }\n",
       "\n",
       "    .dataframe tbody tr th {\n",
       "        vertical-align: top;\n",
       "    }\n",
       "\n",
       "    .dataframe thead th {\n",
       "        text-align: right;\n",
       "    }\n",
       "</style>\n",
       "<table border=\"1\" class=\"dataframe\">\n",
       "  <thead>\n",
       "    <tr style=\"text-align: right;\">\n",
       "      <th></th>\n",
       "      <th>threshold</th>\n",
       "      <th>pct_controls_with_m_ge_thr</th>\n",
       "      <th>pct_treated_with_m_le_1_minus_thr</th>\n",
       "      <th>pct_controls_with_g_ge_thr</th>\n",
       "      <th>pct_treated_with_g_le_1_minus_thr</th>\n",
       "    </tr>\n",
       "  </thead>\n",
       "  <tbody>\n",
       "    <tr>\n",
       "      <th>0</th>\n",
       "      <td>0.95</td>\n",
       "      <td>0.015316</td>\n",
       "      <td>0.230481</td>\n",
       "      <td>0.015316</td>\n",
       "      <td>0.230481</td>\n",
       "    </tr>\n",
       "    <tr>\n",
       "      <th>1</th>\n",
       "      <td>0.97</td>\n",
       "      <td>0.015316</td>\n",
       "      <td>0.028810</td>\n",
       "      <td>0.015316</td>\n",
       "      <td>0.028810</td>\n",
       "    </tr>\n",
       "    <tr>\n",
       "      <th>2</th>\n",
       "      <td>0.98</td>\n",
       "      <td>0.000000</td>\n",
       "      <td>0.028810</td>\n",
       "      <td>0.000000</td>\n",
       "      <td>0.028810</td>\n",
       "    </tr>\n",
       "    <tr>\n",
       "      <th>3</th>\n",
       "      <td>0.99</td>\n",
       "      <td>0.000000</td>\n",
       "      <td>0.000000</td>\n",
       "      <td>0.000000</td>\n",
       "      <td>0.000000</td>\n",
       "    </tr>\n",
       "  </tbody>\n",
       "</table>\n",
       "</div>"
      ]
     },
     "metadata": {},
     "output_type": "display_data",
     "jetTransient": {
      "display_id": null
     }
    },
    {
     "name": "stdout",
     "output_type": "stream",
     "text": [
      "\n",
      "--- ATT Trim-Sensitivity Curve ---\n"
     ]
    },
    {
     "data": {
      "text/plain": [
       "    trim_threshold      n  pct_dropped     theta        se\n",
       "0         0.900000   9996         0.04  1.406195  0.103095\n",
       "1         0.908636   9997         0.03  1.351316  0.096496\n",
       "2         0.917273   9997         0.03  1.400847  0.098057\n",
       "3         0.925909   9997         0.03  1.301191  0.097339\n",
       "4         0.934545   9999         0.01  1.275482  0.106366\n",
       "5         0.943182   9999         0.01  1.361187  0.094541\n",
       "6         0.951818   9999         0.01  1.311377  0.110577\n",
       "7         0.960455   9999         0.01  1.363900  0.102087\n",
       "8         0.969091   9999         0.01  1.364416  0.102742\n",
       "9         0.977727  10000         0.00  1.253225  0.125716\n",
       "10        0.986364  10000         0.00  1.344956  0.128773\n",
       "11        0.995000  10000         0.00  1.269253  0.128606"
      ],
      "text/html": [
       "<div>\n",
       "<style scoped>\n",
       "    .dataframe tbody tr th:only-of-type {\n",
       "        vertical-align: middle;\n",
       "    }\n",
       "\n",
       "    .dataframe tbody tr th {\n",
       "        vertical-align: top;\n",
       "    }\n",
       "\n",
       "    .dataframe thead th {\n",
       "        text-align: right;\n",
       "    }\n",
       "</style>\n",
       "<table border=\"1\" class=\"dataframe\">\n",
       "  <thead>\n",
       "    <tr style=\"text-align: right;\">\n",
       "      <th></th>\n",
       "      <th>trim_threshold</th>\n",
       "      <th>n</th>\n",
       "      <th>pct_dropped</th>\n",
       "      <th>theta</th>\n",
       "      <th>se</th>\n",
       "    </tr>\n",
       "  </thead>\n",
       "  <tbody>\n",
       "    <tr>\n",
       "      <th>0</th>\n",
       "      <td>0.900000</td>\n",
       "      <td>9996</td>\n",
       "      <td>0.04</td>\n",
       "      <td>1.406195</td>\n",
       "      <td>0.103095</td>\n",
       "    </tr>\n",
       "    <tr>\n",
       "      <th>1</th>\n",
       "      <td>0.908636</td>\n",
       "      <td>9997</td>\n",
       "      <td>0.03</td>\n",
       "      <td>1.351316</td>\n",
       "      <td>0.096496</td>\n",
       "    </tr>\n",
       "    <tr>\n",
       "      <th>2</th>\n",
       "      <td>0.917273</td>\n",
       "      <td>9997</td>\n",
       "      <td>0.03</td>\n",
       "      <td>1.400847</td>\n",
       "      <td>0.098057</td>\n",
       "    </tr>\n",
       "    <tr>\n",
       "      <th>3</th>\n",
       "      <td>0.925909</td>\n",
       "      <td>9997</td>\n",
       "      <td>0.03</td>\n",
       "      <td>1.301191</td>\n",
       "      <td>0.097339</td>\n",
       "    </tr>\n",
       "    <tr>\n",
       "      <th>4</th>\n",
       "      <td>0.934545</td>\n",
       "      <td>9999</td>\n",
       "      <td>0.01</td>\n",
       "      <td>1.275482</td>\n",
       "      <td>0.106366</td>\n",
       "    </tr>\n",
       "    <tr>\n",
       "      <th>5</th>\n",
       "      <td>0.943182</td>\n",
       "      <td>9999</td>\n",
       "      <td>0.01</td>\n",
       "      <td>1.361187</td>\n",
       "      <td>0.094541</td>\n",
       "    </tr>\n",
       "    <tr>\n",
       "      <th>6</th>\n",
       "      <td>0.951818</td>\n",
       "      <td>9999</td>\n",
       "      <td>0.01</td>\n",
       "      <td>1.311377</td>\n",
       "      <td>0.110577</td>\n",
       "    </tr>\n",
       "    <tr>\n",
       "      <th>7</th>\n",
       "      <td>0.960455</td>\n",
       "      <td>9999</td>\n",
       "      <td>0.01</td>\n",
       "      <td>1.363900</td>\n",
       "      <td>0.102087</td>\n",
       "    </tr>\n",
       "    <tr>\n",
       "      <th>8</th>\n",
       "      <td>0.969091</td>\n",
       "      <td>9999</td>\n",
       "      <td>0.01</td>\n",
       "      <td>1.364416</td>\n",
       "      <td>0.102742</td>\n",
       "    </tr>\n",
       "    <tr>\n",
       "      <th>9</th>\n",
       "      <td>0.977727</td>\n",
       "      <td>10000</td>\n",
       "      <td>0.00</td>\n",
       "      <td>1.253225</td>\n",
       "      <td>0.125716</td>\n",
       "    </tr>\n",
       "    <tr>\n",
       "      <th>10</th>\n",
       "      <td>0.986364</td>\n",
       "      <td>10000</td>\n",
       "      <td>0.00</td>\n",
       "      <td>1.344956</td>\n",
       "      <td>0.128773</td>\n",
       "    </tr>\n",
       "    <tr>\n",
       "      <th>11</th>\n",
       "      <td>0.995000</td>\n",
       "      <td>10000</td>\n",
       "      <td>0.00</td>\n",
       "      <td>1.269253</td>\n",
       "      <td>0.128606</td>\n",
       "    </tr>\n",
       "  </tbody>\n",
       "</table>\n",
       "</div>"
      ]
     },
     "metadata": {},
     "output_type": "display_data",
     "jetTransient": {
      "display_id": null
     }
    }
   ],
   "execution_count": 24
  },
  {
   "metadata": {},
   "cell_type": "markdown",
   "source": "### 5. Propensity score trimming",
   "id": "1a6c20e053711bc8"
  },
  {
   "metadata": {
    "ExecuteTime": {
     "end_time": "2025-09-18T19:32:42.849609Z",
     "start_time": "2025-09-18T19:32:42.847857Z"
    }
   },
   "cell_type": "code",
   "source": [
    "print(\"\\n--- Propensity Score Trimming ---\")\n",
    "trim_info = att_ortho_check['trimming_info']\n",
    "print(f\"Trimming bounds: {trim_info['bounds']}\")\n",
    "print(f\"Observations trimmed: {trim_info['n_trimmed']} ({trim_info['pct_trimmed']:.1f}%)\")"
   ],
   "id": "a0407dae232e3038",
   "outputs": [
    {
     "name": "stdout",
     "output_type": "stream",
     "text": [
      "\n",
      "--- Propensity Score Trimming ---\n",
      "Trimming bounds: (0.02, 0.98)\n",
      "Observations trimmed: 17 (0.2%)\n"
     ]
    }
   ],
   "execution_count": 25
  },
  {
   "metadata": {},
   "cell_type": "markdown",
   "source": "### 6. Diagnostic conditions breakdown",
   "id": "992e11fec62ac4d3"
  },
  {
   "metadata": {
    "ExecuteTime": {
     "end_time": "2025-09-18T19:32:42.925063Z",
     "start_time": "2025-09-18T19:32:42.921548Z"
    }
   },
   "cell_type": "code",
   "source": [
    "print(\"\\n--- Diagnostic Conditions Assessment ---\")\n",
    "conditions = att_ortho_check['diagnostic_conditions']\n",
    "print(\"Individual condition checks:\")\n",
    "for condition, passed in conditions.items():\n",
    "    status = \"\\u2713 PASS\" if passed else \"\\u2717 FAIL\"\n",
    "    print(f\"  {condition}: {status}\")\n",
    "\n",
    "print(f\"\\nOverall: {att_ortho_check['overall_assessment']}\")\n"
   ],
   "id": "a8867fda225b2f17",
   "outputs": [
    {
     "name": "stdout",
     "output_type": "stream",
     "text": [
      "\n",
      "--- Diagnostic Conditions Assessment ---\n",
      "Individual condition checks:\n",
      "  oos_moment_ok: ✓ PASS\n",
      "  derivs_full_ok: ✗ FAIL\n",
      "  derivs_trim_ok: ✗ FAIL\n",
      "  se_reasonable: ✓ PASS\n",
      "  no_extreme_influence: ✓ PASS\n",
      "  trimming_reasonable: ✓ PASS\n",
      "\n",
      "Overall: CAUTION: Most conditions satisfied\n"
     ]
    }
   ],
   "execution_count": 26
  },
  {
   "metadata": {},
   "cell_type": "markdown",
   "source": "### Sensitivity analysis",
   "id": "c8de1dd2386bc34f"
  },
  {
   "metadata": {},
   "cell_type": "markdown",
   "source": "Let's analyze how unobserved confounder could look",
   "id": "d5189b146bb9d7cd"
  },
  {
   "metadata": {
    "ExecuteTime": {
     "end_time": "2025-09-18T19:32:45.124013Z",
     "start_time": "2025-09-18T19:32:42.942708Z"
    }
   },
   "cell_type": "code",
   "source": [
    "bench_sets = causal_data.confounders\n",
    "res = sensitivity_analysis_set(\n",
    "    att_result,\n",
    "    benchmarking_set=bench_sets,\n",
    "    level=0.95,\n",
    "    null_hypothesis=0.0,\n",
    ")"
   ],
   "id": "f3b541b77022a6b0",
   "outputs": [],
   "execution_count": 27
  },
  {
   "metadata": {
    "ExecuteTime": {
     "end_time": "2025-09-18T19:33:05.760228Z",
     "start_time": "2025-09-18T19:33:05.754699Z"
    }
   },
   "cell_type": "code",
   "source": [
    "# Build a DataFrame with confounders as rows and the metrics as columns\n",
    "summary_df = pd.DataFrame({\n",
    "    name: (df.loc['t'] if 't' in df.index else df.iloc[0])\n",
    "    for name, df in res.items()\n",
    "}).T\n"
   ],
   "id": "55ba4a185b99857a",
   "outputs": [],
   "execution_count": 33
  },
  {
   "metadata": {
    "ExecuteTime": {
     "end_time": "2025-09-18T19:33:06.886016Z",
     "start_time": "2025-09-18T19:33:06.881715Z"
    }
   },
   "cell_type": "code",
   "source": "summary_df",
   "id": "35084981ada881e7",
   "outputs": [
    {
     "data": {
      "text/plain": [
       "                       cf_y      cf_d       rho  delta_theta\n",
       "tenure_months      0.053576  0.025750  0.264154     0.081161\n",
       "avg_sessions_week  0.035180  0.059335  0.505135     0.187856\n",
       "spend_last_month   0.028300  0.100006  0.803100     0.341281\n",
       "premium_user       0.042281  0.081704  0.524485     0.248317\n",
       "urban_resident     0.003823  0.015243  0.158730     0.010075"
      ],
      "text/html": [
       "<div>\n",
       "<style scoped>\n",
       "    .dataframe tbody tr th:only-of-type {\n",
       "        vertical-align: middle;\n",
       "    }\n",
       "\n",
       "    .dataframe tbody tr th {\n",
       "        vertical-align: top;\n",
       "    }\n",
       "\n",
       "    .dataframe thead th {\n",
       "        text-align: right;\n",
       "    }\n",
       "</style>\n",
       "<table border=\"1\" class=\"dataframe\">\n",
       "  <thead>\n",
       "    <tr style=\"text-align: right;\">\n",
       "      <th></th>\n",
       "      <th>cf_y</th>\n",
       "      <th>cf_d</th>\n",
       "      <th>rho</th>\n",
       "      <th>delta_theta</th>\n",
       "    </tr>\n",
       "  </thead>\n",
       "  <tbody>\n",
       "    <tr>\n",
       "      <th>tenure_months</th>\n",
       "      <td>0.053576</td>\n",
       "      <td>0.025750</td>\n",
       "      <td>0.264154</td>\n",
       "      <td>0.081161</td>\n",
       "    </tr>\n",
       "    <tr>\n",
       "      <th>avg_sessions_week</th>\n",
       "      <td>0.035180</td>\n",
       "      <td>0.059335</td>\n",
       "      <td>0.505135</td>\n",
       "      <td>0.187856</td>\n",
       "    </tr>\n",
       "    <tr>\n",
       "      <th>spend_last_month</th>\n",
       "      <td>0.028300</td>\n",
       "      <td>0.100006</td>\n",
       "      <td>0.803100</td>\n",
       "      <td>0.341281</td>\n",
       "    </tr>\n",
       "    <tr>\n",
       "      <th>premium_user</th>\n",
       "      <td>0.042281</td>\n",
       "      <td>0.081704</td>\n",
       "      <td>0.524485</td>\n",
       "      <td>0.248317</td>\n",
       "    </tr>\n",
       "    <tr>\n",
       "      <th>urban_resident</th>\n",
       "      <td>0.003823</td>\n",
       "      <td>0.015243</td>\n",
       "      <td>0.158730</td>\n",
       "      <td>0.010075</td>\n",
       "    </tr>\n",
       "  </tbody>\n",
       "</table>\n",
       "</div>"
      ]
     },
     "execution_count": 34,
     "metadata": {},
     "output_type": "execute_result"
    }
   ],
   "execution_count": 34
  },
  {
   "metadata": {},
   "cell_type": "markdown",
   "source": "It is business domain and data knowledge relative question. In this situation we will stop on the most influential confounder 'spend_last_month' and test theta when we do not observe another confounder with strength of 'premium_user'",
   "id": "32eb695a1afb5a67"
  },
  {
   "metadata": {
    "ExecuteTime": {
     "end_time": "2025-09-18T19:33:08.813374Z",
     "start_time": "2025-09-18T19:33:08.805035Z"
    }
   },
   "cell_type": "code",
   "source": [
    "# Run sensitivity analysis on our ATT result\n",
    "sensitivity_report_1 = sensitivity_analysis(\n",
    "    att_result,\n",
    "    cf_y=0.02,  # Confounding strength affecting outcome\n",
    "    cf_d=0.08,  # Confounding strength affecting treatment\n",
    "    rho=1.0     # Perfect correlation between unobserved confounders\n",
    ")\n",
    "\n",
    "print(sensitivity_report_1)"
   ],
   "id": "bffc9984e7fb3eb5",
   "outputs": [
    {
     "name": "stdout",
     "output_type": "stream",
     "text": [
      "================== Sensitivity Analysis ==================\n",
      "\n",
      "------------------ Scenario          ------------------\n",
      "Significance Level: level=0.95\n",
      "Sensitivity parameters: cf_y=0.02; cf_d=0.08, rho=1.0\n",
      "\n",
      "------------------ Bounds with CI    ------------------\n",
      "   CI lower  theta lower     theta  theta upper  CI upper\n",
      "t  0.834104      0.98946  1.338842     1.688225  1.839559\n",
      "\n",
      "------------------ Robustness Values ------------------\n",
      "   H_0     RV (%)    RVa (%)\n",
      "t  0.0  14.754729  13.061519\n"
     ]
    }
   ],
   "execution_count": 35
  },
  {
   "metadata": {},
   "cell_type": "markdown",
   "source": "CI lower >> 0. It means test is passed",
   "id": "fe17b22a6b7351e"
  },
  {
   "metadata": {
    "ExecuteTime": {
     "end_time": "2025-09-18T19:32:45.285238Z",
     "start_time": "2025-09-18T19:32:45.283546Z"
    }
   },
   "cell_type": "code",
   "source": "",
   "id": "c4b11033e6377ff8",
   "outputs": [],
   "execution_count": null
  }
 ],
 "metadata": {
  "kernelspec": {
   "display_name": "Python 3",
   "language": "python",
   "name": "python3"
  },
  "language_info": {
   "codemirror_mode": {
    "name": "ipython",
    "version": 2
   },
   "file_extension": ".py",
   "mimetype": "text/x-python",
   "name": "python",
   "nbconvert_exporter": "python",
   "pygments_lexer": "ipython2",
   "version": "2.7.6"
  }
 },
 "nbformat": 4,
 "nbformat_minor": 5
}
