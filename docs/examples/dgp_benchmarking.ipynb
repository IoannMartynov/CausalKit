{
 "cells": [
  {
   "cell_type": "code",
   "execution_count": null,
   "id": "initial_id",
   "metadata": {
    "collapsed": true
   },
   "outputs": [],
   "source": [
    ""
   ]
  },
  {
   "metadata": {
    "ExecuteTime": {
     "end_time": "2025-10-03T09:48:44.714168Z",
     "start_time": "2025-10-03T09:48:44.572451Z"
    }
   },
   "cell_type": "code",
   "source": [
    "import numpy as np\n",
    "from typing import List, Dict, Any\n",
    "\n",
    "# adjust import to your package/module path\n",
    "from causalkit.data import CausalDatasetGenerator\n",
    "\n",
    "confounder_specs: List[Dict[str, Any]] = [\n",
    "    {\"name\": \"tenure_months\",     \"dist\": \"normal\",   \"mu\": 24, \"sd\": 12},\n",
    "    {\"name\": \"avg_sessions_week\", \"dist\": \"normal\",   \"mu\": 5,  \"sd\": 2},\n",
    "    {\"name\": \"spend_last_month\",  \"dist\": \"uniform\",  \"a\": 0,   \"b\": 200},\n",
    "    {\"name\": \"premium_user\",      \"dist\": \"bernoulli\",\"p\": 0.25},\n",
    "    {\"name\": \"urban_resident\",    \"dist\": \"bernoulli\",\"p\": 0.60},\n",
    "]\n",
    "\n",
    "# Moderate, sensible effects by column name (linear, well-specified)\n",
    "# Outcome: higher sessions, tenure, spend, premium, urban -> higher Y\n",
    "beta_y_map = {\n",
    "    \"tenure_months\":     0.05,   # ~0.6 SD shift at +1 SD (12 months)\n",
    "    \"avg_sessions_week\": 0.60,   # strong engagement signal\n",
    "    \"spend_last_month\":  0.005,  # scale 0..200 => up to ~1 shift\n",
    "    \"premium_user\":      0.80,\n",
    "    \"urban_resident\":    0.20,\n",
    "}\n",
    "\n",
    "# Treatment score: moderate dependence on engagement, spend, premium, urban\n",
    "beta_d_map = {\n",
    "    \"tenure_months\":     0.08,\n",
    "    \"avg_sessions_week\": 0.12,\n",
    "    \"spend_last_month\":  0.004,\n",
    "    \"premium_user\":      0.25,\n",
    "    \"urban_resident\":    0.10,\n",
    "}\n",
    "\n",
    "def expand_beta_from_specs(specs: List[Dict[str, Any]], beta_map: Dict[str, float]) -> np.ndarray:\n",
    "    \"\"\"Create β aligned to the generator's X column order from confounder_specs.\"\"\"\n",
    "    betas = []\n",
    "    for spec in specs:\n",
    "        name = spec.get(\"name\", \"\")\n",
    "        dist = str(spec.get(\"dist\", \"normal\")).lower()\n",
    "        if dist in (\"normal\", \"uniform\", \"bernoulli\"):\n",
    "            betas.append(beta_map.get(name, 0.0))\n",
    "        else:\n",
    "            raise ValueError(f\"Unsupported dist in this simple setup: {dist}\")\n",
    "    return np.asarray(betas, dtype=float)\n",
    "\n",
    "beta_y = expand_beta_from_specs(confounder_specs, beta_y_map)\n",
    "beta_d = expand_beta_from_specs(confounder_specs, beta_d_map)\n",
    "\n",
    "gen = CausalDatasetGenerator(\n",
    "    theta=0.80,                 # constant treatment effect\n",
    "    tau=None,                   # use theta\n",
    "    beta_y=beta_y,\n",
    "    beta_d=beta_d,\n",
    "    g_y=None, g_d=None,         # no nonlinearities\n",
    "    alpha_y=0.0,\n",
    "    alpha_d=0.0,\n",
    "    sigma_y=1.0,\n",
    "    outcome_type=\"continuous\",  # Gaussian Y\n",
    "    confounder_specs=confounder_specs,\n",
    "    # IRM-EASY: no unobserved confounding, standard sharpness\n",
    "    u_strength_d=0.0,\n",
    "    u_strength_y=0.0,\n",
    "    propensity_sharpness=1.0,\n",
    "    # keep overall treatment share ~ 0.5 even with imbalanced features\n",
    "    target_d_rate=0.20,\n",
    "    seed=123\n",
    ")\n",
    "\n",
    "n = 100_000\n",
    "df = gen.generate(n)\n",
    "\n",
    "print(\"Treatment share ≈\", df[\"d\"].mean())        # ~0.50\n",
    "print(df.filter(regex=r\"^(g0|g1|cate)$\").head())  # cate == 0.8 everywhere\n",
    "# Columns include: y, d, tenure_months, avg_sessions_week, spend_last_month,\n",
    "#                  premium_user, urban_resident, m, g0, g1, cate, ...\n"
   ],
   "id": "441122f7a58f4578",
   "outputs": [
    {
     "name": "stdout",
     "output_type": "stream",
     "text": [
      "Treatment share ≈ 0.19986\n",
      "         g0        g1  cate\n",
      "0  4.439569  5.239569   0.8\n",
      "1  2.914083  3.714083   0.8\n",
      "2  3.190812  3.990812   0.8\n",
      "3  2.681789  3.481789   0.8\n",
      "4  3.813471  4.613471   0.8\n"
     ]
    }
   ],
   "execution_count": 10
  },
  {
   "metadata": {
    "ExecuteTime": {
     "end_time": "2025-10-03T09:48:45.004953Z",
     "start_time": "2025-10-03T09:48:44.966890Z"
    }
   },
   "cell_type": "code",
   "source": [
    "from causalkit.data import CausalData\n",
    "# Ground-truth ATT (on the natural scale): E[tau(X) | T=1] = mean CATE among the treated\n",
    "true_att = float(df.loc[df[\"d\"] == 1, \"cate\"].mean())\n",
    "print(f\"Ground-truth ATT from the DGP: {true_att:.3f}\")\n",
    "\n",
    "# 8) Wrap as CausalData for downstream workflows (keeps only y, t, and specified confounders)\n",
    "causal_data = CausalData(\n",
    "    df=df,\n",
    "    treatment=\"d\",\n",
    "    outcome=\"y\",\n",
    "    confounders=[\"tenure_months\",\n",
    "                 \"avg_sessions_week\",\n",
    "                 \"spend_last_month\",\n",
    "                 \"premium_user\",\n",
    "                 \"premium_user\",\n",
    "                 \"urban_resident\"]\n",
    ")\n",
    "\n",
    "# Peek at the analysis-ready view\n",
    "causal_data.df.head()"
   ],
   "id": "efc74e981147010c",
   "outputs": [
    {
     "name": "stdout",
     "output_type": "stream",
     "text": [
      "Ground-truth ATT from the DGP: 0.800\n"
     ]
    },
    {
     "data": {
      "text/plain": [
       "          y    d  tenure_months  avg_sessions_week  spend_last_month  \\\n",
       "0  4.431598  0.0      12.130544           5.803342         30.207326   \n",
       "1  3.089098  0.0      19.586560           2.320295         68.515624   \n",
       "2  3.320877  0.0      39.455103           1.351509         41.430270   \n",
       "3  2.212806  0.0      26.327693           1.459923         97.890030   \n",
       "4  3.919363  0.0      35.042771           1.938168        139.686209   \n",
       "\n",
       "   premium_user  urban_resident  \n",
       "0           0.0             1.0  \n",
       "1           0.0             1.0  \n",
       "2           0.0             1.0  \n",
       "3           0.0             0.0  \n",
       "4           0.0             1.0  "
      ],
      "text/html": [
       "<div>\n",
       "<style scoped>\n",
       "    .dataframe tbody tr th:only-of-type {\n",
       "        vertical-align: middle;\n",
       "    }\n",
       "\n",
       "    .dataframe tbody tr th {\n",
       "        vertical-align: top;\n",
       "    }\n",
       "\n",
       "    .dataframe thead th {\n",
       "        text-align: right;\n",
       "    }\n",
       "</style>\n",
       "<table border=\"1\" class=\"dataframe\">\n",
       "  <thead>\n",
       "    <tr style=\"text-align: right;\">\n",
       "      <th></th>\n",
       "      <th>y</th>\n",
       "      <th>d</th>\n",
       "      <th>tenure_months</th>\n",
       "      <th>avg_sessions_week</th>\n",
       "      <th>spend_last_month</th>\n",
       "      <th>premium_user</th>\n",
       "      <th>urban_resident</th>\n",
       "    </tr>\n",
       "  </thead>\n",
       "  <tbody>\n",
       "    <tr>\n",
       "      <th>0</th>\n",
       "      <td>4.431598</td>\n",
       "      <td>0.0</td>\n",
       "      <td>12.130544</td>\n",
       "      <td>5.803342</td>\n",
       "      <td>30.207326</td>\n",
       "      <td>0.0</td>\n",
       "      <td>1.0</td>\n",
       "    </tr>\n",
       "    <tr>\n",
       "      <th>1</th>\n",
       "      <td>3.089098</td>\n",
       "      <td>0.0</td>\n",
       "      <td>19.586560</td>\n",
       "      <td>2.320295</td>\n",
       "      <td>68.515624</td>\n",
       "      <td>0.0</td>\n",
       "      <td>1.0</td>\n",
       "    </tr>\n",
       "    <tr>\n",
       "      <th>2</th>\n",
       "      <td>3.320877</td>\n",
       "      <td>0.0</td>\n",
       "      <td>39.455103</td>\n",
       "      <td>1.351509</td>\n",
       "      <td>41.430270</td>\n",
       "      <td>0.0</td>\n",
       "      <td>1.0</td>\n",
       "    </tr>\n",
       "    <tr>\n",
       "      <th>3</th>\n",
       "      <td>2.212806</td>\n",
       "      <td>0.0</td>\n",
       "      <td>26.327693</td>\n",
       "      <td>1.459923</td>\n",
       "      <td>97.890030</td>\n",
       "      <td>0.0</td>\n",
       "      <td>0.0</td>\n",
       "    </tr>\n",
       "    <tr>\n",
       "      <th>4</th>\n",
       "      <td>3.919363</td>\n",
       "      <td>0.0</td>\n",
       "      <td>35.042771</td>\n",
       "      <td>1.938168</td>\n",
       "      <td>139.686209</td>\n",
       "      <td>0.0</td>\n",
       "      <td>1.0</td>\n",
       "    </tr>\n",
       "  </tbody>\n",
       "</table>\n",
       "</div>"
      ]
     },
     "execution_count": 11,
     "metadata": {},
     "output_type": "execute_result"
    }
   ],
   "execution_count": 11
  },
  {
   "metadata": {
    "ExecuteTime": {
     "end_time": "2025-10-03T09:49:09.179333Z",
     "start_time": "2025-10-03T09:48:45.583194Z"
    }
   },
   "cell_type": "code",
   "source": [
    "from causalkit.inference.ate import dml_ate\n",
    "\n",
    "# Estimate Average Treatment Effect (ATT)\n",
    "att_result = dml_ate(causal_data, n_folds=4)\n",
    "att_result"
   ],
   "id": "8a00d8ee46727429",
   "outputs": [
    {
     "data": {
      "text/plain": [
       "{'coefficient': 0.8002447624692177,\n",
       " 'std_error': 0.012660407668213813,\n",
       " 'p_value': 0.0,\n",
       " 'confidence_interval': (0.7754308194099239, 0.8250587055285116),\n",
       " 'model': <causalkit.inference.estimators.irm.IRM at 0x158ae8f50>,\n",
       " 'diagnostic_data': {'m_hat': array([0.03536389, 0.06605769, 0.23265153, ..., 0.33150187, 0.07472227,\n",
       "         0.05598924], shape=(100000,)),\n",
       "  'g0_hat': array([4.4493435 , 2.93265171, 3.25461208, ..., 6.17353241, 4.13386574,\n",
       "         3.4949742 ], shape=(100000,)),\n",
       "  'g1_hat': array([4.8247974 , 3.40419783, 4.13266757, ..., 6.68172359, 5.1071098 ,\n",
       "         3.84294347], shape=(100000,)),\n",
       "  'y': array([4.43159809, 3.08909757, 3.32087743, ..., 7.70334644, 5.56867371,\n",
       "         2.46455984], shape=(100000,)),\n",
       "  'd': array([0, 0, 0, ..., 1, 1, 0], shape=(100000,)),\n",
       "  'x': array([[ 12.1305438 ,   5.80334174,  30.20732587,   0.        ,\n",
       "            1.        ],\n",
       "         [ 19.58656018,   2.32029504,  68.51562396,   0.        ,\n",
       "            1.        ],\n",
       "         [ 39.45510314,   1.35150888,  41.43027027,   0.        ,\n",
       "            1.        ],\n",
       "         ...,\n",
       "         [ 35.2028584 ,   6.03828533, 134.46736619,   0.        ,\n",
       "            0.        ],\n",
       "         [ 16.62150359,   5.06086131,  76.87157057,   0.        ,\n",
       "            0.        ],\n",
       "         [ 17.03753078,   3.60276408,  62.57443708,   0.        ,\n",
       "            0.        ]], shape=(100000, 5)),\n",
       "  'psi': array([-0.40639489, -0.49620991, -0.00854553, ...,  2.78974761,\n",
       "          6.3500587 ,  0.63925271], shape=(100000,)),\n",
       "  'psi_a': array([-1., -1., -1., ..., -1., -1., -1.], shape=(100000,)),\n",
       "  'psi_b': array([0.39384987, 0.30403486, 0.79169923, ..., 3.58999237, 7.15030346,\n",
       "         1.43949747], shape=(100000,)),\n",
       "  'folds': array([0, 0, 0, ..., 2, 2, 2], shape=(100000,)),\n",
       "  'score': 'ATE',\n",
       "  'normalize_ipw': False,\n",
       "  'trimming_threshold': 0.01,\n",
       "  'p1': 0.19986}}"
      ]
     },
     "execution_count": 12,
     "metadata": {},
     "output_type": "execute_result"
    }
   ],
   "execution_count": 12
  },
  {
   "metadata": {
    "ExecuteTime": {
     "end_time": "2025-10-03T09:49:32.719104Z",
     "start_time": "2025-10-03T09:49:09.195215Z"
    }
   },
   "cell_type": "code",
   "source": [
    "from causalkit.inference.atte import dml_atte\n",
    "\n",
    "# Estimate Average Treatment Effect (ATT)\n",
    "atte_result = dml_atte(causal_data, n_folds=4)\n",
    "atte_result"
   ],
   "id": "e0a6f5e4d57ea075",
   "outputs": [
    {
     "data": {
      "text/plain": [
       "{'coefficient': 0.7983803967140753,\n",
       " 'std_error': 0.00990249789092322,\n",
       " 'p_value': 0.0,\n",
       " 'confidence_interval': (0.7789718574908819, 0.8177889359372688),\n",
       " 'model': <causalkit.inference.estimators.irm.IRM at 0x158ae91d0>,\n",
       " 'diagnostic_data': {'m_hat': array([0.05857877, 0.08156973, 0.22005608, ..., 0.35261222, 0.07122546,\n",
       "         0.0571093 ], shape=(100000,)),\n",
       "  'g0_hat': array([4.70544298, 2.99663398, 3.20418668, ..., 6.09139723, 4.27748497,\n",
       "         3.33847651], shape=(100000,)),\n",
       "  'g1_hat': array([4.74376967, 3.56687562, 4.02049963, ..., 6.68450304, 5.15821861,\n",
       "         4.27247121], shape=(100000,)),\n",
       "  'y': array([4.43159809, 3.08909757, 3.32087743, ..., 7.70334644, 5.56867371,\n",
       "         2.46455984], shape=(100000,)),\n",
       "  'd': array([0, 0, 0, ..., 1, 1, 0], shape=(100000,)),\n",
       "  'x': array([[ 12.1305438 ,   5.80334174,  30.20732587,   0.        ,\n",
       "            1.        ],\n",
       "         [ 19.58656018,   2.32029504,  68.51562396,   0.        ,\n",
       "            1.        ],\n",
       "         [ 39.45510314,   1.35150888,  41.43027027,   0.        ,\n",
       "            1.        ],\n",
       "         ...,\n",
       "         [ 35.2028584 ,   6.03828533, 134.46736619,   0.        ,\n",
       "            0.        ],\n",
       "         [ 16.62150359,   5.06086131,  76.87157057,   0.        ,\n",
       "            0.        ],\n",
       "         [ 17.03753078,   3.60276408,  62.57443708,   0.        ,\n",
       "            0.        ]], shape=(100000, 5)),\n",
       "  'psi': array([ 0.08525798, -0.0410892 , -0.16473298, ...,  4.07069352,\n",
       "          2.46576776,  0.26484367], shape=(100000,)),\n",
       "  'psi_a': array([-0.        , -0.        , -0.        , ..., -5.00350245,\n",
       "         -5.00350245, -0.        ], shape=(100000,)),\n",
       "  'psi_b': array([ 0.08525798, -0.0410892 , -0.16473298, ...,  8.06539179,\n",
       "          6.46046604,  0.26484367], shape=(100000,)),\n",
       "  'folds': array([1, 1, 1, ..., 1, 0, 1], shape=(100000,)),\n",
       "  'score': 'ATTE',\n",
       "  'normalize_ipw': False,\n",
       "  'trimming_threshold': 0.01,\n",
       "  'p1': 0.19986}}"
      ]
     },
     "execution_count": 13,
     "metadata": {},
     "output_type": "execute_result"
    }
   ],
   "execution_count": 13
  },
  {
   "metadata": {
    "ExecuteTime": {
     "end_time": "2025-10-03T09:49:32.736831Z",
     "start_time": "2025-10-03T09:49:32.735271Z"
    }
   },
   "cell_type": "code",
   "source": "",
   "id": "7577a33e87f133cf",
   "outputs": [],
   "execution_count": null
  },
  {
   "metadata": {},
   "cell_type": "code",
   "outputs": [],
   "execution_count": null,
   "source": "",
   "id": "186489e3fe2a6949"
  }
 ],
 "metadata": {
  "kernelspec": {
   "display_name": "Python 3",
   "language": "python",
   "name": "python3"
  },
  "language_info": {
   "codemirror_mode": {
    "name": "ipython",
    "version": 2
   },
   "file_extension": ".py",
   "mimetype": "text/x-python",
   "name": "python",
   "nbconvert_exporter": "python",
   "pygments_lexer": "ipython2",
   "version": "2.7.6"
  }
 },
 "nbformat": 4,
 "nbformat_minor": 5
}
