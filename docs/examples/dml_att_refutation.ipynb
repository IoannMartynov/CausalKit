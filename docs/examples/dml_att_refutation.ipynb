{
 "cells": [
  {
   "metadata": {},
   "cell_type": "markdown",
   "source": "# DML ATT Example",
   "id": "3bb65e072e9ab811"
  },
  {
   "metadata": {},
   "cell_type": "markdown",
   "source": [
    "This notebook covers scenario:\n",
    "| Is RCT        | Treatment | Outcome    | EDA | Estimands | Refutation |\n",
    "|---------------|-----------|------------|-----|-----------|------------|\n",
    "| Observational | Binary    | Continuous | Yes | ATT       | Yes        |\n",
    "\n",
    "We will estimate Average Treatment Effect on Treated (ATT) of binary treatment on continuous outcome. It shows explonatary data analysis and refutation tests"
   ],
   "id": "cbe2952f317dfd58"
  },
  {
   "metadata": {},
   "cell_type": "markdown",
   "source": "## Generate data",
   "id": "505f0f3204e38817"
  },
  {
   "metadata": {},
   "cell_type": "markdown",
   "source": "Example that generates observational data with a nonlinear outcome model, nonlinear treatment assignment, and a heterogeneous (nonlinear) treatment effect tau(X). This setup ensures that ATT ≠ ATE in general. It also shows how to compute the “ground-truth” ATT from the generated data.",
   "id": "791d585776e1380c"
  },
  {
   "metadata": {
    "ExecuteTime": {
     "end_time": "2025-09-28T10:28:08.501596Z",
     "start_time": "2025-09-28T10:28:07.738254Z"
    }
   },
   "cell_type": "code",
   "source": [
    "# Nonlinear ATT data generation with heterogeneous effects\n",
    "\n",
    "import numpy as np\n",
    "import pandas as pd\n",
    "import matplotlib.pyplot as plt\n",
    "\n",
    "from causalkit.data import CausalDatasetGenerator, CausalData\n",
    "\n",
    "# Reproducibility\n",
    "np.random.seed(42)\n",
    "\n",
    "# 1) Confounders and their distributions\n",
    "#    These names define the column order in X for the custom functions.\n",
    "confounder_specs = [\n",
    "    {\"name\": \"tenure_months\",     \"dist\": \"normal\",   \"mu\": 24, \"sd\": 12},\n",
    "    {\"name\": \"avg_sessions_week\", \"dist\": \"normal\",   \"mu\": 5,  \"sd\": 2},\n",
    "    {\"name\": \"spend_last_month\",  \"dist\": \"uniform\",  \"a\": 0,   \"b\": 200},\n",
    "    {\"name\": \"premium_user\",      \"dist\": \"bernoulli\",\"p\": 0.25},\n",
    "    {\"name\": \"urban_resident\",    \"dist\": \"bernoulli\",\"p\": 0.60},\n",
    "]\n",
    "\n",
    "# Indices (for convenience inside g_y, g_t, tau)\n",
    "TENURE, SESS, SPEND, PREMIUM, URBAN = range(5)\n",
    "\n",
    "# 2) Nonlinear baseline for outcome f_y(X) = X @ beta_y + g_y(X)\n",
    "#    Keep a modest linear part and add meaningful nonlinearities.\n",
    "beta_y = np.array([\n",
    "    0.03,   # tenure_months\n",
    "    0.20,   # avg_sessions_week\n",
    "    0.01,   # spend_last_month\n",
    "    1.20,   # premium_user\n",
    "    0.60,   # urban_resident\n",
    "], dtype=float)\n",
    "\n",
    "def g_y(X: np.ndarray) -> np.ndarray:\n",
    "    # Nonlinearities and interactions in outcome baseline\n",
    "    tenure_years = X[:, TENURE] / 12.0\n",
    "    sessions = X[:, SESS]\n",
    "    spend = X[:, SPEND]\n",
    "    premium = X[:, PREMIUM]\n",
    "    urban = X[:, URBAN]\n",
    "\n",
    "    return (\n",
    "        1.2 * np.sin(2.0 * np.pi * tenure_years)          # seasonal-ish tenure pattern\n",
    "        + 0.02 * (sessions - 5.0) ** 2                    # convex effect of sessions\n",
    "        + 0.0015 * (spend - 100.0) * (sessions - 5.0)     # spend × sessions interaction\n",
    "        + 0.4 * premium * (sessions - 5.0)                # premium × sessions interaction\n",
    "        + 0.3 * urban * np.tanh((spend - 100.0) / 50.0)   # nonlinear spend effect differs by urban\n",
    "    )\n",
    "\n",
    "# 3) Nonlinear treatment score f_t(X) = X @ beta_t + g_t(X)\n",
    "beta_t = np.array([\n",
    "    0.010,  # tenure_months\n",
    "    0.12,   # avg_sessions_week\n",
    "    0.001,  # spend_last_month\n",
    "    0.80,   # premium_user\n",
    "    0.25,   # urban_resident\n",
    "], dtype=float)\n",
    "\n",
    "def g_t(X: np.ndarray) -> np.ndarray:\n",
    "    tenure_years = X[:, TENURE] / 12.0\n",
    "    sessions = X[:, SESS]\n",
    "    spend = X[:, SPEND]\n",
    "    premium = X[:, PREMIUM]\n",
    "    urban = X[:, URBAN]\n",
    "\n",
    "    # Smoothly increasing selection with spend; interactions make selection non-separable\n",
    "    soft_spend = 1.2 * np.tanh((spend - 80.0) / 40.0)\n",
    "    return (\n",
    "        0.6 * soft_spend\n",
    "        + 0.15 * (sessions - 5.0) * (tenure_years - 2.0)\n",
    "        + 0.25 * premium * (urban - 0.5)\n",
    "    )\n",
    "\n",
    "# 4) Heterogeneous, nonlinear treatment effect tau(X) on the natural scale (continuous outcome)\n",
    "def tau_fn(X: np.ndarray) -> np.ndarray:\n",
    "    tenure_years = X[:, TENURE] / 12.0\n",
    "    sessions = X[:, SESS]\n",
    "    spend = X[:, SPEND]\n",
    "    premium = X[:, PREMIUM]\n",
    "    urban = X[:, URBAN]\n",
    "\n",
    "    # Base effect + stronger effect for higher sessions and premium users,\n",
    "    # diminishes with tenure, mild modulation by spend and urban\n",
    "    tau = (\n",
    "        1.0\n",
    "        + 0.8 * (1.0 / (1.0 + np.exp(-(sessions - 5.0))))    # sigmoid in sessions\n",
    "        + 0.5 * premium\n",
    "        - 0.6 * np.clip(tenure_years / 5.0, 0.0, 1.0)        # taper with long tenure\n",
    "        + 0.2 * urban * (spend - 100.0) / 100.0\n",
    "    )\n",
    "    # Optional: keep it in a reasonable range\n",
    "    return np.clip(tau, 0.2, 2.5)\n",
    "\n",
    "# 5) Noise and prevalence\n",
    "sigma_y = 1\n",
    "target_t_rate = 0.35  # enforce ~35% treated via intercept calibration\n",
    "\n",
    "# 6) Build generator\n",
    "gen = CausalDatasetGenerator(\n",
    "    outcome_type=\"continuous\",\n",
    "    sigma_y=sigma_y,\n",
    "    target_t_rate=target_t_rate,\n",
    "    seed=42,\n",
    "    # Confounders\n",
    "    confounder_specs=confounder_specs,\n",
    "    # Outcome/treatment structure\n",
    "    beta_y=beta_y,\n",
    "    beta_t=beta_t,\n",
    "    g_y=g_y,\n",
    "    g_t=g_t,\n",
    "    # Heterogeneous effect\n",
    "    tau=tau_fn,\n",
    ")\n",
    "\n",
    "# 7) Generate data (full dataframe includes ground-truth columns: propensity, mu0, mu1, cate)\n",
    "n = 10000\n",
    "generated_df = gen.generate(n)\n",
    "\n",
    "# Ground-truth ATT (on the natural scale): E[tau(X) | T=1] = mean CATE among the treated\n",
    "true_att = float(generated_df.loc[generated_df[\"t\"] == 1, \"cate\"].mean())\n",
    "print(f\"Ground-truth ATT from the DGP: {true_att:.3f}\")\n",
    "\n",
    "# 8) Wrap as CausalData for downstream workflows (keeps only y, t, and specified confounders)\n",
    "causal_data = CausalData(\n",
    "    df=generated_df,\n",
    "    treatment=\"t\",\n",
    "    outcome=\"y\",\n",
    "    confounders=[\n",
    "        \"tenure_months\",\n",
    "        \"avg_sessions_week\",\n",
    "        \"spend_last_month\",\n",
    "        \"premium_user\",\n",
    "        \"urban_resident\",\n",
    "    ],\n",
    ")\n",
    "\n",
    "# Peek at the analysis-ready view\n",
    "causal_data.df.head()"
   ],
   "id": "7b4f8f604a5e7b94",
   "outputs": [
    {
     "name": "stdout",
     "output_type": "stream",
     "text": [
      "Ground-truth ATT from the DGP: 1.377\n"
     ]
    },
    {
     "data": {
      "text/plain": [
       "          y    t  tenure_months  avg_sessions_week  spend_last_month  \\\n",
       "0  2.655677  0.0      27.656605           1.850801        143.970294   \n",
       "1  3.152743  0.0      11.520191           9.781762         53.161804   \n",
       "2  8.967707  1.0      33.005414           8.592617        166.282514   \n",
       "3  2.876487  0.0      35.286777           3.342658        143.303974   \n",
       "4  2.206921  0.0       0.587578           8.202781         30.904851   \n",
       "\n",
       "   premium_user  urban_resident  \n",
       "0           1.0             0.0  \n",
       "1           0.0             0.0  \n",
       "2           0.0             1.0  \n",
       "3           1.0             0.0  \n",
       "4           0.0             1.0  "
      ],
      "text/html": [
       "<div>\n",
       "<style scoped>\n",
       "    .dataframe tbody tr th:only-of-type {\n",
       "        vertical-align: middle;\n",
       "    }\n",
       "\n",
       "    .dataframe tbody tr th {\n",
       "        vertical-align: top;\n",
       "    }\n",
       "\n",
       "    .dataframe thead th {\n",
       "        text-align: right;\n",
       "    }\n",
       "</style>\n",
       "<table border=\"1\" class=\"dataframe\">\n",
       "  <thead>\n",
       "    <tr style=\"text-align: right;\">\n",
       "      <th></th>\n",
       "      <th>y</th>\n",
       "      <th>t</th>\n",
       "      <th>tenure_months</th>\n",
       "      <th>avg_sessions_week</th>\n",
       "      <th>spend_last_month</th>\n",
       "      <th>premium_user</th>\n",
       "      <th>urban_resident</th>\n",
       "    </tr>\n",
       "  </thead>\n",
       "  <tbody>\n",
       "    <tr>\n",
       "      <th>0</th>\n",
       "      <td>2.655677</td>\n",
       "      <td>0.0</td>\n",
       "      <td>27.656605</td>\n",
       "      <td>1.850801</td>\n",
       "      <td>143.970294</td>\n",
       "      <td>1.0</td>\n",
       "      <td>0.0</td>\n",
       "    </tr>\n",
       "    <tr>\n",
       "      <th>1</th>\n",
       "      <td>3.152743</td>\n",
       "      <td>0.0</td>\n",
       "      <td>11.520191</td>\n",
       "      <td>9.781762</td>\n",
       "      <td>53.161804</td>\n",
       "      <td>0.0</td>\n",
       "      <td>0.0</td>\n",
       "    </tr>\n",
       "    <tr>\n",
       "      <th>2</th>\n",
       "      <td>8.967707</td>\n",
       "      <td>1.0</td>\n",
       "      <td>33.005414</td>\n",
       "      <td>8.592617</td>\n",
       "      <td>166.282514</td>\n",
       "      <td>0.0</td>\n",
       "      <td>1.0</td>\n",
       "    </tr>\n",
       "    <tr>\n",
       "      <th>3</th>\n",
       "      <td>2.876487</td>\n",
       "      <td>0.0</td>\n",
       "      <td>35.286777</td>\n",
       "      <td>3.342658</td>\n",
       "      <td>143.303974</td>\n",
       "      <td>1.0</td>\n",
       "      <td>0.0</td>\n",
       "    </tr>\n",
       "    <tr>\n",
       "      <th>4</th>\n",
       "      <td>2.206921</td>\n",
       "      <td>0.0</td>\n",
       "      <td>0.587578</td>\n",
       "      <td>8.202781</td>\n",
       "      <td>30.904851</td>\n",
       "      <td>0.0</td>\n",
       "      <td>1.0</td>\n",
       "    </tr>\n",
       "  </tbody>\n",
       "</table>\n",
       "</div>"
      ]
     },
     "execution_count": 1,
     "metadata": {},
     "output_type": "execute_result"
    }
   ],
   "execution_count": 1
  },
  {
   "metadata": {},
   "cell_type": "markdown",
   "source": "## EDA\n",
   "id": "6ea34c7a8604ab7c"
  },
  {
   "metadata": {
    "ExecuteTime": {
     "end_time": "2025-09-28T10:28:09.028848Z",
     "start_time": "2025-09-28T10:28:08.520942Z"
    }
   },
   "cell_type": "code",
   "source": [
    "from causalkit.eda import CausalEDA\n",
    "eda = CausalEDA(causal_data)"
   ],
   "id": "9ab105021806e4f7",
   "outputs": [],
   "execution_count": 2
  },
  {
   "metadata": {},
   "cell_type": "markdown",
   "source": "### General dataset information",
   "id": "c54043a64935ef40"
  },
  {
   "metadata": {},
   "cell_type": "markdown",
   "source": "Let's see how outcome differ between clients who recieved the feature and didn't",
   "id": "bb15a5a46c793d5c"
  },
  {
   "metadata": {
    "ExecuteTime": {
     "end_time": "2025-09-28T10:28:09.047410Z",
     "start_time": "2025-09-28T10:28:09.045216Z"
    }
   },
   "cell_type": "code",
   "source": [
    "# shape of data\n",
    "eda.data_shape()"
   ],
   "id": "5c27584411c6af1a",
   "outputs": [
    {
     "data": {
      "text/plain": [
       "{'n_rows': 100000, 'n_columns': 7}"
      ]
     },
     "execution_count": 3,
     "metadata": {},
     "output_type": "execute_result"
    }
   ],
   "execution_count": 3
  },
  {
   "metadata": {
    "ExecuteTime": {
     "end_time": "2025-09-28T10:28:09.086529Z",
     "start_time": "2025-09-28T10:28:09.052608Z"
    }
   },
   "cell_type": "code",
   "source": [
    "# 1) Outcome statistics by treatment\n",
    "eda.outcome_stats()"
   ],
   "id": "968d7e7c86750af",
   "outputs": [
    {
     "data": {
      "text/plain": [
       "           count      mean       std       min       p10       p25    median  \\\n",
       "treatment                                                                      \n",
       "0.0        65201  3.208326  1.703285 -2.639166  1.054901  2.021541  3.161247   \n",
       "1.0        34799  5.333375  2.071834 -1.839315  2.803046  3.883652  5.199704   \n",
       "\n",
       "                p75       p90        max  \n",
       "treatment                                 \n",
       "0.0        4.323998  5.397061  11.742213  \n",
       "1.0        6.641531  8.054006  16.219175  "
      ],
      "text/html": [
       "<div>\n",
       "<style scoped>\n",
       "    .dataframe tbody tr th:only-of-type {\n",
       "        vertical-align: middle;\n",
       "    }\n",
       "\n",
       "    .dataframe tbody tr th {\n",
       "        vertical-align: top;\n",
       "    }\n",
       "\n",
       "    .dataframe thead th {\n",
       "        text-align: right;\n",
       "    }\n",
       "</style>\n",
       "<table border=\"1\" class=\"dataframe\">\n",
       "  <thead>\n",
       "    <tr style=\"text-align: right;\">\n",
       "      <th></th>\n",
       "      <th>count</th>\n",
       "      <th>mean</th>\n",
       "      <th>std</th>\n",
       "      <th>min</th>\n",
       "      <th>p10</th>\n",
       "      <th>p25</th>\n",
       "      <th>median</th>\n",
       "      <th>p75</th>\n",
       "      <th>p90</th>\n",
       "      <th>max</th>\n",
       "    </tr>\n",
       "    <tr>\n",
       "      <th>treatment</th>\n",
       "      <th></th>\n",
       "      <th></th>\n",
       "      <th></th>\n",
       "      <th></th>\n",
       "      <th></th>\n",
       "      <th></th>\n",
       "      <th></th>\n",
       "      <th></th>\n",
       "      <th></th>\n",
       "      <th></th>\n",
       "    </tr>\n",
       "  </thead>\n",
       "  <tbody>\n",
       "    <tr>\n",
       "      <th>0.0</th>\n",
       "      <td>65201</td>\n",
       "      <td>3.208326</td>\n",
       "      <td>1.703285</td>\n",
       "      <td>-2.639166</td>\n",
       "      <td>1.054901</td>\n",
       "      <td>2.021541</td>\n",
       "      <td>3.161247</td>\n",
       "      <td>4.323998</td>\n",
       "      <td>5.397061</td>\n",
       "      <td>11.742213</td>\n",
       "    </tr>\n",
       "    <tr>\n",
       "      <th>1.0</th>\n",
       "      <td>34799</td>\n",
       "      <td>5.333375</td>\n",
       "      <td>2.071834</td>\n",
       "      <td>-1.839315</td>\n",
       "      <td>2.803046</td>\n",
       "      <td>3.883652</td>\n",
       "      <td>5.199704</td>\n",
       "      <td>6.641531</td>\n",
       "      <td>8.054006</td>\n",
       "      <td>16.219175</td>\n",
       "    </tr>\n",
       "  </tbody>\n",
       "</table>\n",
       "</div>"
      ]
     },
     "execution_count": 4,
     "metadata": {},
     "output_type": "execute_result"
    }
   ],
   "execution_count": 4
  },
  {
   "metadata": {
    "ExecuteTime": {
     "end_time": "2025-09-28T10:28:09.215060Z",
     "start_time": "2025-09-28T10:28:09.105519Z"
    }
   },
   "cell_type": "code",
   "source": [
    "# 2) Outcome distribution by treatment (hist + boxplot)\n",
    "fig1, fig2 = eda.outcome_plots()\n",
    "plt.show()"
   ],
   "id": "c2258bc285979bc5",
   "outputs": [
    {
     "data": {
      "text/plain": [
       "<Figure size 700x400 with 1 Axes>"
      ],
      "image/png": "[encoded data removed]"
     },
     "metadata": {},
     "output_type": "display_data",
     "jetTransient": {
      "display_id": null
     }
    },
    {
     "data": {
      "text/plain": [
       "<Figure size 700x400 with 1 Axes>"
      ],
      "image/png": "[encoded data removed]"
     },
     "metadata": {},
     "output_type": "display_data",
     "jetTransient": {
      "display_id": null
     }
    }
   ],
   "execution_count": 5
  },
  {
   "metadata": {},
   "cell_type": "markdown",
   "source": "### Propensity",
   "id": "5b0d6974b483485d"
  },
  {
   "metadata": {},
   "cell_type": "markdown",
   "source": "Now let's examine how propensity score differ treatments",
   "id": "663908e8b581476"
  },
  {
   "metadata": {
    "ExecuteTime": {
     "end_time": "2025-09-28T10:28:09.251865Z",
     "start_time": "2025-09-28T10:28:09.233797Z"
    }
   },
   "cell_type": "code",
   "source": [
    "# Shows means of confounders for control/treated groups, absolute differences, and SMD values\n",
    "confounders_balance_df = eda.confounders_means()\n",
    "display(confounders_balance_df)"
   ],
   "id": "b149a9c9c6c1996d",
   "outputs": [
    {
     "data": {
      "text/plain": [
       "                    mean_t_0    mean_t_1   abs_diff       smd\n",
       "confounders                                                  \n",
       "spend_last_month   89.590244  119.444655  29.854411  0.539664\n",
       "premium_user        0.200794    0.338832   0.138037  0.314816\n",
       "avg_sessions_week   4.860831    5.276371   0.415541  0.208015\n",
       "urban_resident      0.581019    0.645478   0.064460  0.132648\n",
       "tenure_months      23.419010   24.942602   1.523591  0.126622"
      ],
      "text/html": [
       "<div>\n",
       "<style scoped>\n",
       "    .dataframe tbody tr th:only-of-type {\n",
       "        vertical-align: middle;\n",
       "    }\n",
       "\n",
       "    .dataframe tbody tr th {\n",
       "        vertical-align: top;\n",
       "    }\n",
       "\n",
       "    .dataframe thead th {\n",
       "        text-align: right;\n",
       "    }\n",
       "</style>\n",
       "<table border=\"1\" class=\"dataframe\">\n",
       "  <thead>\n",
       "    <tr style=\"text-align: right;\">\n",
       "      <th></th>\n",
       "      <th>mean_t_0</th>\n",
       "      <th>mean_t_1</th>\n",
       "      <th>abs_diff</th>\n",
       "      <th>smd</th>\n",
       "    </tr>\n",
       "    <tr>\n",
       "      <th>confounders</th>\n",
       "      <th></th>\n",
       "      <th></th>\n",
       "      <th></th>\n",
       "      <th></th>\n",
       "    </tr>\n",
       "  </thead>\n",
       "  <tbody>\n",
       "    <tr>\n",
       "      <th>spend_last_month</th>\n",
       "      <td>89.590244</td>\n",
       "      <td>119.444655</td>\n",
       "      <td>29.854411</td>\n",
       "      <td>0.539664</td>\n",
       "    </tr>\n",
       "    <tr>\n",
       "      <th>premium_user</th>\n",
       "      <td>0.200794</td>\n",
       "      <td>0.338832</td>\n",
       "      <td>0.138037</td>\n",
       "      <td>0.314816</td>\n",
       "    </tr>\n",
       "    <tr>\n",
       "      <th>avg_sessions_week</th>\n",
       "      <td>4.860831</td>\n",
       "      <td>5.276371</td>\n",
       "      <td>0.415541</td>\n",
       "      <td>0.208015</td>\n",
       "    </tr>\n",
       "    <tr>\n",
       "      <th>urban_resident</th>\n",
       "      <td>0.581019</td>\n",
       "      <td>0.645478</td>\n",
       "      <td>0.064460</td>\n",
       "      <td>0.132648</td>\n",
       "    </tr>\n",
       "    <tr>\n",
       "      <th>tenure_months</th>\n",
       "      <td>23.419010</td>\n",
       "      <td>24.942602</td>\n",
       "      <td>1.523591</td>\n",
       "      <td>0.126622</td>\n",
       "    </tr>\n",
       "  </tbody>\n",
       "</table>\n",
       "</div>"
      ]
     },
     "metadata": {},
     "output_type": "display_data",
     "jetTransient": {
      "display_id": null
     }
    }
   ],
   "execution_count": 6
  },
  {
   "metadata": {
    "ExecuteTime": {
     "end_time": "2025-09-28T10:28:33.274824Z",
     "start_time": "2025-09-28T10:28:09.271013Z"
    }
   },
   "cell_type": "code",
   "source": [
    "# Propensity model fit\n",
    "ps_model = eda.fit_propensity()\n",
    "\n",
    "# ROC AUC - shows how predictable treatment is from confounders\n",
    "roc_auc_score = ps_model.roc_auc\n",
    "print(\"ROC AUC from PropensityModel:\", round(roc_auc_score, 4))"
   ],
   "id": "1c36c6cd337b48d9",
   "outputs": [
    {
     "name": "stdout",
     "output_type": "stream",
     "text": [
      "ROC AUC from PropensityModel: 0.7016\n"
     ]
    }
   ],
   "execution_count": 7
  },
  {
   "metadata": {
    "ExecuteTime": {
     "end_time": "2025-09-28T10:28:33.316639Z",
     "start_time": "2025-09-28T10:28:33.314726Z"
    }
   },
   "cell_type": "code",
   "source": [
    "# Positivity check - assess overlap between treatment groups\n",
    "positivity_result = ps_model.positivity_check()\n",
    "print(\"Positivity check from PropensityModel:\", positivity_result)"
   ],
   "id": "c8d829d997e0163d",
   "outputs": [
    {
     "name": "stdout",
     "output_type": "stream",
     "text": [
      "Positivity check from PropensityModel: {'bounds': (0.05, 0.95), 'share_below': 0.00517, 'share_above': 0.00057, 'flag': False}\n"
     ]
    }
   ],
   "execution_count": 8
  },
  {
   "metadata": {
    "ExecuteTime": {
     "end_time": "2025-09-28T10:28:34.389451Z",
     "start_time": "2025-09-28T10:28:33.318663Z"
    }
   },
   "cell_type": "code",
   "source": [
    "# SHAP values - feature importance for treatment assignment from confounders\n",
    "shap_values_df = ps_model.shap\n",
    "display(shap_values_df)"
   ],
   "id": "6129ed1631eed18d",
   "outputs": [
    {
     "data": {
      "text/plain": [
       "                  feature  shap_mean  shap_mean_abs  odds_mult_abs  \\\n",
       "0  num__avg_sessions_week   0.000367       0.210221       1.233951   \n",
       "1      num__tenure_months  -0.000316       0.147956       1.159462   \n",
       "2       num__premium_user  -0.000088       0.301134       1.351390   \n",
       "3   num__spend_last_month   0.000064       0.567319       1.763533   \n",
       "4     num__urban_resident  -0.000028       0.142605       1.153274   \n",
       "\n",
       "   exact_pp_change_abs  exact_pp_change_signed  \n",
       "0             0.049074                0.000083  \n",
       "1             0.034270               -0.000072  \n",
       "2             0.071026               -0.000020  \n",
       "3             0.136852                0.000015  \n",
       "4             0.033008               -0.000006  "
      ],
      "text/html": [
       "<div>\n",
       "<style scoped>\n",
       "    .dataframe tbody tr th:only-of-type {\n",
       "        vertical-align: middle;\n",
       "    }\n",
       "\n",
       "    .dataframe tbody tr th {\n",
       "        vertical-align: top;\n",
       "    }\n",
       "\n",
       "    .dataframe thead th {\n",
       "        text-align: right;\n",
       "    }\n",
       "</style>\n",
       "<table border=\"1\" class=\"dataframe\">\n",
       "  <thead>\n",
       "    <tr style=\"text-align: right;\">\n",
       "      <th></th>\n",
       "      <th>feature</th>\n",
       "      <th>shap_mean</th>\n",
       "      <th>shap_mean_abs</th>\n",
       "      <th>odds_mult_abs</th>\n",
       "      <th>exact_pp_change_abs</th>\n",
       "      <th>exact_pp_change_signed</th>\n",
       "    </tr>\n",
       "  </thead>\n",
       "  <tbody>\n",
       "    <tr>\n",
       "      <th>0</th>\n",
       "      <td>num__avg_sessions_week</td>\n",
       "      <td>0.000367</td>\n",
       "      <td>0.210221</td>\n",
       "      <td>1.233951</td>\n",
       "      <td>0.049074</td>\n",
       "      <td>0.000083</td>\n",
       "    </tr>\n",
       "    <tr>\n",
       "      <th>1</th>\n",
       "      <td>num__tenure_months</td>\n",
       "      <td>-0.000316</td>\n",
       "      <td>0.147956</td>\n",
       "      <td>1.159462</td>\n",
       "      <td>0.034270</td>\n",
       "      <td>-0.000072</td>\n",
       "    </tr>\n",
       "    <tr>\n",
       "      <th>2</th>\n",
       "      <td>num__premium_user</td>\n",
       "      <td>-0.000088</td>\n",
       "      <td>0.301134</td>\n",
       "      <td>1.351390</td>\n",
       "      <td>0.071026</td>\n",
       "      <td>-0.000020</td>\n",
       "    </tr>\n",
       "    <tr>\n",
       "      <th>3</th>\n",
       "      <td>num__spend_last_month</td>\n",
       "      <td>0.000064</td>\n",
       "      <td>0.567319</td>\n",
       "      <td>1.763533</td>\n",
       "      <td>0.136852</td>\n",
       "      <td>0.000015</td>\n",
       "    </tr>\n",
       "    <tr>\n",
       "      <th>4</th>\n",
       "      <td>num__urban_resident</td>\n",
       "      <td>-0.000028</td>\n",
       "      <td>0.142605</td>\n",
       "      <td>1.153274</td>\n",
       "      <td>0.033008</td>\n",
       "      <td>-0.000006</td>\n",
       "    </tr>\n",
       "  </tbody>\n",
       "</table>\n",
       "</div>"
      ]
     },
     "metadata": {},
     "output_type": "display_data",
     "jetTransient": {
      "display_id": null
     }
    }
   ],
   "execution_count": 9
  },
  {
   "metadata": {
    "ExecuteTime": {
     "end_time": "2025-09-28T10:28:34.488449Z",
     "start_time": "2025-09-28T10:28:34.425870Z"
    }
   },
   "cell_type": "code",
   "source": [
    "# Propensity score overlap graph\n",
    "ps_model.ps_graph()\n",
    "plt.show()"
   ],
   "id": "cc3741a172a0d303",
   "outputs": [
    {
     "data": {
      "text/plain": [
       "<Figure size 640x480 with 1 Axes>"
      ],
      "image/png": "[encoded data removed]"
     },
     "metadata": {},
     "output_type": "display_data",
     "jetTransient": {
      "display_id": null
     }
    }
   ],
   "execution_count": 10
  },
  {
   "metadata": {},
   "cell_type": "markdown",
   "source": "### Outcome regression",
   "id": "f8acad543480c315"
  },
  {
   "metadata": {},
   "cell_type": "markdown",
   "source": "Let's analyze how confounders predict outcome",
   "id": "34957e45b4f108a4"
  },
  {
   "metadata": {
    "ExecuteTime": {
     "end_time": "2025-09-28T10:28:45.849188Z",
     "start_time": "2025-09-28T10:28:34.491229Z"
    }
   },
   "cell_type": "code",
   "source": [
    "# Outcome model fit\n",
    "outcome_model = eda.outcome_fit()\n",
    "\n",
    "# RMSE and MAE of regression model\n",
    "print(outcome_model.scores)"
   ],
   "id": "4e6305ae7446c781",
   "outputs": [
    {
     "name": "stdout",
     "output_type": "stream",
     "text": [
      "{'rmse': 1.1814364917962212, 'mae': 0.9446571433391119}\n"
     ]
    }
   ],
   "execution_count": 11
  },
  {
   "metadata": {
    "ExecuteTime": {
     "end_time": "2025-09-28T10:28:46.869174Z",
     "start_time": "2025-09-28T10:28:45.863082Z"
    }
   },
   "cell_type": "code",
   "source": [
    "# 2) SHAP values - feature importance for outcome prediction from confounders\n",
    "shap_outcome_df = outcome_model.shap\n",
    "display(shap_outcome_df)"
   ],
   "id": "47461aeee30f4024",
   "outputs": [
    {
     "data": {
      "text/plain": [
       "             feature  shap_mean\n",
       "0  avg_sessions_week   0.000568\n",
       "1   spend_last_month  -0.000420\n",
       "2      tenure_months  -0.000165\n",
       "3     urban_resident   0.000106\n",
       "4       premium_user  -0.000089"
      ],
      "text/html": [
       "<div>\n",
       "<style scoped>\n",
       "    .dataframe tbody tr th:only-of-type {\n",
       "        vertical-align: middle;\n",
       "    }\n",
       "\n",
       "    .dataframe tbody tr th {\n",
       "        vertical-align: top;\n",
       "    }\n",
       "\n",
       "    .dataframe thead th {\n",
       "        text-align: right;\n",
       "    }\n",
       "</style>\n",
       "<table border=\"1\" class=\"dataframe\">\n",
       "  <thead>\n",
       "    <tr style=\"text-align: right;\">\n",
       "      <th></th>\n",
       "      <th>feature</th>\n",
       "      <th>shap_mean</th>\n",
       "    </tr>\n",
       "  </thead>\n",
       "  <tbody>\n",
       "    <tr>\n",
       "      <th>0</th>\n",
       "      <td>avg_sessions_week</td>\n",
       "      <td>0.000568</td>\n",
       "    </tr>\n",
       "    <tr>\n",
       "      <th>1</th>\n",
       "      <td>spend_last_month</td>\n",
       "      <td>-0.000420</td>\n",
       "    </tr>\n",
       "    <tr>\n",
       "      <th>2</th>\n",
       "      <td>tenure_months</td>\n",
       "      <td>-0.000165</td>\n",
       "    </tr>\n",
       "    <tr>\n",
       "      <th>3</th>\n",
       "      <td>urban_resident</td>\n",
       "      <td>0.000106</td>\n",
       "    </tr>\n",
       "    <tr>\n",
       "      <th>4</th>\n",
       "      <td>premium_user</td>\n",
       "      <td>-0.000089</td>\n",
       "    </tr>\n",
       "  </tbody>\n",
       "</table>\n",
       "</div>"
      ]
     },
     "metadata": {},
     "output_type": "display_data",
     "jetTransient": {
      "display_id": null
     }
    }
   ],
   "execution_count": 12
  },
  {
   "metadata": {},
   "cell_type": "markdown",
   "source": "# Inference",
   "id": "d758c21a760c23ae"
  },
  {
   "metadata": {},
   "cell_type": "markdown",
   "source": "Now time to estimate ATE with Double Machine Learning",
   "id": "c95f6ac049968704"
  },
  {
   "metadata": {
    "ExecuteTime": {
     "end_time": "2025-09-28T10:29:12.117577Z",
     "start_time": "2025-09-28T10:28:46.897945Z"
    }
   },
   "cell_type": "code",
   "source": [
    "from causalkit.inference.att import dml_att\n",
    "\n",
    "# Estimate Average Treatment Effect (ATT)\n",
    "att_result = dml_att(causal_data, normalize_ipw = True)"
   ],
   "id": "35e465e763fd52b0",
   "outputs": [],
   "execution_count": 13
  },
  {
   "metadata": {
    "ExecuteTime": {
     "end_time": "2025-09-28T10:31:49.883938Z",
     "start_time": "2025-09-28T10:31:18.273480Z"
    }
   },
   "cell_type": "code",
   "source": [
    "from causalkit.inference.ate import dml_ate\n",
    "#\n",
    "# # Estimate Average Treatment Effect (ATE)\n",
    "ate_result = dml_ate(causal_data, normalize_ipw = True)"
   ],
   "id": "d27b67be026e3eeb",
   "outputs": [],
   "execution_count": 20
  },
  {
   "metadata": {
    "ExecuteTime": {
     "end_time": "2025-09-28T10:31:49.888609Z",
     "start_time": "2025-09-28T10:31:49.887316Z"
    }
   },
   "cell_type": "code",
   "source": "# ate_result",
   "id": "217a2f52c34055cd",
   "outputs": [],
   "execution_count": 21
  },
  {
   "metadata": {},
   "cell_type": "markdown",
   "source": "Real ATT is 1.385",
   "id": "ad9dc37e7cab0f8a"
  },
  {
   "metadata": {},
   "cell_type": "markdown",
   "source": "## Refutation",
   "id": "ff769bf09f75babf"
  },
  {
   "metadata": {
    "ExecuteTime": {
     "end_time": "2025-09-28T10:31:49.891901Z",
     "start_time": "2025-09-28T10:31:49.890648Z"
    }
   },
   "cell_type": "code",
   "source": "from causalkit.refutation.overlap.overlap_validation import overlap_report_from_result",
   "id": "48b7c7875e415a76",
   "outputs": [],
   "execution_count": 22
  },
  {
   "metadata": {
    "ExecuteTime": {
     "end_time": "2025-09-28T10:31:49.965478Z",
     "start_time": "2025-09-28T10:31:49.898136Z"
    }
   },
   "cell_type": "code",
   "source": "report = overlap_report_from_result(ate_result)",
   "id": "55cb5e843f88866b",
   "outputs": [],
   "execution_count": 23
  },
  {
   "metadata": {
    "ExecuteTime": {
     "end_time": "2025-09-28T10:31:49.976889Z",
     "start_time": "2025-09-28T10:31:49.974791Z"
    }
   },
   "cell_type": "code",
   "source": "report",
   "id": "8579a8a7636100b8",
   "outputs": [
    {
     "data": {
      "text/plain": [
       "{'n': 100000,\n",
       " 'n_treated': 34799,\n",
       " 'p1': 0.34799,\n",
       " 'eps': (0.01, 0.02),\n",
       " 'edge_mass': {'share_below_001': 0.0,\n",
       "  'share_above_001': 0.0,\n",
       "  'share_below_002': 0.00105,\n",
       "  'share_above_002': 8e-05,\n",
       "  'min_m': 0.01,\n",
       "  'max_m': 0.99},\n",
       " 'edge_mass_by_arm': {'share_below_001_D1': 0.0,\n",
       "  'share_above_001_D0': 0.0,\n",
       "  'share_below_002_D1': 5.74729158883876e-05,\n",
       "  'share_above_002_D0': 0.0},\n",
       " 'ks': 0.29205002935835916,\n",
       " 'auc': 0.7018321049722442,\n",
       " 'ate_ipw': {'sum_w1': 34799.00000000001,\n",
       "  'sum_w0': 65200.99999999999,\n",
       "  'mean_w1': 1.0,\n",
       "  'mean_w0': 1.0,\n",
       "  'target_sum_w1': 34799.0,\n",
       "  'target_sum_w0': 65201.0,\n",
       "  'target_mean_w': 1.0},\n",
       " 'ate_ess': {'ess_w1': 23832.616461089026,\n",
       "  'ess_w0': 57731.98119330066,\n",
       "  'ess_ratio_w1': 0.6848649806341857,\n",
       "  'ess_ratio_w0': 0.8854462537890624},\n",
       " 'ate_tails': {'w1': {'q50': 0.8152623669663314,\n",
       "   'q95': 2.2606912167786657,\n",
       "   'q99': 6.269066031038053,\n",
       "   'max': 32.569024460221144,\n",
       "   'median': 0.8152623669663314},\n",
       "  'w0': {'q50': 0.9118210600797818,\n",
       "   'q95': 1.5956101132419422,\n",
       "   'q99': 4.191511398371402,\n",
       "   'max': 16.851206633639723,\n",
       "   'median': 0.9118210600797818}},\n",
       " 'att_weights': {'lhs_sum': 35548.541453098194,\n",
       "  'rhs_sum': 34799.0,\n",
       "  'rel_err': 0.02153916644438617},\n",
       " 'att_ess': {'ess_w1': 34799.000000000015,\n",
       "  'ess_w0': 31974.1683039977,\n",
       "  'ess_ratio_w1': 1.0000000000000004,\n",
       "  'ess_ratio_w0': 0.49039383297798655},\n",
       " 'clipping': {'m_clip_lower': 0.00039,\n",
       "  'm_clip_upper': 4e-05,\n",
       "  'g_clip_share': nan},\n",
       " 'flags': {'edge_mass_001': 'GREEN',\n",
       "  'edge_mass_002': 'GREEN',\n",
       "  'ks': 'YELLOW',\n",
       "  'auc': 'GREEN',\n",
       "  'ipw_sum_w1': 'GREEN',\n",
       "  'ipw_sum_w0': 'GREEN',\n",
       "  'ess_w1': 'GREEN',\n",
       "  'ess_w0': 'GREEN',\n",
       "  'tails_w1': 'YELLOW',\n",
       "  'tails_w0': 'YELLOW',\n",
       "  'att_identity': 'GREEN',\n",
       "  'clip_m': 'GREEN'}}"
      ]
     },
     "execution_count": 24,
     "metadata": {},
     "output_type": "execute_result"
    }
   ],
   "execution_count": 24
  },
  {
   "metadata": {
    "ExecuteTime": {
     "end_time": "2025-09-28T10:31:49.991803Z",
     "start_time": "2025-09-28T10:31:49.990083Z"
    }
   },
   "cell_type": "code",
   "source": "print(report[\"flags\"])",
   "id": "daca202b0e471a8a",
   "outputs": [
    {
     "name": "stdout",
     "output_type": "stream",
     "text": [
      "{'edge_mass_001': 'GREEN', 'edge_mass_002': 'GREEN', 'ks': 'YELLOW', 'auc': 'GREEN', 'ipw_sum_w1': 'GREEN', 'ipw_sum_w0': 'GREEN', 'ess_w1': 'GREEN', 'ess_w0': 'GREEN', 'tails_w1': 'YELLOW', 'tails_w0': 'YELLOW', 'att_identity': 'GREEN', 'clip_m': 'GREEN'}\n"
     ]
    }
   ],
   "execution_count": 25
  },
  {
   "metadata": {
    "ExecuteTime": {
     "end_time": "2025-09-28T10:31:50.008555Z",
     "start_time": "2025-09-28T10:31:50.007214Z"
    }
   },
   "cell_type": "code",
   "source": "",
   "id": "72799f016a531f71",
   "outputs": [],
   "execution_count": null
  },
  {
   "metadata": {
    "ExecuteTime": {
     "end_time": "2025-09-28T10:29:45.520081Z",
     "start_time": "2025-09-28T10:29:45.518873Z"
    }
   },
   "cell_type": "code",
   "source": "",
   "id": "47bc9901605f06c7",
   "outputs": [],
   "execution_count": null
  }
 ],
 "metadata": {
  "kernelspec": {
   "display_name": "Python 3",
   "language": "python",
   "name": "python3"
  },
  "language_info": {
   "codemirror_mode": {
    "name": "ipython",
    "version": 2
   },
   "file_extension": ".py",
   "mimetype": "text/x-python",
   "name": "python",
   "nbconvert_exporter": "python",
   "pygments_lexer": "ipython2",
   "version": "2.7.6"
  }
 },
 "nbformat": 4,
 "nbformat_minor": 5
}
