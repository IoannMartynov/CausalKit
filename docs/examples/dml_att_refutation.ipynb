{
 "cells": [
  {
   "metadata": {},
   "cell_type": "markdown",
   "source": "# DML ATT Example",
   "id": "3bb65e072e9ab811"
  },
  {
   "metadata": {},
   "cell_type": "markdown",
   "source": [
    "This notebook covers scenario:\n",
    "| Is RCT        | Treatment | Outcome    | EDA | Estimands | Refutation |\n",
    "|---------------|-----------|------------|-----|-----------|------------|\n",
    "| Observational | Binary    | Continuous | Yes | ATT       | Yes        |\n",
    "\n",
    "We will estimate Average Treatment Effect on Treated (ATT) of binary treatment on continuous outcome. It shows explonatary data analysis and refutation tests"
   ],
   "id": "cbe2952f317dfd58"
  },
  {
   "metadata": {},
   "cell_type": "markdown",
   "source": "## Generate data",
   "id": "505f0f3204e38817"
  },
  {
   "metadata": {},
   "cell_type": "markdown",
   "source": "Example that generates observational data with a nonlinear outcome model, nonlinear treatment assignment, and a heterogeneous (nonlinear) treatment effect tau(X). This setup ensures that ATT ≠ ATE in general. It also shows how to compute the “ground-truth” ATT from the generated data.",
   "id": "791d585776e1380c"
  },
  {
   "metadata": {
    "ExecuteTime": {
     "end_time": "2025-09-28T18:32:28.563327Z",
     "start_time": "2025-09-28T18:32:28.082242Z"
    }
   },
   "cell_type": "code",
   "source": [
    "# Nonlinear ATT data generation with heterogeneous effects\n",
    "\n",
    "import numpy as np\n",
    "import pandas as pd\n",
    "import matplotlib.pyplot as plt\n",
    "\n",
    "from causalkit.data import CausalDatasetGenerator, CausalData\n",
    "\n",
    "# Reproducibility\n",
    "np.random.seed(42)\n",
    "\n",
    "# 1) Confounders and their distributions\n",
    "#    These names define the column order in X for the custom functions.\n",
    "confounder_specs = [\n",
    "    {\"name\": \"tenure_months\",     \"dist\": \"normal\",   \"mu\": 24, \"sd\": 12},\n",
    "    {\"name\": \"avg_sessions_week\", \"dist\": \"normal\",   \"mu\": 5,  \"sd\": 2},\n",
    "    {\"name\": \"spend_last_month\",  \"dist\": \"uniform\",  \"a\": 0,   \"b\": 200},\n",
    "    {\"name\": \"premium_user\",      \"dist\": \"bernoulli\",\"p\": 0.25},\n",
    "    {\"name\": \"urban_resident\",    \"dist\": \"bernoulli\",\"p\": 0.60},\n",
    "]\n",
    "\n",
    "# Indices (for convenience inside g_y, g_t, tau)\n",
    "TENURE, SESS, SPEND, PREMIUM, URBAN = range(5)\n",
    "\n",
    "# 2) Nonlinear baseline for outcome f_y(X) = X @ beta_y + g_y(X)\n",
    "#    Keep a modest linear part and add meaningful nonlinearities.\n",
    "beta_y = np.array([\n",
    "    0.03,   # tenure_months\n",
    "    0.20,   # avg_sessions_week\n",
    "    0.01,   # spend_last_month\n",
    "    1.20,   # premium_user\n",
    "    0.60,   # urban_resident\n",
    "], dtype=float)\n",
    "\n",
    "def g_y(X: np.ndarray) -> np.ndarray:\n",
    "    # Nonlinearities and interactions in outcome baseline\n",
    "    tenure_years = X[:, TENURE] / 12.0\n",
    "    sessions = X[:, SESS]\n",
    "    spend = X[:, SPEND]\n",
    "    premium = X[:, PREMIUM]\n",
    "    urban = X[:, URBAN]\n",
    "\n",
    "    return (\n",
    "        1.2 * np.sin(2.0 * np.pi * tenure_years)          # seasonal-ish tenure pattern\n",
    "        + 0.02 * (sessions - 5.0) ** 2                    # convex effect of sessions\n",
    "        + 0.0015 * (spend - 100.0) * (sessions - 5.0)     # spend × sessions interaction\n",
    "        + 0.4 * premium * (sessions - 5.0)                # premium × sessions interaction\n",
    "        + 0.3 * urban * np.tanh((spend - 100.0) / 50.0)   # nonlinear spend effect differs by urban\n",
    "    )\n",
    "\n",
    "# 3) Nonlinear treatment score f_t(X) = X @ beta_t + g_t(X)\n",
    "beta_t = np.array([\n",
    "    0.010,  # tenure_months\n",
    "    0.12,   # avg_sessions_week\n",
    "    0.001,  # spend_last_month\n",
    "    0.80,   # premium_user\n",
    "    0.25,   # urban_resident\n",
    "], dtype=float)\n",
    "\n",
    "def g_t(X: np.ndarray) -> np.ndarray:\n",
    "    tenure_years = X[:, TENURE] / 12.0\n",
    "    sessions = X[:, SESS]\n",
    "    spend = X[:, SPEND]\n",
    "    premium = X[:, PREMIUM]\n",
    "    urban = X[:, URBAN]\n",
    "\n",
    "    # Smoothly increasing selection with spend; interactions make selection non-separable\n",
    "    soft_spend = 1.2 * np.tanh((spend - 80.0) / 40.0)\n",
    "    return (\n",
    "        0.6 * soft_spend\n",
    "        + 0.15 * (sessions - 5.0) * (tenure_years - 2.0)\n",
    "        + 0.25 * premium * (urban - 0.5)\n",
    "    )\n",
    "\n",
    "# 4) Heterogeneous, nonlinear treatment effect tau(X) on the natural scale (continuous outcome)\n",
    "def tau_fn(X: np.ndarray) -> np.ndarray:\n",
    "    tenure_years = X[:, TENURE] / 12.0\n",
    "    sessions = X[:, SESS]\n",
    "    spend = X[:, SPEND]\n",
    "    premium = X[:, PREMIUM]\n",
    "    urban = X[:, URBAN]\n",
    "\n",
    "    # Base effect + stronger effect for higher sessions and premium users,\n",
    "    # diminishes with tenure, mild modulation by spend and urban\n",
    "    tau = (\n",
    "        1.0\n",
    "        + 0.8 * (1.0 / (1.0 + np.exp(-(sessions - 5.0))))    # sigmoid in sessions\n",
    "        + 0.5 * premium\n",
    "        - 0.6 * np.clip(tenure_years / 5.0, 0.0, 1.0)        # taper with long tenure\n",
    "        + 0.2 * urban * (spend - 100.0) / 100.0\n",
    "    )\n",
    "    # Optional: keep it in a reasonable range\n",
    "    return np.clip(tau, 0.2, 2.5)\n",
    "\n",
    "# 5) Noise and prevalence\n",
    "sigma_y = 1\n",
    "target_t_rate = 0.35  # enforce ~35% treated via intercept calibration\n",
    "\n",
    "# 6) Build generator\n",
    "gen = CausalDatasetGenerator(\n",
    "    outcome_type=\"continuous\",\n",
    "    sigma_y=sigma_y,\n",
    "    target_t_rate=target_t_rate,\n",
    "    seed=42,\n",
    "    # Confounders\n",
    "    confounder_specs=confounder_specs,\n",
    "    # Outcome/treatment structure\n",
    "    beta_y=beta_y,\n",
    "    beta_t=beta_t,\n",
    "    g_y=g_y,\n",
    "    g_t=g_t,\n",
    "    # Heterogeneous effect\n",
    "    tau=tau_fn,\n",
    ")\n",
    "\n",
    "# 7) Generate data (full dataframe includes ground-truth columns: propensity, mu0, mu1, cate)\n",
    "n = 10000\n",
    "generated_df = gen.generate(n)\n",
    "\n",
    "# Ground-truth ATT (on the natural scale): E[tau(X) | T=1] = mean CATE among the treated\n",
    "true_att = float(generated_df.loc[generated_df[\"t\"] == 1, \"cate\"].mean())\n",
    "print(f\"Ground-truth ATT from the DGP: {true_att:.3f}\")\n",
    "\n",
    "# 8) Wrap as CausalData for downstream workflows (keeps only y, t, and specified confounders)\n",
    "causal_data = CausalData(\n",
    "    df=generated_df,\n",
    "    treatment=\"t\",\n",
    "    outcome=\"y\",\n",
    "    confounders=[\n",
    "        \"tenure_months\",\n",
    "        \"avg_sessions_week\",\n",
    "        \"spend_last_month\",\n",
    "        \"premium_user\",\n",
    "        \"urban_resident\",\n",
    "    ],\n",
    ")\n",
    "\n",
    "# Peek at the analysis-ready view\n",
    "causal_data.df.head()"
   ],
   "id": "7b4f8f604a5e7b94",
   "outputs": [
    {
     "name": "stdout",
     "output_type": "stream",
     "text": [
      "Ground-truth ATT from the DGP: 1.386\n"
     ]
    },
    {
     "data": {
      "text/plain": [
       "          y    t  tenure_months  avg_sessions_week  spend_last_month  \\\n",
       "0  4.271022  0.0      27.656605           5.352554         72.552568   \n",
       "1  5.587845  0.0      11.520191           6.798247        188.481287   \n",
       "2  3.312418  1.0      33.005414           2.055459         51.040440   \n",
       "3  4.287821  1.0      35.286777           4.429404        166.992239   \n",
       "4  5.078609  0.0       0.587578           6.658307        179.371126   \n",
       "\n",
       "   premium_user  urban_resident  \n",
       "0           1.0             0.0  \n",
       "1           1.0             0.0  \n",
       "2           0.0             1.0  \n",
       "3           0.0             1.0  \n",
       "4           0.0             0.0  "
      ],
      "text/html": [
       "<div>\n",
       "<style scoped>\n",
       "    .dataframe tbody tr th:only-of-type {\n",
       "        vertical-align: middle;\n",
       "    }\n",
       "\n",
       "    .dataframe tbody tr th {\n",
       "        vertical-align: top;\n",
       "    }\n",
       "\n",
       "    .dataframe thead th {\n",
       "        text-align: right;\n",
       "    }\n",
       "</style>\n",
       "<table border=\"1\" class=\"dataframe\">\n",
       "  <thead>\n",
       "    <tr style=\"text-align: right;\">\n",
       "      <th></th>\n",
       "      <th>y</th>\n",
       "      <th>t</th>\n",
       "      <th>tenure_months</th>\n",
       "      <th>avg_sessions_week</th>\n",
       "      <th>spend_last_month</th>\n",
       "      <th>premium_user</th>\n",
       "      <th>urban_resident</th>\n",
       "    </tr>\n",
       "  </thead>\n",
       "  <tbody>\n",
       "    <tr>\n",
       "      <th>0</th>\n",
       "      <td>4.271022</td>\n",
       "      <td>0.0</td>\n",
       "      <td>27.656605</td>\n",
       "      <td>5.352554</td>\n",
       "      <td>72.552568</td>\n",
       "      <td>1.0</td>\n",
       "      <td>0.0</td>\n",
       "    </tr>\n",
       "    <tr>\n",
       "      <th>1</th>\n",
       "      <td>5.587845</td>\n",
       "      <td>0.0</td>\n",
       "      <td>11.520191</td>\n",
       "      <td>6.798247</td>\n",
       "      <td>188.481287</td>\n",
       "      <td>1.0</td>\n",
       "      <td>0.0</td>\n",
       "    </tr>\n",
       "    <tr>\n",
       "      <th>2</th>\n",
       "      <td>3.312418</td>\n",
       "      <td>1.0</td>\n",
       "      <td>33.005414</td>\n",
       "      <td>2.055459</td>\n",
       "      <td>51.040440</td>\n",
       "      <td>0.0</td>\n",
       "      <td>1.0</td>\n",
       "    </tr>\n",
       "    <tr>\n",
       "      <th>3</th>\n",
       "      <td>4.287821</td>\n",
       "      <td>1.0</td>\n",
       "      <td>35.286777</td>\n",
       "      <td>4.429404</td>\n",
       "      <td>166.992239</td>\n",
       "      <td>0.0</td>\n",
       "      <td>1.0</td>\n",
       "    </tr>\n",
       "    <tr>\n",
       "      <th>4</th>\n",
       "      <td>5.078609</td>\n",
       "      <td>0.0</td>\n",
       "      <td>0.587578</td>\n",
       "      <td>6.658307</td>\n",
       "      <td>179.371126</td>\n",
       "      <td>0.0</td>\n",
       "      <td>0.0</td>\n",
       "    </tr>\n",
       "  </tbody>\n",
       "</table>\n",
       "</div>"
      ]
     },
     "execution_count": 1,
     "metadata": {},
     "output_type": "execute_result"
    }
   ],
   "execution_count": 1
  },
  {
   "metadata": {},
   "cell_type": "markdown",
   "source": "## EDA\n",
   "id": "6ea34c7a8604ab7c"
  },
  {
   "metadata": {
    "ExecuteTime": {
     "end_time": "2025-09-28T18:32:29.026427Z",
     "start_time": "2025-09-28T18:32:28.586860Z"
    }
   },
   "cell_type": "code",
   "source": [
    "from causalkit.eda import CausalEDA\n",
    "eda = CausalEDA(causal_data)"
   ],
   "id": "9ab105021806e4f7",
   "outputs": [],
   "execution_count": 2
  },
  {
   "metadata": {},
   "cell_type": "markdown",
   "source": "### General dataset information",
   "id": "c54043a64935ef40"
  },
  {
   "metadata": {},
   "cell_type": "markdown",
   "source": "Let's see how outcome differ between clients who recieved the feature and didn't",
   "id": "bb15a5a46c793d5c"
  },
  {
   "metadata": {
    "ExecuteTime": {
     "end_time": "2025-09-28T18:32:29.047157Z",
     "start_time": "2025-09-28T18:32:29.044288Z"
    }
   },
   "cell_type": "code",
   "source": [
    "# shape of data\n",
    "eda.data_shape()"
   ],
   "id": "5c27584411c6af1a",
   "outputs": [
    {
     "data": {
      "text/plain": [
       "{'n_rows': 10000, 'n_columns': 7}"
      ]
     },
     "execution_count": 3,
     "metadata": {},
     "output_type": "execute_result"
    }
   ],
   "execution_count": 3
  },
  {
   "metadata": {
    "ExecuteTime": {
     "end_time": "2025-09-28T18:32:29.077353Z",
     "start_time": "2025-09-28T18:32:29.068887Z"
    }
   },
   "cell_type": "code",
   "source": [
    "# 1) Outcome statistics by treatment\n",
    "eda.outcome_stats()"
   ],
   "id": "968d7e7c86750af",
   "outputs": [
    {
     "data": {
      "text/plain": [
       "           count      mean       std       min       p10       p25    median  \\\n",
       "treatment                                                                      \n",
       "0.0         6529  3.198953  1.694603 -3.050511  1.073270  2.029572  3.158016   \n",
       "1.0         3471  5.303419  2.095659 -0.470855  2.674562  3.838173  5.213797   \n",
       "\n",
       "                p75       p90        max  \n",
       "treatment                                 \n",
       "0.0        4.322127  5.362317  11.984144  \n",
       "1.0        6.620930  8.011148  13.705192  "
      ],
      "text/html": [
       "<div>\n",
       "<style scoped>\n",
       "    .dataframe tbody tr th:only-of-type {\n",
       "        vertical-align: middle;\n",
       "    }\n",
       "\n",
       "    .dataframe tbody tr th {\n",
       "        vertical-align: top;\n",
       "    }\n",
       "\n",
       "    .dataframe thead th {\n",
       "        text-align: right;\n",
       "    }\n",
       "</style>\n",
       "<table border=\"1\" class=\"dataframe\">\n",
       "  <thead>\n",
       "    <tr style=\"text-align: right;\">\n",
       "      <th></th>\n",
       "      <th>count</th>\n",
       "      <th>mean</th>\n",
       "      <th>std</th>\n",
       "      <th>min</th>\n",
       "      <th>p10</th>\n",
       "      <th>p25</th>\n",
       "      <th>median</th>\n",
       "      <th>p75</th>\n",
       "      <th>p90</th>\n",
       "      <th>max</th>\n",
       "    </tr>\n",
       "    <tr>\n",
       "      <th>treatment</th>\n",
       "      <th></th>\n",
       "      <th></th>\n",
       "      <th></th>\n",
       "      <th></th>\n",
       "      <th></th>\n",
       "      <th></th>\n",
       "      <th></th>\n",
       "      <th></th>\n",
       "      <th></th>\n",
       "      <th></th>\n",
       "    </tr>\n",
       "  </thead>\n",
       "  <tbody>\n",
       "    <tr>\n",
       "      <th>0.0</th>\n",
       "      <td>6529</td>\n",
       "      <td>3.198953</td>\n",
       "      <td>1.694603</td>\n",
       "      <td>-3.050511</td>\n",
       "      <td>1.073270</td>\n",
       "      <td>2.029572</td>\n",
       "      <td>3.158016</td>\n",
       "      <td>4.322127</td>\n",
       "      <td>5.362317</td>\n",
       "      <td>11.984144</td>\n",
       "    </tr>\n",
       "    <tr>\n",
       "      <th>1.0</th>\n",
       "      <td>3471</td>\n",
       "      <td>5.303419</td>\n",
       "      <td>2.095659</td>\n",
       "      <td>-0.470855</td>\n",
       "      <td>2.674562</td>\n",
       "      <td>3.838173</td>\n",
       "      <td>5.213797</td>\n",
       "      <td>6.620930</td>\n",
       "      <td>8.011148</td>\n",
       "      <td>13.705192</td>\n",
       "    </tr>\n",
       "  </tbody>\n",
       "</table>\n",
       "</div>"
      ]
     },
     "execution_count": 4,
     "metadata": {},
     "output_type": "execute_result"
    }
   ],
   "execution_count": 4
  },
  {
   "metadata": {
    "ExecuteTime": {
     "end_time": "2025-09-28T18:32:29.204643Z",
     "start_time": "2025-09-28T18:32:29.101802Z"
    }
   },
   "cell_type": "code",
   "source": [
    "# 2) Outcome distribution by treatment (hist + boxplot)\n",
    "fig1, fig2 = eda.outcome_plots()\n",
    "plt.show()"
   ],
   "id": "c2258bc285979bc5",
   "outputs": [
    {
     "data": {
      "text/plain": [
       "<Figure size 700x400 with 1 Axes>"
      ],
      "image/png": "[encoded data removed]"
     },
     "metadata": {},
     "output_type": "display_data",
     "jetTransient": {
      "display_id": null
     }
    },
    {
     "data": {
      "text/plain": [
       "<Figure size 700x400 with 1 Axes>"
      ],
      "image/png": "[encoded data removed]"
     },
     "metadata": {},
     "output_type": "display_data",
     "jetTransient": {
      "display_id": null
     }
    }
   ],
   "execution_count": 5
  },
  {
   "metadata": {},
   "cell_type": "markdown",
   "source": "### Propensity",
   "id": "5b0d6974b483485d"
  },
  {
   "metadata": {},
   "cell_type": "markdown",
   "source": "Now let's examine how propensity score differ treatments",
   "id": "663908e8b581476"
  },
  {
   "metadata": {
    "ExecuteTime": {
     "end_time": "2025-09-28T18:32:29.228336Z",
     "start_time": "2025-09-28T18:32:29.222252Z"
    }
   },
   "cell_type": "code",
   "source": [
    "# Shows means of confounders for control/treated groups, absolute differences, and SMD values\n",
    "confounders_balance_df = eda.confounders_means()\n",
    "display(confounders_balance_df)"
   ],
   "id": "b149a9c9c6c1996d",
   "outputs": [
    {
     "data": {
      "text/plain": [
       "                    mean_t_0    mean_t_1   abs_diff       smd\n",
       "confounders                                                  \n",
       "spend_last_month   90.246033  119.504887  29.258855  0.527431\n",
       "premium_user        0.194823    0.354941   0.160118  0.364510\n",
       "avg_sessions_week   4.903527    5.298734   0.395206  0.197970\n",
       "urban_resident      0.576811    0.646211   0.069400  0.142734\n",
       "tenure_months      23.337260   24.892263   1.555004  0.128836"
      ],
      "text/html": [
       "<div>\n",
       "<style scoped>\n",
       "    .dataframe tbody tr th:only-of-type {\n",
       "        vertical-align: middle;\n",
       "    }\n",
       "\n",
       "    .dataframe tbody tr th {\n",
       "        vertical-align: top;\n",
       "    }\n",
       "\n",
       "    .dataframe thead th {\n",
       "        text-align: right;\n",
       "    }\n",
       "</style>\n",
       "<table border=\"1\" class=\"dataframe\">\n",
       "  <thead>\n",
       "    <tr style=\"text-align: right;\">\n",
       "      <th></th>\n",
       "      <th>mean_t_0</th>\n",
       "      <th>mean_t_1</th>\n",
       "      <th>abs_diff</th>\n",
       "      <th>smd</th>\n",
       "    </tr>\n",
       "    <tr>\n",
       "      <th>confounders</th>\n",
       "      <th></th>\n",
       "      <th></th>\n",
       "      <th></th>\n",
       "      <th></th>\n",
       "    </tr>\n",
       "  </thead>\n",
       "  <tbody>\n",
       "    <tr>\n",
       "      <th>spend_last_month</th>\n",
       "      <td>90.246033</td>\n",
       "      <td>119.504887</td>\n",
       "      <td>29.258855</td>\n",
       "      <td>0.527431</td>\n",
       "    </tr>\n",
       "    <tr>\n",
       "      <th>premium_user</th>\n",
       "      <td>0.194823</td>\n",
       "      <td>0.354941</td>\n",
       "      <td>0.160118</td>\n",
       "      <td>0.364510</td>\n",
       "    </tr>\n",
       "    <tr>\n",
       "      <th>avg_sessions_week</th>\n",
       "      <td>4.903527</td>\n",
       "      <td>5.298734</td>\n",
       "      <td>0.395206</td>\n",
       "      <td>0.197970</td>\n",
       "    </tr>\n",
       "    <tr>\n",
       "      <th>urban_resident</th>\n",
       "      <td>0.576811</td>\n",
       "      <td>0.646211</td>\n",
       "      <td>0.069400</td>\n",
       "      <td>0.142734</td>\n",
       "    </tr>\n",
       "    <tr>\n",
       "      <th>tenure_months</th>\n",
       "      <td>23.337260</td>\n",
       "      <td>24.892263</td>\n",
       "      <td>1.555004</td>\n",
       "      <td>0.128836</td>\n",
       "    </tr>\n",
       "  </tbody>\n",
       "</table>\n",
       "</div>"
      ]
     },
     "metadata": {},
     "output_type": "display_data",
     "jetTransient": {
      "display_id": null
     }
    }
   ],
   "execution_count": 6
  },
  {
   "metadata": {
    "ExecuteTime": {
     "end_time": "2025-09-28T18:32:37.032443Z",
     "start_time": "2025-09-28T18:32:29.254030Z"
    }
   },
   "cell_type": "code",
   "source": [
    "# Propensity model fit\n",
    "ps_model = eda.fit_propensity()\n",
    "\n",
    "# ROC AUC - shows how predictable treatment is from confounders\n",
    "roc_auc_score = ps_model.roc_auc\n",
    "print(\"ROC AUC from PropensityModel:\", round(roc_auc_score, 4))"
   ],
   "id": "1c36c6cd337b48d9",
   "outputs": [
    {
     "name": "stdout",
     "output_type": "stream",
     "text": [
      "ROC AUC from PropensityModel: 0.6924\n"
     ]
    }
   ],
   "execution_count": 7
  },
  {
   "metadata": {
    "ExecuteTime": {
     "end_time": "2025-09-28T18:32:37.074953Z",
     "start_time": "2025-09-28T18:32:37.072241Z"
    }
   },
   "cell_type": "code",
   "source": [
    "# Positivity check - assess overlap between treatment groups\n",
    "positivity_result = ps_model.positivity_check()\n",
    "print(\"Positivity check from PropensityModel:\", positivity_result)"
   ],
   "id": "c8d829d997e0163d",
   "outputs": [
    {
     "name": "stdout",
     "output_type": "stream",
     "text": [
      "Positivity check from PropensityModel: {'bounds': (0.05, 0.95), 'share_below': 0.0123, 'share_above': 0.0003, 'flag': False}\n"
     ]
    }
   ],
   "execution_count": 8
  },
  {
   "metadata": {
    "ExecuteTime": {
     "end_time": "2025-09-28T18:32:37.379525Z",
     "start_time": "2025-09-28T18:32:37.085842Z"
    }
   },
   "cell_type": "code",
   "source": [
    "# SHAP values - feature importance for treatment assignment from confounders\n",
    "shap_values_df = ps_model.shap\n",
    "display(shap_values_df)"
   ],
   "id": "6129ed1631eed18d",
   "outputs": [
    {
     "data": {
      "text/plain": [
       "                  feature  shap_mean  shap_mean_abs  odds_mult_abs  \\\n",
       "0  num__avg_sessions_week  -0.000709       0.231318       1.260259   \n",
       "1      num__tenure_months   0.000493       0.176727       1.193305   \n",
       "2       num__premium_user   0.000182       0.350892       1.420334   \n",
       "3     num__urban_resident   0.000045       0.169130       1.184274   \n",
       "4   num__spend_last_month  -0.000011       0.571914       1.771655   \n",
       "\n",
       "   exact_pp_change_abs  exact_pp_change_signed  \n",
       "0             0.053972               -0.000160  \n",
       "1             0.040955                0.000111  \n",
       "2             0.082963                0.000041  \n",
       "3             0.039157                0.000010  \n",
       "4             0.137722               -0.000002  "
      ],
      "text/html": [
       "<div>\n",
       "<style scoped>\n",
       "    .dataframe tbody tr th:only-of-type {\n",
       "        vertical-align: middle;\n",
       "    }\n",
       "\n",
       "    .dataframe tbody tr th {\n",
       "        vertical-align: top;\n",
       "    }\n",
       "\n",
       "    .dataframe thead th {\n",
       "        text-align: right;\n",
       "    }\n",
       "</style>\n",
       "<table border=\"1\" class=\"dataframe\">\n",
       "  <thead>\n",
       "    <tr style=\"text-align: right;\">\n",
       "      <th></th>\n",
       "      <th>feature</th>\n",
       "      <th>shap_mean</th>\n",
       "      <th>shap_mean_abs</th>\n",
       "      <th>odds_mult_abs</th>\n",
       "      <th>exact_pp_change_abs</th>\n",
       "      <th>exact_pp_change_signed</th>\n",
       "    </tr>\n",
       "  </thead>\n",
       "  <tbody>\n",
       "    <tr>\n",
       "      <th>0</th>\n",
       "      <td>num__avg_sessions_week</td>\n",
       "      <td>-0.000709</td>\n",
       "      <td>0.231318</td>\n",
       "      <td>1.260259</td>\n",
       "      <td>0.053972</td>\n",
       "      <td>-0.000160</td>\n",
       "    </tr>\n",
       "    <tr>\n",
       "      <th>1</th>\n",
       "      <td>num__tenure_months</td>\n",
       "      <td>0.000493</td>\n",
       "      <td>0.176727</td>\n",
       "      <td>1.193305</td>\n",
       "      <td>0.040955</td>\n",
       "      <td>0.000111</td>\n",
       "    </tr>\n",
       "    <tr>\n",
       "      <th>2</th>\n",
       "      <td>num__premium_user</td>\n",
       "      <td>0.000182</td>\n",
       "      <td>0.350892</td>\n",
       "      <td>1.420334</td>\n",
       "      <td>0.082963</td>\n",
       "      <td>0.000041</td>\n",
       "    </tr>\n",
       "    <tr>\n",
       "      <th>3</th>\n",
       "      <td>num__urban_resident</td>\n",
       "      <td>0.000045</td>\n",
       "      <td>0.169130</td>\n",
       "      <td>1.184274</td>\n",
       "      <td>0.039157</td>\n",
       "      <td>0.000010</td>\n",
       "    </tr>\n",
       "    <tr>\n",
       "      <th>4</th>\n",
       "      <td>num__spend_last_month</td>\n",
       "      <td>-0.000011</td>\n",
       "      <td>0.571914</td>\n",
       "      <td>1.771655</td>\n",
       "      <td>0.137722</td>\n",
       "      <td>-0.000002</td>\n",
       "    </tr>\n",
       "  </tbody>\n",
       "</table>\n",
       "</div>"
      ]
     },
     "metadata": {},
     "output_type": "display_data",
     "jetTransient": {
      "display_id": null
     }
    }
   ],
   "execution_count": 9
  },
  {
   "metadata": {
    "ExecuteTime": {
     "end_time": "2025-09-28T18:32:37.441584Z",
     "start_time": "2025-09-28T18:32:37.386604Z"
    }
   },
   "cell_type": "code",
   "source": [
    "# Propensity score overlap graph\n",
    "ps_model.ps_graph()\n",
    "plt.show()"
   ],
   "id": "cc3741a172a0d303",
   "outputs": [
    {
     "data": {
      "text/plain": [
       "<Figure size 640x480 with 1 Axes>"
      ],
      "image/png": "[encoded data removed]"
     },
     "metadata": {},
     "output_type": "display_data",
     "jetTransient": {
      "display_id": null
     }
    }
   ],
   "execution_count": 10
  },
  {
   "metadata": {},
   "cell_type": "markdown",
   "source": "### Outcome regression",
   "id": "f8acad543480c315"
  },
  {
   "metadata": {},
   "cell_type": "markdown",
   "source": "Let's analyze how confounders predict outcome",
   "id": "34957e45b4f108a4"
  },
  {
   "metadata": {
    "ExecuteTime": {
     "end_time": "2025-09-28T18:32:41.278886Z",
     "start_time": "2025-09-28T18:32:37.444474Z"
    }
   },
   "cell_type": "code",
   "source": [
    "# Outcome model fit\n",
    "outcome_model = eda.outcome_fit()\n",
    "\n",
    "# RMSE and MAE of regression model\n",
    "print(outcome_model.scores)"
   ],
   "id": "4e6305ae7446c781",
   "outputs": [
    {
     "name": "stdout",
     "output_type": "stream",
     "text": [
      "{'rmse': 1.203515978910883, 'mae': 0.9643596469055236}\n"
     ]
    }
   ],
   "execution_count": 11
  },
  {
   "metadata": {
    "ExecuteTime": {
     "end_time": "2025-09-28T18:32:41.515156Z",
     "start_time": "2025-09-28T18:32:41.290667Z"
    }
   },
   "cell_type": "code",
   "source": [
    "# 2) SHAP values - feature importance for outcome prediction from confounders\n",
    "shap_outcome_df = outcome_model.shap\n",
    "display(shap_outcome_df)"
   ],
   "id": "47461aeee30f4024",
   "outputs": [
    {
     "data": {
      "text/plain": [
       "             feature  shap_mean\n",
       "0       premium_user   0.000558\n",
       "1      tenure_months  -0.000404\n",
       "2  avg_sessions_week   0.000242\n",
       "3   spend_last_month  -0.000218\n",
       "4     urban_resident  -0.000178"
      ],
      "text/html": [
       "<div>\n",
       "<style scoped>\n",
       "    .dataframe tbody tr th:only-of-type {\n",
       "        vertical-align: middle;\n",
       "    }\n",
       "\n",
       "    .dataframe tbody tr th {\n",
       "        vertical-align: top;\n",
       "    }\n",
       "\n",
       "    .dataframe thead th {\n",
       "        text-align: right;\n",
       "    }\n",
       "</style>\n",
       "<table border=\"1\" class=\"dataframe\">\n",
       "  <thead>\n",
       "    <tr style=\"text-align: right;\">\n",
       "      <th></th>\n",
       "      <th>feature</th>\n",
       "      <th>shap_mean</th>\n",
       "    </tr>\n",
       "  </thead>\n",
       "  <tbody>\n",
       "    <tr>\n",
       "      <th>0</th>\n",
       "      <td>premium_user</td>\n",
       "      <td>0.000558</td>\n",
       "    </tr>\n",
       "    <tr>\n",
       "      <th>1</th>\n",
       "      <td>tenure_months</td>\n",
       "      <td>-0.000404</td>\n",
       "    </tr>\n",
       "    <tr>\n",
       "      <th>2</th>\n",
       "      <td>avg_sessions_week</td>\n",
       "      <td>0.000242</td>\n",
       "    </tr>\n",
       "    <tr>\n",
       "      <th>3</th>\n",
       "      <td>spend_last_month</td>\n",
       "      <td>-0.000218</td>\n",
       "    </tr>\n",
       "    <tr>\n",
       "      <th>4</th>\n",
       "      <td>urban_resident</td>\n",
       "      <td>-0.000178</td>\n",
       "    </tr>\n",
       "  </tbody>\n",
       "</table>\n",
       "</div>"
      ]
     },
     "metadata": {},
     "output_type": "display_data",
     "jetTransient": {
      "display_id": null
     }
    }
   ],
   "execution_count": 12
  },
  {
   "metadata": {},
   "cell_type": "markdown",
   "source": "# Inference",
   "id": "d758c21a760c23ae"
  },
  {
   "metadata": {},
   "cell_type": "markdown",
   "source": "Now time to estimate ATE with Double Machine Learning",
   "id": "c95f6ac049968704"
  },
  {
   "metadata": {
    "ExecuteTime": {
     "end_time": "2025-09-28T18:32:49.839198Z",
     "start_time": "2025-09-28T18:32:41.521983Z"
    }
   },
   "cell_type": "code",
   "source": [
    "from causalkit.inference.att import dml_att\n",
    "\n",
    "# Estimate Average Treatment Effect (ATT)\n",
    "att_result = dml_att(causal_data, normalize_ipw = True)"
   ],
   "id": "35e465e763fd52b0",
   "outputs": [],
   "execution_count": 13
  },
  {
   "metadata": {
    "ExecuteTime": {
     "end_time": "2025-09-28T18:33:00.085587Z",
     "start_time": "2025-09-28T18:32:49.852318Z"
    }
   },
   "cell_type": "code",
   "source": [
    "from causalkit.inference.ate import dml_ate\n",
    "#\n",
    "# # Estimate Average Treatment Effect (ATE)\n",
    "ate_result = dml_ate(causal_data, normalize_ipw = False)"
   ],
   "id": "d27b67be026e3eeb",
   "outputs": [],
   "execution_count": 14
  },
  {
   "metadata": {
    "ExecuteTime": {
     "end_time": "2025-09-28T18:33:00.100001Z",
     "start_time": "2025-09-28T18:33:00.098471Z"
    }
   },
   "cell_type": "code",
   "source": "# ate_result",
   "id": "217a2f52c34055cd",
   "outputs": [],
   "execution_count": 15
  },
  {
   "metadata": {},
   "cell_type": "markdown",
   "source": "Real ATT is 1.385",
   "id": "ad9dc37e7cab0f8a"
  },
  {
   "metadata": {},
   "cell_type": "markdown",
   "source": "## Refutation",
   "id": "ff769bf09f75babf"
  },
  {
   "metadata": {
    "ExecuteTime": {
     "end_time": "2025-09-28T18:33:00.106261Z",
     "start_time": "2025-09-28T18:33:00.101937Z"
    }
   },
   "cell_type": "code",
   "source": "from causalkit.refutation.overlap.overlap_validation import overlap_report_from_result",
   "id": "48b7c7875e415a76",
   "outputs": [],
   "execution_count": 16
  },
  {
   "metadata": {
    "ExecuteTime": {
     "end_time": "2025-09-28T18:33:00.115027Z",
     "start_time": "2025-09-28T18:33:00.108098Z"
    }
   },
   "cell_type": "code",
   "source": "report = overlap_report_from_result(ate_result)",
   "id": "55cb5e843f88866b",
   "outputs": [],
   "execution_count": 17
  },
  {
   "metadata": {
    "ExecuteTime": {
     "end_time": "2025-09-28T18:33:00.119443Z",
     "start_time": "2025-09-28T18:33:00.117150Z"
    }
   },
   "cell_type": "code",
   "source": "report",
   "id": "8579a8a7636100b8",
   "outputs": [
    {
     "data": {
      "text/plain": [
       "{'n': 10000,\n",
       " 'n_treated': 3471,\n",
       " 'p1': 0.3471,\n",
       " 'eps': (0.01, 0.02),\n",
       " 'edge_mass': {'share_below_001': 0.0,\n",
       "  'share_above_001': 0.0,\n",
       "  'share_below_002': 0.002,\n",
       "  'share_above_002': 0.0,\n",
       "  'min_m': 0.01,\n",
       "  'max_m': 0.967738134749056},\n",
       " 'edge_mass_by_arm': {'share_below_001_D1': 0.0,\n",
       "  'share_above_001_D0': 0.0,\n",
       "  'share_below_002_D1': 0.0002881014116969173,\n",
       "  'share_above_002_D0': 0.0},\n",
       " 'ks': 0.27980189354421175,\n",
       " 'auc': 0.6917306952086957,\n",
       " 'ate_ipw': {'sum_w1': 10896.839923099658,\n",
       "  'sum_w0': 10252.743055285151,\n",
       "  'mean_w1': 3.139394964880339,\n",
       "  'mean_w0': 1.5703389577707387,\n",
       "  'target_sum_w1': 3471.0,\n",
       "  'target_sum_w0': 6529.0,\n",
       "  'target_mean_w': nan},\n",
       " 'ate_ess': {'ess_w1': 1980.1942052087606,\n",
       "  'ess_w0': 5141.522417854527,\n",
       "  'ess_ratio_w1': 0.5704967459546991,\n",
       "  'ess_ratio_w0': 0.7874900318355839},\n",
       " 'ate_tails': {'w1': {'q50': 2.408586261165248,\n",
       "   'q95': 7.38726433314639,\n",
       "   'q99': 32.46598823807997,\n",
       "   'max': 72.82510972745777,\n",
       "   'median': 2.408586261165248},\n",
       "  'w0': {'q50': 1.3786266986276856,\n",
       "   'q95': 2.61274074107696,\n",
       "   'q99': 9.338362641088212,\n",
       "   'max': 30.996347924140554,\n",
       "   'median': 1.3786266986276856}},\n",
       " 'att_weights': {'lhs_sum': 3723.7430552851515,\n",
       "  'rhs_sum': 3471.0,\n",
       "  'rel_err': 0.07281563102424417},\n",
       " 'att_ess': {'ess_w1': 3471.0000000000005,\n",
       "  'ess_w0': 2143.634771240887,\n",
       "  'ess_ratio_w1': 1.0000000000000002,\n",
       "  'ess_ratio_w0': 0.32832512961263394},\n",
       " 'clipping': {'m_clip_lower': 0.0002,\n",
       "  'm_clip_upper': 0.0,\n",
       "  'g_clip_share': nan},\n",
       " 'flags': {'edge_mass_001': 'GREEN',\n",
       "  'edge_mass_002': 'GREEN',\n",
       "  'ks': 'YELLOW',\n",
       "  'auc': 'GREEN',\n",
       "  'ipw_sum_w1': 'NA',\n",
       "  'ipw_sum_w0': 'NA',\n",
       "  'ess_w1': 'GREEN',\n",
       "  'ess_w0': 'GREEN',\n",
       "  'tails_w1': 'YELLOW',\n",
       "  'tails_w0': 'YELLOW',\n",
       "  'att_identity': 'YELLOW',\n",
       "  'clip_m': 'GREEN'}}"
      ]
     },
     "execution_count": 18,
     "metadata": {},
     "output_type": "execute_result"
    }
   ],
   "execution_count": 18
  },
  {
   "metadata": {
    "ExecuteTime": {
     "end_time": "2025-09-28T18:33:00.122895Z",
     "start_time": "2025-09-28T18:33:00.121511Z"
    }
   },
   "cell_type": "code",
   "source": "print(report[\"flags\"])",
   "id": "daca202b0e471a8a",
   "outputs": [
    {
     "name": "stdout",
     "output_type": "stream",
     "text": [
      "{'edge_mass_001': 'GREEN', 'edge_mass_002': 'GREEN', 'ks': 'YELLOW', 'auc': 'GREEN', 'ipw_sum_w1': 'NA', 'ipw_sum_w0': 'NA', 'ess_w1': 'GREEN', 'ess_w0': 'GREEN', 'tails_w1': 'YELLOW', 'tails_w0': 'YELLOW', 'att_identity': 'YELLOW', 'clip_m': 'GREEN'}\n"
     ]
    }
   ],
   "execution_count": 19
  },
  {
   "metadata": {
    "ExecuteTime": {
     "end_time": "2025-09-28T18:33:00.125969Z",
     "start_time": "2025-09-28T18:33:00.124898Z"
    }
   },
   "cell_type": "code",
   "source": "",
   "id": "72799f016a531f71",
   "outputs": [],
   "execution_count": null
  },
  {
   "metadata": {
    "ExecuteTime": {
     "end_time": "2025-09-28T18:33:00.128602Z",
     "start_time": "2025-09-28T18:33:00.127387Z"
    }
   },
   "cell_type": "code",
   "source": "from causalkit.refutation.unconfoundedness.uncofoundedness_validation import validate_unconfoundedness_balance\n",
   "id": "47bc9901605f06c7",
   "outputs": [],
   "execution_count": 20
  },
  {
   "metadata": {
    "ExecuteTime": {
     "end_time": "2025-09-28T18:33:00.132535Z",
     "start_time": "2025-09-28T18:33:00.129976Z"
    }
   },
   "cell_type": "code",
   "source": "balance = validate_unconfoundedness_balance(ate_result)",
   "id": "fe1b971731c3cb4d",
   "outputs": [],
   "execution_count": 21
  },
  {
   "metadata": {
    "ExecuteTime": {
     "end_time": "2025-09-28T18:33:00.136079Z",
     "start_time": "2025-09-28T18:33:00.134014Z"
    }
   },
   "cell_type": "code",
   "source": "balance",
   "id": "426ab010b4ef18fd",
   "outputs": [
    {
     "data": {
      "text/plain": [
       "{'smd': tenure_months        0.046788\n",
       " avg_sessions_week    0.018677\n",
       " spend_last_month     0.067443\n",
       " premium_user         0.025733\n",
       " urban_resident       0.002922\n",
       " dtype: float64,\n",
       " 'smd_unweighted': tenure_months        0.128851\n",
       " avg_sessions_week    0.197992\n",
       " spend_last_month     0.527488\n",
       " premium_user         0.364552\n",
       " urban_resident       0.142749\n",
       " dtype: float64,\n",
       " 'score': 'ATE',\n",
       " 'normalized': False,\n",
       " 'threshold': 0.1,\n",
       " 'pass': True,\n",
       " 'smd_max': 0.06744306721999557,\n",
       " 'worst_features': spend_last_month     0.067443\n",
       " tenure_months        0.046788\n",
       " premium_user         0.025733\n",
       " avg_sessions_week    0.018677\n",
       " urban_resident       0.002922\n",
       " dtype: float64}"
      ]
     },
     "execution_count": 22,
     "metadata": {},
     "output_type": "execute_result"
    }
   ],
   "execution_count": 22
  },
  {
   "metadata": {
    "ExecuteTime": {
     "end_time": "2025-09-28T18:33:00.140359Z",
     "start_time": "2025-09-28T18:33:00.137980Z"
    }
   },
   "cell_type": "code",
   "source": [
    "# Python\n",
    "from causalkit.refutation.unconfoundedness.uncofoundedness_validation import (\n",
    "    sensitivity_analysis, get_sensitivity_summary,\n",
    ")\n",
    "\n",
    "summary_str = sensitivity_analysis(ate_result, cf_y=0.01, cf_d=0.1, rho=1.0, level=0.95)\n",
    "print(get_sensitivity_summary(ate_result))  # or print(summary_str)"
   ],
   "id": "6cbadc6eb21d6e08",
   "outputs": [
    {
     "name": "stdout",
     "output_type": "stream",
     "text": [
      "================== Sensitivity Analysis ==================\n",
      "\n",
      "------------------ Scenario          ------------------\n",
      "Significance Level: level=0.95\n",
      "Sensitivity parameters: cf_y=0.01; cf_d=0.1, rho=1.0\n",
      "\n",
      "------------------ Bounds with CI    ------------------\n",
      "          CI lower  theta lower           theta  theta upper      CI upper\n",
      "     t    1.176719    -0.008472        1.237730     2.483933      1.298742\n",
      "\n",
      "------------------ Robustness (SNR proxy) -------------\n",
      "          H_0   SNR proxy (%)  adj (%)\n",
      "     t    0.0        2.453301 0.000000\n"
     ]
    }
   ],
   "execution_count": 23
  },
  {
   "metadata": {
    "ExecuteTime": {
     "end_time": "2025-09-28T18:33:10.339368Z",
     "start_time": "2025-09-28T18:33:00.141797Z"
    }
   },
   "cell_type": "code",
   "source": [
    "\n",
    "from causalkit.refutation.unconfoundedness.uncofoundedness_validation import (\n",
    "sensitivity_benchmark\n",
    ")\n",
    "\n",
    "print(sensitivity_benchmark(ate_result, benchmarking_set=[\"premium_user\"]))"
   ],
   "id": "f7def7109b22d778",
   "outputs": [
    {
     "name": "stdout",
     "output_type": "stream",
     "text": [
      "       cf_y          cf_d  rho  theta_long  theta_short     delta\n",
      "t  0.000013  8.152891e-07  1.0     1.23773     1.537911 -0.300181\n"
     ]
    }
   ],
   "execution_count": 24
  },
  {
   "metadata": {
    "ExecuteTime": {
     "end_time": "2025-09-28T18:33:10.354501Z",
     "start_time": "2025-09-28T18:33:10.353172Z"
    }
   },
   "cell_type": "code",
   "source": "",
   "id": "1a3466cb1547cee2",
   "outputs": [],
   "execution_count": null
  }
 ],
 "metadata": {
  "kernelspec": {
   "display_name": "Python 3",
   "language": "python",
   "name": "python3"
  },
  "language_info": {
   "codemirror_mode": {
    "name": "ipython",
    "version": 2
   },
   "file_extension": ".py",
   "mimetype": "text/x-python",
   "name": "python",
   "nbconvert_exporter": "python",
   "pygments_lexer": "ipython2",
   "version": "2.7.6"
  }
 },
 "nbformat": 4,
 "nbformat_minor": 5
}
