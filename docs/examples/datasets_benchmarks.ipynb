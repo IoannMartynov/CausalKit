{
 "cells": [
  {
   "metadata": {},
   "cell_type": "markdown",
   "source": "# Datasets benchmarks",
   "id": "29d28f4351922673"
  },
  {
   "metadata": {},
   "cell_type": "markdown",
   "source": "In this notebook we well benchmark data generators processes",
   "id": "eb4a6a1e4a862327"
  },
  {
   "metadata": {
    "ExecuteTime": {
     "end_time": "2025-09-16T07:06:25.511098Z",
     "start_time": "2025-09-16T07:06:25.346164Z"
    }
   },
   "cell_type": "code",
   "source": [
    "\n",
    "import numpy as np\n",
    "import pandas as pd\n",
    "\n",
    "# If available in your environment:\n",
    "from causalkit.data import CausalDatasetGenerator\n",
    "\n",
    "# Reproducibility\n",
    "SEED = 42\n",
    "np.random.seed(SEED)\n",
    "\n",
    "# Number of observations\n",
    "n = 10000\n",
    "\n",
    "# Confounders schema\n",
    "# These are illustrative product/behavior/user attributes\n",
    "confounder_specs = [\n",
    "    {\"name\": \"tenure_months\", \"dist\": \"normal\", \"mu\": 18, \"sd\": 12},  # app tenure\n",
    "    {\"name\": \"sessions_per_week\", \"dist\": \"normal\", \"mu\": 6, \"sd\": 3},  # engagement\n",
    "    {\"name\": \"spend_last_30d\", \"dist\": \"uniform\", \"a\": 0, \"b\": 300},  # recent spend\n",
    "    {\"name\": \"premium_user\", \"dist\": \"bernoulli\", \"p\": 0.2},  # subscription\n",
    "    {\"name\": \"urban_resident\", \"dist\": \"bernoulli\", \"p\": 0.65},  # geography\n",
    "]\n",
    "\n",
    "# True causal effect on ARPPU (on the natural/mean scale)\n",
    "theta_arppu = 4.0\n",
    "\n",
    "# Outcome noise (ARPPU is positive and often heavy-tailed; this is a simple Gaussian noise)\n",
    "sigma_y = 8.0\n",
    "\n",
    "# Target share of users exposed to the feature\n",
    "target_t_rate = 0.4\n",
    "\n",
    "# How confounders affect ARPPU (baseline; additive)\n",
    "# Order must match confounder_specs\n",
    "beta_y = np.array([\n",
    "    0.08,  # + per tenure month\n",
    "    0.60,  # + per weekly session\n",
    "    0.03,  # + per recent spend unit (scaled here)\n",
    "    6.00,  # premium users have higher ARPPU\n",
    "    2.00,  # urban residents slightly higher ARPPU\n",
    "], dtype=float)\n",
    "\n",
    "# How confounders affect feature exposure (log-odds scale)\n",
    "beta_t = np.array([\n",
    "    0.02,  # tenure increases likelihood of exposure\n",
    "    0.15,  # more sessions -> more likely to get feature\n",
    "    0.004,  # recent spend -> more likely to get feature\n",
    "    1.00,  # premium users prioritized\n",
    "    0.35,  # urban residents slightly more likely\n",
    "], dtype=float)\n",
    "\n",
    "gen = CausalDatasetGenerator(\n",
    "    theta=theta_arppu,\n",
    "    outcome_type=\"continuous\",\n",
    "    sigma_y=sigma_y,\n",
    "    target_t_rate=target_t_rate,\n",
    "    seed=SEED,\n",
    "    confounder_specs=confounder_specs,\n",
    "    beta_y=beta_y,\n",
    "    beta_t=beta_t,\n",
    ")\n",
    "\n",
    "# Create dataset\n",
    "causal_data = gen.to_causal_data(\n",
    "    n=n,\n",
    "    confounders = [\n",
    "    \"tenure_months\",\n",
    "    \"sessions_per_week\",\n",
    "    \"spend_last_30d\",\n",
    "    \"premium_user\",\n",
    "    \"urban_resident\",\n",
    "]\n",
    ")\n",
    "\n",
    "# Show first few rows\n",
    "causal_data.df.head()\n"
   ],
   "id": "89ad49bf4bb4b10f",
   "outputs": [
    {
     "data": {
      "text/plain": [
       "           y    t  tenure_months  sessions_per_week  spend_last_30d  \\\n",
       "0   8.406833  0.0      21.656605           6.528831      108.828852   \n",
       "1  20.729293  0.0       5.520191           8.697370      282.721931   \n",
       "2  21.206321  1.0      27.005414           1.583188       76.560660   \n",
       "3  12.788396  1.0      29.286777           5.144106      250.488359   \n",
       "4  25.289485  0.0      -5.412422           8.487460      269.056688   \n",
       "\n",
       "   premium_user  urban_resident  \n",
       "0           1.0             0.0  \n",
       "1           1.0             0.0  \n",
       "2           0.0             1.0  \n",
       "3           0.0             1.0  \n",
       "4           0.0             1.0  "
      ],
      "text/html": [
       "<div>\n",
       "<style scoped>\n",
       "    .dataframe tbody tr th:only-of-type {\n",
       "        vertical-align: middle;\n",
       "    }\n",
       "\n",
       "    .dataframe tbody tr th {\n",
       "        vertical-align: top;\n",
       "    }\n",
       "\n",
       "    .dataframe thead th {\n",
       "        text-align: right;\n",
       "    }\n",
       "</style>\n",
       "<table border=\"1\" class=\"dataframe\">\n",
       "  <thead>\n",
       "    <tr style=\"text-align: right;\">\n",
       "      <th></th>\n",
       "      <th>y</th>\n",
       "      <th>t</th>\n",
       "      <th>tenure_months</th>\n",
       "      <th>sessions_per_week</th>\n",
       "      <th>spend_last_30d</th>\n",
       "      <th>premium_user</th>\n",
       "      <th>urban_resident</th>\n",
       "    </tr>\n",
       "  </thead>\n",
       "  <tbody>\n",
       "    <tr>\n",
       "      <th>0</th>\n",
       "      <td>8.406833</td>\n",
       "      <td>0.0</td>\n",
       "      <td>21.656605</td>\n",
       "      <td>6.528831</td>\n",
       "      <td>108.828852</td>\n",
       "      <td>1.0</td>\n",
       "      <td>0.0</td>\n",
       "    </tr>\n",
       "    <tr>\n",
       "      <th>1</th>\n",
       "      <td>20.729293</td>\n",
       "      <td>0.0</td>\n",
       "      <td>5.520191</td>\n",
       "      <td>8.697370</td>\n",
       "      <td>282.721931</td>\n",
       "      <td>1.0</td>\n",
       "      <td>0.0</td>\n",
       "    </tr>\n",
       "    <tr>\n",
       "      <th>2</th>\n",
       "      <td>21.206321</td>\n",
       "      <td>1.0</td>\n",
       "      <td>27.005414</td>\n",
       "      <td>1.583188</td>\n",
       "      <td>76.560660</td>\n",
       "      <td>0.0</td>\n",
       "      <td>1.0</td>\n",
       "    </tr>\n",
       "    <tr>\n",
       "      <th>3</th>\n",
       "      <td>12.788396</td>\n",
       "      <td>1.0</td>\n",
       "      <td>29.286777</td>\n",
       "      <td>5.144106</td>\n",
       "      <td>250.488359</td>\n",
       "      <td>0.0</td>\n",
       "      <td>1.0</td>\n",
       "    </tr>\n",
       "    <tr>\n",
       "      <th>4</th>\n",
       "      <td>25.289485</td>\n",
       "      <td>0.0</td>\n",
       "      <td>-5.412422</td>\n",
       "      <td>8.487460</td>\n",
       "      <td>269.056688</td>\n",
       "      <td>0.0</td>\n",
       "      <td>1.0</td>\n",
       "    </tr>\n",
       "  </tbody>\n",
       "</table>\n",
       "</div>"
      ]
     },
     "execution_count": 1,
     "metadata": {},
     "output_type": "execute_result"
    }
   ],
   "execution_count": 1
  },
  {
   "metadata": {
    "collapsed": true,
    "ExecuteTime": {
     "end_time": "2025-09-16T07:06:34.864043Z",
     "start_time": "2025-09-16T07:06:25.531303Z"
    }
   },
   "cell_type": "code",
   "source": [
    "from causalkit.inference.ate import dml_ate\n",
    "\n",
    "# Estimate Average Treatment Effect (ATE)\n",
    "ate_result = dml_ate(causal_data, n_folds=4, confidence_level=0.95)\n",
    "ate_result"
   ],
   "id": "95aed9659e69057e",
   "outputs": [
    {
     "data": {
      "text/plain": [
       "{'coefficient': 4.090571940507052,\n",
       " 'std_error': 0.22198970848317795,\n",
       " 'p_value': 0.0,\n",
       " 'confidence_interval': (3.6554801069414777, 4.525663774072627),\n",
       " 'model': <causalkit.inference.estimators.irm.IRM at 0x153352120>}"
      ]
     },
     "execution_count": 2,
     "metadata": {},
     "output_type": "execute_result"
    }
   ],
   "execution_count": 2
  },
  {
   "metadata": {
    "ExecuteTime": {
     "end_time": "2025-09-16T07:06:42.907407Z",
     "start_time": "2025-09-16T07:06:34.957533Z"
    }
   },
   "cell_type": "code",
   "source": [
    "from causalkit.inference.att import dml_att\n",
    "\n",
    "# Estimate Average Treatment Effect (ATE)\n",
    "att_result = dml_att(causal_data, n_folds=4, confidence_level=0.95)\n",
    "att_result"
   ],
   "id": "5c24ee4a1f07c2b8",
   "outputs": [
    {
     "data": {
      "text/plain": [
       "{'coefficient': 3.9104555564866956,\n",
       " 'std_error': 0.23592251483262563,\n",
       " 'p_value': 0.0,\n",
       " 'confidence_interval': (3.4480559242726327, 4.3728551887007585),\n",
       " 'model': <causalkit.inference.estimators.irm.IRM at 0x10769b250>}"
      ]
     },
     "execution_count": 3,
     "metadata": {},
     "output_type": "execute_result"
    }
   ],
   "execution_count": 3
  },
  {
   "metadata": {
    "ExecuteTime": {
     "end_time": "2025-09-16T07:06:42.943406Z",
     "start_time": "2025-09-16T07:06:42.916007Z"
    }
   },
   "cell_type": "code",
   "source": [
    "\n",
    "import numpy as np\n",
    "import pandas as pd\n",
    "\n",
    "# If available in your environment:\n",
    "from causalkit.data import CausalDatasetGenerator\n",
    "\n",
    "# Reproducibility\n",
    "SEED = 42\n",
    "np.random.seed(SEED)\n",
    "\n",
    "# Number of observations\n",
    "n = 10000\n",
    "\n",
    "# Confounders schema\n",
    "# These are illustrative product/behavior/user attributes\n",
    "confounder_specs = [\n",
    "    {\"name\": \"tenure_months\", \"dist\": \"normal\", \"mu\": 18, \"sd\": 12},  # app tenure\n",
    "    {\"name\": \"sessions_per_week\", \"dist\": \"normal\", \"mu\": 6, \"sd\": 3},  # engagement\n",
    "    {\"name\": \"spend_last_30d\", \"dist\": \"uniform\", \"a\": 0, \"b\": 300},  # recent spend\n",
    "    {\"name\": \"premium_user\", \"dist\": \"bernoulli\", \"p\": 0.2},  # subscription\n",
    "    {\"name\": \"urban_resident\", \"dist\": \"bernoulli\", \"p\": 0.65},  # geography\n",
    "]\n",
    "\n",
    "# True causal effect on ARPPU (on the natural/mean scale)\n",
    "theta_arppu = 4.0\n",
    "\n",
    "# Outcome noise (ARPPU is positive and often heavy-tailed; this is a simple Gaussian noise)\n",
    "sigma_y = 8.0\n",
    "\n",
    "# Target share of users exposed to the feature\n",
    "target_t_rate = 0.4\n",
    "\n",
    "# How confounders affect ARPPU (baseline; additive)\n",
    "# Order must match confounder_specs\n",
    "beta_y = np.array([\n",
    "    0.08,  # + per tenure month\n",
    "    0.60,  # + per weekly session\n",
    "    0.03,  # + per recent spend unit (scaled here)\n",
    "    6.00,  # premium users have higher ARPPU\n",
    "    2.00,  # urban residents slightly higher ARPPU\n",
    "], dtype=float)\n",
    "\n",
    "# How confounders affect feature exposure (log-odds scale)\n",
    "beta_t = np.array([\n",
    "    0.02,  # tenure increases likelihood of exposure\n",
    "    0.15,  # more sessions -> more likely to get feature\n",
    "    0.9,  # recent spend -> more likely to get feature\n",
    "    1.00,  # premium users prioritized\n",
    "    0.35,  # urban residents slightly more likely\n",
    "], dtype=float)\n",
    "\n",
    "gen = CausalDatasetGenerator(\n",
    "    theta=theta_arppu,\n",
    "    outcome_type=\"continuous\",\n",
    "    sigma_y=sigma_y,\n",
    "    target_t_rate=target_t_rate,\n",
    "    seed=SEED,\n",
    "    confounder_specs=confounder_specs,\n",
    "    beta_y=beta_y,\n",
    "    beta_t=beta_t,\n",
    ")\n",
    "\n",
    "# Create dataset\n",
    "causal_data = gen.to_causal_data(\n",
    "    n=n,\n",
    "    confounders = [\n",
    "    \"tenure_months\",\n",
    "    \"sessions_per_week\",\n",
    "    \"spend_last_30d\",\n",
    "    \"premium_user\",\n",
    "    \"urban_resident\",\n",
    "]\n",
    ")\n",
    "\n",
    "# Show first few rows\n",
    "causal_data.df.head()\n"
   ],
   "id": "b11dc709a23dbb57",
   "outputs": [
    {
     "data": {
      "text/plain": [
       "           y    t  tenure_months  sessions_per_week  spend_last_30d  \\\n",
       "0  12.406833  1.0      21.656605           6.528831      108.828852   \n",
       "1  24.729293  1.0       5.520191           8.697370      282.721931   \n",
       "2  21.206321  1.0      27.005414           1.583188       76.560660   \n",
       "3  12.788396  1.0      29.286777           5.144106      250.488359   \n",
       "4  29.289485  1.0      -5.412422           8.487460      269.056688   \n",
       "\n",
       "   premium_user  urban_resident  \n",
       "0           1.0             0.0  \n",
       "1           1.0             0.0  \n",
       "2           0.0             1.0  \n",
       "3           0.0             1.0  \n",
       "4           0.0             1.0  "
      ],
      "text/html": [
       "<div>\n",
       "<style scoped>\n",
       "    .dataframe tbody tr th:only-of-type {\n",
       "        vertical-align: middle;\n",
       "    }\n",
       "\n",
       "    .dataframe tbody tr th {\n",
       "        vertical-align: top;\n",
       "    }\n",
       "\n",
       "    .dataframe thead th {\n",
       "        text-align: right;\n",
       "    }\n",
       "</style>\n",
       "<table border=\"1\" class=\"dataframe\">\n",
       "  <thead>\n",
       "    <tr style=\"text-align: right;\">\n",
       "      <th></th>\n",
       "      <th>y</th>\n",
       "      <th>t</th>\n",
       "      <th>tenure_months</th>\n",
       "      <th>sessions_per_week</th>\n",
       "      <th>spend_last_30d</th>\n",
       "      <th>premium_user</th>\n",
       "      <th>urban_resident</th>\n",
       "    </tr>\n",
       "  </thead>\n",
       "  <tbody>\n",
       "    <tr>\n",
       "      <th>0</th>\n",
       "      <td>12.406833</td>\n",
       "      <td>1.0</td>\n",
       "      <td>21.656605</td>\n",
       "      <td>6.528831</td>\n",
       "      <td>108.828852</td>\n",
       "      <td>1.0</td>\n",
       "      <td>0.0</td>\n",
       "    </tr>\n",
       "    <tr>\n",
       "      <th>1</th>\n",
       "      <td>24.729293</td>\n",
       "      <td>1.0</td>\n",
       "      <td>5.520191</td>\n",
       "      <td>8.697370</td>\n",
       "      <td>282.721931</td>\n",
       "      <td>1.0</td>\n",
       "      <td>0.0</td>\n",
       "    </tr>\n",
       "    <tr>\n",
       "      <th>2</th>\n",
       "      <td>21.206321</td>\n",
       "      <td>1.0</td>\n",
       "      <td>27.005414</td>\n",
       "      <td>1.583188</td>\n",
       "      <td>76.560660</td>\n",
       "      <td>0.0</td>\n",
       "      <td>1.0</td>\n",
       "    </tr>\n",
       "    <tr>\n",
       "      <th>3</th>\n",
       "      <td>12.788396</td>\n",
       "      <td>1.0</td>\n",
       "      <td>29.286777</td>\n",
       "      <td>5.144106</td>\n",
       "      <td>250.488359</td>\n",
       "      <td>0.0</td>\n",
       "      <td>1.0</td>\n",
       "    </tr>\n",
       "    <tr>\n",
       "      <th>4</th>\n",
       "      <td>29.289485</td>\n",
       "      <td>1.0</td>\n",
       "      <td>-5.412422</td>\n",
       "      <td>8.487460</td>\n",
       "      <td>269.056688</td>\n",
       "      <td>0.0</td>\n",
       "      <td>1.0</td>\n",
       "    </tr>\n",
       "  </tbody>\n",
       "</table>\n",
       "</div>"
      ]
     },
     "execution_count": 4,
     "metadata": {},
     "output_type": "execute_result"
    }
   ],
   "execution_count": 4
  },
  {
   "metadata": {
    "ExecuteTime": {
     "end_time": "2025-09-16T07:06:50.459105Z",
     "start_time": "2025-09-16T07:06:42.960214Z"
    }
   },
   "cell_type": "code",
   "source": [
    "from causalkit.inference.ate import dml_ate\n",
    "\n",
    "# Estimate Average Treatment Effect (ATE)\n",
    "ate_result = dml_ate(causal_data, n_folds=4, confidence_level=0.95)\n",
    "ate_result"
   ],
   "id": "8344758cd2d73436",
   "outputs": [
    {
     "data": {
      "text/plain": [
       "{'coefficient': 6.691277054034963,\n",
       " 'std_error': 0.2811688205220031,\n",
       " 'p_value': 0.0,\n",
       " 'confidence_interval': (6.14019629223623, 7.242357815833695),\n",
       " 'model': <causalkit.inference.estimators.irm.IRM at 0x153545f90>}"
      ]
     },
     "execution_count": 5,
     "metadata": {},
     "output_type": "execute_result"
    }
   ],
   "execution_count": 5
  },
  {
   "metadata": {
    "ExecuteTime": {
     "end_time": "2025-09-16T07:06:57.915601Z",
     "start_time": "2025-09-16T07:06:50.480762Z"
    }
   },
   "cell_type": "code",
   "source": [
    "from causalkit.inference.att import dml_att\n",
    "\n",
    "# Estimate Average Treatment Effect (ATE)\n",
    "att_result = dml_att(causal_data, n_folds=4, confidence_level=0.95)\n",
    "att_result"
   ],
   "id": "6d6393ed1477e235",
   "outputs": [
    {
     "data": {
      "text/plain": [
       "{'coefficient': 5.557809684780822,\n",
       " 'std_error': 0.16240854670087557,\n",
       " 'p_value': 0.0,\n",
       " 'confidence_interval': (5.239494782465615, 5.8761245870960295),\n",
       " 'model': <causalkit.inference.estimators.irm.IRM at 0x153362c40>}"
      ]
     },
     "execution_count": 6,
     "metadata": {},
     "output_type": "execute_result"
    }
   ],
   "execution_count": 6
  },
  {
   "metadata": {
    "ExecuteTime": {
     "end_time": "2025-09-16T07:06:57.927717Z",
     "start_time": "2025-09-16T07:06:57.924138Z"
    }
   },
   "cell_type": "code",
   "source": [
    "from causalkit.eda import CausalEDA\n",
    "eda = CausalEDA(causal_data)\n",
    "\n",
    "# shape of data\n",
    "eda.data_shape()"
   ],
   "id": "852bccad6538e84b",
   "outputs": [
    {
     "data": {
      "text/plain": [
       "{'n_rows': 10000, 'n_columns': 7}"
      ]
     },
     "execution_count": 7,
     "metadata": {},
     "output_type": "execute_result"
    }
   ],
   "execution_count": 7
  },
  {
   "metadata": {
    "ExecuteTime": {
     "end_time": "2025-09-16T07:06:57.934816Z",
     "start_time": "2025-09-16T07:06:57.929774Z"
    }
   },
   "cell_type": "code",
   "source": [
    "# Shows means of confounders for control/treated groups, absolute differences, and SMD values\n",
    "confounders_balance_df = eda.confounders_means()\n",
    "display(confounders_balance_df)"
   ],
   "id": "be999a2fcd80cf39",
   "outputs": [
    {
     "data": {
      "text/plain": [
       "                    mean_t_0    mean_t_1    abs_diff       smd\n",
       "confounders                                                   \n",
       "spend_last_30d     26.819530  177.132999  150.313468  2.927622\n",
       "urban_resident      0.662323    0.647359    0.014964 -0.031474\n",
       "premium_user        0.193768    0.198907    0.005139  0.012936\n",
       "sessions_per_week   6.052819    6.062821    0.010002  0.003322\n",
       "tenure_months      17.883618   17.875583    0.008035 -0.000670"
      ],
      "text/html": [
       "<div>\n",
       "<style scoped>\n",
       "    .dataframe tbody tr th:only-of-type {\n",
       "        vertical-align: middle;\n",
       "    }\n",
       "\n",
       "    .dataframe tbody tr th {\n",
       "        vertical-align: top;\n",
       "    }\n",
       "\n",
       "    .dataframe thead th {\n",
       "        text-align: right;\n",
       "    }\n",
       "</style>\n",
       "<table border=\"1\" class=\"dataframe\">\n",
       "  <thead>\n",
       "    <tr style=\"text-align: right;\">\n",
       "      <th></th>\n",
       "      <th>mean_t_0</th>\n",
       "      <th>mean_t_1</th>\n",
       "      <th>abs_diff</th>\n",
       "      <th>smd</th>\n",
       "    </tr>\n",
       "    <tr>\n",
       "      <th>confounders</th>\n",
       "      <th></th>\n",
       "      <th></th>\n",
       "      <th></th>\n",
       "      <th></th>\n",
       "    </tr>\n",
       "  </thead>\n",
       "  <tbody>\n",
       "    <tr>\n",
       "      <th>spend_last_30d</th>\n",
       "      <td>26.819530</td>\n",
       "      <td>177.132999</td>\n",
       "      <td>150.313468</td>\n",
       "      <td>2.927622</td>\n",
       "    </tr>\n",
       "    <tr>\n",
       "      <th>urban_resident</th>\n",
       "      <td>0.662323</td>\n",
       "      <td>0.647359</td>\n",
       "      <td>0.014964</td>\n",
       "      <td>-0.031474</td>\n",
       "    </tr>\n",
       "    <tr>\n",
       "      <th>premium_user</th>\n",
       "      <td>0.193768</td>\n",
       "      <td>0.198907</td>\n",
       "      <td>0.005139</td>\n",
       "      <td>0.012936</td>\n",
       "    </tr>\n",
       "    <tr>\n",
       "      <th>sessions_per_week</th>\n",
       "      <td>6.052819</td>\n",
       "      <td>6.062821</td>\n",
       "      <td>0.010002</td>\n",
       "      <td>0.003322</td>\n",
       "    </tr>\n",
       "    <tr>\n",
       "      <th>tenure_months</th>\n",
       "      <td>17.883618</td>\n",
       "      <td>17.875583</td>\n",
       "      <td>0.008035</td>\n",
       "      <td>-0.000670</td>\n",
       "    </tr>\n",
       "  </tbody>\n",
       "</table>\n",
       "</div>"
      ]
     },
     "metadata": {},
     "output_type": "display_data",
     "jetTransient": {
      "display_id": null
     }
    }
   ],
   "execution_count": 8
  },
  {
   "metadata": {
    "ExecuteTime": {
     "end_time": "2025-09-16T07:07:04.323566Z",
     "start_time": "2025-09-16T07:06:57.947336Z"
    }
   },
   "cell_type": "code",
   "source": [
    "# Propensity model fit\n",
    "ps_model = eda.fit_propensity()\n",
    "\n",
    "# ROC AUC - shows how predictable treatment is from confounders\n",
    "roc_auc_score = ps_model.roc_auc\n",
    "print(\"ROC AUC from PropensityModel:\", round(roc_auc_score, 4))"
   ],
   "id": "a0ebc6faf5ba568b",
   "outputs": [
    {
     "name": "stdout",
     "output_type": "stream",
     "text": [
      "ROC AUC from PropensityModel: 0.9998\n"
     ]
    }
   ],
   "execution_count": 9
  },
  {
   "metadata": {
    "ExecuteTime": {
     "end_time": "2025-09-16T07:07:04.342107Z",
     "start_time": "2025-09-16T07:07:04.340052Z"
    }
   },
   "cell_type": "code",
   "source": [
    "# Positivity check - assess overlap between treatment groups\n",
    "positivity_result = ps_model.positivity_check()\n",
    "print(\"Positivity check from PropensityModel:\", positivity_result)"
   ],
   "id": "b3f64c0a85aacb3",
   "outputs": [
    {
     "name": "stdout",
     "output_type": "stream",
     "text": [
      "Positivity check from PropensityModel: {'bounds': (0.05, 0.95), 'share_below': 0.1701, 'share_above': 0.8183, 'flag': True}\n"
     ]
    }
   ],
   "execution_count": 10
  },
  {
   "metadata": {
    "ExecuteTime": {
     "end_time": "2025-09-16T07:07:04.534960Z",
     "start_time": "2025-09-16T07:07:04.345474Z"
    }
   },
   "cell_type": "code",
   "source": [
    "# SHAP values - feature importance for treatment assignment from confounders\n",
    "shap_values_df = ps_model.shap\n",
    "display(shap_values_df)"
   ],
   "id": "e0f150b88b2129b7",
   "outputs": [
    {
     "data": {
      "text/plain": [
       "                  feature  shap_mean  shap_mean_abs  odds_mult_abs  \\\n",
       "0     num__spend_last_30d  -0.000424       5.302985     200.935675   \n",
       "1      num__tenure_months  -0.000442       0.254931       1.290372   \n",
       "2     num__urban_resident   0.000445       0.178274       1.195153   \n",
       "3  num__sessions_per_week   0.000340       0.177695       1.194461   \n",
       "4       num__premium_user   0.000081       0.094717       1.099348   \n",
       "\n",
       "   exact_pp_change_abs  exact_pp_change_signed  \n",
       "0             0.175716               -0.000062  \n",
       "1             0.034106               -0.000064  \n",
       "2             0.024470                0.000065  \n",
       "3             0.024395                0.000050  \n",
       "4             0.013365                0.000012  "
      ],
      "text/html": [
       "<div>\n",
       "<style scoped>\n",
       "    .dataframe tbody tr th:only-of-type {\n",
       "        vertical-align: middle;\n",
       "    }\n",
       "\n",
       "    .dataframe tbody tr th {\n",
       "        vertical-align: top;\n",
       "    }\n",
       "\n",
       "    .dataframe thead th {\n",
       "        text-align: right;\n",
       "    }\n",
       "</style>\n",
       "<table border=\"1\" class=\"dataframe\">\n",
       "  <thead>\n",
       "    <tr style=\"text-align: right;\">\n",
       "      <th></th>\n",
       "      <th>feature</th>\n",
       "      <th>shap_mean</th>\n",
       "      <th>shap_mean_abs</th>\n",
       "      <th>odds_mult_abs</th>\n",
       "      <th>exact_pp_change_abs</th>\n",
       "      <th>exact_pp_change_signed</th>\n",
       "    </tr>\n",
       "  </thead>\n",
       "  <tbody>\n",
       "    <tr>\n",
       "      <th>0</th>\n",
       "      <td>num__spend_last_30d</td>\n",
       "      <td>-0.000424</td>\n",
       "      <td>5.302985</td>\n",
       "      <td>200.935675</td>\n",
       "      <td>0.175716</td>\n",
       "      <td>-0.000062</td>\n",
       "    </tr>\n",
       "    <tr>\n",
       "      <th>1</th>\n",
       "      <td>num__tenure_months</td>\n",
       "      <td>-0.000442</td>\n",
       "      <td>0.254931</td>\n",
       "      <td>1.290372</td>\n",
       "      <td>0.034106</td>\n",
       "      <td>-0.000064</td>\n",
       "    </tr>\n",
       "    <tr>\n",
       "      <th>2</th>\n",
       "      <td>num__urban_resident</td>\n",
       "      <td>0.000445</td>\n",
       "      <td>0.178274</td>\n",
       "      <td>1.195153</td>\n",
       "      <td>0.024470</td>\n",
       "      <td>0.000065</td>\n",
       "    </tr>\n",
       "    <tr>\n",
       "      <th>3</th>\n",
       "      <td>num__sessions_per_week</td>\n",
       "      <td>0.000340</td>\n",
       "      <td>0.177695</td>\n",
       "      <td>1.194461</td>\n",
       "      <td>0.024395</td>\n",
       "      <td>0.000050</td>\n",
       "    </tr>\n",
       "    <tr>\n",
       "      <th>4</th>\n",
       "      <td>num__premium_user</td>\n",
       "      <td>0.000081</td>\n",
       "      <td>0.094717</td>\n",
       "      <td>1.099348</td>\n",
       "      <td>0.013365</td>\n",
       "      <td>0.000012</td>\n",
       "    </tr>\n",
       "  </tbody>\n",
       "</table>\n",
       "</div>"
      ]
     },
     "metadata": {},
     "output_type": "display_data",
     "jetTransient": {
      "display_id": null
     }
    }
   ],
   "execution_count": 11
  },
  {
   "metadata": {
    "ExecuteTime": {
     "end_time": "2025-09-16T07:07:04.548470Z",
     "start_time": "2025-09-16T07:07:04.547188Z"
    }
   },
   "cell_type": "code",
   "source": "",
   "id": "e45257ec58105c8b",
   "outputs": [],
   "execution_count": null
  }
 ],
 "metadata": {
  "kernelspec": {
   "display_name": "Python 3",
   "language": "python",
   "name": "python3"
  },
  "language_info": {
   "codemirror_mode": {
    "name": "ipython",
    "version": 2
   },
   "file_extension": ".py",
   "mimetype": "text/x-python",
   "name": "python",
   "nbconvert_exporter": "python",
   "pygments_lexer": "ipython2",
   "version": "2.7.6"
  }
 },
 "nbformat": 4,
 "nbformat_minor": 5
}
