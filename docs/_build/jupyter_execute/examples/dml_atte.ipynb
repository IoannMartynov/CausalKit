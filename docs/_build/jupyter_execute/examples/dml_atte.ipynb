{
 "cells": [
  {
   "cell_type": "markdown",
   "id": "3bb65e072e9ab811",
   "metadata": {},
   "source": [
    "# DML ATT Example"
   ]
  },
  {
   "cell_type": "markdown",
   "id": "cbe2952f317dfd58",
   "metadata": {},
   "source": [
    "This notebook covers scenario:\n",
    "| Is RCT        | Treatment | Outcome    | EDA | Estimands | Refutation |\n",
    "|---------------|-----------|------------|-----|-----------|------------|\n",
    "| Observational | Binary    | Continuous | Yes | ATT       | Yes        |\n",
    "\n",
    "We will estimate Average Treatment Effect on Treated (ATT) of binary treatment on continuous outcome. It shows explonatary data analysis and refutation tests"
   ]
  },
  {
   "cell_type": "markdown",
   "id": "505f0f3204e38817",
   "metadata": {},
   "source": [
    "## Generate data"
   ]
  },
  {
   "cell_type": "markdown",
   "id": "791d585776e1380c",
   "metadata": {},
   "source": [
    "Example that generates observational data with a nonlinear outcome model, nonlinear treatment assignment, and a heterogeneous (nonlinear) treatment effect tau(X). This setup ensures that ATT ≠ ATE in general. It also shows how to compute the “ground-truth” ATT from the generated data."
   ]
  },
  {
   "cell_type": "code",
   "execution_count": 1,
   "id": "7b4f8f604a5e7b94",
   "metadata": {
    "ExecuteTime": {
     "end_time": "2025-10-14T17:29:34.054472Z",
     "start_time": "2025-10-14T17:29:33.434089Z"
    }
   },
   "outputs": [
    {
     "name": "stdout",
     "output_type": "stream",
     "text": [
      "Ground-truth ATT from the DGP: 1.386\n"
     ]
    },
    {
     "data": {
      "text/html": [
       "<div>\n",
       "<style scoped>\n",
       "    .dataframe tbody tr th:only-of-type {\n",
       "        vertical-align: middle;\n",
       "    }\n",
       "\n",
       "    .dataframe tbody tr th {\n",
       "        vertical-align: top;\n",
       "    }\n",
       "\n",
       "    .dataframe thead th {\n",
       "        text-align: right;\n",
       "    }\n",
       "</style>\n",
       "<table border=\"1\" class=\"dataframe\">\n",
       "  <thead>\n",
       "    <tr style=\"text-align: right;\">\n",
       "      <th></th>\n",
       "      <th>y</th>\n",
       "      <th>d</th>\n",
       "      <th>tenure_months</th>\n",
       "      <th>avg_sessions_week</th>\n",
       "      <th>spend_last_month</th>\n",
       "      <th>premium_user</th>\n",
       "      <th>urban_resident</th>\n",
       "    </tr>\n",
       "  </thead>\n",
       "  <tbody>\n",
       "    <tr>\n",
       "      <th>0</th>\n",
       "      <td>2.237316</td>\n",
       "      <td>0.0</td>\n",
       "      <td>27.656605</td>\n",
       "      <td>5.352554</td>\n",
       "      <td>72.552568</td>\n",
       "      <td>1.0</td>\n",
       "      <td>0.0</td>\n",
       "    </tr>\n",
       "    <tr>\n",
       "      <th>1</th>\n",
       "      <td>5.771469</td>\n",
       "      <td>0.0</td>\n",
       "      <td>11.520191</td>\n",
       "      <td>6.798247</td>\n",
       "      <td>188.481287</td>\n",
       "      <td>1.0</td>\n",
       "      <td>0.0</td>\n",
       "    </tr>\n",
       "    <tr>\n",
       "      <th>2</th>\n",
       "      <td>6.374653</td>\n",
       "      <td>1.0</td>\n",
       "      <td>33.005414</td>\n",
       "      <td>2.055459</td>\n",
       "      <td>51.040440</td>\n",
       "      <td>0.0</td>\n",
       "      <td>1.0</td>\n",
       "    </tr>\n",
       "    <tr>\n",
       "      <th>3</th>\n",
       "      <td>2.364177</td>\n",
       "      <td>1.0</td>\n",
       "      <td>35.286777</td>\n",
       "      <td>4.429404</td>\n",
       "      <td>166.992239</td>\n",
       "      <td>0.0</td>\n",
       "      <td>1.0</td>\n",
       "    </tr>\n",
       "    <tr>\n",
       "      <th>4</th>\n",
       "      <td>8.378079</td>\n",
       "      <td>0.0</td>\n",
       "      <td>0.587578</td>\n",
       "      <td>6.658307</td>\n",
       "      <td>179.371126</td>\n",
       "      <td>0.0</td>\n",
       "      <td>0.0</td>\n",
       "    </tr>\n",
       "  </tbody>\n",
       "</table>\n",
       "</div>"
      ],
      "text/plain": [
       "          y    d  tenure_months  avg_sessions_week  spend_last_month  \\\n",
       "0  2.237316  0.0      27.656605           5.352554         72.552568   \n",
       "1  5.771469  0.0      11.520191           6.798247        188.481287   \n",
       "2  6.374653  1.0      33.005414           2.055459         51.040440   \n",
       "3  2.364177  1.0      35.286777           4.429404        166.992239   \n",
       "4  8.378079  0.0       0.587578           6.658307        179.371126   \n",
       "\n",
       "   premium_user  urban_resident  \n",
       "0           1.0             0.0  \n",
       "1           1.0             0.0  \n",
       "2           0.0             1.0  \n",
       "3           0.0             1.0  \n",
       "4           0.0             0.0  "
      ]
     },
     "execution_count": 1,
     "metadata": {},
     "output_type": "execute_result"
    }
   ],
   "source": [
    "# Nonlinear ATT data generation with heterogeneous effects\n",
    "\n",
    "import numpy as np\n",
    "import pandas as pd\n",
    "import matplotlib.pyplot as plt\n",
    "\n",
    "from causalis.data import CausalDatasetGenerator, CausalData\n",
    "\n",
    "# Reproducibility\n",
    "np.random.seed(42)\n",
    "\n",
    "# 1) Confounders and their distributions\n",
    "#    These names define the column order in X for the custom functions.\n",
    "confounder_specs = [\n",
    "    {\"name\": \"tenure_months\",     \"dist\": \"normal\",   \"mu\": 24, \"sd\": 12},\n",
    "    {\"name\": \"avg_sessions_week\", \"dist\": \"normal\",   \"mu\": 5,  \"sd\": 2},\n",
    "    {\"name\": \"spend_last_month\",  \"dist\": \"uniform\",  \"a\": 0,   \"b\": 200},\n",
    "    {\"name\": \"premium_user\",      \"dist\": \"bernoulli\",\"p\": 0.25},\n",
    "    {\"name\": \"urban_resident\",    \"dist\": \"bernoulli\",\"p\": 0.60},\n",
    "]\n",
    "\n",
    "# Indices (for convenience inside g_y, g_t, tau)\n",
    "TENURE, SESS, SPEND, PREMIUM, URBAN = range(5)\n",
    "\n",
    "# 2) Nonlinear baseline for outcome f_y(X) = X @ beta_y + g_y(X)\n",
    "#    Keep a modest linear part and add meaningful nonlinearities.\n",
    "beta_y = np.array([\n",
    "    0.03,   # tenure_months\n",
    "    0.20,   # avg_sessions_week\n",
    "    0.01,   # spend_last_month\n",
    "    1.20,   # premium_user\n",
    "    0.60,   # urban_resident\n",
    "], dtype=float)\n",
    "\n",
    "def g_y(X: np.ndarray) -> np.ndarray:\n",
    "    # Nonlinearities and interactions in outcome baseline\n",
    "    tenure_years = X[:, TENURE] / 12.0\n",
    "    sessions = X[:, SESS]\n",
    "    spend = X[:, SPEND]\n",
    "    premium = X[:, PREMIUM]\n",
    "    urban = X[:, URBAN]\n",
    "\n",
    "    return (\n",
    "        1.2 * np.sin(2.0 * np.pi * tenure_years)          # seasonal-ish tenure pattern\n",
    "        + 0.02 * (sessions - 5.0) ** 2                    # convex effect of sessions\n",
    "        + 0.0015 * (spend - 100.0) * (sessions - 5.0)     # spend × sessions interaction\n",
    "        + 0.4 * premium * (sessions - 5.0)                # premium × sessions interaction\n",
    "        + 0.3 * urban * np.tanh((spend - 100.0) / 50.0)   # nonlinear spend effect differs by urban\n",
    "    )\n",
    "\n",
    "# 3) Nonlinear treatment score f_t(X) = X @ beta_t + g_t(X)\n",
    "beta_d = np.array([\n",
    "    0.010,  # tenure_months\n",
    "    0.12,   # avg_sessions_week\n",
    "    0.001,  # spend_last_month\n",
    "    0.80,   # premium_user\n",
    "    0.25,   # urban_resident\n",
    "], dtype=float)\n",
    "\n",
    "def g_d(X: np.ndarray) -> np.ndarray:\n",
    "    tenure_years = X[:, TENURE] / 12.0\n",
    "    sessions = X[:, SESS]\n",
    "    spend = X[:, SPEND]\n",
    "    premium = X[:, PREMIUM]\n",
    "    urban = X[:, URBAN]\n",
    "\n",
    "    # Smoothly increasing selection with spend; interactions make selection non-separable\n",
    "    soft_spend = 1.2 * np.tanh((spend - 80.0) / 40.0)\n",
    "    return (\n",
    "        0.6 * soft_spend\n",
    "        + 0.15 * (sessions - 5.0) * (tenure_years - 2.0)\n",
    "        + 0.25 * premium * (urban - 0.5)\n",
    "    )\n",
    "\n",
    "# 4) Heterogeneous, nonlinear treatment effect tau(X) on the natural scale (continuous outcome)\n",
    "def tau_fn(X: np.ndarray) -> np.ndarray:\n",
    "    tenure_years = X[:, TENURE] / 12.0\n",
    "    sessions = X[:, SESS]\n",
    "    spend = X[:, SPEND]\n",
    "    premium = X[:, PREMIUM]\n",
    "    urban = X[:, URBAN]\n",
    "\n",
    "    # Base effect + stronger effect for higher sessions and premium users,\n",
    "    # diminishes with tenure, mild modulation by spend and urban\n",
    "    tau = (\n",
    "        1.0\n",
    "        + 0.8 * (1.0 / (1.0 + np.exp(-(sessions - 5.0))))    # sigmoid in sessions\n",
    "        + 0.5 * premium\n",
    "        - 0.6 * np.clip(tenure_years / 5.0, 0.0, 1.0)        # taper with long tenure\n",
    "        + 0.2 * urban * (spend - 100.0) / 100.0\n",
    "    )\n",
    "    # Optional: keep it in a reasonable range\n",
    "    return np.clip(tau, 0.2, 2.5)\n",
    "\n",
    "# 5) Noise and prevalence\n",
    "sigma_y = 3.5\n",
    "target_d_rate = 0.35  # enforce ~35% treated via intercept calibration\n",
    "\n",
    "# 6) Build generator\n",
    "gen = CausalDatasetGenerator(\n",
    "    outcome_type=\"continuous\",\n",
    "    sigma_y=sigma_y,\n",
    "    target_d_rate=target_d_rate,\n",
    "    seed=42,\n",
    "    # Confounders\n",
    "    confounder_specs=confounder_specs,\n",
    "    # Outcome/treatment structure\n",
    "    beta_y=beta_y,\n",
    "    beta_d=beta_d,\n",
    "    g_y=g_y,\n",
    "    g_d=g_d,\n",
    "    # Heterogeneous effect\n",
    "    tau=tau_fn,\n",
    ")\n",
    "\n",
    "# 7) Generate data (full dataframe includes ground-truth columns: propensity, mu0, mu1, cate)\n",
    "n = 10000\n",
    "generated_df = gen.generate(n)\n",
    "\n",
    "# Ground-truth ATT (on the natural scale): E[tau(X) | T=1] = mean CATE among the treated\n",
    "true_att = float(generated_df.loc[generated_df[\"d\"] == 1, \"cate\"].mean())\n",
    "print(f\"Ground-truth ATT from the DGP: {true_att:.3f}\")\n",
    "\n",
    "# 8) Wrap as CausalData for downstream workflows (keeps only y, t, and specified confounders)\n",
    "causal_data = CausalData(\n",
    "    df=generated_df,\n",
    "    treatment=\"d\",\n",
    "    outcome=\"y\",\n",
    "    confounders=[\n",
    "        \"tenure_months\",\n",
    "        \"avg_sessions_week\",\n",
    "        \"spend_last_month\",\n",
    "        \"premium_user\",\n",
    "        \"urban_resident\",\n",
    "    ],\n",
    ")\n",
    "\n",
    "# Peek at the analysis-ready view\n",
    "causal_data.df.head()"
   ]
  },
  {
   "cell_type": "markdown",
   "id": "6ea34c7a8604ab7c",
   "metadata": {},
   "source": [
    "## EDA\n"
   ]
  },
  {
   "cell_type": "code",
   "execution_count": 2,
   "id": "9ab105021806e4f7",
   "metadata": {
    "ExecuteTime": {
     "end_time": "2025-10-14T17:29:34.603243Z",
     "start_time": "2025-10-14T17:29:34.073562Z"
    }
   },
   "outputs": [],
   "source": [
    "from causalis.eda import CausalEDA\n",
    "eda = CausalEDA(causal_data)"
   ]
  },
  {
   "cell_type": "markdown",
   "id": "c54043a64935ef40",
   "metadata": {},
   "source": [
    "### General dataset information"
   ]
  },
  {
   "cell_type": "markdown",
   "id": "bb15a5a46c793d5c",
   "metadata": {},
   "source": [
    "Let's see how outcome differ between clients who recieved the feature and didn't"
   ]
  },
  {
   "cell_type": "code",
   "execution_count": 3,
   "id": "5c27584411c6af1a",
   "metadata": {
    "ExecuteTime": {
     "end_time": "2025-10-14T17:29:34.622214Z",
     "start_time": "2025-10-14T17:29:34.619789Z"
    }
   },
   "outputs": [
    {
     "data": {
      "text/plain": [
       "{'n_rows': 10000, 'n_columns': 7}"
      ]
     },
     "execution_count": 3,
     "metadata": {},
     "output_type": "execute_result"
    }
   ],
   "source": [
    "# shape of data\n",
    "eda.data_shape()"
   ]
  },
  {
   "cell_type": "code",
   "execution_count": 4,
   "id": "968d7e7c86750af",
   "metadata": {
    "ExecuteTime": {
     "end_time": "2025-10-14T17:29:34.635606Z",
     "start_time": "2025-10-14T17:29:34.627923Z"
    }
   },
   "outputs": [
    {
     "data": {
      "text/html": [
       "<div>\n",
       "<style scoped>\n",
       "    .dataframe tbody tr th:only-of-type {\n",
       "        vertical-align: middle;\n",
       "    }\n",
       "\n",
       "    .dataframe tbody tr th {\n",
       "        vertical-align: top;\n",
       "    }\n",
       "\n",
       "    .dataframe thead th {\n",
       "        text-align: right;\n",
       "    }\n",
       "</style>\n",
       "<table border=\"1\" class=\"dataframe\">\n",
       "  <thead>\n",
       "    <tr style=\"text-align: right;\">\n",
       "      <th></th>\n",
       "      <th>count</th>\n",
       "      <th>mean</th>\n",
       "      <th>std</th>\n",
       "      <th>min</th>\n",
       "      <th>p10</th>\n",
       "      <th>p25</th>\n",
       "      <th>median</th>\n",
       "      <th>p75</th>\n",
       "      <th>p90</th>\n",
       "      <th>max</th>\n",
       "    </tr>\n",
       "    <tr>\n",
       "      <th>treatment</th>\n",
       "      <th></th>\n",
       "      <th></th>\n",
       "      <th></th>\n",
       "      <th></th>\n",
       "      <th></th>\n",
       "      <th></th>\n",
       "      <th></th>\n",
       "      <th></th>\n",
       "      <th></th>\n",
       "      <th></th>\n",
       "    </tr>\n",
       "  </thead>\n",
       "  <tbody>\n",
       "    <tr>\n",
       "      <th>0.0</th>\n",
       "      <td>6530</td>\n",
       "      <td>3.187197</td>\n",
       "      <td>3.754761</td>\n",
       "      <td>-12.770866</td>\n",
       "      <td>-1.579204</td>\n",
       "      <td>0.699571</td>\n",
       "      <td>3.149215</td>\n",
       "      <td>5.720443</td>\n",
       "      <td>7.931635</td>\n",
       "      <td>17.323664</td>\n",
       "    </tr>\n",
       "    <tr>\n",
       "      <th>1.0</th>\n",
       "      <td>3470</td>\n",
       "      <td>5.222463</td>\n",
       "      <td>3.986593</td>\n",
       "      <td>-7.310514</td>\n",
       "      <td>0.151741</td>\n",
       "      <td>2.508651</td>\n",
       "      <td>5.205242</td>\n",
       "      <td>7.975189</td>\n",
       "      <td>10.351169</td>\n",
       "      <td>18.147842</td>\n",
       "    </tr>\n",
       "  </tbody>\n",
       "</table>\n",
       "</div>"
      ],
      "text/plain": [
       "           count      mean       std        min       p10       p25    median  \\\n",
       "treatment                                                                       \n",
       "0.0         6530  3.187197  3.754761 -12.770866 -1.579204  0.699571  3.149215   \n",
       "1.0         3470  5.222463  3.986593  -7.310514  0.151741  2.508651  5.205242   \n",
       "\n",
       "                p75        p90        max  \n",
       "treatment                                  \n",
       "0.0        5.720443   7.931635  17.323664  \n",
       "1.0        7.975189  10.351169  18.147842  "
      ]
     },
     "execution_count": 4,
     "metadata": {},
     "output_type": "execute_result"
    }
   ],
   "source": [
    "# 1) Outcome statistics by treatment\n",
    "eda.outcome_stats()"
   ]
  },
  {
   "cell_type": "code",
   "execution_count": 5,
   "id": "c2258bc285979bc5",
   "metadata": {
    "ExecuteTime": {
     "end_time": "2025-10-14T17:29:34.771008Z",
     "start_time": "2025-10-14T17:29:34.667395Z"
    }
   },
   "outputs": [
    {
     "data": {
      "image/png": "[encoded data removed]",
      "text/plain": [
       "<Figure size 700x400 with 1 Axes>"
      ]
     },
     "jetTransient": {
      "display_id": null
     },
     "metadata": {},
     "output_type": "display_data"
    },
    {
     "data": {
      "image/png": "[encoded data removed]",
      "text/plain": [
       "<Figure size 700x400 with 1 Axes>"
      ]
     },
     "jetTransient": {
      "display_id": null
     },
     "metadata": {},
     "output_type": "display_data"
    }
   ],
   "source": [
    "# 2) Outcome distribution by treatment (hist + boxplot)\n",
    "fig1, fig2 = eda.outcome_plots()\n",
    "plt.show()"
   ]
  },
  {
   "cell_type": "markdown",
   "id": "5b0d6974b483485d",
   "metadata": {},
   "source": [
    "### Propensity"
   ]
  },
  {
   "cell_type": "markdown",
   "id": "663908e8b581476",
   "metadata": {},
   "source": [
    "Now let's examine how propensity score differ treatments"
   ]
  },
  {
   "cell_type": "code",
   "execution_count": 6,
   "id": "b149a9c9c6c1996d",
   "metadata": {
    "ExecuteTime": {
     "end_time": "2025-10-14T17:29:34.796584Z",
     "start_time": "2025-10-14T17:29:34.790493Z"
    }
   },
   "outputs": [
    {
     "data": {
      "text/html": [
       "<div>\n",
       "<style scoped>\n",
       "    .dataframe tbody tr th:only-of-type {\n",
       "        vertical-align: middle;\n",
       "    }\n",
       "\n",
       "    .dataframe tbody tr th {\n",
       "        vertical-align: top;\n",
       "    }\n",
       "\n",
       "    .dataframe thead th {\n",
       "        text-align: right;\n",
       "    }\n",
       "</style>\n",
       "<table border=\"1\" class=\"dataframe\">\n",
       "  <thead>\n",
       "    <tr style=\"text-align: right;\">\n",
       "      <th></th>\n",
       "      <th>mean_t_0</th>\n",
       "      <th>mean_t_1</th>\n",
       "      <th>abs_diff</th>\n",
       "      <th>smd</th>\n",
       "    </tr>\n",
       "    <tr>\n",
       "      <th>confounders</th>\n",
       "      <th></th>\n",
       "      <th></th>\n",
       "      <th></th>\n",
       "      <th></th>\n",
       "    </tr>\n",
       "  </thead>\n",
       "  <tbody>\n",
       "    <tr>\n",
       "      <th>spend_last_month</th>\n",
       "      <td>90.260494</td>\n",
       "      <td>119.486105</td>\n",
       "      <td>29.225611</td>\n",
       "      <td>0.526811</td>\n",
       "    </tr>\n",
       "    <tr>\n",
       "      <th>premium_user</th>\n",
       "      <td>0.194793</td>\n",
       "      <td>0.355043</td>\n",
       "      <td>0.160250</td>\n",
       "      <td>0.364805</td>\n",
       "    </tr>\n",
       "    <tr>\n",
       "      <th>avg_sessions_week</th>\n",
       "      <td>4.903763</td>\n",
       "      <td>5.298405</td>\n",
       "      <td>0.394642</td>\n",
       "      <td>0.197681</td>\n",
       "    </tr>\n",
       "    <tr>\n",
       "      <th>urban_resident</th>\n",
       "      <td>0.576876</td>\n",
       "      <td>0.646110</td>\n",
       "      <td>0.069234</td>\n",
       "      <td>0.142388</td>\n",
       "    </tr>\n",
       "    <tr>\n",
       "      <th>tenure_months</th>\n",
       "      <td>23.336403</td>\n",
       "      <td>24.894323</td>\n",
       "      <td>1.557920</td>\n",
       "      <td>0.129076</td>\n",
       "    </tr>\n",
       "  </tbody>\n",
       "</table>\n",
       "</div>"
      ],
      "text/plain": [
       "                    mean_t_0    mean_t_1   abs_diff       smd\n",
       "confounders                                                  \n",
       "spend_last_month   90.260494  119.486105  29.225611  0.526811\n",
       "premium_user        0.194793    0.355043   0.160250  0.364805\n",
       "avg_sessions_week   4.903763    5.298405   0.394642  0.197681\n",
       "urban_resident      0.576876    0.646110   0.069234  0.142388\n",
       "tenure_months      23.336403   24.894323   1.557920  0.129076"
      ]
     },
     "jetTransient": {
      "display_id": null
     },
     "metadata": {},
     "output_type": "display_data"
    }
   ],
   "source": [
    "# Shows means of confounders for control/treated groups, absolute differences, and SMD values\n",
    "confounders_balance_df = eda.confounders_means()\n",
    "display(confounders_balance_df)"
   ]
  },
  {
   "cell_type": "code",
   "execution_count": 7,
   "id": "1c36c6cd337b48d9",
   "metadata": {
    "ExecuteTime": {
     "end_time": "2025-10-14T17:29:42.706341Z",
     "start_time": "2025-10-14T17:29:34.814482Z"
    }
   },
   "outputs": [
    {
     "name": "stdout",
     "output_type": "stream",
     "text": [
      "ROC AUC from PropensityModel: 0.6962\n"
     ]
    }
   ],
   "source": [
    "# Propensity model fit\n",
    "ps_model = eda.fit_propensity()\n",
    "\n",
    "# ROC AUC - shows how predictable treatment is from confounders\n",
    "roc_auc_score = ps_model.roc_auc\n",
    "print(\"ROC AUC from PropensityModel:\", round(roc_auc_score, 4))"
   ]
  },
  {
   "cell_type": "code",
   "execution_count": 8,
   "id": "c8d829d997e0163d",
   "metadata": {
    "ExecuteTime": {
     "end_time": "2025-10-14T17:29:42.732655Z",
     "start_time": "2025-10-14T17:29:42.730978Z"
    }
   },
   "outputs": [
    {
     "name": "stdout",
     "output_type": "stream",
     "text": [
      "Positivity check from PropensityModel: {'bounds': (0.05, 0.95), 'share_below': 0.0121, 'share_above': 0.0004, 'flag': False}\n"
     ]
    }
   ],
   "source": [
    "# Positivity check - assess overlap between treatment groups\n",
    "positivity_result = ps_model.positivity_check()\n",
    "print(\"Positivity check from PropensityModel:\", positivity_result)"
   ]
  },
  {
   "cell_type": "code",
   "execution_count": 9,
   "id": "6129ed1631eed18d",
   "metadata": {
    "ExecuteTime": {
     "end_time": "2025-10-14T17:29:42.978242Z",
     "start_time": "2025-10-14T17:29:42.736267Z"
    }
   },
   "outputs": [
    {
     "data": {
      "text/html": [
       "<div>\n",
       "<style scoped>\n",
       "    .dataframe tbody tr th:only-of-type {\n",
       "        vertical-align: middle;\n",
       "    }\n",
       "\n",
       "    .dataframe tbody tr th {\n",
       "        vertical-align: top;\n",
       "    }\n",
       "\n",
       "    .dataframe thead th {\n",
       "        text-align: right;\n",
       "    }\n",
       "</style>\n",
       "<table border=\"1\" class=\"dataframe\">\n",
       "  <thead>\n",
       "    <tr style=\"text-align: right;\">\n",
       "      <th></th>\n",
       "      <th>feature</th>\n",
       "      <th>shap_mean</th>\n",
       "      <th>shap_mean_abs</th>\n",
       "      <th>odds_mult_abs</th>\n",
       "      <th>exact_pp_change_abs</th>\n",
       "      <th>exact_pp_change_signed</th>\n",
       "    </tr>\n",
       "  </thead>\n",
       "  <tbody>\n",
       "    <tr>\n",
       "      <th>0</th>\n",
       "      <td>num__spend_last_month</td>\n",
       "      <td>-0.000340</td>\n",
       "      <td>0.568471</td>\n",
       "      <td>1.765565</td>\n",
       "      <td>0.136983</td>\n",
       "      <td>-0.000077</td>\n",
       "    </tr>\n",
       "    <tr>\n",
       "      <th>1</th>\n",
       "      <td>num__tenure_months</td>\n",
       "      <td>0.000292</td>\n",
       "      <td>0.175348</td>\n",
       "      <td>1.191661</td>\n",
       "      <td>0.040684</td>\n",
       "      <td>0.000066</td>\n",
       "    </tr>\n",
       "    <tr>\n",
       "      <th>2</th>\n",
       "      <td>num__premium_user</td>\n",
       "      <td>0.000120</td>\n",
       "      <td>0.349319</td>\n",
       "      <td>1.418102</td>\n",
       "      <td>0.082673</td>\n",
       "      <td>0.000027</td>\n",
       "    </tr>\n",
       "    <tr>\n",
       "      <th>3</th>\n",
       "      <td>num__urban_resident</td>\n",
       "      <td>-0.000103</td>\n",
       "      <td>0.169225</td>\n",
       "      <td>1.184386</td>\n",
       "      <td>0.039233</td>\n",
       "      <td>-0.000023</td>\n",
       "    </tr>\n",
       "    <tr>\n",
       "      <th>4</th>\n",
       "      <td>num__avg_sessions_week</td>\n",
       "      <td>0.000031</td>\n",
       "      <td>0.230236</td>\n",
       "      <td>1.258897</td>\n",
       "      <td>0.053783</td>\n",
       "      <td>0.000007</td>\n",
       "    </tr>\n",
       "  </tbody>\n",
       "</table>\n",
       "</div>"
      ],
      "text/plain": [
       "                  feature  shap_mean  shap_mean_abs  odds_mult_abs  \\\n",
       "0   num__spend_last_month  -0.000340       0.568471       1.765565   \n",
       "1      num__tenure_months   0.000292       0.175348       1.191661   \n",
       "2       num__premium_user   0.000120       0.349319       1.418102   \n",
       "3     num__urban_resident  -0.000103       0.169225       1.184386   \n",
       "4  num__avg_sessions_week   0.000031       0.230236       1.258897   \n",
       "\n",
       "   exact_pp_change_abs  exact_pp_change_signed  \n",
       "0             0.136983               -0.000077  \n",
       "1             0.040684                0.000066  \n",
       "2             0.082673                0.000027  \n",
       "3             0.039233               -0.000023  \n",
       "4             0.053783                0.000007  "
      ]
     },
     "jetTransient": {
      "display_id": null
     },
     "metadata": {},
     "output_type": "display_data"
    }
   ],
   "source": [
    "# SHAP values - feature importance for treatment assignment from confounders\n",
    "shap_values_df = ps_model.shap\n",
    "display(shap_values_df)"
   ]
  },
  {
   "cell_type": "code",
   "execution_count": 10,
   "id": "cc3741a172a0d303",
   "metadata": {
    "ExecuteTime": {
     "end_time": "2025-10-14T17:29:43.051327Z",
     "start_time": "2025-10-14T17:29:42.992155Z"
    }
   },
   "outputs": [
    {
     "data": {
      "image/png": "[encoded data removed]",
      "text/plain": [
       "<Figure size 640x480 with 1 Axes>"
      ]
     },
     "jetTransient": {
      "display_id": null
     },
     "metadata": {},
     "output_type": "display_data"
    }
   ],
   "source": [
    "# Propensity score overlap graph\n",
    "ps_model.ps_graph()\n",
    "plt.show()"
   ]
  },
  {
   "cell_type": "markdown",
   "id": "f8acad543480c315",
   "metadata": {},
   "source": [
    "### Outcome regression"
   ]
  },
  {
   "cell_type": "markdown",
   "id": "34957e45b4f108a4",
   "metadata": {},
   "source": [
    "Let's analyze how confounders predict outcome"
   ]
  },
  {
   "cell_type": "code",
   "execution_count": 11,
   "id": "4e6305ae7446c781",
   "metadata": {
    "ExecuteTime": {
     "end_time": "2025-10-14T17:29:46.967290Z",
     "start_time": "2025-10-14T17:29:43.054470Z"
    }
   },
   "outputs": [
    {
     "name": "stdout",
     "output_type": "stream",
     "text": [
      "{'rmse': 3.645288976705851, 'mae': 2.905875481642826}\n"
     ]
    }
   ],
   "source": [
    "# Outcome model fit\n",
    "outcome_model = eda.outcome_fit()\n",
    "\n",
    "# RMSE and MAE of regression model\n",
    "print(outcome_model.scores)"
   ]
  },
  {
   "cell_type": "code",
   "execution_count": 12,
   "id": "47461aeee30f4024",
   "metadata": {
    "ExecuteTime": {
     "end_time": "2025-10-14T17:29:47.212939Z",
     "start_time": "2025-10-14T17:29:46.980553Z"
    }
   },
   "outputs": [
    {
     "data": {
      "text/html": [
       "<div>\n",
       "<style scoped>\n",
       "    .dataframe tbody tr th:only-of-type {\n",
       "        vertical-align: middle;\n",
       "    }\n",
       "\n",
       "    .dataframe tbody tr th {\n",
       "        vertical-align: top;\n",
       "    }\n",
       "\n",
       "    .dataframe thead th {\n",
       "        text-align: right;\n",
       "    }\n",
       "</style>\n",
       "<table border=\"1\" class=\"dataframe\">\n",
       "  <thead>\n",
       "    <tr style=\"text-align: right;\">\n",
       "      <th></th>\n",
       "      <th>feature</th>\n",
       "      <th>shap_mean</th>\n",
       "    </tr>\n",
       "  </thead>\n",
       "  <tbody>\n",
       "    <tr>\n",
       "      <th>0</th>\n",
       "      <td>premium_user</td>\n",
       "      <td>0.001576</td>\n",
       "    </tr>\n",
       "    <tr>\n",
       "      <th>1</th>\n",
       "      <td>spend_last_month</td>\n",
       "      <td>-0.001158</td>\n",
       "    </tr>\n",
       "    <tr>\n",
       "      <th>2</th>\n",
       "      <td>avg_sessions_week</td>\n",
       "      <td>-0.000562</td>\n",
       "    </tr>\n",
       "    <tr>\n",
       "      <th>3</th>\n",
       "      <td>urban_resident</td>\n",
       "      <td>0.000089</td>\n",
       "    </tr>\n",
       "    <tr>\n",
       "      <th>4</th>\n",
       "      <td>tenure_months</td>\n",
       "      <td>0.000055</td>\n",
       "    </tr>\n",
       "  </tbody>\n",
       "</table>\n",
       "</div>"
      ],
      "text/plain": [
       "             feature  shap_mean\n",
       "0       premium_user   0.001576\n",
       "1   spend_last_month  -0.001158\n",
       "2  avg_sessions_week  -0.000562\n",
       "3     urban_resident   0.000089\n",
       "4      tenure_months   0.000055"
      ]
     },
     "jetTransient": {
      "display_id": null
     },
     "metadata": {},
     "output_type": "display_data"
    }
   ],
   "source": [
    "# 2) SHAP values - feature importance for outcome prediction from confounders\n",
    "shap_outcome_df = outcome_model.shap\n",
    "display(shap_outcome_df)"
   ]
  },
  {
   "cell_type": "markdown",
   "id": "d758c21a760c23ae",
   "metadata": {},
   "source": [
    "# Inference"
   ]
  },
  {
   "cell_type": "markdown",
   "id": "c95f6ac049968704",
   "metadata": {},
   "source": [
    "Now time to estimate ATЕE with Double Machine Learning"
   ]
  },
  {
   "cell_type": "code",
   "execution_count": 13,
   "id": "35e465e763fd52b0",
   "metadata": {
    "ExecuteTime": {
     "end_time": "2025-10-14T17:29:55.546407Z",
     "start_time": "2025-10-14T17:29:47.225236Z"
    }
   },
   "outputs": [],
   "source": [
    "from causalis.inference.atte import dml_atte\n",
    "\n",
    "# Estimate Average Treatment Effect (ATT)\n",
    "atte_result = dml_atte(causal_data, n_folds=4, confidence_level=0.95)"
   ]
  },
  {
   "cell_type": "code",
   "execution_count": 14,
   "id": "217a2f52c34055cd",
   "metadata": {
    "ExecuteTime": {
     "end_time": "2025-10-14T17:29:55.560986Z",
     "start_time": "2025-10-14T17:29:55.559156Z"
    }
   },
   "outputs": [
    {
     "name": "stdout",
     "output_type": "stream",
     "text": [
      "1.3028994051092602\n",
      "0.0\n",
      "(1.0561145643875967, 1.5496842458309237)\n"
     ]
    }
   ],
   "source": [
    "print(atte_result.get('coefficient'))\n",
    "print(atte_result.get('p_value'))\n",
    "print(atte_result.get('confidence_interval'))"
   ]
  },
  {
   "cell_type": "markdown",
   "id": "ad9dc37e7cab0f8a",
   "metadata": {},
   "source": [
    "Real ATT is 1.385"
   ]
  },
  {
   "cell_type": "markdown",
   "id": "ff769bf09f75babf",
   "metadata": {},
   "source": [
    "## Refutation"
   ]
  },
  {
   "cell_type": "markdown",
   "id": "518c1d8ec26bad22",
   "metadata": {},
   "source": [
    "### Overlap"
   ]
  },
  {
   "cell_type": "code",
   "execution_count": 15,
   "id": "c4b11033e6377ff8",
   "metadata": {
    "ExecuteTime": {
     "end_time": "2025-10-14T17:29:55.581917Z",
     "start_time": "2025-10-14T17:29:55.562972Z"
    }
   },
   "outputs": [
    {
     "data": {
      "text/html": [
       "<div>\n",
       "<style scoped>\n",
       "    .dataframe tbody tr th:only-of-type {\n",
       "        vertical-align: middle;\n",
       "    }\n",
       "\n",
       "    .dataframe tbody tr th {\n",
       "        vertical-align: top;\n",
       "    }\n",
       "\n",
       "    .dataframe thead th {\n",
       "        text-align: right;\n",
       "    }\n",
       "</style>\n",
       "<table border=\"1\" class=\"dataframe\">\n",
       "  <thead>\n",
       "    <tr style=\"text-align: right;\">\n",
       "      <th></th>\n",
       "      <th>metric</th>\n",
       "      <th>value</th>\n",
       "      <th>flag</th>\n",
       "    </tr>\n",
       "  </thead>\n",
       "  <tbody>\n",
       "    <tr>\n",
       "      <th>0</th>\n",
       "      <td>edge_0.01_below</td>\n",
       "      <td>0.000000</td>\n",
       "      <td>GREEN</td>\n",
       "    </tr>\n",
       "    <tr>\n",
       "      <th>1</th>\n",
       "      <td>edge_0.01_above</td>\n",
       "      <td>0.000000</td>\n",
       "      <td>GREEN</td>\n",
       "    </tr>\n",
       "    <tr>\n",
       "      <th>2</th>\n",
       "      <td>edge_0.02_below</td>\n",
       "      <td>0.001300</td>\n",
       "      <td>GREEN</td>\n",
       "    </tr>\n",
       "    <tr>\n",
       "      <th>3</th>\n",
       "      <td>edge_0.02_above</td>\n",
       "      <td>0.000000</td>\n",
       "      <td>GREEN</td>\n",
       "    </tr>\n",
       "    <tr>\n",
       "      <th>4</th>\n",
       "      <td>KS</td>\n",
       "      <td>0.291272</td>\n",
       "      <td>YELLOW</td>\n",
       "    </tr>\n",
       "    <tr>\n",
       "      <th>5</th>\n",
       "      <td>AUC</td>\n",
       "      <td>0.696701</td>\n",
       "      <td>GREEN</td>\n",
       "    </tr>\n",
       "    <tr>\n",
       "      <th>6</th>\n",
       "      <td>ESS_treated_ratio</td>\n",
       "      <td>0.632449</td>\n",
       "      <td>GREEN</td>\n",
       "    </tr>\n",
       "    <tr>\n",
       "      <th>7</th>\n",
       "      <td>ESS_control_ratio</td>\n",
       "      <td>0.795967</td>\n",
       "      <td>GREEN</td>\n",
       "    </tr>\n",
       "    <tr>\n",
       "      <th>8</th>\n",
       "      <td>tails_w1_q99/med</td>\n",
       "      <td>10.777459</td>\n",
       "      <td>YELLOW</td>\n",
       "    </tr>\n",
       "    <tr>\n",
       "      <th>9</th>\n",
       "      <td>tails_w0_q99/med</td>\n",
       "      <td>6.571975</td>\n",
       "      <td>YELLOW</td>\n",
       "    </tr>\n",
       "    <tr>\n",
       "      <th>10</th>\n",
       "      <td>ATT_identity_relerr</td>\n",
       "      <td>0.070511</td>\n",
       "      <td>YELLOW</td>\n",
       "    </tr>\n",
       "    <tr>\n",
       "      <th>11</th>\n",
       "      <td>clip_m_total</td>\n",
       "      <td>0.000000</td>\n",
       "      <td>GREEN</td>\n",
       "    </tr>\n",
       "    <tr>\n",
       "      <th>12</th>\n",
       "      <td>calib_ECE</td>\n",
       "      <td>0.019505</td>\n",
       "      <td>GREEN</td>\n",
       "    </tr>\n",
       "    <tr>\n",
       "      <th>13</th>\n",
       "      <td>calib_slope</td>\n",
       "      <td>0.815776</td>\n",
       "      <td>GREEN</td>\n",
       "    </tr>\n",
       "    <tr>\n",
       "      <th>14</th>\n",
       "      <td>calib_intercept</td>\n",
       "      <td>-0.097113</td>\n",
       "      <td>GREEN</td>\n",
       "    </tr>\n",
       "  </tbody>\n",
       "</table>\n",
       "</div>"
      ],
      "text/plain": [
       "                 metric      value    flag\n",
       "0       edge_0.01_below   0.000000   GREEN\n",
       "1       edge_0.01_above   0.000000   GREEN\n",
       "2       edge_0.02_below   0.001300   GREEN\n",
       "3       edge_0.02_above   0.000000   GREEN\n",
       "4                    KS   0.291272  YELLOW\n",
       "5                   AUC   0.696701   GREEN\n",
       "6     ESS_treated_ratio   0.632449   GREEN\n",
       "7     ESS_control_ratio   0.795967   GREEN\n",
       "8      tails_w1_q99/med  10.777459  YELLOW\n",
       "9      tails_w0_q99/med   6.571975  YELLOW\n",
       "10  ATT_identity_relerr   0.070511  YELLOW\n",
       "11         clip_m_total   0.000000   GREEN\n",
       "12            calib_ECE   0.019505   GREEN\n",
       "13          calib_slope   0.815776   GREEN\n",
       "14      calib_intercept  -0.097113   GREEN"
      ]
     },
     "execution_count": 15,
     "metadata": {},
     "output_type": "execute_result"
    }
   ],
   "source": [
    "from  causalis.refutation import *\n",
    "rep = run_overlap_diagnostics(res=atte_result)\n",
    "rep[\"summary\"]"
   ]
  },
  {
   "cell_type": "markdown",
   "id": "4170ff45350839f6",
   "metadata": {},
   "source": [
    "### Score"
   ]
  },
  {
   "cell_type": "code",
   "execution_count": 16,
   "id": "c51c683a896bd96d",
   "metadata": {
    "ExecuteTime": {
     "end_time": "2025-10-14T17:29:55.646541Z",
     "start_time": "2025-10-14T17:29:55.638131Z"
    }
   },
   "outputs": [
    {
     "data": {
      "text/html": [
       "<div>\n",
       "<style scoped>\n",
       "    .dataframe tbody tr th:only-of-type {\n",
       "        vertical-align: middle;\n",
       "    }\n",
       "\n",
       "    .dataframe tbody tr th {\n",
       "        vertical-align: top;\n",
       "    }\n",
       "\n",
       "    .dataframe thead th {\n",
       "        text-align: right;\n",
       "    }\n",
       "</style>\n",
       "<table border=\"1\" class=\"dataframe\">\n",
       "  <thead>\n",
       "    <tr style=\"text-align: right;\">\n",
       "      <th></th>\n",
       "      <th>metric</th>\n",
       "      <th>value</th>\n",
       "      <th>flag</th>\n",
       "    </tr>\n",
       "  </thead>\n",
       "  <tbody>\n",
       "    <tr>\n",
       "      <th>0</th>\n",
       "      <td>se_plugin</td>\n",
       "      <td>0.125913</td>\n",
       "      <td>NA</td>\n",
       "    </tr>\n",
       "    <tr>\n",
       "      <th>1</th>\n",
       "      <td>psi_p99_over_med</td>\n",
       "      <td>8.868324</td>\n",
       "      <td>GREEN</td>\n",
       "    </tr>\n",
       "    <tr>\n",
       "      <th>2</th>\n",
       "      <td>psi_kurtosis</td>\n",
       "      <td>1388.840488</td>\n",
       "      <td>RED</td>\n",
       "    </tr>\n",
       "    <tr>\n",
       "      <th>3</th>\n",
       "      <td>max_|t|_g1</td>\n",
       "      <td>0.000000</td>\n",
       "      <td>GREEN</td>\n",
       "    </tr>\n",
       "    <tr>\n",
       "      <th>4</th>\n",
       "      <td>max_|t|_g0</td>\n",
       "      <td>2.484521</td>\n",
       "      <td>YELLOW</td>\n",
       "    </tr>\n",
       "    <tr>\n",
       "      <th>5</th>\n",
       "      <td>max_|t|_m</td>\n",
       "      <td>1.165779</td>\n",
       "      <td>GREEN</td>\n",
       "    </tr>\n",
       "    <tr>\n",
       "      <th>6</th>\n",
       "      <td>oos_tstat_fold</td>\n",
       "      <td>-0.000402</td>\n",
       "      <td>GREEN</td>\n",
       "    </tr>\n",
       "    <tr>\n",
       "      <th>7</th>\n",
       "      <td>oos_tstat_strict</td>\n",
       "      <td>-0.000402</td>\n",
       "      <td>GREEN</td>\n",
       "    </tr>\n",
       "  </tbody>\n",
       "</table>\n",
       "</div>"
      ],
      "text/plain": [
       "             metric        value    flag\n",
       "0         se_plugin     0.125913      NA\n",
       "1  psi_p99_over_med     8.868324   GREEN\n",
       "2      psi_kurtosis  1388.840488     RED\n",
       "3        max_|t|_g1     0.000000   GREEN\n",
       "4        max_|t|_g0     2.484521  YELLOW\n",
       "5         max_|t|_m     1.165779   GREEN\n",
       "6    oos_tstat_fold    -0.000402   GREEN\n",
       "7  oos_tstat_strict    -0.000402   GREEN"
      ]
     },
     "execution_count": 16,
     "metadata": {},
     "output_type": "execute_result"
    }
   ],
   "source": [
    "from causalis.refutation.score.score_validation import run_score_diagnostics\n",
    "rep_score = run_score_diagnostics(res=atte_result)\n",
    "rep_score[\"summary\"]"
   ]
  },
  {
   "cell_type": "markdown",
   "id": "9869104a2ac408bf",
   "metadata": {},
   "source": [
    "### SUTVA"
   ]
  },
  {
   "cell_type": "code",
   "execution_count": 17,
   "id": "3e99037408d42579",
   "metadata": {
    "ExecuteTime": {
     "end_time": "2025-10-14T17:29:55.707232Z",
     "start_time": "2025-10-14T17:29:55.705347Z"
    }
   },
   "outputs": [
    {
     "name": "stdout",
     "output_type": "stream",
     "text": [
      "1.) Are your clients independent (i)?\n",
      "2.) Do you measure confounders, treatment, and outcome in the same intervals?\n",
      "3.) Do you measure confounders before treatment and outcome after?\n",
      "4.) Do you have a consistent label of treatment, such as if a person does not receive a treatment, he has a label 0?\n"
     ]
    }
   ],
   "source": [
    "print_sutva_questions()"
   ]
  },
  {
   "cell_type": "markdown",
   "id": "1b4858efa0b8fe6c",
   "metadata": {},
   "source": [
    "## Uncofoundedness"
   ]
  },
  {
   "cell_type": "code",
   "execution_count": 18,
   "id": "6bc6cc08d26395da",
   "metadata": {
    "ExecuteTime": {
     "end_time": "2025-10-14T17:29:55.742428Z",
     "start_time": "2025-10-14T17:29:55.736030Z"
    }
   },
   "outputs": [
    {
     "data": {
      "text/html": [
       "<div>\n",
       "<style scoped>\n",
       "    .dataframe tbody tr th:only-of-type {\n",
       "        vertical-align: middle;\n",
       "    }\n",
       "\n",
       "    .dataframe tbody tr th {\n",
       "        vertical-align: top;\n",
       "    }\n",
       "\n",
       "    .dataframe thead th {\n",
       "        text-align: right;\n",
       "    }\n",
       "</style>\n",
       "<table border=\"1\" class=\"dataframe\">\n",
       "  <thead>\n",
       "    <tr style=\"text-align: right;\">\n",
       "      <th></th>\n",
       "      <th>metric</th>\n",
       "      <th>value</th>\n",
       "      <th>flag</th>\n",
       "    </tr>\n",
       "  </thead>\n",
       "  <tbody>\n",
       "    <tr>\n",
       "      <th>0</th>\n",
       "      <td>balance_max_smd</td>\n",
       "      <td>3.963837e-02</td>\n",
       "      <td>GREEN</td>\n",
       "    </tr>\n",
       "    <tr>\n",
       "      <th>1</th>\n",
       "      <td>balance_frac_violations</td>\n",
       "      <td>0.000000e+00</td>\n",
       "      <td>GREEN</td>\n",
       "    </tr>\n",
       "    <tr>\n",
       "      <th>2</th>\n",
       "      <td>ess_treated_ratio</td>\n",
       "      <td>1.000000e+00</td>\n",
       "      <td>GREEN</td>\n",
       "    </tr>\n",
       "    <tr>\n",
       "      <th>3</th>\n",
       "      <td>ess_control_ratio</td>\n",
       "      <td>3.390213e-01</td>\n",
       "      <td>RED</td>\n",
       "    </tr>\n",
       "    <tr>\n",
       "      <th>4</th>\n",
       "      <td>w_tail_ratio_treated</td>\n",
       "      <td>1.000000e+12</td>\n",
       "      <td>RED</td>\n",
       "    </tr>\n",
       "    <tr>\n",
       "      <th>5</th>\n",
       "      <td>w_tail_ratio_control</td>\n",
       "      <td>1.321510e+01</td>\n",
       "      <td>GREEN</td>\n",
       "    </tr>\n",
       "    <tr>\n",
       "      <th>6</th>\n",
       "      <td>top1_mass_share_treated</td>\n",
       "      <td>2.881844e-02</td>\n",
       "      <td>GREEN</td>\n",
       "    </tr>\n",
       "    <tr>\n",
       "      <th>7</th>\n",
       "      <td>top1_mass_share_control</td>\n",
       "      <td>1.242615e-01</td>\n",
       "      <td>GREEN</td>\n",
       "    </tr>\n",
       "    <tr>\n",
       "      <th>8</th>\n",
       "      <td>ks_m_treated_vs_control</td>\n",
       "      <td>2.912719e-01</td>\n",
       "      <td>YELLOW</td>\n",
       "    </tr>\n",
       "    <tr>\n",
       "      <th>9</th>\n",
       "      <td>pct_m_outside_overlap</td>\n",
       "      <td>0.000000e+00</td>\n",
       "      <td>GREEN</td>\n",
       "    </tr>\n",
       "  </tbody>\n",
       "</table>\n",
       "</div>"
      ],
      "text/plain": [
       "                    metric         value    flag\n",
       "0          balance_max_smd  3.963837e-02   GREEN\n",
       "1  balance_frac_violations  0.000000e+00   GREEN\n",
       "2        ess_treated_ratio  1.000000e+00   GREEN\n",
       "3        ess_control_ratio  3.390213e-01     RED\n",
       "4     w_tail_ratio_treated  1.000000e+12     RED\n",
       "5     w_tail_ratio_control  1.321510e+01   GREEN\n",
       "6  top1_mass_share_treated  2.881844e-02   GREEN\n",
       "7  top1_mass_share_control  1.242615e-01   GREEN\n",
       "8  ks_m_treated_vs_control  2.912719e-01  YELLOW\n",
       "9    pct_m_outside_overlap  0.000000e+00   GREEN"
      ]
     },
     "execution_count": 18,
     "metadata": {},
     "output_type": "execute_result"
    }
   ],
   "source": [
    "from causalis.refutation.unconfoundedness.uncofoundedness_validation import run_unconfoundedness_diagnostics\n",
    "\n",
    "rep_uc = run_unconfoundedness_diagnostics(res=atte_result)\n",
    "rep_uc['summary']"
   ]
  },
  {
   "cell_type": "code",
   "execution_count": 19,
   "id": "165c4a1d01c63dca",
   "metadata": {
    "ExecuteTime": {
     "end_time": "2025-10-14T17:29:55.781322Z",
     "start_time": "2025-10-14T17:29:55.778130Z"
    }
   },
   "outputs": [
    {
     "data": {
      "text/plain": [
       "{'theta': 1.3028994051092602,\n",
       " 'se': 0.12591294670120004,\n",
       " 'level': 0.95,\n",
       " 'z': 1.959963984540054,\n",
       " 'sampling_ci': (1.0561145643875967, 1.5496842458309237),\n",
       " 'theta_bounds_confounding': (-0.7349788867797697, 3.3407776969982903),\n",
       " 'bias_aware_ci': (-0.981763727501433, 3.587562537719953),\n",
       " 'max_bias': 2.03787829188903,\n",
       " 'sigma2': 13.23191609168223,\n",
       " 'nu2': 0.31385839388470366,\n",
       " 'params': {'cf_y': 0.01, 'cf_d': 0.01, 'rho': 1.0, 'use_signed_rr': False}}"
      ]
     },
     "execution_count": 19,
     "metadata": {},
     "output_type": "execute_result"
    }
   ],
   "source": [
    "from causalis.refutation.unconfoundedness.uncofoundedness_validation import (\n",
    "    sensitivity_analysis, sensitivity_benchmark\n",
    ")\n",
    "\n",
    "sensitivity_analysis(atte_result, cf_y=0.01, cf_d=0.01, rho=1.0, level=0.95)"
   ]
  },
  {
   "cell_type": "code",
   "execution_count": 20,
   "id": "7e2252c823b0ade3",
   "metadata": {
    "ExecuteTime": {
     "end_time": "2025-10-14T17:30:03.376181Z",
     "start_time": "2025-10-14T17:29:55.817756Z"
    }
   },
   "outputs": [
    {
     "data": {
      "text/html": [
       "<div>\n",
       "<style scoped>\n",
       "    .dataframe tbody tr th:only-of-type {\n",
       "        vertical-align: middle;\n",
       "    }\n",
       "\n",
       "    .dataframe tbody tr th {\n",
       "        vertical-align: top;\n",
       "    }\n",
       "\n",
       "    .dataframe thead th {\n",
       "        text-align: right;\n",
       "    }\n",
       "</style>\n",
       "<table border=\"1\" class=\"dataframe\">\n",
       "  <thead>\n",
       "    <tr style=\"text-align: right;\">\n",
       "      <th></th>\n",
       "      <th>cf_y</th>\n",
       "      <th>cf_d</th>\n",
       "      <th>rho</th>\n",
       "      <th>theta_long</th>\n",
       "      <th>theta_short</th>\n",
       "      <th>delta</th>\n",
       "    </tr>\n",
       "  </thead>\n",
       "  <tbody>\n",
       "    <tr>\n",
       "      <th>d</th>\n",
       "      <td>0.000007</td>\n",
       "      <td>0.034929</td>\n",
       "      <td>-1.0</td>\n",
       "      <td>1.302899</td>\n",
       "      <td>1.408257</td>\n",
       "      <td>-0.105358</td>\n",
       "    </tr>\n",
       "  </tbody>\n",
       "</table>\n",
       "</div>"
      ],
      "text/plain": [
       "       cf_y      cf_d  rho  theta_long  theta_short     delta\n",
       "d  0.000007  0.034929 -1.0    1.302899     1.408257 -0.105358"
      ]
     },
     "execution_count": 20,
     "metadata": {},
     "output_type": "execute_result"
    }
   ],
   "source": [
    "sensitivity_benchmark(atte_result, benchmarking_set =['tenure_months'])"
   ]
  }
 ],
 "metadata": {
  "kernelspec": {
   "display_name": "Python 3",
   "language": "python",
   "name": "python3"
  },
  "language_info": {
   "codemirror_mode": {
    "name": "ipython",
    "version": 2
   },
   "file_extension": ".py",
   "mimetype": "text/x-python",
   "name": "python",
   "nbconvert_exporter": "python",
   "pygments_lexer": "ipython2",
   "version": "2.7.6"
  }
 },
 "nbformat": 4,
 "nbformat_minor": 5
}