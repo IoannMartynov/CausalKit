{
 "cells": [
  {
   "cell_type": "markdown",
   "id": "8fcc272d63fa7879",
   "metadata": {
    "collapsed": true
   },
   "source": [
    "# DML ATE Example"
   ]
  },
  {
   "cell_type": "markdown",
   "id": "9900e7cb514527d0",
   "metadata": {},
   "source": [
    "This notebook covers scenario:\n",
    "| Is RCT        | Treatment | Outcome    | EDA | Estimands | Refutation |\n",
    "|---------------|-----------|------------|-----|-----------|------------|\n",
    "| Observational | Binary    | Continuous | Yes | ATE       | Yes        |\n",
    "\n",
    "We will estimate Average Treatment Effect (ATE) of binary treatment on continuous outcome. It shows explonatary data analysis and refutation tests"
   ]
  },
  {
   "cell_type": "markdown",
   "id": "889d566926f81af1",
   "metadata": {},
   "source": [
    "## Generate data"
   ]
  },
  {
   "cell_type": "markdown",
   "id": "c3f40b0f32cedefd",
   "metadata": {},
   "source": [
    "Let's generate data of how feature (Treatment) impact on ARPU (Outcome) with linear effect (theta) = 1.8"
   ]
  },
  {
   "cell_type": "code",
   "execution_count": 1,
   "id": "5df3d791f8395962",
   "metadata": {
    "ExecuteTime": {
     "end_time": "2025-09-18T19:27:04.054382Z",
     "start_time": "2025-09-18T19:27:03.490256Z"
    }
   },
   "outputs": [
    {
     "data": {
      "text/html": [
       "<div>\n",
       "<style scoped>\n",
       "    .dataframe tbody tr th:only-of-type {\n",
       "        vertical-align: middle;\n",
       "    }\n",
       "\n",
       "    .dataframe tbody tr th {\n",
       "        vertical-align: top;\n",
       "    }\n",
       "\n",
       "    .dataframe thead th {\n",
       "        text-align: right;\n",
       "    }\n",
       "</style>\n",
       "<table border=\"1\" class=\"dataframe\">\n",
       "  <thead>\n",
       "    <tr style=\"text-align: right;\">\n",
       "      <th></th>\n",
       "      <th>y</th>\n",
       "      <th>t</th>\n",
       "      <th>tenure_months</th>\n",
       "      <th>avg_sessions_week</th>\n",
       "      <th>spend_last_month</th>\n",
       "      <th>premium_user</th>\n",
       "      <th>urban_resident</th>\n",
       "    </tr>\n",
       "  </thead>\n",
       "  <tbody>\n",
       "    <tr>\n",
       "      <th>0</th>\n",
       "      <td>5.927714</td>\n",
       "      <td>1.0</td>\n",
       "      <td>27.656605</td>\n",
       "      <td>5.352554</td>\n",
       "      <td>72.552568</td>\n",
       "      <td>1.0</td>\n",
       "      <td>0.0</td>\n",
       "    </tr>\n",
       "    <tr>\n",
       "      <th>1</th>\n",
       "      <td>11.122008</td>\n",
       "      <td>1.0</td>\n",
       "      <td>11.520191</td>\n",
       "      <td>6.798247</td>\n",
       "      <td>188.481287</td>\n",
       "      <td>1.0</td>\n",
       "      <td>0.0</td>\n",
       "    </tr>\n",
       "    <tr>\n",
       "      <th>2</th>\n",
       "      <td>10.580393</td>\n",
       "      <td>1.0</td>\n",
       "      <td>33.005414</td>\n",
       "      <td>2.055459</td>\n",
       "      <td>51.040440</td>\n",
       "      <td>0.0</td>\n",
       "      <td>1.0</td>\n",
       "    </tr>\n",
       "    <tr>\n",
       "      <th>3</th>\n",
       "      <td>6.982844</td>\n",
       "      <td>1.0</td>\n",
       "      <td>35.286777</td>\n",
       "      <td>4.429404</td>\n",
       "      <td>166.992239</td>\n",
       "      <td>0.0</td>\n",
       "      <td>1.0</td>\n",
       "    </tr>\n",
       "    <tr>\n",
       "      <th>4</th>\n",
       "      <td>10.899381</td>\n",
       "      <td>0.0</td>\n",
       "      <td>0.587578</td>\n",
       "      <td>6.658307</td>\n",
       "      <td>179.371126</td>\n",
       "      <td>0.0</td>\n",
       "      <td>0.0</td>\n",
       "    </tr>\n",
       "  </tbody>\n",
       "</table>\n",
       "</div>"
      ],
      "text/plain": [
       "           y    t  tenure_months  avg_sessions_week  spend_last_month  \\\n",
       "0   5.927714  1.0      27.656605           5.352554         72.552568   \n",
       "1  11.122008  1.0      11.520191           6.798247        188.481287   \n",
       "2  10.580393  1.0      33.005414           2.055459         51.040440   \n",
       "3   6.982844  1.0      35.286777           4.429404        166.992239   \n",
       "4  10.899381  0.0       0.587578           6.658307        179.371126   \n",
       "\n",
       "   premium_user  urban_resident  \n",
       "0           1.0             0.0  \n",
       "1           1.0             0.0  \n",
       "2           0.0             1.0  \n",
       "3           0.0             1.0  \n",
       "4           0.0             0.0  "
      ]
     },
     "execution_count": 1,
     "metadata": {},
     "output_type": "execute_result"
    }
   ],
   "source": [
    "import numpy as np\n",
    "import pandas as pd\n",
    "import matplotlib.pyplot as plt\n",
    "from causalis.data import CausalDatasetGenerator, CausalData\n",
    "\n",
    "# Reproducibility\n",
    "np.random.seed(42)\n",
    "\n",
    "confounder_specs = [\n",
    "    {\"name\": \"tenure_months\", \"dist\": \"normal\", \"mu\": 24, \"sd\": 12},\n",
    "    {\"name\": \"avg_sessions_week\", \"dist\": \"normal\", \"mu\": 5, \"sd\": 2},\n",
    "    {\"name\": \"spend_last_month\", \"dist\": \"uniform\", \"a\": 0, \"b\": 200},\n",
    "    {\"name\": \"premium_user\", \"dist\": \"bernoulli\", \"p\": 0.25},\n",
    "    {\"name\": \"urban_resident\", \"dist\": \"bernoulli\", \"p\": 0.60},\n",
    "]\n",
    "\n",
    "# Causal effect and noise\n",
    "theta = 1.8  # ATE: +1.8 ARPU units if new_feature = 1\n",
    "sigma_y = 3.5  # ARPU noise std\n",
    "target_t_rate = 0.35  # ~35% treated\n",
    "\n",
    "# Effects of confounders on ARPU (baseline, additive)\n",
    "# Order: tenure_months, avg_sessions_week, spend_last_month, premium_user, urban_resident\n",
    "beta_y = np.array([\n",
    "    0.05,  # tenure_months: small positive effect\n",
    "    0.40,  # avg_sessions_week: strong positive effect\n",
    "    0.02,  # spend_last_month: recent spend correlates with ARPU\n",
    "    2.00,  # premium_user: premium users have higher ARPU\n",
    "    1.00,  # urban_resident: urban users slightly higher ARPU\n",
    "], dtype=float)\n",
    "\n",
    "# Effects of confounders on treatment assignment (log-odds scale)\n",
    "beta_t = np.array([\n",
    "    0.015,  # tenure_months\n",
    "    0.10,  # avg_sessions_week\n",
    "    0.002,  # spend_last_month\n",
    "    0.75,  # premium_user\n",
    "    0.30,  # urban_resident: more likely to get the feature\n",
    "], dtype=float)\n",
    "\n",
    "gen = CausalDatasetGenerator(\n",
    "    theta=theta,\n",
    "    outcome_type=\"continuous\",\n",
    "    sigma_y=sigma_y,\n",
    "    target_t_rate=target_t_rate,\n",
    "    seed=42,\n",
    "    confounder_specs=confounder_specs,\n",
    "    beta_y=beta_y,\n",
    "    beta_t=beta_t,\n",
    ")\n",
    "\n",
    "\n",
    "# Create dataset\n",
    "causal_data = gen.to_causal_data(\n",
    "    n=10000,\n",
    "    confounders = [\n",
    "    \"tenure_months\",\n",
    "    \"avg_sessions_week\",\n",
    "    \"spend_last_month\",\n",
    "    \"premium_user\",\n",
    "    \"urban_resident\",\n",
    "]\n",
    ")\n",
    "\n",
    "# Show first few rows\n",
    "causal_data.df.head()\n"
   ]
  },
  {
   "cell_type": "markdown",
   "id": "5e37434a3725215a",
   "metadata": {},
   "source": [
    "## EDA\n"
   ]
  },
  {
   "cell_type": "code",
   "execution_count": 2,
   "id": "afd5e60494139b52",
   "metadata": {
    "ExecuteTime": {
     "end_time": "2025-09-18T19:27:04.549853Z",
     "start_time": "2025-09-18T19:27:04.073803Z"
    }
   },
   "outputs": [
    {
     "data": {
      "text/plain": [
       "{'n_rows': 10000, 'n_columns': 7}"
      ]
     },
     "execution_count": 2,
     "metadata": {},
     "output_type": "execute_result"
    }
   ],
   "source": [
    "from causalis.eda import CausalEDA\n",
    "eda = CausalEDA(causal_data)\n",
    "\n",
    "# shape of data\n",
    "eda.data_shape()"
   ]
  },
  {
   "cell_type": "markdown",
   "id": "e154a852f7f5da01",
   "metadata": {},
   "source": [
    "### General dataset information"
   ]
  },
  {
   "cell_type": "markdown",
   "id": "d00453e2c61b056d",
   "metadata": {},
   "source": [
    "Let's see how outcome differ between clients who recieved the feature and didn't"
   ]
  },
  {
   "cell_type": "code",
   "execution_count": 3,
   "id": "fddea7b8fd105fd6",
   "metadata": {
    "ExecuteTime": {
     "end_time": "2025-09-18T19:27:04.574292Z",
     "start_time": "2025-09-18T19:27:04.566618Z"
    }
   },
   "outputs": [
    {
     "data": {
      "text/html": [
       "<div>\n",
       "<style scoped>\n",
       "    .dataframe tbody tr th:only-of-type {\n",
       "        vertical-align: middle;\n",
       "    }\n",
       "\n",
       "    .dataframe tbody tr th {\n",
       "        vertical-align: top;\n",
       "    }\n",
       "\n",
       "    .dataframe thead th {\n",
       "        text-align: right;\n",
       "    }\n",
       "</style>\n",
       "<table border=\"1\" class=\"dataframe\">\n",
       "  <thead>\n",
       "    <tr style=\"text-align: right;\">\n",
       "      <th></th>\n",
       "      <th>count</th>\n",
       "      <th>mean</th>\n",
       "      <th>std</th>\n",
       "      <th>min</th>\n",
       "      <th>p10</th>\n",
       "      <th>p25</th>\n",
       "      <th>median</th>\n",
       "      <th>p75</th>\n",
       "      <th>p90</th>\n",
       "      <th>max</th>\n",
       "    </tr>\n",
       "    <tr>\n",
       "      <th>treatment</th>\n",
       "      <th></th>\n",
       "      <th></th>\n",
       "      <th></th>\n",
       "      <th></th>\n",
       "      <th></th>\n",
       "      <th></th>\n",
       "      <th></th>\n",
       "      <th></th>\n",
       "      <th></th>\n",
       "      <th></th>\n",
       "    </tr>\n",
       "  </thead>\n",
       "  <tbody>\n",
       "    <tr>\n",
       "      <th>0.0</th>\n",
       "      <td>6523</td>\n",
       "      <td>6.014033</td>\n",
       "      <td>3.926613</td>\n",
       "      <td>-9.866447</td>\n",
       "      <td>1.013702</td>\n",
       "      <td>3.427671</td>\n",
       "      <td>6.041249</td>\n",
       "      <td>8.683796</td>\n",
       "      <td>10.958614</td>\n",
       "      <td>20.770359</td>\n",
       "    </tr>\n",
       "    <tr>\n",
       "      <th>1.0</th>\n",
       "      <td>3477</td>\n",
       "      <td>8.549418</td>\n",
       "      <td>3.933790</td>\n",
       "      <td>-5.507710</td>\n",
       "      <td>3.517233</td>\n",
       "      <td>5.908059</td>\n",
       "      <td>8.562984</td>\n",
       "      <td>11.207439</td>\n",
       "      <td>13.603630</td>\n",
       "      <td>21.377687</td>\n",
       "    </tr>\n",
       "  </tbody>\n",
       "</table>\n",
       "</div>"
      ],
      "text/plain": [
       "           count      mean       std       min       p10       p25    median  \\\n",
       "treatment                                                                      \n",
       "0.0         6523  6.014033  3.926613 -9.866447  1.013702  3.427671  6.041249   \n",
       "1.0         3477  8.549418  3.933790 -5.507710  3.517233  5.908059  8.562984   \n",
       "\n",
       "                 p75        p90        max  \n",
       "treatment                                   \n",
       "0.0         8.683796  10.958614  20.770359  \n",
       "1.0        11.207439  13.603630  21.377687  "
      ]
     },
     "execution_count": 3,
     "metadata": {},
     "output_type": "execute_result"
    }
   ],
   "source": [
    "# 1) Outcome statistics by treatment\n",
    "eda.outcome_stats()"
   ]
  },
  {
   "cell_type": "code",
   "execution_count": 4,
   "id": "880b0a5072b4df9b",
   "metadata": {
    "ExecuteTime": {
     "end_time": "2025-09-18T19:27:04.704385Z",
     "start_time": "2025-09-18T19:27:04.604791Z"
    }
   },
   "outputs": [
    {
     "data": {
      "image/png": "[encoded data removed]",
      "text/plain": [
       "<Figure size 700x400 with 1 Axes>"
      ]
     },
     "jetTransient": {
      "display_id": null
     },
     "metadata": {},
     "output_type": "display_data"
    },
    {
     "data": {
      "image/png": "[encoded data removed]",
      "text/plain": [
       "<Figure size 700x400 with 1 Axes>"
      ]
     },
     "jetTransient": {
      "display_id": null
     },
     "metadata": {},
     "output_type": "display_data"
    }
   ],
   "source": [
    "# 2) Outcome distribution by treatment (hist + boxplot)\n",
    "fig1, fig2 = eda.outcome_plots()\n",
    "plt.show()"
   ]
  },
  {
   "cell_type": "markdown",
   "id": "f2e00d21f202152e",
   "metadata": {},
   "source": [
    "### Propensity"
   ]
  },
  {
   "cell_type": "markdown",
   "id": "a78d91cc3631f5ec",
   "metadata": {},
   "source": [
    "Now let's examine how propensity score differ treatments"
   ]
  },
  {
   "cell_type": "code",
   "execution_count": 5,
   "id": "370ce9b4dfabf136",
   "metadata": {
    "ExecuteTime": {
     "end_time": "2025-09-18T19:27:04.729388Z",
     "start_time": "2025-09-18T19:27:04.723439Z"
    }
   },
   "outputs": [
    {
     "data": {
      "text/html": [
       "<div>\n",
       "<style scoped>\n",
       "    .dataframe tbody tr th:only-of-type {\n",
       "        vertical-align: middle;\n",
       "    }\n",
       "\n",
       "    .dataframe tbody tr th {\n",
       "        vertical-align: top;\n",
       "    }\n",
       "\n",
       "    .dataframe thead th {\n",
       "        text-align: right;\n",
       "    }\n",
       "</style>\n",
       "<table border=\"1\" class=\"dataframe\">\n",
       "  <thead>\n",
       "    <tr style=\"text-align: right;\">\n",
       "      <th></th>\n",
       "      <th>mean_t_0</th>\n",
       "      <th>mean_t_1</th>\n",
       "      <th>abs_diff</th>\n",
       "      <th>smd</th>\n",
       "    </tr>\n",
       "    <tr>\n",
       "      <th>confounders</th>\n",
       "      <th></th>\n",
       "      <th></th>\n",
       "      <th></th>\n",
       "      <th></th>\n",
       "    </tr>\n",
       "  </thead>\n",
       "  <tbody>\n",
       "    <tr>\n",
       "      <th>premium_user</th>\n",
       "      <td>0.198682</td>\n",
       "      <td>0.347426</td>\n",
       "      <td>0.148744</td>\n",
       "      <td>0.338573</td>\n",
       "    </tr>\n",
       "    <tr>\n",
       "      <th>avg_sessions_week</th>\n",
       "      <td>4.908586</td>\n",
       "      <td>5.288561</td>\n",
       "      <td>0.379975</td>\n",
       "      <td>0.190228</td>\n",
       "    </tr>\n",
       "    <tr>\n",
       "      <th>tenure_months</th>\n",
       "      <td>23.174130</td>\n",
       "      <td>25.195619</td>\n",
       "      <td>2.021489</td>\n",
       "      <td>0.167898</td>\n",
       "    </tr>\n",
       "    <tr>\n",
       "      <th>urban_resident</th>\n",
       "      <td>0.577802</td>\n",
       "      <td>0.644234</td>\n",
       "      <td>0.066432</td>\n",
       "      <td>0.136568</td>\n",
       "    </tr>\n",
       "    <tr>\n",
       "      <th>spend_last_month</th>\n",
       "      <td>97.786313</td>\n",
       "      <td>105.308510</td>\n",
       "      <td>7.522196</td>\n",
       "      <td>0.130139</td>\n",
       "    </tr>\n",
       "  </tbody>\n",
       "</table>\n",
       "</div>"
      ],
      "text/plain": [
       "                    mean_t_0    mean_t_1  abs_diff       smd\n",
       "confounders                                                 \n",
       "premium_user        0.198682    0.347426  0.148744  0.338573\n",
       "avg_sessions_week   4.908586    5.288561  0.379975  0.190228\n",
       "tenure_months      23.174130   25.195619  2.021489  0.167898\n",
       "urban_resident      0.577802    0.644234  0.066432  0.136568\n",
       "spend_last_month   97.786313  105.308510  7.522196  0.130139"
      ]
     },
     "jetTransient": {
      "display_id": null
     },
     "metadata": {},
     "output_type": "display_data"
    }
   ],
   "source": [
    "# Shows means of confounders for control/treated groups, absolute differences, and SMD values\n",
    "confounders_balance_df = eda.confounders_means()\n",
    "display(confounders_balance_df)"
   ]
  },
  {
   "cell_type": "code",
   "execution_count": 6,
   "id": "9d12d18188019d24",
   "metadata": {
    "ExecuteTime": {
     "end_time": "2025-09-18T19:27:12.030429Z",
     "start_time": "2025-09-18T19:27:04.749912Z"
    }
   },
   "outputs": [
    {
     "name": "stdout",
     "output_type": "stream",
     "text": [
      "ROC AUC from PropensityModel: 0.6052\n"
     ]
    }
   ],
   "source": [
    "# Propensity model fit\n",
    "ps_model = eda.fit_propensity()\n",
    "\n",
    "# ROC AUC - shows how predictable treatment is from confounders\n",
    "roc_auc_score = ps_model.roc_auc\n",
    "print(\"ROC AUC from PropensityModel:\", round(roc_auc_score, 4))"
   ]
  },
  {
   "cell_type": "code",
   "execution_count": 7,
   "id": "b948200cd0706386",
   "metadata": {
    "ExecuteTime": {
     "end_time": "2025-09-18T19:27:12.071071Z",
     "start_time": "2025-09-18T19:27:12.069333Z"
    }
   },
   "outputs": [
    {
     "name": "stdout",
     "output_type": "stream",
     "text": [
      "Positivity check from PropensityModel: {'bounds': (0.05, 0.95), 'share_below': 0.001, 'share_above': 0.0, 'flag': False}\n"
     ]
    }
   ],
   "source": [
    "# Positivity check - assess overlap between treatment groups\n",
    "positivity_result = ps_model.positivity_check()\n",
    "print(\"Positivity check from PropensityModel:\", positivity_result)"
   ]
  },
  {
   "cell_type": "code",
   "execution_count": 8,
   "id": "202c3d1c408815f9",
   "metadata": {
    "ExecuteTime": {
     "end_time": "2025-09-18T19:27:12.321139Z",
     "start_time": "2025-09-18T19:27:12.073380Z"
    }
   },
   "outputs": [
    {
     "data": {
      "text/html": [
       "<div>\n",
       "<style scoped>\n",
       "    .dataframe tbody tr th:only-of-type {\n",
       "        vertical-align: middle;\n",
       "    }\n",
       "\n",
       "    .dataframe tbody tr th {\n",
       "        vertical-align: top;\n",
       "    }\n",
       "\n",
       "    .dataframe thead th {\n",
       "        text-align: right;\n",
       "    }\n",
       "</style>\n",
       "<table border=\"1\" class=\"dataframe\">\n",
       "  <thead>\n",
       "    <tr style=\"text-align: right;\">\n",
       "      <th></th>\n",
       "      <th>feature</th>\n",
       "      <th>shap_mean</th>\n",
       "      <th>shap_mean_abs</th>\n",
       "      <th>odds_mult_abs</th>\n",
       "      <th>exact_pp_change_abs</th>\n",
       "      <th>exact_pp_change_signed</th>\n",
       "    </tr>\n",
       "  </thead>\n",
       "  <tbody>\n",
       "    <tr>\n",
       "      <th>0</th>\n",
       "      <td>num__spend_last_month</td>\n",
       "      <td>-0.000304</td>\n",
       "      <td>0.165514</td>\n",
       "      <td>1.179999</td>\n",
       "      <td>0.038370</td>\n",
       "      <td>-0.000069</td>\n",
       "    </tr>\n",
       "    <tr>\n",
       "      <th>1</th>\n",
       "      <td>num__avg_sessions_week</td>\n",
       "      <td>0.000255</td>\n",
       "      <td>0.196429</td>\n",
       "      <td>1.217049</td>\n",
       "      <td>0.045715</td>\n",
       "      <td>0.000058</td>\n",
       "    </tr>\n",
       "    <tr>\n",
       "      <th>2</th>\n",
       "      <td>num__urban_resident</td>\n",
       "      <td>-0.000109</td>\n",
       "      <td>0.149617</td>\n",
       "      <td>1.161390</td>\n",
       "      <td>0.034613</td>\n",
       "      <td>-0.000025</td>\n",
       "    </tr>\n",
       "    <tr>\n",
       "      <th>3</th>\n",
       "      <td>num__premium_user</td>\n",
       "      <td>0.000100</td>\n",
       "      <td>0.300758</td>\n",
       "      <td>1.350882</td>\n",
       "      <td>0.070847</td>\n",
       "      <td>0.000023</td>\n",
       "    </tr>\n",
       "    <tr>\n",
       "      <th>4</th>\n",
       "      <td>num__tenure_months</td>\n",
       "      <td>0.000058</td>\n",
       "      <td>0.177304</td>\n",
       "      <td>1.193994</td>\n",
       "      <td>0.041165</td>\n",
       "      <td>0.000013</td>\n",
       "    </tr>\n",
       "  </tbody>\n",
       "</table>\n",
       "</div>"
      ],
      "text/plain": [
       "                  feature  shap_mean  shap_mean_abs  odds_mult_abs  \\\n",
       "0   num__spend_last_month  -0.000304       0.165514       1.179999   \n",
       "1  num__avg_sessions_week   0.000255       0.196429       1.217049   \n",
       "2     num__urban_resident  -0.000109       0.149617       1.161390   \n",
       "3       num__premium_user   0.000100       0.300758       1.350882   \n",
       "4      num__tenure_months   0.000058       0.177304       1.193994   \n",
       "\n",
       "   exact_pp_change_abs  exact_pp_change_signed  \n",
       "0             0.038370               -0.000069  \n",
       "1             0.045715                0.000058  \n",
       "2             0.034613               -0.000025  \n",
       "3             0.070847                0.000023  \n",
       "4             0.041165                0.000013  "
      ]
     },
     "jetTransient": {
      "display_id": null
     },
     "metadata": {},
     "output_type": "display_data"
    }
   ],
   "source": [
    "# SHAP values - feature importance for treatment assignment from confounders\n",
    "shap_values_df = ps_model.shap\n",
    "display(shap_values_df)"
   ]
  },
  {
   "cell_type": "code",
   "execution_count": 9,
   "id": "f2f493d24ccc85e1",
   "metadata": {
    "ExecuteTime": {
     "end_time": "2025-09-18T19:27:12.340699Z",
     "start_time": "2025-09-18T19:27:12.336229Z"
    }
   },
   "outputs": [
    {
     "data": {
      "text/html": [
       "<div>\n",
       "<style scoped>\n",
       "    .dataframe tbody tr th:only-of-type {\n",
       "        vertical-align: middle;\n",
       "    }\n",
       "\n",
       "    .dataframe tbody tr th {\n",
       "        vertical-align: top;\n",
       "    }\n",
       "\n",
       "    .dataframe thead th {\n",
       "        text-align: right;\n",
       "    }\n",
       "</style>\n",
       "<table border=\"1\" class=\"dataframe\">\n",
       "  <thead>\n",
       "    <tr style=\"text-align: right;\">\n",
       "      <th></th>\n",
       "      <th>feature</th>\n",
       "      <th>shap_mean</th>\n",
       "      <th>shap_mean_abs</th>\n",
       "      <th>odds_mult_abs</th>\n",
       "      <th>exact_pp_change_abs</th>\n",
       "      <th>exact_pp_change_signed</th>\n",
       "      <th>mean_abs_shap</th>\n",
       "    </tr>\n",
       "  </thead>\n",
       "  <tbody>\n",
       "    <tr>\n",
       "      <th>0</th>\n",
       "      <td>num__spend_last_month</td>\n",
       "      <td>-0.000304</td>\n",
       "      <td>0.165514</td>\n",
       "      <td>1.179999</td>\n",
       "      <td>0.038370</td>\n",
       "      <td>-0.000069</td>\n",
       "      <td>0.000304</td>\n",
       "    </tr>\n",
       "    <tr>\n",
       "      <th>1</th>\n",
       "      <td>num__avg_sessions_week</td>\n",
       "      <td>0.000255</td>\n",
       "      <td>0.196429</td>\n",
       "      <td>1.217049</td>\n",
       "      <td>0.045715</td>\n",
       "      <td>0.000058</td>\n",
       "      <td>0.000255</td>\n",
       "    </tr>\n",
       "    <tr>\n",
       "      <th>2</th>\n",
       "      <td>num__urban_resident</td>\n",
       "      <td>-0.000109</td>\n",
       "      <td>0.149617</td>\n",
       "      <td>1.161390</td>\n",
       "      <td>0.034613</td>\n",
       "      <td>-0.000025</td>\n",
       "      <td>0.000109</td>\n",
       "    </tr>\n",
       "    <tr>\n",
       "      <th>3</th>\n",
       "      <td>num__premium_user</td>\n",
       "      <td>0.000100</td>\n",
       "      <td>0.300758</td>\n",
       "      <td>1.350882</td>\n",
       "      <td>0.070847</td>\n",
       "      <td>0.000023</td>\n",
       "      <td>0.000100</td>\n",
       "    </tr>\n",
       "    <tr>\n",
       "      <th>4</th>\n",
       "      <td>num__tenure_months</td>\n",
       "      <td>0.000058</td>\n",
       "      <td>0.177304</td>\n",
       "      <td>1.193994</td>\n",
       "      <td>0.041165</td>\n",
       "      <td>0.000013</td>\n",
       "      <td>0.000058</td>\n",
       "    </tr>\n",
       "  </tbody>\n",
       "</table>\n",
       "</div>"
      ],
      "text/plain": [
       "                  feature  shap_mean  shap_mean_abs  odds_mult_abs  \\\n",
       "0   num__spend_last_month  -0.000304       0.165514       1.179999   \n",
       "1  num__avg_sessions_week   0.000255       0.196429       1.217049   \n",
       "2     num__urban_resident  -0.000109       0.149617       1.161390   \n",
       "3       num__premium_user   0.000100       0.300758       1.350882   \n",
       "4      num__tenure_months   0.000058       0.177304       1.193994   \n",
       "\n",
       "   exact_pp_change_abs  exact_pp_change_signed  mean_abs_shap  \n",
       "0             0.038370               -0.000069       0.000304  \n",
       "1             0.045715                0.000058       0.000255  \n",
       "2             0.034613               -0.000025       0.000109  \n",
       "3             0.070847                0.000023       0.000100  \n",
       "4             0.041165                0.000013       0.000058  "
      ]
     },
     "jetTransient": {
      "display_id": null
     },
     "metadata": {},
     "output_type": "display_data"
    }
   ],
   "source": [
    "# If your DataFrame has a 'shap_mean' column:\n",
    "shap_df = shap_values_df.copy()\n",
    "shap_df['mean_abs_shap'] = shap_df['shap_mean'].abs()\n",
    "shap_df.sort_values('mean_abs_shap', ascending=False, inplace=True)\n",
    "display(shap_df)"
   ]
  },
  {
   "cell_type": "code",
   "execution_count": 10,
   "id": "616d19bd7a413a6a",
   "metadata": {
    "ExecuteTime": {
     "end_time": "2025-09-18T19:27:12.432956Z",
     "start_time": "2025-09-18T19:27:12.376989Z"
    }
   },
   "outputs": [
    {
     "data": {
      "image/png": "[encoded data removed]",
      "text/plain": [
       "<Figure size 640x480 with 1 Axes>"
      ]
     },
     "jetTransient": {
      "display_id": null
     },
     "metadata": {},
     "output_type": "display_data"
    }
   ],
   "source": [
    "# Propensity score overlap graph\n",
    "ps_model.ps_graph()\n",
    "plt.show()"
   ]
  },
  {
   "cell_type": "markdown",
   "id": "735d2a5a60aa75be",
   "metadata": {},
   "source": [
    "### Outcome regression"
   ]
  },
  {
   "cell_type": "markdown",
   "id": "1c571739abf58410",
   "metadata": {},
   "source": [
    "Let's analyze how confounders predict outcome"
   ]
  },
  {
   "cell_type": "code",
   "execution_count": 11,
   "id": "552711b4aaa3715f",
   "metadata": {
    "ExecuteTime": {
     "end_time": "2025-09-18T19:27:16.337885Z",
     "start_time": "2025-09-18T19:27:12.435567Z"
    }
   },
   "outputs": [
    {
     "name": "stdout",
     "output_type": "stream",
     "text": [
      "{'rmse': 3.6910736220288642, 'mae': 2.939833306169571}\n"
     ]
    }
   ],
   "source": [
    "# Outcome model fit\n",
    "outcome_model = eda.outcome_fit()\n",
    "\n",
    "# RMSE and MAE of regression model\n",
    "print(outcome_model.scores)"
   ]
  },
  {
   "cell_type": "code",
   "execution_count": 12,
   "id": "bd8d22d9892b05bc",
   "metadata": {
    "ExecuteTime": {
     "end_time": "2025-09-18T19:27:16.586261Z",
     "start_time": "2025-09-18T19:27:16.350750Z"
    }
   },
   "outputs": [
    {
     "data": {
      "text/html": [
       "<div>\n",
       "<style scoped>\n",
       "    .dataframe tbody tr th:only-of-type {\n",
       "        vertical-align: middle;\n",
       "    }\n",
       "\n",
       "    .dataframe tbody tr th {\n",
       "        vertical-align: top;\n",
       "    }\n",
       "\n",
       "    .dataframe thead th {\n",
       "        text-align: right;\n",
       "    }\n",
       "</style>\n",
       "<table border=\"1\" class=\"dataframe\">\n",
       "  <thead>\n",
       "    <tr style=\"text-align: right;\">\n",
       "      <th></th>\n",
       "      <th>feature</th>\n",
       "      <th>shap_mean</th>\n",
       "    </tr>\n",
       "  </thead>\n",
       "  <tbody>\n",
       "    <tr>\n",
       "      <th>0</th>\n",
       "      <td>tenure_months</td>\n",
       "      <td>-0.001717</td>\n",
       "    </tr>\n",
       "    <tr>\n",
       "      <th>1</th>\n",
       "      <td>avg_sessions_week</td>\n",
       "      <td>0.000814</td>\n",
       "    </tr>\n",
       "    <tr>\n",
       "      <th>2</th>\n",
       "      <td>premium_user</td>\n",
       "      <td>0.000805</td>\n",
       "    </tr>\n",
       "    <tr>\n",
       "      <th>3</th>\n",
       "      <td>spend_last_month</td>\n",
       "      <td>0.000376</td>\n",
       "    </tr>\n",
       "    <tr>\n",
       "      <th>4</th>\n",
       "      <td>urban_resident</td>\n",
       "      <td>-0.000277</td>\n",
       "    </tr>\n",
       "  </tbody>\n",
       "</table>\n",
       "</div>"
      ],
      "text/plain": [
       "             feature  shap_mean\n",
       "0      tenure_months  -0.001717\n",
       "1  avg_sessions_week   0.000814\n",
       "2       premium_user   0.000805\n",
       "3   spend_last_month   0.000376\n",
       "4     urban_resident  -0.000277"
      ]
     },
     "jetTransient": {
      "display_id": null
     },
     "metadata": {},
     "output_type": "display_data"
    }
   ],
   "source": [
    "# 2) SHAP values - feature importance for outcome prediction from confounders\n",
    "shap_outcome_df = outcome_model.shap\n",
    "display(shap_outcome_df)"
   ]
  },
  {
   "cell_type": "markdown",
   "id": "6bb04960515eddb9",
   "metadata": {},
   "source": [
    "## Inference"
   ]
  },
  {
   "cell_type": "markdown",
   "id": "367bb171ed234d43",
   "metadata": {},
   "source": [
    "Now time to estimate ATE with Double Machine Learning"
   ]
  },
  {
   "cell_type": "code",
   "execution_count": 13,
   "id": "1903be665fae92e5",
   "metadata": {
    "ExecuteTime": {
     "end_time": "2025-09-18T19:27:25.381004Z",
     "start_time": "2025-09-18T19:27:16.604206Z"
    }
   },
   "outputs": [],
   "source": [
    "from causalis.inference.ate import dml_ate\n",
    "\n",
    "# Estimate Average Treatment Effect (ATE)\n",
    "ate_result = dml_ate(causal_data, n_folds=4, confidence_level=0.95)"
   ]
  },
  {
   "cell_type": "code",
   "execution_count": 14,
   "id": "c6d73ec082c0aa5b",
   "metadata": {
    "ExecuteTime": {
     "end_time": "2025-09-18T19:27:25.393671Z",
     "start_time": "2025-09-18T19:27:25.391690Z"
    }
   },
   "outputs": [
    {
     "data": {
      "text/plain": [
       "{'coefficient': 1.7837568133024586,\n",
       " 'std_error': 0.08796851810878961,\n",
       " 'p_value': 0.0,\n",
       " 'confidence_interval': (1.6113416860358714, 1.9561719405690459),\n",
       " 'model': <causalkit.inference.estimators.irm.IRM at 0x1492070e0>}"
      ]
     },
     "execution_count": 14,
     "metadata": {},
     "output_type": "execute_result"
    }
   ],
   "source": [
    "ate_result"
   ]
  },
  {
   "cell_type": "markdown",
   "id": "85a4433c8568bda8",
   "metadata": {},
   "source": [
    "True theta in our data generating proccess was 1.8"
   ]
  },
  {
   "cell_type": "markdown",
   "id": "d480fb40315a1482",
   "metadata": {},
   "source": [
    "## Refutation"
   ]
  },
  {
   "cell_type": "markdown",
   "id": "877fc216ed737d60",
   "metadata": {},
   "source": [
    "### Placebo"
   ]
  },
  {
   "cell_type": "code",
   "execution_count": 15,
   "id": "b1ea9f3ac405ad32",
   "metadata": {
    "ExecuteTime": {
     "end_time": "2025-09-18T19:27:25.403471Z",
     "start_time": "2025-09-18T19:27:25.399786Z"
    }
   },
   "outputs": [],
   "source": [
    "# Import refutation utilities\n",
    "from causalis.refutation import (\n",
    "    refute_placebo_outcome,\n",
    "    refute_placebo_treatment,\n",
    "    refute_subset,\n",
    "    refute_irm_orthogonality,\n",
    "    sensitivity_analysis,\n",
    "    sensitivity_analysis_set\n",
    ")"
   ]
  },
  {
   "cell_type": "markdown",
   "id": "85c161d53ff775bd",
   "metadata": {},
   "source": [
    "Replacing outcome with dummy random variable must broke our model and effect will be near zero"
   ]
  },
  {
   "cell_type": "code",
   "execution_count": 16,
   "id": "eb5f75c616754927",
   "metadata": {
    "ExecuteTime": {
     "end_time": "2025-09-18T19:27:35.806272Z",
     "start_time": "2025-09-18T19:27:25.406086Z"
    }
   },
   "outputs": [
    {
     "name": "stdout",
     "output_type": "stream",
     "text": [
      "{'theta': -0.0078040951760904075, 'p_value': 0.39168288447854893}\n"
     ]
    }
   ],
   "source": [
    "# Replacing an outcome with placebo\n",
    "ate_placebo_outcome = refute_placebo_outcome(\n",
    "    dml_ate,\n",
    "    causal_data,\n",
    "    random_state=42\n",
    ")\n",
    "\n",
    "print(ate_placebo_outcome)"
   ]
  },
  {
   "cell_type": "markdown",
   "id": "c06981ea9dc7f54e",
   "metadata": {},
   "source": [
    "Replacing treatment with dummy random variable must broke our model and effect will be near zero"
   ]
  },
  {
   "cell_type": "code",
   "execution_count": 17,
   "id": "fcde73df6227ef75",
   "metadata": {
    "ExecuteTime": {
     "end_time": "2025-09-18T19:27:46.138913Z",
     "start_time": "2025-09-18T19:27:35.818711Z"
    }
   },
   "outputs": [
    {
     "name": "stdout",
     "output_type": "stream",
     "text": [
      "{'theta': 0.03991094217663553, 'p_value': 0.6437714720309031}\n"
     ]
    }
   ],
   "source": [
    "# Replacing treatment with placebo\n",
    "ate_placebo_treatment = refute_placebo_treatment(\n",
    "    dml_ate,\n",
    "    causal_data,\n",
    "    random_state=42\n",
    ")\n",
    "\n",
    "print(ate_placebo_treatment)"
   ]
  },
  {
   "cell_type": "markdown",
   "id": "cc11ea49bf9a6a2e",
   "metadata": {},
   "source": [
    "Let's chanllege our dataset and romove random parts. Theta shoul be near estimated"
   ]
  },
  {
   "cell_type": "code",
   "execution_count": 18,
   "id": "a86c91985b29fa57",
   "metadata": {
    "ExecuteTime": {
     "end_time": "2025-09-18T19:27:59.408599Z",
     "start_time": "2025-09-18T19:27:46.167151Z"
    }
   },
   "outputs": [
    {
     "name": "stdout",
     "output_type": "stream",
     "text": [
      " With 30% subset: theta = 1.5859, p_value = 0.0000\n",
      " With 50% subset: theta = 1.8288, p_value = 0.0000\n"
     ]
    }
   ],
   "source": [
    "# Inference on subsets\n",
    "subset_fractions = [0.3, 0.5]\n",
    "\n",
    "ate_subset_results = []\n",
    "for fraction in subset_fractions:\n",
    "    subset_result = refute_subset(\n",
    "        dml_ate,\n",
    "        causal_data,\n",
    "        fraction=fraction,\n",
    "        random_state=42\n",
    "    )\n",
    "    ate_subset_results.append(subset_result)\n",
    "\n",
    "    print(f\" With {fraction*100:.0f}% subset: theta = {subset_result['theta']:.4f}, p_value = {subset_result['p_value']:.4f}\")"
   ]
  },
  {
   "cell_type": "markdown",
   "id": "ed99ad9cc9dd62c3",
   "metadata": {},
   "source": [
    "### Orthogonality"
   ]
  },
  {
   "cell_type": "markdown",
   "id": "bca9e96235df6df0",
   "metadata": {},
   "source": [
    "Orthogonality tests show us \"Does we correct specify the model\""
   ]
  },
  {
   "cell_type": "code",
   "execution_count": 19,
   "id": "5fa72cf706438ad1",
   "metadata": {
    "ExecuteTime": {
     "end_time": "2025-09-18T19:28:56.469808Z",
     "start_time": "2025-09-18T19:27:59.419679Z"
    }
   },
   "outputs": [
    {
     "name": "stderr",
     "output_type": "stream",
     "text": [
      "/var/folders/m0/gys_jqqj44n801p04bgv_ct00000gn/T/ipykernel_28797/1147422044.py:1: DeprecationWarning: 'clip_eps' is deprecated; use 'trimming_threshold'.\n",
      "  ate_ortho_check = refute_irm_orthogonality(dml_ate, causal_data)\n"
     ]
    }
   ],
   "source": [
    "ate_ortho_check = refute_irm_orthogonality(dml_ate, causal_data)"
   ]
  },
  {
   "cell_type": "code",
   "execution_count": 20,
   "id": "cc41ece52c878c30",
   "metadata": {
    "ExecuteTime": {
     "end_time": "2025-09-18T19:28:56.486637Z",
     "start_time": "2025-09-18T19:28:56.483761Z"
    }
   },
   "outputs": [
    {
     "name": "stdout",
     "output_type": "stream",
     "text": [
      "\n",
      "--- 1. Out-of-Sample Moment Check ---\n",
      "T-statistic: 0.4923\n",
      "P-value: 0.6225\n",
      "Interpretation: Should be ≈ 0 if moment condition holds\n",
      "\n",
      "Fold-wise results:\n"
     ]
    },
    {
     "data": {
      "text/html": [
       "<div>\n",
       "<style scoped>\n",
       "    .dataframe tbody tr th:only-of-type {\n",
       "        vertical-align: middle;\n",
       "    }\n",
       "\n",
       "    .dataframe tbody tr th {\n",
       "        vertical-align: top;\n",
       "    }\n",
       "\n",
       "    .dataframe thead th {\n",
       "        text-align: right;\n",
       "    }\n",
       "</style>\n",
       "<table border=\"1\" class=\"dataframe\">\n",
       "  <thead>\n",
       "    <tr style=\"text-align: right;\">\n",
       "      <th></th>\n",
       "      <th>fold</th>\n",
       "      <th>n</th>\n",
       "      <th>psi_mean</th>\n",
       "      <th>psi_var</th>\n",
       "    </tr>\n",
       "  </thead>\n",
       "  <tbody>\n",
       "    <tr>\n",
       "      <th>0</th>\n",
       "      <td>0</td>\n",
       "      <td>2500</td>\n",
       "      <td>0.140046</td>\n",
       "      <td>75.991733</td>\n",
       "    </tr>\n",
       "    <tr>\n",
       "      <th>1</th>\n",
       "      <td>1</td>\n",
       "      <td>2500</td>\n",
       "      <td>0.172414</td>\n",
       "      <td>77.675004</td>\n",
       "    </tr>\n",
       "    <tr>\n",
       "      <th>2</th>\n",
       "      <td>2</td>\n",
       "      <td>2500</td>\n",
       "      <td>-0.066878</td>\n",
       "      <td>69.722917</td>\n",
       "    </tr>\n",
       "    <tr>\n",
       "      <th>3</th>\n",
       "      <td>3</td>\n",
       "      <td>2500</td>\n",
       "      <td>-0.076579</td>\n",
       "      <td>71.176671</td>\n",
       "    </tr>\n",
       "  </tbody>\n",
       "</table>\n",
       "</div>"
      ],
      "text/plain": [
       "   fold     n  psi_mean    psi_var\n",
       "0     0  2500  0.140046  75.991733\n",
       "1     1  2500  0.172414  77.675004\n",
       "2     2  2500 -0.066878  69.722917\n",
       "3     3  2500 -0.076579  71.176671"
      ]
     },
     "jetTransient": {
      "display_id": null
     },
     "metadata": {},
     "output_type": "display_data"
    }
   ],
   "source": [
    "# 1. Out-of-sample moment check\n",
    "print(\"\\n--- 1. Out-of-Sample Moment Check ---\")\n",
    "oos_test = ate_ortho_check['oos_moment_test']\n",
    "print(f\"T-statistic: {oos_test['tstat']:.4f}\")\n",
    "print(f\"P-value: {oos_test['pvalue']:.4f}\")\n",
    "print(f\"Interpretation: {oos_test['interpretation']}\")\n",
    "print(\"\\nFold-wise results:\")\n",
    "display(oos_test['fold_results'])\n"
   ]
  },
  {
   "cell_type": "markdown",
   "id": "4c0226b06868daf5",
   "metadata": {},
   "source": [
    "psi_mean is near zero on every fold, so the test is successful"
   ]
  },
  {
   "cell_type": "code",
   "execution_count": 21,
   "id": "475f3800d2c20a2c",
   "metadata": {
    "ExecuteTime": {
     "end_time": "2025-09-18T19:28:56.516861Z",
     "start_time": "2025-09-18T19:28:56.505316Z"
    }
   },
   "outputs": [
    {
     "name": "stdout",
     "output_type": "stream",
     "text": [
      "\n",
      "--- 2. Orthogonality (Gateaux Derivative) Tests ---\n",
      "Interpretation: Large |t| (>2) indicate calibration issues\n",
      "\n",
      "Full sample derivatives:\n"
     ]
    },
    {
     "data": {
      "text/html": [
       "<div>\n",
       "<style scoped>\n",
       "    .dataframe tbody tr th:only-of-type {\n",
       "        vertical-align: middle;\n",
       "    }\n",
       "\n",
       "    .dataframe tbody tr th {\n",
       "        vertical-align: top;\n",
       "    }\n",
       "\n",
       "    .dataframe thead th {\n",
       "        text-align: right;\n",
       "    }\n",
       "</style>\n",
       "<table border=\"1\" class=\"dataframe\">\n",
       "  <thead>\n",
       "    <tr style=\"text-align: right;\">\n",
       "      <th></th>\n",
       "      <th>basis</th>\n",
       "      <th>d_g1</th>\n",
       "      <th>se_g1</th>\n",
       "      <th>t_g1</th>\n",
       "      <th>d_g0</th>\n",
       "      <th>se_g0</th>\n",
       "      <th>t_g0</th>\n",
       "      <th>d_m</th>\n",
       "      <th>se_m</th>\n",
       "      <th>t_m</th>\n",
       "    </tr>\n",
       "  </thead>\n",
       "  <tbody>\n",
       "    <tr>\n",
       "      <th>0</th>\n",
       "      <td>0</td>\n",
       "      <td>-0.059500</td>\n",
       "      <td>0.016515</td>\n",
       "      <td>-3.602854</td>\n",
       "      <td>0.020506</td>\n",
       "      <td>0.008181</td>\n",
       "      <td>2.506691</td>\n",
       "      <td>-0.359189</td>\n",
       "      <td>0.398015</td>\n",
       "      <td>-0.902452</td>\n",
       "    </tr>\n",
       "    <tr>\n",
       "      <th>1</th>\n",
       "      <td>1</td>\n",
       "      <td>0.008439</td>\n",
       "      <td>0.018789</td>\n",
       "      <td>0.449139</td>\n",
       "      <td>0.008293</td>\n",
       "      <td>0.008950</td>\n",
       "      <td>0.926599</td>\n",
       "      <td>-0.639525</td>\n",
       "      <td>0.543632</td>\n",
       "      <td>-1.176393</td>\n",
       "    </tr>\n",
       "    <tr>\n",
       "      <th>2</th>\n",
       "      <td>2</td>\n",
       "      <td>0.020546</td>\n",
       "      <td>0.017640</td>\n",
       "      <td>1.164703</td>\n",
       "      <td>0.006927</td>\n",
       "      <td>0.008936</td>\n",
       "      <td>0.775167</td>\n",
       "      <td>0.126057</td>\n",
       "      <td>0.556254</td>\n",
       "      <td>0.226617</td>\n",
       "    </tr>\n",
       "    <tr>\n",
       "      <th>3</th>\n",
       "      <td>3</td>\n",
       "      <td>0.002475</td>\n",
       "      <td>0.016398</td>\n",
       "      <td>0.150957</td>\n",
       "      <td>-0.001440</td>\n",
       "      <td>0.008675</td>\n",
       "      <td>-0.165993</td>\n",
       "      <td>-0.037181</td>\n",
       "      <td>0.441771</td>\n",
       "      <td>-0.084164</td>\n",
       "    </tr>\n",
       "    <tr>\n",
       "      <th>4</th>\n",
       "      <td>4</td>\n",
       "      <td>0.001852</td>\n",
       "      <td>0.013692</td>\n",
       "      <td>0.135296</td>\n",
       "      <td>0.012502</td>\n",
       "      <td>0.010076</td>\n",
       "      <td>1.240750</td>\n",
       "      <td>-0.021918</td>\n",
       "      <td>0.318157</td>\n",
       "      <td>-0.068892</td>\n",
       "    </tr>\n",
       "    <tr>\n",
       "      <th>5</th>\n",
       "      <td>5</td>\n",
       "      <td>0.013815</td>\n",
       "      <td>0.017182</td>\n",
       "      <td>0.804053</td>\n",
       "      <td>0.002671</td>\n",
       "      <td>0.007965</td>\n",
       "      <td>0.335414</td>\n",
       "      <td>0.219591</td>\n",
       "      <td>0.440190</td>\n",
       "      <td>0.498856</td>\n",
       "    </tr>\n",
       "  </tbody>\n",
       "</table>\n",
       "</div>"
      ],
      "text/plain": [
       "   basis      d_g1     se_g1      t_g1      d_g0     se_g0      t_g0  \\\n",
       "0      0 -0.059500  0.016515 -3.602854  0.020506  0.008181  2.506691   \n",
       "1      1  0.008439  0.018789  0.449139  0.008293  0.008950  0.926599   \n",
       "2      2  0.020546  0.017640  1.164703  0.006927  0.008936  0.775167   \n",
       "3      3  0.002475  0.016398  0.150957 -0.001440  0.008675 -0.165993   \n",
       "4      4  0.001852  0.013692  0.135296  0.012502  0.010076  1.240750   \n",
       "5      5  0.013815  0.017182  0.804053  0.002671  0.007965  0.335414   \n",
       "\n",
       "        d_m      se_m       t_m  \n",
       "0 -0.359189  0.398015 -0.902452  \n",
       "1 -0.639525  0.543632 -1.176393  \n",
       "2  0.126057  0.556254  0.226617  \n",
       "3 -0.037181  0.441771 -0.084164  \n",
       "4 -0.021918  0.318157 -0.068892  \n",
       "5  0.219591  0.440190  0.498856  "
      ]
     },
     "jetTransient": {
      "display_id": null
     },
     "metadata": {},
     "output_type": "display_data"
    },
    {
     "name": "stdout",
     "output_type": "stream",
     "text": [
      "\n",
      "Trimmed sample derivatives:\n"
     ]
    },
    {
     "data": {
      "text/html": [
       "<div>\n",
       "<style scoped>\n",
       "    .dataframe tbody tr th:only-of-type {\n",
       "        vertical-align: middle;\n",
       "    }\n",
       "\n",
       "    .dataframe tbody tr th {\n",
       "        vertical-align: top;\n",
       "    }\n",
       "\n",
       "    .dataframe thead th {\n",
       "        text-align: right;\n",
       "    }\n",
       "</style>\n",
       "<table border=\"1\" class=\"dataframe\">\n",
       "  <thead>\n",
       "    <tr style=\"text-align: right;\">\n",
       "      <th></th>\n",
       "      <th>basis</th>\n",
       "      <th>d_g1</th>\n",
       "      <th>se_g1</th>\n",
       "      <th>t_g1</th>\n",
       "      <th>d_g0</th>\n",
       "      <th>se_g0</th>\n",
       "      <th>t_g0</th>\n",
       "      <th>d_m</th>\n",
       "      <th>se_m</th>\n",
       "      <th>t_m</th>\n",
       "    </tr>\n",
       "  </thead>\n",
       "  <tbody>\n",
       "    <tr>\n",
       "      <th>0</th>\n",
       "      <td>0</td>\n",
       "      <td>-0.059500</td>\n",
       "      <td>0.016515</td>\n",
       "      <td>-3.602854</td>\n",
       "      <td>0.020506</td>\n",
       "      <td>0.008181</td>\n",
       "      <td>2.506691</td>\n",
       "      <td>-0.359189</td>\n",
       "      <td>0.398015</td>\n",
       "      <td>-0.902452</td>\n",
       "    </tr>\n",
       "    <tr>\n",
       "      <th>1</th>\n",
       "      <td>1</td>\n",
       "      <td>0.008439</td>\n",
       "      <td>0.018789</td>\n",
       "      <td>0.449139</td>\n",
       "      <td>0.008293</td>\n",
       "      <td>0.008950</td>\n",
       "      <td>0.926599</td>\n",
       "      <td>-0.639525</td>\n",
       "      <td>0.543632</td>\n",
       "      <td>-1.176393</td>\n",
       "    </tr>\n",
       "    <tr>\n",
       "      <th>2</th>\n",
       "      <td>2</td>\n",
       "      <td>0.020546</td>\n",
       "      <td>0.017640</td>\n",
       "      <td>1.164703</td>\n",
       "      <td>0.006927</td>\n",
       "      <td>0.008936</td>\n",
       "      <td>0.775167</td>\n",
       "      <td>0.126057</td>\n",
       "      <td>0.556254</td>\n",
       "      <td>0.226617</td>\n",
       "    </tr>\n",
       "    <tr>\n",
       "      <th>3</th>\n",
       "      <td>3</td>\n",
       "      <td>0.002475</td>\n",
       "      <td>0.016398</td>\n",
       "      <td>0.150957</td>\n",
       "      <td>-0.001440</td>\n",
       "      <td>0.008675</td>\n",
       "      <td>-0.165993</td>\n",
       "      <td>-0.037181</td>\n",
       "      <td>0.441771</td>\n",
       "      <td>-0.084164</td>\n",
       "    </tr>\n",
       "    <tr>\n",
       "      <th>4</th>\n",
       "      <td>4</td>\n",
       "      <td>0.001852</td>\n",
       "      <td>0.013692</td>\n",
       "      <td>0.135296</td>\n",
       "      <td>0.012502</td>\n",
       "      <td>0.010076</td>\n",
       "      <td>1.240750</td>\n",
       "      <td>-0.021918</td>\n",
       "      <td>0.318157</td>\n",
       "      <td>-0.068892</td>\n",
       "    </tr>\n",
       "    <tr>\n",
       "      <th>5</th>\n",
       "      <td>5</td>\n",
       "      <td>0.013815</td>\n",
       "      <td>0.017182</td>\n",
       "      <td>0.804053</td>\n",
       "      <td>0.002671</td>\n",
       "      <td>0.007965</td>\n",
       "      <td>0.335414</td>\n",
       "      <td>0.219591</td>\n",
       "      <td>0.440190</td>\n",
       "      <td>0.498856</td>\n",
       "    </tr>\n",
       "  </tbody>\n",
       "</table>\n",
       "</div>"
      ],
      "text/plain": [
       "   basis      d_g1     se_g1      t_g1      d_g0     se_g0      t_g0  \\\n",
       "0      0 -0.059500  0.016515 -3.602854  0.020506  0.008181  2.506691   \n",
       "1      1  0.008439  0.018789  0.449139  0.008293  0.008950  0.926599   \n",
       "2      2  0.020546  0.017640  1.164703  0.006927  0.008936  0.775167   \n",
       "3      3  0.002475  0.016398  0.150957 -0.001440  0.008675 -0.165993   \n",
       "4      4  0.001852  0.013692  0.135296  0.012502  0.010076  1.240750   \n",
       "5      5  0.013815  0.017182  0.804053  0.002671  0.007965  0.335414   \n",
       "\n",
       "        d_m      se_m       t_m  \n",
       "0 -0.359189  0.398015 -0.902452  \n",
       "1 -0.639525  0.543632 -1.176393  \n",
       "2  0.126057  0.556254  0.226617  \n",
       "3 -0.037181  0.441771 -0.084164  \n",
       "4 -0.021918  0.318157 -0.068892  \n",
       "5  0.219591  0.440190  0.498856  "
      ]
     },
     "jetTransient": {
      "display_id": null
     },
     "metadata": {},
     "output_type": "display_data"
    },
    {
     "name": "stdout",
     "output_type": "stream",
     "text": [
      "\n",
      "⚠ PROBLEMATIC derivatives (full sample):\n"
     ]
    },
    {
     "data": {
      "text/html": [
       "<div>\n",
       "<style scoped>\n",
       "    .dataframe tbody tr th:only-of-type {\n",
       "        vertical-align: middle;\n",
       "    }\n",
       "\n",
       "    .dataframe tbody tr th {\n",
       "        vertical-align: top;\n",
       "    }\n",
       "\n",
       "    .dataframe thead th {\n",
       "        text-align: right;\n",
       "    }\n",
       "</style>\n",
       "<table border=\"1\" class=\"dataframe\">\n",
       "  <thead>\n",
       "    <tr style=\"text-align: right;\">\n",
       "      <th></th>\n",
       "      <th>basis</th>\n",
       "      <th>d_g1</th>\n",
       "      <th>se_g1</th>\n",
       "      <th>t_g1</th>\n",
       "      <th>d_g0</th>\n",
       "      <th>se_g0</th>\n",
       "      <th>t_g0</th>\n",
       "      <th>d_m</th>\n",
       "      <th>se_m</th>\n",
       "      <th>t_m</th>\n",
       "    </tr>\n",
       "  </thead>\n",
       "  <tbody>\n",
       "    <tr>\n",
       "      <th>0</th>\n",
       "      <td>0</td>\n",
       "      <td>-0.0595</td>\n",
       "      <td>0.016515</td>\n",
       "      <td>-3.602854</td>\n",
       "      <td>0.020506</td>\n",
       "      <td>0.008181</td>\n",
       "      <td>2.506691</td>\n",
       "      <td>-0.359189</td>\n",
       "      <td>0.398015</td>\n",
       "      <td>-0.902452</td>\n",
       "    </tr>\n",
       "  </tbody>\n",
       "</table>\n",
       "</div>"
      ],
      "text/plain": [
       "   basis    d_g1     se_g1      t_g1      d_g0     se_g0      t_g0       d_m  \\\n",
       "0      0 -0.0595  0.016515 -3.602854  0.020506  0.008181  2.506691 -0.359189   \n",
       "\n",
       "       se_m       t_m  \n",
       "0  0.398015 -0.902452  "
      ]
     },
     "jetTransient": {
      "display_id": null
     },
     "metadata": {},
     "output_type": "display_data"
    },
    {
     "name": "stdout",
     "output_type": "stream",
     "text": [
      "\n",
      "⚠ PROBLEMATIC derivatives (trimmed sample):\n"
     ]
    },
    {
     "data": {
      "text/html": [
       "<div>\n",
       "<style scoped>\n",
       "    .dataframe tbody tr th:only-of-type {\n",
       "        vertical-align: middle;\n",
       "    }\n",
       "\n",
       "    .dataframe tbody tr th {\n",
       "        vertical-align: top;\n",
       "    }\n",
       "\n",
       "    .dataframe thead th {\n",
       "        text-align: right;\n",
       "    }\n",
       "</style>\n",
       "<table border=\"1\" class=\"dataframe\">\n",
       "  <thead>\n",
       "    <tr style=\"text-align: right;\">\n",
       "      <th></th>\n",
       "      <th>basis</th>\n",
       "      <th>d_g1</th>\n",
       "      <th>se_g1</th>\n",
       "      <th>t_g1</th>\n",
       "      <th>d_g0</th>\n",
       "      <th>se_g0</th>\n",
       "      <th>t_g0</th>\n",
       "      <th>d_m</th>\n",
       "      <th>se_m</th>\n",
       "      <th>t_m</th>\n",
       "    </tr>\n",
       "  </thead>\n",
       "  <tbody>\n",
       "    <tr>\n",
       "      <th>0</th>\n",
       "      <td>0</td>\n",
       "      <td>-0.0595</td>\n",
       "      <td>0.016515</td>\n",
       "      <td>-3.602854</td>\n",
       "      <td>0.020506</td>\n",
       "      <td>0.008181</td>\n",
       "      <td>2.506691</td>\n",
       "      <td>-0.359189</td>\n",
       "      <td>0.398015</td>\n",
       "      <td>-0.902452</td>\n",
       "    </tr>\n",
       "  </tbody>\n",
       "</table>\n",
       "</div>"
      ],
      "text/plain": [
       "   basis    d_g1     se_g1      t_g1      d_g0     se_g0      t_g0       d_m  \\\n",
       "0      0 -0.0595  0.016515 -3.602854  0.020506  0.008181  2.506691 -0.359189   \n",
       "\n",
       "       se_m       t_m  \n",
       "0  0.398015 -0.902452  "
      ]
     },
     "jetTransient": {
      "display_id": null
     },
     "metadata": {},
     "output_type": "display_data"
    }
   ],
   "source": [
    "# 2. Orthogonality derivatives\n",
    "print(\"\\n--- 2. Orthogonality (Gateaux Derivative) Tests ---\")\n",
    "ortho_derivs = ate_ortho_check['orthogonality_derivatives']\n",
    "print(f\"Interpretation: {ortho_derivs['interpretation']}\")\n",
    "\n",
    "print(\"\\nFull sample derivatives:\")\n",
    "display(ortho_derivs['full_sample'])\n",
    "\n",
    "print(\"\\nTrimmed sample derivatives:\")\n",
    "display(ortho_derivs['trimmed_sample'])\n",
    "\n",
    "if len(ortho_derivs['problematic_full']) > 0:\n",
    "    print(\"\\n⚠ PROBLEMATIC derivatives (full sample):\")\n",
    "    display(ortho_derivs['problematic_full'])\n",
    "else:\n",
    "    print(\"\\n✓ No problematic derivatives in full sample\")\n",
    "\n",
    "if len(ortho_derivs['problematic_trimmed']) > 0:\n",
    "    print(\"\\n⚠ PROBLEMATIC derivatives (trimmed sample):\")\n",
    "    display(ortho_derivs['problematic_trimmed'])\n",
    "else:\n",
    "    print(\"\\n✓ No problematic derivatives in trimmed sample\")\n"
   ]
  },
  {
   "cell_type": "markdown",
   "id": "2916839a9728ba8",
   "metadata": {},
   "source": [
    "t_m1, t_m0, t_g should be above 2.\n",
    "Even after trimming our data t_m1, t_m0, t_g above 2 across all confounders"
   ]
  },
  {
   "cell_type": "code",
   "execution_count": 22,
   "id": "85f88b3c24cc09cd",
   "metadata": {
    "ExecuteTime": {
     "end_time": "2025-09-18T19:28:56.602628Z",
     "start_time": "2025-09-18T19:28:56.598544Z"
    }
   },
   "outputs": [
    {
     "name": "stdout",
     "output_type": "stream",
     "text": [
      "\n",
      "--- 3. Influence Diagnostics ---\n",
      "Interpretation: Heavy tails or extreme kurtosis suggest instability\n",
      "\n",
      "Full sample influence metrics:\n",
      "  Plugin SE: 0.0858\n",
      "  Kurtosis: 10.47\n",
      "  P99/Median ratio: 6.90\n",
      "\n",
      "Trimmed sample influence metrics:\n",
      "  Plugin SE: 0.0858\n",
      "  Kurtosis: 10.47\n",
      "  P99/Median ratio: 6.90\n",
      "\n",
      "Top influential observations (full sample):\n"
     ]
    },
    {
     "data": {
      "text/html": [
       "<div>\n",
       "<style scoped>\n",
       "    .dataframe tbody tr th:only-of-type {\n",
       "        vertical-align: middle;\n",
       "    }\n",
       "\n",
       "    .dataframe tbody tr th {\n",
       "        vertical-align: top;\n",
       "    }\n",
       "\n",
       "    .dataframe thead th {\n",
       "        text-align: right;\n",
       "    }\n",
       "</style>\n",
       "<table border=\"1\" class=\"dataframe\">\n",
       "  <thead>\n",
       "    <tr style=\"text-align: right;\">\n",
       "      <th></th>\n",
       "      <th>i</th>\n",
       "      <th>psi</th>\n",
       "      <th>m</th>\n",
       "      <th>res_t</th>\n",
       "      <th>res_c</th>\n",
       "    </tr>\n",
       "  </thead>\n",
       "  <tbody>\n",
       "    <tr>\n",
       "      <th>0</th>\n",
       "      <td>9368</td>\n",
       "      <td>-84.362039</td>\n",
       "      <td>0.081674</td>\n",
       "      <td>-6.769493</td>\n",
       "      <td>-0.000000</td>\n",
       "    </tr>\n",
       "    <tr>\n",
       "      <th>1</th>\n",
       "      <td>7299</td>\n",
       "      <td>-76.682519</td>\n",
       "      <td>0.112310</td>\n",
       "      <td>-8.863792</td>\n",
       "      <td>-0.000000</td>\n",
       "    </tr>\n",
       "    <tr>\n",
       "      <th>2</th>\n",
       "      <td>4732</td>\n",
       "      <td>-75.571748</td>\n",
       "      <td>0.840977</td>\n",
       "      <td>0.000000</td>\n",
       "      <td>12.231674</td>\n",
       "    </tr>\n",
       "    <tr>\n",
       "      <th>3</th>\n",
       "      <td>874</td>\n",
       "      <td>68.376059</td>\n",
       "      <td>0.091496</td>\n",
       "      <td>6.664251</td>\n",
       "      <td>0.000000</td>\n",
       "    </tr>\n",
       "    <tr>\n",
       "      <th>4</th>\n",
       "      <td>3122</td>\n",
       "      <td>67.284889</td>\n",
       "      <td>0.065985</td>\n",
       "      <td>4.472299</td>\n",
       "      <td>0.000000</td>\n",
       "    </tr>\n",
       "    <tr>\n",
       "      <th>5</th>\n",
       "      <td>5563</td>\n",
       "      <td>65.500549</td>\n",
       "      <td>0.144684</td>\n",
       "      <td>9.980117</td>\n",
       "      <td>0.000000</td>\n",
       "    </tr>\n",
       "    <tr>\n",
       "      <th>6</th>\n",
       "      <td>4273</td>\n",
       "      <td>63.943012</td>\n",
       "      <td>0.143024</td>\n",
       "      <td>9.029281</td>\n",
       "      <td>0.000000</td>\n",
       "    </tr>\n",
       "    <tr>\n",
       "      <th>7</th>\n",
       "      <td>1446</td>\n",
       "      <td>-61.722358</td>\n",
       "      <td>0.863437</td>\n",
       "      <td>0.000000</td>\n",
       "      <td>8.704858</td>\n",
       "    </tr>\n",
       "    <tr>\n",
       "      <th>8</th>\n",
       "      <td>6057</td>\n",
       "      <td>58.460959</td>\n",
       "      <td>0.161539</td>\n",
       "      <td>9.430154</td>\n",
       "      <td>0.000000</td>\n",
       "    </tr>\n",
       "    <tr>\n",
       "      <th>9</th>\n",
       "      <td>8234</td>\n",
       "      <td>52.419202</td>\n",
       "      <td>0.083391</td>\n",
       "      <td>4.438301</td>\n",
       "      <td>0.000000</td>\n",
       "    </tr>\n",
       "  </tbody>\n",
       "</table>\n",
       "</div>"
      ],
      "text/plain": [
       "      i        psi         m     res_t      res_c\n",
       "0  9368 -84.362039  0.081674 -6.769493  -0.000000\n",
       "1  7299 -76.682519  0.112310 -8.863792  -0.000000\n",
       "2  4732 -75.571748  0.840977  0.000000  12.231674\n",
       "3   874  68.376059  0.091496  6.664251   0.000000\n",
       "4  3122  67.284889  0.065985  4.472299   0.000000\n",
       "5  5563  65.500549  0.144684  9.980117   0.000000\n",
       "6  4273  63.943012  0.143024  9.029281   0.000000\n",
       "7  1446 -61.722358  0.863437  0.000000   8.704858\n",
       "8  6057  58.460959  0.161539  9.430154   0.000000\n",
       "9  8234  52.419202  0.083391  4.438301   0.000000"
      ]
     },
     "jetTransient": {
      "display_id": null
     },
     "metadata": {},
     "output_type": "display_data"
    }
   ],
   "source": [
    "# 3. Influence diagnostics\n",
    "print(\"\\n--- 3. Influence Diagnostics ---\")\n",
    "influence = ate_ortho_check['influence_diagnostics']\n",
    "print(f\"Interpretation: {influence['interpretation']}\")\n",
    "\n",
    "print(\"\\nFull sample influence metrics:\")\n",
    "print(f\"  Plugin SE: {influence['full_sample']['se_plugin']:.4f}\")\n",
    "print(f\"  Kurtosis: {influence['full_sample']['kurtosis']:.2f}\")\n",
    "print(f\"  P99/Median ratio: {influence['full_sample']['p99_over_med']:.2f}\")\n",
    "\n",
    "print(\"\\nTrimmed sample influence metrics:\")\n",
    "print(f\"  Plugin SE: {influence['trimmed_sample']['se_plugin']:.4f}\")\n",
    "print(f\"  Kurtosis: {influence['trimmed_sample']['kurtosis']:.2f}\")\n",
    "print(f\"  P99/Median ratio: {influence['trimmed_sample']['p99_over_med']:.2f}\")\n",
    "\n",
    "print(\"\\nTop influential observations (full sample):\")\n",
    "display(influence['full_sample']['top_influential'])\n"
   ]
  },
  {
   "cell_type": "code",
   "execution_count": 23,
   "id": "b52d415397857df4",
   "metadata": {
    "ExecuteTime": {
     "end_time": "2025-09-18T19:28:56.729665Z",
     "start_time": "2025-09-18T19:28:56.727355Z"
    }
   },
   "outputs": [
    {
     "name": "stdout",
     "output_type": "stream",
     "text": [
      "\n",
      "--- Propensity Score Trimming ---\n",
      "Trimming bounds: (0.02, 0.98)\n",
      "Observations trimmed: 0 (0.0%)\n"
     ]
    }
   ],
   "source": [
    "# Trimming information\n",
    "print(\"\\n--- Propensity Score Trimming ---\")\n",
    "trim_info = ate_ortho_check['trimming_info']\n",
    "print(f\"Trimming bounds: {trim_info['bounds']}\")\n",
    "print(f\"Observations trimmed: {trim_info['n_trimmed']} ({trim_info['pct_trimmed']:.1f}%)\")\n"
   ]
  },
  {
   "cell_type": "markdown",
   "id": "e9ecebc8b3b63044",
   "metadata": {},
   "source": [
    "In this test we analyze distribution of theta before trimming and after. There is no big difference. So test passed"
   ]
  },
  {
   "cell_type": "code",
   "execution_count": 24,
   "id": "a7148449888110e7",
   "metadata": {
    "ExecuteTime": {
     "end_time": "2025-09-18T19:28:56.775926Z",
     "start_time": "2025-09-18T19:28:56.773574Z"
    }
   },
   "outputs": [
    {
     "name": "stdout",
     "output_type": "stream",
     "text": [
      "\n",
      "--- Diagnostic Conditions Assessment ---\n",
      "Individual condition checks:\n",
      "  oos_moment_ok: ✓ PASS\n",
      "  derivs_full_ok: ✗ FAIL\n",
      "  derivs_trim_ok: ✗ FAIL\n",
      "  se_reasonable: ✓ PASS\n",
      "  no_extreme_influence: ✓ PASS\n",
      "  trimming_reasonable: ✓ PASS\n",
      "\n",
      "Overall: CAUTION: Most conditions satisfied\n"
     ]
    }
   ],
   "source": [
    "# Diagnostic conditions breakdown\n",
    "print(\"\\n--- Diagnostic Conditions Assessment ---\")\n",
    "conditions = ate_ortho_check['diagnostic_conditions']\n",
    "\n",
    "print(\"Individual condition checks:\")\n",
    "for condition, passed in conditions.items():\n",
    "    status = \"✓ PASS\" if passed else \"✗ FAIL\"\n",
    "    print(f\"  {condition}: {status}\")\n",
    "\n",
    "print(f\"\\nOverall: {ate_ortho_check['overall_assessment']}\")\n"
   ]
  },
  {
   "cell_type": "markdown",
   "id": "38ab43ed65b1cbb2",
   "metadata": {},
   "source": [
    "### Sensitivity analysis"
   ]
  },
  {
   "cell_type": "markdown",
   "id": "901bd32478daa38f",
   "metadata": {},
   "source": [
    "Let's analyze how unobserved confounder could look"
   ]
  },
  {
   "cell_type": "code",
   "execution_count": 25,
   "id": "456241290639e32a",
   "metadata": {
    "ExecuteTime": {
     "end_time": "2025-09-18T19:28:56.791630Z",
     "start_time": "2025-09-18T19:28:56.788119Z"
    }
   },
   "outputs": [],
   "source": [
    "bench_sets = causal_data.confounders\n",
    "res = sensitivity_analysis_set(\n",
    "    ate_result,\n",
    "    benchmarking_set=bench_sets,\n",
    "    level=0.95,\n",
    "    null_hypothesis=0.0,\n",
    ")"
   ]
  },
  {
   "cell_type": "code",
   "execution_count": 26,
   "id": "f462af369a4f852c",
   "metadata": {
    "ExecuteTime": {
     "end_time": "2025-09-18T19:28:56.799233Z",
     "start_time": "2025-09-18T19:28:56.797102Z"
    }
   },
   "outputs": [],
   "source": [
    "# Build a DataFrame with confounders as rows and the metrics as columns\n",
    "summary_df = pd.DataFrame({\n",
    "    name: (df.loc['t'] if 't' in df.index else df.iloc[0])\n",
    "    for name, df in res.items()\n",
    "}).T\n"
   ]
  },
  {
   "cell_type": "code",
   "execution_count": 29,
   "id": "4b98ad6e1e9b07ed",
   "metadata": {
    "ExecuteTime": {
     "end_time": "2025-09-18T19:32:55.616927Z",
     "start_time": "2025-09-18T19:32:55.601293Z"
    }
   },
   "outputs": [
    {
     "data": {
      "text/html": [
       "<div>\n",
       "<style scoped>\n",
       "    .dataframe tbody tr th:only-of-type {\n",
       "        vertical-align: middle;\n",
       "    }\n",
       "\n",
       "    .dataframe tbody tr th {\n",
       "        vertical-align: top;\n",
       "    }\n",
       "\n",
       "    .dataframe thead th {\n",
       "        text-align: right;\n",
       "    }\n",
       "</style>\n",
       "<table border=\"1\" class=\"dataframe\">\n",
       "  <thead>\n",
       "    <tr style=\"text-align: right;\">\n",
       "      <th></th>\n",
       "      <th>CI lower</th>\n",
       "      <th>theta lower</th>\n",
       "      <th>theta</th>\n",
       "      <th>theta upper</th>\n",
       "      <th>CI upper</th>\n",
       "    </tr>\n",
       "  </thead>\n",
       "  <tbody>\n",
       "    <tr>\n",
       "      <th>tenure_months</th>\n",
       "      <td>1.611342</td>\n",
       "      <td>1.770011</td>\n",
       "      <td>1.783757</td>\n",
       "      <td>1.797503</td>\n",
       "      <td>1.956172</td>\n",
       "    </tr>\n",
       "    <tr>\n",
       "      <th>avg_sessions_week</th>\n",
       "      <td>1.611342</td>\n",
       "      <td>1.768202</td>\n",
       "      <td>1.783757</td>\n",
       "      <td>1.799312</td>\n",
       "      <td>1.956172</td>\n",
       "    </tr>\n",
       "    <tr>\n",
       "      <th>spend_last_month</th>\n",
       "      <td>1.611342</td>\n",
       "      <td>1.773033</td>\n",
       "      <td>1.783757</td>\n",
       "      <td>1.794480</td>\n",
       "      <td>1.956172</td>\n",
       "    </tr>\n",
       "    <tr>\n",
       "      <th>premium_user</th>\n",
       "      <td>1.611342</td>\n",
       "      <td>1.755566</td>\n",
       "      <td>1.783757</td>\n",
       "      <td>1.811948</td>\n",
       "      <td>1.956172</td>\n",
       "    </tr>\n",
       "    <tr>\n",
       "      <th>urban_resident</th>\n",
       "      <td>1.611342</td>\n",
       "      <td>1.772618</td>\n",
       "      <td>1.783757</td>\n",
       "      <td>1.794896</td>\n",
       "      <td>1.956172</td>\n",
       "    </tr>\n",
       "  </tbody>\n",
       "</table>\n",
       "</div>"
      ],
      "text/plain": [
       "                   CI lower  theta lower     theta  theta upper  CI upper\n",
       "tenure_months      1.611342     1.770011  1.783757     1.797503  1.956172\n",
       "avg_sessions_week  1.611342     1.768202  1.783757     1.799312  1.956172\n",
       "spend_last_month   1.611342     1.773033  1.783757     1.794480  1.956172\n",
       "premium_user       1.611342     1.755566  1.783757     1.811948  1.956172\n",
       "urban_resident     1.611342     1.772618  1.783757     1.794896  1.956172"
      ]
     },
     "execution_count": 29,
     "metadata": {},
     "output_type": "execute_result"
    }
   ],
   "source": [
    "summary_df"
   ]
  },
  {
   "cell_type": "markdown",
   "id": "31ea0a07d0f697da",
   "metadata": {},
   "source": [
    "It is business domain and data knowledge relative question. In this situation we will stop on the most influential confounder 'premium_user' and test theta when we do not observe anothere confounder with strength of 'premium_user'"
   ]
  },
  {
   "cell_type": "code",
   "execution_count": 28,
   "id": "24a0ebbc20be48f3",
   "metadata": {
    "ExecuteTime": {
     "end_time": "2025-09-18T19:28:56.830953Z",
     "start_time": "2025-09-18T19:28:56.826337Z"
    }
   },
   "outputs": [
    {
     "name": "stdout",
     "output_type": "stream",
     "text": [
      "================== Sensitivity Analysis ==================\n",
      "\n",
      "------------------ Scenario          ------------------\n",
      "Significance Level: level=0.95\n",
      "Sensitivity parameters: cf_y=0.06; cf_d=0.03, rho=1.0\n",
      "\n",
      "------------------ Bounds with CI    ------------------\n",
      "          CI lower  theta lower           theta  theta upper      CI upper\n",
      "     t    1.611342     1.463349        1.783757     2.104165      1.956172\n",
      "\n",
      "------------------ Robustness Values ------------------\n",
      "          H_0    RV (%)  RVa (%)\n",
      "     t    0.0  4.699863 0.000000\n"
     ]
    }
   ],
   "source": [
    "# Run sensitivity analysis on our ATE result\n",
    "sensitivity_report_1 = sensitivity_analysis(\n",
    "    ate_result,\n",
    "    cf_y=0.06,  # Confounding strength affecting outcome\n",
    "    cf_d=0.03,  # Confounding strength affecting treatment\n",
    "    rho=1.0     # Perfect correlation between unobserved confounders\n",
    ")\n",
    "\n",
    "print(sensitivity_report_1)"
   ]
  },
  {
   "cell_type": "markdown",
   "id": "429678757060bd93",
   "metadata": {},
   "source": [
    "CI lower >> 0. It means test is passed"
   ]
  },
  {
   "cell_type": "code",
   "execution_count": null,
   "id": "a068dbfd9c3a2875",
   "metadata": {
    "ExecuteTime": {
     "end_time": "2025-09-18T19:28:56.868691Z",
     "start_time": "2025-09-18T19:28:56.867211Z"
    }
   },
   "outputs": [],
   "source": []
  }
 ],
 "metadata": {
  "kernelspec": {
   "display_name": "Python 3",
   "language": "python",
   "name": "python3"
  },
  "language_info": {
   "codemirror_mode": {
    "name": "ipython",
    "version": 2
   },
   "file_extension": ".py",
   "mimetype": "text/x-python",
   "name": "python",
   "nbconvert_exporter": "python",
   "pygments_lexer": "ipython2",
   "version": "2.7.6"
  }
 },
 "nbformat": 4,
 "nbformat_minor": 5
}
