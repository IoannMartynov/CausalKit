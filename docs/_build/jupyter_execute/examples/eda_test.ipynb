{
 "cells": [
  {
   "cell_type": "code",
   "execution_count": 1,
   "id": "initial_id",
   "metadata": {
    "ExecuteTime": {
     "end_time": "2025-08-15T16:12:23.742642Z",
     "start_time": "2025-08-15T16:12:23.073132Z"
    },
    "collapsed": true
   },
   "outputs": [
    {
     "ename": "TypeError",
     "evalue": "CausalDatasetGenerator.to_causal_data() got an unexpected keyword argument 'cofounders'. Did you mean 'confounders'?",
     "output_type": "error",
     "traceback": [
      "\u001b[31m---------------------------------------------------------------------------\u001b[39m",
      "\u001b[31mTypeError\u001b[39m                                 Traceback (most recent call last)",
      "\u001b[36mCell\u001b[39m\u001b[36m \u001b[39m\u001b[32mIn[1]\u001b[39m\u001b[32m, line 55\u001b[39m\n\u001b[32m     42\u001b[39m gen = CausalDatasetGenerator(\n\u001b[32m     43\u001b[39m     theta=theta,\n\u001b[32m     44\u001b[39m     outcome_type=\u001b[33m\"\u001b[39m\u001b[33mcontinuous\u001b[39m\u001b[33m\"\u001b[39m,\n\u001b[32m   (...)\u001b[39m\u001b[32m     50\u001b[39m     beta_t=beta_t,\n\u001b[32m     51\u001b[39m )\n\u001b[32m     54\u001b[39m \u001b[38;5;66;03m# Create dataset\u001b[39;00m\n\u001b[32m---> \u001b[39m\u001b[32m55\u001b[39m causal_data = gen.to_causal_data(\n\u001b[32m     56\u001b[39m     n=\u001b[32m5000\u001b[39m,\n\u001b[32m     57\u001b[39m     cofounders = [\n\u001b[32m     58\u001b[39m     \u001b[33m\"\u001b[39m\u001b[33mtenure_months\u001b[39m\u001b[33m\"\u001b[39m,\n\u001b[32m     59\u001b[39m     \u001b[33m\"\u001b[39m\u001b[33mavg_sessions_week\u001b[39m\u001b[33m\"\u001b[39m,\n\u001b[32m     60\u001b[39m     \u001b[33m\"\u001b[39m\u001b[33mspend_last_month\u001b[39m\u001b[33m\"\u001b[39m,\n\u001b[32m     61\u001b[39m     \u001b[33m\"\u001b[39m\u001b[33mpremium_user\u001b[39m\u001b[33m\"\u001b[39m,\n\u001b[32m     62\u001b[39m     \u001b[33m\"\u001b[39m\u001b[33murban_resident\u001b[39m\u001b[33m\"\u001b[39m,\n\u001b[32m     63\u001b[39m ]\n\u001b[32m     64\u001b[39m )\n\u001b[32m     66\u001b[39m \u001b[38;5;28mprint\u001b[39m(\u001b[33mf\u001b[39m\u001b[33m\"\u001b[39m\u001b[33mGenerated \u001b[39m\u001b[38;5;132;01m{\u001b[39;00m\u001b[38;5;28mlen\u001b[39m(causal_data.df)\u001b[38;5;132;01m}\u001b[39;00m\u001b[33m observations\u001b[39m\u001b[33m\"\u001b[39m)\n\u001b[32m     67\u001b[39m \u001b[38;5;28mprint\u001b[39m(\u001b[33mf\u001b[39m\u001b[33m\"\u001b[39m\u001b[33mTrue causal effect: \u001b[39m\u001b[38;5;132;01m{\u001b[39;00mgen.theta\u001b[38;5;132;01m}\u001b[39;00m\u001b[33m\"\u001b[39m)\n",
      "\u001b[31mTypeError\u001b[39m: CausalDatasetGenerator.to_causal_data() got an unexpected keyword argument 'cofounders'. Did you mean 'confounders'?"
     ]
    }
   ],
   "source": [
    "import numpy as np\n",
    "import pandas as pd\n",
    "import matplotlib.pyplot as plt\n",
    "import seaborn as sns\n",
    "from causalkit.data import CausalDatasetGenerator, CausalData\n",
    "\n",
    "# Reproducibility\n",
    "np.random.seed(42)\n",
    "\n",
    "confounder_specs = [\n",
    "    {\"name\": \"tenure_months\", \"dist\": \"normal\", \"mu\": 24, \"sd\": 12},\n",
    "    {\"name\": \"avg_sessions_week\", \"dist\": \"normal\", \"mu\": 5, \"sd\": 2},\n",
    "    {\"name\": \"spend_last_month\", \"dist\": \"uniform\", \"a\": 0, \"b\": 200},\n",
    "    {\"name\": \"premium_user\", \"dist\": \"bernoulli\", \"p\": 0.25},\n",
    "    {\"name\": \"urban_resident\", \"dist\": \"bernoulli\", \"p\": 0.60},\n",
    "]\n",
    "\n",
    "# Causal effect and noise\n",
    "theta = 1.8  # ATE: +1.8 ARPU units if new_feature = 1\n",
    "sigma_y = 3.5  # ARPU noise std\n",
    "target_t_rate = 0.35  # ~35% treated\n",
    "\n",
    "# Effects of confounders on ARPU (baseline, additive)\n",
    "# Order: tenure_months, avg_sessions_week, spend_last_month, premium_user, urban_resident\n",
    "beta_y = np.array([\n",
    "    0.05,  # tenure_months: small positive effect\n",
    "    0.40,  # avg_sessions_week: strong positive effect\n",
    "    0.02,  # spend_last_month: recent spend correlates with ARPU\n",
    "    2.00,  # premium_user: premium users have higher ARPU\n",
    "    1.00,  # urban_resident: urban users slightly higher ARPU\n",
    "], dtype=float)\n",
    "\n",
    "# Effects of confounders on treatment assignment (log-odds scale)\n",
    "beta_t = np.array([\n",
    "    0.015,  # tenure_months\n",
    "    0.10,  # avg_sessions_week\n",
    "    0.002,  # spend_last_month\n",
    "    0.75,  # premium_user\n",
    "    0.30,  # urban_resident: more likely to get the feature\n",
    "], dtype=float)\n",
    "\n",
    "gen = CausalDatasetGenerator(\n",
    "    theta=theta,\n",
    "    outcome_type=\"continuous\",\n",
    "    sigma_y=sigma_y,\n",
    "    target_t_rate=target_t_rate,\n",
    "    seed=42,\n",
    "    confounder_specs=confounder_specs,\n",
    "    beta_y=beta_y,\n",
    "    beta_t=beta_t,\n",
    ")\n",
    "\n",
    "\n",
    "# Create dataset\n",
    "causal_data = gen.to_causal_data(\n",
    "    n=5000,\n",
    "    cofounders = [\n",
    "    \"tenure_months\",\n",
    "    \"avg_sessions_week\",\n",
    "    \"spend_last_month\",\n",
    "    \"premium_user\",\n",
    "    \"urban_resident\",\n",
    "]\n",
    ")\n",
    "\n",
    "print(f\"Generated {len(causal_data.df)} observations\")\n",
    "print(f\"True causal effect: {gen.theta}\")\n",
    "print(f\"Treatment rate: {causal_data.df['t'].mean():.1%}\")\n",
    "print(f\"Average outcome: {causal_data.df['y'].mean():.2f}\")\n",
    "\n",
    "# Show first few rows\n",
    "causal_data.df.head()\n"
   ]
  },
  {
   "cell_type": "code",
   "execution_count": 2,
   "id": "805129430c3680db",
   "metadata": {
    "ExecuteTime": {
     "end_time": "2025-08-15T16:12:23.768458Z",
     "start_time": "2025-08-15T16:12:23.765324Z"
    }
   },
   "outputs": [],
   "source": [
    "from causalkit.eda import CausalEDA\n",
    "eda = CausalEDA(causal_data)"
   ]
  },
  {
   "cell_type": "code",
   "execution_count": 3,
   "id": "7d5cd09ceeb33bfc",
   "metadata": {
    "ExecuteTime": {
     "end_time": "2025-08-15T16:12:23.868912Z",
     "start_time": "2025-08-15T16:12:23.842815Z"
    }
   },
   "outputs": [],
   "source": []
  },
  {
   "cell_type": "code",
   "execution_count": 5,
   "id": "a35a72932944d70e",
   "metadata": {
    "ExecuteTime": {
     "end_time": "2025-08-15T16:12:23.898783Z",
     "start_time": "2025-08-15T16:12:23.895245Z"
    }
   },
   "outputs": [
    {
     "name": "stdout",
     "output_type": "stream",
     "text": [
      "=== DESIGN REPORT SUMMARY ===\n",
      "============================================================\n",
      "CAUSAL DESIGN REPORT SUMMARY\n",
      "============================================================\n",
      "\n",
      "📊 TREATMENT & OUTCOME SUMMARY\n",
      "------------------------------\n",
      "Treatment Rate: 34.1%\n",
      "Naive Difference (Treated - Control): 2.4398\n",
      "\n",
      "Outcome by Treatment:\n",
      "     count    mean     std\n",
      "t                         \n",
      "0.0   3294  6.0493  3.9618\n",
      "1.0   1706  8.4891  3.9371\n",
      "\n",
      "🎯 TREATMENT PREDICTABILITY\n",
      "------------------------------\n",
      "Treatment AUC: 0.6230\n",
      "  ✅ Low predictability - minimal confounding risk\n",
      "\n",
      "🔄 POSITIVITY/OVERLAP ASSESSMENT\n",
      "------------------------------\n",
      "Propensity Score Bounds: (0.05, 0.95)\n",
      "Share Below Lower Bound: 0.0%\n",
      "Share Above Upper Bound: 0.0%\n",
      "Total in Extreme Regions: 0.0%\n",
      "  ✅ Good overlap - positivity assumption satisfied\n",
      "\n",
      "⚖️  COVARIATE BALANCE ASSESSMENT\n",
      "------------------------------\n",
      "Total Variables: 5\n",
      "Imbalanced Before Weighting: 4\n",
      "Imbalanced After Weighting: 0\n",
      "  ✅ Perfect balance achieved after weighting\n",
      "\n",
      "Worst Imbalanced Variables (Before Weighting):\n",
      "  premium_user: 0.329 → -0.001\n",
      "  avg_sessions_week: 0.199 → 0.006\n",
      "  tenure_months: 0.172 → 0.000\n",
      "\n",
      "⚖️  WEIGHT DIAGNOSTICS\n",
      "------------------------------\n",
      "Effective Sample Size (All): 4209.6\n",
      "Effective Sample Size (Treated): 1567.5\n",
      "Effective Sample Size (Control): 3201.6\n",
      "\n",
      "Weight Distribution (Quantiles):\n",
      "  50%: 1.61\n",
      "  90%: 3.35\n",
      "  95%: 3.84\n",
      "  99%: 4.78\n",
      "  100%: 7.67\n",
      "  ✅ Reasonable weight distribution\n",
      "\n",
      "📋 OVERALL ASSESSMENT\n",
      "------------------------------\n",
      "✅ Design looks good for causal inference!\n",
      "   All key assumptions appear to be satisfied.\n",
      "============================================================\n"
     ]
    }
   ],
   "source": [
    "# Example of using the new summary() method for beautiful text output\n",
    "print(\"=== DESIGN REPORT SUMMARY ===\")\n",
    "print(report.summary())"
   ]
  },
  {
   "cell_type": "code",
   "execution_count": null,
   "id": "764c4bc0ac14db89",
   "metadata": {
    "ExecuteTime": {
     "end_time": "2025-08-15T16:12:23.937200Z",
     "start_time": "2025-08-15T16:12:23.935919Z"
    }
   },
   "outputs": [],
   "source": []
  }
 ],
 "metadata": {
  "kernelspec": {
   "display_name": "Python 3",
   "language": "python",
   "name": "python3"
  },
  "language_info": {
   "codemirror_mode": {
    "name": "ipython",
    "version": 3
   },
   "file_extension": ".py",
   "mimetype": "text/x-python",
   "name": "python",
   "nbconvert_exporter": "python",
   "pygments_lexer": "ipython3",
   "version": "3.13.5"
  }
 },
 "nbformat": 4,
 "nbformat_minor": 5
}