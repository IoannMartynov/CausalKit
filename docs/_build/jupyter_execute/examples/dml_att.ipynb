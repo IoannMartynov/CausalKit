{
 "cells": [
  {
   "cell_type": "markdown",
   "id": "3bb65e072e9ab811",
   "metadata": {},
   "source": [
    "# DML ATT Example"
   ]
  },
  {
   "cell_type": "markdown",
   "id": "cbe2952f317dfd58",
   "metadata": {},
   "source": [
    "This notebook covers scenario:\n",
    "| Is RCT        | Treatment | Outcome    | EDA | Estimands | Refutation |\n",
    "|---------------|-----------|------------|-----|-----------|------------|\n",
    "| Observational | Binary    | Continuous | Yes | ATT       | Yes        |\n",
    "\n",
    "We will estimate Average Treatment Effect on Treated (ATT) of binary treatment on continuous outcome. It shows explonatary data analysis and refutation tests"
   ]
  },
  {
   "cell_type": "markdown",
   "id": "505f0f3204e38817",
   "metadata": {},
   "source": [
    "## Generate data"
   ]
  },
  {
   "cell_type": "markdown",
   "id": "791d585776e1380c",
   "metadata": {},
   "source": [
    "Example that generates observational data with a nonlinear outcome model, nonlinear treatment assignment, and a heterogeneous (nonlinear) treatment effect tau(X). This setup ensures that ATT ≠ ATE in general. It also shows how to compute the “ground-truth” ATT from the generated data."
   ]
  },
  {
   "cell_type": "code",
   "execution_count": 1,
   "id": "7b4f8f604a5e7b94",
   "metadata": {
    "ExecuteTime": {
     "end_time": "2025-08-24T10:47:44.862750Z",
     "start_time": "2025-08-24T10:47:44.837356Z"
    }
   },
   "outputs": [
    {
     "name": "stdout",
     "output_type": "stream",
     "text": [
      "Ground-truth ATT from the DGP: 1.385\n"
     ]
    },
    {
     "data": {
      "text/html": [
       "<div>\n",
       "<style scoped>\n",
       "    .dataframe tbody tr th:only-of-type {\n",
       "        vertical-align: middle;\n",
       "    }\n",
       "\n",
       "    .dataframe tbody tr th {\n",
       "        vertical-align: top;\n",
       "    }\n",
       "\n",
       "    .dataframe thead th {\n",
       "        text-align: right;\n",
       "    }\n",
       "</style>\n",
       "<table border=\"1\" class=\"dataframe\">\n",
       "  <thead>\n",
       "    <tr style=\"text-align: right;\">\n",
       "      <th></th>\n",
       "      <th>y</th>\n",
       "      <th>t</th>\n",
       "      <th>tenure_months</th>\n",
       "      <th>avg_sessions_week</th>\n",
       "      <th>spend_last_month</th>\n",
       "      <th>premium_user</th>\n",
       "      <th>urban_resident</th>\n",
       "    </tr>\n",
       "  </thead>\n",
       "  <tbody>\n",
       "    <tr>\n",
       "      <th>0</th>\n",
       "      <td>3.930539</td>\n",
       "      <td>1.0</td>\n",
       "      <td>27.656605</td>\n",
       "      <td>5.352554</td>\n",
       "      <td>72.552568</td>\n",
       "      <td>1.0</td>\n",
       "      <td>0.0</td>\n",
       "    </tr>\n",
       "    <tr>\n",
       "      <th>1</th>\n",
       "      <td>5.771469</td>\n",
       "      <td>0.0</td>\n",
       "      <td>11.520191</td>\n",
       "      <td>6.798247</td>\n",
       "      <td>188.481287</td>\n",
       "      <td>1.0</td>\n",
       "      <td>0.0</td>\n",
       "    </tr>\n",
       "    <tr>\n",
       "      <th>2</th>\n",
       "      <td>6.374653</td>\n",
       "      <td>1.0</td>\n",
       "      <td>33.005414</td>\n",
       "      <td>2.055459</td>\n",
       "      <td>51.040440</td>\n",
       "      <td>0.0</td>\n",
       "      <td>1.0</td>\n",
       "    </tr>\n",
       "    <tr>\n",
       "      <th>3</th>\n",
       "      <td>2.364177</td>\n",
       "      <td>1.0</td>\n",
       "      <td>35.286777</td>\n",
       "      <td>4.429404</td>\n",
       "      <td>166.992239</td>\n",
       "      <td>0.0</td>\n",
       "      <td>1.0</td>\n",
       "    </tr>\n",
       "    <tr>\n",
       "      <th>4</th>\n",
       "      <td>8.378079</td>\n",
       "      <td>0.0</td>\n",
       "      <td>0.587578</td>\n",
       "      <td>6.658307</td>\n",
       "      <td>179.371126</td>\n",
       "      <td>0.0</td>\n",
       "      <td>0.0</td>\n",
       "    </tr>\n",
       "  </tbody>\n",
       "</table>\n",
       "</div>"
      ],
      "text/plain": [
       "          y    t  tenure_months  avg_sessions_week  spend_last_month  \\\n",
       "0  3.930539  1.0      27.656605           5.352554         72.552568   \n",
       "1  5.771469  0.0      11.520191           6.798247        188.481287   \n",
       "2  6.374653  1.0      33.005414           2.055459         51.040440   \n",
       "3  2.364177  1.0      35.286777           4.429404        166.992239   \n",
       "4  8.378079  0.0       0.587578           6.658307        179.371126   \n",
       "\n",
       "   premium_user  urban_resident  \n",
       "0           1.0             0.0  \n",
       "1           1.0             0.0  \n",
       "2           0.0             1.0  \n",
       "3           0.0             1.0  \n",
       "4           0.0             0.0  "
      ]
     },
     "execution_count": 1,
     "metadata": {},
     "output_type": "execute_result"
    }
   ],
   "source": [
    "# Nonlinear ATT data generation with heterogeneous effects\n",
    "\n",
    "import numpy as np\n",
    "import pandas as pd\n",
    "import matplotlib.pyplot as plt\n",
    "\n",
    "from causalkit.data import CausalDatasetGenerator, CausalData\n",
    "\n",
    "# Reproducibility\n",
    "np.random.seed(42)\n",
    "\n",
    "# 1) Confounders and their distributions\n",
    "#    These names define the column order in X for the custom functions.\n",
    "confounder_specs = [\n",
    "    {\"name\": \"tenure_months\",     \"dist\": \"normal\",   \"mu\": 24, \"sd\": 12},\n",
    "    {\"name\": \"avg_sessions_week\", \"dist\": \"normal\",   \"mu\": 5,  \"sd\": 2},\n",
    "    {\"name\": \"spend_last_month\",  \"dist\": \"uniform\",  \"a\": 0,   \"b\": 200},\n",
    "    {\"name\": \"premium_user\",      \"dist\": \"bernoulli\",\"p\": 0.25},\n",
    "    {\"name\": \"urban_resident\",    \"dist\": \"bernoulli\",\"p\": 0.60},\n",
    "]\n",
    "\n",
    "# Indices (for convenience inside g_y, g_t, tau)\n",
    "TENURE, SESS, SPEND, PREMIUM, URBAN = range(5)\n",
    "\n",
    "# 2) Nonlinear baseline for outcome f_y(X) = X @ beta_y + g_y(X)\n",
    "#    Keep a modest linear part and add meaningful nonlinearities.\n",
    "beta_y = np.array([\n",
    "    0.03,   # tenure_months\n",
    "    0.20,   # avg_sessions_week\n",
    "    0.01,   # spend_last_month\n",
    "    1.20,   # premium_user\n",
    "    0.60,   # urban_resident\n",
    "], dtype=float)\n",
    "\n",
    "def g_y(X: np.ndarray) -> np.ndarray:\n",
    "    # Nonlinearities and interactions in outcome baseline\n",
    "    tenure_years = X[:, TENURE] / 12.0\n",
    "    sessions = X[:, SESS]\n",
    "    spend = X[:, SPEND]\n",
    "    premium = X[:, PREMIUM]\n",
    "    urban = X[:, URBAN]\n",
    "\n",
    "    return (\n",
    "        1.2 * np.sin(2.0 * np.pi * tenure_years)          # seasonal-ish tenure pattern\n",
    "        + 0.02 * (sessions - 5.0) ** 2                    # convex effect of sessions\n",
    "        + 0.0015 * (spend - 100.0) * (sessions - 5.0)     # spend × sessions interaction\n",
    "        + 0.4 * premium * (sessions - 5.0)                # premium × sessions interaction\n",
    "        + 0.3 * urban * np.tanh((spend - 100.0) / 50.0)   # nonlinear spend effect differs by urban\n",
    "    )\n",
    "\n",
    "# 3) Nonlinear treatment score f_t(X) = X @ beta_t + g_t(X)\n",
    "beta_t = np.array([\n",
    "    0.010,  # tenure_months\n",
    "    0.12,   # avg_sessions_week\n",
    "    0.001,  # spend_last_month\n",
    "    0.80,   # premium_user\n",
    "    0.25,   # urban_resident\n",
    "], dtype=float)\n",
    "\n",
    "def g_t(X: np.ndarray) -> np.ndarray:\n",
    "    tenure_years = X[:, TENURE] / 12.0\n",
    "    sessions = X[:, SESS]\n",
    "    spend = X[:, SPEND]\n",
    "    premium = X[:, PREMIUM]\n",
    "    urban = X[:, URBAN]\n",
    "\n",
    "    # Smoothly increasing selection with spend; interactions make selection non-separable\n",
    "    soft_spend = 1.2 * np.tanh((spend - 80.0) / 40.0)\n",
    "    return (\n",
    "        0.6 * soft_spend\n",
    "        + 0.15 * (sessions - 5.0) * (tenure_years - 2.0)\n",
    "        + 0.25 * premium * (urban - 0.5)\n",
    "    )\n",
    "\n",
    "# 4) Heterogeneous, nonlinear treatment effect tau(X) on the natural scale (continuous outcome)\n",
    "def tau_fn(X: np.ndarray) -> np.ndarray:\n",
    "    tenure_years = X[:, TENURE] / 12.0\n",
    "    sessions = X[:, SESS]\n",
    "    spend = X[:, SPEND]\n",
    "    premium = X[:, PREMIUM]\n",
    "    urban = X[:, URBAN]\n",
    "\n",
    "    # Base effect + stronger effect for higher sessions and premium users,\n",
    "    # diminishes with tenure, mild modulation by spend and urban\n",
    "    tau = (\n",
    "        1.0\n",
    "        + 0.8 * (1.0 / (1.0 + np.exp(-(sessions - 5.0))))    # sigmoid in sessions\n",
    "        + 0.5 * premium\n",
    "        - 0.6 * np.clip(tenure_years / 5.0, 0.0, 1.0)        # taper with long tenure\n",
    "        + 0.2 * urban * (spend - 100.0) / 100.0\n",
    "    )\n",
    "    # Optional: keep it in a reasonable range\n",
    "    return np.clip(tau, 0.2, 2.5)\n",
    "\n",
    "# 5) Noise and prevalence\n",
    "sigma_y = 3.5\n",
    "target_t_rate = 0.35  # enforce ~35% treated via intercept calibration\n",
    "\n",
    "# 6) Build generator\n",
    "gen = CausalDatasetGenerator(\n",
    "    outcome_type=\"continuous\",\n",
    "    sigma_y=sigma_y,\n",
    "    target_t_rate=target_t_rate,\n",
    "    seed=42,\n",
    "    # Confounders\n",
    "    confounder_specs=confounder_specs,\n",
    "    # Outcome/treatment structure\n",
    "    beta_y=beta_y,\n",
    "    beta_t=beta_t,\n",
    "    g_y=g_y,\n",
    "    g_t=g_t,\n",
    "    # Heterogeneous effect\n",
    "    tau=tau_fn,\n",
    ")\n",
    "\n",
    "# 7) Generate data (full dataframe includes ground-truth columns: propensity, mu0, mu1, cate)\n",
    "n = 10000\n",
    "generated_df = gen.generate(n)\n",
    "\n",
    "# Ground-truth ATT (on the natural scale): E[tau(X) | T=1] = mean CATE among the treated\n",
    "true_att = float(generated_df.loc[generated_df[\"t\"] == 1, \"cate\"].mean())\n",
    "print(f\"Ground-truth ATT from the DGP: {true_att:.3f}\")\n",
    "\n",
    "# 8) Wrap as CausalData for downstream workflows (keeps only y, t, and specified confounders)\n",
    "causal_data = CausalData(\n",
    "    df=generated_df,\n",
    "    treatment=\"t\",\n",
    "    outcome=\"y\",\n",
    "    confounders=[\n",
    "        \"tenure_months\",\n",
    "        \"avg_sessions_week\",\n",
    "        \"spend_last_month\",\n",
    "        \"premium_user\",\n",
    "        \"urban_resident\",\n",
    "    ],\n",
    ")\n",
    "\n",
    "# Peek at the analysis-ready view\n",
    "causal_data.df.head()"
   ]
  },
  {
   "cell_type": "markdown",
   "id": "6ea34c7a8604ab7c",
   "metadata": {},
   "source": [
    "## EDA\n"
   ]
  },
  {
   "cell_type": "code",
   "execution_count": 2,
   "id": "9ab105021806e4f7",
   "metadata": {
    "ExecuteTime": {
     "end_time": "2025-08-24T10:47:56.122625Z",
     "start_time": "2025-08-24T10:47:56.117307Z"
    }
   },
   "outputs": [],
   "source": [
    "from causalkit.eda import CausalEDA\n",
    "eda = CausalEDA(causal_data)"
   ]
  },
  {
   "cell_type": "markdown",
   "id": "c54043a64935ef40",
   "metadata": {},
   "source": [
    "### General dataset information"
   ]
  },
  {
   "cell_type": "markdown",
   "id": "bb15a5a46c793d5c",
   "metadata": {},
   "source": [
    "Let's see how outcome differ between clients who recieved the feature and didn't"
   ]
  },
  {
   "cell_type": "code",
   "execution_count": 3,
   "id": "5c27584411c6af1a",
   "metadata": {
    "ExecuteTime": {
     "end_time": "2025-08-24T10:47:57.784718Z",
     "start_time": "2025-08-24T10:47:57.780300Z"
    }
   },
   "outputs": [
    {
     "data": {
      "text/plain": [
       "{'n_rows': 10000, 'n_columns': 7}"
      ]
     },
     "execution_count": 3,
     "metadata": {},
     "output_type": "execute_result"
    }
   ],
   "source": [
    "# shape of data\n",
    "eda.data_shape()"
   ]
  },
  {
   "cell_type": "code",
   "execution_count": 4,
   "id": "968d7e7c86750af",
   "metadata": {
    "ExecuteTime": {
     "end_time": "2025-08-24T10:47:59.229517Z",
     "start_time": "2025-08-24T10:47:59.216098Z"
    }
   },
   "outputs": [
    {
     "data": {
      "text/html": [
       "<div>\n",
       "<style scoped>\n",
       "    .dataframe tbody tr th:only-of-type {\n",
       "        vertical-align: middle;\n",
       "    }\n",
       "\n",
       "    .dataframe tbody tr th {\n",
       "        vertical-align: top;\n",
       "    }\n",
       "\n",
       "    .dataframe thead th {\n",
       "        text-align: right;\n",
       "    }\n",
       "</style>\n",
       "<table border=\"1\" class=\"dataframe\">\n",
       "  <thead>\n",
       "    <tr style=\"text-align: right;\">\n",
       "      <th></th>\n",
       "      <th>count</th>\n",
       "      <th>mean</th>\n",
       "      <th>std</th>\n",
       "      <th>min</th>\n",
       "      <th>p10</th>\n",
       "      <th>p25</th>\n",
       "      <th>median</th>\n",
       "      <th>p75</th>\n",
       "      <th>p90</th>\n",
       "      <th>max</th>\n",
       "    </tr>\n",
       "    <tr>\n",
       "      <th>treatment</th>\n",
       "      <th></th>\n",
       "      <th></th>\n",
       "      <th></th>\n",
       "      <th></th>\n",
       "      <th></th>\n",
       "      <th></th>\n",
       "      <th></th>\n",
       "      <th></th>\n",
       "      <th></th>\n",
       "      <th></th>\n",
       "    </tr>\n",
       "  </thead>\n",
       "  <tbody>\n",
       "    <tr>\n",
       "      <th>0.0</th>\n",
       "      <td>6526</td>\n",
       "      <td>3.189869</td>\n",
       "      <td>3.755023</td>\n",
       "      <td>-12.770866</td>\n",
       "      <td>-1.572612</td>\n",
       "      <td>0.699795</td>\n",
       "      <td>3.149570</td>\n",
       "      <td>5.723303</td>\n",
       "      <td>7.935340</td>\n",
       "      <td>17.323664</td>\n",
       "    </tr>\n",
       "    <tr>\n",
       "      <th>1.0</th>\n",
       "      <td>3474</td>\n",
       "      <td>5.216191</td>\n",
       "      <td>3.987103</td>\n",
       "      <td>-7.310514</td>\n",
       "      <td>0.147968</td>\n",
       "      <td>2.504771</td>\n",
       "      <td>5.199664</td>\n",
       "      <td>7.959577</td>\n",
       "      <td>10.348905</td>\n",
       "      <td>18.147842</td>\n",
       "    </tr>\n",
       "  </tbody>\n",
       "</table>\n",
       "</div>"
      ],
      "text/plain": [
       "           count      mean       std        min       p10       p25    median  \\\n",
       "treatment                                                                       \n",
       "0.0         6526  3.189869  3.755023 -12.770866 -1.572612  0.699795  3.149570   \n",
       "1.0         3474  5.216191  3.987103  -7.310514  0.147968  2.504771  5.199664   \n",
       "\n",
       "                p75        p90        max  \n",
       "treatment                                  \n",
       "0.0        5.723303   7.935340  17.323664  \n",
       "1.0        7.959577  10.348905  18.147842  "
      ]
     },
     "execution_count": 4,
     "metadata": {},
     "output_type": "execute_result"
    }
   ],
   "source": [
    "# 1) Outcome statistics by treatment\n",
    "eda.outcome_stats()"
   ]
  },
  {
   "cell_type": "code",
   "execution_count": 5,
   "id": "c2258bc285979bc5",
   "metadata": {
    "ExecuteTime": {
     "end_time": "2025-08-24T10:48:04.228401Z",
     "start_time": "2025-08-24T10:48:04.066216Z"
    }
   },
   "outputs": [
    {
     "data": {
      "image/png": "[encoded data removed]",
      "text/plain": [
       "<Figure size 700x400 with 1 Axes>"
      ]
     },
     "metadata": {},
     "output_type": "display_data"
    },
    {
     "data": {
      "image/png": "[encoded data removed]",
      "text/plain": [
       "<Figure size 700x400 with 1 Axes>"
      ]
     },
     "metadata": {},
     "output_type": "display_data"
    }
   ],
   "source": [
    "# 2) Outcome distribution by treatment (hist + boxplot)\n",
    "fig1, fig2 = eda.outcome_plots()\n",
    "plt.show()"
   ]
  },
  {
   "cell_type": "markdown",
   "id": "5b0d6974b483485d",
   "metadata": {},
   "source": [
    "### Propensity"
   ]
  },
  {
   "cell_type": "markdown",
   "id": "663908e8b581476",
   "metadata": {},
   "source": [
    "Now let's examine how propensity score differ treatments"
   ]
  },
  {
   "cell_type": "code",
   "execution_count": 6,
   "id": "b149a9c9c6c1996d",
   "metadata": {
    "ExecuteTime": {
     "end_time": "2025-08-24T10:48:15.286723Z",
     "start_time": "2025-08-24T10:48:15.276072Z"
    }
   },
   "outputs": [
    {
     "data": {
      "text/html": [
       "<div>\n",
       "<style scoped>\n",
       "    .dataframe tbody tr th:only-of-type {\n",
       "        vertical-align: middle;\n",
       "    }\n",
       "\n",
       "    .dataframe tbody tr th {\n",
       "        vertical-align: top;\n",
       "    }\n",
       "\n",
       "    .dataframe thead th {\n",
       "        text-align: right;\n",
       "    }\n",
       "</style>\n",
       "<table border=\"1\" class=\"dataframe\">\n",
       "  <thead>\n",
       "    <tr style=\"text-align: right;\">\n",
       "      <th></th>\n",
       "      <th>mean_t_0</th>\n",
       "      <th>mean_t_1</th>\n",
       "      <th>abs_diff</th>\n",
       "      <th>smd</th>\n",
       "    </tr>\n",
       "    <tr>\n",
       "      <th>confounders</th>\n",
       "      <th></th>\n",
       "      <th></th>\n",
       "      <th></th>\n",
       "      <th></th>\n",
       "    </tr>\n",
       "  </thead>\n",
       "  <tbody>\n",
       "    <tr>\n",
       "      <th>spend_last_month</th>\n",
       "      <td>90.313423</td>\n",
       "      <td>119.353025</td>\n",
       "      <td>29.039602</td>\n",
       "      <td>0.523162</td>\n",
       "    </tr>\n",
       "    <tr>\n",
       "      <th>premium_user</th>\n",
       "      <td>0.195066</td>\n",
       "      <td>0.354347</td>\n",
       "      <td>0.159281</td>\n",
       "      <td>0.362615</td>\n",
       "    </tr>\n",
       "    <tr>\n",
       "      <th>avg_sessions_week</th>\n",
       "      <td>4.902830</td>\n",
       "      <td>5.299702</td>\n",
       "      <td>0.396872</td>\n",
       "      <td>0.198761</td>\n",
       "    </tr>\n",
       "    <tr>\n",
       "      <th>urban_resident</th>\n",
       "      <td>0.576463</td>\n",
       "      <td>0.646805</td>\n",
       "      <td>0.070341</td>\n",
       "      <td>0.144688</td>\n",
       "    </tr>\n",
       "    <tr>\n",
       "      <th>tenure_months</th>\n",
       "      <td>23.329078</td>\n",
       "      <td>24.906290</td>\n",
       "      <td>1.577212</td>\n",
       "      <td>0.130648</td>\n",
       "    </tr>\n",
       "  </tbody>\n",
       "</table>\n",
       "</div>"
      ],
      "text/plain": [
       "                    mean_t_0    mean_t_1   abs_diff       smd\n",
       "confounders                                                  \n",
       "spend_last_month   90.313423  119.353025  29.039602  0.523162\n",
       "premium_user        0.195066    0.354347   0.159281  0.362615\n",
       "avg_sessions_week   4.902830    5.299702   0.396872  0.198761\n",
       "urban_resident      0.576463    0.646805   0.070341  0.144688\n",
       "tenure_months      23.329078   24.906290   1.577212  0.130648"
      ]
     },
     "metadata": {},
     "output_type": "display_data"
    }
   ],
   "source": [
    "# Shows means of confounders for control/treated groups, absolute differences, and SMD values\n",
    "confounders_balance_df = eda.confounders_means()\n",
    "display(confounders_balance_df)"
   ]
  },
  {
   "cell_type": "code",
   "execution_count": 7,
   "id": "1c36c6cd337b48d9",
   "metadata": {
    "ExecuteTime": {
     "end_time": "2025-08-24T10:48:33.591241Z",
     "start_time": "2025-08-24T10:48:26.279712Z"
    }
   },
   "outputs": [
    {
     "name": "stdout",
     "output_type": "stream",
     "text": [
      "ROC AUC from PropensityModel: 0.6937\n"
     ]
    }
   ],
   "source": [
    "# Propensity model fit\n",
    "ps_model = eda.fit_propensity()\n",
    "\n",
    "# ROC AUC - shows how predictable treatment is from confounders\n",
    "roc_auc_score = ps_model.roc_auc\n",
    "print(\"ROC AUC from PropensityModel:\", round(roc_auc_score, 4))"
   ]
  },
  {
   "cell_type": "code",
   "execution_count": 8,
   "id": "c8d829d997e0163d",
   "metadata": {
    "ExecuteTime": {
     "end_time": "2025-08-24T10:48:33.606139Z",
     "start_time": "2025-08-24T10:48:33.604492Z"
    }
   },
   "outputs": [
    {
     "name": "stdout",
     "output_type": "stream",
     "text": [
      "Positivity check from PropensityModel: {'bounds': (0.05, 0.95), 'share_below': 0.0132, 'share_above': 0.0004, 'flag': False}\n"
     ]
    }
   ],
   "source": [
    "# Positivity check - assess overlap between treatment groups\n",
    "positivity_result = ps_model.positivity_check()\n",
    "print(\"Positivity check from PropensityModel:\", positivity_result)"
   ]
  },
  {
   "cell_type": "code",
   "execution_count": 9,
   "id": "6129ed1631eed18d",
   "metadata": {
    "ExecuteTime": {
     "end_time": "2025-08-24T10:48:33.864754Z",
     "start_time": "2025-08-24T10:48:33.624080Z"
    }
   },
   "outputs": [
    {
     "data": {
      "text/html": [
       "<div>\n",
       "<style scoped>\n",
       "    .dataframe tbody tr th:only-of-type {\n",
       "        vertical-align: middle;\n",
       "    }\n",
       "\n",
       "    .dataframe tbody tr th {\n",
       "        vertical-align: top;\n",
       "    }\n",
       "\n",
       "    .dataframe thead th {\n",
       "        text-align: right;\n",
       "    }\n",
       "</style>\n",
       "<table border=\"1\" class=\"dataframe\">\n",
       "  <thead>\n",
       "    <tr style=\"text-align: right;\">\n",
       "      <th></th>\n",
       "      <th>feature</th>\n",
       "      <th>shap_mean</th>\n",
       "    </tr>\n",
       "  </thead>\n",
       "  <tbody>\n",
       "    <tr>\n",
       "      <th>0</th>\n",
       "      <td>spend_last_month</td>\n",
       "      <td>-0.000735</td>\n",
       "    </tr>\n",
       "    <tr>\n",
       "      <th>1</th>\n",
       "      <td>tenure_months</td>\n",
       "      <td>0.000451</td>\n",
       "    </tr>\n",
       "    <tr>\n",
       "      <th>2</th>\n",
       "      <td>urban_resident</td>\n",
       "      <td>0.000190</td>\n",
       "    </tr>\n",
       "    <tr>\n",
       "      <th>3</th>\n",
       "      <td>premium_user</td>\n",
       "      <td>0.000124</td>\n",
       "    </tr>\n",
       "    <tr>\n",
       "      <th>4</th>\n",
       "      <td>avg_sessions_week</td>\n",
       "      <td>-0.000029</td>\n",
       "    </tr>\n",
       "  </tbody>\n",
       "</table>\n",
       "</div>"
      ],
      "text/plain": [
       "             feature  shap_mean\n",
       "0   spend_last_month  -0.000735\n",
       "1      tenure_months   0.000451\n",
       "2     urban_resident   0.000190\n",
       "3       premium_user   0.000124\n",
       "4  avg_sessions_week  -0.000029"
      ]
     },
     "metadata": {},
     "output_type": "display_data"
    }
   ],
   "source": [
    "# SHAP values - feature importance for treatment assignment from confounders\n",
    "shap_values_df = ps_model.shap\n",
    "display(shap_values_df)"
   ]
  },
  {
   "cell_type": "code",
   "execution_count": 10,
   "id": "cc3741a172a0d303",
   "metadata": {
    "ExecuteTime": {
     "end_time": "2025-08-24T10:48:33.933533Z",
     "start_time": "2025-08-24T10:48:33.880211Z"
    }
   },
   "outputs": [
    {
     "data": {
      "image/png": "[encoded data removed]",
      "text/plain": [
       "<Figure size 640x480 with 1 Axes>"
      ]
     },
     "metadata": {},
     "output_type": "display_data"
    }
   ],
   "source": [
    "# Propensity score overlap graph\n",
    "ps_model.ps_graph()\n",
    "plt.show()"
   ]
  },
  {
   "cell_type": "markdown",
   "id": "f8acad543480c315",
   "metadata": {},
   "source": [
    "### Outcome regression"
   ]
  },
  {
   "cell_type": "markdown",
   "id": "34957e45b4f108a4",
   "metadata": {},
   "source": [
    "Let's analyze how confounders predict outcome"
   ]
  },
  {
   "cell_type": "code",
   "execution_count": 11,
   "id": "4e6305ae7446c781",
   "metadata": {
    "ExecuteTime": {
     "end_time": "2025-08-24T10:49:06.890306Z",
     "start_time": "2025-08-24T10:49:03.011989Z"
    }
   },
   "outputs": [
    {
     "name": "stdout",
     "output_type": "stream",
     "text": [
      "{'rmse': 3.6452253851701975, 'mae': 2.905800097741897}\n"
     ]
    }
   ],
   "source": [
    "# Outcome model fit\n",
    "outcome_model = eda.outcome_fit()\n",
    "\n",
    "# RMSE and MAE of regression model\n",
    "print(outcome_model.scores)"
   ]
  },
  {
   "cell_type": "code",
   "execution_count": 12,
   "id": "47461aeee30f4024",
   "metadata": {
    "ExecuteTime": {
     "end_time": "2025-08-24T10:49:07.125251Z",
     "start_time": "2025-08-24T10:49:06.897147Z"
    }
   },
   "outputs": [
    {
     "data": {
      "text/html": [
       "<div>\n",
       "<style scoped>\n",
       "    .dataframe tbody tr th:only-of-type {\n",
       "        vertical-align: middle;\n",
       "    }\n",
       "\n",
       "    .dataframe tbody tr th {\n",
       "        vertical-align: top;\n",
       "    }\n",
       "\n",
       "    .dataframe thead th {\n",
       "        text-align: right;\n",
       "    }\n",
       "</style>\n",
       "<table border=\"1\" class=\"dataframe\">\n",
       "  <thead>\n",
       "    <tr style=\"text-align: right;\">\n",
       "      <th></th>\n",
       "      <th>feature</th>\n",
       "      <th>shap_mean</th>\n",
       "    </tr>\n",
       "  </thead>\n",
       "  <tbody>\n",
       "    <tr>\n",
       "      <th>0</th>\n",
       "      <td>premium_user</td>\n",
       "      <td>0.001378</td>\n",
       "    </tr>\n",
       "    <tr>\n",
       "      <th>1</th>\n",
       "      <td>avg_sessions_week</td>\n",
       "      <td>-0.001012</td>\n",
       "    </tr>\n",
       "    <tr>\n",
       "      <th>2</th>\n",
       "      <td>spend_last_month</td>\n",
       "      <td>-0.000987</td>\n",
       "    </tr>\n",
       "    <tr>\n",
       "      <th>3</th>\n",
       "      <td>urban_resident</td>\n",
       "      <td>0.000543</td>\n",
       "    </tr>\n",
       "    <tr>\n",
       "      <th>4</th>\n",
       "      <td>tenure_months</td>\n",
       "      <td>0.000078</td>\n",
       "    </tr>\n",
       "  </tbody>\n",
       "</table>\n",
       "</div>"
      ],
      "text/plain": [
       "             feature  shap_mean\n",
       "0       premium_user   0.001378\n",
       "1  avg_sessions_week  -0.001012\n",
       "2   spend_last_month  -0.000987\n",
       "3     urban_resident   0.000543\n",
       "4      tenure_months   0.000078"
      ]
     },
     "metadata": {},
     "output_type": "display_data"
    }
   ],
   "source": [
    "# 2) SHAP values - feature importance for outcome prediction from confounders\n",
    "shap_outcome_df = outcome_model.shap\n",
    "display(shap_outcome_df)"
   ]
  },
  {
   "cell_type": "markdown",
   "id": "d758c21a760c23ae",
   "metadata": {},
   "source": [
    "# Inference"
   ]
  },
  {
   "cell_type": "markdown",
   "id": "c95f6ac049968704",
   "metadata": {},
   "source": [
    "Now time to estimate ATE with Double Machine Learning"
   ]
  },
  {
   "cell_type": "code",
   "execution_count": 13,
   "id": "35e465e763fd52b0",
   "metadata": {
    "ExecuteTime": {
     "end_time": "2025-08-24T10:49:15.169960Z",
     "start_time": "2025-08-24T10:49:14.735372Z"
    }
   },
   "outputs": [],
   "source": [
    "from causalkit.inference.atte import dml_atte_source\n",
    "\n",
    "# Estimate Average Treatment Effect (ATT)\n",
    "att_result = dml_atte_source(causal_data, n_folds=3, confidence_level=0.95)"
   ]
  },
  {
   "cell_type": "code",
   "execution_count": 14,
   "id": "217a2f52c34055cd",
   "metadata": {
    "ExecuteTime": {
     "end_time": "2025-08-24T10:49:15.175859Z",
     "start_time": "2025-08-24T10:49:15.173748Z"
    }
   },
   "outputs": [
    {
     "data": {
      "text/plain": [
       "{'coefficient': 1.3111886779440418,\n",
       " 'std_error': 0.09481720872967514,\n",
       " 'p_value': 1.7133685893213766e-43,\n",
       " 'confidence_interval': (1.1253503637192617, 1.497026992168822),\n",
       " 'model': <doubleml.irm.irm.DoubleMLIRM at 0x156b406e0>}"
      ]
     },
     "execution_count": 14,
     "metadata": {},
     "output_type": "execute_result"
    }
   ],
   "source": [
    "att_result"
   ]
  },
  {
   "cell_type": "markdown",
   "id": "ad9dc37e7cab0f8a",
   "metadata": {},
   "source": [
    "Real ATT is 1.385"
   ]
  },
  {
   "cell_type": "markdown",
   "id": "ff769bf09f75babf",
   "metadata": {},
   "source": [
    "## Refutation"
   ]
  },
  {
   "cell_type": "code",
   "execution_count": 15,
   "id": "87b21477b4ecada6",
   "metadata": {
    "ExecuteTime": {
     "end_time": "2025-08-24T10:50:38.525908Z",
     "start_time": "2025-08-24T10:50:38.522871Z"
    }
   },
   "outputs": [],
   "source": [
    "# Import refutation utilities\n",
    "from causalkit.refutation import (\n",
    "    refute_placebo_outcome,\n",
    "    refute_placebo_treatment,\n",
    "    refute_subset,\n",
    "    refute_irm_orthogonality,\n",
    "    sensitivity_analysis,\n",
    "    sensitivity_analysis_set\n",
    ")"
   ]
  },
  {
   "cell_type": "markdown",
   "id": "996bc2d37c8b662",
   "metadata": {},
   "source": [
    "### Placebo"
   ]
  },
  {
   "cell_type": "markdown",
   "id": "4df3b27c0bd3a0d1",
   "metadata": {},
   "source": [
    "Replacing outcome with dummy random variable must broke our model and effect will be near zero"
   ]
  },
  {
   "cell_type": "code",
   "execution_count": 16,
   "id": "3c7d6eb96d796fb1",
   "metadata": {
    "ExecuteTime": {
     "end_time": "2025-08-24T10:50:40.515796Z",
     "start_time": "2025-08-24T10:50:39.748Z"
    }
   },
   "outputs": [
    {
     "name": "stdout",
     "output_type": "stream",
     "text": [
      "{'theta': 0.0024891263554991036, 'p_value': 0.49268997429089034}\n"
     ]
    }
   ],
   "source": [
    "# Replacing an outcome with placebo\n",
    "att_placebo_outcome = refute_placebo_outcome(\n",
    "    dml_atte_source,\n",
    "    causal_data,\n",
    "    random_state=42\n",
    ")\n",
    "\n",
    "print(att_placebo_outcome)"
   ]
  },
  {
   "cell_type": "markdown",
   "id": "5a7ac9af93a6b56c",
   "metadata": {},
   "source": [
    "Replacing treatment with dummy random variable must broke our model and effect will be near zero"
   ]
  },
  {
   "cell_type": "code",
   "execution_count": 17,
   "id": "6fef7d57a019f6f2",
   "metadata": {
    "ExecuteTime": {
     "end_time": "2025-08-24T10:50:41.282119Z",
     "start_time": "2025-08-24T10:50:40.522204Z"
    }
   },
   "outputs": [
    {
     "name": "stdout",
     "output_type": "stream",
     "text": [
      "{'theta': -0.004944799398107784, 'p_value': 0.9497270383821083}\n"
     ]
    }
   ],
   "source": [
    "# Replacing treatment with placebo\n",
    "att_placebo_treatment = refute_placebo_treatment(\n",
    "    dml_atte_source,\n",
    "    causal_data,\n",
    "    random_state=42\n",
    ")\n",
    "\n",
    "print(att_placebo_treatment)"
   ]
  },
  {
   "cell_type": "markdown",
   "id": "6cae31589bf710fc",
   "metadata": {},
   "source": [
    "Let's chanllege our dataset and romove random parts. Theta shoul be near estimated"
   ]
  },
  {
   "cell_type": "code",
   "execution_count": 18,
   "id": "29b242f7e376eb7f",
   "metadata": {
    "ExecuteTime": {
     "end_time": "2025-08-24T10:50:42.258161Z",
     "start_time": "2025-08-24T10:50:41.285456Z"
    }
   },
   "outputs": [
    {
     "name": "stdout",
     "output_type": "stream",
     "text": [
      " With 30% subset: theta = 1.1546, p_value = 0.0000\n"
     ]
    },
    {
     "name": "stdout",
     "output_type": "stream",
     "text": [
      " With 50% subset: theta = 1.3733, p_value = 0.0000\n"
     ]
    }
   ],
   "source": [
    "# Inference on subsets\n",
    "subset_fractions = [0.3, 0.5]\n",
    "\n",
    "att_subset_results = []\n",
    "for fraction in subset_fractions:\n",
    "    subset_result = refute_subset(\n",
    "        dml_atte_source,\n",
    "        causal_data,\n",
    "        fraction=fraction,\n",
    "        random_state=42\n",
    "    )\n",
    "    att_subset_results.append(subset_result)\n",
    "\n",
    "    print(f\" With {fraction*100:.0f}% subset: theta = {subset_result['theta']:.4f}, p_value = {subset_result['p_value']:.4f}\")"
   ]
  },
  {
   "cell_type": "markdown",
   "id": "bb46770c75a2c98a",
   "metadata": {},
   "source": [
    "### Orthogonality"
   ]
  },
  {
   "cell_type": "markdown",
   "id": "24c78ec51000b0ac",
   "metadata": {},
   "source": [
    "Orthogonality tests validate whether our ATT estimator is properly specified. We will inspect:\n",
    "- Out-of-sample (OOS) moment check;\n",
    "- ATT-specific orthogonality derivatives (m0 and g only);\n",
    "- Influence diagnostics;\n",
    "- ATT overlap diagnostics and trim-sensitivity near m→1 (controls);\n",
    "- Trimming info and overall diagnostic conditions."
   ]
  },
  {
   "cell_type": "code",
   "execution_count": 19,
   "id": "e738fa118306d74",
   "metadata": {
    "ExecuteTime": {
     "end_time": "2025-08-24T10:56:29.150664Z",
     "start_time": "2025-08-24T10:56:25.064146Z"
    }
   },
   "outputs": [],
   "source": "att_ortho_check = refute_irm_orthogonality(dml_atte_source, causal_data, target='ATT')"
  },
  {
   "cell_type": "markdown",
   "id": "a358140b43082d08",
   "metadata": {},
   "source": [
    "### 1. Out-of-sample moment check"
   ]
  },
  {
   "cell_type": "code",
   "execution_count": 20,
   "id": "ee0477a373ba7c63",
   "metadata": {
    "ExecuteTime": {
     "end_time": "2025-08-24T10:56:29.158897Z",
     "start_time": "2025-08-24T10:56:29.155701Z"
    }
   },
   "outputs": [
    {
     "name": "stdout",
     "output_type": "stream",
     "text": [
      "\n",
      "--- 1. Out-of-Sample Moment Check ---\n",
      "T-statistic: -0.2644\n",
      "P-value: 0.7915\n",
      "Interpretation: Should be ≈ 0 if moment condition holds\n",
      "\n",
      "Fold-wise results:\n"
     ]
    },
    {
     "data": {
      "text/html": [
       "<div>\n",
       "<style scoped>\n",
       "    .dataframe tbody tr th:only-of-type {\n",
       "        vertical-align: middle;\n",
       "    }\n",
       "\n",
       "    .dataframe tbody tr th {\n",
       "        vertical-align: top;\n",
       "    }\n",
       "\n",
       "    .dataframe thead th {\n",
       "        text-align: right;\n",
       "    }\n",
       "</style>\n",
       "<table border=\"1\" class=\"dataframe\">\n",
       "  <thead>\n",
       "    <tr style=\"text-align: right;\">\n",
       "      <th></th>\n",
       "      <th>fold</th>\n",
       "      <th>n</th>\n",
       "      <th>psi_mean</th>\n",
       "      <th>psi_var</th>\n",
       "    </tr>\n",
       "  </thead>\n",
       "  <tbody>\n",
       "    <tr>\n",
       "      <th>0</th>\n",
       "      <td>0</td>\n",
       "      <td>2000</td>\n",
       "      <td>0.329863</td>\n",
       "      <td>83.664056</td>\n",
       "    </tr>\n",
       "    <tr>\n",
       "      <th>1</th>\n",
       "      <td>1</td>\n",
       "      <td>2000</td>\n",
       "      <td>-0.573543</td>\n",
       "      <td>177.284891</td>\n",
       "    </tr>\n",
       "    <tr>\n",
       "      <th>2</th>\n",
       "      <td>2</td>\n",
       "      <td>2000</td>\n",
       "      <td>0.275107</td>\n",
       "      <td>89.104143</td>\n",
       "    </tr>\n",
       "    <tr>\n",
       "      <th>3</th>\n",
       "      <td>3</td>\n",
       "      <td>2000</td>\n",
       "      <td>0.177037</td>\n",
       "      <td>66.171971</td>\n",
       "    </tr>\n",
       "    <tr>\n",
       "      <th>4</th>\n",
       "      <td>4</td>\n",
       "      <td>2000</td>\n",
       "      <td>-0.339714</td>\n",
       "      <td>76.546856</td>\n",
       "    </tr>\n",
       "  </tbody>\n",
       "</table>\n",
       "</div>"
      ],
      "text/plain": [
       "   fold     n  psi_mean     psi_var\n",
       "0     0  2000  0.329863   83.664056\n",
       "1     1  2000 -0.573543  177.284891\n",
       "2     2  2000  0.275107   89.104143\n",
       "3     3  2000  0.177037   66.171971\n",
       "4     4  2000 -0.339714   76.546856"
      ]
     },
     "metadata": {},
     "output_type": "display_data"
    }
   ],
   "source": [
    "print(\"\\n--- 1. Out-of-Sample Moment Check ---\")\n",
    "oos_test = att_ortho_check['oos_moment_test']\n",
    "print(f\"T-statistic: {oos_test['tstat']:.4f}\")\n",
    "print(f\"P-value: {oos_test['pvalue']:.4f}\")\n",
    "print(f\"Interpretation: {oos_test['interpretation']}\")\n",
    "print(\"\\nFold-wise results:\")\n",
    "display(oos_test['fold_results'])"
   ]
  },
  {
   "cell_type": "markdown",
   "id": "e30b060cc4e83cb",
   "metadata": {},
   "source": [
    "psi_mean is expected to be near zero on every fold if the moment condition holds."
   ]
  },
  {
   "cell_type": "markdown",
   "id": "8ce70d6ef915d377",
   "metadata": {},
   "source": [
    "### 2. Orthogonality derivatives (ATT)"
   ]
  },
  {
   "cell_type": "code",
   "execution_count": 21,
   "id": "f4a2d8d034cf1df5",
   "metadata": {
    "ExecuteTime": {
     "end_time": "2025-08-24T10:56:29.174928Z",
     "start_time": "2025-08-24T10:56:29.166872Z"
    }
   },
   "outputs": [
    {
     "name": "stdout",
     "output_type": "stream",
     "text": [
      "\n",
      "--- 2. Orthogonality (Gateaux Derivative) Tests — ATT ---\n",
      "Interpretation: ATT: check m0 & g only; large |t| (>2) => calibration issues\n",
      "\n",
      "Full sample derivatives:\n"
     ]
    },
    {
     "data": {
      "text/html": [
       "<div>\n",
       "<style scoped>\n",
       "    .dataframe tbody tr th:only-of-type {\n",
       "        vertical-align: middle;\n",
       "    }\n",
       "\n",
       "    .dataframe tbody tr th {\n",
       "        vertical-align: top;\n",
       "    }\n",
       "\n",
       "    .dataframe thead th {\n",
       "        text-align: right;\n",
       "    }\n",
       "</style>\n",
       "<table border=\"1\" class=\"dataframe\">\n",
       "  <thead>\n",
       "    <tr style=\"text-align: right;\">\n",
       "      <th></th>\n",
       "      <th>basis</th>\n",
       "      <th>d_m1</th>\n",
       "      <th>se_m1</th>\n",
       "      <th>t_m1</th>\n",
       "      <th>d_m0</th>\n",
       "      <th>se_m0</th>\n",
       "      <th>t_m0</th>\n",
       "      <th>d_g</th>\n",
       "      <th>se_g</th>\n",
       "      <th>t_g</th>\n",
       "    </tr>\n",
       "  </thead>\n",
       "  <tbody>\n",
       "    <tr>\n",
       "      <th>0</th>\n",
       "      <td>0</td>\n",
       "      <td>0.0</td>\n",
       "      <td>0.0</td>\n",
       "      <td>0.0</td>\n",
       "      <td>0.029850</td>\n",
       "      <td>0.025167</td>\n",
       "      <td>1.186063</td>\n",
       "      <td>-1.009071</td>\n",
       "      <td>1.075327</td>\n",
       "      <td>-0.938385</td>\n",
       "    </tr>\n",
       "    <tr>\n",
       "      <th>1</th>\n",
       "      <td>1</td>\n",
       "      <td>0.0</td>\n",
       "      <td>0.0</td>\n",
       "      <td>0.0</td>\n",
       "      <td>0.011241</td>\n",
       "      <td>0.029021</td>\n",
       "      <td>0.387342</td>\n",
       "      <td>-2.351915</td>\n",
       "      <td>2.324239</td>\n",
       "      <td>-1.011908</td>\n",
       "    </tr>\n",
       "    <tr>\n",
       "      <th>2</th>\n",
       "      <td>2</td>\n",
       "      <td>0.0</td>\n",
       "      <td>0.0</td>\n",
       "      <td>0.0</td>\n",
       "      <td>0.005547</td>\n",
       "      <td>0.028698</td>\n",
       "      <td>0.193305</td>\n",
       "      <td>-1.938678</td>\n",
       "      <td>2.048945</td>\n",
       "      <td>-0.946184</td>\n",
       "    </tr>\n",
       "    <tr>\n",
       "      <th>3</th>\n",
       "      <td>3</td>\n",
       "      <td>0.0</td>\n",
       "      <td>0.0</td>\n",
       "      <td>0.0</td>\n",
       "      <td>0.022577</td>\n",
       "      <td>0.025612</td>\n",
       "      <td>0.881506</td>\n",
       "      <td>-1.069048</td>\n",
       "      <td>1.040382</td>\n",
       "      <td>-1.027554</td>\n",
       "    </tr>\n",
       "    <tr>\n",
       "      <th>4</th>\n",
       "      <td>4</td>\n",
       "      <td>0.0</td>\n",
       "      <td>0.0</td>\n",
       "      <td>0.0</td>\n",
       "      <td>0.000924</td>\n",
       "      <td>0.031841</td>\n",
       "      <td>0.029025</td>\n",
       "      <td>-2.086775</td>\n",
       "      <td>1.827563</td>\n",
       "      <td>-1.141835</td>\n",
       "    </tr>\n",
       "    <tr>\n",
       "      <th>5</th>\n",
       "      <td>5</td>\n",
       "      <td>0.0</td>\n",
       "      <td>0.0</td>\n",
       "      <td>0.0</td>\n",
       "      <td>-0.002677</td>\n",
       "      <td>0.024129</td>\n",
       "      <td>-0.110944</td>\n",
       "      <td>-0.829083</td>\n",
       "      <td>0.892210</td>\n",
       "      <td>-0.929247</td>\n",
       "    </tr>\n",
       "  </tbody>\n",
       "</table>\n",
       "</div>"
      ],
      "text/plain": [
       "   basis  d_m1  se_m1  t_m1      d_m0     se_m0      t_m0       d_g      se_g  \\\n",
       "0      0   0.0    0.0   0.0  0.029850  0.025167  1.186063 -1.009071  1.075327   \n",
       "1      1   0.0    0.0   0.0  0.011241  0.029021  0.387342 -2.351915  2.324239   \n",
       "2      2   0.0    0.0   0.0  0.005547  0.028698  0.193305 -1.938678  2.048945   \n",
       "3      3   0.0    0.0   0.0  0.022577  0.025612  0.881506 -1.069048  1.040382   \n",
       "4      4   0.0    0.0   0.0  0.000924  0.031841  0.029025 -2.086775  1.827563   \n",
       "5      5   0.0    0.0   0.0 -0.002677  0.024129 -0.110944 -0.829083  0.892210   \n",
       "\n",
       "        t_g  \n",
       "0 -0.938385  \n",
       "1 -1.011908  \n",
       "2 -0.946184  \n",
       "3 -1.027554  \n",
       "4 -1.141835  \n",
       "5 -0.929247  "
      ]
     },
     "metadata": {},
     "output_type": "display_data"
    },
    {
     "name": "stdout",
     "output_type": "stream",
     "text": [
      "\n",
      "Trimmed sample derivatives:\n"
     ]
    },
    {
     "data": {
      "text/html": [
       "<div>\n",
       "<style scoped>\n",
       "    .dataframe tbody tr th:only-of-type {\n",
       "        vertical-align: middle;\n",
       "    }\n",
       "\n",
       "    .dataframe tbody tr th {\n",
       "        vertical-align: top;\n",
       "    }\n",
       "\n",
       "    .dataframe thead th {\n",
       "        text-align: right;\n",
       "    }\n",
       "</style>\n",
       "<table border=\"1\" class=\"dataframe\">\n",
       "  <thead>\n",
       "    <tr style=\"text-align: right;\">\n",
       "      <th></th>\n",
       "      <th>basis</th>\n",
       "      <th>d_m1</th>\n",
       "      <th>se_m1</th>\n",
       "      <th>t_m1</th>\n",
       "      <th>d_m0</th>\n",
       "      <th>se_m0</th>\n",
       "      <th>t_m0</th>\n",
       "      <th>d_g</th>\n",
       "      <th>se_g</th>\n",
       "      <th>t_g</th>\n",
       "    </tr>\n",
       "  </thead>\n",
       "  <tbody>\n",
       "    <tr>\n",
       "      <th>0</th>\n",
       "      <td>0</td>\n",
       "      <td>0.0</td>\n",
       "      <td>0.0</td>\n",
       "      <td>0.0</td>\n",
       "      <td>0.029844</td>\n",
       "      <td>0.025167</td>\n",
       "      <td>1.185838</td>\n",
       "      <td>-1.009999</td>\n",
       "      <td>1.075327</td>\n",
       "      <td>-0.939249</td>\n",
       "    </tr>\n",
       "    <tr>\n",
       "      <th>1</th>\n",
       "      <td>1</td>\n",
       "      <td>0.0</td>\n",
       "      <td>0.0</td>\n",
       "      <td>0.0</td>\n",
       "      <td>0.011255</td>\n",
       "      <td>0.029021</td>\n",
       "      <td>0.387832</td>\n",
       "      <td>-2.349584</td>\n",
       "      <td>2.324238</td>\n",
       "      <td>-1.010905</td>\n",
       "    </tr>\n",
       "    <tr>\n",
       "      <th>2</th>\n",
       "      <td>2</td>\n",
       "      <td>0.0</td>\n",
       "      <td>0.0</td>\n",
       "      <td>0.0</td>\n",
       "      <td>0.005538</td>\n",
       "      <td>0.028698</td>\n",
       "      <td>0.192966</td>\n",
       "      <td>-1.940275</td>\n",
       "      <td>2.048944</td>\n",
       "      <td>-0.946963</td>\n",
       "    </tr>\n",
       "    <tr>\n",
       "      <th>3</th>\n",
       "      <td>3</td>\n",
       "      <td>0.0</td>\n",
       "      <td>0.0</td>\n",
       "      <td>0.0</td>\n",
       "      <td>0.022581</td>\n",
       "      <td>0.025612</td>\n",
       "      <td>0.881691</td>\n",
       "      <td>-1.068271</td>\n",
       "      <td>1.040382</td>\n",
       "      <td>-1.026807</td>\n",
       "    </tr>\n",
       "    <tr>\n",
       "      <th>4</th>\n",
       "      <td>4</td>\n",
       "      <td>0.0</td>\n",
       "      <td>0.0</td>\n",
       "      <td>0.0</td>\n",
       "      <td>0.000927</td>\n",
       "      <td>0.031841</td>\n",
       "      <td>0.029127</td>\n",
       "      <td>-2.086239</td>\n",
       "      <td>1.827563</td>\n",
       "      <td>-1.141541</td>\n",
       "    </tr>\n",
       "    <tr>\n",
       "      <th>5</th>\n",
       "      <td>5</td>\n",
       "      <td>0.0</td>\n",
       "      <td>0.0</td>\n",
       "      <td>0.0</td>\n",
       "      <td>-0.002670</td>\n",
       "      <td>0.024129</td>\n",
       "      <td>-0.110656</td>\n",
       "      <td>-0.827944</td>\n",
       "      <td>0.892210</td>\n",
       "      <td>-0.927971</td>\n",
       "    </tr>\n",
       "  </tbody>\n",
       "</table>\n",
       "</div>"
      ],
      "text/plain": [
       "   basis  d_m1  se_m1  t_m1      d_m0     se_m0      t_m0       d_g      se_g  \\\n",
       "0      0   0.0    0.0   0.0  0.029844  0.025167  1.185838 -1.009999  1.075327   \n",
       "1      1   0.0    0.0   0.0  0.011255  0.029021  0.387832 -2.349584  2.324238   \n",
       "2      2   0.0    0.0   0.0  0.005538  0.028698  0.192966 -1.940275  2.048944   \n",
       "3      3   0.0    0.0   0.0  0.022581  0.025612  0.881691 -1.068271  1.040382   \n",
       "4      4   0.0    0.0   0.0  0.000927  0.031841  0.029127 -2.086239  1.827563   \n",
       "5      5   0.0    0.0   0.0 -0.002670  0.024129 -0.110656 -0.827944  0.892210   \n",
       "\n",
       "        t_g  \n",
       "0 -0.939249  \n",
       "1 -1.010905  \n",
       "2 -0.946963  \n",
       "3 -1.026807  \n",
       "4 -1.141541  \n",
       "5 -0.927971  "
      ]
     },
     "metadata": {},
     "output_type": "display_data"
    },
    {
     "name": "stdout",
     "output_type": "stream",
     "text": [
      "\n",
      "✓ No problematic derivatives in full sample\n",
      "\n",
      "✓ No problematic derivatives in trimmed sample\n"
     ]
    }
   ],
   "source": [
    "print(\"\\n--- 2. Orthogonality (Gateaux Derivative) Tests — ATT ---\")\n",
    "ortho_derivs = att_ortho_check['orthogonality_derivatives']\n",
    "print(f\"Interpretation: {ortho_derivs['interpretation']}\")\n",
    "\n",
    "print(\"\\nFull sample derivatives:\")\n",
    "display(ortho_derivs['full_sample'])\n",
    "\n",
    "print(\"\\nTrimmed sample derivatives:\")\n",
    "display(ortho_derivs['trimmed_sample'])\n",
    "\n",
    "if len(ortho_derivs['problematic_full']) > 0:\n",
    "    print(\"\\n\\u26A0 PROBLEMATIC derivatives (full sample):\")\n",
    "    display(ortho_derivs['problematic_full'])\n",
    "else:\n",
    "    print(\"\\n\\u2713 No problematic derivatives in full sample\")\n",
    "\n",
    "if len(ortho_derivs['problematic_trimmed']) > 0:\n",
    "    print(\"\\n\\u26A0 PROBLEMATIC derivatives (trimmed sample):\")\n",
    "    display(ortho_derivs['problematic_trimmed'])\n",
    "else:\n",
    "    print(\"\\n\\u2713 No problematic derivatives in trimmed sample\")"
   ]
  },
  {
   "cell_type": "markdown",
   "id": "58fbb876eb9f60de",
   "metadata": {},
   "source": [
    "For ATT, focus on t-statistics for m0 and g. Large absolute t-values (|t| > 2) suggest calibration issues."
   ]
  },
  {
   "cell_type": "markdown",
   "id": "d6c3e3cb4c68d272",
   "metadata": {},
   "source": [
    "### 3. Influence diagnostics"
   ]
  },
  {
   "cell_type": "code",
   "execution_count": 22,
   "id": "c3278fe79e21cdaa",
   "metadata": {
    "ExecuteTime": {
     "end_time": "2025-08-24T10:56:29.235250Z",
     "start_time": "2025-08-24T10:56:29.230794Z"
    }
   },
   "outputs": [
    {
     "name": "stdout",
     "output_type": "stream",
     "text": [
      "\n",
      "--- 3. Influence Diagnostics ---\n",
      "Interpretation: Heavy tails or extreme kurtosis suggest instability\n",
      "\n",
      "Full sample influence metrics:\n",
      "  Plugin SE: 0.0993\n",
      "  Kurtosis: 372.97\n",
      "  P99/Median ratio: 8.23\n",
      "\n",
      "Trimmed sample influence metrics:\n",
      "  Plugin SE: 0.0993\n",
      "  Kurtosis: 372.66\n",
      "  P99/Median ratio: 8.20\n",
      "\n",
      "Top influential observations (full sample):\n"
     ]
    },
    {
     "data": {
      "text/html": [
       "<div>\n",
       "<style scoped>\n",
       "    .dataframe tbody tr th:only-of-type {\n",
       "        vertical-align: middle;\n",
       "    }\n",
       "\n",
       "    .dataframe tbody tr th {\n",
       "        vertical-align: top;\n",
       "    }\n",
       "\n",
       "    .dataframe thead th {\n",
       "        text-align: right;\n",
       "    }\n",
       "</style>\n",
       "<table border=\"1\" class=\"dataframe\">\n",
       "  <thead>\n",
       "    <tr style=\"text-align: right;\">\n",
       "      <th></th>\n",
       "      <th>i</th>\n",
       "      <th>psi</th>\n",
       "      <th>g</th>\n",
       "      <th>res_t</th>\n",
       "      <th>res_c</th>\n",
       "    </tr>\n",
       "  </thead>\n",
       "  <tbody>\n",
       "    <tr>\n",
       "      <th>0</th>\n",
       "      <td>5169</td>\n",
       "      <td>-433.731443</td>\n",
       "      <td>0.955891</td>\n",
       "      <td>0.0</td>\n",
       "      <td>6.953028</td>\n",
       "    </tr>\n",
       "    <tr>\n",
       "      <th>1</th>\n",
       "      <td>9369</td>\n",
       "      <td>-115.655411</td>\n",
       "      <td>0.768881</td>\n",
       "      <td>0.0</td>\n",
       "      <td>12.077354</td>\n",
       "    </tr>\n",
       "    <tr>\n",
       "      <th>2</th>\n",
       "      <td>5325</td>\n",
       "      <td>-92.729291</td>\n",
       "      <td>0.760111</td>\n",
       "      <td>0.0</td>\n",
       "      <td>10.166691</td>\n",
       "    </tr>\n",
       "    <tr>\n",
       "      <th>3</th>\n",
       "      <td>9615</td>\n",
       "      <td>-92.694582</td>\n",
       "      <td>0.829842</td>\n",
       "      <td>0.0</td>\n",
       "      <td>6.602995</td>\n",
       "    </tr>\n",
       "    <tr>\n",
       "      <th>4</th>\n",
       "      <td>4002</td>\n",
       "      <td>-80.529155</td>\n",
       "      <td>0.768305</td>\n",
       "      <td>0.0</td>\n",
       "      <td>8.436566</td>\n",
       "    </tr>\n",
       "    <tr>\n",
       "      <th>5</th>\n",
       "      <td>5990</td>\n",
       "      <td>77.598309</td>\n",
       "      <td>0.774365</td>\n",
       "      <td>-0.0</td>\n",
       "      <td>-7.854934</td>\n",
       "    </tr>\n",
       "    <tr>\n",
       "      <th>6</th>\n",
       "      <td>8342</td>\n",
       "      <td>-67.190692</td>\n",
       "      <td>0.776890</td>\n",
       "      <td>0.0</td>\n",
       "      <td>6.703443</td>\n",
       "    </tr>\n",
       "    <tr>\n",
       "      <th>7</th>\n",
       "      <td>313</td>\n",
       "      <td>-63.173514</td>\n",
       "      <td>0.777839</td>\n",
       "      <td>0.0</td>\n",
       "      <td>6.268191</td>\n",
       "    </tr>\n",
       "    <tr>\n",
       "      <th>8</th>\n",
       "      <td>7152</td>\n",
       "      <td>-61.702928</td>\n",
       "      <td>0.802739</td>\n",
       "      <td>0.0</td>\n",
       "      <td>5.267487</td>\n",
       "    </tr>\n",
       "    <tr>\n",
       "      <th>9</th>\n",
       "      <td>2958</td>\n",
       "      <td>-59.609550</td>\n",
       "      <td>0.721210</td>\n",
       "      <td>0.0</td>\n",
       "      <td>8.005001</td>\n",
       "    </tr>\n",
       "  </tbody>\n",
       "</table>\n",
       "</div>"
      ],
      "text/plain": [
       "      i         psi         g  res_t      res_c\n",
       "0  5169 -433.731443  0.955891    0.0   6.953028\n",
       "1  9369 -115.655411  0.768881    0.0  12.077354\n",
       "2  5325  -92.729291  0.760111    0.0  10.166691\n",
       "3  9615  -92.694582  0.829842    0.0   6.602995\n",
       "4  4002  -80.529155  0.768305    0.0   8.436566\n",
       "5  5990   77.598309  0.774365   -0.0  -7.854934\n",
       "6  8342  -67.190692  0.776890    0.0   6.703443\n",
       "7   313  -63.173514  0.777839    0.0   6.268191\n",
       "8  7152  -61.702928  0.802739    0.0   5.267487\n",
       "9  2958  -59.609550  0.721210    0.0   8.005001"
      ]
     },
     "metadata": {},
     "output_type": "display_data"
    }
   ],
   "source": [
    "print(\"\\n--- 3. Influence Diagnostics ---\")\n",
    "influence = att_ortho_check['influence_diagnostics']\n",
    "print(f\"Interpretation: {influence['interpretation']}\")\n",
    "\n",
    "print(\"\\nFull sample influence metrics:\")\n",
    "print(f\"  Plugin SE: {influence['full_sample']['se_plugin']:.4f}\")\n",
    "print(f\"  Kurtosis: {influence['full_sample']['kurtosis']:.2f}\")\n",
    "print(f\"  P99/Median ratio: {influence['full_sample']['p99_over_med']:.2f}\")\n",
    "\n",
    "print(\"\\nTrimmed sample influence metrics:\")\n",
    "print(f\"  Plugin SE: {influence['trimmed_sample']['se_plugin']:.4f}\")\n",
    "print(f\"  Kurtosis: {influence['trimmed_sample']['kurtosis']:.2f}\")\n",
    "print(f\"  P99/Median ratio: {influence['trimmed_sample']['p99_over_med']:.2f}\")\n",
    "\n",
    "print(\"\\nTop influential observations (full sample):\")\n",
    "display(influence['full_sample']['top_influential'])"
   ]
  },
  {
   "cell_type": "markdown",
   "id": "3654166645506127",
   "metadata": {},
   "source": [
    "### 4. ATT overlap diagnostics and trim-sensitivity"
   ]
  },
  {
   "cell_type": "code",
   "execution_count": 23,
   "id": "3d49bcea3837b7ac",
   "metadata": {
    "ExecuteTime": {
     "end_time": "2025-08-24T10:56:29.273166Z",
     "start_time": "2025-08-24T10:56:29.269130Z"
    }
   },
   "outputs": [
    {
     "name": "stdout",
     "output_type": "stream",
     "text": [
      "\n",
      "--- ATT Overlap Diagnostics ---\n"
     ]
    },
    {
     "data": {
      "text/html": [
       "<div>\n",
       "<style scoped>\n",
       "    .dataframe tbody tr th:only-of-type {\n",
       "        vertical-align: middle;\n",
       "    }\n",
       "\n",
       "    .dataframe tbody tr th {\n",
       "        vertical-align: top;\n",
       "    }\n",
       "\n",
       "    .dataframe thead th {\n",
       "        text-align: right;\n",
       "    }\n",
       "</style>\n",
       "<table border=\"1\" class=\"dataframe\">\n",
       "  <thead>\n",
       "    <tr style=\"text-align: right;\">\n",
       "      <th></th>\n",
       "      <th>threshold</th>\n",
       "      <th>pct_controls_with_g_ge_thr</th>\n",
       "      <th>pct_treated_with_g_le_1_minus_thr</th>\n",
       "    </tr>\n",
       "  </thead>\n",
       "  <tbody>\n",
       "    <tr>\n",
       "      <th>0</th>\n",
       "      <td>0.95</td>\n",
       "      <td>0.015323</td>\n",
       "      <td>0.028785</td>\n",
       "    </tr>\n",
       "    <tr>\n",
       "      <th>1</th>\n",
       "      <td>0.97</td>\n",
       "      <td>0.000000</td>\n",
       "      <td>0.000000</td>\n",
       "    </tr>\n",
       "    <tr>\n",
       "      <th>2</th>\n",
       "      <td>0.98</td>\n",
       "      <td>0.000000</td>\n",
       "      <td>0.000000</td>\n",
       "    </tr>\n",
       "    <tr>\n",
       "      <th>3</th>\n",
       "      <td>0.99</td>\n",
       "      <td>0.000000</td>\n",
       "      <td>0.000000</td>\n",
       "    </tr>\n",
       "  </tbody>\n",
       "</table>\n",
       "</div>"
      ],
      "text/plain": [
       "   threshold  pct_controls_with_g_ge_thr  pct_treated_with_g_le_1_minus_thr\n",
       "0       0.95                    0.015323                           0.028785\n",
       "1       0.97                    0.000000                           0.000000\n",
       "2       0.98                    0.000000                           0.000000\n",
       "3       0.99                    0.000000                           0.000000"
      ]
     },
     "metadata": {},
     "output_type": "display_data"
    },
    {
     "name": "stdout",
     "output_type": "stream",
     "text": [
      "\n",
      "--- ATT Trim-Sensitivity Curve ---\n"
     ]
    },
    {
     "data": {
      "text/html": [
       "<div>\n",
       "<style scoped>\n",
       "    .dataframe tbody tr th:only-of-type {\n",
       "        vertical-align: middle;\n",
       "    }\n",
       "\n",
       "    .dataframe tbody tr th {\n",
       "        vertical-align: top;\n",
       "    }\n",
       "\n",
       "    .dataframe thead th {\n",
       "        text-align: right;\n",
       "    }\n",
       "</style>\n",
       "<table border=\"1\" class=\"dataframe\">\n",
       "  <thead>\n",
       "    <tr style=\"text-align: right;\">\n",
       "      <th></th>\n",
       "      <th>trim_threshold</th>\n",
       "      <th>n</th>\n",
       "      <th>pct_dropped</th>\n",
       "      <th>theta</th>\n",
       "      <th>se</th>\n",
       "    </tr>\n",
       "  </thead>\n",
       "  <tbody>\n",
       "    <tr>\n",
       "      <th>0</th>\n",
       "      <td>0.900000</td>\n",
       "      <td>9999</td>\n",
       "      <td>0.01</td>\n",
       "      <td>1.350662</td>\n",
       "      <td>0.090084</td>\n",
       "    </tr>\n",
       "    <tr>\n",
       "      <th>1</th>\n",
       "      <td>0.908636</td>\n",
       "      <td>9999</td>\n",
       "      <td>0.01</td>\n",
       "      <td>1.331246</td>\n",
       "      <td>0.091142</td>\n",
       "    </tr>\n",
       "    <tr>\n",
       "      <th>2</th>\n",
       "      <td>0.917273</td>\n",
       "      <td>9999</td>\n",
       "      <td>0.01</td>\n",
       "      <td>1.387317</td>\n",
       "      <td>0.092264</td>\n",
       "    </tr>\n",
       "    <tr>\n",
       "      <th>3</th>\n",
       "      <td>0.925909</td>\n",
       "      <td>9999</td>\n",
       "      <td>0.01</td>\n",
       "      <td>1.347702</td>\n",
       "      <td>0.090716</td>\n",
       "    </tr>\n",
       "    <tr>\n",
       "      <th>4</th>\n",
       "      <td>0.934545</td>\n",
       "      <td>9999</td>\n",
       "      <td>0.01</td>\n",
       "      <td>1.359888</td>\n",
       "      <td>0.091188</td>\n",
       "    </tr>\n",
       "    <tr>\n",
       "      <th>5</th>\n",
       "      <td>0.943182</td>\n",
       "      <td>9999</td>\n",
       "      <td>0.01</td>\n",
       "      <td>1.356327</td>\n",
       "      <td>0.090682</td>\n",
       "    </tr>\n",
       "    <tr>\n",
       "      <th>6</th>\n",
       "      <td>0.951818</td>\n",
       "      <td>9999</td>\n",
       "      <td>0.01</td>\n",
       "      <td>1.352705</td>\n",
       "      <td>0.091355</td>\n",
       "    </tr>\n",
       "    <tr>\n",
       "      <th>7</th>\n",
       "      <td>0.960455</td>\n",
       "      <td>10000</td>\n",
       "      <td>0.00</td>\n",
       "      <td>1.292609</td>\n",
       "      <td>0.096413</td>\n",
       "    </tr>\n",
       "    <tr>\n",
       "      <th>8</th>\n",
       "      <td>0.969091</td>\n",
       "      <td>10000</td>\n",
       "      <td>0.00</td>\n",
       "      <td>1.328536</td>\n",
       "      <td>0.094768</td>\n",
       "    </tr>\n",
       "    <tr>\n",
       "      <th>9</th>\n",
       "      <td>0.977727</td>\n",
       "      <td>10000</td>\n",
       "      <td>0.00</td>\n",
       "      <td>1.351585</td>\n",
       "      <td>0.092971</td>\n",
       "    </tr>\n",
       "    <tr>\n",
       "      <th>10</th>\n",
       "      <td>0.986364</td>\n",
       "      <td>10000</td>\n",
       "      <td>0.00</td>\n",
       "      <td>1.346071</td>\n",
       "      <td>0.095060</td>\n",
       "    </tr>\n",
       "    <tr>\n",
       "      <th>11</th>\n",
       "      <td>0.995000</td>\n",
       "      <td>10000</td>\n",
       "      <td>0.00</td>\n",
       "      <td>1.359726</td>\n",
       "      <td>0.092266</td>\n",
       "    </tr>\n",
       "  </tbody>\n",
       "</table>\n",
       "</div>"
      ],
      "text/plain": [
       "    trim_threshold      n  pct_dropped     theta        se\n",
       "0         0.900000   9999         0.01  1.350662  0.090084\n",
       "1         0.908636   9999         0.01  1.331246  0.091142\n",
       "2         0.917273   9999         0.01  1.387317  0.092264\n",
       "3         0.925909   9999         0.01  1.347702  0.090716\n",
       "4         0.934545   9999         0.01  1.359888  0.091188\n",
       "5         0.943182   9999         0.01  1.356327  0.090682\n",
       "6         0.951818   9999         0.01  1.352705  0.091355\n",
       "7         0.960455  10000         0.00  1.292609  0.096413\n",
       "8         0.969091  10000         0.00  1.328536  0.094768\n",
       "9         0.977727  10000         0.00  1.351585  0.092971\n",
       "10        0.986364  10000         0.00  1.346071  0.095060\n",
       "11        0.995000  10000         0.00  1.359726  0.092266"
      ]
     },
     "metadata": {},
     "output_type": "display_data"
    }
   ],
   "source": [
    "print(\"\\n--- ATT Overlap Diagnostics ---\")\n",
    "overlap = att_ortho_check['overlap_diagnostics']\n",
    "if overlap is not None:\n",
    "    display(overlap)\n",
    "else:\n",
    "    print(\"Overlap diagnostics not available.\")\n",
    "\n",
    "print(\"\\n--- ATT Trim-Sensitivity Curve ---\")\n",
    "robust = att_ortho_check['robustness']\n",
    "trim_curve = robust.get('trim_curve', None) if robust is not None else None\n",
    "if trim_curve is not None:\n",
    "    display(trim_curve)\n",
    "else:\n",
    "    print(\"Trim-sensitivity curve not available.\")"
   ]
  },
  {
   "cell_type": "markdown",
   "id": "1a6c20e053711bc8",
   "metadata": {},
   "source": [
    "### 5. Propensity score trimming"
   ]
  },
  {
   "cell_type": "code",
   "execution_count": 24,
   "id": "a0407dae232e3038",
   "metadata": {
    "ExecuteTime": {
     "end_time": "2025-08-24T10:56:29.331321Z",
     "start_time": "2025-08-24T10:56:29.329520Z"
    }
   },
   "outputs": [
    {
     "name": "stdout",
     "output_type": "stream",
     "text": [
      "\n",
      "--- Propensity Score Trimming ---\n",
      "Trimming bounds: (0.02, 0.98)\n",
      "Observations trimmed: 1 (0.0%)\n"
     ]
    }
   ],
   "source": [
    "print(\"\\n--- Propensity Score Trimming ---\")\n",
    "trim_info = att_ortho_check['trimming_info']\n",
    "print(f\"Trimming bounds: {trim_info['bounds']}\")\n",
    "print(f\"Observations trimmed: {trim_info['n_trimmed']} ({trim_info['pct_trimmed']:.1f}%)\")"
   ]
  },
  {
   "cell_type": "markdown",
   "id": "992e11fec62ac4d3",
   "metadata": {},
   "source": [
    "### 6. Diagnostic conditions breakdown"
   ]
  },
  {
   "cell_type": "code",
   "execution_count": 25,
   "id": "a8867fda225b2f17",
   "metadata": {
    "ExecuteTime": {
     "end_time": "2025-08-24T10:56:30.366373Z",
     "start_time": "2025-08-24T10:56:30.363233Z"
    }
   },
   "outputs": [
    {
     "name": "stdout",
     "output_type": "stream",
     "text": [
      "\n",
      "--- Diagnostic Conditions Assessment ---\n",
      "Individual condition checks:\n",
      "  oos_moment_ok: ✓ PASS\n",
      "  derivs_full_ok: ✓ PASS\n",
      "  derivs_trim_ok: ✓ PASS\n",
      "  se_reasonable: ✓ PASS\n",
      "  no_extreme_influence: ✓ PASS\n",
      "  trimming_reasonable: ✓ PASS\n",
      "\n",
      "Overall: PASS: Strong evidence for orthogonality\n"
     ]
    }
   ],
   "source": [
    "print(\"\\n--- Diagnostic Conditions Assessment ---\")\n",
    "conditions = att_ortho_check['diagnostic_conditions']\n",
    "print(\"Individual condition checks:\")\n",
    "for condition, passed in conditions.items():\n",
    "    status = \"\\u2713 PASS\" if passed else \"\\u2717 FAIL\"\n",
    "    print(f\"  {condition}: {status}\")\n",
    "\n",
    "print(f\"\\nOverall: {att_ortho_check['overall_assessment']}\")\n"
   ]
  },
  {
   "cell_type": "markdown",
   "id": "c8de1dd2386bc34f",
   "metadata": {},
   "source": [
    "### Sensitivity analysis"
   ]
  },
  {
   "cell_type": "markdown",
   "id": "d5189b146bb9d7cd",
   "metadata": {},
   "source": [
    "Let's analyze how unobserved confounder could look"
   ]
  },
  {
   "cell_type": "code",
   "execution_count": 26,
   "id": "f3b541b77022a6b0",
   "metadata": {
    "ExecuteTime": {
     "end_time": "2025-08-24T10:50:48.487246Z",
     "start_time": "2025-08-24T10:50:46.536461Z"
    }
   },
   "outputs": [],
   "source": [
    "bench_sets = causal_data.confounders\n",
    "res = sensitivity_analysis_set(\n",
    "    att_result,\n",
    "    benchmarking_set=bench_sets,\n",
    "    level=0.95,\n",
    "    null_hypothesis=0.0,\n",
    ")"
   ]
  },
  {
   "cell_type": "code",
   "execution_count": 27,
   "id": "55ba4a185b99857a",
   "metadata": {
    "ExecuteTime": {
     "end_time": "2025-08-24T10:50:48.504711Z",
     "start_time": "2025-08-24T10:50:48.502982Z"
    }
   },
   "outputs": [],
   "source": [
    "# Build a DataFrame with confounders as rows and the metrics as columns\n",
    "summary_df = pd.DataFrame({\n",
    "    name: (df.loc['t'] if 't' in df.index else df.iloc[0])\n",
    "    for name, df in res.items()\n",
    "}).T\n"
   ]
  },
  {
   "cell_type": "code",
   "execution_count": 28,
   "id": "35084981ada881e7",
   "metadata": {
    "ExecuteTime": {
     "end_time": "2025-08-24T10:50:48.511108Z",
     "start_time": "2025-08-24T10:50:48.508334Z"
    }
   },
   "outputs": [
    {
     "data": {
      "text/html": [
       "<div>\n",
       "<style scoped>\n",
       "    .dataframe tbody tr th:only-of-type {\n",
       "        vertical-align: middle;\n",
       "    }\n",
       "\n",
       "    .dataframe tbody tr th {\n",
       "        vertical-align: top;\n",
       "    }\n",
       "\n",
       "    .dataframe thead th {\n",
       "        text-align: right;\n",
       "    }\n",
       "</style>\n",
       "<table border=\"1\" class=\"dataframe\">\n",
       "  <thead>\n",
       "    <tr style=\"text-align: right;\">\n",
       "      <th></th>\n",
       "      <th>cf_y</th>\n",
       "      <th>cf_d</th>\n",
       "      <th>rho</th>\n",
       "      <th>delta_theta</th>\n",
       "    </tr>\n",
       "  </thead>\n",
       "  <tbody>\n",
       "    <tr>\n",
       "      <th>tenure_months</th>\n",
       "      <td>0.052112</td>\n",
       "      <td>0.004799</td>\n",
       "      <td>0.534682</td>\n",
       "      <td>0.069932</td>\n",
       "    </tr>\n",
       "    <tr>\n",
       "      <th>avg_sessions_week</th>\n",
       "      <td>0.033761</td>\n",
       "      <td>0.017667</td>\n",
       "      <td>0.828866</td>\n",
       "      <td>0.166359</td>\n",
       "    </tr>\n",
       "    <tr>\n",
       "      <th>spend_last_month</th>\n",
       "      <td>0.023657</td>\n",
       "      <td>0.081000</td>\n",
       "      <td>1.000000</td>\n",
       "      <td>0.385810</td>\n",
       "    </tr>\n",
       "    <tr>\n",
       "      <th>premium_user</th>\n",
       "      <td>0.039786</td>\n",
       "      <td>0.047103</td>\n",
       "      <td>0.646352</td>\n",
       "      <td>0.226695</td>\n",
       "    </tr>\n",
       "    <tr>\n",
       "      <th>urban_resident</th>\n",
       "      <td>0.000000</td>\n",
       "      <td>0.011797</td>\n",
       "      <td>1.000000</td>\n",
       "      <td>0.023253</td>\n",
       "    </tr>\n",
       "  </tbody>\n",
       "</table>\n",
       "</div>"
      ],
      "text/plain": [
       "                       cf_y      cf_d       rho  delta_theta\n",
       "tenure_months      0.052112  0.004799  0.534682     0.069932\n",
       "avg_sessions_week  0.033761  0.017667  0.828866     0.166359\n",
       "spend_last_month   0.023657  0.081000  1.000000     0.385810\n",
       "premium_user       0.039786  0.047103  0.646352     0.226695\n",
       "urban_resident     0.000000  0.011797  1.000000     0.023253"
      ]
     },
     "execution_count": 28,
     "metadata": {},
     "output_type": "execute_result"
    }
   ],
   "source": [
    "summary_df"
   ]
  },
  {
   "cell_type": "markdown",
   "id": "32eb695a1afb5a67",
   "metadata": {},
   "source": [
    "It is business domain and data knowledge relative question. In this situation we will stop on the most influential confounder 'spend_last_month' and test theta when we do not observe another confounder with strength of 'premium_user'"
   ]
  },
  {
   "cell_type": "code",
   "execution_count": 29,
   "id": "bffc9984e7fb3eb5",
   "metadata": {
    "ExecuteTime": {
     "end_time": "2025-08-24T10:53:16.112191Z",
     "start_time": "2025-08-24T10:53:16.095666Z"
    }
   },
   "outputs": [
    {
     "name": "stdout",
     "output_type": "stream",
     "text": [
      "================== Sensitivity Analysis ==================\n",
      "\n",
      "------------------ Scenario          ------------------\n",
      "Significance Level: level=0.95\n",
      "Sensitivity parameters: cf_y=0.02; cf_d=0.08, rho=1.0\n",
      "\n",
      "------------------ Bounds with CI    ------------------\n",
      "   CI lower  theta lower     theta  theta upper  CI upper\n",
      "t  0.804583     0.965456  1.311189     1.656921  1.809618\n",
      "\n",
      "------------------ Robustness Values ------------------\n",
      "   H_0     RV (%)    RVa (%)\n",
      "t  0.0  14.614512  12.772404\n"
     ]
    }
   ],
   "source": [
    "# Run sensitivity analysis on our ATT result\n",
    "sensitivity_report_1 = sensitivity_analysis(\n",
    "    att_result,\n",
    "    cf_y=0.02,  # Confounding strength affecting outcome\n",
    "    cf_d=0.08,  # Confounding strength affecting treatment\n",
    "    rho=1.0     # Perfect correlation between unobserved confounders\n",
    ")\n",
    "\n",
    "print(sensitivity_report_1)"
   ]
  },
  {
   "cell_type": "markdown",
   "id": "fe17b22a6b7351e",
   "metadata": {},
   "source": [
    "CI lower >> 0. It means test is passed"
   ]
  },
  {
   "cell_type": "code",
   "execution_count": null,
   "id": "c4b11033e6377ff8",
   "metadata": {},
   "outputs": [],
   "source": []
  }
 ],
 "metadata": {
  "kernelspec": {
   "display_name": "Python 3",
   "language": "python",
   "name": "python3"
  },
  "language_info": {
   "codemirror_mode": {
    "name": "ipython",
    "version": 3
   },
   "file_extension": ".py",
   "mimetype": "text/x-python",
   "name": "python",
   "nbconvert_exporter": "python",
   "pygments_lexer": "ipython3",
   "version": "3.13.5"
  }
 },
 "nbformat": 4,
 "nbformat_minor": 5
}
