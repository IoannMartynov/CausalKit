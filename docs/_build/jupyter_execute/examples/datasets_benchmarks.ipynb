{
 "cells": [
  {
   "cell_type": "markdown",
   "id": "29d28f4351922673",
   "metadata": {},
   "source": [
    "# Datasets benchmarks"
   ]
  },
  {
   "cell_type": "markdown",
   "id": "eb4a6a1e4a862327",
   "metadata": {},
   "source": [
    "In this notebook we well benchmark data generators processes"
   ]
  },
  {
   "cell_type": "code",
   "execution_count": 1,
   "id": "89ad49bf4bb4b10f",
   "metadata": {
    "ExecuteTime": {
     "end_time": "2025-09-18T17:17:04.940602Z",
     "start_time": "2025-09-18T17:17:04.610046Z"
    }
   },
   "outputs": [
    {
     "ename": "TypeError",
     "evalue": "CausalDatasetGenerator.__init__() got an unexpected keyword argument 'target_t_rate'. Did you mean 'target_d_rate'?",
     "output_type": "error",
     "traceback": [
      "\u001b[31m---------------------------------------------------------------------------\u001b[39m",
      "\u001b[31mTypeError\u001b[39m                                 Traceback (most recent call last)",
      "\u001b[36mCell\u001b[39m\u001b[36m \u001b[39m\u001b[32mIn[1]\u001b[39m\u001b[32m, line 52\u001b[39m\n\u001b[32m     43\u001b[39m \u001b[38;5;66;03m# How confounders affect feature exposure (log-odds scale)\u001b[39;00m\n\u001b[32m     44\u001b[39m beta_t = np.array([\n\u001b[32m     45\u001b[39m     \u001b[32m0.02\u001b[39m,  \u001b[38;5;66;03m# tenure increases likelihood of exposure\u001b[39;00m\n\u001b[32m     46\u001b[39m     \u001b[32m0.15\u001b[39m,  \u001b[38;5;66;03m# more sessions -> more likely to get feature\u001b[39;00m\n\u001b[32m   (...)\u001b[39m\u001b[32m     49\u001b[39m     \u001b[32m0.35\u001b[39m,  \u001b[38;5;66;03m# urban residents slightly more likely\u001b[39;00m\n\u001b[32m     50\u001b[39m ], dtype=\u001b[38;5;28mfloat\u001b[39m)\n\u001b[32m---> \u001b[39m\u001b[32m52\u001b[39m gen = CausalDatasetGenerator(\n\u001b[32m     53\u001b[39m     theta=theta_arppu,\n\u001b[32m     54\u001b[39m     outcome_type=\u001b[33m\"\u001b[39m\u001b[33mcontinuous\u001b[39m\u001b[33m\"\u001b[39m,\n\u001b[32m     55\u001b[39m     sigma_y=sigma_y,\n\u001b[32m     56\u001b[39m     target_t_rate=target_t_rate,\n\u001b[32m     57\u001b[39m     seed=SEED,\n\u001b[32m     58\u001b[39m     confounder_specs=confounder_specs,\n\u001b[32m     59\u001b[39m     beta_y=beta_y,\n\u001b[32m     60\u001b[39m     beta_t=beta_t,\n\u001b[32m     61\u001b[39m )\n\u001b[32m     63\u001b[39m \u001b[38;5;66;03m# Create dataset\u001b[39;00m\n\u001b[32m     64\u001b[39m causal_data = gen.to_causal_data(\n\u001b[32m     65\u001b[39m     n=n,\n\u001b[32m     66\u001b[39m     confounders = [\n\u001b[32m   (...)\u001b[39m\u001b[32m     72\u001b[39m ]\n\u001b[32m     73\u001b[39m )\n",
      "\u001b[31mTypeError\u001b[39m: CausalDatasetGenerator.__init__() got an unexpected keyword argument 'target_t_rate'. Did you mean 'target_d_rate'?"
     ]
    }
   ],
   "source": [
    "\n",
    "import numpy as np\n",
    "import pandas as pd\n",
    "\n",
    "# If available in your environment:\n",
    "from causalkit.data import CausalDatasetGenerator\n",
    "\n",
    "# Reproducibility\n",
    "SEED = 42\n",
    "np.random.seed(SEED)\n",
    "\n",
    "# Number of observations\n",
    "n = 10000\n",
    "\n",
    "# Confounders schema\n",
    "# These are illustrative product/behavior/user attributes\n",
    "confounder_specs = [\n",
    "    {\"name\": \"tenure_months\", \"dist\": \"normal\", \"mu\": 18, \"sd\": 12},  # app tenure\n",
    "    {\"name\": \"sessions_per_week\", \"dist\": \"normal\", \"mu\": 6, \"sd\": 3},  # engagement\n",
    "    {\"name\": \"spend_last_30d\", \"dist\": \"uniform\", \"a\": 0, \"b\": 300},  # recent spend\n",
    "    {\"name\": \"premium_user\", \"dist\": \"bernoulli\", \"p\": 0.2},  # subscription\n",
    "    {\"name\": \"urban_resident\", \"dist\": \"bernoulli\", \"p\": 0.65},  # geography\n",
    "]\n",
    "\n",
    "# True causal effect on ARPPU (on the natural/mean scale)\n",
    "theta_arppu = 4.0\n",
    "\n",
    "# Outcome noise (ARPPU is positive and often heavy-tailed; this is a simple Gaussian noise)\n",
    "sigma_y = 8.0\n",
    "\n",
    "# Target share of users exposed to the feature\n",
    "target_t_rate = 0.4\n",
    "\n",
    "# How confounders affect ARPPU (baseline; additive)\n",
    "# Order must match confounder_specs\n",
    "beta_y = np.array([\n",
    "    0.08,  # + per tenure month\n",
    "    0.60,  # + per weekly session\n",
    "    0.03,  # + per recent spend unit (scaled here)\n",
    "    6.00,  # premium users have higher ARPPU\n",
    "    2.00,  # urban residents slightly higher ARPPU\n",
    "], dtype=float)\n",
    "\n",
    "# How confounders affect feature exposure (log-odds scale)\n",
    "beta_t = np.array([\n",
    "    0.02,  # tenure increases likelihood of exposure\n",
    "    0.15,  # more sessions -> more likely to get feature\n",
    "    0.004,  # recent spend -> more likely to get feature\n",
    "    1.00,  # premium users prioritized\n",
    "    0.35,  # urban residents slightly more likely\n",
    "], dtype=float)\n",
    "\n",
    "gen = CausalDatasetGenerator(\n",
    "    theta=theta_arppu,\n",
    "    outcome_type=\"continuous\",\n",
    "    sigma_y=sigma_y,\n",
    "    target_t_rate=target_t_rate,\n",
    "    seed=SEED,\n",
    "    confounder_specs=confounder_specs,\n",
    "    beta_y=beta_y,\n",
    "    beta_t=beta_t,\n",
    ")\n",
    "\n",
    "# Create dataset\n",
    "causal_data = gen.to_causal_data(\n",
    "    n=n,\n",
    "    confounders = [\n",
    "    \"tenure_months\",\n",
    "    \"sessions_per_week\",\n",
    "    \"spend_last_30d\",\n",
    "    \"premium_user\",\n",
    "    \"urban_resident\",\n",
    "]\n",
    ")\n",
    "\n",
    "# Show first few rows\n",
    "causal_data.df.head()\n"
   ]
  },
  {
   "cell_type": "code",
   "execution_count": 2,
   "id": "95aed9659e69057e",
   "metadata": {
    "ExecuteTime": {
     "end_time": "2025-09-18T17:17:15.355607Z",
     "start_time": "2025-09-18T17:17:05.921082Z"
    },
    "collapsed": true
   },
   "outputs": [
    {
     "data": {
      "text/plain": [
       "{'coefficient': 3.959355952103991,\n",
       " 'std_error': 0.2232106706596863,\n",
       " 'p_value': 0.0,\n",
       " 'confidence_interval': (3.521871076645975, 4.3968408275620074),\n",
       " 'model': <causalkit.inference.estimators.irm.IRM at 0x149939010>}"
      ]
     },
     "execution_count": 2,
     "metadata": {},
     "output_type": "execute_result"
    }
   ],
   "source": [
    "from causalkit.inference.ate import dml_ate\n",
    "\n",
    "# Estimate Average Treatment Effect (ATE)\n",
    "ate_result = dml_ate(causal_data, n_folds=4, confidence_level=0.95)\n",
    "ate_result"
   ]
  },
  {
   "cell_type": "code",
   "execution_count": null,
   "id": "5c24ee4a1f07c2b8",
   "metadata": {},
   "outputs": [],
   "source": [
    "from causalkit.inference.atte import dml_atte\n",
    "\n",
    "# Estimate Average Treatment Effect (ATE)\n",
    "att_result = dml_atte(causal_data, n_folds=4, confidence_level=0.95)\n",
    "att_result"
   ]
  },
  {
   "cell_type": "code",
   "execution_count": null,
   "id": "b11dc709a23dbb57",
   "metadata": {},
   "outputs": [],
   "source": [
    "\n",
    "import numpy as np\n",
    "import pandas as pd\n",
    "\n",
    "# If available in your environment:\n",
    "from causalkit.data import CausalDatasetGenerator\n",
    "\n",
    "# Reproducibility\n",
    "SEED = 42\n",
    "np.random.seed(SEED)\n",
    "\n",
    "# Number of observations\n",
    "n = 10000\n",
    "\n",
    "# Confounders schema\n",
    "# These are illustrative product/behavior/user attributes\n",
    "confounder_specs = [\n",
    "    {\"name\": \"tenure_months\", \"dist\": \"normal\", \"mu\": 18, \"sd\": 12},  # app tenure\n",
    "    {\"name\": \"sessions_per_week\", \"dist\": \"normal\", \"mu\": 6, \"sd\": 3},  # engagement\n",
    "    {\"name\": \"spend_last_30d\", \"dist\": \"uniform\", \"a\": 0, \"b\": 300},  # recent spend\n",
    "    {\"name\": \"premium_user\", \"dist\": \"bernoulli\", \"p\": 0.2},  # subscription\n",
    "    {\"name\": \"urban_resident\", \"dist\": \"bernoulli\", \"p\": 0.65},  # geography\n",
    "]\n",
    "\n",
    "# True causal effect on ARPPU (on the natural/mean scale)\n",
    "theta_arppu = 4.0\n",
    "\n",
    "# Outcome noise (ARPPU is positive and often heavy-tailed; this is a simple Gaussian noise)\n",
    "sigma_y = 8.0\n",
    "\n",
    "# Target share of users exposed to the feature\n",
    "target_t_rate = 0.4\n",
    "\n",
    "# How confounders affect ARPPU (baseline; additive)\n",
    "# Order must match confounder_specs\n",
    "beta_y = np.array([\n",
    "    0.08,  # + per tenure month\n",
    "    0.60,  # + per weekly session\n",
    "    0.03,  # + per recent spend unit (scaled here)\n",
    "    6.00,  # premium users have higher ARPPU\n",
    "    2.00,  # urban residents slightly higher ARPPU\n",
    "], dtype=float)\n",
    "\n",
    "# How confounders affect feature exposure (log-odds scale)\n",
    "beta_t = np.array([\n",
    "    0.02,  # tenure increases likelihood of exposure\n",
    "    0.15,  # more sessions -> more likely to get feature\n",
    "    0.9,  # recent spend -> more likely to get feature\n",
    "    1.00,  # premium users prioritized\n",
    "    0.35,  # urban residents slightly more likely\n",
    "], dtype=float)\n",
    "\n",
    "gen = CausalDatasetGenerator(\n",
    "    theta=theta_arppu,\n",
    "    outcome_type=\"continuous\",\n",
    "    sigma_y=sigma_y,\n",
    "    target_t_rate=target_t_rate,\n",
    "    seed=SEED,\n",
    "    confounder_specs=confounder_specs,\n",
    "    beta_y=beta_y,\n",
    "    beta_t=beta_t,\n",
    ")\n",
    "\n",
    "# Create dataset\n",
    "causal_data = gen.to_causal_data(\n",
    "    n=n,\n",
    "    confounders = [\n",
    "    \"tenure_months\",\n",
    "    \"sessions_per_week\",\n",
    "    \"spend_last_30d\",\n",
    "    \"premium_user\",\n",
    "    \"urban_resident\",\n",
    "]\n",
    ")\n",
    "\n",
    "# Show first few rows\n",
    "causal_data.df.head()\n"
   ]
  },
  {
   "cell_type": "code",
   "execution_count": null,
   "id": "8344758cd2d73436",
   "metadata": {},
   "outputs": [],
   "source": [
    "from causalkit.inference.ate import dml_ate\n",
    "\n",
    "# Estimate Average Treatment Effect (ATE)\n",
    "ate_result = dml_ate(causal_data, n_folds=4, confidence_level=0.95)\n",
    "ate_result"
   ]
  },
  {
   "cell_type": "code",
   "execution_count": null,
   "id": "6d6393ed1477e235",
   "metadata": {},
   "outputs": [],
   "source": [
    "from causalkit.inference.atte import dml_atte\n",
    "\n",
    "# Estimate Average Treatment Effect (ATE)\n",
    "att_result = dml_atte(causal_data, n_folds=4, confidence_level=0.95)\n",
    "att_result"
   ]
  },
  {
   "cell_type": "code",
   "execution_count": null,
   "id": "852bccad6538e84b",
   "metadata": {},
   "outputs": [],
   "source": [
    "from causalkit.eda import CausalEDA\n",
    "eda = CausalEDA(causal_data)\n",
    "\n",
    "# shape of data\n",
    "eda.data_shape()"
   ]
  },
  {
   "cell_type": "code",
   "execution_count": null,
   "id": "be999a2fcd80cf39",
   "metadata": {},
   "outputs": [],
   "source": [
    "# Shows means of confounders for control/treated groups, absolute differences, and SMD values\n",
    "confounders_balance_df = eda.confounders_means()\n",
    "display(confounders_balance_df)"
   ]
  },
  {
   "cell_type": "code",
   "execution_count": null,
   "id": "a0ebc6faf5ba568b",
   "metadata": {},
   "outputs": [],
   "source": [
    "# Propensity model fit\n",
    "ps_model = eda.fit_propensity()\n",
    "\n",
    "# ROC AUC - shows how predictable treatment is from confounders\n",
    "roc_auc_score = ps_model.roc_auc\n",
    "print(\"ROC AUC from PropensityModel:\", round(roc_auc_score, 4))"
   ]
  },
  {
   "cell_type": "code",
   "execution_count": null,
   "id": "b3f64c0a85aacb3",
   "metadata": {},
   "outputs": [],
   "source": [
    "# Positivity check - assess overlap between treatment groups\n",
    "positivity_result = ps_model.positivity_check()\n",
    "print(\"Positivity check from PropensityModel:\", positivity_result)"
   ]
  },
  {
   "cell_type": "code",
   "execution_count": null,
   "id": "e0f150b88b2129b7",
   "metadata": {},
   "outputs": [],
   "source": [
    "# SHAP values - feature importance for treatment assignment from confounders\n",
    "shap_values_df = ps_model.shap\n",
    "display(shap_values_df)"
   ]
  },
  {
   "cell_type": "code",
   "execution_count": null,
   "id": "e45257ec58105c8b",
   "metadata": {},
   "outputs": [],
   "source": []
  }
 ],
 "metadata": {
  "kernelspec": {
   "display_name": "Python 3",
   "language": "python",
   "name": "python3"
  },
  "language_info": {
   "codemirror_mode": {
    "name": "ipython",
    "version": 3
   },
   "file_extension": ".py",
   "mimetype": "text/x-python",
   "name": "python",
   "nbconvert_exporter": "python",
   "pygments_lexer": "ipython3",
   "version": "3.13.5"
  }
 },
 "nbformat": 4,
 "nbformat_minor": 5
}