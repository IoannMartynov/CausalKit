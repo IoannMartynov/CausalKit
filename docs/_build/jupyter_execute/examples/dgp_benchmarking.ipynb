{
 "cells": [
  {
   "cell_type": "code",
   "execution_count": null,
   "id": "initial_id",
   "metadata": {
    "collapsed": true
   },
   "outputs": [],
   "source": []
  },
  {
   "cell_type": "code",
   "execution_count": 1,
   "id": "441122f7a58f4578",
   "metadata": {
    "ExecuteTime": {
     "end_time": "2025-10-03T09:48:44.714168Z",
     "start_time": "2025-10-03T09:48:44.572451Z"
    }
   },
   "outputs": [
    {
     "name": "stdout",
     "output_type": "stream",
     "text": [
      "Treatment share ≈ 0.19986\n",
      "         g0        g1  cate\n",
      "0  4.439569  5.239569   0.8\n",
      "1  2.914083  3.714083   0.8\n",
      "2  3.190812  3.990812   0.8\n",
      "3  2.681789  3.481789   0.8\n",
      "4  3.813471  4.613471   0.8\n"
     ]
    }
   ],
   "source": [
    "import numpy as np\n",
    "from typing import List, Dict, Any\n",
    "\n",
    "# adjust import to your package/module path\n",
    "from causalkit.data import CausalDatasetGenerator\n",
    "\n",
    "confounder_specs: List[Dict[str, Any]] = [\n",
    "    {\"name\": \"tenure_months\",     \"dist\": \"normal\",   \"mu\": 24, \"sd\": 12},\n",
    "    {\"name\": \"avg_sessions_week\", \"dist\": \"normal\",   \"mu\": 5,  \"sd\": 2},\n",
    "    {\"name\": \"spend_last_month\",  \"dist\": \"uniform\",  \"a\": 0,   \"b\": 200},\n",
    "    {\"name\": \"premium_user\",      \"dist\": \"bernoulli\",\"p\": 0.25},\n",
    "    {\"name\": \"urban_resident\",    \"dist\": \"bernoulli\",\"p\": 0.60},\n",
    "]\n",
    "\n",
    "# Moderate, sensible effects by column name (linear, well-specified)\n",
    "# Outcome: higher sessions, tenure, spend, premium, urban -> higher Y\n",
    "beta_y_map = {\n",
    "    \"tenure_months\":     0.05,   # ~0.6 SD shift at +1 SD (12 months)\n",
    "    \"avg_sessions_week\": 0.60,   # strong engagement signal\n",
    "    \"spend_last_month\":  0.005,  # scale 0..200 => up to ~1 shift\n",
    "    \"premium_user\":      0.80,\n",
    "    \"urban_resident\":    0.20,\n",
    "}\n",
    "\n",
    "# Treatment score: moderate dependence on engagement, spend, premium, urban\n",
    "beta_d_map = {\n",
    "    \"tenure_months\":     0.08,\n",
    "    \"avg_sessions_week\": 0.12,\n",
    "    \"spend_last_month\":  0.004,\n",
    "    \"premium_user\":      0.25,\n",
    "    \"urban_resident\":    0.10,\n",
    "}\n",
    "\n",
    "def expand_beta_from_specs(specs: List[Dict[str, Any]], beta_map: Dict[str, float]) -> np.ndarray:\n",
    "    \"\"\"Create β aligned to the generator's X column order from confounder_specs.\"\"\"\n",
    "    betas = []\n",
    "    for spec in specs:\n",
    "        name = spec.get(\"name\", \"\")\n",
    "        dist = str(spec.get(\"dist\", \"normal\")).lower()\n",
    "        if dist in (\"normal\", \"uniform\", \"bernoulli\"):\n",
    "            betas.append(beta_map.get(name, 0.0))\n",
    "        else:\n",
    "            raise ValueError(f\"Unsupported dist in this simple setup: {dist}\")\n",
    "    return np.asarray(betas, dtype=float)\n",
    "\n",
    "beta_y = expand_beta_from_specs(confounder_specs, beta_y_map)\n",
    "beta_d = expand_beta_from_specs(confounder_specs, beta_d_map)\n",
    "\n",
    "gen = CausalDatasetGenerator(\n",
    "    theta=0.80,                 # constant treatment effect\n",
    "    tau=None,                   # use theta\n",
    "    beta_y=beta_y,\n",
    "    beta_d=beta_d,\n",
    "    g_y=None, g_d=None,         # no nonlinearities\n",
    "    alpha_y=0.0,\n",
    "    alpha_d=0.0,\n",
    "    sigma_y=1.0,\n",
    "    outcome_type=\"continuous\",  # Gaussian Y\n",
    "    confounder_specs=confounder_specs,\n",
    "    # IRM-EASY: no unobserved confounding, standard sharpness\n",
    "    u_strength_d=0.0,\n",
    "    u_strength_y=0.0,\n",
    "    propensity_sharpness=1.0,\n",
    "    # keep overall treatment share ~ 0.5 even with imbalanced features\n",
    "    target_d_rate=0.20,\n",
    "    seed=123\n",
    ")\n",
    "\n",
    "n = 100_000\n",
    "df = gen.generate(n)\n",
    "\n",
    "print(\"Treatment share ≈\", df[\"d\"].mean())        # ~0.50\n",
    "print(df.filter(regex=r\"^(g0|g1|cate)$\").head())  # cate == 0.8 everywhere\n",
    "# Columns include: y, d, tenure_months, avg_sessions_week, spend_last_month,\n",
    "#                  premium_user, urban_resident, m, g0, g1, cate, ...\n"
   ]
  },
  {
   "cell_type": "code",
   "execution_count": 2,
   "id": "efc74e981147010c",
   "metadata": {
    "ExecuteTime": {
     "end_time": "2025-10-03T09:48:45.004953Z",
     "start_time": "2025-10-03T09:48:44.966890Z"
    }
   },
   "outputs": [
    {
     "name": "stdout",
     "output_type": "stream",
     "text": [
      "Ground-truth ATT from the DGP: 0.800\n"
     ]
    },
    {
     "data": {
      "text/html": [
       "<div>\n",
       "<style scoped>\n",
       "    .dataframe tbody tr th:only-of-type {\n",
       "        vertical-align: middle;\n",
       "    }\n",
       "\n",
       "    .dataframe tbody tr th {\n",
       "        vertical-align: top;\n",
       "    }\n",
       "\n",
       "    .dataframe thead th {\n",
       "        text-align: right;\n",
       "    }\n",
       "</style>\n",
       "<table border=\"1\" class=\"dataframe\">\n",
       "  <thead>\n",
       "    <tr style=\"text-align: right;\">\n",
       "      <th></th>\n",
       "      <th>y</th>\n",
       "      <th>d</th>\n",
       "      <th>tenure_months</th>\n",
       "      <th>avg_sessions_week</th>\n",
       "      <th>spend_last_month</th>\n",
       "      <th>premium_user</th>\n",
       "      <th>urban_resident</th>\n",
       "    </tr>\n",
       "  </thead>\n",
       "  <tbody>\n",
       "    <tr>\n",
       "      <th>0</th>\n",
       "      <td>4.431598</td>\n",
       "      <td>0.0</td>\n",
       "      <td>12.130544</td>\n",
       "      <td>5.803342</td>\n",
       "      <td>30.207326</td>\n",
       "      <td>0.0</td>\n",
       "      <td>1.0</td>\n",
       "    </tr>\n",
       "    <tr>\n",
       "      <th>1</th>\n",
       "      <td>3.089098</td>\n",
       "      <td>0.0</td>\n",
       "      <td>19.586560</td>\n",
       "      <td>2.320295</td>\n",
       "      <td>68.515624</td>\n",
       "      <td>0.0</td>\n",
       "      <td>1.0</td>\n",
       "    </tr>\n",
       "    <tr>\n",
       "      <th>2</th>\n",
       "      <td>3.320877</td>\n",
       "      <td>0.0</td>\n",
       "      <td>39.455103</td>\n",
       "      <td>1.351509</td>\n",
       "      <td>41.430270</td>\n",
       "      <td>0.0</td>\n",
       "      <td>1.0</td>\n",
       "    </tr>\n",
       "    <tr>\n",
       "      <th>3</th>\n",
       "      <td>2.212806</td>\n",
       "      <td>0.0</td>\n",
       "      <td>26.327693</td>\n",
       "      <td>1.459923</td>\n",
       "      <td>97.890030</td>\n",
       "      <td>0.0</td>\n",
       "      <td>0.0</td>\n",
       "    </tr>\n",
       "    <tr>\n",
       "      <th>4</th>\n",
       "      <td>3.919363</td>\n",
       "      <td>0.0</td>\n",
       "      <td>35.042771</td>\n",
       "      <td>1.938168</td>\n",
       "      <td>139.686209</td>\n",
       "      <td>0.0</td>\n",
       "      <td>1.0</td>\n",
       "    </tr>\n",
       "  </tbody>\n",
       "</table>\n",
       "</div>"
      ],
      "text/plain": [
       "          y    d  tenure_months  avg_sessions_week  spend_last_month  \\\n",
       "0  4.431598  0.0      12.130544           5.803342         30.207326   \n",
       "1  3.089098  0.0      19.586560           2.320295         68.515624   \n",
       "2  3.320877  0.0      39.455103           1.351509         41.430270   \n",
       "3  2.212806  0.0      26.327693           1.459923         97.890030   \n",
       "4  3.919363  0.0      35.042771           1.938168        139.686209   \n",
       "\n",
       "   premium_user  urban_resident  \n",
       "0           0.0             1.0  \n",
       "1           0.0             1.0  \n",
       "2           0.0             1.0  \n",
       "3           0.0             0.0  \n",
       "4           0.0             1.0  "
      ]
     },
     "execution_count": 2,
     "metadata": {},
     "output_type": "execute_result"
    }
   ],
   "source": [
    "from causalkit.data import CausalData\n",
    "# Ground-truth ATT (on the natural scale): E[tau(X) | T=1] = mean CATE among the treated\n",
    "true_att = float(df.loc[df[\"d\"] == 1, \"cate\"].mean())\n",
    "print(f\"Ground-truth ATT from the DGP: {true_att:.3f}\")\n",
    "\n",
    "# 8) Wrap as CausalData for downstream workflows (keeps only y, t, and specified confounders)\n",
    "causal_data = CausalData(\n",
    "    df=df,\n",
    "    treatment=\"d\",\n",
    "    outcome=\"y\",\n",
    "    confounders=[\"tenure_months\",\n",
    "                 \"avg_sessions_week\",\n",
    "                 \"spend_last_month\",\n",
    "                 \"premium_user\",\n",
    "                 \"premium_user\",\n",
    "                 \"urban_resident\"]\n",
    ")\n",
    "\n",
    "# Peek at the analysis-ready view\n",
    "causal_data.df.head()"
   ]
  },
  {
   "cell_type": "code",
   "execution_count": 3,
   "id": "8a00d8ee46727429",
   "metadata": {
    "ExecuteTime": {
     "end_time": "2025-10-03T09:49:09.179333Z",
     "start_time": "2025-10-03T09:48:45.583194Z"
    }
   },
   "outputs": [
    {
     "data": {
      "text/plain": [
       "{'coefficient': 0.8018024278334644,\n",
       " 'std_error': 0.012582722109769592,\n",
       " 'p_value': 0.0,\n",
       " 'confidence_interval': (0.7771407456708402, 0.8264641099960887),\n",
       " 'model': <causalkit.inference.estimators.irm.IRM at 0x153501e80>,\n",
       " 'diagnostic_data': {'m_hat': array([0.05190918, 0.07398433, 0.19257277, ..., 0.31383937, 0.07900672,\n",
       "         0.0542835 ], shape=(100000,)),\n",
       "  'g0_hat': array([4.48090864, 2.91826276, 3.15099941, ..., 6.18059343, 4.25043893,\n",
       "         3.38260933], shape=(100000,)),\n",
       "  'g1_hat': array([5.16512649, 3.52326719, 3.83909097, ..., 6.72687829, 5.14200859,\n",
       "         4.07857921], shape=(100000,)),\n",
       "  'y': array([4.43159809, 3.08909757, 3.32087743, ..., 7.70334644, 5.56867371,\n",
       "         2.46455984], shape=(100000,)),\n",
       "  'd': array([0, 0, 0, ..., 1, 1, 0], shape=(100000,)),\n",
       "  'x': array([[ 12.1305438 ,   5.80334174,  30.20732587,   0.        ,\n",
       "            1.        ],\n",
       "         [ 19.58656018,   2.32029504,  68.51562396,   0.        ,\n",
       "            1.        ],\n",
       "         [ 39.45510314,   1.35150888,  41.43027027,   0.        ,\n",
       "            1.        ],\n",
       "         ...,\n",
       "         [ 35.2028584 ,   6.03828533, 134.46736619,   0.        ,\n",
       "            0.        ],\n",
       "         [ 16.62150359,   5.06086131,  76.87157057,   0.        ,\n",
       "            0.        ],\n",
       "         [ 17.03753078,   3.60276408,  62.57443708,   0.        ,\n",
       "            0.        ]], shape=(100000, 5)),\n",
       "  'psi': array([-0.06557421, -0.38128171, -0.32410509, ...,  2.85584526,\n",
       "          5.49013201,  0.86491238], shape=(100000,)),\n",
       "  'psi_a': array([-1., -1., -1., ..., -1., -1., -1.], shape=(100000,)),\n",
       "  'psi_b': array([0.73622822, 0.42052072, 0.47769734, ..., 3.65764768, 6.29193444,\n",
       "         1.66671481], shape=(100000,)),\n",
       "  'folds': array([2, 3, 1, ..., 0, 1, 2], shape=(100000,)),\n",
       "  'score': 'ATE',\n",
       "  'normalize_ipw': False,\n",
       "  'trimming_threshold': 0.01,\n",
       "  'p1': 0.19986}}"
      ]
     },
     "execution_count": 3,
     "metadata": {},
     "output_type": "execute_result"
    }
   ],
   "source": [
    "from causalkit.inference.ate import dml_ate\n",
    "\n",
    "# Estimate Average Treatment Effect (ATT)\n",
    "att_result = dml_ate(causal_data, n_folds=4)\n",
    "att_result"
   ]
  },
  {
   "cell_type": "code",
   "execution_count": 4,
   "id": "e0a6f5e4d57ea075",
   "metadata": {
    "ExecuteTime": {
     "end_time": "2025-10-03T09:49:32.719104Z",
     "start_time": "2025-10-03T09:49:09.195215Z"
    }
   },
   "outputs": [
    {
     "data": {
      "text/plain": [
       "{'coefficient': 0.7985062051110056,\n",
       " 'std_error': 0.009764942082891368,\n",
       " 'p_value': 0.0,\n",
       " 'confidence_interval': (0.7793672703174189, 0.8176451399045922),\n",
       " 'model': <causalkit.inference.estimators.irm.IRM at 0x1159eac10>,\n",
       " 'diagnostic_data': {'m_hat': array([0.05120058, 0.0605844 , 0.18204136, ..., 0.34167015, 0.08042903,\n",
       "         0.05647513], shape=(100000,)),\n",
       "  'g0_hat': array([4.43779417, 2.89041292, 3.24014891, ..., 5.9985561 , 4.28459   ,\n",
       "         3.40423816], shape=(100000,)),\n",
       "  'g1_hat': array([5.00833458, 3.62301393, 3.57665938, ..., 6.56406929, 5.01704407,\n",
       "         3.86190054], shape=(100000,)),\n",
       "  'y': array([4.43159809, 3.08909757, 3.32087743, ..., 7.70334644, 5.56867371,\n",
       "         2.46455984], shape=(100000,)),\n",
       "  'd': array([0, 0, 0, ..., 1, 1, 0], shape=(100000,)),\n",
       "  'x': array([[ 12.1305438 ,   5.80334174,  30.20732587,   0.        ,\n",
       "            1.        ],\n",
       "         [ 19.58656018,   2.32029504,  68.51562396,   0.        ,\n",
       "            1.        ],\n",
       "         [ 39.45510314,   1.35150888,  41.43027027,   0.        ,\n",
       "            1.        ],\n",
       "         ...,\n",
       "         [ 35.2028584 ,   6.03828533, 134.46736619,   0.        ,\n",
       "            0.        ],\n",
       "         [ 16.62150359,   5.06086131,  76.87157057,   0.        ,\n",
       "            0.        ],\n",
       "         [ 17.03753078,   3.60276408,  62.57443708,   0.        ,\n",
       "            0.        ]], shape=(100000, 5)),\n",
       "  'psi': array([ 1.67298232e-03, -6.41123131e-02, -8.98958890e-02, ...,\n",
       "          4.53459488e+00,  2.42958825e+00,  2.81421467e-01], shape=(100000,)),\n",
       "  'psi_a': array([-0.        , -0.        , -0.        , ..., -5.00350245,\n",
       "         -5.00350245, -0.        ], shape=(100000,)),\n",
       "  'psi_b': array([ 1.67298232e-03, -6.41123131e-02, -8.98958890e-02, ...,\n",
       "          8.52992263e+00,  6.42491601e+00,  2.81421467e-01], shape=(100000,)),\n",
       "  'folds': array([2, 3, 3, ..., 3, 2, 3], shape=(100000,)),\n",
       "  'score': 'ATTE',\n",
       "  'normalize_ipw': False,\n",
       "  'trimming_threshold': 0.01,\n",
       "  'p1': 0.19986}}"
      ]
     },
     "execution_count": 4,
     "metadata": {},
     "output_type": "execute_result"
    }
   ],
   "source": [
    "from causalkit.inference.atte import dml_atte\n",
    "\n",
    "# Estimate Average Treatment Effect (ATT)\n",
    "atte_result = dml_atte(causal_data, n_folds=4)\n",
    "atte_result"
   ]
  },
  {
   "cell_type": "code",
   "execution_count": null,
   "id": "7577a33e87f133cf",
   "metadata": {
    "ExecuteTime": {
     "end_time": "2025-10-03T09:49:32.736831Z",
     "start_time": "2025-10-03T09:49:32.735271Z"
    }
   },
   "outputs": [],
   "source": []
  },
  {
   "cell_type": "code",
   "execution_count": null,
   "id": "186489e3fe2a6949",
   "metadata": {},
   "outputs": [],
   "source": []
  }
 ],
 "metadata": {
  "kernelspec": {
   "display_name": "Python 3",
   "language": "python",
   "name": "python3"
  },
  "language_info": {
   "codemirror_mode": {
    "name": "ipython",
    "version": 3
   },
   "file_extension": ".py",
   "mimetype": "text/x-python",
   "name": "python",
   "nbconvert_exporter": "python",
   "pygments_lexer": "ipython3",
   "version": "3.13.5"
  }
 },
 "nbformat": 4,
 "nbformat_minor": 5
}