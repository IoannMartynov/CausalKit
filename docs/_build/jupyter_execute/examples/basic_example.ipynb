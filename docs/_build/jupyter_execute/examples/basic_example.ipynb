{
 "cells": [
  {
   "cell_type": "markdown",
   "id": "8fcc272d63fa7879",
   "metadata": {
    "collapsed": true
   },
   "source": [
    "# Basic example of CausalKit workflow"
   ]
  },
  {
   "cell_type": "markdown",
   "id": "9900e7cb514527d0",
   "metadata": {},
   "source": [
    "This notebook covers scenario:\n",
    "| Is RCT        | Treatment | Outcome    | EDA | Estimands | Refutation |\n",
    "|---------------|-----------|------------|-----|-----------|------------|\n",
    "| Observational | Binary    | Continuous | Yes | ATE       | Yes        |\n",
    "\n",
    "We will estimate Average Treatment Effect (ATE) of binary treatment on continuous outcome. It shows explonatary data analysis and refutation tests"
   ]
  },
  {
   "cell_type": "markdown",
   "id": "889d566926f81af1",
   "metadata": {},
   "source": [
    "## Generate data"
   ]
  },
  {
   "cell_type": "markdown",
   "id": "c3f40b0f32cedefd",
   "metadata": {},
   "source": [
    "Let's generate data of how feature (Treatment) impact on ARPU (Outcome) with linear effect (theta) = 1.8"
   ]
  },
  {
   "cell_type": "code",
   "execution_count": 1,
   "id": "5df3d791f8395962",
   "metadata": {
    "ExecuteTime": {
     "end_time": "2025-08-19T11:47:11.671435Z",
     "start_time": "2025-08-19T11:47:11.646385Z"
    }
   },
   "outputs": [
    {
     "data": {
      "text/html": [
       "<div>\n",
       "<style scoped>\n",
       "    .dataframe tbody tr th:only-of-type {\n",
       "        vertical-align: middle;\n",
       "    }\n",
       "\n",
       "    .dataframe tbody tr th {\n",
       "        vertical-align: top;\n",
       "    }\n",
       "\n",
       "    .dataframe thead th {\n",
       "        text-align: right;\n",
       "    }\n",
       "</style>\n",
       "<table border=\"1\" class=\"dataframe\">\n",
       "  <thead>\n",
       "    <tr style=\"text-align: right;\">\n",
       "      <th></th>\n",
       "      <th>y</th>\n",
       "      <th>t</th>\n",
       "      <th>tenure_months</th>\n",
       "      <th>avg_sessions_week</th>\n",
       "      <th>spend_last_month</th>\n",
       "      <th>premium_user</th>\n",
       "      <th>urban_resident</th>\n",
       "    </tr>\n",
       "  </thead>\n",
       "  <tbody>\n",
       "    <tr>\n",
       "      <th>0</th>\n",
       "      <td>5.927714</td>\n",
       "      <td>1.0</td>\n",
       "      <td>27.656605</td>\n",
       "      <td>5.352554</td>\n",
       "      <td>72.552568</td>\n",
       "      <td>1.0</td>\n",
       "      <td>0.0</td>\n",
       "    </tr>\n",
       "    <tr>\n",
       "      <th>1</th>\n",
       "      <td>11.122008</td>\n",
       "      <td>1.0</td>\n",
       "      <td>11.520191</td>\n",
       "      <td>6.798247</td>\n",
       "      <td>188.481287</td>\n",
       "      <td>1.0</td>\n",
       "      <td>0.0</td>\n",
       "    </tr>\n",
       "    <tr>\n",
       "      <th>2</th>\n",
       "      <td>10.580393</td>\n",
       "      <td>1.0</td>\n",
       "      <td>33.005414</td>\n",
       "      <td>2.055459</td>\n",
       "      <td>51.040440</td>\n",
       "      <td>0.0</td>\n",
       "      <td>1.0</td>\n",
       "    </tr>\n",
       "    <tr>\n",
       "      <th>3</th>\n",
       "      <td>6.982844</td>\n",
       "      <td>1.0</td>\n",
       "      <td>35.286777</td>\n",
       "      <td>4.429404</td>\n",
       "      <td>166.992239</td>\n",
       "      <td>0.0</td>\n",
       "      <td>1.0</td>\n",
       "    </tr>\n",
       "    <tr>\n",
       "      <th>4</th>\n",
       "      <td>10.899381</td>\n",
       "      <td>0.0</td>\n",
       "      <td>0.587578</td>\n",
       "      <td>6.658307</td>\n",
       "      <td>179.371126</td>\n",
       "      <td>0.0</td>\n",
       "      <td>0.0</td>\n",
       "    </tr>\n",
       "  </tbody>\n",
       "</table>\n",
       "</div>"
      ],
      "text/plain": [
       "           y    t  tenure_months  avg_sessions_week  spend_last_month  \\\n",
       "0   5.927714  1.0      27.656605           5.352554         72.552568   \n",
       "1  11.122008  1.0      11.520191           6.798247        188.481287   \n",
       "2  10.580393  1.0      33.005414           2.055459         51.040440   \n",
       "3   6.982844  1.0      35.286777           4.429404        166.992239   \n",
       "4  10.899381  0.0       0.587578           6.658307        179.371126   \n",
       "\n",
       "   premium_user  urban_resident  \n",
       "0           1.0             0.0  \n",
       "1           1.0             0.0  \n",
       "2           0.0             1.0  \n",
       "3           0.0             1.0  \n",
       "4           0.0             0.0  "
      ]
     },
     "execution_count": 1,
     "metadata": {},
     "output_type": "execute_result"
    }
   ],
   "source": [
    "import numpy as np\n",
    "import pandas as pd\n",
    "import matplotlib.pyplot as plt\n",
    "from causalkit.data import CausalDatasetGenerator, CausalData\n",
    "\n",
    "# Reproducibility\n",
    "np.random.seed(42)\n",
    "\n",
    "confounder_specs = [\n",
    "    {\"name\": \"tenure_months\", \"dist\": \"normal\", \"mu\": 24, \"sd\": 12},\n",
    "    {\"name\": \"avg_sessions_week\", \"dist\": \"normal\", \"mu\": 5, \"sd\": 2},\n",
    "    {\"name\": \"spend_last_month\", \"dist\": \"uniform\", \"a\": 0, \"b\": 200},\n",
    "    {\"name\": \"premium_user\", \"dist\": \"bernoulli\", \"p\": 0.25},\n",
    "    {\"name\": \"urban_resident\", \"dist\": \"bernoulli\", \"p\": 0.60},\n",
    "]\n",
    "\n",
    "# Causal effect and noise\n",
    "theta = 1.8  # ATE: +1.8 ARPU units if new_feature = 1\n",
    "sigma_y = 3.5  # ARPU noise std\n",
    "target_t_rate = 0.35  # ~35% treated\n",
    "\n",
    "# Effects of confounders on ARPU (baseline, additive)\n",
    "# Order: tenure_months, avg_sessions_week, spend_last_month, premium_user, urban_resident\n",
    "beta_y = np.array([\n",
    "    0.05,  # tenure_months: small positive effect\n",
    "    0.40,  # avg_sessions_week: strong positive effect\n",
    "    0.02,  # spend_last_month: recent spend correlates with ARPU\n",
    "    2.00,  # premium_user: premium users have higher ARPU\n",
    "    1.00,  # urban_resident: urban users slightly higher ARPU\n",
    "], dtype=float)\n",
    "\n",
    "# Effects of confounders on treatment assignment (log-odds scale)\n",
    "beta_t = np.array([\n",
    "    0.015,  # tenure_months\n",
    "    0.10,  # avg_sessions_week\n",
    "    0.002,  # spend_last_month\n",
    "    0.75,  # premium_user\n",
    "    0.30,  # urban_resident: more likely to get the feature\n",
    "], dtype=float)\n",
    "\n",
    "gen = CausalDatasetGenerator(\n",
    "    theta=theta,\n",
    "    outcome_type=\"continuous\",\n",
    "    sigma_y=sigma_y,\n",
    "    target_t_rate=target_t_rate,\n",
    "    seed=42,\n",
    "    confounder_specs=confounder_specs,\n",
    "    beta_y=beta_y,\n",
    "    beta_t=beta_t,\n",
    ")\n",
    "\n",
    "\n",
    "# Create dataset\n",
    "causal_data = gen.to_causal_data(\n",
    "    n=10000,\n",
    "    confounders = [\n",
    "    \"tenure_months\",\n",
    "    \"avg_sessions_week\",\n",
    "    \"spend_last_month\",\n",
    "    \"premium_user\",\n",
    "    \"urban_resident\",\n",
    "]\n",
    ")\n",
    "\n",
    "# Show first few rows\n",
    "causal_data.df.head()\n"
   ]
  },
  {
   "cell_type": "markdown",
   "id": "5e37434a3725215a",
   "metadata": {},
   "source": [
    "## EDA\n"
   ]
  },
  {
   "cell_type": "code",
   "execution_count": 2,
   "id": "afd5e60494139b52",
   "metadata": {
    "ExecuteTime": {
     "end_time": "2025-08-19T11:47:11.695990Z",
     "start_time": "2025-08-19T11:47:11.693363Z"
    }
   },
   "outputs": [],
   "source": [
    "from causalkit.eda import CausalEDA\n",
    "eda = CausalEDA(causal_data)"
   ]
  },
  {
   "cell_type": "markdown",
   "id": "d1f80850070fb4bb",
   "metadata": {},
   "source": [
    "### General dataset information"
   ]
  },
  {
   "cell_type": "markdown",
   "id": "66de925679dca11",
   "metadata": {},
   "source": [
    "Let's see how outcome differ between clients who recieved the feature and didn't"
   ]
  },
  {
   "cell_type": "code",
   "execution_count": 3,
   "id": "42b71d7670c08369",
   "metadata": {
    "ExecuteTime": {
     "end_time": "2025-08-19T11:47:11.732476Z",
     "start_time": "2025-08-19T11:47:11.730175Z"
    }
   },
   "outputs": [
    {
     "data": {
      "text/plain": [
       "{'n_rows': 10000, 'n_columns': 7}"
      ]
     },
     "execution_count": 3,
     "metadata": {},
     "output_type": "execute_result"
    }
   ],
   "source": [
    "# shape of data\n",
    "eda.data_shape()"
   ]
  },
  {
   "cell_type": "code",
   "execution_count": 4,
   "id": "fddea7b8fd105fd6",
   "metadata": {
    "ExecuteTime": {
     "end_time": "2025-08-19T11:47:11.756248Z",
     "start_time": "2025-08-19T11:47:11.747230Z"
    }
   },
   "outputs": [
    {
     "data": {
      "text/html": [
       "<div>\n",
       "<style scoped>\n",
       "    .dataframe tbody tr th:only-of-type {\n",
       "        vertical-align: middle;\n",
       "    }\n",
       "\n",
       "    .dataframe tbody tr th {\n",
       "        vertical-align: top;\n",
       "    }\n",
       "\n",
       "    .dataframe thead th {\n",
       "        text-align: right;\n",
       "    }\n",
       "</style>\n",
       "<table border=\"1\" class=\"dataframe\">\n",
       "  <thead>\n",
       "    <tr style=\"text-align: right;\">\n",
       "      <th></th>\n",
       "      <th>count</th>\n",
       "      <th>mean</th>\n",
       "      <th>std</th>\n",
       "      <th>min</th>\n",
       "      <th>p10</th>\n",
       "      <th>p25</th>\n",
       "      <th>median</th>\n",
       "      <th>p75</th>\n",
       "      <th>p90</th>\n",
       "      <th>max</th>\n",
       "    </tr>\n",
       "    <tr>\n",
       "      <th>treatment</th>\n",
       "      <th></th>\n",
       "      <th></th>\n",
       "      <th></th>\n",
       "      <th></th>\n",
       "      <th></th>\n",
       "      <th></th>\n",
       "      <th></th>\n",
       "      <th></th>\n",
       "      <th></th>\n",
       "      <th></th>\n",
       "    </tr>\n",
       "  </thead>\n",
       "  <tbody>\n",
       "    <tr>\n",
       "      <th>0.0</th>\n",
       "      <td>6519</td>\n",
       "      <td>6.011340</td>\n",
       "      <td>3.925893</td>\n",
       "      <td>-9.866447</td>\n",
       "      <td>1.012888</td>\n",
       "      <td>3.426894</td>\n",
       "      <td>6.030504</td>\n",
       "      <td>8.676781</td>\n",
       "      <td>10.952265</td>\n",
       "      <td>20.770359</td>\n",
       "    </tr>\n",
       "    <tr>\n",
       "      <th>1.0</th>\n",
       "      <td>3481</td>\n",
       "      <td>8.553615</td>\n",
       "      <td>3.934260</td>\n",
       "      <td>-5.507710</td>\n",
       "      <td>3.525225</td>\n",
       "      <td>5.909860</td>\n",
       "      <td>8.566860</td>\n",
       "      <td>11.216054</td>\n",
       "      <td>13.602967</td>\n",
       "      <td>21.377687</td>\n",
       "    </tr>\n",
       "  </tbody>\n",
       "</table>\n",
       "</div>"
      ],
      "text/plain": [
       "           count      mean       std       min       p10       p25    median  \\\n",
       "treatment                                                                      \n",
       "0.0         6519  6.011340  3.925893 -9.866447  1.012888  3.426894  6.030504   \n",
       "1.0         3481  8.553615  3.934260 -5.507710  3.525225  5.909860  8.566860   \n",
       "\n",
       "                 p75        p90        max  \n",
       "treatment                                   \n",
       "0.0         8.676781  10.952265  20.770359  \n",
       "1.0        11.216054  13.602967  21.377687  "
      ]
     },
     "execution_count": 4,
     "metadata": {},
     "output_type": "execute_result"
    }
   ],
   "source": [
    "# 1) Outcome statistics by treatment\n",
    "eda.outcome_stats()"
   ]
  },
  {
   "cell_type": "code",
   "execution_count": 5,
   "id": "880b0a5072b4df9b",
   "metadata": {
    "ExecuteTime": {
     "end_time": "2025-08-19T11:47:11.863339Z",
     "start_time": "2025-08-19T11:47:11.780420Z"
    }
   },
   "outputs": [
    {
     "data": {
      "image/png": "[encoded data removed]",
      "text/plain": [
       "<Figure size 700x400 with 1 Axes>"
      ]
     },
     "metadata": {},
     "output_type": "display_data"
    },
    {
     "data": {
      "image/png": "[encoded data removed]",
      "text/plain": [
       "<Figure size 700x400 with 1 Axes>"
      ]
     },
     "metadata": {},
     "output_type": "display_data"
    }
   ],
   "source": [
    "# 2) Outcome distribution by treatment (hist + boxplot)\n",
    "fig1, fig2 = eda.outcome_plots()\n",
    "plt.show()"
   ]
  },
  {
   "cell_type": "markdown",
   "id": "f2e00d21f202152e",
   "metadata": {},
   "source": [
    "### Propensity"
   ]
  },
  {
   "cell_type": "markdown",
   "id": "a78d91cc3631f5ec",
   "metadata": {},
   "source": [
    "Now let's examine how propensity score differ treatments"
   ]
  },
  {
   "cell_type": "code",
   "execution_count": 6,
   "id": "370ce9b4dfabf136",
   "metadata": {
    "ExecuteTime": {
     "end_time": "2025-08-19T11:47:12.040249Z",
     "start_time": "2025-08-19T11:47:12.032029Z"
    }
   },
   "outputs": [
    {
     "data": {
      "text/html": [
       "<div>\n",
       "<style scoped>\n",
       "    .dataframe tbody tr th:only-of-type {\n",
       "        vertical-align: middle;\n",
       "    }\n",
       "\n",
       "    .dataframe tbody tr th {\n",
       "        vertical-align: top;\n",
       "    }\n",
       "\n",
       "    .dataframe thead th {\n",
       "        text-align: right;\n",
       "    }\n",
       "</style>\n",
       "<table border=\"1\" class=\"dataframe\">\n",
       "  <thead>\n",
       "    <tr style=\"text-align: right;\">\n",
       "      <th></th>\n",
       "      <th>mean_t_0</th>\n",
       "      <th>mean_t_1</th>\n",
       "      <th>abs_diff</th>\n",
       "      <th>smd</th>\n",
       "    </tr>\n",
       "    <tr>\n",
       "      <th>confounders</th>\n",
       "      <th></th>\n",
       "      <th></th>\n",
       "      <th></th>\n",
       "      <th></th>\n",
       "    </tr>\n",
       "  </thead>\n",
       "  <tbody>\n",
       "    <tr>\n",
       "      <th>premium_user</th>\n",
       "      <td>0.198343</td>\n",
       "      <td>0.347889</td>\n",
       "      <td>0.149545</td>\n",
       "      <td>0.340423</td>\n",
       "    </tr>\n",
       "    <tr>\n",
       "      <th>avg_sessions_week</th>\n",
       "      <td>4.905841</td>\n",
       "      <td>5.293265</td>\n",
       "      <td>0.387423</td>\n",
       "      <td>0.193959</td>\n",
       "    </tr>\n",
       "    <tr>\n",
       "      <th>tenure_months</th>\n",
       "      <td>23.170108</td>\n",
       "      <td>25.200827</td>\n",
       "      <td>2.030718</td>\n",
       "      <td>0.168676</td>\n",
       "    </tr>\n",
       "    <tr>\n",
       "      <th>urban_resident</th>\n",
       "      <td>0.578003</td>\n",
       "      <td>0.643781</td>\n",
       "      <td>0.065778</td>\n",
       "      <td>0.135209</td>\n",
       "    </tr>\n",
       "    <tr>\n",
       "      <th>spend_last_month</th>\n",
       "      <td>97.801230</td>\n",
       "      <td>105.271930</td>\n",
       "      <td>7.470700</td>\n",
       "      <td>0.129267</td>\n",
       "    </tr>\n",
       "  </tbody>\n",
       "</table>\n",
       "</div>"
      ],
      "text/plain": [
       "                    mean_t_0    mean_t_1  abs_diff       smd\n",
       "confounders                                                 \n",
       "premium_user        0.198343    0.347889  0.149545  0.340423\n",
       "avg_sessions_week   4.905841    5.293265  0.387423  0.193959\n",
       "tenure_months      23.170108   25.200827  2.030718  0.168676\n",
       "urban_resident      0.578003    0.643781  0.065778  0.135209\n",
       "spend_last_month   97.801230  105.271930  7.470700  0.129267"
      ]
     },
     "metadata": {},
     "output_type": "display_data"
    }
   ],
   "source": [
    "# Shows means of confounders for control/treated groups, absolute differences, and SMD values\n",
    "confounders_balance_df = eda.confounders_means()\n",
    "display(confounders_balance_df)"
   ]
  },
  {
   "cell_type": "code",
   "execution_count": 7,
   "id": "9d12d18188019d24",
   "metadata": {
    "ExecuteTime": {
     "end_time": "2025-08-19T11:47:19.321082Z",
     "start_time": "2025-08-19T11:47:12.073079Z"
    }
   },
   "outputs": [
    {
     "name": "stdout",
     "output_type": "stream",
     "text": [
      "ROC AUC from PropensityModel: 0.6053\n"
     ]
    }
   ],
   "source": [
    "# Propensity model fit\n",
    "ps_model = eda.fit_propensity()\n",
    "\n",
    "# ROC AUC - shows how predictable treatment is from confounders\n",
    "roc_auc_score = ps_model.roc_auc\n",
    "print(\"ROC AUC from PropensityModel:\", round(roc_auc_score, 4))"
   ]
  },
  {
   "cell_type": "code",
   "execution_count": 8,
   "id": "b948200cd0706386",
   "metadata": {
    "ExecuteTime": {
     "end_time": "2025-08-19T11:47:19.345550Z",
     "start_time": "2025-08-19T11:47:19.343932Z"
    }
   },
   "outputs": [
    {
     "name": "stdout",
     "output_type": "stream",
     "text": [
      "Positivity check from PropensityModel: {'bounds': (0.05, 0.95), 'share_below': 0.0008, 'share_above': 0.0, 'flag': False}\n"
     ]
    }
   ],
   "source": [
    "# Positivity check - assess overlap between treatment groups\n",
    "positivity_result = ps_model.positivity_check()\n",
    "print(\"Positivity check from PropensityModel:\", positivity_result)"
   ]
  },
  {
   "cell_type": "code",
   "execution_count": 9,
   "id": "202c3d1c408815f9",
   "metadata": {
    "ExecuteTime": {
     "end_time": "2025-08-19T11:47:19.600168Z",
     "start_time": "2025-08-19T11:47:19.356972Z"
    }
   },
   "outputs": [
    {
     "data": {
      "text/html": [
       "<div>\n",
       "<style scoped>\n",
       "    .dataframe tbody tr th:only-of-type {\n",
       "        vertical-align: middle;\n",
       "    }\n",
       "\n",
       "    .dataframe tbody tr th {\n",
       "        vertical-align: top;\n",
       "    }\n",
       "\n",
       "    .dataframe thead th {\n",
       "        text-align: right;\n",
       "    }\n",
       "</style>\n",
       "<table border=\"1\" class=\"dataframe\">\n",
       "  <thead>\n",
       "    <tr style=\"text-align: right;\">\n",
       "      <th></th>\n",
       "      <th>feature</th>\n",
       "      <th>shap_mean</th>\n",
       "    </tr>\n",
       "  </thead>\n",
       "  <tbody>\n",
       "    <tr>\n",
       "      <th>0</th>\n",
       "      <td>spend_last_month</td>\n",
       "      <td>-0.000322</td>\n",
       "    </tr>\n",
       "    <tr>\n",
       "      <th>1</th>\n",
       "      <td>tenure_months</td>\n",
       "      <td>0.000140</td>\n",
       "    </tr>\n",
       "    <tr>\n",
       "      <th>2</th>\n",
       "      <td>avg_sessions_week</td>\n",
       "      <td>0.000122</td>\n",
       "    </tr>\n",
       "    <tr>\n",
       "      <th>3</th>\n",
       "      <td>premium_user</td>\n",
       "      <td>0.000052</td>\n",
       "    </tr>\n",
       "    <tr>\n",
       "      <th>4</th>\n",
       "      <td>urban_resident</td>\n",
       "      <td>0.000008</td>\n",
       "    </tr>\n",
       "  </tbody>\n",
       "</table>\n",
       "</div>"
      ],
      "text/plain": [
       "             feature  shap_mean\n",
       "0   spend_last_month  -0.000322\n",
       "1      tenure_months   0.000140\n",
       "2  avg_sessions_week   0.000122\n",
       "3       premium_user   0.000052\n",
       "4     urban_resident   0.000008"
      ]
     },
     "metadata": {},
     "output_type": "display_data"
    }
   ],
   "source": [
    "# SHAP values - feature importance for treatment assignment from confounders\n",
    "shap_values_df = ps_model.shap\n",
    "display(shap_values_df)"
   ]
  },
  {
   "cell_type": "code",
   "execution_count": 10,
   "id": "616d19bd7a413a6a",
   "metadata": {
    "ExecuteTime": {
     "end_time": "2025-08-19T11:47:19.663294Z",
     "start_time": "2025-08-19T11:47:19.603868Z"
    }
   },
   "outputs": [
    {
     "data": {
      "image/png": "[encoded data removed]",
      "text/plain": [
       "<Figure size 640x480 with 1 Axes>"
      ]
     },
     "metadata": {},
     "output_type": "display_data"
    }
   ],
   "source": [
    "# Propensity score overlap graph\n",
    "ps_model.ps_graph()\n",
    "plt.show()"
   ]
  },
  {
   "cell_type": "markdown",
   "id": "735d2a5a60aa75be",
   "metadata": {},
   "source": [
    "### Outcome regression"
   ]
  },
  {
   "cell_type": "markdown",
   "id": "1c571739abf58410",
   "metadata": {},
   "source": [
    "Let's analyze how confounders predict outcome"
   ]
  },
  {
   "cell_type": "code",
   "execution_count": 11,
   "id": "552711b4aaa3715f",
   "metadata": {
    "ExecuteTime": {
     "end_time": "2025-08-19T11:47:23.524827Z",
     "start_time": "2025-08-19T11:47:19.675942Z"
    }
   },
   "outputs": [
    {
     "name": "stdout",
     "output_type": "stream",
     "text": [
      "{'rmse': 3.6896558290948964, 'mae': 2.94099663606919}\n"
     ]
    }
   ],
   "source": [
    "# Outcome model fit\n",
    "outcome_model = eda.outcome_fit()\n",
    "\n",
    "# RMSE and MAE of regression model\n",
    "print(outcome_model.scores)"
   ]
  },
  {
   "cell_type": "code",
   "execution_count": 12,
   "id": "bd8d22d9892b05bc",
   "metadata": {
    "ExecuteTime": {
     "end_time": "2025-08-19T11:47:23.774361Z",
     "start_time": "2025-08-19T11:47:23.543923Z"
    }
   },
   "outputs": [
    {
     "data": {
      "text/html": [
       "<div>\n",
       "<style scoped>\n",
       "    .dataframe tbody tr th:only-of-type {\n",
       "        vertical-align: middle;\n",
       "    }\n",
       "\n",
       "    .dataframe tbody tr th {\n",
       "        vertical-align: top;\n",
       "    }\n",
       "\n",
       "    .dataframe thead th {\n",
       "        text-align: right;\n",
       "    }\n",
       "</style>\n",
       "<table border=\"1\" class=\"dataframe\">\n",
       "  <thead>\n",
       "    <tr style=\"text-align: right;\">\n",
       "      <th></th>\n",
       "      <th>feature</th>\n",
       "      <th>shap_mean</th>\n",
       "    </tr>\n",
       "  </thead>\n",
       "  <tbody>\n",
       "    <tr>\n",
       "      <th>0</th>\n",
       "      <td>spend_last_month</td>\n",
       "      <td>0.002252</td>\n",
       "    </tr>\n",
       "    <tr>\n",
       "      <th>1</th>\n",
       "      <td>tenure_months</td>\n",
       "      <td>-0.001747</td>\n",
       "    </tr>\n",
       "    <tr>\n",
       "      <th>2</th>\n",
       "      <td>avg_sessions_week</td>\n",
       "      <td>-0.000951</td>\n",
       "    </tr>\n",
       "    <tr>\n",
       "      <th>3</th>\n",
       "      <td>premium_user</td>\n",
       "      <td>0.000729</td>\n",
       "    </tr>\n",
       "    <tr>\n",
       "      <th>4</th>\n",
       "      <td>urban_resident</td>\n",
       "      <td>-0.000282</td>\n",
       "    </tr>\n",
       "  </tbody>\n",
       "</table>\n",
       "</div>"
      ],
      "text/plain": [
       "             feature  shap_mean\n",
       "0   spend_last_month   0.002252\n",
       "1      tenure_months  -0.001747\n",
       "2  avg_sessions_week  -0.000951\n",
       "3       premium_user   0.000729\n",
       "4     urban_resident  -0.000282"
      ]
     },
     "metadata": {},
     "output_type": "display_data"
    }
   ],
   "source": [
    "# 2) SHAP values - feature importance for outcome prediction from confounders\n",
    "shap_outcome_df = outcome_model.shap\n",
    "display(shap_outcome_df)"
   ]
  },
  {
   "cell_type": "markdown",
   "id": "6bb04960515eddb9",
   "metadata": {},
   "source": [
    "## Inference"
   ]
  },
  {
   "cell_type": "markdown",
   "id": "367bb171ed234d43",
   "metadata": {},
   "source": [
    "Now time to estimate ATE with Double Machine Learning"
   ]
  },
  {
   "cell_type": "code",
   "execution_count": 13,
   "id": "1903be665fae92e5",
   "metadata": {
    "ExecuteTime": {
     "end_time": "2025-08-19T11:47:24.227066Z",
     "start_time": "2025-08-19T11:47:23.793802Z"
    }
   },
   "outputs": [],
   "source": [
    "from causalkit.inference.ate import dml_ate_source\n",
    "\n",
    "# Estimate Average Treatment Effect (ATE)\n",
    "ate_result = dml_ate_source(causal_data, n_folds=3, confidence_level=0.95)"
   ]
  },
  {
   "cell_type": "code",
   "execution_count": 14,
   "id": "c6d73ec082c0aa5b",
   "metadata": {
    "ExecuteTime": {
     "end_time": "2025-08-19T11:47:24.232838Z",
     "start_time": "2025-08-19T11:47:24.230609Z"
    }
   },
   "outputs": [
    {
     "data": {
      "text/plain": [
       "{'coefficient': 1.7547754158492368,\n",
       " 'std_error': 0.08120639822820347,\n",
       " 'p_value': 1.4835396169728733e-103,\n",
       " 'confidence_interval': (1.5956138000077407, 1.913937031690733),\n",
       " 'model': <doubleml.irm.irm.DoubleMLIRM at 0x15fd10830>}"
      ]
     },
     "execution_count": 14,
     "metadata": {},
     "output_type": "execute_result"
    }
   ],
   "source": [
    "ate_result"
   ]
  },
  {
   "cell_type": "markdown",
   "id": "85a4433c8568bda8",
   "metadata": {},
   "source": [
    "True theta in our data generating proccess was 1.8"
   ]
  },
  {
   "cell_type": "markdown",
   "id": "d480fb40315a1482",
   "metadata": {},
   "source": [
    "## Refutation"
   ]
  },
  {
   "cell_type": "markdown",
   "id": "877fc216ed737d60",
   "metadata": {},
   "source": [
    "### Placebo"
   ]
  },
  {
   "cell_type": "code",
   "execution_count": 15,
   "id": "b1ea9f3ac405ad32",
   "metadata": {
    "ExecuteTime": {
     "end_time": "2025-08-19T11:47:24.240128Z",
     "start_time": "2025-08-19T11:47:24.238665Z"
    }
   },
   "outputs": [],
   "source": [
    "# Import refutation utilities\n",
    "from causalkit.refutation import (\n",
    "    refute_placebo_outcome,\n",
    "    refute_placebo_treatment,\n",
    "    refute_subset,\n",
    "    refute_irm_orthogonality,\n",
    "    sensitivity_analysis,\n",
    "    sensitivity_analysis_set\n",
    ")"
   ]
  },
  {
   "cell_type": "markdown",
   "id": "85c161d53ff775bd",
   "metadata": {},
   "source": [
    "Replacing outcome with dummy random variable must broke our model and effect will be near zero"
   ]
  },
  {
   "cell_type": "code",
   "execution_count": 16,
   "id": "eb5f75c616754927",
   "metadata": {
    "ExecuteTime": {
     "end_time": "2025-08-19T11:47:24.989038Z",
     "start_time": "2025-08-19T11:47:24.247112Z"
    }
   },
   "outputs": [
    {
     "name": "stdout",
     "output_type": "stream",
     "text": [
      "{'theta': 0.0010896926888271316, 'p_value': 0.863664499475262}\n"
     ]
    }
   ],
   "source": [
    "# Replacing outcome with placebo\n",
    "ate_placebo_outcome = refute_placebo_outcome(\n",
    "    dml_ate_source,\n",
    "    causal_data,\n",
    "    random_state=42\n",
    ")\n",
    "\n",
    "print(ate_placebo_outcome)"
   ]
  },
  {
   "cell_type": "markdown",
   "id": "c06981ea9dc7f54e",
   "metadata": {},
   "source": [
    "Replacing treatment with dummy random variable must broke our model and effect will be near zero"
   ]
  },
  {
   "cell_type": "code",
   "execution_count": 17,
   "id": "fcde73df6227ef75",
   "metadata": {
    "ExecuteTime": {
     "end_time": "2025-08-19T11:47:25.729573Z",
     "start_time": "2025-08-19T11:47:24.997056Z"
    }
   },
   "outputs": [
    {
     "name": "stdout",
     "output_type": "stream",
     "text": [
      "{'theta': 0.05021278313460212, 'p_value': 0.5290821466624945}\n"
     ]
    }
   ],
   "source": [
    "# Replacing treatment with placebo\n",
    "ate_placebo_treatment = refute_placebo_treatment(\n",
    "    dml_ate_source,\n",
    "    causal_data,\n",
    "    random_state=42\n",
    ")\n",
    "\n",
    "print(ate_placebo_treatment)"
   ]
  },
  {
   "cell_type": "markdown",
   "id": "cc11ea49bf9a6a2e",
   "metadata": {},
   "source": [
    "Let's chanllege our dataset and romove random parts. Theta shoul be near estimated"
   ]
  },
  {
   "cell_type": "code",
   "execution_count": 18,
   "id": "a86c91985b29fa57",
   "metadata": {
    "ExecuteTime": {
     "end_time": "2025-08-19T11:47:26.662858Z",
     "start_time": "2025-08-19T11:47:25.736925Z"
    }
   },
   "outputs": [
    {
     "name": "stdout",
     "output_type": "stream",
     "text": [
      " With 30% subset: theta = 1.5725, p_value = 0.0000\n"
     ]
    },
    {
     "name": "stdout",
     "output_type": "stream",
     "text": [
      " With 50% subset: theta = 1.8468, p_value = 0.0000\n"
     ]
    }
   ],
   "source": [
    "# Inference on subsets\n",
    "subset_fractions = [0.3, 0.5]\n",
    "\n",
    "ate_subset_results = []\n",
    "for fraction in subset_fractions:\n",
    "    subset_result = refute_subset(\n",
    "        dml_ate_source,\n",
    "        causal_data,\n",
    "        fraction=fraction,\n",
    "        random_state=42\n",
    "    )\n",
    "    ate_subset_results.append(subset_result)\n",
    "\n",
    "    print(f\" With {fraction*100:.0f}% subset: theta = {subset_result['theta']:.4f}, p_value = {subset_result['p_value']:.4f}\")"
   ]
  },
  {
   "cell_type": "markdown",
   "id": "ed99ad9cc9dd62c3",
   "metadata": {},
   "source": [
    "### Orthogonality"
   ]
  },
  {
   "cell_type": "markdown",
   "id": "bca9e96235df6df0",
   "metadata": {},
   "source": [
    "Orthogonality tests show us \"Does we correct specify the model\""
   ]
  },
  {
   "cell_type": "code",
   "execution_count": 19,
   "id": "5fa72cf706438ad1",
   "metadata": {
    "ExecuteTime": {
     "end_time": "2025-08-19T11:47:30.727338Z",
     "start_time": "2025-08-19T11:47:26.675137Z"
    }
   },
   "outputs": [],
   "source": "ate_ortho_check = refute_irm_orthogonality(dml_ate_source, causal_data)"
  },
  {
   "cell_type": "code",
   "execution_count": 20,
   "id": "cc41ece52c878c30",
   "metadata": {
    "ExecuteTime": {
     "end_time": "2025-08-19T11:47:30.744933Z",
     "start_time": "2025-08-19T11:47:30.741478Z"
    }
   },
   "outputs": [
    {
     "name": "stdout",
     "output_type": "stream",
     "text": [
      "\n",
      "--- 1. Out-of-Sample Moment Check ---\n",
      "T-statistic: 0.3617\n",
      "P-value: 0.7176\n",
      "Interpretation: Should be ≈ 0 if moment condition holds\n",
      "\n",
      "Fold-wise results:\n"
     ]
    },
    {
     "data": {
      "text/html": [
       "<div>\n",
       "<style scoped>\n",
       "    .dataframe tbody tr th:only-of-type {\n",
       "        vertical-align: middle;\n",
       "    }\n",
       "\n",
       "    .dataframe tbody tr th {\n",
       "        vertical-align: top;\n",
       "    }\n",
       "\n",
       "    .dataframe thead th {\n",
       "        text-align: right;\n",
       "    }\n",
       "</style>\n",
       "<table border=\"1\" class=\"dataframe\">\n",
       "  <thead>\n",
       "    <tr style=\"text-align: right;\">\n",
       "      <th></th>\n",
       "      <th>fold</th>\n",
       "      <th>n</th>\n",
       "      <th>psi_mean</th>\n",
       "      <th>psi_var</th>\n",
       "    </tr>\n",
       "  </thead>\n",
       "  <tbody>\n",
       "    <tr>\n",
       "      <th>0</th>\n",
       "      <td>0</td>\n",
       "      <td>2000</td>\n",
       "      <td>0.142070</td>\n",
       "      <td>64.367381</td>\n",
       "    </tr>\n",
       "    <tr>\n",
       "      <th>1</th>\n",
       "      <td>1</td>\n",
       "      <td>2000</td>\n",
       "      <td>0.114837</td>\n",
       "      <td>71.748247</td>\n",
       "    </tr>\n",
       "    <tr>\n",
       "      <th>2</th>\n",
       "      <td>2</td>\n",
       "      <td>2000</td>\n",
       "      <td>0.106751</td>\n",
       "      <td>65.548761</td>\n",
       "    </tr>\n",
       "    <tr>\n",
       "      <th>3</th>\n",
       "      <td>3</td>\n",
       "      <td>2000</td>\n",
       "      <td>0.091285</td>\n",
       "      <td>62.569903</td>\n",
       "    </tr>\n",
       "    <tr>\n",
       "      <th>4</th>\n",
       "      <td>4</td>\n",
       "      <td>2000</td>\n",
       "      <td>-0.307471</td>\n",
       "      <td>68.208318</td>\n",
       "    </tr>\n",
       "  </tbody>\n",
       "</table>\n",
       "</div>"
      ],
      "text/plain": [
       "   fold     n  psi_mean    psi_var\n",
       "0     0  2000  0.142070  64.367381\n",
       "1     1  2000  0.114837  71.748247\n",
       "2     2  2000  0.106751  65.548761\n",
       "3     3  2000  0.091285  62.569903\n",
       "4     4  2000 -0.307471  68.208318"
      ]
     },
     "metadata": {},
     "output_type": "display_data"
    }
   ],
   "source": [
    "# 1. Out-of-sample moment check\n",
    "print(\"\\n--- 1. Out-of-Sample Moment Check ---\")\n",
    "oos_test = ate_ortho_check['oos_moment_test']\n",
    "print(f\"T-statistic: {oos_test['tstat']:.4f}\")\n",
    "print(f\"P-value: {oos_test['pvalue']:.4f}\")\n",
    "print(f\"Interpretation: {oos_test['interpretation']}\")\n",
    "print(\"\\nFold-wise results:\")\n",
    "display(oos_test['fold_results'])\n"
   ]
  },
  {
   "cell_type": "markdown",
   "id": "4c0226b06868daf5",
   "metadata": {},
   "source": [
    "psi_mean is near zero on every fold, so the test is successful"
   ]
  },
  {
   "cell_type": "code",
   "execution_count": 21,
   "id": "475f3800d2c20a2c",
   "metadata": {
    "ExecuteTime": {
     "end_time": "2025-08-19T11:47:30.770747Z",
     "start_time": "2025-08-19T11:47:30.763397Z"
    }
   },
   "outputs": [
    {
     "name": "stdout",
     "output_type": "stream",
     "text": [
      "\n",
      "--- 2. Orthogonality (Gateaux Derivative) Tests ---\n",
      "Interpretation: Large |t-stats| (>2) indicate calibration issues\n",
      "\n",
      "Full sample derivatives:\n"
     ]
    },
    {
     "data": {
      "text/html": [
       "<div>\n",
       "<style scoped>\n",
       "    .dataframe tbody tr th:only-of-type {\n",
       "        vertical-align: middle;\n",
       "    }\n",
       "\n",
       "    .dataframe tbody tr th {\n",
       "        vertical-align: top;\n",
       "    }\n",
       "\n",
       "    .dataframe thead th {\n",
       "        text-align: right;\n",
       "    }\n",
       "</style>\n",
       "<table border=\"1\" class=\"dataframe\">\n",
       "  <thead>\n",
       "    <tr style=\"text-align: right;\">\n",
       "      <th></th>\n",
       "      <th>basis</th>\n",
       "      <th>d_m1</th>\n",
       "      <th>se_m1</th>\n",
       "      <th>t_m1</th>\n",
       "      <th>d_m0</th>\n",
       "      <th>se_m0</th>\n",
       "      <th>t_m0</th>\n",
       "      <th>d_g</th>\n",
       "      <th>se_g</th>\n",
       "      <th>t_g</th>\n",
       "    </tr>\n",
       "  </thead>\n",
       "  <tbody>\n",
       "    <tr>\n",
       "      <th>0</th>\n",
       "      <td>0</td>\n",
       "      <td>-0.027778</td>\n",
       "      <td>0.015464</td>\n",
       "      <td>-1.796300</td>\n",
       "      <td>0.009315</td>\n",
       "      <td>0.007849</td>\n",
       "      <td>1.186833</td>\n",
       "      <td>-0.103516</td>\n",
       "      <td>0.296654</td>\n",
       "      <td>-0.348945</td>\n",
       "    </tr>\n",
       "    <tr>\n",
       "      <th>1</th>\n",
       "      <td>1</td>\n",
       "      <td>0.005088</td>\n",
       "      <td>0.016336</td>\n",
       "      <td>0.311467</td>\n",
       "      <td>0.003259</td>\n",
       "      <td>0.008088</td>\n",
       "      <td>0.402935</td>\n",
       "      <td>0.137892</td>\n",
       "      <td>0.322104</td>\n",
       "      <td>0.428097</td>\n",
       "    </tr>\n",
       "    <tr>\n",
       "      <th>2</th>\n",
       "      <td>2</td>\n",
       "      <td>0.003129</td>\n",
       "      <td>0.016049</td>\n",
       "      <td>0.194959</td>\n",
       "      <td>0.000922</td>\n",
       "      <td>0.008162</td>\n",
       "      <td>0.112934</td>\n",
       "      <td>0.028325</td>\n",
       "      <td>0.385094</td>\n",
       "      <td>0.073553</td>\n",
       "    </tr>\n",
       "    <tr>\n",
       "      <th>3</th>\n",
       "      <td>3</td>\n",
       "      <td>-0.001588</td>\n",
       "      <td>0.014938</td>\n",
       "      <td>-0.106328</td>\n",
       "      <td>-0.000145</td>\n",
       "      <td>0.008205</td>\n",
       "      <td>-0.017732</td>\n",
       "      <td>0.021827</td>\n",
       "      <td>0.282692</td>\n",
       "      <td>0.077210</td>\n",
       "    </tr>\n",
       "    <tr>\n",
       "      <th>4</th>\n",
       "      <td>4</td>\n",
       "      <td>-0.000312</td>\n",
       "      <td>0.012767</td>\n",
       "      <td>-0.024401</td>\n",
       "      <td>0.002863</td>\n",
       "      <td>0.009497</td>\n",
       "      <td>0.301462</td>\n",
       "      <td>-0.019862</td>\n",
       "      <td>0.231095</td>\n",
       "      <td>-0.085947</td>\n",
       "    </tr>\n",
       "    <tr>\n",
       "      <th>5</th>\n",
       "      <td>5</td>\n",
       "      <td>0.000451</td>\n",
       "      <td>0.015937</td>\n",
       "      <td>0.028314</td>\n",
       "      <td>-0.001855</td>\n",
       "      <td>0.007660</td>\n",
       "      <td>-0.242168</td>\n",
       "      <td>0.138553</td>\n",
       "      <td>0.316203</td>\n",
       "      <td>0.438177</td>\n",
       "    </tr>\n",
       "  </tbody>\n",
       "</table>\n",
       "</div>"
      ],
      "text/plain": [
       "   basis      d_m1     se_m1      t_m1      d_m0     se_m0      t_m0  \\\n",
       "0      0 -0.027778  0.015464 -1.796300  0.009315  0.007849  1.186833   \n",
       "1      1  0.005088  0.016336  0.311467  0.003259  0.008088  0.402935   \n",
       "2      2  0.003129  0.016049  0.194959  0.000922  0.008162  0.112934   \n",
       "3      3 -0.001588  0.014938 -0.106328 -0.000145  0.008205 -0.017732   \n",
       "4      4 -0.000312  0.012767 -0.024401  0.002863  0.009497  0.301462   \n",
       "5      5  0.000451  0.015937  0.028314 -0.001855  0.007660 -0.242168   \n",
       "\n",
       "        d_g      se_g       t_g  \n",
       "0 -0.103516  0.296654 -0.348945  \n",
       "1  0.137892  0.322104  0.428097  \n",
       "2  0.028325  0.385094  0.073553  \n",
       "3  0.021827  0.282692  0.077210  \n",
       "4 -0.019862  0.231095 -0.085947  \n",
       "5  0.138553  0.316203  0.438177  "
      ]
     },
     "metadata": {},
     "output_type": "display_data"
    },
    {
     "name": "stdout",
     "output_type": "stream",
     "text": [
      "\n",
      "Trimmed sample derivatives:\n"
     ]
    },
    {
     "data": {
      "text/html": [
       "<div>\n",
       "<style scoped>\n",
       "    .dataframe tbody tr th:only-of-type {\n",
       "        vertical-align: middle;\n",
       "    }\n",
       "\n",
       "    .dataframe tbody tr th {\n",
       "        vertical-align: top;\n",
       "    }\n",
       "\n",
       "    .dataframe thead th {\n",
       "        text-align: right;\n",
       "    }\n",
       "</style>\n",
       "<table border=\"1\" class=\"dataframe\">\n",
       "  <thead>\n",
       "    <tr style=\"text-align: right;\">\n",
       "      <th></th>\n",
       "      <th>basis</th>\n",
       "      <th>d_m1</th>\n",
       "      <th>se_m1</th>\n",
       "      <th>t_m1</th>\n",
       "      <th>d_m0</th>\n",
       "      <th>se_m0</th>\n",
       "      <th>t_m0</th>\n",
       "      <th>d_g</th>\n",
       "      <th>se_g</th>\n",
       "      <th>t_g</th>\n",
       "    </tr>\n",
       "  </thead>\n",
       "  <tbody>\n",
       "    <tr>\n",
       "      <th>0</th>\n",
       "      <td>0</td>\n",
       "      <td>-0.027778</td>\n",
       "      <td>0.015464</td>\n",
       "      <td>-1.796300</td>\n",
       "      <td>0.009315</td>\n",
       "      <td>0.007849</td>\n",
       "      <td>1.186833</td>\n",
       "      <td>-0.103516</td>\n",
       "      <td>0.296654</td>\n",
       "      <td>-0.348945</td>\n",
       "    </tr>\n",
       "    <tr>\n",
       "      <th>1</th>\n",
       "      <td>1</td>\n",
       "      <td>0.005088</td>\n",
       "      <td>0.016336</td>\n",
       "      <td>0.311467</td>\n",
       "      <td>0.003259</td>\n",
       "      <td>0.008088</td>\n",
       "      <td>0.402935</td>\n",
       "      <td>0.137892</td>\n",
       "      <td>0.322104</td>\n",
       "      <td>0.428097</td>\n",
       "    </tr>\n",
       "    <tr>\n",
       "      <th>2</th>\n",
       "      <td>2</td>\n",
       "      <td>0.003129</td>\n",
       "      <td>0.016049</td>\n",
       "      <td>0.194959</td>\n",
       "      <td>0.000922</td>\n",
       "      <td>0.008162</td>\n",
       "      <td>0.112934</td>\n",
       "      <td>0.028325</td>\n",
       "      <td>0.385094</td>\n",
       "      <td>0.073553</td>\n",
       "    </tr>\n",
       "    <tr>\n",
       "      <th>3</th>\n",
       "      <td>3</td>\n",
       "      <td>-0.001588</td>\n",
       "      <td>0.014938</td>\n",
       "      <td>-0.106328</td>\n",
       "      <td>-0.000145</td>\n",
       "      <td>0.008205</td>\n",
       "      <td>-0.017732</td>\n",
       "      <td>0.021827</td>\n",
       "      <td>0.282692</td>\n",
       "      <td>0.077210</td>\n",
       "    </tr>\n",
       "    <tr>\n",
       "      <th>4</th>\n",
       "      <td>4</td>\n",
       "      <td>-0.000312</td>\n",
       "      <td>0.012767</td>\n",
       "      <td>-0.024401</td>\n",
       "      <td>0.002863</td>\n",
       "      <td>0.009497</td>\n",
       "      <td>0.301462</td>\n",
       "      <td>-0.019862</td>\n",
       "      <td>0.231095</td>\n",
       "      <td>-0.085947</td>\n",
       "    </tr>\n",
       "    <tr>\n",
       "      <th>5</th>\n",
       "      <td>5</td>\n",
       "      <td>0.000451</td>\n",
       "      <td>0.015937</td>\n",
       "      <td>0.028314</td>\n",
       "      <td>-0.001855</td>\n",
       "      <td>0.007660</td>\n",
       "      <td>-0.242168</td>\n",
       "      <td>0.138553</td>\n",
       "      <td>0.316203</td>\n",
       "      <td>0.438177</td>\n",
       "    </tr>\n",
       "  </tbody>\n",
       "</table>\n",
       "</div>"
      ],
      "text/plain": [
       "   basis      d_m1     se_m1      t_m1      d_m0     se_m0      t_m0  \\\n",
       "0      0 -0.027778  0.015464 -1.796300  0.009315  0.007849  1.186833   \n",
       "1      1  0.005088  0.016336  0.311467  0.003259  0.008088  0.402935   \n",
       "2      2  0.003129  0.016049  0.194959  0.000922  0.008162  0.112934   \n",
       "3      3 -0.001588  0.014938 -0.106328 -0.000145  0.008205 -0.017732   \n",
       "4      4 -0.000312  0.012767 -0.024401  0.002863  0.009497  0.301462   \n",
       "5      5  0.000451  0.015937  0.028314 -0.001855  0.007660 -0.242168   \n",
       "\n",
       "        d_g      se_g       t_g  \n",
       "0 -0.103516  0.296654 -0.348945  \n",
       "1  0.137892  0.322104  0.428097  \n",
       "2  0.028325  0.385094  0.073553  \n",
       "3  0.021827  0.282692  0.077210  \n",
       "4 -0.019862  0.231095 -0.085947  \n",
       "5  0.138553  0.316203  0.438177  "
      ]
     },
     "metadata": {},
     "output_type": "display_data"
    },
    {
     "name": "stdout",
     "output_type": "stream",
     "text": [
      "\n",
      "✓ No problematic derivatives in full sample\n",
      "\n",
      "✓ No problematic derivatives in trimmed sample\n"
     ]
    }
   ],
   "source": [
    "# 2. Orthogonality derivatives\n",
    "print(\"\\n--- 2. Orthogonality (Gateaux Derivative) Tests ---\")\n",
    "ortho_derivs = ate_ortho_check['orthogonality_derivatives']\n",
    "print(f\"Interpretation: {ortho_derivs['interpretation']}\")\n",
    "\n",
    "print(\"\\nFull sample derivatives:\")\n",
    "display(ortho_derivs['full_sample'])\n",
    "\n",
    "print(\"\\nTrimmed sample derivatives:\")\n",
    "display(ortho_derivs['trimmed_sample'])\n",
    "\n",
    "if len(ortho_derivs['problematic_full']) > 0:\n",
    "    print(\"\\n⚠ PROBLEMATIC derivatives (full sample):\")\n",
    "    display(ortho_derivs['problematic_full'])\n",
    "else:\n",
    "    print(\"\\n✓ No problematic derivatives in full sample\")\n",
    "\n",
    "if len(ortho_derivs['problematic_trimmed']) > 0:\n",
    "    print(\"\\n⚠ PROBLEMATIC derivatives (trimmed sample):\")\n",
    "    display(ortho_derivs['problematic_trimmed'])\n",
    "else:\n",
    "    print(\"\\n✓ No problematic derivatives in trimmed sample\")\n"
   ]
  },
  {
   "cell_type": "markdown",
   "id": "2916839a9728ba8",
   "metadata": {},
   "source": [
    "t_m1, t_m0, t_g should be above 2.\n",
    "Even after trimming our data t_m1, t_m0, t_g above 2 across all confounders"
   ]
  },
  {
   "cell_type": "code",
   "execution_count": 22,
   "id": "85f88b3c24cc09cd",
   "metadata": {
    "ExecuteTime": {
     "end_time": "2025-08-19T11:47:30.826208Z",
     "start_time": "2025-08-19T11:47:30.821597Z"
    }
   },
   "outputs": [
    {
     "name": "stdout",
     "output_type": "stream",
     "text": [
      "\n",
      "--- 3. Influence Diagnostics ---\n",
      "Interpretation: Heavy tails or extreme kurtosis suggest instability\n",
      "\n",
      "Full sample influence metrics:\n",
      "  Plugin SE: 0.0815\n",
      "  Kurtosis: 7.64\n",
      "  P99/Median ratio: 6.59\n",
      "\n",
      "Trimmed sample influence metrics:\n",
      "  Plugin SE: 0.0815\n",
      "  Kurtosis: 7.64\n",
      "  P99/Median ratio: 6.59\n",
      "\n",
      "Top influential observations (full sample):\n"
     ]
    },
    {
     "data": {
      "text/html": [
       "<div>\n",
       "<style scoped>\n",
       "    .dataframe tbody tr th:only-of-type {\n",
       "        vertical-align: middle;\n",
       "    }\n",
       "\n",
       "    .dataframe tbody tr th {\n",
       "        vertical-align: top;\n",
       "    }\n",
       "\n",
       "    .dataframe thead th {\n",
       "        text-align: right;\n",
       "    }\n",
       "</style>\n",
       "<table border=\"1\" class=\"dataframe\">\n",
       "  <thead>\n",
       "    <tr style=\"text-align: right;\">\n",
       "      <th></th>\n",
       "      <th>i</th>\n",
       "      <th>psi</th>\n",
       "      <th>g</th>\n",
       "      <th>res_t</th>\n",
       "      <th>res_c</th>\n",
       "    </tr>\n",
       "  </thead>\n",
       "  <tbody>\n",
       "    <tr>\n",
       "      <th>0</th>\n",
       "      <td>7299</td>\n",
       "      <td>-78.668133</td>\n",
       "      <td>0.100071</td>\n",
       "      <td>-7.970469</td>\n",
       "      <td>-0.000000</td>\n",
       "    </tr>\n",
       "    <tr>\n",
       "      <th>1</th>\n",
       "      <td>874</td>\n",
       "      <td>63.471801</td>\n",
       "      <td>0.116169</td>\n",
       "      <td>8.132480</td>\n",
       "      <td>0.000000</td>\n",
       "    </tr>\n",
       "    <tr>\n",
       "      <th>2</th>\n",
       "      <td>9405</td>\n",
       "      <td>49.195863</td>\n",
       "      <td>0.169723</td>\n",
       "      <td>8.457407</td>\n",
       "      <td>0.000000</td>\n",
       "    </tr>\n",
       "    <tr>\n",
       "      <th>3</th>\n",
       "      <td>9116</td>\n",
       "      <td>-46.282651</td>\n",
       "      <td>0.164969</td>\n",
       "      <td>-7.989467</td>\n",
       "      <td>-0.000000</td>\n",
       "    </tr>\n",
       "    <tr>\n",
       "      <th>4</th>\n",
       "      <td>294</td>\n",
       "      <td>-44.627395</td>\n",
       "      <td>0.213603</td>\n",
       "      <td>-9.570962</td>\n",
       "      <td>-0.000000</td>\n",
       "    </tr>\n",
       "    <tr>\n",
       "      <th>5</th>\n",
       "      <td>7634</td>\n",
       "      <td>44.388611</td>\n",
       "      <td>0.742768</td>\n",
       "      <td>-0.000000</td>\n",
       "      <td>-12.113462</td>\n",
       "    </tr>\n",
       "    <tr>\n",
       "      <th>6</th>\n",
       "      <td>8409</td>\n",
       "      <td>44.028348</td>\n",
       "      <td>0.284715</td>\n",
       "      <td>12.696785</td>\n",
       "      <td>0.000000</td>\n",
       "    </tr>\n",
       "    <tr>\n",
       "      <th>7</th>\n",
       "      <td>5821</td>\n",
       "      <td>-43.885460</td>\n",
       "      <td>0.153316</td>\n",
       "      <td>-6.377281</td>\n",
       "      <td>-0.000000</td>\n",
       "    </tr>\n",
       "    <tr>\n",
       "      <th>8</th>\n",
       "      <td>8085</td>\n",
       "      <td>-43.798883</td>\n",
       "      <td>0.247829</td>\n",
       "      <td>-11.536566</td>\n",
       "      <td>-0.000000</td>\n",
       "    </tr>\n",
       "    <tr>\n",
       "      <th>9</th>\n",
       "      <td>731</td>\n",
       "      <td>43.545110</td>\n",
       "      <td>0.165439</td>\n",
       "      <td>6.820135</td>\n",
       "      <td>0.000000</td>\n",
       "    </tr>\n",
       "  </tbody>\n",
       "</table>\n",
       "</div>"
      ],
      "text/plain": [
       "      i        psi         g      res_t      res_c\n",
       "0  7299 -78.668133  0.100071  -7.970469  -0.000000\n",
       "1   874  63.471801  0.116169   8.132480   0.000000\n",
       "2  9405  49.195863  0.169723   8.457407   0.000000\n",
       "3  9116 -46.282651  0.164969  -7.989467  -0.000000\n",
       "4   294 -44.627395  0.213603  -9.570962  -0.000000\n",
       "5  7634  44.388611  0.742768  -0.000000 -12.113462\n",
       "6  8409  44.028348  0.284715  12.696785   0.000000\n",
       "7  5821 -43.885460  0.153316  -6.377281  -0.000000\n",
       "8  8085 -43.798883  0.247829 -11.536566  -0.000000\n",
       "9   731  43.545110  0.165439   6.820135   0.000000"
      ]
     },
     "metadata": {},
     "output_type": "display_data"
    }
   ],
   "source": [
    "# 3. Influence diagnostics\n",
    "print(\"\\n--- 3. Influence Diagnostics ---\")\n",
    "influence = ate_ortho_check['influence_diagnostics']\n",
    "print(f\"Interpretation: {influence['interpretation']}\")\n",
    "\n",
    "print(\"\\nFull sample influence metrics:\")\n",
    "print(f\"  Plugin SE: {influence['full_sample']['se_plugin']:.4f}\")\n",
    "print(f\"  Kurtosis: {influence['full_sample']['kurtosis']:.2f}\")\n",
    "print(f\"  P99/Median ratio: {influence['full_sample']['p99_over_med']:.2f}\")\n",
    "\n",
    "print(\"\\nTrimmed sample influence metrics:\")\n",
    "print(f\"  Plugin SE: {influence['trimmed_sample']['se_plugin']:.4f}\")\n",
    "print(f\"  Kurtosis: {influence['trimmed_sample']['kurtosis']:.2f}\")\n",
    "print(f\"  P99/Median ratio: {influence['trimmed_sample']['p99_over_med']:.2f}\")\n",
    "\n",
    "print(\"\\nTop influential observations (full sample):\")\n",
    "display(influence['full_sample']['top_influential'])\n"
   ]
  },
  {
   "cell_type": "code",
   "execution_count": 23,
   "id": "b52d415397857df4",
   "metadata": {
    "ExecuteTime": {
     "end_time": "2025-08-19T11:47:30.915829Z",
     "start_time": "2025-08-19T11:47:30.913968Z"
    }
   },
   "outputs": [
    {
     "name": "stdout",
     "output_type": "stream",
     "text": [
      "\n",
      "--- Propensity Score Trimming ---\n",
      "Trimming bounds: (0.02, 0.98)\n",
      "Observations trimmed: 0 (0.0%)\n"
     ]
    }
   ],
   "source": [
    "# Trimming information\n",
    "print(\"\\n--- Propensity Score Trimming ---\")\n",
    "trim_info = ate_ortho_check['trimming_info']\n",
    "print(f\"Trimming bounds: {trim_info['bounds']}\")\n",
    "print(f\"Observations trimmed: {trim_info['n_trimmed']} ({trim_info['pct_trimmed']:.1f}%)\")\n"
   ]
  },
  {
   "cell_type": "markdown",
   "id": "e9ecebc8b3b63044",
   "metadata": {},
   "source": [
    "In this test we analyze distribution of theta before trimming and after. There is no big difference. So test passed"
   ]
  },
  {
   "cell_type": "code",
   "execution_count": 24,
   "id": "a7148449888110e7",
   "metadata": {
    "ExecuteTime": {
     "end_time": "2025-08-19T11:47:30.961088Z",
     "start_time": "2025-08-19T11:47:30.958570Z"
    }
   },
   "outputs": [
    {
     "name": "stdout",
     "output_type": "stream",
     "text": [
      "\n",
      "--- Diagnostic Conditions Assessment ---\n",
      "Individual condition checks:\n",
      "  oos_moment_ok: ✓ PASS\n",
      "  derivs_full_ok: ✓ PASS\n",
      "  derivs_trim_ok: ✓ PASS\n",
      "  se_reasonable: ✓ PASS\n",
      "  no_extreme_influence: ✓ PASS\n",
      "  trimming_reasonable: ✓ PASS\n",
      "\n",
      "Overall: PASS: Strong evidence for orthogonality\n"
     ]
    }
   ],
   "source": [
    "# Diagnostic conditions breakdown\n",
    "print(\"\\n--- Diagnostic Conditions Assessment ---\")\n",
    "conditions = ate_ortho_check['diagnostic_conditions']\n",
    "\n",
    "print(\"Individual condition checks:\")\n",
    "for condition, passed in conditions.items():\n",
    "    status = \"✓ PASS\" if passed else \"✗ FAIL\"\n",
    "    print(f\"  {condition}: {status}\")\n",
    "\n",
    "print(f\"\\nOverall: {ate_ortho_check['overall_assessment']}\")\n"
   ]
  },
  {
   "cell_type": "markdown",
   "id": "38ab43ed65b1cbb2",
   "metadata": {},
   "source": [
    "### Sensitivity analysis"
   ]
  },
  {
   "cell_type": "markdown",
   "id": "901bd32478daa38f",
   "metadata": {},
   "source": [
    "Let's analyze how unobserved confounder could look"
   ]
  },
  {
   "cell_type": "code",
   "execution_count": 25,
   "id": "456241290639e32a",
   "metadata": {
    "ExecuteTime": {
     "end_time": "2025-08-19T11:57:15.366245Z",
     "start_time": "2025-08-19T11:57:13.422603Z"
    }
   },
   "outputs": [],
   "source": [
    "bench_sets = causal_data.confounders\n",
    "res = sensitivity_analysis_set(\n",
    "    ate_result,\n",
    "    benchmarking_set=bench_sets,\n",
    "    level=0.95,\n",
    "    null_hypothesis=0.0,\n",
    ")"
   ]
  },
  {
   "cell_type": "code",
   "execution_count": 26,
   "id": "f462af369a4f852c",
   "metadata": {
    "ExecuteTime": {
     "end_time": "2025-08-19T12:02:00.682509Z",
     "start_time": "2025-08-19T12:02:00.678087Z"
    }
   },
   "outputs": [],
   "source": [
    "# Build a DataFrame with confounders as rows and the metrics as columns\n",
    "summary_df = pd.DataFrame({\n",
    "    name: (df.loc['t'] if 't' in df.index else df.iloc[0])\n",
    "    for name, df in res.items()\n",
    "}).T\n"
   ]
  },
  {
   "cell_type": "code",
   "execution_count": 27,
   "id": "4b98ad6e1e9b07ed",
   "metadata": {
    "ExecuteTime": {
     "end_time": "2025-08-19T12:02:04.229145Z",
     "start_time": "2025-08-19T12:02:04.224539Z"
    }
   },
   "outputs": [
    {
     "data": {
      "text/html": [
       "<div>\n",
       "<style scoped>\n",
       "    .dataframe tbody tr th:only-of-type {\n",
       "        vertical-align: middle;\n",
       "    }\n",
       "\n",
       "    .dataframe tbody tr th {\n",
       "        vertical-align: top;\n",
       "    }\n",
       "\n",
       "    .dataframe thead th {\n",
       "        text-align: right;\n",
       "    }\n",
       "</style>\n",
       "<table border=\"1\" class=\"dataframe\">\n",
       "  <thead>\n",
       "    <tr style=\"text-align: right;\">\n",
       "      <th></th>\n",
       "      <th>cf_y</th>\n",
       "      <th>cf_d</th>\n",
       "      <th>rho</th>\n",
       "      <th>delta_theta</th>\n",
       "    </tr>\n",
       "  </thead>\n",
       "  <tbody>\n",
       "    <tr>\n",
       "      <th>tenure_months</th>\n",
       "      <td>0.019343</td>\n",
       "      <td>0.004555</td>\n",
       "      <td>1.000000</td>\n",
       "      <td>0.125310</td>\n",
       "    </tr>\n",
       "    <tr>\n",
       "      <th>avg_sessions_week</th>\n",
       "      <td>0.031075</td>\n",
       "      <td>0.010474</td>\n",
       "      <td>1.000000</td>\n",
       "      <td>0.172854</td>\n",
       "    </tr>\n",
       "    <tr>\n",
       "      <th>spend_last_month</th>\n",
       "      <td>0.080634</td>\n",
       "      <td>0.006735</td>\n",
       "      <td>0.982448</td>\n",
       "      <td>0.177995</td>\n",
       "    </tr>\n",
       "    <tr>\n",
       "      <th>premium_user</th>\n",
       "      <td>0.062270</td>\n",
       "      <td>0.031318</td>\n",
       "      <td>1.000000</td>\n",
       "      <td>0.360557</td>\n",
       "    </tr>\n",
       "    <tr>\n",
       "      <th>urban_resident</th>\n",
       "      <td>0.018716</td>\n",
       "      <td>0.000000</td>\n",
       "      <td>1.000000</td>\n",
       "      <td>0.093394</td>\n",
       "    </tr>\n",
       "  </tbody>\n",
       "</table>\n",
       "</div>"
      ],
      "text/plain": [
       "                       cf_y      cf_d       rho  delta_theta\n",
       "tenure_months      0.019343  0.004555  1.000000     0.125310\n",
       "avg_sessions_week  0.031075  0.010474  1.000000     0.172854\n",
       "spend_last_month   0.080634  0.006735  0.982448     0.177995\n",
       "premium_user       0.062270  0.031318  1.000000     0.360557\n",
       "urban_resident     0.018716  0.000000  1.000000     0.093394"
      ]
     },
     "execution_count": 27,
     "metadata": {},
     "output_type": "execute_result"
    }
   ],
   "source": [
    "summary_df"
   ]
  },
  {
   "cell_type": "markdown",
   "id": "31ea0a07d0f697da",
   "metadata": {},
   "source": [
    "It is business domain and data knowledge relative question. In this situation we will stop on the most influential confounder 'premium_user' and test theta when we do not observe anothere confounder with strength of 'premium_user'"
   ]
  },
  {
   "cell_type": "code",
   "execution_count": 28,
   "id": "24a0ebbc20be48f3",
   "metadata": {
    "ExecuteTime": {
     "end_time": "2025-08-19T12:03:03.162187Z",
     "start_time": "2025-08-19T12:03:03.148354Z"
    }
   },
   "outputs": [
    {
     "name": "stdout",
     "output_type": "stream",
     "text": [
      "================== Sensitivity Analysis ==================\n",
      "\n",
      "------------------ Scenario          ------------------\n",
      "Significance Level: level=0.95\n",
      "Sensitivity parameters: cf_y=0.06; cf_d=0.03, rho=1.0\n",
      "\n",
      "------------------ Bounds with CI    ------------------\n",
      "   CI lower  theta lower     theta  theta upper  CI upper\n",
      "t  1.284916     1.418741  1.754775      2.09081  2.224353\n",
      "\n",
      "------------------ Robustness Values ------------------\n",
      "   H_0     RV (%)    RVa (%)\n",
      "t  0.0  20.106836  18.701604\n"
     ]
    }
   ],
   "source": [
    "# Run sensitivity analysis on our ATE result\n",
    "sensitivity_report_1 = sensitivity_analysis(\n",
    "    ate_result,\n",
    "    cf_y=0.06,  # Confounding strength affecting outcome\n",
    "    cf_d=0.03,  # Confounding strength affecting treatment\n",
    "    rho=1.0     # Perfect correlation between unobserved confounders\n",
    ")\n",
    "\n",
    "print(sensitivity_report_1)"
   ]
  },
  {
   "cell_type": "markdown",
   "id": "429678757060bd93",
   "metadata": {},
   "source": [
    "CI lower >> 0. It means test is passed"
   ]
  },
  {
   "cell_type": "code",
   "execution_count": null,
   "id": "a068dbfd9c3a2875",
   "metadata": {},
   "outputs": [],
   "source": []
  }
 ],
 "metadata": {
  "kernelspec": {
   "display_name": "Python 3",
   "language": "python",
   "name": "python3"
  },
  "language_info": {
   "codemirror_mode": {
    "name": "ipython",
    "version": 3
   },
   "file_extension": ".py",
   "mimetype": "text/x-python",
   "name": "python",
   "nbconvert_exporter": "python",
   "pygments_lexer": "ipython3",
   "version": "3.13.5"
  }
 },
 "nbformat": 4,
 "nbformat_minor": 5
}
