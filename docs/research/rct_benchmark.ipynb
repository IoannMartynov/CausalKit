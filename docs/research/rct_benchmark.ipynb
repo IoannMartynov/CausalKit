{
 "cells": [
  {
   "metadata": {},
   "cell_type": "markdown",
   "source": "# RCT Benchmark: t-test vs Linear Regression vs DML ATE",
   "id": "6eb84e9ffd2b3c8e"
  },
  {
   "metadata": {
    "ExecuteTime": {
     "end_time": "2025-09-07T15:55:17.441055Z",
     "start_time": "2025-09-07T15:55:16.061462Z"
    }
   },
   "cell_type": "code",
   "source": [
    "import numpy as np\n",
    "import pandas as pd\n",
    "\n",
    "from causalis.data.generators import generate_rct\n",
    "from causalis.data.causaldata import CausalData\n",
    "from causalis.inference.atte.ttest import ttest\n",
    "from causalis.inference.ate.dml_ate_source import dml_ate_source\n",
    "\n",
    "np.random.seed(42)\n"
   ],
   "id": "73682fda2593fe63",
   "outputs": [],
   "execution_count": 1
  },
  {
   "metadata": {},
   "cell_type": "markdown",
   "source": [
    "## Generate RCT data\n",
    "We'll generate a balanced (50/50) RCT with a continuous outcome where the treated group's mean exceeds control by 0.5 units.\n"
   ],
   "id": "1b3041813cb5c602"
  },
  {
   "metadata": {
    "ExecuteTime": {
     "end_time": "2025-09-07T15:55:17.452013Z",
     "start_time": "2025-09-07T15:55:17.444395Z"
    }
   },
   "cell_type": "code",
   "source": [
    "# Generate clean RCT without legacy ancillary columns\n",
    "n = 10000\n",
    "theta = 0.5\n",
    "\n",
    "df = generate_rct(\n",
    "    n=n,\n",
    "    split=0.5,\n",
    "    random_state=42,\n",
    "    target_type=\"normal\",\n",
    "    target_params={\"mean\": {\"A\": 0.0, \"B\": theta}, \"std\": 1.0},\n",
    "    k=5,                  # 5 pre-treatment covariates X independent of T\n",
    "    add_ancillary=False   # <- no legacy/post-treatment columns\n",
    ")\n",
    "\n",
    "# Use only baseline X columns as confounders\n",
    "confounders = [c for c in df.columns if c.startswith(\"x\")]\n",
    "\n",
    "# Wrap in CausalData with new column names\n",
    "causal_data = CausalData(\n",
    "    df=df,\n",
    "    treatment='t',\n",
    "    outcome='y',\n",
    "    confounders=confounders\n",
    ")"
   ],
   "id": "7f1b7fb97db0c21d",
   "outputs": [],
   "execution_count": 2
  },
  {
   "metadata": {
    "ExecuteTime": {
     "end_time": "2025-09-07T15:55:17.461898Z",
     "start_time": "2025-09-07T15:55:17.455781Z"
    }
   },
   "cell_type": "code",
   "source": "causal_data.df.head(100)",
   "id": "59de45a53b440ba4",
   "outputs": [
    {
     "data": {
      "text/plain": [
       "           y    t        x1        x2        x3        x4        x5\n",
       "0   0.302852  0.0  0.304717 -1.039984  0.750451  0.940565 -1.951035\n",
       "1  -0.942206  1.0 -1.302180  0.127840 -0.316243 -0.016801 -0.853044\n",
       "2   0.910524  1.0  0.879398  0.777792  0.066031  1.127241  0.467509\n",
       "3   2.332408  1.0 -0.859292  0.368751 -0.958883  0.878450 -0.049926\n",
       "4  -1.012732  0.0 -0.184862 -0.680930  1.222541 -0.154529 -0.428328\n",
       "..       ...  ...       ...       ...       ...       ...       ...\n",
       "95  0.305495  0.0 -0.339258  1.063852 -1.141938  0.006339  2.597674\n",
       "96 -0.865824  1.0  0.223080  1.433215  0.091520  0.580777 -0.056783\n",
       "97 -0.027818  1.0 -0.170408 -0.779482  0.430301 -0.851537  0.665585\n",
       "98 -1.263472  0.0  1.085287  0.366531 -0.286249  0.453966 -0.308673\n",
       "99 -0.421367  0.0  0.935547 -1.831406 -0.335607 -1.990812 -1.495061\n",
       "\n",
       "[100 rows x 7 columns]"
      ],
      "text/html": [
       "<div>\n",
       "<style scoped>\n",
       "    .dataframe tbody tr th:only-of-type {\n",
       "        vertical-align: middle;\n",
       "    }\n",
       "\n",
       "    .dataframe tbody tr th {\n",
       "        vertical-align: top;\n",
       "    }\n",
       "\n",
       "    .dataframe thead th {\n",
       "        text-align: right;\n",
       "    }\n",
       "</style>\n",
       "<table border=\"1\" class=\"dataframe\">\n",
       "  <thead>\n",
       "    <tr style=\"text-align: right;\">\n",
       "      <th></th>\n",
       "      <th>y</th>\n",
       "      <th>t</th>\n",
       "      <th>x1</th>\n",
       "      <th>x2</th>\n",
       "      <th>x3</th>\n",
       "      <th>x4</th>\n",
       "      <th>x5</th>\n",
       "    </tr>\n",
       "  </thead>\n",
       "  <tbody>\n",
       "    <tr>\n",
       "      <th>0</th>\n",
       "      <td>0.302852</td>\n",
       "      <td>0.0</td>\n",
       "      <td>0.304717</td>\n",
       "      <td>-1.039984</td>\n",
       "      <td>0.750451</td>\n",
       "      <td>0.940565</td>\n",
       "      <td>-1.951035</td>\n",
       "    </tr>\n",
       "    <tr>\n",
       "      <th>1</th>\n",
       "      <td>-0.942206</td>\n",
       "      <td>1.0</td>\n",
       "      <td>-1.302180</td>\n",
       "      <td>0.127840</td>\n",
       "      <td>-0.316243</td>\n",
       "      <td>-0.016801</td>\n",
       "      <td>-0.853044</td>\n",
       "    </tr>\n",
       "    <tr>\n",
       "      <th>2</th>\n",
       "      <td>0.910524</td>\n",
       "      <td>1.0</td>\n",
       "      <td>0.879398</td>\n",
       "      <td>0.777792</td>\n",
       "      <td>0.066031</td>\n",
       "      <td>1.127241</td>\n",
       "      <td>0.467509</td>\n",
       "    </tr>\n",
       "    <tr>\n",
       "      <th>3</th>\n",
       "      <td>2.332408</td>\n",
       "      <td>1.0</td>\n",
       "      <td>-0.859292</td>\n",
       "      <td>0.368751</td>\n",
       "      <td>-0.958883</td>\n",
       "      <td>0.878450</td>\n",
       "      <td>-0.049926</td>\n",
       "    </tr>\n",
       "    <tr>\n",
       "      <th>4</th>\n",
       "      <td>-1.012732</td>\n",
       "      <td>0.0</td>\n",
       "      <td>-0.184862</td>\n",
       "      <td>-0.680930</td>\n",
       "      <td>1.222541</td>\n",
       "      <td>-0.154529</td>\n",
       "      <td>-0.428328</td>\n",
       "    </tr>\n",
       "    <tr>\n",
       "      <th>...</th>\n",
       "      <td>...</td>\n",
       "      <td>...</td>\n",
       "      <td>...</td>\n",
       "      <td>...</td>\n",
       "      <td>...</td>\n",
       "      <td>...</td>\n",
       "      <td>...</td>\n",
       "    </tr>\n",
       "    <tr>\n",
       "      <th>95</th>\n",
       "      <td>0.305495</td>\n",
       "      <td>0.0</td>\n",
       "      <td>-0.339258</td>\n",
       "      <td>1.063852</td>\n",
       "      <td>-1.141938</td>\n",
       "      <td>0.006339</td>\n",
       "      <td>2.597674</td>\n",
       "    </tr>\n",
       "    <tr>\n",
       "      <th>96</th>\n",
       "      <td>-0.865824</td>\n",
       "      <td>1.0</td>\n",
       "      <td>0.223080</td>\n",
       "      <td>1.433215</td>\n",
       "      <td>0.091520</td>\n",
       "      <td>0.580777</td>\n",
       "      <td>-0.056783</td>\n",
       "    </tr>\n",
       "    <tr>\n",
       "      <th>97</th>\n",
       "      <td>-0.027818</td>\n",
       "      <td>1.0</td>\n",
       "      <td>-0.170408</td>\n",
       "      <td>-0.779482</td>\n",
       "      <td>0.430301</td>\n",
       "      <td>-0.851537</td>\n",
       "      <td>0.665585</td>\n",
       "    </tr>\n",
       "    <tr>\n",
       "      <th>98</th>\n",
       "      <td>-1.263472</td>\n",
       "      <td>0.0</td>\n",
       "      <td>1.085287</td>\n",
       "      <td>0.366531</td>\n",
       "      <td>-0.286249</td>\n",
       "      <td>0.453966</td>\n",
       "      <td>-0.308673</td>\n",
       "    </tr>\n",
       "    <tr>\n",
       "      <th>99</th>\n",
       "      <td>-0.421367</td>\n",
       "      <td>0.0</td>\n",
       "      <td>0.935547</td>\n",
       "      <td>-1.831406</td>\n",
       "      <td>-0.335607</td>\n",
       "      <td>-1.990812</td>\n",
       "      <td>-1.495061</td>\n",
       "    </tr>\n",
       "  </tbody>\n",
       "</table>\n",
       "<p>100 rows × 7 columns</p>\n",
       "</div>"
      ]
     },
     "execution_count": 3,
     "metadata": {},
     "output_type": "execute_result"
    }
   ],
   "execution_count": 3
  },
  {
   "metadata": {},
   "cell_type": "markdown",
   "source": [
    "## Wrap in CausalData\n",
    "We provide a few covariates as confounders for DML (although the data is truly randomized).\n"
   ],
   "id": "352db8d7c36ec10f"
  },
  {
   "metadata": {
    "ExecuteTime": {
     "end_time": "2025-09-07T15:55:17.485104Z",
     "start_time": "2025-09-07T15:55:17.481744Z"
    }
   },
   "cell_type": "code",
   "source": [
    "from causalis.eda import CausalEDA\n",
    "eda = CausalEDA(causal_data)"
   ],
   "id": "ddb9d7d52e52dc41",
   "outputs": [],
   "execution_count": 4
  },
  {
   "metadata": {
    "ExecuteTime": {
     "end_time": "2025-09-07T15:55:17.568892Z",
     "start_time": "2025-09-07T15:55:17.561177Z"
    }
   },
   "cell_type": "code",
   "source": [
    "# 1) Outcome statistics by treatment\n",
    "eda.outcome_stats()"
   ],
   "id": "90489de05f8088f4",
   "outputs": [
    {
     "data": {
      "text/plain": [
       "           count      mean       std       min       p10       p25    median  \\\n",
       "treatment                                                                      \n",
       "0.0         5010 -0.009797  1.005403 -3.482370 -1.290654 -0.684156 -0.014663   \n",
       "1.0         4990  0.519886  1.007209 -3.021571 -0.746023 -0.165270  0.503424   \n",
       "\n",
       "                p75       p90       max  \n",
       "treatment                                \n",
       "0.0        0.657298  1.286337  3.627004  \n",
       "1.0        1.206379  1.790902  3.885919  "
      ],
      "text/html": [
       "<div>\n",
       "<style scoped>\n",
       "    .dataframe tbody tr th:only-of-type {\n",
       "        vertical-align: middle;\n",
       "    }\n",
       "\n",
       "    .dataframe tbody tr th {\n",
       "        vertical-align: top;\n",
       "    }\n",
       "\n",
       "    .dataframe thead th {\n",
       "        text-align: right;\n",
       "    }\n",
       "</style>\n",
       "<table border=\"1\" class=\"dataframe\">\n",
       "  <thead>\n",
       "    <tr style=\"text-align: right;\">\n",
       "      <th></th>\n",
       "      <th>count</th>\n",
       "      <th>mean</th>\n",
       "      <th>std</th>\n",
       "      <th>min</th>\n",
       "      <th>p10</th>\n",
       "      <th>p25</th>\n",
       "      <th>median</th>\n",
       "      <th>p75</th>\n",
       "      <th>p90</th>\n",
       "      <th>max</th>\n",
       "    </tr>\n",
       "    <tr>\n",
       "      <th>treatment</th>\n",
       "      <th></th>\n",
       "      <th></th>\n",
       "      <th></th>\n",
       "      <th></th>\n",
       "      <th></th>\n",
       "      <th></th>\n",
       "      <th></th>\n",
       "      <th></th>\n",
       "      <th></th>\n",
       "      <th></th>\n",
       "    </tr>\n",
       "  </thead>\n",
       "  <tbody>\n",
       "    <tr>\n",
       "      <th>0.0</th>\n",
       "      <td>5010</td>\n",
       "      <td>-0.009797</td>\n",
       "      <td>1.005403</td>\n",
       "      <td>-3.482370</td>\n",
       "      <td>-1.290654</td>\n",
       "      <td>-0.684156</td>\n",
       "      <td>-0.014663</td>\n",
       "      <td>0.657298</td>\n",
       "      <td>1.286337</td>\n",
       "      <td>3.627004</td>\n",
       "    </tr>\n",
       "    <tr>\n",
       "      <th>1.0</th>\n",
       "      <td>4990</td>\n",
       "      <td>0.519886</td>\n",
       "      <td>1.007209</td>\n",
       "      <td>-3.021571</td>\n",
       "      <td>-0.746023</td>\n",
       "      <td>-0.165270</td>\n",
       "      <td>0.503424</td>\n",
       "      <td>1.206379</td>\n",
       "      <td>1.790902</td>\n",
       "      <td>3.885919</td>\n",
       "    </tr>\n",
       "  </tbody>\n",
       "</table>\n",
       "</div>"
      ]
     },
     "execution_count": 5,
     "metadata": {},
     "output_type": "execute_result"
    }
   ],
   "execution_count": 5
  },
  {
   "metadata": {
    "ExecuteTime": {
     "end_time": "2025-09-07T15:55:17.648117Z",
     "start_time": "2025-09-07T15:55:17.642438Z"
    }
   },
   "cell_type": "code",
   "source": [
    "# Shows means of confounders for control/treated groups, absolute differences, and SMD values\n",
    "confounders_balance_df = eda.confounders_means()\n",
    "display(confounders_balance_df)"
   ],
   "id": "161dab1ae41b6cff",
   "outputs": [
    {
     "data": {
      "text/plain": [
       "             mean_t_0  mean_t_1  abs_diff       smd\n",
       "confounders                                        \n",
       "x2          -0.014765  0.018033  0.032798  0.032770\n",
       "x1          -0.022735 -0.008229  0.014505  0.014486\n",
       "x5           0.007285 -0.006229  0.013514 -0.013459\n",
       "x3           0.014590  0.007731  0.006859 -0.006917\n",
       "x4          -0.000891 -0.000040  0.000850  0.000838"
      ],
      "text/html": [
       "<div>\n",
       "<style scoped>\n",
       "    .dataframe tbody tr th:only-of-type {\n",
       "        vertical-align: middle;\n",
       "    }\n",
       "\n",
       "    .dataframe tbody tr th {\n",
       "        vertical-align: top;\n",
       "    }\n",
       "\n",
       "    .dataframe thead th {\n",
       "        text-align: right;\n",
       "    }\n",
       "</style>\n",
       "<table border=\"1\" class=\"dataframe\">\n",
       "  <thead>\n",
       "    <tr style=\"text-align: right;\">\n",
       "      <th></th>\n",
       "      <th>mean_t_0</th>\n",
       "      <th>mean_t_1</th>\n",
       "      <th>abs_diff</th>\n",
       "      <th>smd</th>\n",
       "    </tr>\n",
       "    <tr>\n",
       "      <th>confounders</th>\n",
       "      <th></th>\n",
       "      <th></th>\n",
       "      <th></th>\n",
       "      <th></th>\n",
       "    </tr>\n",
       "  </thead>\n",
       "  <tbody>\n",
       "    <tr>\n",
       "      <th>x2</th>\n",
       "      <td>-0.014765</td>\n",
       "      <td>0.018033</td>\n",
       "      <td>0.032798</td>\n",
       "      <td>0.032770</td>\n",
       "    </tr>\n",
       "    <tr>\n",
       "      <th>x1</th>\n",
       "      <td>-0.022735</td>\n",
       "      <td>-0.008229</td>\n",
       "      <td>0.014505</td>\n",
       "      <td>0.014486</td>\n",
       "    </tr>\n",
       "    <tr>\n",
       "      <th>x5</th>\n",
       "      <td>0.007285</td>\n",
       "      <td>-0.006229</td>\n",
       "      <td>0.013514</td>\n",
       "      <td>-0.013459</td>\n",
       "    </tr>\n",
       "    <tr>\n",
       "      <th>x3</th>\n",
       "      <td>0.014590</td>\n",
       "      <td>0.007731</td>\n",
       "      <td>0.006859</td>\n",
       "      <td>-0.006917</td>\n",
       "    </tr>\n",
       "    <tr>\n",
       "      <th>x4</th>\n",
       "      <td>-0.000891</td>\n",
       "      <td>-0.000040</td>\n",
       "      <td>0.000850</td>\n",
       "      <td>0.000838</td>\n",
       "    </tr>\n",
       "  </tbody>\n",
       "</table>\n",
       "</div>"
      ]
     },
     "metadata": {},
     "output_type": "display_data",
     "jetTransient": {
      "display_id": null
     }
    }
   ],
   "execution_count": 6
  },
  {
   "metadata": {},
   "cell_type": "markdown",
   "source": "## 1) t-test (difference in means)\n",
   "id": "a6cc45b2310b91db"
  },
  {
   "metadata": {
    "ExecuteTime": {
     "end_time": "2025-09-07T15:55:17.677177Z",
     "start_time": "2025-09-07T15:55:17.672869Z"
    }
   },
   "cell_type": "code",
   "source": [
    "tt_res = ttest(causal_data, confidence_level=0.95)\n",
    "tt_res\n"
   ],
   "id": "2c00bf0954e91fa5",
   "outputs": [
    {
     "data": {
      "text/plain": [
       "{'p_value': 1.176719325899924e-147,\n",
       " 'absolute_difference': 0.5296827782315828,\n",
       " 'absolute_ci': (0.49023151024069744, 0.5691340462224682),\n",
       " 'relative_difference': 5406.753548476556,\n",
       " 'relative_ci': (5004.053494844908, 5809.453602108204)}"
      ]
     },
     "execution_count": 7,
     "metadata": {},
     "output_type": "execute_result"
    }
   ],
   "execution_count": 7
  },
  {
   "metadata": {},
   "cell_type": "markdown",
   "source": [
    "## 2) Linear regression\n",
    "The coefficient on treatment equals the difference in group means in an RCT.\n"
   ],
   "id": "2b7cf68e347aece4"
  },
  {
   "metadata": {
    "ExecuteTime": {
     "end_time": "2025-09-07T15:55:17.706190Z",
     "start_time": "2025-09-07T15:55:17.697833Z"
    }
   },
   "cell_type": "code",
   "source": [
    "# Python\n",
    "import numpy as np\n",
    "import statsmodels.api as sm\n",
    "\n",
    "# Outcome\n",
    "y = causal_data.target.to_numpy()\n",
    "\n",
    "# Base X (no centering)\n",
    "X_base = causal_data.df[confounders].to_numpy()\n",
    "xbar = X_base.mean(axis=0)  # means of confounders, shape (p,)\n",
    "\n",
    "# Treatment and interactions\n",
    "T = causal_data.treatment.to_numpy().reshape(-1, 1)\n",
    "TX = X_base * T\n",
    "\n",
    "# Design matrix: intercept + T + X + T*X\n",
    "X_design = np.column_stack([np.ones(len(T)), T, X_base, TX])\n",
    "\n",
    "# Fit OLS with robust SE\n",
    "res = sm.OLS(y, X_design).fit(cov_type=\"HC3\")\n",
    "\n",
    "# Dimensions and index bookkeeping\n",
    "p = X_base.shape[1]\n",
    "idx_const = 0\n",
    "idx_T = 1\n",
    "idx_X_start = 2\n",
    "idx_X_end = idx_X_start + p       # exclusive\n",
    "idx_TX_start = idx_X_end\n",
    "idx_TX_end = idx_TX_start + p     # exclusive\n",
    "\n",
    "# Parameter vector is [const, beta_T, beta_X (p), gamma_TX (p)]\n",
    "beta = res.params\n",
    "V = res.cov_params()\n",
    "\n",
    "# Average treatment effect under the linear-interaction model:\n",
    "# theta = beta_T + xbar' * gamma\n",
    "theta_hat = float(beta[idx_T] + (xbar @ beta[idx_TX_start:idx_TX_end]))\n",
    "\n",
    "# Delta-method variance: Var(a' beta) = a' V a\n",
    "a = np.zeros_like(beta)\n",
    "a[idx_T] = 1.0\n",
    "a[idx_TX_start:idx_TX_end] = xbar\n",
    "var_theta = float(a @ V @ a)\n",
    "se_theta = float(np.sqrt(max(var_theta, 0.0)))\n",
    "\n",
    "# 95% CI (normal approx)\n",
    "from scipy.stats import norm\n",
    "z = norm.ppf(0.975)\n",
    "ci_low = theta_hat - z * se_theta\n",
    "ci_high = theta_hat + z * se_theta\n",
    "\n",
    "# Two-sided p-value for H0: theta = 0\n",
    "zstat = theta_hat / se_theta if se_theta > 0 else np.inf\n",
    "pval = 2 * (1 - norm.cdf(abs(zstat)))\n",
    "\n",
    "theta_hat, (ci_low, ci_high), se_theta, pval"
   ],
   "id": "eb2a3ba47ae01561",
   "outputs": [
    {
     "data": {
      "text/plain": [
       "(0.5294584904981685,\n",
       " (np.float64(0.4899759986996098), np.float64(0.5689409822967272)),\n",
       " 0.02014449862854194,\n",
       " np.float64(0.0))"
      ]
     },
     "execution_count": 8,
     "metadata": {},
     "output_type": "execute_result"
    }
   ],
   "execution_count": 8
  },
  {
   "metadata": {},
   "cell_type": "markdown",
   "source": [
    "## 3) Double Machine Learning (ATE)\n",
    "We estimate ATE using DoubleML with default learners.\n"
   ],
   "id": "7920425e58d95342"
  },
  {
   "metadata": {
    "ExecuteTime": {
     "end_time": "2025-09-07T15:55:18.234360Z",
     "start_time": "2025-09-07T15:55:17.711611Z"
    }
   },
   "cell_type": "code",
   "source": [
    "dml_res = dml_ate_source(causal_data, n_folds=3, confidence_level=0.95)\n",
    "dml_res\n"
   ],
   "id": "cb3d1583525ec8",
   "outputs": [
    {
     "data": {
      "text/plain": [
       "{'coefficient': 0.5438121651196453,\n",
       " 'std_error': 0.021106462512239948,\n",
       " 'p_value': 2.1780238928091667e-146,\n",
       " 'confidence_interval': (0.5024442587546102, 0.5851800714846803),\n",
       " 'model': <doubleml.irm.irm.DoubleMLIRM at 0x1683801a0>}"
      ]
     },
     "execution_count": 9,
     "metadata": {},
     "output_type": "execute_result"
    }
   ],
   "execution_count": 9
  },
  {
   "metadata": {},
   "cell_type": "markdown",
   "source": "## Compare estimates\n",
   "id": "f16a6f168f94dd51"
  },
  {
   "metadata": {
    "ExecuteTime": {
     "end_time": "2025-09-07T15:55:18.245471Z",
     "start_time": "2025-09-07T15:55:18.241552Z"
    }
   },
   "cell_type": "code",
   "source": [
    "tt_ci_low, tt_ci_high = tt_res['absolute_ci']              # from the t-test\n",
    "lin_ci_low, lin_ci_high = ci_low, ci_high                  # from your delta-method calc\n",
    "dml_ci_low, dml_ci_high = dml_res['confidence_interval']   # from DoubleML\n",
    "\n",
    "comparison = pd.DataFrame({\n",
    "    'method': ['t-test', 'linear_regression', 'dml_ate'],\n",
    "    'estimate': [\n",
    "        tt_res['absolute_difference'],\n",
    "        theta_hat,\n",
    "        dml_res['coefficient']\n",
    "    ],\n",
    "    'ci_lower': [\n",
    "        tt_ci_low,\n",
    "        lin_ci_low,\n",
    "        dml_ci_low\n",
    "    ],\n",
    "    'ci_upper': [\n",
    "        tt_ci_high,\n",
    "        lin_ci_high,\n",
    "        dml_ci_high\n",
    "    ]\n",
    "})\n",
    "\n",
    "comparison\n"
   ],
   "id": "fa803dd183b57108",
   "outputs": [
    {
     "data": {
      "text/plain": [
       "              method  estimate  ci_lower  ci_upper\n",
       "0             t-test  0.529683  0.490232  0.569134\n",
       "1  linear_regression  0.529458  0.489976  0.568941\n",
       "2            dml_ate  0.543812  0.502444  0.585180"
      ],
      "text/html": [
       "<div>\n",
       "<style scoped>\n",
       "    .dataframe tbody tr th:only-of-type {\n",
       "        vertical-align: middle;\n",
       "    }\n",
       "\n",
       "    .dataframe tbody tr th {\n",
       "        vertical-align: top;\n",
       "    }\n",
       "\n",
       "    .dataframe thead th {\n",
       "        text-align: right;\n",
       "    }\n",
       "</style>\n",
       "<table border=\"1\" class=\"dataframe\">\n",
       "  <thead>\n",
       "    <tr style=\"text-align: right;\">\n",
       "      <th></th>\n",
       "      <th>method</th>\n",
       "      <th>estimate</th>\n",
       "      <th>ci_lower</th>\n",
       "      <th>ci_upper</th>\n",
       "    </tr>\n",
       "  </thead>\n",
       "  <tbody>\n",
       "    <tr>\n",
       "      <th>0</th>\n",
       "      <td>t-test</td>\n",
       "      <td>0.529683</td>\n",
       "      <td>0.490232</td>\n",
       "      <td>0.569134</td>\n",
       "    </tr>\n",
       "    <tr>\n",
       "      <th>1</th>\n",
       "      <td>linear_regression</td>\n",
       "      <td>0.529458</td>\n",
       "      <td>0.489976</td>\n",
       "      <td>0.568941</td>\n",
       "    </tr>\n",
       "    <tr>\n",
       "      <th>2</th>\n",
       "      <td>dml_ate</td>\n",
       "      <td>0.543812</td>\n",
       "      <td>0.502444</td>\n",
       "      <td>0.585180</td>\n",
       "    </tr>\n",
       "  </tbody>\n",
       "</table>\n",
       "</div>"
      ]
     },
     "execution_count": 10,
     "metadata": {},
     "output_type": "execute_result"
    }
   ],
   "execution_count": 10
  },
  {
   "metadata": {},
   "cell_type": "markdown",
   "source": "Ground truth theta = 0.5",
   "id": "a1b0a3fc59120dd0"
  },
  {
   "metadata": {
    "ExecuteTime": {
     "end_time": "2025-09-07T15:55:18.278084Z",
     "start_time": "2025-09-07T15:55:18.276807Z"
    }
   },
   "cell_type": "code",
   "source": "",
   "id": "7aa36259e59cc4d0",
   "outputs": [],
   "execution_count": null
  }
 ],
 "metadata": {
  "kernelspec": {
   "name": "python3",
   "language": "python",
   "display_name": "Python 3 (ipykernel)"
  }
 },
 "nbformat": 4,
 "nbformat_minor": 5
}
